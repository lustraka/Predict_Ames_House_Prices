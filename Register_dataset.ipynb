{
 "cells": [
  {
   "cell_type": "code",
   "execution_count": 1,
   "id": "ad2f36c7",
   "metadata": {},
   "outputs": [],
   "source": [
    "import os\n",
    "import zipfile\n",
    "import pandas as pd\n",
    "\n",
    "from azureml.core import Workspace"
   ]
  },
  {
   "cell_type": "code",
   "execution_count": 2,
   "id": "c682b82d",
   "metadata": {},
   "outputs": [
    {
     "name": "stdout",
     "output_type": "stream",
     "text": [
      "quick-starts-ws-152157\n",
      "aml-quickstarts-152157\n",
      "southcentralus\n",
      "610d6e37-4747-4a20-80eb-3aad70a55f43\n"
     ]
    }
   ],
   "source": [
    "ws = Workspace.from_config()\n",
    "print(ws.name, ws.resource_group, ws.location, ws.subscription_id, sep='\\n')"
   ]
  },
  {
   "cell_type": "code",
   "execution_count": 3,
   "id": "431494fe",
   "metadata": {},
   "outputs": [
    {
     "data": {
      "text/plain": [
       "['.amlignore',\n",
       " '.amlignore.amltmp',\n",
       " '.ipynb_checkpoints',\n",
       " 'automl.ipynb',\n",
       " 'house-prices-advanced-regression-techniques.zip',\n",
       " 'Register_dataset.ipynb']"
      ]
     },
     "execution_count": 3,
     "metadata": {},
     "output_type": "execute_result"
    }
   ],
   "source": [
    "# Import dependencies\n",
    "! pip install kaggle --upgrade --quiet\n",
    "\n",
    "# Set the enviroment variables\n",
    "os.environ['KAGGLE_USERNAME'] = \"lubomrstraka\"\n",
    "os.environ['KAGGLE_KEY'] = \"c7347462ef834e6645ce238c2f2fa561\"\n",
    "\n",
    "# Download and unpack data\n",
    "! kaggle competitions download -c house-prices-advanced-regression-techniques --quiet\n",
    "os.listdir()"
   ]
  },
  {
   "cell_type": "code",
   "execution_count": 4,
   "id": "63cd478b",
   "metadata": {},
   "outputs": [
    {
     "data": {
      "text/plain": [
       "['.amlignore',\n",
       " '.amlignore.amltmp',\n",
       " '.ipynb_checkpoints',\n",
       " 'automl.ipynb',\n",
       " 'data_description.txt',\n",
       " 'house-prices-advanced-regression-techniques.zip',\n",
       " 'Register_dataset.ipynb',\n",
       " 'sample_submission.csv',\n",
       " 'test.csv',\n",
       " 'train.csv']"
      ]
     },
     "execution_count": 4,
     "metadata": {},
     "output_type": "execute_result"
    }
   ],
   "source": [
    "# Extract data\n",
    "with zipfile.ZipFile('house-prices-advanced-regression-techniques.zip', 'r') as archive:\n",
    "    archive.extractall()\n",
    "os.listdir()"
   ]
  },
  {
   "cell_type": "code",
   "execution_count": 5,
   "id": "b684e4de",
   "metadata": {},
   "outputs": [
    {
     "name": "stdout",
     "output_type": "stream",
     "text": [
      "train.shape = (1460, 80)\n"
     ]
    }
   ],
   "source": [
    "# # Read Train & Test Data\n",
    "train = pd.read_csv('train.csv', index_col='Id')\n",
    "# test = pd.read_csv('test.csv', index_col='Id')\n",
    "# print(f\"train.shape = {train.shape}, test.shape = {test.shape}\")\n",
    "print(f\"train.shape = {train.shape}\")"
   ]
  },
  {
   "cell_type": "code",
   "execution_count": 6,
   "id": "580f8f9d",
   "metadata": {},
   "outputs": [
    {
     "data": {
      "text/plain": [
       "{\n",
       "  \"name\": \"workspaceblobstore\",\n",
       "  \"container_name\": \"azureml-blobstore-f5ac63c4-1e7e-44e9-b33b-1e668d2cf0f1\",\n",
       "  \"account_name\": \"mlstrg152157\",\n",
       "  \"protocol\": \"https\",\n",
       "  \"endpoint\": \"core.windows.net\"\n",
       "}"
      ]
     },
     "execution_count": 6,
     "metadata": {},
     "output_type": "execute_result"
    }
   ],
   "source": [
    "from azureml.data.dataset_factory import TabularDatasetFactory\n",
    "blob = ws.get_default_datastore()\n",
    "blob"
   ]
  },
  {
   "cell_type": "code",
   "execution_count": 7,
   "id": "0ebc7d1b",
   "metadata": {},
   "outputs": [
    {
     "name": "stderr",
     "output_type": "stream",
     "text": [
      "Method register_pandas_dataframe: This is an experimental method, and may change at any time. Please see https://aka.ms/azuremlexperimental for more information.\n"
     ]
    },
    {
     "name": "stdout",
     "output_type": "stream",
     "text": [
      "Validating arguments.\n",
      "Arguments validated.\n",
      "Successfully obtained datastore reference and path.\n",
      "Uploading file to managed-dataset/1b094a17-f6cd-4390-b514-acaa32471c13/\n",
      "Successfully uploaded file to datastore.\n",
      "Creating and registering a new dataset.\n",
      "Successfully created and registered a new dataset.\n"
     ]
    }
   ],
   "source": [
    "# Create the final dataset for experiments\n",
    "train_ds = TabularDatasetFactory.register_pandas_dataframe(train, blob, name='Ames-housing-dataset',\n",
    "                                                          description='Ames housing training data before preprocessing.')"
   ]
  },
  {
   "cell_type": "code",
   "execution_count": null,
   "id": "f76778f2",
   "metadata": {},
   "outputs": [],
   "source": []
  }
 ],
 "metadata": {
  "kernelspec": {
   "display_name": "Python 3.6 - AzureML",
   "language": "python",
   "name": "python3-azureml"
  },
  "language_info": {
   "codemirror_mode": {
    "name": "ipython",
    "version": 3
   },
   "file_extension": ".py",
   "mimetype": "text/x-python",
   "name": "python",
   "nbconvert_exporter": "python",
   "pygments_lexer": "ipython3",
   "version": "3.6.9"
  }
 },
 "nbformat": 4,
 "nbformat_minor": 5
}
