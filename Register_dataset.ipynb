{
 "cells": [
  {
   "cell_type": "code",
   "execution_count": 1,
   "id": "ad2f36c7",
   "metadata": {},
   "outputs": [],
   "source": [
    "import os\n",
    "import zipfile\n",
    "import pandas as pd\n",
    "\n",
    "from azureml.core import Workspace"
   ]
  },
  {
   "cell_type": "code",
   "execution_count": 2,
   "id": "c682b82d",
   "metadata": {},
   "outputs": [
    {
     "name": "stdout",
     "output_type": "stream",
     "text": [
      "quick-starts-ws-152008\n",
      "aml-quickstarts-152008\n",
      "southcentralus\n",
      "9a7511b8-150f-4a58-8528-3e7d50216c31\n"
     ]
    }
   ],
   "source": [
    "ws = Workspace.from_config()\n",
    "print(ws.name, ws.resource_group, ws.location, ws.subscription_id, sep='\\n')"
   ]
  },
  {
   "cell_type": "code",
   "execution_count": 3,
   "id": "431494fe",
   "metadata": {},
   "outputs": [
    {
     "name": "stdout",
     "output_type": "stream",
     "text": [
      "Downloading mercari-price-suggestion-challenge.zip to /mnt/batch/tasks/shared/LS_root/mounts/clusters/aml-compute-inst/code/Users/odl_user_152008\n",
      " 97%|██████████████████████████████████████▉ | 393M/403M [00:06<00:00, 45.7MB/s]\n",
      "100%|████████████████████████████████████████| 403M/403M [00:08<00:00, 47.4MB/s]\n"
     ]
    }
   ],
   "source": [
    "# Import dependencies\n",
    "! pip install kaggle --upgrade --quiet\n",
    "! pip install py7zr --quiet\n",
    "\n",
    "import os\n",
    "import zipfile\n",
    "import pandas as pd\n",
    "\n",
    "# Set the enviroment variables\n",
    "os.environ['KAGGLE_USERNAME'] = \"lubomrstraka\"\n",
    "os.environ['KAGGLE_KEY'] = \"c7347462ef834e6645ce238c2f2fa561\"\n",
    "\n",
    "# Download and unpack data\n",
    "! kaggle competitions download -c mercari-price-suggestion-challenge"
   ]
  },
  {
   "cell_type": "code",
   "execution_count": 4,
   "id": "63cd478b",
   "metadata": {},
   "outputs": [],
   "source": [
    "# Extract data\n",
    "with zipfile.ZipFile('mercari-price-suggestion-challenge.zip', 'r') as archive:\n",
    "    archive.extract('train.tsv.7z')\n",
    "! py7zr x train.tsv.7z\n",
    "\n",
    "# Read data to pd.DataFrame\n",
    "train = pd.read_csv('train.tsv', sep='\\t')"
   ]
  },
  {
   "cell_type": "code",
   "execution_count": 5,
   "id": "580f8f9d",
   "metadata": {},
   "outputs": [],
   "source": [
    "from azureml.data.dataset_factory import TabularDatasetFactory\n",
    "blob = ws.get_default_datastore()"
   ]
  },
  {
   "cell_type": "code",
   "execution_count": 6,
   "id": "e606ae95",
   "metadata": {},
   "outputs": [
    {
     "data": {
      "text/plain": [
       "{\n",
       "  \"name\": \"workspaceblobstore\",\n",
       "  \"container_name\": \"azureml-blobstore-7f871435-0898-439b-907a-38cd186094ef\",\n",
       "  \"account_name\": \"mlstrg152008\",\n",
       "  \"protocol\": \"https\",\n",
       "  \"endpoint\": \"core.windows.net\"\n",
       "}"
      ]
     },
     "execution_count": 6,
     "metadata": {},
     "output_type": "execute_result"
    }
   ],
   "source": [
    "blob"
   ]
  },
  {
   "cell_type": "code",
   "execution_count": 7,
   "id": "0ebc7d1b",
   "metadata": {},
   "outputs": [
    {
     "name": "stderr",
     "output_type": "stream",
     "text": [
      "Method register_pandas_dataframe: This is an experimental method, and may change at any time. Please see https://aka.ms/azuremlexperimental for more information.\n"
     ]
    },
    {
     "name": "stdout",
     "output_type": "stream",
     "text": [
      "Validating arguments.\n",
      "Arguments validated.\n",
      "Successfully obtained datastore reference and path.\n",
      "Uploading file to managed-dataset/800d77b2-4a9f-47ff-bf0f-69188a904b72/\n",
      "Successfully uploaded file to datastore.\n",
      "Creating and registering a new dataset.\n",
      "Successfully created and registered a new dataset.\n"
     ]
    }
   ],
   "source": [
    "# Create the final dataset for experiments\n",
    "train_ds = TabularDatasetFactory.register_pandas_dataframe(train, blob, name='mercari-train-data',\n",
    "                                                          description='Mercari training data before preprocessing')"
   ]
  },
  {
   "cell_type": "code",
   "execution_count": null,
   "id": "f76778f2",
   "metadata": {},
   "outputs": [],
   "source": []
  }
 ],
 "metadata": {
  "kernelspec": {
   "display_name": "Python 3.6 - AzureML",
   "language": "python",
   "name": "python3-azureml"
  },
  "language_info": {
   "codemirror_mode": {
    "name": "ipython",
    "version": 3
   },
   "file_extension": ".py",
   "mimetype": "text/x-python",
   "name": "python",
   "nbconvert_exporter": "python",
   "pygments_lexer": "ipython3",
   "version": "3.6.9"
  }
 },
 "nbformat": 4,
 "nbformat_minor": 5
}
