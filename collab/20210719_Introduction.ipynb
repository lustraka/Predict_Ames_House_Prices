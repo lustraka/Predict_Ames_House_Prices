{
  "nbformat": 4,
  "nbformat_minor": 0,
  "metadata": {
    "colab": {
      "name": "20210719-Introduction.ipynb",
      "provenance": [],
      "authorship_tag": "ABX9TyP+Qg5KMuj6TuvR2huNFYti",
      "include_colab_link": true
    },
    "kernelspec": {
      "name": "python3",
      "display_name": "Python 3"
    },
    "language_info": {
      "name": "python"
    }
  },
  "cells": [
    {
      "cell_type": "markdown",
      "metadata": {
        "id": "view-in-github",
        "colab_type": "text"
      },
      "source": [
        "<a href=\"https://colab.research.google.com/github/lustraka/Predicting_future_sales/blob/main/collab/20210719_Introduction.ipynb\" target=\"_parent\"><img src=\"https://colab.research.google.com/assets/colab-badge.svg\" alt=\"Open In Colab\"/></a>"
      ]
    },
    {
      "cell_type": "code",
      "metadata": {
        "id": "X6g_MHUl1Ibf"
      },
      "source": [
        "#Set the enviroment variables\n",
        "import os\n",
        "os.environ['KAGGLE_USERNAME'] = \"lubomrstraka\"\n",
        "os.environ['KAGGLE_KEY'] = \"c7347462ef834e6645ce238c2f2fa561\""
      ],
      "execution_count": 1,
      "outputs": []
    },
    {
      "cell_type": "code",
      "metadata": {
        "colab": {
          "base_uri": "https://localhost:8080/"
        },
        "id": "TbiiFOq-1IYk",
        "outputId": "b393561e-7628-4d64-b4cb-4e84cda7dbd7"
      },
      "source": [
        "# Download datasets\n",
        "!kaggle competitions download -c competitive-data-science-predict-future-sales"
      ],
      "execution_count": 2,
      "outputs": [
        {
          "output_type": "stream",
          "text": [
            "Warning: Looks like you're using an outdated API Version, please consider updating (server 1.5.12 / client 1.5.4)\n",
            "sales_train.csv.zip: Skipping, found more recently modified local copy (use --force to force download)\n",
            "test.csv.zip: Skipping, found more recently modified local copy (use --force to force download)\n",
            "item_categories.csv: Skipping, found more recently modified local copy (use --force to force download)\n",
            "items.csv.zip: Skipping, found more recently modified local copy (use --force to force download)\n",
            "shops.csv: Skipping, found more recently modified local copy (use --force to force download)\n",
            "sample_submission.csv.zip: Skipping, found more recently modified local copy (use --force to force download)\n"
          ],
          "name": "stdout"
        }
      ]
    },
    {
      "cell_type": "code",
      "metadata": {
        "colab": {
          "base_uri": "https://localhost:8080/"
        },
        "id": "uu7XVWCn1IWE",
        "outputId": "cd27dc51-ab10-40d4-d07b-1132a5dcec93"
      },
      "source": [
        "# Unzip datasets\n",
        "import zipfile\n",
        "for file in [f for f in os.listdir() if f[-3:].lower() == 'zip']:\n",
        "  zip_ref = zipfile.ZipFile(file, 'r')\n",
        "  zip_ref.extractall()\n",
        "  zip_ref.close()\n",
        "\n",
        "[f for f in os.listdir() if f[-3:].lower() == 'csv']"
      ],
      "execution_count": 3,
      "outputs": [
        {
          "output_type": "execute_result",
          "data": {
            "text/plain": [
              "['shops.csv',\n",
              " 'items.csv',\n",
              " 'item_categories.csv',\n",
              " 'sales_train.csv',\n",
              " 'sample_submission.csv',\n",
              " 'test.csv']"
            ]
          },
          "metadata": {
            "tags": []
          },
          "execution_count": 3
        }
      ]
    }
  ]
}