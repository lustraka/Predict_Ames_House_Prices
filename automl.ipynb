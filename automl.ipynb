{
 "cells": [
  {
   "cell_type": "markdown",
   "metadata": {},
   "source": [
    "# Automated ML\n",
    "\n",
    "*TODO: Import Dependencies. In the cell below, import all the dependencies that you will need to complete the project.*"
   ]
  },
  {
   "cell_type": "code",
   "execution_count": 1,
   "metadata": {
    "gather": {
     "logged": 1629034408283
    },
    "jupyter": {
     "outputs_hidden": false,
     "source_hidden": false
    },
    "nteract": {
     "transient": {
      "deleting": false
     }
    }
   },
   "outputs": [],
   "source": [
    "import train_xgb # The module for loading external data\n",
    "import os\n",
    "import pandas as pd\n",
    "import json\n",
    "import ast\n",
    "import pickle\n",
    "from azureml.core.compute import ComputeTarget, AmlCompute\n",
    "from azureml.core.compute_target import ComputeTargetException\n",
    "from azureml.core import Workspace, Dataset, Experiment, Model\n",
    "from azureml.data.dataset_factory import TabularDatasetFactory\n",
    "from azureml.train.automl import AutoMLConfig\n",
    "from azureml.widgets import RunDetails"
   ]
  },
  {
   "cell_type": "code",
   "execution_count": 2,
   "metadata": {
    "gather": {
     "logged": 1629034413024
    }
   },
   "outputs": [
    {
     "name": "stdout",
     "output_type": "stream",
     "text": [
      "quick-starts-ws-155153\n",
      "aml-quickstarts-155153\n",
      "southcentralus\n",
      "81cefad3-d2c9-4f77-a466-99a7f541c7bb\n"
     ]
    }
   ],
   "source": [
    "ws = Workspace.from_config()\n",
    "print(ws.name, ws.resource_group, ws.location, ws.subscription_id, sep='\\n')"
   ]
  },
  {
   "cell_type": "code",
   "execution_count": 3,
   "metadata": {
    "gather": {
     "logged": 1629034415913
    }
   },
   "outputs": [
    {
     "name": "stdout",
     "output_type": "stream",
     "text": [
      "Found existing cluster, use it.\n",
      "Succeeded\n",
      "AmlCompute wait for completion finished\n",
      "\n",
      "Minimum number of nodes requested have been provisioned\n"
     ]
    }
   ],
   "source": [
    "# Create compute cluster\n",
    "# Choose a name for your CPU cluster\n",
    "cpu_cluster_name = \"cpu-cluster\"\n",
    "\n",
    "# Verify that cluster does not exist already\n",
    "try:\n",
    "    cpu_cluster = ComputeTarget(workspace=ws, name=cpu_cluster_name)\n",
    "    print('Found existing cluster, use it.')\n",
    "except ComputeTargetException:\n",
    "    compute_config = AmlCompute.provisioning_configuration(vm_size='STANDARD_D2_V2',\n",
    "                                                           min_nodes=1,\n",
    "                                                           max_nodes=5)\n",
    "    cpu_cluster = ComputeTarget.create(ws, cpu_cluster_name, compute_config)\n",
    "\n",
    "cpu_cluster.wait_for_completion(show_output=True)"
   ]
  },
  {
   "cell_type": "markdown",
   "metadata": {},
   "source": [
    "## Dataset\n",
    "\n",
    "### Overview\n",
    "*TODO: In this markdown cell, give an overview of the dataset you are using. Also mention the task you will be performing.*\n",
    "\n",
    "This project processes a data set describing the sale of individual residential property in Ames, Iowa from 2006 to 2010. The data set contains 2930 observations and a large number of explanatory variables (23 nominal, 23 ordinal, 14 discrete, and 20 continuous) involved in assessing home values. The **Ames Housing dataset** was compiled by Dean De Cock for use in data science education.\n",
    "\n",
    "The project's goal is to train and deploy a machine learning model for **prediction of the sales price based on parameters of a house**.\n",
    "\n",
    "*TODO: Get data. In the cell below, write code to access the data you will be using in this project. Remember that the dataset needs to be external.*\n",
    "\n",
    "The Ames Housing dataset is downloaded from Kaggle.com and registered to the workspace."
   ]
  },
  {
   "cell_type": "code",
   "execution_count": 4,
   "metadata": {
    "gather": {
     "logged": 1629034442531
    }
   },
   "outputs": [
    {
     "name": "stdout",
     "output_type": "stream",
     "text": [
      "Found registered Ames-housing-dataset, use it.\n"
     ]
    }
   ],
   "source": [
    "# Try to load the dataset from the workspace. Otherwise, load it from Kaggle\n",
    "found = False\n",
    "ds_key = 'Ames-housing-dataset'\n",
    "ds_desc = 'Ames Housing training data.'\n",
    "\n",
    "if ds_key in ws.datasets.keys():\n",
    "    found = True\n",
    "    dataset = ws.datasets[ds_key]\n",
    "    print(f'Found registered {ds_key}, use it.')\n",
    "    \n",
    "if not found:\n",
    "    train, test = train_xgb.load_data_clean(source='kaggle')\n",
    "    print(f\"train.shape = {train.shape}, test.shape = {test.shape}\")\n",
    "    # Register the train dataset\n",
    "    blob = ws.get_default_datastore()\n",
    "    dataset = TabularDatasetFactory.register_pandas_dataframe(train, blob, name=ds_key, description=ds_desc)"
   ]
  },
  {
   "cell_type": "markdown",
   "metadata": {},
   "source": [
    "## AutoML Configuration\n",
    "\n",
    "*TODO: Explain why you chose the automl settings and cofiguration you used below.*\n",
    "\n",
    "As there are time constraints for the experiment, the automl setting:\n",
    "+ sets experiment timeout to 2 hours,\n",
    "+ enables early stopping,\n",
    "+ disables the neural networks (this is a default setting). \n",
    "\n",
    "Number of cross validation is set to 3 as the datset has more then 1.000 data points. For the sake of cross platform migration the ONNX compatible models are enabled."
   ]
  },
  {
   "cell_type": "code",
   "execution_count": 5,
   "metadata": {
    "gather": {
     "logged": 1629034475519
    }
   },
   "outputs": [],
   "source": [
    "# Choose a name for experiment\n",
    "experiment_name = 'Ames-housing-AutoML'\n",
    "\n",
    "experiment=Experiment(ws, experiment_name)"
   ]
  },
  {
   "cell_type": "code",
   "execution_count": 6,
   "metadata": {
    "gather": {
     "logged": 1629034483671
    },
    "jupyter": {
     "outputs_hidden": false,
     "source_hidden": false
    },
    "nteract": {
     "transient": {
      "deleting": false
     }
    }
   },
   "outputs": [],
   "source": [
    "# Set parameters for AutoMLConfig\n",
    "automl_settings = {\n",
    "    'experiment_timeout_minutes' : 120,\n",
    "    'n_cross_validations' : 3,\n",
    "    'enable_early_stopping' : True,\n",
    "    'iteration_timeout_minutes' : 5,\n",
    "    'max_concurrent_iterations' : 4,\n",
    "    'max_cores_per_iteration' : -1,\n",
    "    'enable_onnx_compatible_models' : True\n",
    "}\n",
    "\n",
    "automl_config = AutoMLConfig(\n",
    "    task='regression',\n",
    "    primary_metric='normalized_root_mean_squared_error',\n",
    "    compute_target=cpu_cluster,\n",
    "    training_data=dataset,\n",
    "    label_column_name='SalePrice',\n",
    "    **automl_settings)"
   ]
  },
  {
   "cell_type": "markdown",
   "metadata": {},
   "source": [
    "## Run Details\n",
    "\n",
    "*OPTIONAL: Write about the different models trained and their performance. Why do you think some models did better than others?*\n",
    "\n",
    "Prediction of a sale price based on parameters of a house is an example of a **regression** which is a supervised machine learning task. Regression algorithms used in automated ML defines [Regression Class](https://docs.microsoft.com/en-us/python/api/azureml-train-automl-client/azureml.train.automl.constants.supportedmodels.regression?view=azure-ml-py).\n",
    "\n",
    "+ An example of linear models is [**ElasticNet**](https://scikit-learn.org/stable/modules/generated/sklearn.linear_model.ElasticNet.html#sklearn.linear_model.ElasticNet). It is a linear regression model trained with both l1 and l2-norm regularization of the coefficients. This combination allows for learning a sparse model where few of the weights are non-zero like Lasso, while still maintaining the regularization properties of Ridge.\n",
    "+ An example of tree-based algorithms is [**XGBoostRegressor**](https://xgboost.readthedocs.io/en/latest/python/python_api.html#module-xgboost.sklearn). It is an accurate and effective off-the-shelf procedure that supports a number of different loss functions and is developed with both deep consideration in terms of systems optimization and principles in machine learning.\n",
    "+ An example of a neural network is [**TensorFlowDNNRegressor**](https://www.tensorflow.org/api_docs/python/tf/estimator/DNNRegressor). DNN models are not enabled by default due to their performance requirements.\n",
    "\n",
    "The models using gradient tree boosting have usually better performance because they combine predictions of several base estimators. For the same reason the result of the automated ML is usually a voting ensemble. The neural networks can do even better but at costs of compute performance requirements.\n",
    "\n",
    "*TODO: In the cell below, use the `RunDetails` widget to show the different experiments.*"
   ]
  },
  {
   "cell_type": "code",
   "execution_count": 7,
   "metadata": {
    "gather": {
     "logged": 1629036045022
    },
    "jupyter": {
     "outputs_hidden": false,
     "source_hidden": false
    },
    "nteract": {
     "transient": {
      "deleting": false
     }
    }
   },
   "outputs": [
    {
     "name": "stdout",
     "output_type": "stream",
     "text": [
      "Submitting remote run.\n"
     ]
    },
    {
     "data": {
      "text/html": [
       "<table style=\"width:100%\"><tr><th>Experiment</th><th>Id</th><th>Type</th><th>Status</th><th>Details Page</th><th>Docs Page</th></tr><tr><td>Ames-housing-AutoML</td><td>AutoML_1e771021-d455-495a-a028-2a419ca9feb4</td><td>automl</td><td>NotStarted</td><td><a href=\"https://ml.azure.com/runs/AutoML_1e771021-d455-495a-a028-2a419ca9feb4?wsid=/subscriptions/81cefad3-d2c9-4f77-a466-99a7f541c7bb/resourcegroups/aml-quickstarts-155153/workspaces/quick-starts-ws-155153&amp;tid=660b3398-b80e-49d2-bc5b-ac1dc93b5254\" target=\"_blank\" rel=\"noopener\">Link to Azure Machine Learning studio</a></td><td><a href=\"https://docs.microsoft.com/en-us/python/api/overview/azure/ml/intro?view=azure-ml-py\" target=\"_blank\" rel=\"noopener\">Link to Documentation</a></td></tr></table>"
      ],
      "text/plain": [
       "<IPython.core.display.HTML object>"
      ]
     },
     "metadata": {},
     "output_type": "display_data"
    },
    {
     "data": {
      "application/vnd.jupyter.widget-view+json": {
       "model_id": "12852bacb48b4682aca7b61e81d1cd37",
       "version_major": 2,
       "version_minor": 0
      },
      "text/plain": [
       "_AutoMLWidget(widget_settings={'childWidgetDisplay': 'popup', 'send_telemetry': False, 'log_level': 'INFO', 's…"
      ]
     },
     "metadata": {},
     "output_type": "display_data"
    },
    {
     "data": {
      "application/aml.mini.widget.v1": "{\"status\": \"Completed\", \"workbench_run_details_uri\": \"https://ml.azure.com/runs/AutoML_1e771021-d455-495a-a028-2a419ca9feb4?wsid=/subscriptions/81cefad3-d2c9-4f77-a466-99a7f541c7bb/resourcegroups/aml-quickstarts-155153/workspaces/quick-starts-ws-155153&tid=660b3398-b80e-49d2-bc5b-ac1dc93b5254\", \"run_id\": \"AutoML_1e771021-d455-495a-a028-2a419ca9feb4\", \"run_properties\": {\"run_id\": \"AutoML_1e771021-d455-495a-a028-2a419ca9feb4\", \"created_utc\": \"2021-08-20T12:31:52.255016Z\", \"properties\": {\"num_iterations\": \"1000\", \"training_type\": \"TrainFull\", \"acquisition_function\": \"EI\", \"primary_metric\": \"normalized_root_mean_squared_error\", \"train_split\": \"0\", \"acquisition_parameter\": \"0\", \"num_cross_validation\": \"3\", \"target\": \"cpu-cluster\", \"AMLSettingsJsonString\": \"{\\\"path\\\":null,\\\"name\\\":\\\"Ames-housing-AutoML\\\",\\\"subscription_id\\\":\\\"81cefad3-d2c9-4f77-a466-99a7f541c7bb\\\",\\\"resource_group\\\":\\\"aml-quickstarts-155153\\\",\\\"workspace_name\\\":\\\"quick-starts-ws-155153\\\",\\\"region\\\":\\\"southcentralus\\\",\\\"compute_target\\\":\\\"cpu-cluster\\\",\\\"spark_service\\\":null,\\\"azure_service\\\":\\\"remote\\\",\\\"many_models\\\":false,\\\"pipeline_fetch_max_batch_size\\\":1,\\\"enable_batch_run\\\":false,\\\"enable_run_restructure\\\":false,\\\"start_auxiliary_runs_before_parent_complete\\\":false,\\\"enable_code_generation\\\":false,\\\"iterations\\\":1000,\\\"primary_metric\\\":\\\"normalized_root_mean_squared_error\\\",\\\"task_type\\\":\\\"regression\\\",\\\"data_script\\\":null,\\\"test_size\\\":0.0,\\\"validation_size\\\":0.0,\\\"n_cross_validations\\\":3,\\\"y_min\\\":null,\\\"y_max\\\":null,\\\"num_classes\\\":null,\\\"featurization\\\":\\\"auto\\\",\\\"_ignore_package_version_incompatibilities\\\":false,\\\"is_timeseries\\\":false,\\\"max_cores_per_iteration\\\":-1,\\\"max_concurrent_iterations\\\":4,\\\"iteration_timeout_minutes\\\":5,\\\"mem_in_mb\\\":null,\\\"enforce_time_on_windows\\\":false,\\\"experiment_timeout_minutes\\\":120,\\\"experiment_exit_score\\\":null,\\\"whitelist_models\\\":null,\\\"blacklist_algos\\\":[\\\"TensorFlowDNN\\\",\\\"TensorFlowLinearRegressor\\\"],\\\"supported_models\\\":[\\\"XGBoostRegressor\\\",\\\"TensorFlowDNN\\\",\\\"DecisionTree\\\",\\\"SGD\\\",\\\"OnlineGradientDescentRegressor\\\",\\\"KNN\\\",\\\"ElasticNet\\\",\\\"LightGBM\\\",\\\"RandomForest\\\",\\\"TensorFlowLinearRegressor\\\",\\\"FastLinearRegressor\\\",\\\"GradientBoosting\\\",\\\"LassoLars\\\",\\\"ExtremeRandomTrees\\\"],\\\"private_models\\\":[],\\\"auto_blacklist\\\":true,\\\"blacklist_samples_reached\\\":false,\\\"exclude_nan_labels\\\":true,\\\"verbosity\\\":20,\\\"_debug_log\\\":\\\"azureml_automl.log\\\",\\\"show_warnings\\\":false,\\\"model_explainability\\\":true,\\\"service_url\\\":null,\\\"sdk_url\\\":null,\\\"sdk_packages\\\":null,\\\"enable_onnx_compatible_models\\\":true,\\\"enable_split_onnx_featurizer_estimator_models\\\":false,\\\"vm_type\\\":\\\"STANDARD_D2_V2\\\",\\\"telemetry_verbosity\\\":20,\\\"send_telemetry\\\":true,\\\"enable_dnn\\\":false,\\\"scenario\\\":\\\"SDK-1.13.0\\\",\\\"environment_label\\\":null,\\\"save_mlflow\\\":false,\\\"force_text_dnn\\\":false,\\\"enable_feature_sweeping\\\":false,\\\"enable_early_stopping\\\":true,\\\"early_stopping_n_iters\\\":10,\\\"metrics\\\":null,\\\"enable_metric_confidence\\\":false,\\\"enable_ensembling\\\":true,\\\"enable_stack_ensembling\\\":false,\\\"ensemble_iterations\\\":15,\\\"enable_tf\\\":false,\\\"enable_subsampling\\\":null,\\\"subsample_seed\\\":null,\\\"enable_nimbusml\\\":false,\\\"enable_streaming\\\":false,\\\"force_streaming\\\":false,\\\"track_child_runs\\\":true,\\\"allowed_private_models\\\":[],\\\"label_column_name\\\":\\\"SalePrice\\\",\\\"weight_column_name\\\":null,\\\"cv_split_column_names\\\":null,\\\"enable_local_managed\\\":false,\\\"_local_managed_run_id\\\":null,\\\"cost_mode\\\":1,\\\"lag_length\\\":0,\\\"metric_operation\\\":\\\"minimize\\\",\\\"preprocess\\\":true}\", \"DataPrepJsonString\": \"{\\\\\\\"training_data\\\\\\\": {\\\\\\\"datasetId\\\\\\\": \\\\\\\"09830ce3-70c6-4e2a-b1f3-bae0f82a8ebd\\\\\\\"}, \\\\\\\"datasets\\\\\\\": 0}\", \"EnableSubsampling\": null, \"runTemplate\": \"AutoML\", \"azureml.runsource\": \"automl\", \"display_task_type\": \"regression\", \"dependencies_versions\": \"{\\\"azureml-widgets\\\": \\\"1.32.0\\\", \\\"azureml-train\\\": \\\"1.32.0\\\", \\\"azureml-train-restclients-hyperdrive\\\": \\\"1.32.0\\\", \\\"azureml-train-core\\\": \\\"1.32.0\\\", \\\"azureml-train-automl\\\": \\\"1.32.0\\\", \\\"azureml-train-automl-runtime\\\": \\\"1.32.0\\\", \\\"azureml-train-automl-client\\\": \\\"1.32.0\\\", \\\"azureml-tensorboard\\\": \\\"1.32.0\\\", \\\"azureml-telemetry\\\": \\\"1.32.0\\\", \\\"azureml-sdk\\\": \\\"1.32.0\\\", \\\"azureml-samples\\\": \\\"0+unknown\\\", \\\"azureml-responsibleai\\\": \\\"1.32.0\\\", \\\"azureml-pipeline\\\": \\\"1.32.0\\\", \\\"azureml-pipeline-steps\\\": \\\"1.32.0\\\", \\\"azureml-pipeline-core\\\": \\\"1.32.0\\\", \\\"azureml-opendatasets\\\": \\\"1.32.0\\\", \\\"azureml-model-management-sdk\\\": \\\"1.0.1b6.post1\\\", \\\"azureml-mlflow\\\": \\\"1.32.0\\\", \\\"azureml-interpret\\\": \\\"1.32.0\\\", \\\"azureml-explain-model\\\": \\\"1.32.0\\\", \\\"azureml-defaults\\\": \\\"1.32.0\\\", \\\"azureml-dataset-runtime\\\": \\\"1.32.0\\\", \\\"azureml-dataprep\\\": \\\"2.18.0\\\", \\\"azureml-dataprep-rslex\\\": \\\"1.16.1\\\", \\\"azureml-dataprep-native\\\": \\\"36.0.0\\\", \\\"azureml-datadrift\\\": \\\"1.32.0\\\", \\\"azureml-core\\\": \\\"1.32.0\\\", \\\"azureml-contrib-services\\\": \\\"1.32.0\\\", \\\"azureml-contrib-server\\\": \\\"1.32.0\\\", \\\"azureml-contrib-reinforcementlearning\\\": \\\"1.32.0\\\", \\\"azureml-contrib-pipeline-steps\\\": \\\"1.32.0\\\", \\\"azureml-contrib-notebook\\\": \\\"1.32.0\\\", \\\"azureml-contrib-fairness\\\": \\\"1.32.0\\\", \\\"azureml-contrib-dataset\\\": \\\"1.32.0\\\", \\\"azureml-cli-common\\\": \\\"1.32.0\\\", \\\"azureml-automl-runtime\\\": \\\"1.32.0\\\", \\\"azureml-automl-dnn-nlp\\\": \\\"1.32.0\\\", \\\"azureml-automl-core\\\": \\\"1.32.0\\\", \\\"azureml-accel-models\\\": \\\"1.32.0\\\"}\", \"_aml_system_scenario_identification\": \"Remote.Parent\", \"ClientType\": \"SDK\", \"environment_cpu_name\": \"AzureML-AutoML\", \"environment_cpu_label\": \"prod\", \"environment_gpu_name\": \"AzureML-AutoML-GPU\", \"environment_gpu_label\": \"prod\", \"root_attribution\": \"automl\", \"attribution\": \"AutoML\", \"Orchestrator\": \"AutoML\", \"CancelUri\": \"https://southcentralus.api.azureml.ms/jasmine/v1.0/subscriptions/81cefad3-d2c9-4f77-a466-99a7f541c7bb/resourceGroups/aml-quickstarts-155153/providers/Microsoft.MachineLearningServices/workspaces/quick-starts-ws-155153/experimentids/b6923e11-60ca-41d6-9a9d-c9f34582fe39/cancel/AutoML_1e771021-d455-495a-a028-2a419ca9feb4\", \"ClientSdkVersion\": \"1.33.0\", \"snapshotId\": \"00000000-0000-0000-0000-000000000000\", \"SetupRunId\": \"AutoML_1e771021-d455-495a-a028-2a419ca9feb4_setup\", \"SetupRunContainerId\": \"dcid.AutoML_1e771021-d455-495a-a028-2a419ca9feb4_setup\", \"FeaturizationRunJsonPath\": \"featurizer_container.json\", \"FeaturizationRunId\": \"AutoML_1e771021-d455-495a-a028-2a419ca9feb4_featurize\", \"ProblemInfoJsonString\": \"{\\\"dataset_num_categorical\\\": 0, \\\"is_sparse\\\": true, \\\"subsampling\\\": false, \\\"has_extra_col\\\": true, \\\"dataset_classes\\\": 663, \\\"dataset_features\\\": 453, \\\"dataset_samples\\\": 1460, \\\"single_frequency_class_detected\\\": false}\", \"ModelExplainRunId\": \"AutoML_1e771021-d455-495a-a028-2a419ca9feb4_ModelExplain\"}, \"tags\": {\"model_explain_run\": \"best_run\", \"_aml_system_azureml.automlComponent\": \"AutoML\", \"pipeline_id\": \"\", \"score\": \"\", \"predicted_cost\": \"\", \"fit_time\": \"\", \"training_percent\": \"\", \"iteration\": \"\", \"run_preprocessor\": \"\", \"run_algorithm\": \"\", \"dynamic_whitelisting_iterations\": \"<25>;<30>;<35>;\", \"automl_best_child_run_id\": \"AutoML_1e771021-d455-495a-a028-2a419ca9feb4_36\", \"model_explain_best_run_child_id\": \"AutoML_1e771021-d455-495a-a028-2a419ca9feb4_36\"}, \"end_time_utc\": \"2021-08-20T13:01:19.444131Z\", \"status\": \"Completed\", \"log_files\": {}, \"log_groups\": [], \"run_duration\": \"0:29:27\", \"run_number\": \"1\", \"run_queued_details\": {\"status\": \"Completed\", \"details\": null}}, \"child_runs\": [{\"run_id\": \"AutoML_1e771021-d455-495a-a028-2a419ca9feb4_2\", \"run_number\": 5, \"metric\": null, \"status\": \"Completed\", \"run_type\": \"azureml.scriptrun\", \"training_percent\": \"100\", \"start_time\": \"2021-08-20T12:41:53.981665Z\", \"end_time\": \"2021-08-20T12:43:19.659956Z\", \"created_time\": \"2021-08-20T12:39:16.446273Z\", \"created_time_dt\": \"2021-08-20T12:39:16.446273Z\", \"duration\": \"0:04:03\", \"iteration\": \"2\", \"goal\": \"normalized_root_mean_squared_error_min\", \"run_name\": \"MaxAbsScaler, ElasticNet\", \"run_properties\": \"copy=True\", \"primary_metric\": 0.04857716, \"best_metric\": 0.03830382}, {\"run_id\": \"AutoML_1e771021-d455-495a-a028-2a419ca9feb4_3\", \"run_number\": 6, \"metric\": null, \"status\": \"Completed\", \"run_type\": \"azureml.scriptrun\", \"training_percent\": \"100\", \"start_time\": \"2021-08-20T12:42:17.794253Z\", \"end_time\": \"2021-08-20T12:45:19.335916Z\", \"created_time\": \"2021-08-20T12:39:16.456557Z\", \"created_time_dt\": \"2021-08-20T12:39:16.456557Z\", \"duration\": \"0:06:02\", \"iteration\": \"3\", \"goal\": \"normalized_root_mean_squared_error_min\", \"run_name\": \"StandardScalerWrapper, ElasticNet\", \"run_properties\": \"\\n    copy=True,\\n    with_mean=False,\\n    with_std=True\\n\", \"primary_metric\": 0.05187087, \"best_metric\": 0.03830382}, {\"run_id\": \"AutoML_1e771021-d455-495a-a028-2a419ca9feb4_1\", \"run_number\": 7, \"metric\": null, \"status\": \"Completed\", \"run_type\": \"azureml.scriptrun\", \"training_percent\": \"100\", \"start_time\": \"2021-08-20T12:39:35.003535Z\", \"end_time\": \"2021-08-20T12:41:19.174553Z\", \"created_time\": \"2021-08-20T12:39:16.480742Z\", \"created_time_dt\": \"2021-08-20T12:39:16.480742Z\", \"duration\": \"0:02:02\", \"iteration\": \"1\", \"goal\": \"normalized_root_mean_squared_error_min\", \"run_name\": \"MaxAbsScaler, XGBoostRegressor\", \"run_properties\": \"copy=True\", \"primary_metric\": 0.03830382, \"best_metric\": 0.03830382}, {\"run_id\": \"AutoML_1e771021-d455-495a-a028-2a419ca9feb4_0\", \"run_number\": 8, \"metric\": null, \"status\": \"Completed\", \"run_type\": \"azureml.scriptrun\", \"training_percent\": \"100\", \"start_time\": \"2021-08-20T12:40:43.436336Z\", \"end_time\": \"2021-08-20T12:42:20.099109Z\", \"created_time\": \"2021-08-20T12:39:17.537822Z\", \"created_time_dt\": \"2021-08-20T12:39:17.537822Z\", \"duration\": \"0:03:02\", \"iteration\": \"0\", \"goal\": \"normalized_root_mean_squared_error_min\", \"run_name\": \"MaxAbsScaler, LightGBM\", \"run_properties\": \"copy=True\", \"primary_metric\": 0.04058975, \"best_metric\": 0.04058975}, {\"run_id\": \"AutoML_1e771021-d455-495a-a028-2a419ca9feb4_4\", \"run_number\": 9, \"metric\": null, \"status\": \"Completed\", \"run_type\": \"azureml.scriptrun\", \"training_percent\": \"100\", \"start_time\": \"2021-08-20T12:42:18.804077Z\", \"end_time\": \"2021-08-20T12:44:23.892519Z\", \"created_time\": \"2021-08-20T12:41:20.601457Z\", \"created_time_dt\": \"2021-08-20T12:41:20.601457Z\", \"duration\": \"0:03:03\", \"iteration\": \"4\", \"goal\": \"normalized_root_mean_squared_error_min\", \"run_name\": \"MaxAbsScaler, ElasticNet\", \"run_properties\": \"copy=True\", \"primary_metric\": 0.04965857, \"best_metric\": 0.03830382}, {\"run_id\": \"AutoML_1e771021-d455-495a-a028-2a419ca9feb4_5\", \"run_number\": 10, \"metric\": null, \"status\": \"Completed\", \"run_type\": \"azureml.scriptrun\", \"training_percent\": \"100\", \"start_time\": \"2021-08-20T12:43:08.503923Z\", \"end_time\": \"2021-08-20T12:44:24.044926Z\", \"created_time\": \"2021-08-20T12:42:21.530027Z\", \"created_time_dt\": \"2021-08-20T12:42:21.530027Z\", \"duration\": \"0:02:02\", \"iteration\": \"5\", \"goal\": \"normalized_root_mean_squared_error_min\", \"run_name\": \"MaxAbsScaler, ElasticNet\", \"run_properties\": \"copy=True\", \"primary_metric\": 0.05206429, \"best_metric\": 0.03830382}, {\"run_id\": \"AutoML_1e771021-d455-495a-a028-2a419ca9feb4_6\", \"run_number\": 11, \"metric\": null, \"status\": \"Completed\", \"run_type\": \"azureml.scriptrun\", \"training_percent\": \"100\", \"start_time\": \"2021-08-20T12:44:15.288431Z\", \"end_time\": \"2021-08-20T12:46:25.347122Z\", \"created_time\": \"2021-08-20T12:43:22.357235Z\", \"created_time_dt\": \"2021-08-20T12:43:22.357235Z\", \"duration\": \"0:03:02\", \"iteration\": \"6\", \"goal\": \"normalized_root_mean_squared_error_min\", \"run_name\": \"MaxAbsScaler, ExtremeRandomTrees\", \"run_properties\": \"copy=True\", \"primary_metric\": 0.04768484, \"best_metric\": 0.03830382}, {\"run_id\": \"AutoML_1e771021-d455-495a-a028-2a419ca9feb4_7\", \"run_number\": 12, \"metric\": null, \"status\": \"Completed\", \"run_type\": \"azureml.scriptrun\", \"training_percent\": \"100\", \"start_time\": \"2021-08-20T12:44:44.402742Z\", \"end_time\": \"2021-08-20T12:46:29.023575Z\", \"created_time\": \"2021-08-20T12:44:26.793358Z\", \"created_time_dt\": \"2021-08-20T12:44:26.793358Z\", \"duration\": \"0:02:02\", \"iteration\": \"7\", \"goal\": \"normalized_root_mean_squared_error_min\", \"run_name\": \"StandardScalerWrapper, ElasticNet\", \"run_properties\": \"\\n    copy=True,\\n    with_mean=False,\\n    with_std=True\\n\", \"primary_metric\": 0.04973293, \"best_metric\": 0.03830382}, {\"run_id\": \"AutoML_1e771021-d455-495a-a028-2a419ca9feb4_8\", \"run_number\": 13, \"metric\": null, \"status\": \"Completed\", \"run_type\": \"azureml.scriptrun\", \"training_percent\": \"100\", \"start_time\": \"2021-08-20T12:44:44.238916Z\", \"end_time\": \"2021-08-20T12:46:29.248893Z\", \"created_time\": \"2021-08-20T12:44:26.819102Z\", \"created_time_dt\": \"2021-08-20T12:44:26.819102Z\", \"duration\": \"0:02:02\", \"iteration\": \"8\", \"goal\": \"normalized_root_mean_squared_error_min\", \"run_name\": \"StandardScalerWrapper, ElasticNet\", \"run_properties\": \"\\n    copy=True,\\n    with_mean=False,\\n    with_std=True\\n\", \"primary_metric\": 0.05174378, \"best_metric\": 0.03830382}, {\"run_id\": \"AutoML_1e771021-d455-495a-a028-2a419ca9feb4_9\", \"run_number\": 14, \"metric\": null, \"status\": \"Completed\", \"run_type\": \"azureml.scriptrun\", \"training_percent\": \"100\", \"start_time\": \"2021-08-20T12:45:41.631417Z\", \"end_time\": \"2021-08-20T12:47:23.869681Z\", \"created_time\": \"2021-08-20T12:45:22.018499Z\", \"created_time_dt\": \"2021-08-20T12:45:22.018499Z\", \"duration\": \"0:02:01\", \"iteration\": \"9\", \"goal\": \"normalized_root_mean_squared_error_min\", \"run_name\": \"StandardScalerWrapper, ElasticNet\", \"run_properties\": \"\\n    copy=True,\\n    with_mean=False,\\n    with_std=False\\n\", \"primary_metric\": 0.05209697, \"best_metric\": 0.03830382}, {\"run_id\": \"AutoML_1e771021-d455-495a-a028-2a419ca9feb4_10\", \"run_number\": 15, \"metric\": null, \"status\": \"Completed\", \"run_type\": \"azureml.scriptrun\", \"training_percent\": \"100\", \"start_time\": \"2021-08-20T12:46:51.011805Z\", \"end_time\": \"2021-08-20T12:48:32.254321Z\", \"created_time\": \"2021-08-20T12:46:28.887598Z\", \"created_time_dt\": \"2021-08-20T12:46:28.887598Z\", \"duration\": \"0:02:03\", \"iteration\": \"10\", \"goal\": \"normalized_root_mean_squared_error_min\", \"run_name\": \"MaxAbsScaler, RandomForest\", \"run_properties\": \"copy=True\", \"primary_metric\": 0.06496317, \"best_metric\": 0.03830382}, {\"run_id\": \"AutoML_1e771021-d455-495a-a028-2a419ca9feb4_11\", \"run_number\": 16, \"metric\": null, \"status\": \"Completed\", \"run_type\": \"azureml.scriptrun\", \"training_percent\": \"100\", \"start_time\": \"2021-08-20T12:46:58.697724Z\", \"end_time\": \"2021-08-20T12:48:43.152192Z\", \"created_time\": \"2021-08-20T12:46:34.455756Z\", \"created_time_dt\": \"2021-08-20T12:46:34.455756Z\", \"duration\": \"0:02:08\", \"iteration\": \"11\", \"goal\": \"normalized_root_mean_squared_error_min\", \"run_name\": \"StandardScalerWrapper, ElasticNet\", \"run_properties\": \"\\n    copy=True,\\n    with_mean=False,\\n    with_std=False\\n\", \"primary_metric\": 0.04753613, \"best_metric\": 0.03830382}, {\"run_id\": \"AutoML_1e771021-d455-495a-a028-2a419ca9feb4_12\", \"run_number\": 17, \"metric\": null, \"status\": \"Completed\", \"run_type\": \"azureml.scriptrun\", \"training_percent\": \"100\", \"start_time\": \"2021-08-20T12:46:49.828689Z\", \"end_time\": \"2021-08-20T12:48:44.746389Z\", \"created_time\": \"2021-08-20T12:46:34.459449Z\", \"created_time_dt\": \"2021-08-20T12:46:34.459449Z\", \"duration\": \"0:02:10\", \"iteration\": \"12\", \"goal\": \"normalized_root_mean_squared_error_min\", \"run_name\": \"StandardScalerWrapper, ElasticNet\", \"run_properties\": \"\\n    copy=True,\\n    with_mean=False,\\n    with_std=False\\n\", \"primary_metric\": 0.04552342, \"best_metric\": 0.03830382}, {\"run_id\": \"AutoML_1e771021-d455-495a-a028-2a419ca9feb4_13\", \"run_number\": 18, \"metric\": null, \"status\": \"Completed\", \"run_type\": \"azureml.scriptrun\", \"training_percent\": \"100\", \"start_time\": \"2021-08-20T12:47:47.930435Z\", \"end_time\": \"2021-08-20T12:49:28.874059Z\", \"created_time\": \"2021-08-20T12:47:26.699471Z\", \"created_time_dt\": \"2021-08-20T12:47:26.699471Z\", \"duration\": \"0:02:02\", \"iteration\": \"13\", \"goal\": \"normalized_root_mean_squared_error_min\", \"run_name\": \"StandardScalerWrapper, ElasticNet\", \"run_properties\": \"\\n    copy=True,\\n    with_mean=False,\\n    with_std=True\\n\", \"primary_metric\": 0.04973293, \"best_metric\": 0.03830382}, {\"run_id\": \"AutoML_1e771021-d455-495a-a028-2a419ca9feb4_14\", \"run_number\": 19, \"metric\": null, \"status\": \"Completed\", \"run_type\": \"azureml.scriptrun\", \"training_percent\": \"100\", \"start_time\": \"2021-08-20T12:48:55.583702Z\", \"end_time\": \"2021-08-20T12:50:37.433477Z\", \"created_time\": \"2021-08-20T12:48:35.168107Z\", \"created_time_dt\": \"2021-08-20T12:48:35.168107Z\", \"duration\": \"0:02:02\", \"iteration\": \"14\", \"goal\": \"normalized_root_mean_squared_error_min\", \"run_name\": \"StandardScalerWrapper, ElasticNet\", \"run_properties\": \"\\n    copy=True,\\n    with_mean=False,\\n    with_std=True\\n\", \"primary_metric\": 0.0448014, \"best_metric\": 0.03830382}, {\"run_id\": \"AutoML_1e771021-d455-495a-a028-2a419ca9feb4_15\", \"run_number\": 20, \"metric\": null, \"status\": \"Completed\", \"run_type\": \"azureml.scriptrun\", \"training_percent\": \"100\", \"start_time\": \"2021-08-20T12:48:55.52039Z\", \"end_time\": \"2021-08-20T12:50:48.56087Z\", \"created_time\": \"2021-08-20T12:48:46.329937Z\", \"created_time_dt\": \"2021-08-20T12:48:46.329937Z\", \"duration\": \"0:02:02\", \"iteration\": \"15\", \"goal\": \"normalized_root_mean_squared_error_min\", \"run_name\": \"StandardScalerWrapper, ElasticNet\", \"run_properties\": \"\\n    copy=True,\\n    with_mean=False,\\n    with_std=True\\n\", \"primary_metric\": 0.05054768, \"best_metric\": 0.03830382}, {\"run_id\": \"AutoML_1e771021-d455-495a-a028-2a419ca9feb4_16\", \"run_number\": 21, \"metric\": null, \"status\": \"Completed\", \"run_type\": \"azureml.scriptrun\", \"training_percent\": \"100\", \"start_time\": \"2021-08-20T12:49:03.594946Z\", \"end_time\": \"2021-08-20T12:50:53.010235Z\", \"created_time\": \"2021-08-20T12:48:50.506012Z\", \"created_time_dt\": \"2021-08-20T12:48:50.506012Z\", \"duration\": \"0:02:02\", \"iteration\": \"16\", \"goal\": \"normalized_root_mean_squared_error_min\", \"run_name\": \"StandardScalerWrapper, DecisionTree\", \"run_properties\": \"\\n    copy=True,\\n    with_mean=False,\\n    with_std=False\\n\", \"primary_metric\": 0.06394009, \"best_metric\": 0.03830382}, {\"run_id\": \"AutoML_1e771021-d455-495a-a028-2a419ca9feb4_17\", \"run_number\": 22, \"metric\": null, \"status\": \"Completed\", \"run_type\": \"azureml.scriptrun\", \"training_percent\": \"100\", \"start_time\": \"2021-08-20T12:49:51.96383Z\", \"end_time\": \"2021-08-20T12:51:34.189535Z\", \"created_time\": \"2021-08-20T12:49:31.697391Z\", \"created_time_dt\": \"2021-08-20T12:49:31.697391Z\", \"duration\": \"0:02:02\", \"iteration\": \"17\", \"goal\": \"normalized_root_mean_squared_error_min\", \"run_name\": \"StandardScalerWrapper, ElasticNet\", \"run_properties\": \"\\n    copy=True,\\n    with_mean=False,\\n    with_std=True\\n\", \"primary_metric\": 0.04950816, \"best_metric\": 0.03830382}, {\"run_id\": \"AutoML_1e771021-d455-495a-a028-2a419ca9feb4_18\", \"run_number\": 23, \"metric\": null, \"status\": \"Completed\", \"run_type\": \"azureml.scriptrun\", \"training_percent\": \"100\", \"start_time\": \"2021-08-20T12:51:05.855642Z\", \"end_time\": \"2021-08-20T12:52:43.969587Z\", \"created_time\": \"2021-08-20T12:50:40.223149Z\", \"created_time_dt\": \"2021-08-20T12:50:40.223149Z\", \"duration\": \"0:02:03\", \"iteration\": \"18\", \"goal\": \"normalized_root_mean_squared_error_min\", \"run_name\": \"MaxAbsScaler, DecisionTree\", \"run_properties\": \"copy=True\", \"primary_metric\": 0.05355716, \"best_metric\": 0.03830382}, {\"run_id\": \"AutoML_1e771021-d455-495a-a028-2a419ca9feb4_19\", \"run_number\": 24, \"metric\": null, \"status\": \"Completed\", \"run_type\": \"azureml.scriptrun\", \"training_percent\": \"100\", \"start_time\": \"2021-08-20T12:51:08.962841Z\", \"end_time\": \"2021-08-20T12:52:54.102043Z\", \"created_time\": \"2021-08-20T12:50:51.717029Z\", \"created_time_dt\": \"2021-08-20T12:50:51.717029Z\", \"duration\": \"0:02:02\", \"iteration\": \"19\", \"goal\": \"normalized_root_mean_squared_error_min\", \"run_name\": \"TruncatedSVDWrapper, ElasticNet\", \"run_properties\": \"n_components=0.8015789473684211, random_state=None\", \"primary_metric\": 0.0455439, \"best_metric\": 0.03830382}, {\"run_id\": \"AutoML_1e771021-d455-495a-a028-2a419ca9feb4_20\", \"run_number\": 25, \"metric\": null, \"status\": \"Completed\", \"run_type\": \"azureml.scriptrun\", \"training_percent\": \"100\", \"start_time\": \"2021-08-20T12:51:15.138346Z\", \"end_time\": \"2021-08-20T12:52:58.259489Z\", \"created_time\": \"2021-08-20T12:50:56.251116Z\", \"created_time_dt\": \"2021-08-20T12:50:56.251116Z\", \"duration\": \"0:02:02\", \"iteration\": \"20\", \"goal\": \"normalized_root_mean_squared_error_min\", \"run_name\": \"StandardScalerWrapper, LightGBM\", \"run_properties\": \"\\n    copy=True,\\n    with_mean=False,\\n    with_std=True\\n\", \"primary_metric\": 0.0421459, \"best_metric\": 0.03830382}, {\"run_id\": \"AutoML_1e771021-d455-495a-a028-2a419ca9feb4_21\", \"run_number\": 26, \"metric\": null, \"status\": \"Completed\", \"run_type\": \"azureml.scriptrun\", \"training_percent\": \"100\", \"start_time\": \"2021-08-20T12:52:01.08494Z\", \"end_time\": \"2021-08-20T12:53:40.727721Z\", \"created_time\": \"2021-08-20T12:51:36.904968Z\", \"created_time_dt\": \"2021-08-20T12:51:36.904968Z\", \"duration\": \"0:02:03\", \"iteration\": \"21\", \"goal\": \"normalized_root_mean_squared_error_min\", \"run_name\": \"MaxAbsScaler, GradientBoosting\", \"run_properties\": \"copy=True\", \"primary_metric\": 0.05164964, \"best_metric\": 0.03830382}, {\"run_id\": \"AutoML_1e771021-d455-495a-a028-2a419ca9feb4_22\", \"run_number\": 27, \"metric\": null, \"status\": \"Completed\", \"run_type\": \"azureml.scriptrun\", \"training_percent\": \"100\", \"start_time\": \"2021-08-20T12:53:09.464821Z\", \"end_time\": \"2021-08-20T12:54:49.614049Z\", \"created_time\": \"2021-08-20T12:52:46.768829Z\", \"created_time_dt\": \"2021-08-20T12:52:46.768829Z\", \"duration\": \"0:02:02\", \"iteration\": \"22\", \"goal\": \"normalized_root_mean_squared_error_min\", \"run_name\": \"StandardScalerWrapper, ExtremeRandomTrees\", \"run_properties\": \"\\n    copy=True,\\n    with_mean=False,\\n    with_std=True\\n\", \"primary_metric\": 0.04812123, \"best_metric\": 0.03830382}, {\"run_id\": \"AutoML_1e771021-d455-495a-a028-2a419ca9feb4_23\", \"run_number\": 28, \"metric\": null, \"status\": \"Completed\", \"run_type\": \"azureml.scriptrun\", \"training_percent\": \"100\", \"start_time\": \"2021-08-20T12:53:17.311051Z\", \"end_time\": \"2021-08-20T12:54:59.299004Z\", \"created_time\": \"2021-08-20T12:52:56.553871Z\", \"created_time_dt\": \"2021-08-20T12:52:56.553871Z\", \"duration\": \"0:02:02\", \"iteration\": \"23\", \"goal\": \"normalized_root_mean_squared_error_min\", \"run_name\": \"SparseNormalizer, XGBoostRegressor\", \"run_properties\": \"copy=True, norm='max'\", \"primary_metric\": 0.03924649, \"best_metric\": 0.03830382}, {\"run_id\": \"AutoML_1e771021-d455-495a-a028-2a419ca9feb4_24\", \"run_number\": 29, \"metric\": null, \"status\": \"Completed\", \"run_type\": \"azureml.scriptrun\", \"training_percent\": \"100\", \"start_time\": \"2021-08-20T12:53:18.507326Z\", \"end_time\": \"2021-08-20T12:55:03.006944Z\", \"created_time\": \"2021-08-20T12:53:00.813167Z\", \"created_time_dt\": \"2021-08-20T12:53:00.813167Z\", \"duration\": \"0:02:02\", \"iteration\": \"24\", \"goal\": \"normalized_root_mean_squared_error_min\", \"run_name\": \"StandardScalerWrapper, RandomForest\", \"run_properties\": \"\\n    copy=True,\\n    with_mean=False,\\n    with_std=False\\n\", \"primary_metric\": 0.04528986, \"best_metric\": 0.03830382}, {\"run_id\": \"AutoML_1e771021-d455-495a-a028-2a419ca9feb4_25\", \"run_number\": 30, \"metric\": null, \"status\": \"Completed\", \"run_type\": \"azureml.scriptrun\", \"training_percent\": \"100\", \"start_time\": \"2021-08-20T12:54:05.588545Z\", \"end_time\": \"2021-08-20T12:55:46.484075Z\", \"created_time\": \"2021-08-20T12:53:44.097533Z\", \"created_time_dt\": \"2021-08-20T12:53:44.097533Z\", \"duration\": \"0:02:02\", \"iteration\": \"25\", \"goal\": \"normalized_root_mean_squared_error_min\", \"run_name\": \"SparseNormalizer, XGBoostRegressor\", \"run_properties\": \"copy=True, norm='max'\", \"primary_metric\": 0.05532963, \"best_metric\": 0.03830382}, {\"run_id\": \"AutoML_1e771021-d455-495a-a028-2a419ca9feb4_26\", \"run_number\": 31, \"metric\": null, \"status\": \"Completed\", \"run_type\": \"azureml.scriptrun\", \"training_percent\": \"100\", \"start_time\": \"2021-08-20T12:55:11.807605Z\", \"end_time\": \"2021-08-20T12:56:54.580907Z\", \"created_time\": \"2021-08-20T12:54:51.616086Z\", \"created_time_dt\": \"2021-08-20T12:54:51.616086Z\", \"duration\": \"0:02:02\", \"iteration\": \"26\", \"goal\": \"normalized_root_mean_squared_error_min\", \"run_name\": \"MaxAbsScaler, ExtremeRandomTrees\", \"run_properties\": \"copy=True\", \"primary_metric\": 0.04667328, \"best_metric\": 0.03830382}, {\"run_id\": \"AutoML_1e771021-d455-495a-a028-2a419ca9feb4_27\", \"run_number\": 32, \"metric\": null, \"status\": \"Completed\", \"run_type\": \"azureml.scriptrun\", \"training_percent\": \"100\", \"start_time\": \"2021-08-20T12:55:22.999594Z\", \"end_time\": \"2021-08-20T12:57:03.995771Z\", \"created_time\": \"2021-08-20T12:55:01.203197Z\", \"created_time_dt\": \"2021-08-20T12:55:01.203197Z\", \"duration\": \"0:02:02\", \"iteration\": \"27\", \"goal\": \"normalized_root_mean_squared_error_min\", \"run_name\": \"SparseNormalizer, ExtremeRandomTrees\", \"run_properties\": \"copy=True, norm='l2'\", \"primary_metric\": 0.0510662, \"best_metric\": 0.03830382}, {\"run_id\": \"AutoML_1e771021-d455-495a-a028-2a419ca9feb4_28\", \"run_number\": 33, \"metric\": null, \"status\": \"Completed\", \"run_type\": \"azureml.scriptrun\", \"training_percent\": \"100\", \"start_time\": \"2021-08-20T12:55:22.034579Z\", \"end_time\": \"2021-08-20T12:57:07.660987Z\", \"created_time\": \"2021-08-20T12:55:04.960491Z\", \"created_time_dt\": \"2021-08-20T12:55:04.960491Z\", \"duration\": \"0:02:02\", \"iteration\": \"28\", \"goal\": \"normalized_root_mean_squared_error_min\", \"run_name\": \"SparseNormalizer, ExtremeRandomTrees\", \"run_properties\": \"copy=True, norm='l1'\", \"primary_metric\": 0.04926357, \"best_metric\": 0.03830382}, {\"run_id\": \"AutoML_1e771021-d455-495a-a028-2a419ca9feb4_29\", \"run_number\": 34, \"metric\": null, \"status\": \"Completed\", \"run_type\": \"azureml.scriptrun\", \"training_percent\": \"100\", \"start_time\": \"2021-08-20T12:56:09.273989Z\", \"end_time\": \"2021-08-20T12:57:50.701301Z\", \"created_time\": \"2021-08-20T12:55:48.580462Z\", \"created_time_dt\": \"2021-08-20T12:55:48.580462Z\", \"duration\": \"0:02:02\", \"iteration\": \"29\", \"goal\": \"normalized_root_mean_squared_error_min\", \"run_name\": \"StandardScalerWrapper, RandomForest\", \"run_properties\": \"\\n    copy=True,\\n    with_mean=False,\\n    with_std=False\\n\", \"primary_metric\": 0.05130656, \"best_metric\": 0.03830382}, {\"run_id\": \"AutoML_1e771021-d455-495a-a028-2a419ca9feb4_30\", \"run_number\": 35, \"metric\": null, \"status\": \"Completed\", \"run_type\": \"azureml.scriptrun\", \"training_percent\": \"100\", \"start_time\": \"2021-08-20T12:57:17.539716Z\", \"end_time\": \"2021-08-20T12:59:00.155275Z\", \"created_time\": \"2021-08-20T12:56:58.25679Z\", \"created_time_dt\": \"2021-08-20T12:56:58.25679Z\", \"duration\": \"0:02:01\", \"iteration\": \"30\", \"goal\": \"normalized_root_mean_squared_error_min\", \"run_name\": \"StandardScalerWrapper, XGBoostRegressor\", \"run_properties\": \"\\n    copy=True,\\n    with_mean=False,\\n    with_std=False\\n\", \"primary_metric\": 0.04128001, \"best_metric\": 0.03830382}, {\"run_id\": \"AutoML_1e771021-d455-495a-a028-2a419ca9feb4_31\", \"run_number\": 36, \"metric\": null, \"status\": \"Completed\", \"run_type\": \"azureml.scriptrun\", \"training_percent\": \"100\", \"start_time\": \"2021-08-20T12:57:26.422314Z\", \"end_time\": \"2021-08-20T12:59:08.345162Z\", \"created_time\": \"2021-08-20T12:57:05.936281Z\", \"created_time_dt\": \"2021-08-20T12:57:05.936281Z\", \"duration\": \"0:02:02\", \"iteration\": \"31\", \"goal\": \"normalized_root_mean_squared_error_min\", \"run_name\": \"MaxAbsScaler, ExtremeRandomTrees\", \"run_properties\": \"copy=True\", \"primary_metric\": 0.04667098, \"best_metric\": 0.03830382}, {\"run_id\": \"AutoML_1e771021-d455-495a-a028-2a419ca9feb4_32\", \"run_number\": 37, \"metric\": null, \"status\": \"Completed\", \"run_type\": \"azureml.scriptrun\", \"training_percent\": \"100\", \"start_time\": \"2021-08-20T12:57:27.514264Z\", \"end_time\": \"2021-08-20T12:59:11.82472Z\", \"created_time\": \"2021-08-20T12:57:09.725921Z\", \"created_time_dt\": \"2021-08-20T12:57:09.725921Z\", \"duration\": \"0:02:02\", \"iteration\": \"32\", \"goal\": \"normalized_root_mean_squared_error_min\", \"run_name\": \"MaxAbsScaler, RandomForest\", \"run_properties\": \"copy=True\", \"primary_metric\": 0.04391519, \"best_metric\": 0.03830382}, {\"run_id\": \"AutoML_1e771021-d455-495a-a028-2a419ca9feb4_33\", \"run_number\": 38, \"metric\": null, \"status\": \"Canceled\", \"run_type\": \"azureml.scriptrun\", \"training_percent\": \"100\", \"start_time\": \"2021-08-20T12:58:11.752866Z\", \"end_time\": \"2021-08-20T12:59:14.098252Z\", \"created_time\": \"2021-08-20T12:57:52.588894Z\", \"created_time_dt\": \"2021-08-20T12:57:52.588894Z\", \"duration\": \"0:01:21\", \"iteration\": \"33\", \"goal\": \"normalized_root_mean_squared_error_min\", \"run_name\": \"MaxAbsScaler, ExtremeRandomTrees\", \"run_properties\": \"copy=True\", \"primary_metric\": 0.0470615, \"best_metric\": 0.03830382}, {\"run_id\": \"AutoML_1e771021-d455-495a-a028-2a419ca9feb4_34\", \"run_number\": 39, \"metric\": null, \"status\": \"Canceled\", \"run_type\": \"azureml.scriptrun\", \"training_percent\": \"100\", \"start_time\": \"2021-08-20T12:59:02.042945Z\", \"end_time\": \"2021-08-20T12:59:14.046711Z\", \"created_time\": \"2021-08-20T12:59:02.042945Z\", \"created_time_dt\": \"2021-08-20T12:59:02.042945Z\", \"duration\": \"0:00:12\", \"iteration\": \"34\", \"goal\": null, \"run_name\": \"Canceled\", \"run_properties\": null}, {\"run_id\": \"AutoML_1e771021-d455-495a-a028-2a419ca9feb4_35\", \"run_number\": 40, \"metric\": null, \"status\": \"Canceled\", \"run_type\": \"azureml.scriptrun\", \"training_percent\": \"100\", \"start_time\": \"2021-08-20T12:59:12.146703Z\", \"end_time\": \"2021-08-20T12:59:15.062749Z\", \"created_time\": \"2021-08-20T12:59:12.146703Z\", \"created_time_dt\": \"2021-08-20T12:59:12.146703Z\", \"duration\": \"0:00:02\", \"iteration\": \"35\", \"goal\": null, \"run_name\": \"Canceled\", \"run_properties\": null}, {\"run_id\": \"AutoML_1e771021-d455-495a-a028-2a419ca9feb4_36\", \"run_number\": 41, \"metric\": null, \"status\": \"Completed\", \"run_type\": \"azureml.scriptrun\", \"training_percent\": \"100\", \"start_time\": \"2021-08-20T12:59:33.952132Z\", \"end_time\": \"2021-08-20T13:01:17.776863Z\", \"created_time\": \"2021-08-20T12:59:15.736614Z\", \"created_time_dt\": \"2021-08-20T12:59:15.736614Z\", \"duration\": \"0:02:02\", \"iteration\": \"36\", \"goal\": \"normalized_root_mean_squared_error_min\", \"run_name\": \"VotingEnsemble\", \"run_properties\": \"\\n    estimators=[('1', Pipeline(\\n        memory=None,\\n        steps=[('maxabsscaler', MaxAbsScaler(\\n            copy=True\\n        \", \"primary_metric\": 0.03578931, \"best_metric\": 0.03578931}], \"children_metrics\": {\"categories\": [0], \"series\": {\"root_mean_squared_error\": [{\"categories\": [\"0\", \"1\", \"2\", \"3\", \"4\", \"5\", \"6\", \"7\", \"8\", \"9\", \"10\", \"11\", \"12\", \"13\", \"14\", \"15\", \"16\", \"17\", \"18\", \"19\", \"20\", \"21\", \"22\", \"23\", \"24\", \"25\", \"26\", \"27\", \"28\", \"29\", \"30\", \"31\", \"32\", \"33\", \"36\"], \"mode\": \"markers\", \"name\": \"root_mean_squared_error\", \"stepped\": false, \"type\": \"scatter\", \"data\": [29228.677965587034, 27582.578089556464, 34980.4147457852, 37352.210442890886, 35759.13418065263, 37491.4978462917, 34337.853437816644, 35812.681467620954, 37260.69921282898, 37515.029785196915, 46779.97644486928, 34230.77078143687, 32781.411622681764, 35812.681467620954, 32261.490181079072, 36399.38129310424, 46043.26057828992, 35650.827813123215, 38566.512509152286, 32796.15959698785, 30349.264891840827, 37192.90440363327, 34652.09791458832, 28261.396550543806, 32613.229125467235, 39842.863912865054, 33609.42935780467, 36772.7702210802, 35474.69341273105, 36945.85253266533, 29725.736874367565, 33607.77101489587, 31623.324960872484, 33888.987279928195, 25771.878899653584]}, {\"categories\": [\"0\", \"1\", \"2\", \"3\", \"4\", \"5\", \"6\", \"7\", \"8\", \"9\", \"10\", \"11\", \"12\", \"13\", \"14\", \"15\", \"16\", \"17\", \"18\", \"19\", \"20\", \"21\", \"22\", \"23\", \"24\", \"25\", \"26\", \"27\", \"28\", \"29\", \"30\", \"31\", \"32\", \"33\", \"36\"], \"mode\": \"lines\", \"name\": \"root_mean_squared_error_min\", \"stepped\": true, \"type\": \"scatter\", \"data\": [29228.677965587034, 27582.578089556464, 27582.578089556464, 27582.578089556464, 27582.578089556464, 27582.578089556464, 27582.578089556464, 27582.578089556464, 27582.578089556464, 27582.578089556464, 27582.578089556464, 27582.578089556464, 27582.578089556464, 27582.578089556464, 27582.578089556464, 27582.578089556464, 27582.578089556464, 27582.578089556464, 27582.578089556464, 27582.578089556464, 27582.578089556464, 27582.578089556464, 27582.578089556464, 27582.578089556464, 27582.578089556464, 27582.578089556464, 27582.578089556464, 27582.578089556464, 27582.578089556464, 27582.578089556464, 27582.578089556464, 27582.578089556464, 27582.578089556464, 27582.578089556464, 25771.878899653584]}], \"explained_variance\": [{\"categories\": [\"0\", \"1\", \"2\", \"3\", \"4\", \"5\", \"6\", \"7\", \"8\", \"9\", \"10\", \"11\", \"12\", \"13\", \"14\", \"15\", \"16\", \"17\", \"18\", \"19\", \"20\", \"21\", \"22\", \"23\", \"24\", \"25\", \"26\", \"27\", \"28\", \"29\", \"30\", \"31\", \"32\", \"33\", \"36\"], \"mode\": \"markers\", \"name\": \"explained_variance\", \"stepped\": false, \"type\": \"scatter\", \"data\": [0.863854636599155, 0.8783064047579887, 0.8036649321494735, 0.7767231497750021, 0.7947076727290817, 0.7751344747020501, 0.8132604487124776, 0.7944138780501021, 0.7776075815600464, 0.7748020510293575, 0.6548596987916517, 0.8125939049002323, 0.8286039108814848, 0.7944138780501021, 0.8338437427946598, 0.7876382857711673, 0.6659049249122385, 0.7962684483401717, 0.7649835755854723, 0.8287291059399107, 0.8535174990959428, 0.7820518394150763, 0.8100526171419985, 0.8735787414984854, 0.831468815361985, 0.7842712670001172, 0.8212676553966946, 0.7853267969524486, 0.7999559503700792, 0.7837212855007292, 0.8599299723613454, 0.8214014003745947, 0.8416400819712778, 0.8191260681535569, 0.8944570643792374]}, {\"categories\": [\"0\", \"1\", \"2\", \"3\", \"4\", \"5\", \"6\", \"7\", \"8\", \"9\", \"10\", \"11\", \"12\", \"13\", \"14\", \"15\", \"16\", \"17\", \"18\", \"19\", \"20\", \"21\", \"22\", \"23\", \"24\", \"25\", \"26\", \"27\", \"28\", \"29\", \"30\", \"31\", \"32\", \"33\", \"36\"], \"mode\": \"lines\", \"name\": \"explained_variance_max\", \"stepped\": true, \"type\": \"scatter\", \"data\": [0.863854636599155, 0.8783064047579887, 0.8783064047579887, 0.8783064047579887, 0.8783064047579887, 0.8783064047579887, 0.8783064047579887, 0.8783064047579887, 0.8783064047579887, 0.8783064047579887, 0.8783064047579887, 0.8783064047579887, 0.8783064047579887, 0.8783064047579887, 0.8783064047579887, 0.8783064047579887, 0.8783064047579887, 0.8783064047579887, 0.8783064047579887, 0.8783064047579887, 0.8783064047579887, 0.8783064047579887, 0.8783064047579887, 0.8783064047579887, 0.8783064047579887, 0.8783064047579887, 0.8783064047579887, 0.8783064047579887, 0.8783064047579887, 0.8783064047579887, 0.8783064047579887, 0.8783064047579887, 0.8783064047579887, 0.8783064047579887, 0.8944570643792374]}], \"r2_score\": [{\"categories\": [\"0\", \"1\", \"2\", \"3\", \"4\", \"5\", \"6\", \"7\", \"8\", \"9\", \"10\", \"11\", \"12\", \"13\", \"14\", \"15\", \"16\", \"17\", \"18\", \"19\", \"20\", \"21\", \"22\", \"23\", \"24\", \"25\", \"26\", \"27\", \"28\", \"29\", \"30\", \"31\", \"32\", \"33\", \"36\"], \"mode\": \"markers\", \"name\": \"r2_score\", \"stepped\": false, \"type\": \"scatter\", \"data\": [0.8636018126798337, 0.8780502772452924, 0.8030409454519339, 0.7759152743224728, 0.7939907915512597, 0.7742759007760786, 0.8120710481315547, 0.7937844968927329, 0.7768955926914273, 0.7747447463306895, 0.6525925066074495, 0.8125567652599854, 0.8285012115242973, 0.7937844968927329, 0.833621214769637, 0.7869682645257591, 0.6629915157448267, 0.7956520657938769, 0.7636380019324376, 0.8286039231996271, 0.852816270850727, 0.7804874389830908, 0.809079928452798, 0.8730780414065347, 0.8310731824623728, 0.7467612630538464, 0.8202204884286178, 0.7848053392765814, 0.7998221096080206, 0.7831212829151832, 0.8588744619018049, 0.8205346332945367, 0.8411128713528813, 0.8175789327719345, 0.8942712633731941]}, {\"categories\": [\"0\", \"1\", \"2\", \"3\", \"4\", \"5\", \"6\", \"7\", \"8\", \"9\", \"10\", \"11\", \"12\", \"13\", \"14\", \"15\", \"16\", \"17\", \"18\", \"19\", \"20\", \"21\", \"22\", \"23\", \"24\", \"25\", \"26\", \"27\", \"28\", \"29\", \"30\", \"31\", \"32\", \"33\", \"36\"], \"mode\": \"lines\", \"name\": \"r2_score_max\", \"stepped\": true, \"type\": \"scatter\", \"data\": [0.8636018126798337, 0.8780502772452924, 0.8780502772452924, 0.8780502772452924, 0.8780502772452924, 0.8780502772452924, 0.8780502772452924, 0.8780502772452924, 0.8780502772452924, 0.8780502772452924, 0.8780502772452924, 0.8780502772452924, 0.8780502772452924, 0.8780502772452924, 0.8780502772452924, 0.8780502772452924, 0.8780502772452924, 0.8780502772452924, 0.8780502772452924, 0.8780502772452924, 0.8780502772452924, 0.8780502772452924, 0.8780502772452924, 0.8780502772452924, 0.8780502772452924, 0.8780502772452924, 0.8780502772452924, 0.8780502772452924, 0.8780502772452924, 0.8780502772452924, 0.8780502772452924, 0.8780502772452924, 0.8780502772452924, 0.8780502772452924, 0.8942712633731941]}], \"normalized_mean_absolute_error\": [{\"categories\": [\"0\", \"1\", \"2\", \"3\", \"4\", \"5\", \"6\", \"7\", \"8\", \"9\", \"10\", \"11\", \"12\", \"13\", \"14\", \"15\", \"16\", \"17\", \"18\", \"19\", \"20\", \"21\", \"22\", \"23\", \"24\", \"25\", \"26\", \"27\", \"28\", \"29\", \"30\", \"31\", \"32\", \"33\", \"36\"], \"mode\": \"markers\", \"name\": \"normalized_mean_absolute_error\", \"stepped\": false, \"type\": \"scatter\", \"data\": [0.024468968495807656, 0.02370983546278052, 0.025806295099645594, 0.02679575315506105, 0.025989090249996932, 0.026878994740327206, 0.03003844639169896, 0.02557100166832502, 0.026842062107687036, 0.028952950647065333, 0.04085692658840174, 0.02578768181100217, 0.024524309601371818, 0.02557100166832502, 0.023618752408614774, 0.02598791049620465, 0.04051682185486691, 0.02546172086667185, 0.03569666446730996, 0.024973168967475323, 0.02451893223378802, 0.030198763128993108, 0.02987865738781247, 0.02520564588672564, 0.02638397446412188, 0.03519367205308576, 0.02904797557457683, 0.03168471442452748, 0.030943816528212653, 0.030276397784452135, 0.025235666683179784, 0.028523934353266767, 0.02533323104913114, 0.029087085517801817, 0.021677538937691213]}, {\"categories\": [\"0\", \"1\", \"2\", \"3\", \"4\", \"5\", \"6\", \"7\", \"8\", \"9\", \"10\", \"11\", \"12\", \"13\", \"14\", \"15\", \"16\", \"17\", \"18\", \"19\", \"20\", \"21\", \"22\", \"23\", \"24\", \"25\", \"26\", \"27\", \"28\", \"29\", \"30\", \"31\", \"32\", \"33\", \"36\"], \"mode\": \"lines\", \"name\": \"normalized_mean_absolute_error_min\", \"stepped\": true, \"type\": \"scatter\", \"data\": [0.024468968495807656, 0.02370983546278052, 0.02370983546278052, 0.02370983546278052, 0.02370983546278052, 0.02370983546278052, 0.02370983546278052, 0.02370983546278052, 0.02370983546278052, 0.02370983546278052, 0.02370983546278052, 0.02370983546278052, 0.02370983546278052, 0.02370983546278052, 0.023618752408614774, 0.023618752408614774, 0.023618752408614774, 0.023618752408614774, 0.023618752408614774, 0.023618752408614774, 0.023618752408614774, 0.023618752408614774, 0.023618752408614774, 0.023618752408614774, 0.023618752408614774, 0.023618752408614774, 0.023618752408614774, 0.023618752408614774, 0.023618752408614774, 0.023618752408614774, 0.023618752408614774, 0.023618752408614774, 0.023618752408614774, 0.023618752408614774, 0.021677538937691213]}], \"normalized_median_absolute_error\": [{\"categories\": [\"0\", \"1\", \"2\", \"3\", \"4\", \"5\", \"6\", \"7\", \"8\", \"9\", \"10\", \"11\", \"12\", \"13\", \"14\", \"15\", \"16\", \"17\", \"18\", \"19\", \"20\", \"21\", \"22\", \"23\", \"24\", \"25\", \"26\", \"27\", \"28\", \"29\", \"30\", \"31\", \"32\", \"33\", \"36\"], \"mode\": \"markers\", \"name\": \"normalized_median_absolute_error\", \"stepped\": false, \"type\": \"scatter\", \"data\": [0.01563024503949052, 0.015697371314169328, 0.01671315011853099, 0.01643882383614788, 0.016493505797607867, 0.016366728249539757, 0.0189231248746316, 0.016330546330272495, 0.016344002386351048, 0.01946343102382923, 0.02515461866799971, 0.017588500993154555, 0.015913248527123305, 0.016330546330272495, 0.01484802095417944, 0.016260383324062593, 0.02609287787676243, 0.016384693915023833, 0.023257728387224296, 0.016322002643112943, 0.015745679929087087, 0.019357352505698106, 0.019135918152054548, 0.016817622263111606, 0.016172922855131517, 0.02281076232178401, 0.018630101529108607, 0.019980848101608245, 0.019873858757305195, 0.01856845376995914, 0.01567805976021849, 0.018126171959325237, 0.015451465625121051, 0.018586303599808666, 0.014509132245016371]}, {\"categories\": [\"0\", \"1\", \"2\", \"3\", \"4\", \"5\", \"6\", \"7\", \"8\", \"9\", \"10\", \"11\", \"12\", \"13\", \"14\", \"15\", \"16\", \"17\", \"18\", \"19\", \"20\", \"21\", \"22\", \"23\", \"24\", \"25\", \"26\", \"27\", \"28\", \"29\", \"30\", \"31\", \"32\", \"33\", \"36\"], \"mode\": \"lines\", \"name\": \"normalized_median_absolute_error_min\", \"stepped\": true, \"type\": \"scatter\", \"data\": [0.01563024503949052, 0.01563024503949052, 0.01563024503949052, 0.01563024503949052, 0.01563024503949052, 0.01563024503949052, 0.01563024503949052, 0.01563024503949052, 0.01563024503949052, 0.01563024503949052, 0.01563024503949052, 0.01563024503949052, 0.01563024503949052, 0.01563024503949052, 0.01484802095417944, 0.01484802095417944, 0.01484802095417944, 0.01484802095417944, 0.01484802095417944, 0.01484802095417944, 0.01484802095417944, 0.01484802095417944, 0.01484802095417944, 0.01484802095417944, 0.01484802095417944, 0.01484802095417944, 0.01484802095417944, 0.01484802095417944, 0.01484802095417944, 0.01484802095417944, 0.01484802095417944, 0.01484802095417944, 0.01484802095417944, 0.01484802095417944, 0.014509132245016371]}], \"mean_absolute_percentage_error\": [{\"categories\": [\"0\", \"1\", \"2\", \"3\", \"4\", \"5\", \"6\", \"7\", \"8\", \"9\", \"10\", \"11\", \"12\", \"13\", \"14\", \"15\", \"16\", \"17\", \"18\", \"19\", \"20\", \"21\", \"22\", \"23\", \"24\", \"25\", \"26\", \"27\", \"28\", \"29\", \"30\", \"31\", \"32\", \"33\", \"36\"], \"mode\": \"markers\", \"name\": \"mean_absolute_percentage_error\", \"stepped\": false, \"type\": \"scatter\", \"data\": [10.227918298008179, 10.07545350264032, 11.158324235653822, 11.831507041893206, 11.258260540483008, 11.884591407646484, 12.935485806965625, 11.076543834469879, 11.806243940697575, 12.142300508375607, 17.732565082012396, 10.906675248218358, 10.39047244985724, 11.076543834469879, 9.924560485552213, 11.303865138850028, 17.139421044931407, 11.015963564360028, 15.404017802882217, 10.680209111038787, 10.261732934486297, 12.968420000973309, 12.747846960750367, 10.64845806988349, 11.437649358508127, 13.556645702296514, 12.449714008860878, 13.808014858430985, 13.731665359998035, 13.250405733828096, 10.513339173677902, 12.178262828311397, 10.844678869888796, 12.43587214539128, 9.19763905867747]}, {\"categories\": [\"0\", \"1\", \"2\", \"3\", \"4\", \"5\", \"6\", \"7\", \"8\", \"9\", \"10\", \"11\", \"12\", \"13\", \"14\", \"15\", \"16\", \"17\", \"18\", \"19\", \"20\", \"21\", \"22\", \"23\", \"24\", \"25\", \"26\", \"27\", \"28\", \"29\", \"30\", \"31\", \"32\", \"33\", \"36\"], \"mode\": \"lines\", \"name\": \"mean_absolute_percentage_error_min\", \"stepped\": true, \"type\": \"scatter\", \"data\": [10.227918298008179, 10.07545350264032, 10.07545350264032, 10.07545350264032, 10.07545350264032, 10.07545350264032, 10.07545350264032, 10.07545350264032, 10.07545350264032, 10.07545350264032, 10.07545350264032, 10.07545350264032, 10.07545350264032, 10.07545350264032, 9.924560485552213, 9.924560485552213, 9.924560485552213, 9.924560485552213, 9.924560485552213, 9.924560485552213, 9.924560485552213, 9.924560485552213, 9.924560485552213, 9.924560485552213, 9.924560485552213, 9.924560485552213, 9.924560485552213, 9.924560485552213, 9.924560485552213, 9.924560485552213, 9.924560485552213, 9.924560485552213, 9.924560485552213, 9.924560485552213, 9.19763905867747]}], \"median_absolute_error\": [{\"categories\": [\"0\", \"1\", \"2\", \"3\", \"4\", \"5\", \"6\", \"7\", \"8\", \"9\", \"10\", \"11\", \"12\", \"13\", \"14\", \"15\", \"16\", \"17\", \"18\", \"19\", \"20\", \"21\", \"22\", \"23\", \"24\", \"25\", \"26\", \"27\", \"28\", \"29\", \"30\", \"31\", \"32\", \"33\", \"36\"], \"mode\": \"markers\", \"name\": \"median_absolute_error\", \"stepped\": false, \"type\": \"scatter\", \"data\": [11255.339452937123, 11303.677083333334, 12035.139400354165, 11837.597044410088, 11876.973524857427, 11785.681012493578, 13626.542222222217, 11759.626412429227, 11769.31611841139, 14015.616680259429, 18113.840902826592, 12665.479565170594, 11459.13026438149, 11759.626412429227, 10692.059889104616, 11709.102031657472, 18789.481359056626, 11798.618088208663, 16747.890211640213, 11753.474103305629, 11338.464116935613, 13939.229539353206, 13779.774661294481, 12110.369791666666, 11646.121747980205, 16426.029947916668, 13415.536111111107, 14388.208717968097, 14311.165691135471, 13371.143559747577, 11289.770833333334, 13052.656427910106, 11126.60039664967, 13383.99722222222, 10448.026129636288]}, {\"categories\": [\"0\", \"1\", \"2\", \"3\", \"4\", \"5\", \"6\", \"7\", \"8\", \"9\", \"10\", \"11\", \"12\", \"13\", \"14\", \"15\", \"16\", \"17\", \"18\", \"19\", \"20\", \"21\", \"22\", \"23\", \"24\", \"25\", \"26\", \"27\", \"28\", \"29\", \"30\", \"31\", \"32\", \"33\", \"36\"], \"mode\": \"lines\", \"name\": \"median_absolute_error_min\", \"stepped\": true, \"type\": \"scatter\", \"data\": [11255.339452937123, 11255.339452937123, 11255.339452937123, 11255.339452937123, 11255.339452937123, 11255.339452937123, 11255.339452937123, 11255.339452937123, 11255.339452937123, 11255.339452937123, 11255.339452937123, 11255.339452937123, 11255.339452937123, 11255.339452937123, 10692.059889104616, 10692.059889104616, 10692.059889104616, 10692.059889104616, 10692.059889104616, 10692.059889104616, 10692.059889104616, 10692.059889104616, 10692.059889104616, 10692.059889104616, 10692.059889104616, 10692.059889104616, 10692.059889104616, 10692.059889104616, 10692.059889104616, 10692.059889104616, 10692.059889104616, 10692.059889104616, 10692.059889104616, 10692.059889104616, 10448.026129636288]}], \"normalized_root_mean_squared_error\": [{\"categories\": [\"0\", \"1\", \"2\", \"3\", \"4\", \"5\", \"6\", \"7\", \"8\", \"9\", \"10\", \"11\", \"12\", \"13\", \"14\", \"15\", \"16\", \"17\", \"18\", \"19\", \"20\", \"21\", \"22\", \"23\", \"24\", \"25\", \"26\", \"27\", \"28\", \"29\", \"30\", \"31\", \"32\", \"33\", \"36\"], \"mode\": \"markers\", \"name\": \"normalized_root_mean_squared_error\", \"stepped\": false, \"type\": \"scatter\", \"data\": [0.04058974859823223, 0.038303816261014395, 0.04857716254101541, 0.051870865772657794, 0.04965856711658468, 0.05206429363462254, 0.04768484021360456, 0.049732928020581796, 0.05174378449219411, 0.05209697234439234, 0.06496316684470115, 0.04753613495547406, 0.045523415668215196, 0.049732928020581796, 0.04480140283443837, 0.05054767572990452, 0.06394009245700587, 0.04950816249565785, 0.053557162212404225, 0.045543896121355155, 0.04214590319655719, 0.05164963811086414, 0.048121230266057934, 0.03924648875231746, 0.04528986130463441, 0.05532962631976817, 0.04667328059686803, 0.05106619944602167, 0.049263565355827044, 0.051306558162290426, 0.04128001232379887, 0.046670977662680004, 0.0439151853365817, 0.047061501569126786, 0.03578930551264211]}, {\"categories\": [\"0\", \"1\", \"2\", \"3\", \"4\", \"5\", \"6\", \"7\", \"8\", \"9\", \"10\", \"11\", \"12\", \"13\", \"14\", \"15\", \"16\", \"17\", \"18\", \"19\", \"20\", \"21\", \"22\", \"23\", \"24\", \"25\", \"26\", \"27\", \"28\", \"29\", \"30\", \"31\", \"32\", \"33\", \"36\"], \"mode\": \"lines\", \"name\": \"normalized_root_mean_squared_error_min\", \"stepped\": true, \"type\": \"scatter\", \"data\": [0.04058974859823223, 0.038303816261014395, 0.038303816261014395, 0.038303816261014395, 0.038303816261014395, 0.038303816261014395, 0.038303816261014395, 0.038303816261014395, 0.038303816261014395, 0.038303816261014395, 0.038303816261014395, 0.038303816261014395, 0.038303816261014395, 0.038303816261014395, 0.038303816261014395, 0.038303816261014395, 0.038303816261014395, 0.038303816261014395, 0.038303816261014395, 0.038303816261014395, 0.038303816261014395, 0.038303816261014395, 0.038303816261014395, 0.038303816261014395, 0.038303816261014395, 0.038303816261014395, 0.038303816261014395, 0.038303816261014395, 0.038303816261014395, 0.038303816261014395, 0.038303816261014395, 0.038303816261014395, 0.038303816261014395, 0.038303816261014395, 0.03578930551264211]}], \"root_mean_squared_log_error\": [{\"categories\": [\"0\", \"1\", \"2\", \"3\", \"4\", \"5\", \"6\", \"7\", \"8\", \"9\", \"10\", \"11\", \"12\", \"13\", \"14\", \"15\", \"16\", \"17\", \"18\", \"19\", \"20\", \"21\", \"22\", \"23\", \"24\", \"25\", \"26\", \"27\", \"28\", \"29\", \"30\", \"31\", \"32\", \"33\", \"36\"], \"mode\": \"markers\", \"name\": \"root_mean_squared_log_error\", \"stepped\": false, \"type\": \"scatter\", \"data\": [0.14523860579466982, 0.13872231042496655, 0.1759677742671478, 0.19105164329493468, 0.18393972006667314, 0.19675813185276322, 0.17813162635893484, 0.16975367952724754, 0.18537031292494177, 0.16476272667046707, 0.23042708338705695, 0.15054367032216504, 0.14730965439336052, 0.16975367952724754, 0.14818463698163156, 0.17453330684530038, 0.22462287408044537, 0.16852830423413206, 0.2030305324740088, 0.15093488200383187, 0.14530463304667246, 0.17929785260908457, 0.1752594657340587, 0.14828114093330866, 0.16232172835282066, 0.1880751237441971, 0.17106485324021178, 0.18735175912522703, 0.18755592425991222, 0.18343918378445148, 0.14855440377198037, 0.16923544214308905, 0.15490424346642775, 0.17111252243209704, 0.1302258721688295]}, {\"categories\": [\"0\", \"1\", \"2\", \"3\", \"4\", \"5\", \"6\", \"7\", \"8\", \"9\", \"10\", \"11\", \"12\", \"13\", \"14\", \"15\", \"16\", \"17\", \"18\", \"19\", \"20\", \"21\", \"22\", \"23\", \"24\", \"25\", \"26\", \"27\", \"28\", \"29\", \"30\", \"31\", \"32\", \"33\", \"36\"], \"mode\": \"lines\", \"name\": \"root_mean_squared_log_error_min\", \"stepped\": true, \"type\": \"scatter\", \"data\": [0.14523860579466982, 0.13872231042496655, 0.13872231042496655, 0.13872231042496655, 0.13872231042496655, 0.13872231042496655, 0.13872231042496655, 0.13872231042496655, 0.13872231042496655, 0.13872231042496655, 0.13872231042496655, 0.13872231042496655, 0.13872231042496655, 0.13872231042496655, 0.13872231042496655, 0.13872231042496655, 0.13872231042496655, 0.13872231042496655, 0.13872231042496655, 0.13872231042496655, 0.13872231042496655, 0.13872231042496655, 0.13872231042496655, 0.13872231042496655, 0.13872231042496655, 0.13872231042496655, 0.13872231042496655, 0.13872231042496655, 0.13872231042496655, 0.13872231042496655, 0.13872231042496655, 0.13872231042496655, 0.13872231042496655, 0.13872231042496655, 0.1302258721688295]}], \"normalized_root_mean_squared_log_error\": [{\"categories\": [\"0\", \"1\", \"2\", \"3\", \"4\", \"5\", \"6\", \"7\", \"8\", \"9\", \"10\", \"11\", \"12\", \"13\", \"14\", \"15\", \"16\", \"17\", \"18\", \"19\", \"20\", \"21\", \"22\", \"23\", \"24\", \"25\", \"26\", \"27\", \"28\", \"29\", \"30\", \"31\", \"32\", \"33\", \"36\"], \"mode\": \"markers\", \"name\": \"normalized_root_mean_squared_log_error\", \"stepped\": false, \"type\": \"scatter\", \"data\": [0.04724430294361787, 0.04512463351528703, 0.05724011732489653, 0.0621467113672415, 0.05983329164202908, 0.06400296076247106, 0.0579439913616254, 0.05521874998385196, 0.0602986456160308, 0.05359525540778584, 0.07495504982568442, 0.048969974119687655, 0.047917989164110976, 0.05521874998385196, 0.048202610062559346, 0.05677350300379569, 0.07306701309241122, 0.054820150718520144, 0.06604329427787814, 0.049097230389483305, 0.047265780783336035, 0.0583233501826593, 0.057009713413128604, 0.04823400159171471, 0.0528012291681868, 0.061178486764676444, 0.055645258402657403, 0.060943185296376545, 0.061009597662570886, 0.05967047344625967, 0.0483228905772761, 0.05505017384089101, 0.05038841405518663, 0.05566076459490003, 0.04236084835831457]}, {\"categories\": [\"0\", \"1\", \"2\", \"3\", \"4\", \"5\", \"6\", \"7\", \"8\", \"9\", \"10\", \"11\", \"12\", \"13\", \"14\", \"15\", \"16\", \"17\", \"18\", \"19\", \"20\", \"21\", \"22\", \"23\", \"24\", \"25\", \"26\", \"27\", \"28\", \"29\", \"30\", \"31\", \"32\", \"33\", \"36\"], \"mode\": \"lines\", \"name\": \"normalized_root_mean_squared_log_error_min\", \"stepped\": true, \"type\": \"scatter\", \"data\": [0.04724430294361787, 0.04512463351528703, 0.04512463351528703, 0.04512463351528703, 0.04512463351528703, 0.04512463351528703, 0.04512463351528703, 0.04512463351528703, 0.04512463351528703, 0.04512463351528703, 0.04512463351528703, 0.04512463351528703, 0.04512463351528703, 0.04512463351528703, 0.04512463351528703, 0.04512463351528703, 0.04512463351528703, 0.04512463351528703, 0.04512463351528703, 0.04512463351528703, 0.04512463351528703, 0.04512463351528703, 0.04512463351528703, 0.04512463351528703, 0.04512463351528703, 0.04512463351528703, 0.04512463351528703, 0.04512463351528703, 0.04512463351528703, 0.04512463351528703, 0.04512463351528703, 0.04512463351528703, 0.04512463351528703, 0.04512463351528703, 0.04236084835831457]}], \"spearman_correlation\": [{\"categories\": [\"0\", \"1\", \"2\", \"3\", \"4\", \"5\", \"6\", \"7\", \"8\", \"9\", \"10\", \"11\", \"12\", \"13\", \"14\", \"15\", \"16\", \"17\", \"18\", \"19\", \"20\", \"21\", \"22\", \"23\", \"24\", \"25\", \"26\", \"27\", \"28\", \"29\", \"30\", \"31\", \"32\", \"33\", \"36\"], \"mode\": \"markers\", \"name\": \"spearman_correlation\", \"stepped\": false, \"type\": \"scatter\", \"data\": [0.9425941307870714, 0.9471907231845357, 0.93479674545639, 0.9268481791292635, 0.9308703818469747, 0.9265677425363609, 0.9121128841302548, 0.932516427477783, 0.9262621293279582, 0.932446592576963, 0.8603573548463178, 0.9437129660925155, 0.9473547061445359, 0.932516427477783, 0.9460706299444525, 0.9301135210786077, 0.8503211075580522, 0.9332125714291332, 0.8795265985582431, 0.9440665561507426, 0.9429531571806021, 0.9218508169968359, 0.9175993711570292, 0.9401511528634071, 0.9383405909972767, 0.9142482642661851, 0.9247841340095483, 0.9114738106143236, 0.906434645651848, 0.92382417041499, 0.9387045999128437, 0.9292943204647792, 0.9414563028264548, 0.9205252438466243, 0.9562762595312719]}, {\"categories\": [\"0\", \"1\", \"2\", \"3\", \"4\", \"5\", \"6\", \"7\", \"8\", \"9\", \"10\", \"11\", \"12\", \"13\", \"14\", \"15\", \"16\", \"17\", \"18\", \"19\", \"20\", \"21\", \"22\", \"23\", \"24\", \"25\", \"26\", \"27\", \"28\", \"29\", \"30\", \"31\", \"32\", \"33\", \"36\"], \"mode\": \"lines\", \"name\": \"spearman_correlation_max\", \"stepped\": true, \"type\": \"scatter\", \"data\": [0.9425941307870714, 0.9471907231845357, 0.9471907231845357, 0.9471907231845357, 0.9471907231845357, 0.9471907231845357, 0.9471907231845357, 0.9471907231845357, 0.9471907231845357, 0.9471907231845357, 0.9471907231845357, 0.9471907231845357, 0.9473547061445359, 0.9473547061445359, 0.9473547061445359, 0.9473547061445359, 0.9473547061445359, 0.9473547061445359, 0.9473547061445359, 0.9473547061445359, 0.9473547061445359, 0.9473547061445359, 0.9473547061445359, 0.9473547061445359, 0.9473547061445359, 0.9473547061445359, 0.9473547061445359, 0.9473547061445359, 0.9473547061445359, 0.9473547061445359, 0.9473547061445359, 0.9473547061445359, 0.9473547061445359, 0.9473547061445359, 0.9562762595312719]}], \"mean_absolute_error\": [{\"categories\": [\"0\", \"1\", \"2\", \"3\", \"4\", \"5\", \"6\", \"7\", \"8\", \"9\", \"10\", \"11\", \"12\", \"13\", \"14\", \"15\", \"16\", \"17\", \"18\", \"19\", \"20\", \"21\", \"22\", \"23\", \"24\", \"25\", \"26\", \"27\", \"28\", \"29\", \"30\", \"31\", \"32\", \"33\", \"36\"], \"mode\": \"markers\", \"name\": \"mean_absolute_error\", \"stepped\": false, \"type\": \"scatter\", \"data\": [17620.10421383109, 17073.452516748253, 18583.113101254796, 19295.62184695946, 18714.74388902279, 19355.564112509623, 21630.685246662422, 18413.678301360847, 19328.968923745433, 20849.019760951745, 29421.07283630809, 18569.70967210266, 17659.955343947844, 18413.678301360847, 17007.863609443502, 18713.894348316968, 29176.16341768966, 18334.985196090394, 25705.168082909902, 17983.178973478978, 17656.083101550754, 21746.129329187937, 21515.621184963762, 18150.585603031133, 18999.100011614166, 25342.963245427058, 20917.447211252776, 22816.16285710224, 22282.642281965935, 21802.034044583983, 18172.20357855776, 20540.0851277874, 18242.459678479336, 20945.610281369092, 15609.99578903144]}, {\"categories\": [\"0\", \"1\", \"2\", \"3\", \"4\", \"5\", \"6\", \"7\", \"8\", \"9\", \"10\", \"11\", \"12\", \"13\", \"14\", \"15\", \"16\", \"17\", \"18\", \"19\", \"20\", \"21\", \"22\", \"23\", \"24\", \"25\", \"26\", \"27\", \"28\", \"29\", \"30\", \"31\", \"32\", \"33\", \"36\"], \"mode\": \"lines\", \"name\": \"mean_absolute_error_min\", \"stepped\": true, \"type\": \"scatter\", \"data\": [17620.10421383109, 17073.452516748253, 17073.452516748253, 17073.452516748253, 17073.452516748253, 17073.452516748253, 17073.452516748253, 17073.452516748253, 17073.452516748253, 17073.452516748253, 17073.452516748253, 17073.452516748253, 17073.452516748253, 17073.452516748253, 17007.863609443502, 17007.863609443502, 17007.863609443502, 17007.863609443502, 17007.863609443502, 17007.863609443502, 17007.863609443502, 17007.863609443502, 17007.863609443502, 17007.863609443502, 17007.863609443502, 17007.863609443502, 17007.863609443502, 17007.863609443502, 17007.863609443502, 17007.863609443502, 17007.863609443502, 17007.863609443502, 17007.863609443502, 17007.863609443502, 15609.99578903144]}]}, \"metricName\": null, \"primaryMetricName\": \"normalized_root_mean_squared_error\", \"showLegend\": false}, \"run_metrics\": [{\"name\": \"experiment_status\", \"run_id\": \"AutoML_1e771021-d455-495a-a028-2a419ca9feb4\", \"categories\": [0, 1, 2, 3, 4, 5, 6, 7, 8, 9, 10, 11, 12, 13], \"series\": [{\"data\": [\"DatasetEvaluation\", \"FeaturesGeneration\", \"DatasetFeaturization\", \"DatasetFeaturizationCompleted\", \"DatasetCrossValidationSplit\", \"ModelSelection\", \"BestRunExplainModel\", \"ModelExplanationDataSetSetup\", \"PickSurrogateModel\", \"EngineeredFeatureExplanations\", \"EngineeredFeatureExplanations\", \"RawFeaturesExplanations\", \"RawFeaturesExplanations\", \"BestRunExplainModel\"]}]}, {\"name\": \"experiment_status_description\", \"run_id\": \"AutoML_1e771021-d455-495a-a028-2a419ca9feb4\", \"categories\": [0, 1, 2, 3, 4, 5, 6, 7, 8, 9, 10, 11, 12, 13], \"series\": [{\"data\": [\"Gathering dataset statistics.\", \"Generating features for the dataset.\", \"Beginning to fit featurizers and featurize the dataset.\", \"Completed fit featurizers and featurizing the dataset.\", \"Generating individually featurized CV splits.\", \"Beginning model selection.\", \"Best run model explanations started\", \"Model explanations data setup completed\", \"Choosing LightGBM as the surrogate model for explanations\", \"Computation of engineered features started\", \"Computation of engineered features completed\", \"Computation of raw features started\", \"Computation of raw features completed\", \"Best run model explanations completed\"]}]}, {\"name\": \"normalized_root_mean_squared_log_error\", \"run_id\": \"AutoML_1e771021-d455-495a-a028-2a419ca9feb4\", \"categories\": [0], \"series\": [{\"data\": [0.04236084835831457]}]}, {\"name\": \"normalized_mean_absolute_error\", \"run_id\": \"AutoML_1e771021-d455-495a-a028-2a419ca9feb4\", \"categories\": [0], \"series\": [{\"data\": [0.021677538937691213]}]}, {\"name\": \"root_mean_squared_log_error\", \"run_id\": \"AutoML_1e771021-d455-495a-a028-2a419ca9feb4\", \"categories\": [0], \"series\": [{\"data\": [0.1302258721688295]}]}, {\"name\": \"normalized_root_mean_squared_error\", \"run_id\": \"AutoML_1e771021-d455-495a-a028-2a419ca9feb4\", \"categories\": [0], \"series\": [{\"data\": [0.03578930551264211]}]}, {\"name\": \"normalized_median_absolute_error\", \"run_id\": \"AutoML_1e771021-d455-495a-a028-2a419ca9feb4\", \"categories\": [0], \"series\": [{\"data\": [0.014509132245016371]}]}, {\"name\": \"spearman_correlation\", \"run_id\": \"AutoML_1e771021-d455-495a-a028-2a419ca9feb4\", \"categories\": [0], \"series\": [{\"data\": [0.9562762595312719]}]}, {\"name\": \"median_absolute_error\", \"run_id\": \"AutoML_1e771021-d455-495a-a028-2a419ca9feb4\", \"categories\": [0], \"series\": [{\"data\": [10448.026129636288]}]}, {\"name\": \"explained_variance\", \"run_id\": \"AutoML_1e771021-d455-495a-a028-2a419ca9feb4\", \"categories\": [0], \"series\": [{\"data\": [0.8944570643792374]}]}, {\"name\": \"r2_score\", \"run_id\": \"AutoML_1e771021-d455-495a-a028-2a419ca9feb4\", \"categories\": [0], \"series\": [{\"data\": [0.8942712633731941]}]}, {\"name\": \"root_mean_squared_error\", \"run_id\": \"AutoML_1e771021-d455-495a-a028-2a419ca9feb4\", \"categories\": [0], \"series\": [{\"data\": [25771.878899653584]}]}, {\"name\": \"mean_absolute_percentage_error\", \"run_id\": \"AutoML_1e771021-d455-495a-a028-2a419ca9feb4\", \"categories\": [0], \"series\": [{\"data\": [9.19763905867747]}]}, {\"name\": \"mean_absolute_error\", \"run_id\": \"AutoML_1e771021-d455-495a-a028-2a419ca9feb4\", \"categories\": [0], \"series\": [{\"data\": [15609.99578903144]}]}], \"run_logs\": \"\\nRun is completed.\", \"graph\": {}, \"widget_settings\": {\"childWidgetDisplay\": \"popup\", \"send_telemetry\": false, \"log_level\": \"INFO\", \"sdk_version\": \"1.32.0\"}, \"loading\": false}"
     },
     "metadata": {},
     "output_type": "display_data"
    },
    {
     "data": {
      "text/html": [
       "<table style=\"width:100%\"><tr><th>Experiment</th><th>Id</th><th>Type</th><th>Status</th><th>Details Page</th><th>Docs Page</th></tr><tr><td>Ames-housing-AutoML</td><td>AutoML_1e771021-d455-495a-a028-2a419ca9feb4</td><td>automl</td><td>NotStarted</td><td><a href=\"https://ml.azure.com/runs/AutoML_1e771021-d455-495a-a028-2a419ca9feb4?wsid=/subscriptions/81cefad3-d2c9-4f77-a466-99a7f541c7bb/resourcegroups/aml-quickstarts-155153/workspaces/quick-starts-ws-155153&amp;tid=660b3398-b80e-49d2-bc5b-ac1dc93b5254\" target=\"_blank\" rel=\"noopener\">Link to Azure Machine Learning studio</a></td><td><a href=\"https://docs.microsoft.com/en-us/python/api/overview/azure/ml/intro?view=azure-ml-py\" target=\"_blank\" rel=\"noopener\">Link to Documentation</a></td></tr></table>"
      ],
      "text/plain": [
       "<IPython.core.display.HTML object>"
      ]
     },
     "metadata": {},
     "output_type": "display_data"
    },
    {
     "name": "stdout",
     "output_type": "stream",
     "text": [
      "\n",
      "Current status: FeaturesGeneration. Generating features for the dataset.\n",
      "Current status: DatasetFeaturization. Beginning to fit featurizers and featurize the dataset.\n",
      "Current status: DatasetCrossValidationSplit. Generating individually featurized CV splits.\n",
      "Current status: ModelSelection. Beginning model selection.\n",
      "\n",
      "****************************************************************************************************\n",
      "DATA GUARDRAILS: \n",
      "\n",
      "TYPE:         Missing feature values imputation\n",
      "STATUS:       PASSED\n",
      "DESCRIPTION:  No feature missing values were detected in the training data.\n",
      "              Learn more about missing value imputation: https://aka.ms/AutomatedMLFeaturization\n",
      "\n",
      "****************************************************************************************************\n",
      "\n",
      "TYPE:         High cardinality feature detection\n",
      "STATUS:       PASSED\n",
      "DESCRIPTION:  Your inputs were analyzed, and no high cardinality features were detected.\n",
      "              Learn more about high cardinality feature handling: https://aka.ms/AutomatedMLFeaturization\n",
      "\n",
      "****************************************************************************************************\n",
      "\n",
      "****************************************************************************************************\n",
      "ITERATION: The iteration being evaluated.\n",
      "PIPELINE: A summary description of the pipeline being evaluated.\n",
      "DURATION: Time taken for the current iteration.\n",
      "METRIC: The result of computing score on the fitted pipeline.\n",
      "BEST: The best observed score thus far.\n",
      "****************************************************************************************************\n",
      "\n",
      " ITERATION   PIPELINE                                       DURATION      METRIC      BEST\n",
      "         1   MaxAbsScaler XGBoostRegressor                  0:01:44       0.0383    0.0383\n",
      "         0   MaxAbsScaler LightGBM                          0:01:37       0.0406    0.0383\n",
      "         2   MaxAbsScaler ElasticNet                        0:01:26       0.0486    0.0383\n",
      "         4   MaxAbsScaler ElasticNet                        0:02:05       0.0497    0.0383\n",
      "         5   MaxAbsScaler ElasticNet                        0:01:16       0.0521    0.0383\n",
      "         3   StandardScalerWrapper ElasticNet               0:03:02       0.0519    0.0383\n",
      "         6   MaxAbsScaler ExtremeRandomTrees                0:02:10       0.0477    0.0383\n",
      "         7   StandardScalerWrapper ElasticNet               0:01:45       0.0497    0.0383\n",
      "         8   StandardScalerWrapper ElasticNet               0:01:45       0.0517    0.0383\n",
      "         9   StandardScalerWrapper ElasticNet               0:01:42       0.0521    0.0383\n",
      "        10   MaxAbsScaler RandomForest                      0:01:41       0.0650    0.0383\n",
      "        11   StandardScalerWrapper ElasticNet               0:01:44       0.0475    0.0383\n",
      "        12   StandardScalerWrapper ElasticNet               0:01:55       0.0455    0.0383\n",
      "        13   StandardScalerWrapper ElasticNet               0:01:41       0.0497    0.0383\n",
      "        14   StandardScalerWrapper ElasticNet               0:01:42       0.0448    0.0383\n",
      "        15   StandardScalerWrapper ElasticNet               0:01:53       0.0505    0.0383\n",
      "        16   StandardScalerWrapper DecisionTree             0:01:49       0.0639    0.0383\n",
      "        17   StandardScalerWrapper ElasticNet               0:01:42       0.0495    0.0383\n",
      "        18   MaxAbsScaler DecisionTree                      0:01:38       0.0536    0.0383\n",
      "        19   TruncatedSVDWrapper ElasticNet                 0:01:45       0.0455    0.0383\n",
      "        20   StandardScalerWrapper LightGBM                 0:01:43       0.0421    0.0383\n",
      "        21   MaxAbsScaler GradientBoosting                  0:01:40       0.0516    0.0383\n",
      "        22   StandardScalerWrapper ExtremeRandomTrees       0:01:40       0.0481    0.0383\n",
      "        23   SparseNormalizer XGBoostRegressor              0:01:42       0.0392    0.0383\n",
      "        24   StandardScalerWrapper RandomForest             0:01:44       0.0453    0.0383\n",
      "        25   SparseNormalizer XGBoostRegressor              0:01:41       0.0553    0.0383\n",
      "        26   MaxAbsScaler ExtremeRandomTrees                0:01:43       0.0467    0.0383\n",
      "        27   SparseNormalizer ExtremeRandomTrees            0:01:41       0.0511    0.0383\n",
      "        28   SparseNormalizer ExtremeRandomTrees            0:01:46       0.0493    0.0383\n",
      "        29   StandardScalerWrapper RandomForest             0:01:41       0.0513    0.0383\n",
      "        30   StandardScalerWrapper XGBoostRegressor         0:01:43       0.0413    0.0383\n",
      "        31   MaxAbsScaler ExtremeRandomTrees                0:01:42       0.0467    0.0383\n",
      "        32   MaxAbsScaler RandomForest                      0:01:44       0.0439    0.0383\n",
      "        33   MaxAbsScaler ExtremeRandomTrees                0:01:02       0.0471    0.0383\n",
      "        34                                                  0:00:12          nan    0.0383\n",
      "        35                                                  0:00:03          nan    0.0383\n",
      "        36    VotingEnsemble                                0:01:44       0.0358    0.0358\n"
     ]
    },
    {
     "data": {
      "text/plain": [
       "{'runId': 'AutoML_1e771021-d455-495a-a028-2a419ca9feb4',\n",
       " 'target': 'cpu-cluster',\n",
       " 'status': 'Completed',\n",
       " 'startTimeUtc': '2021-08-20T12:32:07.015585Z',\n",
       " 'endTimeUtc': '2021-08-20T13:01:19.444131Z',\n",
       " 'properties': {'num_iterations': '1000',\n",
       "  'training_type': 'TrainFull',\n",
       "  'acquisition_function': 'EI',\n",
       "  'primary_metric': 'normalized_root_mean_squared_error',\n",
       "  'train_split': '0',\n",
       "  'acquisition_parameter': '0',\n",
       "  'num_cross_validation': '3',\n",
       "  'target': 'cpu-cluster',\n",
       "  'AMLSettingsJsonString': '{\"path\":null,\"name\":\"Ames-housing-AutoML\",\"subscription_id\":\"81cefad3-d2c9-4f77-a466-99a7f541c7bb\",\"resource_group\":\"aml-quickstarts-155153\",\"workspace_name\":\"quick-starts-ws-155153\",\"region\":\"southcentralus\",\"compute_target\":\"cpu-cluster\",\"spark_service\":null,\"azure_service\":\"remote\",\"many_models\":false,\"pipeline_fetch_max_batch_size\":1,\"enable_batch_run\":false,\"enable_run_restructure\":false,\"start_auxiliary_runs_before_parent_complete\":false,\"enable_code_generation\":false,\"iterations\":1000,\"primary_metric\":\"normalized_root_mean_squared_error\",\"task_type\":\"regression\",\"data_script\":null,\"test_size\":0.0,\"validation_size\":0.0,\"n_cross_validations\":3,\"y_min\":null,\"y_max\":null,\"num_classes\":null,\"featurization\":\"auto\",\"_ignore_package_version_incompatibilities\":false,\"is_timeseries\":false,\"max_cores_per_iteration\":-1,\"max_concurrent_iterations\":4,\"iteration_timeout_minutes\":5,\"mem_in_mb\":null,\"enforce_time_on_windows\":false,\"experiment_timeout_minutes\":120,\"experiment_exit_score\":null,\"whitelist_models\":null,\"blacklist_algos\":[\"TensorFlowDNN\",\"TensorFlowLinearRegressor\"],\"supported_models\":[\"XGBoostRegressor\",\"TensorFlowDNN\",\"DecisionTree\",\"SGD\",\"OnlineGradientDescentRegressor\",\"KNN\",\"ElasticNet\",\"LightGBM\",\"RandomForest\",\"TensorFlowLinearRegressor\",\"FastLinearRegressor\",\"GradientBoosting\",\"LassoLars\",\"ExtremeRandomTrees\"],\"private_models\":[],\"auto_blacklist\":true,\"blacklist_samples_reached\":false,\"exclude_nan_labels\":true,\"verbosity\":20,\"_debug_log\":\"azureml_automl.log\",\"show_warnings\":false,\"model_explainability\":true,\"service_url\":null,\"sdk_url\":null,\"sdk_packages\":null,\"enable_onnx_compatible_models\":true,\"enable_split_onnx_featurizer_estimator_models\":false,\"vm_type\":\"STANDARD_D2_V2\",\"telemetry_verbosity\":20,\"send_telemetry\":true,\"enable_dnn\":false,\"scenario\":\"SDK-1.13.0\",\"environment_label\":null,\"save_mlflow\":false,\"force_text_dnn\":false,\"enable_feature_sweeping\":false,\"enable_early_stopping\":true,\"early_stopping_n_iters\":10,\"metrics\":null,\"enable_metric_confidence\":false,\"enable_ensembling\":true,\"enable_stack_ensembling\":false,\"ensemble_iterations\":15,\"enable_tf\":false,\"enable_subsampling\":null,\"subsample_seed\":null,\"enable_nimbusml\":false,\"enable_streaming\":false,\"force_streaming\":false,\"track_child_runs\":true,\"allowed_private_models\":[],\"label_column_name\":\"SalePrice\",\"weight_column_name\":null,\"cv_split_column_names\":null,\"enable_local_managed\":false,\"_local_managed_run_id\":null,\"cost_mode\":1,\"lag_length\":0,\"metric_operation\":\"minimize\",\"preprocess\":true}',\n",
       "  'DataPrepJsonString': '{\\\\\"training_data\\\\\": {\\\\\"datasetId\\\\\": \\\\\"09830ce3-70c6-4e2a-b1f3-bae0f82a8ebd\\\\\"}, \\\\\"datasets\\\\\": 0}',\n",
       "  'EnableSubsampling': None,\n",
       "  'runTemplate': 'AutoML',\n",
       "  'azureml.runsource': 'automl',\n",
       "  'display_task_type': 'regression',\n",
       "  'dependencies_versions': '{\"azureml-widgets\": \"1.32.0\", \"azureml-train\": \"1.32.0\", \"azureml-train-restclients-hyperdrive\": \"1.32.0\", \"azureml-train-core\": \"1.32.0\", \"azureml-train-automl\": \"1.32.0\", \"azureml-train-automl-runtime\": \"1.32.0\", \"azureml-train-automl-client\": \"1.32.0\", \"azureml-tensorboard\": \"1.32.0\", \"azureml-telemetry\": \"1.32.0\", \"azureml-sdk\": \"1.32.0\", \"azureml-samples\": \"0+unknown\", \"azureml-responsibleai\": \"1.32.0\", \"azureml-pipeline\": \"1.32.0\", \"azureml-pipeline-steps\": \"1.32.0\", \"azureml-pipeline-core\": \"1.32.0\", \"azureml-opendatasets\": \"1.32.0\", \"azureml-model-management-sdk\": \"1.0.1b6.post1\", \"azureml-mlflow\": \"1.32.0\", \"azureml-interpret\": \"1.32.0\", \"azureml-explain-model\": \"1.32.0\", \"azureml-defaults\": \"1.32.0\", \"azureml-dataset-runtime\": \"1.32.0\", \"azureml-dataprep\": \"2.18.0\", \"azureml-dataprep-rslex\": \"1.16.1\", \"azureml-dataprep-native\": \"36.0.0\", \"azureml-datadrift\": \"1.32.0\", \"azureml-core\": \"1.32.0\", \"azureml-contrib-services\": \"1.32.0\", \"azureml-contrib-server\": \"1.32.0\", \"azureml-contrib-reinforcementlearning\": \"1.32.0\", \"azureml-contrib-pipeline-steps\": \"1.32.0\", \"azureml-contrib-notebook\": \"1.32.0\", \"azureml-contrib-fairness\": \"1.32.0\", \"azureml-contrib-dataset\": \"1.32.0\", \"azureml-cli-common\": \"1.32.0\", \"azureml-automl-runtime\": \"1.32.0\", \"azureml-automl-dnn-nlp\": \"1.32.0\", \"azureml-automl-core\": \"1.32.0\", \"azureml-accel-models\": \"1.32.0\"}',\n",
       "  '_aml_system_scenario_identification': 'Remote.Parent',\n",
       "  'ClientType': 'SDK',\n",
       "  'environment_cpu_name': 'AzureML-AutoML',\n",
       "  'environment_cpu_label': 'prod',\n",
       "  'environment_gpu_name': 'AzureML-AutoML-GPU',\n",
       "  'environment_gpu_label': 'prod',\n",
       "  'root_attribution': 'automl',\n",
       "  'attribution': 'AutoML',\n",
       "  'Orchestrator': 'AutoML',\n",
       "  'CancelUri': 'https://southcentralus.api.azureml.ms/jasmine/v1.0/subscriptions/81cefad3-d2c9-4f77-a466-99a7f541c7bb/resourceGroups/aml-quickstarts-155153/providers/Microsoft.MachineLearningServices/workspaces/quick-starts-ws-155153/experimentids/b6923e11-60ca-41d6-9a9d-c9f34582fe39/cancel/AutoML_1e771021-d455-495a-a028-2a419ca9feb4',\n",
       "  'ClientSdkVersion': '1.33.0',\n",
       "  'snapshotId': '00000000-0000-0000-0000-000000000000',\n",
       "  'SetupRunId': 'AutoML_1e771021-d455-495a-a028-2a419ca9feb4_setup',\n",
       "  'SetupRunContainerId': 'dcid.AutoML_1e771021-d455-495a-a028-2a419ca9feb4_setup',\n",
       "  'FeaturizationRunJsonPath': 'featurizer_container.json',\n",
       "  'FeaturizationRunId': 'AutoML_1e771021-d455-495a-a028-2a419ca9feb4_featurize',\n",
       "  'ProblemInfoJsonString': '{\"dataset_num_categorical\": 0, \"is_sparse\": true, \"subsampling\": false, \"has_extra_col\": true, \"dataset_classes\": 663, \"dataset_features\": 453, \"dataset_samples\": 1460, \"single_frequency_class_detected\": false}',\n",
       "  'ModelExplainRunId': 'AutoML_1e771021-d455-495a-a028-2a419ca9feb4_ModelExplain'},\n",
       " 'inputDatasets': [{'dataset': {'id': '09830ce3-70c6-4e2a-b1f3-bae0f82a8ebd'}, 'consumptionDetails': {'type': 'RunInput', 'inputName': 'training_data', 'mechanism': 'Direct'}}],\n",
       " 'outputDatasets': [],\n",
       " 'logFiles': {},\n",
       " 'submittedBy': 'ODL_User 155153'}"
      ]
     },
     "execution_count": 7,
     "metadata": {},
     "output_type": "execute_result"
    }
   ],
   "source": [
    "# TODO: Submit your experiment\n",
    "aml_run = experiment.submit(automl_config)\n",
    "RunDetails(aml_run).show()\n",
    "aml_run.wait_for_completion(show_output=True)"
   ]
  },
  {
   "cell_type": "markdown",
   "metadata": {},
   "source": [
    "## Best Model\n",
    "\n",
    "*TODO: In the cell below, get the best model from the automl experiments and display all the properties of the model.*"
   ]
  },
  {
   "cell_type": "code",
   "execution_count": 8,
   "metadata": {
    "gather": {
     "logged": 1629036093375
    },
    "jupyter": {
     "outputs_hidden": false,
     "source_hidden": false
    },
    "nteract": {
     "transient": {
      "deleting": false
     }
    }
   },
   "outputs": [
    {
     "name": "stderr",
     "output_type": "stream",
     "text": [
      "WARNING:root:The version of the SDK does not match the version the model was trained on.\n",
      "WARNING:root:The consistency in the result may not be guaranteed.\n",
      "WARNING:root:Package:azureml-automl-core, training version:1.33.0, current version:1.32.0\n",
      "Package:azureml-automl-runtime, training version:1.33.0, current version:1.32.0\n",
      "Package:azureml-core, training version:1.33.0, current version:1.32.0\n",
      "Package:azureml-dataprep, training version:2.20.1, current version:2.18.0\n",
      "Package:azureml-dataprep-native, training version:38.0.0, current version:36.0.0\n",
      "Package:azureml-dataprep-rslex, training version:1.18.0, current version:1.16.1\n",
      "Package:azureml-dataset-runtime, training version:1.33.0, current version:1.32.0\n",
      "Package:azureml-defaults, training version:1.33.0, current version:1.32.0\n",
      "Package:azureml-interpret, training version:1.33.0, current version:1.32.0\n",
      "Package:azureml-mlflow, training version:1.33.0, current version:1.32.0\n",
      "Package:azureml-pipeline-core, training version:1.33.0, current version:1.32.0\n",
      "Package:azureml-responsibleai, training version:1.33.0, current version:1.32.0\n",
      "Package:azureml-telemetry, training version:1.33.0, current version:1.32.0\n",
      "Package:azureml-train-automl-client, training version:1.33.0, current version:1.32.0\n",
      "Package:azureml-train-automl-runtime, training version:1.33.0, current version:1.32.0\n",
      "WARNING:root:Please ensure the version of your local conda dependencies match the version on which your model was trained in order to properly retrieve your model.\n"
     ]
    },
    {
     "name": "stdout",
     "output_type": "stream",
     "text": [
      "Run(Experiment: Ames-housing-AutoML,\n",
      "Id: AutoML_1e771021-d455-495a-a028-2a419ca9feb4_36,\n",
      "Type: azureml.scriptrun,\n",
      "Status: Completed)\n",
      "RegressionPipeline(pipeline=Pipeline(memory=None,\n",
      "                                     steps=[('datatransformer',\n",
      "                                             DataTransformer(enable_dnn=False, enable_feature_sweeping=False, feature_sweeping_config={}, feature_sweeping_timeout=86400, featurization_config=None, force_text_dnn=False, is_cross_validation=True, is_onnx_compatible=True, observer=None, task='regression', working_dir='/mnt/batch/ta...\n",
      "), random_state=0, reg_alpha=1.4583333333333335, reg_lambda=2.3958333333333335, subsample=0.6, tree_method='hist'))], verbose=False)), ('5', Pipeline(memory=None, steps=[('maxabsscaler', MaxAbsScaler(copy=True)), ('elasticnet', ElasticNet(alpha=0.001, copy_X=True, fit_intercept=True, l1_ratio=1, max_iter=1000, normalize=False, positive=False, precompute=False, random_state=None, selection='cyclic', tol=0.0001, warm_start=False))], verbose=False))], weights=[0.4666666666666667, 0.4, 0.13333333333333333]))],\n",
      "                                     verbose=False),\n",
      "                   stddev=[25779.29930072712])\n"
     ]
    }
   ],
   "source": [
    "# Get your best run and save the model from that run.\n",
    "best_run, fitted_model = aml_run.get_output()\n",
    "print(best_run)\n",
    "print(fitted_model)"
   ]
  },
  {
   "cell_type": "code",
   "execution_count": 9,
   "metadata": {
    "gather": {
     "logged": 1629036109480
    }
   },
   "outputs": [
    {
     "data": {
      "text/plain": [
       "{'normalized_root_mean_squared_error': 0.03578930551264211,\n",
       " 'root_mean_squared_log_error': 0.1302258721688295,\n",
       " 'explained_variance': 0.8944570643792374,\n",
       " 'normalized_root_mean_squared_log_error': 0.04236084835831457,\n",
       " 'normalized_median_absolute_error': 0.014509132245016371,\n",
       " 'root_mean_squared_error': 25771.878899653584,\n",
       " 'median_absolute_error': 10448.026129636288,\n",
       " 'spearman_correlation': 0.9562762595312719,\n",
       " 'mean_absolute_error': 15609.99578903144,\n",
       " 'mean_absolute_percentage_error': 9.19763905867747,\n",
       " 'normalized_mean_absolute_error': 0.021677538937691213,\n",
       " 'r2_score': 0.8942712633731941,\n",
       " 'residuals': 'aml://artifactId/ExperimentRun/dcid.AutoML_1e771021-d455-495a-a028-2a419ca9feb4_36/residuals',\n",
       " 'predicted_true': 'aml://artifactId/ExperimentRun/dcid.AutoML_1e771021-d455-495a-a028-2a419ca9feb4_36/predicted_true'}"
      ]
     },
     "execution_count": 9,
     "metadata": {},
     "output_type": "execute_result"
    }
   ],
   "source": [
    "best_run_metrics = best_run.get_metrics()\n",
    "best_run_metrics"
   ]
  },
  {
   "cell_type": "code",
   "execution_count": 10,
   "metadata": {
    "gather": {
     "logged": 1629036125304
    }
   },
   "outputs": [
    {
     "data": {
      "text/html": [
       "<div>\n",
       "<style scoped>\n",
       "    .dataframe tbody tr th:only-of-type {\n",
       "        vertical-align: middle;\n",
       "    }\n",
       "\n",
       "    .dataframe tbody tr th {\n",
       "        vertical-align: top;\n",
       "    }\n",
       "\n",
       "    .dataframe thead th {\n",
       "        text-align: right;\n",
       "    }\n",
       "</style>\n",
       "<table border=\"1\" class=\"dataframe\">\n",
       "  <thead>\n",
       "    <tr style=\"text-align: right;\">\n",
       "      <th></th>\n",
       "      <th>ensembled_algorithms</th>\n",
       "      <th>ensemble_weights</th>\n",
       "    </tr>\n",
       "  </thead>\n",
       "  <tbody>\n",
       "    <tr>\n",
       "      <th>0</th>\n",
       "      <td>XGBoostRegressor</td>\n",
       "      <td>0.47</td>\n",
       "    </tr>\n",
       "    <tr>\n",
       "      <th>1</th>\n",
       "      <td>XGBoostRegressor</td>\n",
       "      <td>0.40</td>\n",
       "    </tr>\n",
       "    <tr>\n",
       "      <th>2</th>\n",
       "      <td>ElasticNet</td>\n",
       "      <td>0.13</td>\n",
       "    </tr>\n",
       "  </tbody>\n",
       "</table>\n",
       "</div>"
      ],
      "text/plain": [
       "  ensembled_algorithms  ensemble_weights\n",
       "0     XGBoostRegressor              0.47\n",
       "1     XGBoostRegressor              0.40\n",
       "2           ElasticNet              0.13"
      ]
     },
     "execution_count": 10,
     "metadata": {},
     "output_type": "execute_result"
    }
   ],
   "source": [
    "details = best_run.get_details()\n",
    "# A pattern for extracting structure of the VotingEnsemble model\n",
    "voting_ensemble = {k:ast.literal_eval(details['properties'][k]) for k in ['ensembled_algorithms', 'ensemble_weights']}\n",
    "pd.DataFrame(voting_ensemble).sort_values(by='ensemble_weights', ascending=False)"
   ]
  },
  {
   "cell_type": "code",
   "execution_count": 11,
   "metadata": {
    "gather": {
     "logged": 1629036142080
    }
   },
   "outputs": [],
   "source": [
    "# Save metrics and details for ex-post examination\n",
    "os.makedirs('./aml-outputs', exist_ok=True)\n",
    "with open('aml-outputs/best_aml_metrics.json', 'w') as file:\n",
    "    json.dump(best_run_metrics, file)\n",
    "with open('aml-outputs/best_aml_details.txt', 'w') as file:\n",
    "    file.write(str(details))"
   ]
  },
  {
   "cell_type": "code",
   "execution_count": 12,
   "metadata": {
    "gather": {
     "logged": 1629036158474
    }
   },
   "outputs": [],
   "source": [
    "# Explore the main model in the ensemble\n",
    "main_dict = {}\n",
    "main_dict['preprocessor'] = str(type(fitted_model.steps[1][1].get_params()['estimators'][0][1].get_params()['steps'][0][1]))"
   ]
  },
  {
   "cell_type": "code",
   "execution_count": 13,
   "metadata": {
    "gather": {
     "logged": 1629036161063
    }
   },
   "outputs": [],
   "source": [
    "main_dict['estimator_type'] = str(type(fitted_model.steps[1][1].get_params()['estimators'][0][1].get_params()['steps'][1][1]))"
   ]
  },
  {
   "cell_type": "code",
   "execution_count": 14,
   "metadata": {
    "gather": {
     "logged": 1629036163716
    }
   },
   "outputs": [],
   "source": [
    "main_dict['estimator_param'] = fitted_model.steps[1][1].get_params()['estimators'][0][1].get_params()['steps'][1][1].get_params()"
   ]
  },
  {
   "cell_type": "code",
   "execution_count": 15,
   "metadata": {
    "gather": {
     "logged": 1629036167589
    }
   },
   "outputs": [
    {
     "data": {
      "text/plain": [
       "{'preprocessor': \"<class 'sklearn.preprocessing._data.MaxAbsScaler'>\",\n",
       " 'estimator_type': \"<class 'azureml.automl.runtime.shared.model_wrappers.XGBoostRegressor'>\",\n",
       " 'estimator_param': {'base_score': 0.5,\n",
       "  'booster': 'gbtree',\n",
       "  'colsample_bylevel': 1,\n",
       "  'colsample_bynode': 1,\n",
       "  'colsample_bytree': 1,\n",
       "  'gamma': 0,\n",
       "  'importance_type': 'gain',\n",
       "  'learning_rate': 0.1,\n",
       "  'max_delta_step': 0,\n",
       "  'max_depth': 3,\n",
       "  'min_child_weight': 1,\n",
       "  'missing': nan,\n",
       "  'n_estimators': 100,\n",
       "  'n_jobs': -1,\n",
       "  'nthread': None,\n",
       "  'objective': 'reg:squarederror',\n",
       "  'random_state': 0,\n",
       "  'reg_alpha': 0,\n",
       "  'reg_lambda': 1,\n",
       "  'scale_pos_weight': 1,\n",
       "  'seed': None,\n",
       "  'silent': None,\n",
       "  'subsample': 1,\n",
       "  'verbosity': 0,\n",
       "  'tree_method': 'auto',\n",
       "  'verbose': -10}}"
      ]
     },
     "execution_count": 15,
     "metadata": {},
     "output_type": "execute_result"
    }
   ],
   "source": [
    "# Save details of the main model for ex-post examination\n",
    "with open('aml-outputs/best_aml_main_model.json', 'w') as file:\n",
    "    json.dump(main_dict, file)\n",
    "main_dict"
   ]
  },
  {
   "cell_type": "code",
   "execution_count": 16,
   "metadata": {
    "gather": {
     "logged": 1629036187839
    },
    "jupyter": {
     "outputs_hidden": false,
     "source_hidden": false
    },
    "nteract": {
     "transient": {
      "deleting": false
     }
    }
   },
   "outputs": [
    {
     "name": "stdout",
     "output_type": "stream",
     "text": [
      "0 automl_driver.py\n",
      "1 azureml-logs/55_azureml-execution-tvmps_f910f983a8c5ed8eb8dbf85b5daf9c414008c6e03c795e484c51c33c7862743f_d.txt\n",
      "2 azureml-logs/65_job_prep-tvmps_f910f983a8c5ed8eb8dbf85b5daf9c414008c6e03c795e484c51c33c7862743f_d.txt\n",
      "3 azureml-logs/70_driver_log.txt\n",
      "4 azureml-logs/75_job_post-tvmps_f910f983a8c5ed8eb8dbf85b5daf9c414008c6e03c795e484c51c33c7862743f_d.txt\n",
      "5 azureml-logs/process_info.json\n",
      "6 azureml-logs/process_status.json\n",
      "7 explanation/5b1854a8/eval_data_viz.interpret.json\n",
      "8 explanation/5b1854a8/expected_values.interpret.json\n",
      "9 explanation/5b1854a8/features.interpret.json\n",
      "10 explanation/5b1854a8/global_names/0.interpret.json\n",
      "11 explanation/5b1854a8/global_rank/0.interpret.json\n",
      "12 explanation/5b1854a8/global_values/0.interpret.json\n",
      "13 explanation/5b1854a8/local_importance_values.interpret.json\n",
      "14 explanation/5b1854a8/rich_metadata.interpret.json\n",
      "15 explanation/5b1854a8/true_ys_viz.interpret.json\n",
      "16 explanation/5b1854a8/visualization_dict.interpret.json\n",
      "17 explanation/5b1854a8/ys_pred_viz.interpret.json\n",
      "18 explanation/70c3d4a4/expected_values.interpret.json\n",
      "19 explanation/70c3d4a4/features.interpret.json\n",
      "20 explanation/70c3d4a4/global_names/0.interpret.json\n",
      "21 explanation/70c3d4a4/global_rank/0.interpret.json\n",
      "22 explanation/70c3d4a4/global_values/0.interpret.json\n",
      "23 explanation/70c3d4a4/local_importance_values.interpret.json\n",
      "24 explanation/70c3d4a4/rich_metadata.interpret.json\n",
      "25 explanation/70c3d4a4/true_ys_viz.interpret.json\n",
      "26 explanation/70c3d4a4/visualization_dict.interpret.json\n",
      "27 explanation/70c3d4a4/ys_pred_viz.interpret.json\n",
      "28 logs/azureml/94_azureml.log\n",
      "29 logs/azureml/azureml_automl-child.log\n",
      "30 logs/azureml/azureml_automl.log\n",
      "31 logs/azureml/job_prep_azureml.log\n",
      "32 logs/azureml/job_release_azureml.log\n",
      "33 outputs/conda_env_v_1_0_0.yml\n",
      "34 outputs/env_dependencies.json\n",
      "35 outputs/internal_cross_validated_models.pkl\n",
      "36 outputs/model.onnx\n",
      "37 outputs/model.pkl\n",
      "38 outputs/model_onnx.json\n",
      "39 outputs/pipeline_graph.json\n",
      "40 outputs/scoring_file_v_1_0_0.py\n",
      "41 outputs/scoring_file_v_2_0_0.py\n",
      "42 predicted_true\n",
      "43 residuals\n"
     ]
    }
   ],
   "source": [
    "# Check the path to the model\n",
    "for i,n in enumerate(best_run.get_file_names()):\n",
    "    print(i,n)"
   ]
  },
  {
   "cell_type": "code",
   "execution_count": 17,
   "metadata": {
    "gather": {
     "logged": 1629036249305
    }
   },
   "outputs": [
    {
     "name": "stdout",
     "output_type": "stream",
     "text": [
      "outputs/conda_env_v_1_0_0.yml\n",
      "outputs/env_dependencies.json\n",
      "outputs/internal_cross_validated_models.pkl\n",
      "outputs/model.onnx\n",
      "outputs/model.pkl\n",
      "outputs/model_onnx.json\n",
      "outputs/pipeline_graph.json\n",
      "outputs/scoring_file_v_1_0_0.py\n",
      "outputs/scoring_file_v_2_0_0.py\n"
     ]
    }
   ],
   "source": [
    "# Save the best model\n",
    "os.makedirs('./aml-outputs/', exist_ok=True)\n",
    "for i in range(33,42):\n",
    "    print(best_run.get_file_names()[i])\n",
    "    best_run.download_file(best_run.get_file_names()[i], output_file_path='./aml-outputs/')"
   ]
  },
  {
   "cell_type": "markdown",
   "metadata": {},
   "source": [
    "Remember you have to deploy only one of the two models you trained. Perform the steps in the rest of this notebook only if you wish to deploy this model.\n",
    "\n",
    "*TODO: In the cell below, register the model, create an inference config and deploy the model as a web service.*\n",
    "\n",
    "**Even if it is not necessary to deploy the AutoML model, I am testing the solution to the \"AciDeploymentFailed\" error I encountered in previus experiments.**"
   ]
  },
  {
   "cell_type": "code",
   "execution_count": 8,
   "metadata": {},
   "outputs": [],
   "source": [
    "with open('aml-outputs/best_aml_metrics.json', 'r') as file:\n",
    "    best_run_metrics = json.load(file)"
   ]
  },
  {
   "cell_type": "code",
   "execution_count": 9,
   "metadata": {
    "gather": {
     "logged": 1629038256297
    }
   },
   "outputs": [
    {
     "name": "stdout",
     "output_type": "stream",
     "text": [
      "Registering model Ames-Housing-AutoML-Model\n",
      "Ames-Housing-AutoML-Model\tAmes-Housing-AutoML-Model:1\t1\n"
     ]
    }
   ],
   "source": [
    "# Register the best model\n",
    "model = Model.register(ws, model_path='aml-outputs/model.pkl', model_name='Ames-Housing-AutoML-Model', tags=best_run_metrics)\n",
    "print(model.name, model.id, model.version, sep='\\t')"
   ]
  },
  {
   "cell_type": "code",
   "execution_count": 10,
   "metadata": {
    "gather": {
     "logged": 1629038264016
    }
   },
   "outputs": [],
   "source": [
    "from azureml.core.webservice import AciWebservice\n",
    "aciconfig = AciWebservice.deploy_configuration(cpu_cores=1,\n",
    "                                              memory_gb=1,\n",
    "                                              tags={\"data\" : \"Kaggle\", \"method\" : \"AutoML\"},\n",
    "                                              description=\"Predict Ames Housing Prices\",\n",
    "                                              auth_enabled=True,\n",
    "                                              enable_app_insights=True)"
   ]
  },
  {
   "cell_type": "code",
   "execution_count": 11,
   "metadata": {
    "gather": {
     "logged": 1629038274840
    }
   },
   "outputs": [
    {
     "data": {
      "text/plain": [
       "{\n",
       "    \"databricks\": {\n",
       "        \"eggLibraries\": [],\n",
       "        \"jarLibraries\": [],\n",
       "        \"mavenLibraries\": [],\n",
       "        \"pypiLibraries\": [],\n",
       "        \"rcranLibraries\": []\n",
       "    },\n",
       "    \"docker\": {\n",
       "        \"arguments\": [],\n",
       "        \"baseDockerfile\": null,\n",
       "        \"baseImage\": \"mcr.microsoft.com/azureml/openmpi3.1.2-ubuntu18.04:20210615.v1\",\n",
       "        \"baseImageRegistry\": {\n",
       "            \"address\": null,\n",
       "            \"password\": null,\n",
       "            \"registryIdentity\": null,\n",
       "            \"username\": null\n",
       "        },\n",
       "        \"enabled\": false,\n",
       "        \"platform\": {\n",
       "            \"architecture\": \"amd64\",\n",
       "            \"os\": \"Linux\"\n",
       "        },\n",
       "        \"sharedVolumes\": true,\n",
       "        \"shmSize\": null\n",
       "    },\n",
       "    \"environmentVariables\": {\n",
       "        \"EXAMPLE_ENV_VAR\": \"EXAMPLE_VALUE\"\n",
       "    },\n",
       "    \"inferencingStackVersion\": null,\n",
       "    \"name\": \"project-env\",\n",
       "    \"python\": {\n",
       "        \"baseCondaEnvironment\": null,\n",
       "        \"condaDependencies\": {\n",
       "            \"channels\": [\n",
       "                \"anaconda\",\n",
       "                \"conda-forge\"\n",
       "            ],\n",
       "            \"dependencies\": [\n",
       "                \"python=3.6.2\",\n",
       "                {\n",
       "                    \"pip\": [\n",
       "                        \"azureml-train-automl-runtime==1.33.0\",\n",
       "                        \"inference-schema\",\n",
       "                        \"azureml-interpret==1.33.0\",\n",
       "                        \"azureml-defaults==1.33.0\"\n",
       "                    ]\n",
       "                },\n",
       "                \"numpy>=1.16.0,<1.19.0\",\n",
       "                \"pandas==0.25.1\",\n",
       "                \"scikit-learn==0.22.1\",\n",
       "                \"py-xgboost<=0.90\",\n",
       "                \"fbprophet==0.5\",\n",
       "                \"holidays==0.9.11\",\n",
       "                \"psutil>=5.2.2,<6.0.0\"\n",
       "            ],\n",
       "            \"name\": \"azureml_59fba923920e15fa8fbe872c700ad33f\"\n",
       "        },\n",
       "        \"condaDependenciesFile\": null,\n",
       "        \"interpreterPath\": \"python\",\n",
       "        \"userManagedDependencies\": false\n",
       "    },\n",
       "    \"r\": null,\n",
       "    \"spark\": {\n",
       "        \"packages\": [],\n",
       "        \"precachePackages\": true,\n",
       "        \"repositories\": []\n",
       "    },\n",
       "    \"version\": \"3\"\n",
       "}"
      ]
     },
     "execution_count": 11,
     "metadata": {},
     "output_type": "execute_result"
    }
   ],
   "source": [
    "from azureml.core.environment import Environment\n",
    "from azureml.core.conda_dependencies import CondaDependencies\n",
    "\n",
    "env = Environment(\"project-env\")\n",
    "cd = CondaDependencies('aml-outputs/conda_env_v_1_0_0.yml')\n",
    "env.python.conda_dependencies = cd\n",
    "# Register environment to re-use later\n",
    "env.register(workspace=ws)"
   ]
  },
  {
   "cell_type": "code",
   "execution_count": 12,
   "metadata": {},
   "outputs": [
    {
     "name": "stdout",
     "output_type": "stream",
     "text": [
      "Tips: You can try get_logs(): https://aka.ms/debugimage#dockerlog or local deployment: https://aka.ms/debugimage#debug-locally to debug if deployment takes longer than 10 minutes.\n",
      "Running\n",
      "2021-08-20 15:00:58+00:00 Creating Container Registry if not exists.\n",
      "2021-08-20 15:00:59+00:00 Registering the environment.\n",
      "2021-08-20 15:01:00+00:00 Use the existing image.\n",
      "2021-08-20 15:01:00+00:00 Generating deployment configuration.\n",
      "2021-08-20 15:01:01+00:00 Submitting deployment to compute.\n",
      "2021-08-20 15:01:04+00:00 Checking the status of deployment ames-housing-aml-f110..\n",
      "2021-08-20 15:04:45+00:00 Checking the status of inference endpoint ames-housing-aml-f110.\n",
      "Succeeded\n",
      "ACI service creation operation finished, operation \"Succeeded\"\n",
      "CPU times: user 743 ms, sys: 34.8 ms, total: 778 ms\n",
      "Wall time: 3min 53s\n"
     ]
    }
   ],
   "source": [
    "%%time\n",
    "import uuid\n",
    "from azureml.core.webservice import Webservice\n",
    "from azureml.core.model import InferenceConfig\n",
    "from azureml.core.environment import Environment\n",
    "from azureml.core import Workspace\n",
    "from azureml.core.model import Model\n",
    "\n",
    "ws = Workspace.from_config()\n",
    "model = Model(ws, 'Ames-Housing-AutoML-Model')\n",
    "\n",
    "# Using another environment as recommended by Akintunde, an Udacity mentor\n",
    "myenv = Environment.get(workspace=ws, name=\"AzureML-AutoML\")\n",
    "inference_config = InferenceConfig(entry_script=\"aml-outputs/scoring_file_v_1_0_0.py\", environment=myenv)\n",
    "\n",
    "service_name = 'ames-housing-aml-' + str(uuid.uuid4())[:4]\n",
    "service = Model.deploy(workspace=ws,\n",
    "                      name=service_name,\n",
    "                      models=[model],\n",
    "                      inference_config=inference_config,\n",
    "                      deployment_config=aciconfig)\n",
    "\n",
    "service.wait_for_deployment(show_output=True)"
   ]
  },
  {
   "cell_type": "code",
   "execution_count": 13,
   "metadata": {},
   "outputs": [
    {
     "name": "stdout",
     "output_type": "stream",
     "text": [
      "2021-08-20T15:04:36,686530900+00:00 - rsyslog/run \n",
      "2021-08-20T15:04:36,690225900+00:00 - iot-server/run \n",
      "2021-08-20T15:04:36,696348200+00:00 - gunicorn/run \n",
      "Dynamic Python package installation is disabled.\n",
      "Starting HTTP server\n",
      "2021-08-20T15:04:36,711672100+00:00 - nginx/run \n",
      "rsyslogd: /azureml-envs/azureml_3489174eb648a475780c9959ff366072/lib/libuuid.so.1: no version information available (required by rsyslogd)\n",
      "EdgeHubConnectionString and IOTEDGE_IOTHUBHOSTNAME are not set. Exiting...\n",
      "2021-08-20T15:04:37,243257500+00:00 - iot-server/finish 1 0\n",
      "2021-08-20T15:04:37,245978900+00:00 - Exit code 1 is normal. Not restarting iot-server.\n",
      "Starting gunicorn 20.1.0\n",
      "Listening at: http://127.0.0.1:31311 (58)\n",
      "Using worker: sync\n",
      "worker timeout is set to 300\n",
      "Booting worker with pid: 86\n",
      "SPARK_HOME not set. Skipping PySpark Initialization.\n",
      "Generating new fontManager, this may take some time...\n",
      "Initializing logger\n",
      "2021-08-20 15:04:40,695 | root | INFO | Starting up app insights client\n",
      "logging socket was found. logging is available.\n",
      "logging socket was found. logging is available.\n",
      "2021-08-20 15:04:40,696 | root | INFO | Starting up request id generator\n",
      "2021-08-20 15:04:40,696 | root | INFO | Starting up app insight hooks\n",
      "2021-08-20 15:04:40,696 | root | INFO | Invoking user's init function\n",
      "2021-08-20 15:04:46,470 | azureml.core | WARNING | Failure while loading azureml_run_type_providers. Failed to load entrypoint automl = azureml.train.automl.run:AutoMLRun._from_run_dto with exception cannot import name 'RunType'.\n",
      "Failure while loading azureml_run_type_providers. Failed to load entrypoint automl = azureml.train.automl.run:AutoMLRun._from_run_dto with exception cannot import name 'RunType'.\n",
      "2021-08-20 15:04:48,069 | root | INFO | Users's init has completed successfully\n",
      "2021-08-20 15:04:48,074 | root | INFO | Skipping middleware: dbg_model_info as it's not enabled.\n",
      "2021-08-20 15:04:48,074 | root | INFO | Skipping middleware: dbg_resource_usage as it's not enabled.\n",
      "Generating swagger file: /tmp/tmpdfipu4v7\n",
      "2021-08-20 15:04:48,085 | root | INFO | Scoring timeout is found from os.environ: 60000 ms\n",
      "2021-08-20 15:04:48,102 | root | INFO | 200\n",
      "127.0.0.1 - - [20/Aug/2021:15:04:48 +0000] \"GET /swagger.json HTTP/1.0\" 200 8368 \"-\" \"Go-http-client/1.1\"\n",
      "2021-08-20 15:04:49,485 | root | INFO | 200\n",
      "127.0.0.1 - - [20/Aug/2021:15:04:49 +0000] \"GET /swagger.json HTTP/1.0\" 200 8368 \"-\" \"Go-http-client/1.1\"\n",
      "\n"
     ]
    }
   ],
   "source": [
    "## Yes, no it works!!\n",
    "print(service.get_logs())"
   ]
  },
  {
   "cell_type": "code",
   "execution_count": null,
   "metadata": {},
   "outputs": [],
   "source": [
    "from azureml.core.authentication import InteractiveLoginAuthentication\n",
    "\n",
    "interactive_auth = InteractiveLoginAuthentication()\n",
    "auth_header = interactive_auth.get_authentication_header()"
   ]
  },
  {
   "cell_type": "code",
   "execution_count": 15,
   "metadata": {},
   "outputs": [],
   "source": [
    "# Prepare data for request\n",
    "_ , test = train_xgb.load_data_clean()\n",
    "data = {'data': test.head().to_dict(orient='list')}\n",
    "\n",
    "# Replace the next cell with the code from 'Consume' tab of the endpoint\n",
    "# and delete 'data = {}' assignment as data is defined in this cell!  "
   ]
  },
  {
   "cell_type": "markdown",
   "metadata": {
    "collapsed": true,
    "gather": {
     "logged": 1598431657736
    },
    "jupyter": {
     "outputs_hidden": false,
     "source_hidden": false
    },
    "nteract": {
     "transient": {
      "deleting": false
     }
    }
   },
   "source": [
    "TODO: In the cell below, send a request to the web service you deployed to test it."
   ]
  },
  {
   "cell_type": "code",
   "execution_count": 16,
   "metadata": {},
   "outputs": [
    {
     "name": "stdout",
     "output_type": "stream",
     "text": [
      "b'\"{\\\\\"result\\\\\": [121027.45623469575, 161643.33678900695, 180129.95527012326, 186432.5618099261, 192173.95002451804]}\"'\n"
     ]
    }
   ],
   "source": [
    "import urllib.request\n",
    "import json\n",
    "import os\n",
    "import ssl\n",
    "\n",
    "def allowSelfSignedHttps(allowed):\n",
    "    # bypass the server certificate verification on client side\n",
    "    if allowed and not os.environ.get('PYTHONHTTPSVERIFY', '') and getattr(ssl, '_create_unverified_context', None):\n",
    "        ssl._create_default_https_context = ssl._create_unverified_context\n",
    "\n",
    "allowSelfSignedHttps(True) # this line is needed if you use self-signed certificate in your scoring service.\n",
    "\n",
    "# Request data goes here\n",
    "\n",
    "body = str.encode(json.dumps(data))\n",
    "\n",
    "url = 'http://c0a484ea-faf1-420a-9655-f2ad4967541c.southcentralus.azurecontainer.io/score'\n",
    "api_key = 'gUMGn4uSgbtKhpQgMX6YLjaF5K2lb1Tv' # Replace this with the API key for the web service\n",
    "headers = {'Content-Type':'application/json', 'Authorization':('Bearer '+ api_key)}\n",
    "\n",
    "req = urllib.request.Request(url, body, headers)\n",
    "\n",
    "try:\n",
    "    response = urllib.request.urlopen(req)\n",
    "\n",
    "    result = response.read()\n",
    "    print(result)\n",
    "except urllib.error.HTTPError as error:\n",
    "    print(\"The request failed with status code: \" + str(error.code))\n",
    "\n",
    "    # Print the headers - they include the requert ID and the timestamp, which are useful for debugging the failure\n",
    "    print(error.info())\n",
    "    print(json.loads(error.read().decode(\"utf8\", 'ignore')))"
   ]
  },
  {
   "cell_type": "markdown",
   "metadata": {
    "collapsed": true,
    "gather": {
     "logged": 1598432765711
    },
    "jupyter": {
     "outputs_hidden": false,
     "source_hidden": false
    },
    "nteract": {
     "transient": {
      "deleting": false
     }
    }
   },
   "source": [
    "TODO: In the cell below, print the logs of the web service and delete the service"
   ]
  },
  {
   "cell_type": "code",
   "execution_count": 17,
   "metadata": {},
   "outputs": [
    {
     "name": "stdout",
     "output_type": "stream",
     "text": [
      "2021-08-20T15:04:36,686530900+00:00 - rsyslog/run \n",
      "2021-08-20T15:04:36,690225900+00:00 - iot-server/run \n",
      "2021-08-20T15:04:36,696348200+00:00 - gunicorn/run \n",
      "Dynamic Python package installation is disabled.\n",
      "Starting HTTP server\n",
      "2021-08-20T15:04:36,711672100+00:00 - nginx/run \n",
      "rsyslogd: /azureml-envs/azureml_3489174eb648a475780c9959ff366072/lib/libuuid.so.1: no version information available (required by rsyslogd)\n",
      "EdgeHubConnectionString and IOTEDGE_IOTHUBHOSTNAME are not set. Exiting...\n",
      "2021-08-20T15:04:37,243257500+00:00 - iot-server/finish 1 0\n",
      "2021-08-20T15:04:37,245978900+00:00 - Exit code 1 is normal. Not restarting iot-server.\n",
      "Starting gunicorn 20.1.0\n",
      "Listening at: http://127.0.0.1:31311 (58)\n",
      "Using worker: sync\n",
      "worker timeout is set to 300\n",
      "Booting worker with pid: 86\n",
      "SPARK_HOME not set. Skipping PySpark Initialization.\n",
      "Generating new fontManager, this may take some time...\n",
      "Initializing logger\n",
      "2021-08-20 15:04:40,695 | root | INFO | Starting up app insights client\n",
      "logging socket was found. logging is available.\n",
      "logging socket was found. logging is available.\n",
      "2021-08-20 15:04:40,696 | root | INFO | Starting up request id generator\n",
      "2021-08-20 15:04:40,696 | root | INFO | Starting up app insight hooks\n",
      "2021-08-20 15:04:40,696 | root | INFO | Invoking user's init function\n",
      "2021-08-20 15:04:46,470 | azureml.core | WARNING | Failure while loading azureml_run_type_providers. Failed to load entrypoint automl = azureml.train.automl.run:AutoMLRun._from_run_dto with exception cannot import name 'RunType'.\n",
      "Failure while loading azureml_run_type_providers. Failed to load entrypoint automl = azureml.train.automl.run:AutoMLRun._from_run_dto with exception cannot import name 'RunType'.\n",
      "2021-08-20 15:04:48,069 | root | INFO | Users's init has completed successfully\n",
      "2021-08-20 15:04:48,074 | root | INFO | Skipping middleware: dbg_model_info as it's not enabled.\n",
      "2021-08-20 15:04:48,074 | root | INFO | Skipping middleware: dbg_resource_usage as it's not enabled.\n",
      "Generating swagger file: /tmp/tmpdfipu4v7\n",
      "2021-08-20 15:04:48,085 | root | INFO | Scoring timeout is found from os.environ: 60000 ms\n",
      "2021-08-20 15:04:48,102 | root | INFO | 200\n",
      "127.0.0.1 - - [20/Aug/2021:15:04:48 +0000] \"GET /swagger.json HTTP/1.0\" 200 8368 \"-\" \"Go-http-client/1.1\"\n",
      "2021-08-20 15:04:49,485 | root | INFO | 200\n",
      "127.0.0.1 - - [20/Aug/2021:15:04:49 +0000] \"GET /swagger.json HTTP/1.0\" 200 8368 \"-\" \"Go-http-client/1.1\"\n",
      "2021-08-20 15:05:18,598 | root | INFO | 200\n",
      "127.0.0.1 - - [20/Aug/2021:15:05:18 +0000] \"GET /swagger.json HTTP/1.0\" 200 8368 \"-\" \"Go-http-client/1.1\"\n",
      "2021-08-20 15:05:20,714 | root | INFO | 200\n",
      "127.0.0.1 - - [20/Aug/2021:15:05:20 +0000] \"GET /swagger.json HTTP/1.0\" 200 8368 \"-\" \"Go-http-client/1.1\"\n",
      "2021-08-20 15:06:37,563 | root | INFO | Validation Request Content-Type\n",
      "2021-08-20 15:06:37,564 | root | INFO | Scoring Timer is set to 60.0 seconds\n",
      "2021-08-20 15:06:38,057 | root | INFO | 200\n",
      "127.0.0.1 - - [20/Aug/2021:15:06:38 +0000] \"POST /score HTTP/1.0\" 200 115 \"-\" \"Python-urllib/3.6\"\n",
      "\n"
     ]
    }
   ],
   "source": [
    "print(service.get_logs())\n",
    "service.delete()\n",
    "# Delete() is used to deprovision and delete the AmlCompute target. \n",
    "cpu_cluster.delete()"
   ]
  }
 ],
 "metadata": {
  "kernel_info": {
   "name": "python3"
  },
  "kernelspec": {
   "display_name": "Python 3",
   "language": "python",
   "name": "python3"
  },
  "language_info": {
   "codemirror_mode": {
    "name": "ipython",
    "version": 3
   },
   "file_extension": ".py",
   "mimetype": "text/x-python",
   "name": "python",
   "nbconvert_exporter": "python",
   "pygments_lexer": "ipython3",
   "version": "3.6.9"
  },
  "microsoft": {
   "host": {
    "AzureML": {
     "notebookHasBeenCompleted": true
    }
   }
  },
  "nteract": {
   "version": "nteract-front-end@1.0.0"
  }
 },
 "nbformat": 4,
 "nbformat_minor": 2
}
