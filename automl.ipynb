{
 "cells": [
  {
   "cell_type": "markdown",
   "metadata": {},
   "source": [
    "# Automated ML\n",
    "\n",
    "*TODO: Import Dependencies. In the cell below, import all the dependencies that you will need to complete the project.*"
   ]
  },
  {
   "cell_type": "code",
   "execution_count": 1,
   "metadata": {
    "gather": {
     "logged": 1629034408283
    },
    "jupyter": {
     "outputs_hidden": false,
     "source_hidden": false
    },
    "nteract": {
     "transient": {
      "deleting": false
     }
    }
   },
   "outputs": [],
   "source": [
    "import train_xgb # The module for loading external data\n",
    "import os\n",
    "import pandas as pd\n",
    "import json\n",
    "import ast\n",
    "import pickle\n",
    "from azureml.core.compute import ComputeTarget, AmlCompute\n",
    "from azureml.core.compute_target import ComputeTargetException\n",
    "from azureml.core import Workspace, Dataset, Experiment, Model\n",
    "from azureml.data.dataset_factory import TabularDatasetFactory\n",
    "from azureml.train.automl import AutoMLConfig\n",
    "from azureml.widgets import RunDetails"
   ]
  },
  {
   "cell_type": "code",
   "execution_count": 2,
   "metadata": {
    "gather": {
     "logged": 1629034413024
    }
   },
   "outputs": [
    {
     "name": "stdout",
     "output_type": "stream",
     "text": [
      "quick-starts-ws-154647\n",
      "aml-quickstarts-154647\n",
      "southcentralus\n",
      "61c5c3f0-6dc7-4ed9-a7f3-c704b20e3b30\n"
     ]
    }
   ],
   "source": [
    "ws = Workspace.from_config()\n",
    "print(ws.name, ws.resource_group, ws.location, ws.subscription_id, sep='\\n')"
   ]
  },
  {
   "cell_type": "code",
   "execution_count": 3,
   "metadata": {
    "gather": {
     "logged": 1629034415913
    }
   },
   "outputs": [
    {
     "name": "stdout",
     "output_type": "stream",
     "text": [
      "InProgress......\n",
      "SucceededProvisioning operation finished, operation \"Succeeded\"\n",
      "Succeeded\n",
      "AmlCompute wait for completion finished\n",
      "\n",
      "Minimum number of nodes requested have been provisioned\n"
     ]
    }
   ],
   "source": [
    "# Create compute cluster\n",
    "# Choose a name for your CPU cluster\n",
    "cpu_cluster_name = \"cpu-cluster\"\n",
    "\n",
    "# Verify that cluster does not exist already\n",
    "try:\n",
    "    cpu_cluster = ComputeTarget(workspace=ws, name=cpu_cluster_name)\n",
    "    print('Found existing cluster, use it.')\n",
    "except ComputeTargetException:\n",
    "    compute_config = AmlCompute.provisioning_configuration(vm_size='STANDARD_D2_V2',\n",
    "                                                           max_nodes=4)\n",
    "    cpu_cluster = ComputeTarget.create(ws, cpu_cluster_name, compute_config)\n",
    "\n",
    "cpu_cluster.wait_for_completion(show_output=True)"
   ]
  },
  {
   "cell_type": "markdown",
   "metadata": {},
   "source": [
    "## Dataset\n",
    "\n",
    "### Overview\n",
    "*TODO: In this markdown cell, give an overview of the dataset you are using. Also mention the task you will be performing.*\n",
    "\n",
    "This project processes a data set describing the sale of individual residential property in Ames, Iowa from 2006 to 2010. The data set contains 2930 observations and a large number of explanatory variables (23 nominal, 23 ordinal, 14 discrete, and 20 continuous) involved in assessing home values. The **Ames Housing dataset** was compiled by Dean De Cock for use in data science education.\n",
    "\n",
    "The project's goal is to train and deploy a machine learning model for **prediction of the sales price based on parameters of a house**.\n",
    "\n",
    "*TODO: Get data. In the cell below, write code to access the data you will be using in this project. Remember that the dataset needs to be external.*\n",
    "\n",
    "The Ames Housing dataset is downloaded from Kaggle.com and registered to the workspace."
   ]
  },
  {
   "cell_type": "code",
   "execution_count": 4,
   "metadata": {
    "gather": {
     "logged": 1629034442531
    }
   },
   "outputs": [
    {
     "name": "stdout",
     "output_type": "stream",
     "text": [
      "train.shape = (1460, 80), test.shape = (1459, 79)\n"
     ]
    },
    {
     "name": "stderr",
     "output_type": "stream",
     "text": [
      "Method register_pandas_dataframe: This is an experimental method, and may change at any time. Please see https://aka.ms/azuremlexperimental for more information.\n"
     ]
    },
    {
     "name": "stdout",
     "output_type": "stream",
     "text": [
      "Validating arguments.\n",
      "Arguments validated.\n",
      "Successfully obtained datastore reference and path.\n",
      "Uploading file to managed-dataset/0a966fcc-ee6e-4d27-be6f-6e1df4496ac6/\n",
      "Successfully uploaded file to datastore.\n",
      "Creating and registering a new dataset.\n",
      "Successfully created and registered a new dataset.\n"
     ]
    }
   ],
   "source": [
    "# Try to load the dataset from the workspace. Otherwise, load it from Kaggle\n",
    "found = False\n",
    "ds_key = 'Ames-housing-dataset'\n",
    "ds_desc = 'Ames Housing training data.'\n",
    "\n",
    "if ds_key in ws.datasets.keys():\n",
    "    found = True\n",
    "    dataset = ws.datasets[ds_key]\n",
    "    print(f'Found registered {ds_key}, use it.')\n",
    "    \n",
    "if not found:\n",
    "    train, test = train_xgb.load_data_clean(source='kaggle')\n",
    "    print(f\"train.shape = {train.shape}, test.shape = {test.shape}\")\n",
    "    # Register the train dataset\n",
    "    blob = ws.get_default_datastore()\n",
    "    dataset = TabularDatasetFactory.register_pandas_dataframe(train, blob, name=ds_key, description=ds_desc)"
   ]
  },
  {
   "cell_type": "code",
   "execution_count": 5,
   "metadata": {
    "gather": {
     "logged": 1629034469225
    }
   },
   "outputs": [
    {
     "data": {
      "text/plain": [
       "True"
      ]
     },
     "execution_count": 5,
     "metadata": {},
     "output_type": "execute_result"
    }
   ],
   "source": [
    "ds_key in ws.datasets.keys()"
   ]
  },
  {
   "cell_type": "markdown",
   "metadata": {},
   "source": [
    "## AutoML Configuration\n",
    "\n",
    "*TODO: Explain why you chose the automl settings and cofiguration you used below.*\n",
    "\n",
    "As there are time constraints for the experiment, the automl setting:\n",
    "+ sets experiment timeout to 2 hours,\n",
    "+ enables early stopping,\n",
    "+ disables the neural networks (this is a default setting). \n",
    "\n",
    "Number of cross validation is set to 3 as the datset has more then 1.000 data points. For the sake of cross platform migration the ONNX compatible models are enabled."
   ]
  },
  {
   "cell_type": "code",
   "execution_count": 6,
   "metadata": {
    "gather": {
     "logged": 1629034475519
    }
   },
   "outputs": [],
   "source": [
    "# Choose a name for experiment\n",
    "experiment_name = 'Ames-housing-AutoML'\n",
    "\n",
    "experiment=Experiment(ws, experiment_name)"
   ]
  },
  {
   "cell_type": "code",
   "execution_count": 7,
   "metadata": {
    "gather": {
     "logged": 1629034483671
    },
    "jupyter": {
     "outputs_hidden": false,
     "source_hidden": false
    },
    "nteract": {
     "transient": {
      "deleting": false
     }
    }
   },
   "outputs": [],
   "source": [
    "# Set parameters for AutoMLConfig\n",
    "automl_settings = {\n",
    "    'experiment_timeout_minutes' : 120,\n",
    "    'n_cross_validations' : 3,\n",
    "    'enable_early_stopping' : True,\n",
    "    'iteration_timeout_minutes' : 5,\n",
    "    'max_concurrent_iterations' : 4,\n",
    "    'max_cores_per_iteration' : -1,\n",
    "    'enable_onnx_compatible_models' : True\n",
    "}\n",
    "\n",
    "automl_config = AutoMLConfig(\n",
    "    task='regression',\n",
    "    primary_metric='normalized_root_mean_squared_error',\n",
    "    compute_target=cpu_cluster,\n",
    "    training_data=dataset,\n",
    "    label_column_name='SalePrice',\n",
    "    **automl_settings)"
   ]
  },
  {
   "cell_type": "markdown",
   "metadata": {},
   "source": [
    "## Run Details\n",
    "\n",
    "*OPTIONAL: Write about the different models trained and their performance. Why do you think some models did better than others?*\n",
    "\n",
    "Prediction of a sale price based on parameters of a house is an example of a **regression** which is a supervised machine learning task. Regression algorithms used in automated ML defines [Regression Class](https://docs.microsoft.com/en-us/python/api/azureml-train-automl-client/azureml.train.automl.constants.supportedmodels.regression?view=azure-ml-py).\n",
    "\n",
    "+ An example of linear models is [**ElasticNet**](https://scikit-learn.org/stable/modules/generated/sklearn.linear_model.ElasticNet.html#sklearn.linear_model.ElasticNet). It is a linear regression model trained with both l1 and l2-norm regularization of the coefficients. This combination allows for learning a sparse model where few of the weights are non-zero like Lasso, while still maintaining the regularization properties of Ridge.\n",
    "+ An example of tree-based algorithms is [**XGBoostRegressor**](https://xgboost.readthedocs.io/en/latest/python/python_api.html#module-xgboost.sklearn). It is an accurate and effective off-the-shelf procedure that supports a number of different loss functions and is developed with both deep consideration in terms of systems optimization and principles in machine learning.\n",
    "+ An example of a neural network is [**TensorFlowDNNRegressor**](https://www.tensorflow.org/api_docs/python/tf/estimator/DNNRegressor). DNN models are not enabled by default due to their performance requirements.\n",
    "\n",
    "The models using gradient tree boosting have usually better performance because they combine predictions of several base estimators. For the same reason the result of the automated ML is usually a voting ensemble. The neural networks can do even better but at costs of compute performance requirements.\n",
    "\n",
    "*TODO: In the cell below, use the `RunDetails` widget to show the different experiments.*"
   ]
  },
  {
   "cell_type": "code",
   "execution_count": 8,
   "metadata": {
    "gather": {
     "logged": 1629036045022
    },
    "jupyter": {
     "outputs_hidden": false,
     "source_hidden": false
    },
    "nteract": {
     "transient": {
      "deleting": false
     }
    }
   },
   "outputs": [
    {
     "name": "stdout",
     "output_type": "stream",
     "text": [
      "Submitting remote run.\n"
     ]
    },
    {
     "data": {
      "text/html": [
       "<table style=\"width:100%\"><tr><th>Experiment</th><th>Id</th><th>Type</th><th>Status</th><th>Details Page</th><th>Docs Page</th></tr><tr><td>Ames-housing-AutoML</td><td>AutoML_8a1f49c7-7001-4525-9922-362961aa3ee3</td><td>automl</td><td>NotStarted</td><td><a href=\"https://ml.azure.com/runs/AutoML_8a1f49c7-7001-4525-9922-362961aa3ee3?wsid=/subscriptions/61c5c3f0-6dc7-4ed9-a7f3-c704b20e3b30/resourcegroups/aml-quickstarts-154647/workspaces/quick-starts-ws-154647&amp;tid=660b3398-b80e-49d2-bc5b-ac1dc93b5254\" target=\"_blank\" rel=\"noopener\">Link to Azure Machine Learning studio</a></td><td><a href=\"https://docs.microsoft.com/en-us/python/api/overview/azure/ml/intro?view=azure-ml-py\" target=\"_blank\" rel=\"noopener\">Link to Documentation</a></td></tr></table>"
      ],
      "text/plain": [
       "<IPython.core.display.HTML object>"
      ]
     },
     "metadata": {},
     "output_type": "display_data"
    },
    {
     "data": {
      "application/vnd.jupyter.widget-view+json": {
       "model_id": "b596d8a9f3434000b7a960696b9e4428",
       "version_major": 2,
       "version_minor": 0
      },
      "text/plain": [
       "_AutoMLWidget(widget_settings={'childWidgetDisplay': 'popup', 'send_telemetry': False, 'log_level': 'INFO', 's…"
      ]
     },
     "metadata": {},
     "output_type": "display_data"
    },
    {
     "data": {
      "application/aml.mini.widget.v1": "{\"status\": \"Completed\", \"workbench_run_details_uri\": \"https://ml.azure.com/runs/AutoML_8a1f49c7-7001-4525-9922-362961aa3ee3?wsid=/subscriptions/61c5c3f0-6dc7-4ed9-a7f3-c704b20e3b30/resourcegroups/aml-quickstarts-154647/workspaces/quick-starts-ws-154647&tid=660b3398-b80e-49d2-bc5b-ac1dc93b5254\", \"run_id\": \"AutoML_8a1f49c7-7001-4525-9922-362961aa3ee3\", \"run_properties\": {\"run_id\": \"AutoML_8a1f49c7-7001-4525-9922-362961aa3ee3\", \"created_utc\": \"2021-08-16T08:25:08.888527Z\", \"properties\": {\"num_iterations\": \"1000\", \"training_type\": \"TrainFull\", \"acquisition_function\": \"EI\", \"primary_metric\": \"normalized_root_mean_squared_error\", \"train_split\": \"0\", \"acquisition_parameter\": \"0\", \"num_cross_validation\": \"3\", \"target\": \"cpu-cluster\", \"AMLSettingsJsonString\": \"{\\\"path\\\":null,\\\"name\\\":\\\"Ames-housing-AutoML\\\",\\\"subscription_id\\\":\\\"61c5c3f0-6dc7-4ed9-a7f3-c704b20e3b30\\\",\\\"resource_group\\\":\\\"aml-quickstarts-154647\\\",\\\"workspace_name\\\":\\\"quick-starts-ws-154647\\\",\\\"region\\\":\\\"southcentralus\\\",\\\"compute_target\\\":\\\"cpu-cluster\\\",\\\"spark_service\\\":null,\\\"azure_service\\\":\\\"remote\\\",\\\"many_models\\\":false,\\\"pipeline_fetch_max_batch_size\\\":1,\\\"enable_batch_run\\\":false,\\\"enable_run_restructure\\\":false,\\\"start_auxiliary_runs_before_parent_complete\\\":false,\\\"enable_code_generation\\\":false,\\\"iterations\\\":1000,\\\"primary_metric\\\":\\\"normalized_root_mean_squared_error\\\",\\\"task_type\\\":\\\"regression\\\",\\\"data_script\\\":null,\\\"test_size\\\":0.0,\\\"validation_size\\\":0.0,\\\"n_cross_validations\\\":3,\\\"y_min\\\":null,\\\"y_max\\\":null,\\\"num_classes\\\":null,\\\"featurization\\\":\\\"auto\\\",\\\"_ignore_package_version_incompatibilities\\\":false,\\\"is_timeseries\\\":false,\\\"max_cores_per_iteration\\\":-1,\\\"max_concurrent_iterations\\\":4,\\\"iteration_timeout_minutes\\\":5,\\\"mem_in_mb\\\":null,\\\"enforce_time_on_windows\\\":false,\\\"experiment_timeout_minutes\\\":120,\\\"experiment_exit_score\\\":null,\\\"whitelist_models\\\":null,\\\"blacklist_algos\\\":[\\\"TensorFlowDNN\\\",\\\"TensorFlowLinearRegressor\\\"],\\\"supported_models\\\":[\\\"ElasticNet\\\",\\\"LightGBM\\\",\\\"OnlineGradientDescentRegressor\\\",\\\"GradientBoosting\\\",\\\"ExtremeRandomTrees\\\",\\\"SGD\\\",\\\"RandomForest\\\",\\\"XGBoostRegressor\\\",\\\"FastLinearRegressor\\\",\\\"TensorFlowDNN\\\",\\\"LassoLars\\\",\\\"DecisionTree\\\",\\\"TensorFlowLinearRegressor\\\",\\\"KNN\\\"],\\\"private_models\\\":[],\\\"auto_blacklist\\\":true,\\\"blacklist_samples_reached\\\":false,\\\"exclude_nan_labels\\\":true,\\\"verbosity\\\":20,\\\"_debug_log\\\":\\\"azureml_automl.log\\\",\\\"show_warnings\\\":false,\\\"model_explainability\\\":true,\\\"service_url\\\":null,\\\"sdk_url\\\":null,\\\"sdk_packages\\\":null,\\\"enable_onnx_compatible_models\\\":true,\\\"enable_split_onnx_featurizer_estimator_models\\\":false,\\\"vm_type\\\":\\\"STANDARD_D2_V2\\\",\\\"telemetry_verbosity\\\":20,\\\"send_telemetry\\\":true,\\\"enable_dnn\\\":false,\\\"scenario\\\":\\\"SDK-1.13.0\\\",\\\"environment_label\\\":null,\\\"save_mlflow\\\":false,\\\"force_text_dnn\\\":false,\\\"enable_feature_sweeping\\\":false,\\\"enable_early_stopping\\\":true,\\\"early_stopping_n_iters\\\":10,\\\"metrics\\\":null,\\\"enable_metric_confidence\\\":false,\\\"enable_ensembling\\\":true,\\\"enable_stack_ensembling\\\":false,\\\"ensemble_iterations\\\":15,\\\"enable_tf\\\":false,\\\"enable_subsampling\\\":null,\\\"subsample_seed\\\":null,\\\"enable_nimbusml\\\":false,\\\"enable_streaming\\\":false,\\\"force_streaming\\\":false,\\\"track_child_runs\\\":true,\\\"allowed_private_models\\\":[],\\\"label_column_name\\\":\\\"SalePrice\\\",\\\"weight_column_name\\\":null,\\\"cv_split_column_names\\\":null,\\\"enable_local_managed\\\":false,\\\"_local_managed_run_id\\\":null,\\\"cost_mode\\\":1,\\\"lag_length\\\":0,\\\"metric_operation\\\":\\\"minimize\\\",\\\"preprocess\\\":true}\", \"DataPrepJsonString\": \"{\\\\\\\"training_data\\\\\\\": {\\\\\\\"datasetId\\\\\\\": \\\\\\\"174428c7-1944-4ccc-b64f-f9b7e7dfedfb\\\\\\\"}, \\\\\\\"datasets\\\\\\\": 0}\", \"EnableSubsampling\": null, \"runTemplate\": \"AutoML\", \"azureml.runsource\": \"automl\", \"display_task_type\": \"regression\", \"dependencies_versions\": \"{\\\"azureml-widgets\\\": \\\"1.32.0\\\", \\\"azureml-train\\\": \\\"1.32.0\\\", \\\"azureml-train-restclients-hyperdrive\\\": \\\"1.32.0\\\", \\\"azureml-train-core\\\": \\\"1.32.0\\\", \\\"azureml-train-automl\\\": \\\"1.32.0\\\", \\\"azureml-train-automl-runtime\\\": \\\"1.32.0\\\", \\\"azureml-train-automl-client\\\": \\\"1.32.0\\\", \\\"azureml-tensorboard\\\": \\\"1.32.0\\\", \\\"azureml-telemetry\\\": \\\"1.32.0\\\", \\\"azureml-sdk\\\": \\\"1.32.0\\\", \\\"azureml-samples\\\": \\\"0+unknown\\\", \\\"azureml-responsibleai\\\": \\\"1.32.0\\\", \\\"azureml-pipeline\\\": \\\"1.32.0\\\", \\\"azureml-pipeline-steps\\\": \\\"1.32.0\\\", \\\"azureml-pipeline-core\\\": \\\"1.32.0\\\", \\\"azureml-opendatasets\\\": \\\"1.32.0\\\", \\\"azureml-model-management-sdk\\\": \\\"1.0.1b6.post1\\\", \\\"azureml-mlflow\\\": \\\"1.32.0\\\", \\\"azureml-interpret\\\": \\\"1.32.0\\\", \\\"azureml-explain-model\\\": \\\"1.32.0\\\", \\\"azureml-defaults\\\": \\\"1.32.0\\\", \\\"azureml-dataset-runtime\\\": \\\"1.32.0\\\", \\\"azureml-dataprep\\\": \\\"2.18.0\\\", \\\"azureml-dataprep-rslex\\\": \\\"1.16.1\\\", \\\"azureml-dataprep-native\\\": \\\"36.0.0\\\", \\\"azureml-datadrift\\\": \\\"1.32.0\\\", \\\"azureml-core\\\": \\\"1.32.0\\\", \\\"azureml-contrib-services\\\": \\\"1.32.0\\\", \\\"azureml-contrib-server\\\": \\\"1.32.0\\\", \\\"azureml-contrib-reinforcementlearning\\\": \\\"1.32.0\\\", \\\"azureml-contrib-pipeline-steps\\\": \\\"1.32.0\\\", \\\"azureml-contrib-notebook\\\": \\\"1.32.0\\\", \\\"azureml-contrib-fairness\\\": \\\"1.32.0\\\", \\\"azureml-contrib-dataset\\\": \\\"1.32.0\\\", \\\"azureml-cli-common\\\": \\\"1.32.0\\\", \\\"azureml-automl-runtime\\\": \\\"1.32.0\\\", \\\"azureml-automl-dnn-nlp\\\": \\\"1.32.0\\\", \\\"azureml-automl-core\\\": \\\"1.32.0\\\", \\\"azureml-accel-models\\\": \\\"1.32.0\\\"}\", \"_aml_system_scenario_identification\": \"Remote.Parent\", \"ClientType\": \"SDK\", \"environment_cpu_name\": \"AzureML-AutoML\", \"environment_cpu_label\": \"prod\", \"environment_gpu_name\": \"AzureML-AutoML-GPU\", \"environment_gpu_label\": \"prod\", \"root_attribution\": \"automl\", \"attribution\": \"AutoML\", \"Orchestrator\": \"AutoML\", \"CancelUri\": \"https://southcentralus.api.azureml.ms/jasmine/v1.0/subscriptions/61c5c3f0-6dc7-4ed9-a7f3-c704b20e3b30/resourceGroups/aml-quickstarts-154647/providers/Microsoft.MachineLearningServices/workspaces/quick-starts-ws-154647/experimentids/0958fdc8-55b2-4c34-87b7-f52c966a9f99/cancel/AutoML_8a1f49c7-7001-4525-9922-362961aa3ee3\", \"ClientSdkVersion\": \"1.33.0\", \"snapshotId\": \"00000000-0000-0000-0000-000000000000\", \"SetupRunId\": \"AutoML_8a1f49c7-7001-4525-9922-362961aa3ee3_setup\", \"SetupRunContainerId\": \"dcid.AutoML_8a1f49c7-7001-4525-9922-362961aa3ee3_setup\", \"FeaturizationRunJsonPath\": \"featurizer_container.json\", \"FeaturizationRunId\": \"AutoML_8a1f49c7-7001-4525-9922-362961aa3ee3_featurize\", \"ProblemInfoJsonString\": \"{\\\"dataset_num_categorical\\\": 0, \\\"is_sparse\\\": true, \\\"subsampling\\\": false, \\\"has_extra_col\\\": true, \\\"dataset_classes\\\": 663, \\\"dataset_features\\\": 453, \\\"dataset_samples\\\": 1460, \\\"single_frequency_class_detected\\\": false}\", \"ModelExplainRunId\": \"AutoML_8a1f49c7-7001-4525-9922-362961aa3ee3_ModelExplain\"}, \"tags\": {\"model_explain_run\": \"best_run\", \"_aml_system_azureml.automlComponent\": \"AutoML\", \"pipeline_id\": \"\", \"score\": \"\", \"predicted_cost\": \"\", \"fit_time\": \"\", \"training_percent\": \"\", \"iteration\": \"\", \"run_preprocessor\": \"\", \"run_algorithm\": \"\", \"dynamic_whitelisting_iterations\": \"<25>;<30>;<35>;\", \"automl_best_child_run_id\": \"AutoML_8a1f49c7-7001-4525-9922-362961aa3ee3_36\", \"model_explain_best_run_child_id\": \"AutoML_8a1f49c7-7001-4525-9922-362961aa3ee3_36\"}, \"end_time_utc\": \"2021-08-16T08:48:35.329871Z\", \"status\": \"Completed\", \"log_files\": {}, \"log_groups\": [], \"run_duration\": \"0:23:26\", \"run_number\": \"1\", \"run_queued_details\": {\"status\": \"Completed\", \"details\": null}}, \"child_runs\": [{\"run_id\": \"AutoML_8a1f49c7-7001-4525-9922-362961aa3ee3_0\", \"run_number\": 5, \"metric\": null, \"status\": \"Completed\", \"run_type\": \"azureml.scriptrun\", \"training_percent\": \"100\", \"start_time\": \"2021-08-16T08:36:34.446701Z\", \"end_time\": \"2021-08-16T08:37:30.180551Z\", \"created_time\": \"2021-08-16T08:35:13.964943Z\", \"created_time_dt\": \"2021-08-16T08:35:13.964943Z\", \"duration\": \"0:02:16\", \"iteration\": \"0\", \"goal\": \"normalized_root_mean_squared_error_min\", \"run_name\": \"MaxAbsScaler, LightGBM\", \"run_properties\": \"copy=True\", \"primary_metric\": 0.04058975, \"best_metric\": 0.04058975}, {\"run_id\": \"AutoML_8a1f49c7-7001-4525-9922-362961aa3ee3_1\", \"run_number\": 6, \"metric\": null, \"status\": \"Completed\", \"run_type\": \"azureml.scriptrun\", \"training_percent\": \"100\", \"start_time\": \"2021-08-16T08:36:47.570993Z\", \"end_time\": \"2021-08-16T08:38:42.23832Z\", \"created_time\": \"2021-08-16T08:35:13.976248Z\", \"created_time_dt\": \"2021-08-16T08:35:13.976248Z\", \"duration\": \"0:03:28\", \"iteration\": \"1\", \"goal\": \"normalized_root_mean_squared_error_min\", \"run_name\": \"MaxAbsScaler, XGBoostRegressor\", \"run_properties\": \"copy=True\", \"primary_metric\": 0.03830382, \"best_metric\": 0.03830382}, {\"run_id\": \"AutoML_8a1f49c7-7001-4525-9922-362961aa3ee3_2\", \"run_number\": 7, \"metric\": null, \"status\": \"Completed\", \"run_type\": \"azureml.scriptrun\", \"training_percent\": \"100\", \"start_time\": \"2021-08-16T08:36:48.904256Z\", \"end_time\": \"2021-08-16T08:38:40.124675Z\", \"created_time\": \"2021-08-16T08:35:13.980139Z\", \"created_time_dt\": \"2021-08-16T08:35:13.980139Z\", \"duration\": \"0:03:26\", \"iteration\": \"2\", \"goal\": \"normalized_root_mean_squared_error_min\", \"run_name\": \"StandardScalerWrapper, LightGBM\", \"run_properties\": \"\\n    copy=True,\\n    with_mean=False,\\n    with_std=False\\n\", \"primary_metric\": 0.04058975, \"best_metric\": 0.03830382}, {\"run_id\": \"AutoML_8a1f49c7-7001-4525-9922-362961aa3ee3_3\", \"run_number\": 8, \"metric\": null, \"status\": \"Completed\", \"run_type\": \"azureml.scriptrun\", \"training_percent\": \"100\", \"start_time\": \"2021-08-16T08:35:26.636769Z\", \"end_time\": \"2021-08-16T08:36:20.260316Z\", \"created_time\": \"2021-08-16T08:35:13.988713Z\", \"created_time_dt\": \"2021-08-16T08:35:13.988713Z\", \"duration\": \"0:01:06\", \"iteration\": \"3\", \"goal\": \"normalized_root_mean_squared_error_min\", \"run_name\": \"StandardScalerWrapper, XGBoostRegressor\", \"run_properties\": \"\\n    copy=True,\\n    with_mean=False,\\n    with_std=False\\n\", \"primary_metric\": 0.03830305, \"best_metric\": 0.03830305}, {\"run_id\": \"AutoML_8a1f49c7-7001-4525-9922-362961aa3ee3_4\", \"run_number\": 9, \"metric\": null, \"status\": \"Completed\", \"run_type\": \"azureml.scriptrun\", \"training_percent\": \"100\", \"start_time\": \"2021-08-16T08:36:47.241939Z\", \"end_time\": \"2021-08-16T08:38:50.171697Z\", \"created_time\": \"2021-08-16T08:36:21.784982Z\", \"created_time_dt\": \"2021-08-16T08:36:21.784982Z\", \"duration\": \"0:02:28\", \"iteration\": \"4\", \"goal\": \"normalized_root_mean_squared_error_min\", \"run_name\": \"MaxAbsScaler, ElasticNet\", \"run_properties\": \"copy=True\", \"primary_metric\": 0.04857716, \"best_metric\": 0.03830305}, {\"run_id\": \"AutoML_8a1f49c7-7001-4525-9922-362961aa3ee3_5\", \"run_number\": 10, \"metric\": null, \"status\": \"Completed\", \"run_type\": \"azureml.scriptrun\", \"training_percent\": \"100\", \"start_time\": \"2021-08-16T08:37:43.979543Z\", \"end_time\": \"2021-08-16T08:38:41.138559Z\", \"created_time\": \"2021-08-16T08:37:31.650525Z\", \"created_time_dt\": \"2021-08-16T08:37:31.650525Z\", \"duration\": \"0:01:09\", \"iteration\": \"5\", \"goal\": \"normalized_root_mean_squared_error_min\", \"run_name\": \"StandardScalerWrapper, ElasticNet\", \"run_properties\": \"\\n    copy=True,\\n    with_mean=False,\\n    with_std=True\\n\", \"primary_metric\": 0.05187087, \"best_metric\": 0.03830305}, {\"run_id\": \"AutoML_8a1f49c7-7001-4525-9922-362961aa3ee3_6\", \"run_number\": 11, \"metric\": null, \"status\": \"Completed\", \"run_type\": \"azureml.scriptrun\", \"training_percent\": \"100\", \"start_time\": \"2021-08-16T08:38:55.502803Z\", \"end_time\": \"2021-08-16T08:39:55.297753Z\", \"created_time\": \"2021-08-16T08:38:43.167565Z\", \"created_time_dt\": \"2021-08-16T08:38:43.167565Z\", \"duration\": \"0:01:12\", \"iteration\": \"6\", \"goal\": \"normalized_root_mean_squared_error_min\", \"run_name\": \"MaxAbsScaler, ElasticNet\", \"run_properties\": \"copy=True\", \"primary_metric\": 0.04965857, \"best_metric\": 0.03830305}, {\"run_id\": \"AutoML_8a1f49c7-7001-4525-9922-362961aa3ee3_7\", \"run_number\": 12, \"metric\": null, \"status\": \"Completed\", \"run_type\": \"azureml.scriptrun\", \"training_percent\": \"100\", \"start_time\": \"2021-08-16T08:38:55.537369Z\", \"end_time\": \"2021-08-16T08:39:55.838318Z\", \"created_time\": \"2021-08-16T08:38:47.068706Z\", \"created_time_dt\": \"2021-08-16T08:38:47.068706Z\", \"duration\": \"0:01:08\", \"iteration\": \"7\", \"goal\": \"normalized_root_mean_squared_error_min\", \"run_name\": \"MaxAbsScaler, ElasticNet\", \"run_properties\": \"copy=True\", \"primary_metric\": 0.05206429, \"best_metric\": 0.03830305}, {\"run_id\": \"AutoML_8a1f49c7-7001-4525-9922-362961aa3ee3_8\", \"run_number\": 13, \"metric\": null, \"status\": \"Completed\", \"run_type\": \"azureml.scriptrun\", \"training_percent\": \"100\", \"start_time\": \"2021-08-16T08:38:55.62226Z\", \"end_time\": \"2021-08-16T08:39:50.522105Z\", \"created_time\": \"2021-08-16T08:38:47.093957Z\", \"created_time_dt\": \"2021-08-16T08:38:47.093957Z\", \"duration\": \"0:01:03\", \"iteration\": \"8\", \"goal\": \"normalized_root_mean_squared_error_min\", \"run_name\": \"MaxAbsScaler, ExtremeRandomTrees\", \"run_properties\": \"copy=True\", \"primary_metric\": 0.04822545, \"best_metric\": 0.03830305}, {\"run_id\": \"AutoML_8a1f49c7-7001-4525-9922-362961aa3ee3_9\", \"run_number\": 14, \"metric\": null, \"status\": \"Completed\", \"run_type\": \"azureml.scriptrun\", \"training_percent\": \"100\", \"start_time\": \"2021-08-16T08:39:04.591347Z\", \"end_time\": \"2021-08-16T08:40:01.271069Z\", \"created_time\": \"2021-08-16T08:38:53.260545Z\", \"created_time_dt\": \"2021-08-16T08:38:53.260545Z\", \"duration\": \"0:01:08\", \"iteration\": \"9\", \"goal\": \"normalized_root_mean_squared_error_min\", \"run_name\": \"StandardScalerWrapper, ElasticNet\", \"run_properties\": \"\\n    copy=True,\\n    with_mean=False,\\n    with_std=True\\n\", \"primary_metric\": 0.04973293, \"best_metric\": 0.03830305}, {\"run_id\": \"AutoML_8a1f49c7-7001-4525-9922-362961aa3ee3_10\", \"run_number\": 15, \"metric\": null, \"status\": \"Completed\", \"run_type\": \"azureml.scriptrun\", \"training_percent\": \"100\", \"start_time\": \"2021-08-16T08:40:06.233437Z\", \"end_time\": \"2021-08-16T08:41:03.325152Z\", \"created_time\": \"2021-08-16T08:39:53.51026Z\", \"created_time_dt\": \"2021-08-16T08:39:53.51026Z\", \"duration\": \"0:01:09\", \"iteration\": \"10\", \"goal\": \"normalized_root_mean_squared_error_min\", \"run_name\": \"StandardScalerWrapper, ElasticNet\", \"run_properties\": \"\\n    copy=True,\\n    with_mean=False,\\n    with_std=True\\n\", \"primary_metric\": 0.05174378, \"best_metric\": 0.03830305}, {\"run_id\": \"AutoML_8a1f49c7-7001-4525-9922-362961aa3ee3_11\", \"run_number\": 16, \"metric\": null, \"status\": \"Completed\", \"run_type\": \"azureml.scriptrun\", \"training_percent\": \"100\", \"start_time\": \"2021-08-16T08:40:09.309847Z\", \"end_time\": \"2021-08-16T08:41:08.132094Z\", \"created_time\": \"2021-08-16T08:39:58.100155Z\", \"created_time_dt\": \"2021-08-16T08:39:58.100155Z\", \"duration\": \"0:01:10\", \"iteration\": \"11\", \"goal\": \"normalized_root_mean_squared_error_min\", \"run_name\": \"StandardScalerWrapper, ElasticNet\", \"run_properties\": \"\\n    copy=True,\\n    with_mean=False,\\n    with_std=False\\n\", \"primary_metric\": 0.05209697, \"best_metric\": 0.03830305}, {\"run_id\": \"AutoML_8a1f49c7-7001-4525-9922-362961aa3ee3_12\", \"run_number\": 17, \"metric\": null, \"status\": \"Completed\", \"run_type\": \"azureml.scriptrun\", \"training_percent\": \"100\", \"start_time\": \"2021-08-16T08:40:11.311802Z\", \"end_time\": \"2021-08-16T08:41:12.341346Z\", \"created_time\": \"2021-08-16T08:40:01.721919Z\", \"created_time_dt\": \"2021-08-16T08:40:01.721919Z\", \"duration\": \"0:01:10\", \"iteration\": \"12\", \"goal\": \"normalized_root_mean_squared_error_min\", \"run_name\": \"MaxAbsScaler, RandomForest\", \"run_properties\": \"copy=True\", \"primary_metric\": 0.06498167, \"best_metric\": 0.03830305}, {\"run_id\": \"AutoML_8a1f49c7-7001-4525-9922-362961aa3ee3_13\", \"run_number\": 18, \"metric\": null, \"status\": \"Completed\", \"run_type\": \"azureml.scriptrun\", \"training_percent\": \"100\", \"start_time\": \"2021-08-16T08:40:15.598115Z\", \"end_time\": \"2021-08-16T08:41:13.65951Z\", \"created_time\": \"2021-08-16T08:40:05.996919Z\", \"created_time_dt\": \"2021-08-16T08:40:05.996919Z\", \"duration\": \"0:01:07\", \"iteration\": \"13\", \"goal\": \"normalized_root_mean_squared_error_min\", \"run_name\": \"StandardScalerWrapper, ElasticNet\", \"run_properties\": \"\\n    copy=True,\\n    with_mean=False,\\n    with_std=False\\n\", \"primary_metric\": 0.04753613, \"best_metric\": 0.03830305}, {\"run_id\": \"AutoML_8a1f49c7-7001-4525-9922-362961aa3ee3_14\", \"run_number\": 19, \"metric\": null, \"status\": \"Completed\", \"run_type\": \"azureml.scriptrun\", \"training_percent\": \"100\", \"start_time\": \"2021-08-16T08:41:18.056857Z\", \"end_time\": \"2021-08-16T08:42:15.848439Z\", \"created_time\": \"2021-08-16T08:41:06.114725Z\", \"created_time_dt\": \"2021-08-16T08:41:06.114725Z\", \"duration\": \"0:01:09\", \"iteration\": \"14\", \"goal\": \"normalized_root_mean_squared_error_min\", \"run_name\": \"StandardScalerWrapper, ElasticNet\", \"run_properties\": \"\\n    copy=True,\\n    with_mean=False,\\n    with_std=False\\n\", \"primary_metric\": 0.04552342, \"best_metric\": 0.03830305}, {\"run_id\": \"AutoML_8a1f49c7-7001-4525-9922-362961aa3ee3_15\", \"run_number\": 20, \"metric\": null, \"status\": \"Completed\", \"run_type\": \"azureml.scriptrun\", \"training_percent\": \"100\", \"start_time\": \"2021-08-16T08:41:21.206213Z\", \"end_time\": \"2021-08-16T08:42:21.652673Z\", \"created_time\": \"2021-08-16T08:41:10.998095Z\", \"created_time_dt\": \"2021-08-16T08:41:10.998095Z\", \"duration\": \"0:01:10\", \"iteration\": \"15\", \"goal\": \"normalized_root_mean_squared_error_min\", \"run_name\": \"StandardScalerWrapper, ElasticNet\", \"run_properties\": \"\\n    copy=True,\\n    with_mean=False,\\n    with_std=True\\n\", \"primary_metric\": 0.04973293, \"best_metric\": 0.03830305}, {\"run_id\": \"AutoML_8a1f49c7-7001-4525-9922-362961aa3ee3_16\", \"run_number\": 21, \"metric\": null, \"status\": \"Completed\", \"run_type\": \"azureml.scriptrun\", \"training_percent\": \"100\", \"start_time\": \"2021-08-16T08:41:28.068611Z\", \"end_time\": \"2021-08-16T08:42:19.567511Z\", \"created_time\": \"2021-08-16T08:41:15.145561Z\", \"created_time_dt\": \"2021-08-16T08:41:15.145561Z\", \"duration\": \"0:01:04\", \"iteration\": \"16\", \"goal\": \"normalized_root_mean_squared_error_min\", \"run_name\": \"StandardScalerWrapper, ElasticNet\", \"run_properties\": \"\\n    copy=True,\\n    with_mean=False,\\n    with_std=True\\n\", \"primary_metric\": 0.0448014, \"best_metric\": 0.03830305}, {\"run_id\": \"AutoML_8a1f49c7-7001-4525-9922-362961aa3ee3_17\", \"run_number\": 22, \"metric\": null, \"status\": \"Completed\", \"run_type\": \"azureml.scriptrun\", \"training_percent\": \"100\", \"start_time\": \"2021-08-16T08:41:31.261654Z\", \"end_time\": \"2021-08-16T08:42:34.00576Z\", \"created_time\": \"2021-08-16T08:41:18.884419Z\", \"created_time_dt\": \"2021-08-16T08:41:18.884419Z\", \"duration\": \"0:01:15\", \"iteration\": \"17\", \"goal\": \"normalized_root_mean_squared_error_min\", \"run_name\": \"StandardScalerWrapper, ElasticNet\", \"run_properties\": \"\\n    copy=True,\\n    with_mean=False,\\n    with_std=True\\n\", \"primary_metric\": 0.05054768, \"best_metric\": 0.03830305}, {\"run_id\": \"AutoML_8a1f49c7-7001-4525-9922-362961aa3ee3_18\", \"run_number\": 23, \"metric\": null, \"status\": \"Completed\", \"run_type\": \"azureml.scriptrun\", \"training_percent\": \"100\", \"start_time\": \"2021-08-16T08:42:30.826547Z\", \"end_time\": \"2021-08-16T08:43:22.009457Z\", \"created_time\": \"2021-08-16T08:42:18.584407Z\", \"created_time_dt\": \"2021-08-16T08:42:18.584407Z\", \"duration\": \"0:01:03\", \"iteration\": \"18\", \"goal\": \"normalized_root_mean_squared_error_min\", \"run_name\": \"StandardScalerWrapper, DecisionTree\", \"run_properties\": \"\\n    copy=True,\\n    with_mean=False,\\n    with_std=False\\n\", \"primary_metric\": 0.06394009, \"best_metric\": 0.03830305}, {\"run_id\": \"AutoML_8a1f49c7-7001-4525-9922-362961aa3ee3_19\", \"run_number\": 24, \"metric\": null, \"status\": \"Completed\", \"run_type\": \"azureml.scriptrun\", \"training_percent\": \"100\", \"start_time\": \"2021-08-16T08:42:33.791241Z\", \"end_time\": \"2021-08-16T08:43:30.007915Z\", \"created_time\": \"2021-08-16T08:42:22.808919Z\", \"created_time_dt\": \"2021-08-16T08:42:22.808919Z\", \"duration\": \"0:01:07\", \"iteration\": \"19\", \"goal\": \"normalized_root_mean_squared_error_min\", \"run_name\": \"StandardScalerWrapper, ElasticNet\", \"run_properties\": \"\\n    copy=True,\\n    with_mean=False,\\n    with_std=True\\n\", \"primary_metric\": 0.04950816, \"best_metric\": 0.03830305}, {\"run_id\": \"AutoML_8a1f49c7-7001-4525-9922-362961aa3ee3_20\", \"run_number\": 25, \"metric\": null, \"status\": \"Completed\", \"run_type\": \"azureml.scriptrun\", \"training_percent\": \"100\", \"start_time\": \"2021-08-16T08:42:37.728023Z\", \"end_time\": \"2021-08-16T08:43:30.240851Z\", \"created_time\": \"2021-08-16T08:42:26.753524Z\", \"created_time_dt\": \"2021-08-16T08:42:26.753524Z\", \"duration\": \"0:01:03\", \"iteration\": \"20\", \"goal\": \"normalized_root_mean_squared_error_min\", \"run_name\": \"MaxAbsScaler, DecisionTree\", \"run_properties\": \"copy=True\", \"primary_metric\": 0.05353836, \"best_metric\": 0.03830305}, {\"run_id\": \"AutoML_8a1f49c7-7001-4525-9922-362961aa3ee3_21\", \"run_number\": 26, \"metric\": null, \"status\": \"Completed\", \"run_type\": \"azureml.scriptrun\", \"training_percent\": \"100\", \"start_time\": \"2021-08-16T08:42:50.078764Z\", \"end_time\": \"2021-08-16T08:43:41.903655Z\", \"created_time\": \"2021-08-16T08:42:36.820187Z\", \"created_time_dt\": \"2021-08-16T08:42:36.820187Z\", \"duration\": \"0:01:05\", \"iteration\": \"21\", \"goal\": \"normalized_root_mean_squared_error_min\", \"run_name\": \"StandardScalerWrapper, RandomForest\", \"run_properties\": \"\\n    copy=True,\\n    with_mean=False,\\n    with_std=True\\n\", \"primary_metric\": 0.05148669, \"best_metric\": 0.03830305}, {\"run_id\": \"AutoML_8a1f49c7-7001-4525-9922-362961aa3ee3_22\", \"run_number\": 27, \"metric\": null, \"status\": \"Completed\", \"run_type\": \"azureml.scriptrun\", \"training_percent\": \"100\", \"start_time\": \"2021-08-16T08:43:38.434608Z\", \"end_time\": \"2021-08-16T08:44:32.264758Z\", \"created_time\": \"2021-08-16T08:43:24.630936Z\", \"created_time_dt\": \"2021-08-16T08:43:24.630936Z\", \"duration\": \"0:01:07\", \"iteration\": \"22\", \"goal\": \"normalized_root_mean_squared_error_min\", \"run_name\": \"MaxAbsScaler, ExtremeRandomTrees\", \"run_properties\": \"copy=True\", \"primary_metric\": 0.06253445, \"best_metric\": 0.03830305}, {\"run_id\": \"AutoML_8a1f49c7-7001-4525-9922-362961aa3ee3_23\", \"run_number\": 28, \"metric\": null, \"status\": \"Completed\", \"run_type\": \"azureml.scriptrun\", \"training_percent\": \"100\", \"start_time\": \"2021-08-16T08:43:44.668709Z\", \"end_time\": \"2021-08-16T08:44:37.395789Z\", \"created_time\": \"2021-08-16T08:43:32.017303Z\", \"created_time_dt\": \"2021-08-16T08:43:32.017303Z\", \"duration\": \"0:01:05\", \"iteration\": \"23\", \"goal\": \"normalized_root_mean_squared_error_min\", \"run_name\": \"StandardScalerWrapper, RandomForest\", \"run_properties\": \"\\n    copy=True,\\n    with_mean=False,\\n    with_std=False\\n\", \"primary_metric\": 0.05542948, \"best_metric\": 0.03830305}, {\"run_id\": \"AutoML_8a1f49c7-7001-4525-9922-362961aa3ee3_24\", \"run_number\": 29, \"metric\": null, \"status\": \"Completed\", \"run_type\": \"azureml.scriptrun\", \"training_percent\": \"100\", \"start_time\": \"2021-08-16T08:43:47.652542Z\", \"end_time\": \"2021-08-16T08:44:40.25486Z\", \"created_time\": \"2021-08-16T08:43:32.037477Z\", \"created_time_dt\": \"2021-08-16T08:43:32.037477Z\", \"duration\": \"0:01:08\", \"iteration\": \"24\", \"goal\": \"normalized_root_mean_squared_error_min\", \"run_name\": \"StandardScalerWrapper, ExtremeRandomTrees\", \"run_properties\": \"\\n    copy=True,\\n    with_mean=False,\\n    with_std=True\\n\", \"primary_metric\": 0.04927968, \"best_metric\": 0.03830305}, {\"run_id\": \"AutoML_8a1f49c7-7001-4525-9922-362961aa3ee3_25\", \"run_number\": 30, \"metric\": null, \"status\": \"Completed\", \"run_type\": \"azureml.scriptrun\", \"training_percent\": \"100\", \"start_time\": \"2021-08-16T08:43:57.153701Z\", \"end_time\": \"2021-08-16T08:45:11.875615Z\", \"created_time\": \"2021-08-16T08:43:45.530113Z\", \"created_time_dt\": \"2021-08-16T08:43:45.530113Z\", \"duration\": \"0:01:26\", \"iteration\": \"25\", \"goal\": \"normalized_root_mean_squared_error_min\", \"run_name\": \"SparseNormalizer, XGBoostRegressor\", \"run_properties\": \"copy=True, norm='max'\", \"primary_metric\": 0.03924649, \"best_metric\": 0.03830305}, {\"run_id\": \"AutoML_8a1f49c7-7001-4525-9922-362961aa3ee3_26\", \"run_number\": 31, \"metric\": null, \"status\": \"Completed\", \"run_type\": \"azureml.scriptrun\", \"training_percent\": \"100\", \"start_time\": \"2021-08-16T08:44:48.151091Z\", \"end_time\": \"2021-08-16T08:45:43.353236Z\", \"created_time\": \"2021-08-16T08:44:34.189905Z\", \"created_time_dt\": \"2021-08-16T08:44:34.189905Z\", \"duration\": \"0:01:09\", \"iteration\": \"26\", \"goal\": \"normalized_root_mean_squared_error_min\", \"run_name\": \"MaxAbsScaler, RandomForest\", \"run_properties\": \"copy=True\", \"primary_metric\": 0.05551623, \"best_metric\": 0.03830305}, {\"run_id\": \"AutoML_8a1f49c7-7001-4525-9922-362961aa3ee3_27\", \"run_number\": 32, \"metric\": null, \"status\": \"Completed\", \"run_type\": \"azureml.scriptrun\", \"training_percent\": \"100\", \"start_time\": \"2021-08-16T08:44:51.289176Z\", \"end_time\": \"2021-08-16T08:46:01.144177Z\", \"created_time\": \"2021-08-16T08:44:39.495377Z\", \"created_time_dt\": \"2021-08-16T08:44:39.495377Z\", \"duration\": \"0:01:21\", \"iteration\": \"27\", \"goal\": \"normalized_root_mean_squared_error_min\", \"run_name\": \"MaxAbsScaler, RandomForest\", \"run_properties\": \"copy=True\", \"primary_metric\": 0.05875674, \"best_metric\": 0.03830305}, {\"run_id\": \"AutoML_8a1f49c7-7001-4525-9922-362961aa3ee3_28\", \"run_number\": 33, \"metric\": null, \"status\": \"Completed\", \"run_type\": \"azureml.scriptrun\", \"training_percent\": \"100\", \"start_time\": \"2021-08-16T08:44:56.225317Z\", \"end_time\": \"2021-08-16T08:45:46.078142Z\", \"created_time\": \"2021-08-16T08:44:42.255762Z\", \"created_time_dt\": \"2021-08-16T08:44:42.255762Z\", \"duration\": \"0:01:03\", \"iteration\": \"28\", \"goal\": \"normalized_root_mean_squared_error_min\", \"run_name\": \"MaxAbsScaler, RandomForest\", \"run_properties\": \"copy=True\", \"primary_metric\": 0.05269189, \"best_metric\": 0.03830305}, {\"run_id\": \"AutoML_8a1f49c7-7001-4525-9922-362961aa3ee3_29\", \"run_number\": 34, \"metric\": null, \"status\": \"Completed\", \"run_type\": \"azureml.scriptrun\", \"training_percent\": \"100\", \"start_time\": \"2021-08-16T08:45:26.586778Z\", \"end_time\": \"2021-08-16T08:46:28.980151Z\", \"created_time\": \"2021-08-16T08:45:13.782449Z\", \"created_time_dt\": \"2021-08-16T08:45:13.782449Z\", \"duration\": \"0:01:15\", \"iteration\": \"29\", \"goal\": \"normalized_root_mean_squared_error_min\", \"run_name\": \"MaxAbsScaler, GradientBoosting\", \"run_properties\": \"copy=True\", \"primary_metric\": 0.05157898, \"best_metric\": 0.03830305}, {\"run_id\": \"AutoML_8a1f49c7-7001-4525-9922-362961aa3ee3_30\", \"run_number\": 35, \"metric\": null, \"status\": \"Completed\", \"run_type\": \"azureml.scriptrun\", \"training_percent\": \"100\", \"start_time\": \"2021-08-16T08:45:56.798981Z\", \"end_time\": \"2021-08-16T08:47:14.61371Z\", \"created_time\": \"2021-08-16T08:45:46.499285Z\", \"created_time_dt\": \"2021-08-16T08:45:46.499285Z\", \"duration\": \"0:01:28\", \"iteration\": \"30\", \"goal\": \"normalized_root_mean_squared_error_min\", \"run_name\": \"SparseNormalizer, XGBoostRegressor\", \"run_properties\": \"copy=True, norm='l1'\", \"primary_metric\": 0.04396622, \"best_metric\": 0.03830305}, {\"run_id\": \"AutoML_8a1f49c7-7001-4525-9922-362961aa3ee3_31\", \"run_number\": 36, \"metric\": null, \"status\": \"Completed\", \"run_type\": \"azureml.scriptrun\", \"training_percent\": \"100\", \"start_time\": \"2021-08-16T08:46:00.846547Z\", \"end_time\": \"2021-08-16T08:46:54.751944Z\", \"created_time\": \"2021-08-16T08:45:50.818158Z\", \"created_time_dt\": \"2021-08-16T08:45:50.818158Z\", \"duration\": \"0:01:03\", \"iteration\": \"31\", \"goal\": \"normalized_root_mean_squared_error_min\", \"run_name\": \"StandardScalerWrapper, RandomForest\", \"run_properties\": \"\\n    copy=True,\\n    with_mean=False,\\n    with_std=True\\n\", \"primary_metric\": 0.04912737, \"best_metric\": 0.03830305}, {\"run_id\": \"AutoML_8a1f49c7-7001-4525-9922-362961aa3ee3_32\", \"run_number\": 37, \"metric\": null, \"status\": \"Completed\", \"run_type\": \"azureml.scriptrun\", \"training_percent\": \"100\", \"start_time\": \"2021-08-16T08:46:16.537075Z\", \"end_time\": \"2021-08-16T08:47:13.456427Z\", \"created_time\": \"2021-08-16T08:46:04.086166Z\", \"created_time_dt\": \"2021-08-16T08:46:04.086166Z\", \"duration\": \"0:01:09\", \"iteration\": \"32\", \"goal\": \"normalized_root_mean_squared_error_min\", \"run_name\": \"StandardScalerWrapper, LightGBM\", \"run_properties\": \"\\n    copy=True,\\n    with_mean=False,\\n    with_std=True\\n\", \"primary_metric\": 0.0421459, \"best_metric\": 0.03830305}, {\"run_id\": \"AutoML_8a1f49c7-7001-4525-9922-362961aa3ee3_33\", \"run_number\": 38, \"metric\": null, \"status\": \"Canceled\", \"run_type\": \"azureml.scriptrun\", \"training_percent\": \"100\", \"start_time\": \"2021-08-16T08:46:45.194669Z\", \"end_time\": \"2021-08-16T08:47:22.020637Z\", \"created_time\": \"2021-08-16T08:46:31.16435Z\", \"created_time_dt\": \"2021-08-16T08:46:31.16435Z\", \"duration\": \"0:00:50\", \"iteration\": \"33\", \"goal\": \"normalized_root_mean_squared_error_min\", \"run_name\": \"StandardScalerWrapper, ExtremeRandomTrees\", \"run_properties\": \"\\n    copy=True,\\n    with_mean=False,\\n    with_std=True\\n\", \"primary_metric\": 0.05880967, \"best_metric\": 0.03830305}, {\"run_id\": \"AutoML_8a1f49c7-7001-4525-9922-362961aa3ee3_34\", \"run_number\": 39, \"metric\": null, \"status\": \"Canceled\", \"run_type\": \"azureml.scriptrun\", \"training_percent\": \"100\", \"start_time\": \"2021-08-16T08:47:09.575882Z\", \"end_time\": \"2021-08-16T08:47:21.61305Z\", \"created_time\": \"2021-08-16T08:46:56.754072Z\", \"created_time_dt\": \"2021-08-16T08:46:56.754072Z\", \"duration\": \"0:00:24\", \"iteration\": \"34\", \"goal\": null, \"run_name\": \"Canceled\", \"run_properties\": null}, {\"run_id\": \"AutoML_8a1f49c7-7001-4525-9922-362961aa3ee3_35\", \"run_number\": 40, \"metric\": null, \"status\": \"Canceled\", \"run_type\": \"azureml.scriptrun\", \"training_percent\": \"100\", \"start_time\": \"2021-08-16T08:47:25.601383Z\", \"end_time\": \"2021-08-16T08:47:28.263486Z\", \"created_time\": \"2021-08-16T08:47:16.717222Z\", \"created_time_dt\": \"2021-08-16T08:47:16.717222Z\", \"duration\": \"0:00:11\", \"iteration\": \"35\", \"goal\": null, \"run_name\": \"Canceled\", \"run_properties\": null}, {\"run_id\": \"AutoML_8a1f49c7-7001-4525-9922-362961aa3ee3_36\", \"run_number\": 41, \"metric\": null, \"status\": \"Completed\", \"run_type\": \"azureml.scriptrun\", \"training_percent\": \"100\", \"start_time\": \"2021-08-16T08:47:35.807678Z\", \"end_time\": \"2021-08-16T08:48:33.47826Z\", \"created_time\": \"2021-08-16T08:47:29.377335Z\", \"created_time_dt\": \"2021-08-16T08:47:29.377335Z\", \"duration\": \"0:01:04\", \"iteration\": \"36\", \"goal\": \"normalized_root_mean_squared_error_min\", \"run_name\": \"VotingEnsemble\", \"run_properties\": \"\\n    estimators=[('3', Pipeline(\\n        memory=None,\\n        steps=[('standardscalerwrapper', StandardScalerWrapper(\\n            copy=True,\\n            with_mean=False,\\n            with_std=False\\n        \", \"primary_metric\": 0.03578934, \"best_metric\": 0.03578934}], \"children_metrics\": {\"categories\": [0], \"series\": {\"mean_absolute_error\": [{\"categories\": [\"0\", \"1\", \"2\", \"3\", \"4\", \"5\", \"6\", \"7\", \"8\", \"9\", \"10\", \"11\", \"12\", \"13\", \"14\", \"15\", \"16\", \"17\", \"18\", \"19\", \"20\", \"21\", \"22\", \"23\", \"24\", \"25\", \"26\", \"27\", \"28\", \"29\", \"30\", \"31\", \"32\", \"33\", \"36\"], \"mode\": \"markers\", \"name\": \"mean_absolute_error\", \"stepped\": false, \"type\": \"scatter\", \"data\": [17620.10421383109, 17073.452516748253, 17620.10421383109, 17074.08249483682, 18583.113101254796, 19295.62184695946, 18714.74388902279, 19355.564112509623, 20976.050680624918, 18413.678301360847, 19328.968923745433, 20849.019760951745, 29303.307701218946, 18569.70967210266, 17659.955343947844, 18413.678301360847, 17007.863609443502, 18713.894348316968, 29176.16341768966, 18334.985196090394, 25694.35113001338, 22538.614108005208, 27785.294387093843, 24384.61574794419, 22077.68910560801, 18150.585603031133, 23759.59059797102, 25128.876787130906, 23095.853158139344, 21782.136286192443, 19698.775122552583, 21133.14660661681, 17656.083101550754, 26017.030111399392, 15610.141964653338]}, {\"categories\": [\"0\", \"1\", \"2\", \"3\", \"4\", \"5\", \"6\", \"7\", \"8\", \"9\", \"10\", \"11\", \"12\", \"13\", \"14\", \"15\", \"16\", \"17\", \"18\", \"19\", \"20\", \"21\", \"22\", \"23\", \"24\", \"25\", \"26\", \"27\", \"28\", \"29\", \"30\", \"31\", \"32\", \"33\", \"36\"], \"mode\": \"lines\", \"name\": \"mean_absolute_error_min\", \"stepped\": true, \"type\": \"scatter\", \"data\": [17620.10421383109, 17073.452516748253, 17073.452516748253, 17073.452516748253, 17073.452516748253, 17073.452516748253, 17073.452516748253, 17073.452516748253, 17073.452516748253, 17073.452516748253, 17073.452516748253, 17073.452516748253, 17073.452516748253, 17073.452516748253, 17073.452516748253, 17073.452516748253, 17007.863609443502, 17007.863609443502, 17007.863609443502, 17007.863609443502, 17007.863609443502, 17007.863609443502, 17007.863609443502, 17007.863609443502, 17007.863609443502, 17007.863609443502, 17007.863609443502, 17007.863609443502, 17007.863609443502, 17007.863609443502, 17007.863609443502, 17007.863609443502, 17007.863609443502, 17007.863609443502, 15610.141964653338]}], \"normalized_root_mean_squared_error\": [{\"categories\": [\"0\", \"1\", \"2\", \"3\", \"4\", \"5\", \"6\", \"7\", \"8\", \"9\", \"10\", \"11\", \"12\", \"13\", \"14\", \"15\", \"16\", \"17\", \"18\", \"19\", \"20\", \"21\", \"22\", \"23\", \"24\", \"25\", \"26\", \"27\", \"28\", \"29\", \"30\", \"31\", \"32\", \"33\", \"36\"], \"mode\": \"markers\", \"name\": \"normalized_root_mean_squared_error\", \"stepped\": false, \"type\": \"scatter\", \"data\": [0.04058974859823223, 0.038303816261014395, 0.04058974859823223, 0.038303052019574124, 0.04857716254101541, 0.051870865772657794, 0.04965856711658468, 0.05206429363462254, 0.04822545080438675, 0.049732928020581796, 0.05174378449219411, 0.05209697234439234, 0.0649816664978859, 0.04753613495547406, 0.045523415668215196, 0.049732928020581796, 0.04480140283443837, 0.05054767572990452, 0.06394009245700587, 0.04950816249565785, 0.05353835781578381, 0.051486693228706186, 0.06253445475052441, 0.055429482281365815, 0.04927967692853766, 0.03924648875231746, 0.055516229204489016, 0.05875674152928901, 0.052691891988087186, 0.051578982656366464, 0.043966222727285224, 0.04912736765820216, 0.04214590319655719, 0.05880966857718687, 0.03578934379296681]}, {\"categories\": [\"0\", \"1\", \"2\", \"3\", \"4\", \"5\", \"6\", \"7\", \"8\", \"9\", \"10\", \"11\", \"12\", \"13\", \"14\", \"15\", \"16\", \"17\", \"18\", \"19\", \"20\", \"21\", \"22\", \"23\", \"24\", \"25\", \"26\", \"27\", \"28\", \"29\", \"30\", \"31\", \"32\", \"33\", \"36\"], \"mode\": \"lines\", \"name\": \"normalized_root_mean_squared_error_min\", \"stepped\": true, \"type\": \"scatter\", \"data\": [0.04058974859823223, 0.038303816261014395, 0.038303816261014395, 0.038303052019574124, 0.038303052019574124, 0.038303052019574124, 0.038303052019574124, 0.038303052019574124, 0.038303052019574124, 0.038303052019574124, 0.038303052019574124, 0.038303052019574124, 0.038303052019574124, 0.038303052019574124, 0.038303052019574124, 0.038303052019574124, 0.038303052019574124, 0.038303052019574124, 0.038303052019574124, 0.038303052019574124, 0.038303052019574124, 0.038303052019574124, 0.038303052019574124, 0.038303052019574124, 0.038303052019574124, 0.038303052019574124, 0.038303052019574124, 0.038303052019574124, 0.038303052019574124, 0.038303052019574124, 0.038303052019574124, 0.038303052019574124, 0.038303052019574124, 0.038303052019574124, 0.03578934379296681]}], \"normalized_median_absolute_error\": [{\"categories\": [\"0\", \"1\", \"2\", \"3\", \"4\", \"5\", \"6\", \"7\", \"8\", \"9\", \"10\", \"11\", \"12\", \"13\", \"14\", \"15\", \"16\", \"17\", \"18\", \"19\", \"20\", \"21\", \"22\", \"23\", \"24\", \"25\", \"26\", \"27\", \"28\", \"29\", \"30\", \"31\", \"32\", \"33\", \"36\"], \"mode\": \"markers\", \"name\": \"normalized_median_absolute_error\", \"stepped\": false, \"type\": \"scatter\", \"data\": [0.01563024503949052, 0.015697371314169328, 0.01563024503949052, 0.015697371314169328, 0.01671315011853099, 0.01643882383614788, 0.016493505797607867, 0.016366728249539757, 0.018043269453316673, 0.016330546330272495, 0.016344002386351048, 0.01946343102382923, 0.024726703611170353, 0.017588500993154555, 0.015913248527123305, 0.016330546330272495, 0.01484802095417944, 0.016260383324062593, 0.02609287787676243, 0.016384693915023833, 0.023430902086644344, 0.019081216248213698, 0.025676938471670612, 0.020745692398768986, 0.019506005983854543, 0.016817622263111606, 0.021508569749387127, 0.021775565591837725, 0.01991867062325489, 0.01963804564440105, 0.016958426636346804, 0.01804420309727261, 0.015745679929087087, 0.021953568855475558, 0.014509132245016371]}, {\"categories\": [\"0\", \"1\", \"2\", \"3\", \"4\", \"5\", \"6\", \"7\", \"8\", \"9\", \"10\", \"11\", \"12\", \"13\", \"14\", \"15\", \"16\", \"17\", \"18\", \"19\", \"20\", \"21\", \"22\", \"23\", \"24\", \"25\", \"26\", \"27\", \"28\", \"29\", \"30\", \"31\", \"32\", \"33\", \"36\"], \"mode\": \"lines\", \"name\": \"normalized_median_absolute_error_min\", \"stepped\": true, \"type\": \"scatter\", \"data\": [0.01563024503949052, 0.01563024503949052, 0.01563024503949052, 0.01563024503949052, 0.01563024503949052, 0.01563024503949052, 0.01563024503949052, 0.01563024503949052, 0.01563024503949052, 0.01563024503949052, 0.01563024503949052, 0.01563024503949052, 0.01563024503949052, 0.01563024503949052, 0.01563024503949052, 0.01563024503949052, 0.01484802095417944, 0.01484802095417944, 0.01484802095417944, 0.01484802095417944, 0.01484802095417944, 0.01484802095417944, 0.01484802095417944, 0.01484802095417944, 0.01484802095417944, 0.01484802095417944, 0.01484802095417944, 0.01484802095417944, 0.01484802095417944, 0.01484802095417944, 0.01484802095417944, 0.01484802095417944, 0.01484802095417944, 0.01484802095417944, 0.014509132245016371]}], \"normalized_mean_absolute_error\": [{\"categories\": [\"0\", \"1\", \"2\", \"3\", \"4\", \"5\", \"6\", \"7\", \"8\", \"9\", \"10\", \"11\", \"12\", \"13\", \"14\", \"15\", \"16\", \"17\", \"18\", \"19\", \"20\", \"21\", \"22\", \"23\", \"24\", \"25\", \"26\", \"27\", \"28\", \"29\", \"30\", \"31\", \"32\", \"33\", \"36\"], \"mode\": \"markers\", \"name\": \"normalized_mean_absolute_error\", \"stepped\": false, \"type\": \"scatter\", \"data\": [0.024468968495807656, 0.02370983546278052, 0.024468968495807656, 0.023710710310841304, 0.025806295099645594, 0.02679575315506105, 0.025989090249996932, 0.026878994740327206, 0.029129357978926424, 0.02557100166832502, 0.026842062107687036, 0.028952950647065333, 0.04069338661466316, 0.02578768181100217, 0.024524309601371818, 0.02557100166832502, 0.023618752408614774, 0.02598791049620465, 0.04051682185486691, 0.02546172086667185, 0.035681643007934145, 0.031299283582842945, 0.03858532757546707, 0.03386281870288042, 0.030659198869057092, 0.02520564588672564, 0.03299484876818639, 0.0348963710417038, 0.03207311923085591, 0.030248765846677465, 0.027355610502086625, 0.029347516465236506, 0.02451893223378802, 0.036129746023329246, 0.021677741931194747]}, {\"categories\": [\"0\", \"1\", \"2\", \"3\", \"4\", \"5\", \"6\", \"7\", \"8\", \"9\", \"10\", \"11\", \"12\", \"13\", \"14\", \"15\", \"16\", \"17\", \"18\", \"19\", \"20\", \"21\", \"22\", \"23\", \"24\", \"25\", \"26\", \"27\", \"28\", \"29\", \"30\", \"31\", \"32\", \"33\", \"36\"], \"mode\": \"lines\", \"name\": \"normalized_mean_absolute_error_min\", \"stepped\": true, \"type\": \"scatter\", \"data\": [0.024468968495807656, 0.02370983546278052, 0.02370983546278052, 0.02370983546278052, 0.02370983546278052, 0.02370983546278052, 0.02370983546278052, 0.02370983546278052, 0.02370983546278052, 0.02370983546278052, 0.02370983546278052, 0.02370983546278052, 0.02370983546278052, 0.02370983546278052, 0.02370983546278052, 0.02370983546278052, 0.023618752408614774, 0.023618752408614774, 0.023618752408614774, 0.023618752408614774, 0.023618752408614774, 0.023618752408614774, 0.023618752408614774, 0.023618752408614774, 0.023618752408614774, 0.023618752408614774, 0.023618752408614774, 0.023618752408614774, 0.023618752408614774, 0.023618752408614774, 0.023618752408614774, 0.023618752408614774, 0.023618752408614774, 0.023618752408614774, 0.021677741931194747]}], \"root_mean_squared_log_error\": [{\"categories\": [\"0\", \"1\", \"2\", \"3\", \"4\", \"5\", \"6\", \"7\", \"8\", \"9\", \"10\", \"11\", \"12\", \"13\", \"14\", \"15\", \"16\", \"17\", \"18\", \"19\", \"20\", \"21\", \"22\", \"23\", \"24\", \"25\", \"26\", \"27\", \"28\", \"29\", \"30\", \"31\", \"32\", \"33\", \"36\"], \"mode\": \"markers\", \"name\": \"root_mean_squared_log_error\", \"stepped\": false, \"type\": \"scatter\", \"data\": [0.14523860579466982, 0.13872231042496655, 0.14523860579466982, 0.13872261275685907, 0.1759677742671478, 0.19105164329493468, 0.18393972006667314, 0.19675813185276322, 0.1749347170702588, 0.16975367952724754, 0.18537031292494177, 0.16476272667046707, 0.22967228702091677, 0.15054367032216504, 0.14730965439336052, 0.16975367952724754, 0.14818463698163156, 0.17453330684530038, 0.22462287408044537, 0.16852830423413206, 0.20272873836299252, 0.1847669729570521, 0.21801466798574984, 0.19444797045036158, 0.1797340267336415, 0.14828114093330866, 0.19505710622221165, 0.20515696774332515, 0.18873654848900467, 0.17958910861215838, 0.16011939448035648, 0.17601067976548387, 0.14530463304667246, 0.20753010623103016, 0.13022613109168246]}, {\"categories\": [\"0\", \"1\", \"2\", \"3\", \"4\", \"5\", \"6\", \"7\", \"8\", \"9\", \"10\", \"11\", \"12\", \"13\", \"14\", \"15\", \"16\", \"17\", \"18\", \"19\", \"20\", \"21\", \"22\", \"23\", \"24\", \"25\", \"26\", \"27\", \"28\", \"29\", \"30\", \"31\", \"32\", \"33\", \"36\"], \"mode\": \"lines\", \"name\": \"root_mean_squared_log_error_min\", \"stepped\": true, \"type\": \"scatter\", \"data\": [0.14523860579466982, 0.13872231042496655, 0.13872231042496655, 0.13872231042496655, 0.13872231042496655, 0.13872231042496655, 0.13872231042496655, 0.13872231042496655, 0.13872231042496655, 0.13872231042496655, 0.13872231042496655, 0.13872231042496655, 0.13872231042496655, 0.13872231042496655, 0.13872231042496655, 0.13872231042496655, 0.13872231042496655, 0.13872231042496655, 0.13872231042496655, 0.13872231042496655, 0.13872231042496655, 0.13872231042496655, 0.13872231042496655, 0.13872231042496655, 0.13872231042496655, 0.13872231042496655, 0.13872231042496655, 0.13872231042496655, 0.13872231042496655, 0.13872231042496655, 0.13872231042496655, 0.13872231042496655, 0.13872231042496655, 0.13872231042496655, 0.13022613109168246]}], \"median_absolute_error\": [{\"categories\": [\"0\", \"1\", \"2\", \"3\", \"4\", \"5\", \"6\", \"7\", \"8\", \"9\", \"10\", \"11\", \"12\", \"13\", \"14\", \"15\", \"16\", \"17\", \"18\", \"19\", \"20\", \"21\", \"22\", \"23\", \"24\", \"25\", \"26\", \"27\", \"28\", \"29\", \"30\", \"31\", \"32\", \"33\", \"36\"], \"mode\": \"markers\", \"name\": \"median_absolute_error\", \"stepped\": false, \"type\": \"scatter\", \"data\": [11255.339452937123, 11303.677083333334, 11255.339452937123, 11303.677083333334, 12035.139400354165, 11837.597044410088, 11876.973524857427, 11785.681012493578, 12992.958333333334, 11759.626412429227, 11769.31611841139, 14015.616680259429, 17805.69927040377, 12665.479565170594, 11459.13026438149, 11759.626412429227, 10692.059889104616, 11709.102031657472, 18789.481359056626, 11798.618088208663, 16872.592592592588, 13740.383820338684, 18489.963393450005, 14938.973096353548, 14046.274908973655, 12110.369791666666, 15488.32107653367, 15680.584782682345, 14343.434715805846, 14141.356668533195, 12211.763020833334, 12993.630650346005, 11338.464116935613, 15808.764932827951, 10448.026129636288]}, {\"categories\": [\"0\", \"1\", \"2\", \"3\", \"4\", \"5\", \"6\", \"7\", \"8\", \"9\", \"10\", \"11\", \"12\", \"13\", \"14\", \"15\", \"16\", \"17\", \"18\", \"19\", \"20\", \"21\", \"22\", \"23\", \"24\", \"25\", \"26\", \"27\", \"28\", \"29\", \"30\", \"31\", \"32\", \"33\", \"36\"], \"mode\": \"lines\", \"name\": \"median_absolute_error_min\", \"stepped\": true, \"type\": \"scatter\", \"data\": [11255.339452937123, 11255.339452937123, 11255.339452937123, 11255.339452937123, 11255.339452937123, 11255.339452937123, 11255.339452937123, 11255.339452937123, 11255.339452937123, 11255.339452937123, 11255.339452937123, 11255.339452937123, 11255.339452937123, 11255.339452937123, 11255.339452937123, 11255.339452937123, 10692.059889104616, 10692.059889104616, 10692.059889104616, 10692.059889104616, 10692.059889104616, 10692.059889104616, 10692.059889104616, 10692.059889104616, 10692.059889104616, 10692.059889104616, 10692.059889104616, 10692.059889104616, 10692.059889104616, 10692.059889104616, 10692.059889104616, 10692.059889104616, 10692.059889104616, 10692.059889104616, 10448.026129636288]}], \"root_mean_squared_error\": [{\"categories\": [\"0\", \"1\", \"2\", \"3\", \"4\", \"5\", \"6\", \"7\", \"8\", \"9\", \"10\", \"11\", \"12\", \"13\", \"14\", \"15\", \"16\", \"17\", \"18\", \"19\", \"20\", \"21\", \"22\", \"23\", \"24\", \"25\", \"26\", \"27\", \"28\", \"29\", \"30\", \"31\", \"32\", \"33\", \"36\"], \"mode\": \"markers\", \"name\": \"root_mean_squared_error\", \"stepped\": false, \"type\": \"scatter\", \"data\": [29228.677965587034, 27582.578089556464, 29228.677965587034, 27582.027759295324, 34980.4147457852, 37352.210442890886, 35759.13418065263, 37491.4978462917, 34727.14712423889, 35812.681467620954, 37260.69921282898, 37515.029785196915, 46793.298045127645, 34230.77078143687, 32781.411622681764, 35812.681467620954, 32261.490181079072, 36399.38129310424, 46043.26057828992, 35650.827813123215, 38552.97146314592, 37075.56779399132, 45031.06086585263, 39914.77019081152, 35486.29535623997, 28261.396550543806, 39977.23665015255, 42310.729575241014, 37943.43142062158, 37142.02541084949, 31660.07698591809, 35376.617450671365, 30349.264891840827, 42348.84234243227, 25771.906465315406]}, {\"categories\": [\"0\", \"1\", \"2\", \"3\", \"4\", \"5\", \"6\", \"7\", \"8\", \"9\", \"10\", \"11\", \"12\", \"13\", \"14\", \"15\", \"16\", \"17\", \"18\", \"19\", \"20\", \"21\", \"22\", \"23\", \"24\", \"25\", \"26\", \"27\", \"28\", \"29\", \"30\", \"31\", \"32\", \"33\", \"36\"], \"mode\": \"lines\", \"name\": \"root_mean_squared_error_min\", \"stepped\": true, \"type\": \"scatter\", \"data\": [29228.677965587034, 27582.578089556464, 27582.578089556464, 27582.027759295324, 27582.027759295324, 27582.027759295324, 27582.027759295324, 27582.027759295324, 27582.027759295324, 27582.027759295324, 27582.027759295324, 27582.027759295324, 27582.027759295324, 27582.027759295324, 27582.027759295324, 27582.027759295324, 27582.027759295324, 27582.027759295324, 27582.027759295324, 27582.027759295324, 27582.027759295324, 27582.027759295324, 27582.027759295324, 27582.027759295324, 27582.027759295324, 27582.027759295324, 27582.027759295324, 27582.027759295324, 27582.027759295324, 27582.027759295324, 27582.027759295324, 27582.027759295324, 27582.027759295324, 27582.027759295324, 25771.906465315406]}], \"normalized_root_mean_squared_log_error\": [{\"categories\": [\"0\", \"1\", \"2\", \"3\", \"4\", \"5\", \"6\", \"7\", \"8\", \"9\", \"10\", \"11\", \"12\", \"13\", \"14\", \"15\", \"16\", \"17\", \"18\", \"19\", \"20\", \"21\", \"22\", \"23\", \"24\", \"25\", \"26\", \"27\", \"28\", \"29\", \"30\", \"31\", \"32\", \"33\", \"36\"], \"mode\": \"markers\", \"name\": \"normalized_root_mean_squared_log_error\", \"stepped\": false, \"type\": \"scatter\", \"data\": [0.04724430294361787, 0.04512463351528703, 0.04724430294361787, 0.04512473186007245, 0.05724011732489653, 0.0621467113672415, 0.05983329164202908, 0.06400296076247106, 0.05690407673223958, 0.05521874998385196, 0.0602986456160308, 0.05359525540778584, 0.07470952400293533, 0.048969974119687655, 0.047917989164110976, 0.05521874998385196, 0.048202610062559346, 0.05677350300379569, 0.07306701309241122, 0.054820150718520144, 0.06594512442607159, 0.06010238666638714, 0.07091744625414902, 0.06325149413590475, 0.058465232173084546, 0.04823400159171471, 0.06344963838812763, 0.06673499708997759, 0.06139363996617626, 0.058418092119681325, 0.0520848374892362, 0.05725407394717505, 0.047265780783336035, 0.0675069493751627, 0.04236093258268204]}, {\"categories\": [\"0\", \"1\", \"2\", \"3\", \"4\", \"5\", \"6\", \"7\", \"8\", \"9\", \"10\", \"11\", \"12\", \"13\", \"14\", \"15\", \"16\", \"17\", \"18\", \"19\", \"20\", \"21\", \"22\", \"23\", \"24\", \"25\", \"26\", \"27\", \"28\", \"29\", \"30\", \"31\", \"32\", \"33\", \"36\"], \"mode\": \"lines\", \"name\": \"normalized_root_mean_squared_log_error_min\", \"stepped\": true, \"type\": \"scatter\", \"data\": [0.04724430294361787, 0.04512463351528703, 0.04512463351528703, 0.04512463351528703, 0.04512463351528703, 0.04512463351528703, 0.04512463351528703, 0.04512463351528703, 0.04512463351528703, 0.04512463351528703, 0.04512463351528703, 0.04512463351528703, 0.04512463351528703, 0.04512463351528703, 0.04512463351528703, 0.04512463351528703, 0.04512463351528703, 0.04512463351528703, 0.04512463351528703, 0.04512463351528703, 0.04512463351528703, 0.04512463351528703, 0.04512463351528703, 0.04512463351528703, 0.04512463351528703, 0.04512463351528703, 0.04512463351528703, 0.04512463351528703, 0.04512463351528703, 0.04512463351528703, 0.04512463351528703, 0.04512463351528703, 0.04512463351528703, 0.04512463351528703, 0.04236093258268204]}], \"explained_variance\": [{\"categories\": [\"0\", \"1\", \"2\", \"3\", \"4\", \"5\", \"6\", \"7\", \"8\", \"9\", \"10\", \"11\", \"12\", \"13\", \"14\", \"15\", \"16\", \"17\", \"18\", \"19\", \"20\", \"21\", \"22\", \"23\", \"24\", \"25\", \"26\", \"27\", \"28\", \"29\", \"30\", \"31\", \"32\", \"33\", \"36\"], \"mode\": \"markers\", \"name\": \"explained_variance\", \"stepped\": false, \"type\": \"scatter\", \"data\": [0.863854636599155, 0.8783064047579887, 0.863854636599155, 0.8783105392287766, 0.8036649321494735, 0.7767231497750021, 0.7947076727290817, 0.7751344747020501, 0.8092512943036576, 0.7944138780501021, 0.7776075815600464, 0.7748020510293575, 0.654241159293857, 0.8125939049002323, 0.8286039108814848, 0.7944138780501021, 0.8338437427946598, 0.7876382857711673, 0.6659049249122385, 0.7962684483401717, 0.7651578592862918, 0.7828477148054246, 0.6789175682222061, 0.7476550560664438, 0.8004139322472182, 0.8735787414984854, 0.7468292982740395, 0.7164655164834577, 0.7720754483376808, 0.7826503538115014, 0.8405299599490837, 0.8018919539032409, 0.8535174990959428, 0.71604099047539, 0.8944568099173953]}, {\"categories\": [\"0\", \"1\", \"2\", \"3\", \"4\", \"5\", \"6\", \"7\", \"8\", \"9\", \"10\", \"11\", \"12\", \"13\", \"14\", \"15\", \"16\", \"17\", \"18\", \"19\", \"20\", \"21\", \"22\", \"23\", \"24\", \"25\", \"26\", \"27\", \"28\", \"29\", \"30\", \"31\", \"32\", \"33\", \"36\"], \"mode\": \"lines\", \"name\": \"explained_variance_max\", \"stepped\": true, \"type\": \"scatter\", \"data\": [0.863854636599155, 0.8783064047579887, 0.8783064047579887, 0.8783105392287766, 0.8783105392287766, 0.8783105392287766, 0.8783105392287766, 0.8783105392287766, 0.8783105392287766, 0.8783105392287766, 0.8783105392287766, 0.8783105392287766, 0.8783105392287766, 0.8783105392287766, 0.8783105392287766, 0.8783105392287766, 0.8783105392287766, 0.8783105392287766, 0.8783105392287766, 0.8783105392287766, 0.8783105392287766, 0.8783105392287766, 0.8783105392287766, 0.8783105392287766, 0.8783105392287766, 0.8783105392287766, 0.8783105392287766, 0.8783105392287766, 0.8783105392287766, 0.8783105392287766, 0.8783105392287766, 0.8783105392287766, 0.8783105392287766, 0.8783105392287766, 0.8944568099173953]}], \"r2_score\": [{\"categories\": [\"0\", \"1\", \"2\", \"3\", \"4\", \"5\", \"6\", \"7\", \"8\", \"9\", \"10\", \"11\", \"12\", \"13\", \"14\", \"15\", \"16\", \"17\", \"18\", \"19\", \"20\", \"21\", \"22\", \"23\", \"24\", \"25\", \"26\", \"27\", \"28\", \"29\", \"30\", \"31\", \"32\", \"33\", \"36\"], \"mode\": \"markers\", \"name\": \"r2_score\", \"stepped\": false, \"type\": \"scatter\", \"data\": [0.8636018126798337, 0.8780502772452924, 0.8636018126798337, 0.8780544228170942, 0.8030409454519339, 0.7759152743224728, 0.7939907915512597, 0.7742759007760786, 0.8081662423869513, 0.7937844968927329, 0.7768955926914273, 0.7747447463306895, 0.6524792059017668, 0.8125567652599854, 0.8285012115242973, 0.7937844968927329, 0.833621214769637, 0.7869682645257591, 0.6629915157448267, 0.7956520657938769, 0.7638123218265206, 0.7818435669424283, 0.6781709686600017, 0.7466618004334339, 0.799789127068979, 0.8730780414065347, 0.7462298495596268, 0.7158136805253822, 0.7714335658368169, 0.7810635824761453, 0.8402372321399273, 0.8012842108839466, 0.852816270850727, 0.7150602807924016, 0.8942710428327086]}, {\"categories\": [\"0\", \"1\", \"2\", \"3\", \"4\", \"5\", \"6\", \"7\", \"8\", \"9\", \"10\", \"11\", \"12\", \"13\", \"14\", \"15\", \"16\", \"17\", \"18\", \"19\", \"20\", \"21\", \"22\", \"23\", \"24\", \"25\", \"26\", \"27\", \"28\", \"29\", \"30\", \"31\", \"32\", \"33\", \"36\"], \"mode\": \"lines\", \"name\": \"r2_score_max\", \"stepped\": true, \"type\": \"scatter\", \"data\": [0.8636018126798337, 0.8780502772452924, 0.8780502772452924, 0.8780544228170942, 0.8780544228170942, 0.8780544228170942, 0.8780544228170942, 0.8780544228170942, 0.8780544228170942, 0.8780544228170942, 0.8780544228170942, 0.8780544228170942, 0.8780544228170942, 0.8780544228170942, 0.8780544228170942, 0.8780544228170942, 0.8780544228170942, 0.8780544228170942, 0.8780544228170942, 0.8780544228170942, 0.8780544228170942, 0.8780544228170942, 0.8780544228170942, 0.8780544228170942, 0.8780544228170942, 0.8780544228170942, 0.8780544228170942, 0.8780544228170942, 0.8780544228170942, 0.8780544228170942, 0.8780544228170942, 0.8780544228170942, 0.8780544228170942, 0.8780544228170942, 0.8942710428327086]}], \"spearman_correlation\": [{\"categories\": [\"0\", \"1\", \"2\", \"3\", \"4\", \"5\", \"6\", \"7\", \"8\", \"9\", \"10\", \"11\", \"12\", \"13\", \"14\", \"15\", \"16\", \"17\", \"18\", \"19\", \"20\", \"21\", \"22\", \"23\", \"24\", \"25\", \"26\", \"27\", \"28\", \"29\", \"30\", \"31\", \"32\", \"33\", \"36\"], \"mode\": \"markers\", \"name\": \"spearman_correlation\", \"stepped\": false, \"type\": \"scatter\", \"data\": [0.9425941307870714, 0.9471907231845357, 0.9425941307870714, 0.947184058840617, 0.93479674545639, 0.9268481791292635, 0.9308703818469747, 0.9265677425363609, 0.9178904910267395, 0.932516427477783, 0.9262621293279582, 0.932446592576963, 0.8646959494088567, 0.9437129660925155, 0.9473547061445359, 0.932516427477783, 0.9460706299444525, 0.9301135210786077, 0.8503211075580522, 0.9332125714291332, 0.8797349848303787, 0.907586185336036, 0.9156848562536437, 0.8940372296979763, 0.9134131471680482, 0.9401511528634071, 0.9273456195244263, 0.9243516872775253, 0.8999222101918817, 0.921552218126441, 0.9310431289627678, 0.923272234442793, 0.9429531571806021, 0.8918528756317992, 0.9562738525955498]}, {\"categories\": [\"0\", \"1\", \"2\", \"3\", \"4\", \"5\", \"6\", \"7\", \"8\", \"9\", \"10\", \"11\", \"12\", \"13\", \"14\", \"15\", \"16\", \"17\", \"18\", \"19\", \"20\", \"21\", \"22\", \"23\", \"24\", \"25\", \"26\", \"27\", \"28\", \"29\", \"30\", \"31\", \"32\", \"33\", \"36\"], \"mode\": \"lines\", \"name\": \"spearman_correlation_max\", \"stepped\": true, \"type\": \"scatter\", \"data\": [0.9425941307870714, 0.9471907231845357, 0.9471907231845357, 0.9471907231845357, 0.9471907231845357, 0.9471907231845357, 0.9471907231845357, 0.9471907231845357, 0.9471907231845357, 0.9471907231845357, 0.9471907231845357, 0.9471907231845357, 0.9471907231845357, 0.9471907231845357, 0.9473547061445359, 0.9473547061445359, 0.9473547061445359, 0.9473547061445359, 0.9473547061445359, 0.9473547061445359, 0.9473547061445359, 0.9473547061445359, 0.9473547061445359, 0.9473547061445359, 0.9473547061445359, 0.9473547061445359, 0.9473547061445359, 0.9473547061445359, 0.9473547061445359, 0.9473547061445359, 0.9473547061445359, 0.9473547061445359, 0.9473547061445359, 0.9473547061445359, 0.9562738525955498]}], \"mean_absolute_percentage_error\": [{\"categories\": [\"0\", \"1\", \"2\", \"3\", \"4\", \"5\", \"6\", \"7\", \"8\", \"9\", \"10\", \"11\", \"12\", \"13\", \"14\", \"15\", \"16\", \"17\", \"18\", \"19\", \"20\", \"21\", \"22\", \"23\", \"24\", \"25\", \"26\", \"27\", \"28\", \"29\", \"30\", \"31\", \"32\", \"33\", \"36\"], \"mode\": \"markers\", \"name\": \"mean_absolute_percentage_error\", \"stepped\": false, \"type\": \"scatter\", \"data\": [10.227918298008179, 10.07545350264032, 10.227918298008179, 10.076577812939874, 11.158324235653822, 11.831507041893206, 11.258260540483008, 11.884591407646484, 12.46338359979889, 11.076543834469879, 11.806243940697575, 12.142300508375607, 17.59641272265498, 10.906675248218358, 10.39047244985724, 11.076543834469879, 9.924560485552213, 11.303865138850028, 17.139421044931407, 11.015963564360028, 15.383914696396339, 13.410542179240826, 16.77093868286572, 14.431201168377777, 13.128854805264233, 10.64845806988349, 14.39708465174543, 15.23501258202901, 13.86550158722784, 13.011153105759426, 11.499379585174088, 12.697323617380176, 10.261732934486297, 15.475033537392818, 9.197768325624113]}, {\"categories\": [\"0\", \"1\", \"2\", \"3\", \"4\", \"5\", \"6\", \"7\", \"8\", \"9\", \"10\", \"11\", \"12\", \"13\", \"14\", \"15\", \"16\", \"17\", \"18\", \"19\", \"20\", \"21\", \"22\", \"23\", \"24\", \"25\", \"26\", \"27\", \"28\", \"29\", \"30\", \"31\", \"32\", \"33\", \"36\"], \"mode\": \"lines\", \"name\": \"mean_absolute_percentage_error_min\", \"stepped\": true, \"type\": \"scatter\", \"data\": [10.227918298008179, 10.07545350264032, 10.07545350264032, 10.07545350264032, 10.07545350264032, 10.07545350264032, 10.07545350264032, 10.07545350264032, 10.07545350264032, 10.07545350264032, 10.07545350264032, 10.07545350264032, 10.07545350264032, 10.07545350264032, 10.07545350264032, 10.07545350264032, 9.924560485552213, 9.924560485552213, 9.924560485552213, 9.924560485552213, 9.924560485552213, 9.924560485552213, 9.924560485552213, 9.924560485552213, 9.924560485552213, 9.924560485552213, 9.924560485552213, 9.924560485552213, 9.924560485552213, 9.924560485552213, 9.924560485552213, 9.924560485552213, 9.924560485552213, 9.924560485552213, 9.197768325624113]}]}, \"metricName\": null, \"primaryMetricName\": \"normalized_root_mean_squared_error\", \"showLegend\": false}, \"run_metrics\": [{\"name\": \"experiment_status\", \"run_id\": \"AutoML_8a1f49c7-7001-4525-9922-362961aa3ee3\", \"categories\": [0, 1, 2, 3, 4, 5, 6, 7, 8, 9, 10, 11, 12, 13], \"series\": [{\"data\": [\"DatasetEvaluation\", \"FeaturesGeneration\", \"DatasetFeaturization\", \"DatasetFeaturizationCompleted\", \"DatasetCrossValidationSplit\", \"ModelSelection\", \"BestRunExplainModel\", \"ModelExplanationDataSetSetup\", \"PickSurrogateModel\", \"EngineeredFeatureExplanations\", \"EngineeredFeatureExplanations\", \"RawFeaturesExplanations\", \"RawFeaturesExplanations\", \"BestRunExplainModel\"]}]}, {\"name\": \"experiment_status_description\", \"run_id\": \"AutoML_8a1f49c7-7001-4525-9922-362961aa3ee3\", \"categories\": [0, 1, 2, 3, 4, 5, 6, 7, 8, 9, 10, 11, 12, 13], \"series\": [{\"data\": [\"Gathering dataset statistics.\", \"Generating features for the dataset.\", \"Beginning to fit featurizers and featurize the dataset.\", \"Completed fit featurizers and featurizing the dataset.\", \"Generating individually featurized CV splits.\", \"Beginning model selection.\", \"Best run model explanations started\", \"Model explanations data setup completed\", \"Choosing LightGBM as the surrogate model for explanations\", \"Computation of engineered features started\", \"Computation of engineered features completed\", \"Computation of raw features started\", \"Computation of raw features completed\", \"Best run model explanations completed\"]}]}, {\"name\": \"normalized_median_absolute_error\", \"run_id\": \"AutoML_8a1f49c7-7001-4525-9922-362961aa3ee3\", \"categories\": [0], \"series\": [{\"data\": [0.014509132245016371]}]}, {\"name\": \"mean_absolute_percentage_error\", \"run_id\": \"AutoML_8a1f49c7-7001-4525-9922-362961aa3ee3\", \"categories\": [0], \"series\": [{\"data\": [9.197768325624113]}]}, {\"name\": \"root_mean_squared_error\", \"run_id\": \"AutoML_8a1f49c7-7001-4525-9922-362961aa3ee3\", \"categories\": [0], \"series\": [{\"data\": [25771.906465315406]}]}, {\"name\": \"median_absolute_error\", \"run_id\": \"AutoML_8a1f49c7-7001-4525-9922-362961aa3ee3\", \"categories\": [0], \"series\": [{\"data\": [10448.026129636288]}]}, {\"name\": \"spearman_correlation\", \"run_id\": \"AutoML_8a1f49c7-7001-4525-9922-362961aa3ee3\", \"categories\": [0], \"series\": [{\"data\": [0.9562738525955498]}]}, {\"name\": \"normalized_root_mean_squared_log_error\", \"run_id\": \"AutoML_8a1f49c7-7001-4525-9922-362961aa3ee3\", \"categories\": [0], \"series\": [{\"data\": [0.04236093258268204]}]}, {\"name\": \"r2_score\", \"run_id\": \"AutoML_8a1f49c7-7001-4525-9922-362961aa3ee3\", \"categories\": [0], \"series\": [{\"data\": [0.8942710428327086]}]}, {\"name\": \"normalized_root_mean_squared_error\", \"run_id\": \"AutoML_8a1f49c7-7001-4525-9922-362961aa3ee3\", \"categories\": [0], \"series\": [{\"data\": [0.03578934379296681]}]}, {\"name\": \"normalized_mean_absolute_error\", \"run_id\": \"AutoML_8a1f49c7-7001-4525-9922-362961aa3ee3\", \"categories\": [0], \"series\": [{\"data\": [0.021677741931194747]}]}, {\"name\": \"root_mean_squared_log_error\", \"run_id\": \"AutoML_8a1f49c7-7001-4525-9922-362961aa3ee3\", \"categories\": [0], \"series\": [{\"data\": [0.13022613109168246]}]}, {\"name\": \"mean_absolute_error\", \"run_id\": \"AutoML_8a1f49c7-7001-4525-9922-362961aa3ee3\", \"categories\": [0], \"series\": [{\"data\": [15610.141964653338]}]}, {\"name\": \"explained_variance\", \"run_id\": \"AutoML_8a1f49c7-7001-4525-9922-362961aa3ee3\", \"categories\": [0], \"series\": [{\"data\": [0.8944568099173953]}]}], \"run_logs\": \"\\nRun is completed.\", \"graph\": {}, \"widget_settings\": {\"childWidgetDisplay\": \"popup\", \"send_telemetry\": false, \"log_level\": \"INFO\", \"sdk_version\": \"1.32.0\"}, \"loading\": false}"
     },
     "metadata": {},
     "output_type": "display_data"
    },
    {
     "data": {
      "text/html": [
       "<table style=\"width:100%\"><tr><th>Experiment</th><th>Id</th><th>Type</th><th>Status</th><th>Details Page</th><th>Docs Page</th></tr><tr><td>Ames-housing-AutoML</td><td>AutoML_8a1f49c7-7001-4525-9922-362961aa3ee3</td><td>automl</td><td>NotStarted</td><td><a href=\"https://ml.azure.com/runs/AutoML_8a1f49c7-7001-4525-9922-362961aa3ee3?wsid=/subscriptions/61c5c3f0-6dc7-4ed9-a7f3-c704b20e3b30/resourcegroups/aml-quickstarts-154647/workspaces/quick-starts-ws-154647&amp;tid=660b3398-b80e-49d2-bc5b-ac1dc93b5254\" target=\"_blank\" rel=\"noopener\">Link to Azure Machine Learning studio</a></td><td><a href=\"https://docs.microsoft.com/en-us/python/api/overview/azure/ml/intro?view=azure-ml-py\" target=\"_blank\" rel=\"noopener\">Link to Documentation</a></td></tr></table>"
      ],
      "text/plain": [
       "<IPython.core.display.HTML object>"
      ]
     },
     "metadata": {},
     "output_type": "display_data"
    },
    {
     "name": "stdout",
     "output_type": "stream",
     "text": [
      "\n",
      "Current status: FeaturesGeneration. Generating features for the dataset.\n",
      "Current status: DatasetFeaturization. Beginning to fit featurizers and featurize the dataset.\n",
      "Current status: DatasetCrossValidationSplit. Generating individually featurized CV splits.\n",
      "Current status: ModelSelection. Beginning model selection.\n",
      "\n",
      "****************************************************************************************************\n",
      "DATA GUARDRAILS: \n",
      "\n",
      "TYPE:         Missing feature values imputation\n",
      "STATUS:       PASSED\n",
      "DESCRIPTION:  No feature missing values were detected in the training data.\n",
      "              Learn more about missing value imputation: https://aka.ms/AutomatedMLFeaturization\n",
      "\n",
      "****************************************************************************************************\n",
      "\n",
      "TYPE:         High cardinality feature detection\n",
      "STATUS:       PASSED\n",
      "DESCRIPTION:  Your inputs were analyzed, and no high cardinality features were detected.\n",
      "              Learn more about high cardinality feature handling: https://aka.ms/AutomatedMLFeaturization\n",
      "\n",
      "****************************************************************************************************\n",
      "\n",
      "****************************************************************************************************\n",
      "ITERATION: The iteration being evaluated.\n",
      "PIPELINE: A summary description of the pipeline being evaluated.\n",
      "DURATION: Time taken for the current iteration.\n",
      "METRIC: The result of computing score on the fitted pipeline.\n",
      "BEST: The best observed score thus far.\n",
      "****************************************************************************************************\n",
      "\n",
      " ITERATION   PIPELINE                                       DURATION      METRIC      BEST\n",
      "         3   StandardScalerWrapper XGBoostRegressor         0:00:54       0.0383    0.0383\n",
      "         0   MaxAbsScaler LightGBM                          0:00:56       0.0406    0.0383\n",
      "         2   StandardScalerWrapper LightGBM                 0:01:51       0.0406    0.0383\n",
      "         1   MaxAbsScaler XGBoostRegressor                  0:01:55       0.0383    0.0383\n",
      "         4   MaxAbsScaler ElasticNet                        0:02:03       0.0486    0.0383\n",
      "         5   StandardScalerWrapper ElasticNet               0:00:57       0.0519    0.0383\n",
      "         6   MaxAbsScaler ElasticNet                        0:01:00       0.0497    0.0383\n",
      "         7   MaxAbsScaler ElasticNet                        0:01:00       0.0521    0.0383\n",
      "         8   MaxAbsScaler ExtremeRandomTrees                0:00:55       0.0482    0.0383\n",
      "         9   StandardScalerWrapper ElasticNet               0:00:57       0.0497    0.0383\n",
      "        10   StandardScalerWrapper ElasticNet               0:00:57       0.0517    0.0383\n",
      "        11   StandardScalerWrapper ElasticNet               0:00:59       0.0521    0.0383\n",
      "        12   MaxAbsScaler RandomForest                      0:01:01       0.0650    0.0383\n",
      "        13   StandardScalerWrapper ElasticNet               0:00:58       0.0475    0.0383\n",
      "        14   StandardScalerWrapper ElasticNet               0:00:58       0.0455    0.0383\n",
      "        15   StandardScalerWrapper ElasticNet               0:01:00       0.0497    0.0383\n",
      "        16   StandardScalerWrapper ElasticNet               0:00:51       0.0448    0.0383\n",
      "        17   StandardScalerWrapper ElasticNet               0:01:03       0.0505    0.0383\n",
      "        18   StandardScalerWrapper DecisionTree             0:00:51       0.0639    0.0383\n",
      "        19   StandardScalerWrapper ElasticNet               0:00:56       0.0495    0.0383\n",
      "        20   MaxAbsScaler DecisionTree                      0:00:53       0.0535    0.0383\n",
      "        21   StandardScalerWrapper RandomForest             0:00:52       0.0515    0.0383\n",
      "        22   MaxAbsScaler ExtremeRandomTrees                0:00:54       0.0625    0.0383\n",
      "        23   StandardScalerWrapper RandomForest             0:00:53       0.0554    0.0383\n",
      "        24   StandardScalerWrapper ExtremeRandomTrees       0:00:53       0.0493    0.0383\n",
      "        25   SparseNormalizer XGBoostRegressor              0:01:15       0.0392    0.0383\n",
      "        26   MaxAbsScaler RandomForest                      0:00:55       0.0555    0.0383\n",
      "        28   MaxAbsScaler RandomForest                      0:00:50       0.0527    0.0383\n",
      "        27   MaxAbsScaler RandomForest                      0:01:10       0.0588    0.0383\n",
      "        29   MaxAbsScaler GradientBoosting                  0:01:02       0.0516    0.0383\n",
      "        31   StandardScalerWrapper RandomForest             0:00:54       0.0491    0.0383\n",
      "        30   SparseNormalizer XGBoostRegressor              0:01:18       0.0440    0.0383\n",
      "        32   StandardScalerWrapper LightGBM                 0:00:57       0.0421    0.0383\n",
      "        33   StandardScalerWrapper ExtremeRandomTrees       0:00:37       0.0588    0.0383\n",
      "        34                                                  0:00:12          nan    0.0383\n",
      "        35                                                  0:00:03          nan    0.0383\n",
      "        36    VotingEnsemble                                0:00:58       0.0358    0.0358\n"
     ]
    },
    {
     "data": {
      "text/plain": [
       "{'runId': 'AutoML_8a1f49c7-7001-4525-9922-362961aa3ee3',\n",
       " 'target': 'cpu-cluster',\n",
       " 'status': 'Completed',\n",
       " 'startTimeUtc': '2021-08-16T08:25:25.312432Z',\n",
       " 'endTimeUtc': '2021-08-16T08:48:35.329871Z',\n",
       " 'properties': {'num_iterations': '1000',\n",
       "  'training_type': 'TrainFull',\n",
       "  'acquisition_function': 'EI',\n",
       "  'primary_metric': 'normalized_root_mean_squared_error',\n",
       "  'train_split': '0',\n",
       "  'acquisition_parameter': '0',\n",
       "  'num_cross_validation': '3',\n",
       "  'target': 'cpu-cluster',\n",
       "  'AMLSettingsJsonString': '{\"path\":null,\"name\":\"Ames-housing-AutoML\",\"subscription_id\":\"61c5c3f0-6dc7-4ed9-a7f3-c704b20e3b30\",\"resource_group\":\"aml-quickstarts-154647\",\"workspace_name\":\"quick-starts-ws-154647\",\"region\":\"southcentralus\",\"compute_target\":\"cpu-cluster\",\"spark_service\":null,\"azure_service\":\"remote\",\"many_models\":false,\"pipeline_fetch_max_batch_size\":1,\"enable_batch_run\":false,\"enable_run_restructure\":false,\"start_auxiliary_runs_before_parent_complete\":false,\"enable_code_generation\":false,\"iterations\":1000,\"primary_metric\":\"normalized_root_mean_squared_error\",\"task_type\":\"regression\",\"data_script\":null,\"test_size\":0.0,\"validation_size\":0.0,\"n_cross_validations\":3,\"y_min\":null,\"y_max\":null,\"num_classes\":null,\"featurization\":\"auto\",\"_ignore_package_version_incompatibilities\":false,\"is_timeseries\":false,\"max_cores_per_iteration\":-1,\"max_concurrent_iterations\":4,\"iteration_timeout_minutes\":5,\"mem_in_mb\":null,\"enforce_time_on_windows\":false,\"experiment_timeout_minutes\":120,\"experiment_exit_score\":null,\"whitelist_models\":null,\"blacklist_algos\":[\"TensorFlowDNN\",\"TensorFlowLinearRegressor\"],\"supported_models\":[\"ElasticNet\",\"LightGBM\",\"OnlineGradientDescentRegressor\",\"GradientBoosting\",\"ExtremeRandomTrees\",\"SGD\",\"RandomForest\",\"XGBoostRegressor\",\"FastLinearRegressor\",\"TensorFlowDNN\",\"LassoLars\",\"DecisionTree\",\"TensorFlowLinearRegressor\",\"KNN\"],\"private_models\":[],\"auto_blacklist\":true,\"blacklist_samples_reached\":false,\"exclude_nan_labels\":true,\"verbosity\":20,\"_debug_log\":\"azureml_automl.log\",\"show_warnings\":false,\"model_explainability\":true,\"service_url\":null,\"sdk_url\":null,\"sdk_packages\":null,\"enable_onnx_compatible_models\":true,\"enable_split_onnx_featurizer_estimator_models\":false,\"vm_type\":\"STANDARD_D2_V2\",\"telemetry_verbosity\":20,\"send_telemetry\":true,\"enable_dnn\":false,\"scenario\":\"SDK-1.13.0\",\"environment_label\":null,\"save_mlflow\":false,\"force_text_dnn\":false,\"enable_feature_sweeping\":false,\"enable_early_stopping\":true,\"early_stopping_n_iters\":10,\"metrics\":null,\"enable_metric_confidence\":false,\"enable_ensembling\":true,\"enable_stack_ensembling\":false,\"ensemble_iterations\":15,\"enable_tf\":false,\"enable_subsampling\":null,\"subsample_seed\":null,\"enable_nimbusml\":false,\"enable_streaming\":false,\"force_streaming\":false,\"track_child_runs\":true,\"allowed_private_models\":[],\"label_column_name\":\"SalePrice\",\"weight_column_name\":null,\"cv_split_column_names\":null,\"enable_local_managed\":false,\"_local_managed_run_id\":null,\"cost_mode\":1,\"lag_length\":0,\"metric_operation\":\"minimize\",\"preprocess\":true}',\n",
       "  'DataPrepJsonString': '{\\\\\"training_data\\\\\": {\\\\\"datasetId\\\\\": \\\\\"174428c7-1944-4ccc-b64f-f9b7e7dfedfb\\\\\"}, \\\\\"datasets\\\\\": 0}',\n",
       "  'EnableSubsampling': None,\n",
       "  'runTemplate': 'AutoML',\n",
       "  'azureml.runsource': 'automl',\n",
       "  'display_task_type': 'regression',\n",
       "  'dependencies_versions': '{\"azureml-widgets\": \"1.32.0\", \"azureml-train\": \"1.32.0\", \"azureml-train-restclients-hyperdrive\": \"1.32.0\", \"azureml-train-core\": \"1.32.0\", \"azureml-train-automl\": \"1.32.0\", \"azureml-train-automl-runtime\": \"1.32.0\", \"azureml-train-automl-client\": \"1.32.0\", \"azureml-tensorboard\": \"1.32.0\", \"azureml-telemetry\": \"1.32.0\", \"azureml-sdk\": \"1.32.0\", \"azureml-samples\": \"0+unknown\", \"azureml-responsibleai\": \"1.32.0\", \"azureml-pipeline\": \"1.32.0\", \"azureml-pipeline-steps\": \"1.32.0\", \"azureml-pipeline-core\": \"1.32.0\", \"azureml-opendatasets\": \"1.32.0\", \"azureml-model-management-sdk\": \"1.0.1b6.post1\", \"azureml-mlflow\": \"1.32.0\", \"azureml-interpret\": \"1.32.0\", \"azureml-explain-model\": \"1.32.0\", \"azureml-defaults\": \"1.32.0\", \"azureml-dataset-runtime\": \"1.32.0\", \"azureml-dataprep\": \"2.18.0\", \"azureml-dataprep-rslex\": \"1.16.1\", \"azureml-dataprep-native\": \"36.0.0\", \"azureml-datadrift\": \"1.32.0\", \"azureml-core\": \"1.32.0\", \"azureml-contrib-services\": \"1.32.0\", \"azureml-contrib-server\": \"1.32.0\", \"azureml-contrib-reinforcementlearning\": \"1.32.0\", \"azureml-contrib-pipeline-steps\": \"1.32.0\", \"azureml-contrib-notebook\": \"1.32.0\", \"azureml-contrib-fairness\": \"1.32.0\", \"azureml-contrib-dataset\": \"1.32.0\", \"azureml-cli-common\": \"1.32.0\", \"azureml-automl-runtime\": \"1.32.0\", \"azureml-automl-dnn-nlp\": \"1.32.0\", \"azureml-automl-core\": \"1.32.0\", \"azureml-accel-models\": \"1.32.0\"}',\n",
       "  '_aml_system_scenario_identification': 'Remote.Parent',\n",
       "  'ClientType': 'SDK',\n",
       "  'environment_cpu_name': 'AzureML-AutoML',\n",
       "  'environment_cpu_label': 'prod',\n",
       "  'environment_gpu_name': 'AzureML-AutoML-GPU',\n",
       "  'environment_gpu_label': 'prod',\n",
       "  'root_attribution': 'automl',\n",
       "  'attribution': 'AutoML',\n",
       "  'Orchestrator': 'AutoML',\n",
       "  'CancelUri': 'https://southcentralus.api.azureml.ms/jasmine/v1.0/subscriptions/61c5c3f0-6dc7-4ed9-a7f3-c704b20e3b30/resourceGroups/aml-quickstarts-154647/providers/Microsoft.MachineLearningServices/workspaces/quick-starts-ws-154647/experimentids/0958fdc8-55b2-4c34-87b7-f52c966a9f99/cancel/AutoML_8a1f49c7-7001-4525-9922-362961aa3ee3',\n",
       "  'ClientSdkVersion': '1.33.0',\n",
       "  'snapshotId': '00000000-0000-0000-0000-000000000000',\n",
       "  'SetupRunId': 'AutoML_8a1f49c7-7001-4525-9922-362961aa3ee3_setup',\n",
       "  'SetupRunContainerId': 'dcid.AutoML_8a1f49c7-7001-4525-9922-362961aa3ee3_setup',\n",
       "  'FeaturizationRunJsonPath': 'featurizer_container.json',\n",
       "  'FeaturizationRunId': 'AutoML_8a1f49c7-7001-4525-9922-362961aa3ee3_featurize',\n",
       "  'ProblemInfoJsonString': '{\"dataset_num_categorical\": 0, \"is_sparse\": true, \"subsampling\": false, \"has_extra_col\": true, \"dataset_classes\": 663, \"dataset_features\": 453, \"dataset_samples\": 1460, \"single_frequency_class_detected\": false}',\n",
       "  'ModelExplainRunId': 'AutoML_8a1f49c7-7001-4525-9922-362961aa3ee3_ModelExplain'},\n",
       " 'inputDatasets': [{'dataset': {'id': '174428c7-1944-4ccc-b64f-f9b7e7dfedfb'}, 'consumptionDetails': {'type': 'RunInput', 'inputName': 'training_data', 'mechanism': 'Direct'}}],\n",
       " 'outputDatasets': [],\n",
       " 'logFiles': {},\n",
       " 'submittedBy': 'ODL_User 154647'}"
      ]
     },
     "execution_count": 8,
     "metadata": {},
     "output_type": "execute_result"
    }
   ],
   "source": [
    "# TODO: Submit your experiment\n",
    "aml_run = experiment.submit(automl_config)\n",
    "RunDetails(aml_run).show()\n",
    "aml_run.wait_for_completion(show_output=True)"
   ]
  },
  {
   "cell_type": "markdown",
   "metadata": {},
   "source": [
    "## Best Model\n",
    "\n",
    "*TODO: In the cell below, get the best model from the automl experiments and display all the properties of the model.*"
   ]
  },
  {
   "cell_type": "code",
   "execution_count": 9,
   "metadata": {
    "gather": {
     "logged": 1629036093375
    },
    "jupyter": {
     "outputs_hidden": false,
     "source_hidden": false
    },
    "nteract": {
     "transient": {
      "deleting": false
     }
    }
   },
   "outputs": [
    {
     "name": "stderr",
     "output_type": "stream",
     "text": [
      "WARNING:root:The version of the SDK does not match the version the model was trained on.\n",
      "WARNING:root:The consistency in the result may not be guaranteed.\n",
      "WARNING:root:Package:azureml-automl-core, training version:1.33.0, current version:1.32.0\n",
      "Package:azureml-automl-runtime, training version:1.33.0, current version:1.32.0\n",
      "Package:azureml-core, training version:1.33.0, current version:1.32.0\n",
      "Package:azureml-dataprep, training version:2.20.1, current version:2.18.0\n",
      "Package:azureml-dataprep-native, training version:38.0.0, current version:36.0.0\n",
      "Package:azureml-dataprep-rslex, training version:1.18.0, current version:1.16.1\n",
      "Package:azureml-dataset-runtime, training version:1.33.0, current version:1.32.0\n",
      "Package:azureml-defaults, training version:1.33.0, current version:1.32.0\n",
      "Package:azureml-interpret, training version:1.33.0, current version:1.32.0\n",
      "Package:azureml-mlflow, training version:1.33.0, current version:1.32.0\n",
      "Package:azureml-pipeline-core, training version:1.33.0, current version:1.32.0\n",
      "Package:azureml-responsibleai, training version:1.33.0, current version:1.32.0\n",
      "Package:azureml-telemetry, training version:1.33.0, current version:1.32.0\n",
      "Package:azureml-train-automl-client, training version:1.33.0, current version:1.32.0\n",
      "Package:azureml-train-automl-runtime, training version:1.33.0, current version:1.32.0\n",
      "WARNING:root:Please ensure the version of your local conda dependencies match the version on which your model was trained in order to properly retrieve your model.\n"
     ]
    },
    {
     "name": "stdout",
     "output_type": "stream",
     "text": [
      "Run(Experiment: Ames-housing-AutoML,\n",
      "Id: AutoML_8a1f49c7-7001-4525-9922-362961aa3ee3_36,\n",
      "Type: azureml.scriptrun,\n",
      "Status: Completed)\n",
      "RegressionPipeline(pipeline=Pipeline(memory=None,\n",
      "                                     steps=[('datatransformer',\n",
      "                                             DataTransformer(enable_dnn=False, enable_feature_sweeping=False, feature_sweeping_config={}, feature_sweeping_timeout=86400, featurization_config=None, force_text_dnn=False, is_cross_validation=True, is_onnx_compatible=True, observer=None, task='regression', working_dir='/mnt/batch/ta...\n",
      "), random_state=0, reg_alpha=1.4583333333333335, reg_lambda=2.3958333333333335, subsample=0.6, tree_method='hist'))], verbose=False)), ('7', Pipeline(memory=None, steps=[('maxabsscaler', MaxAbsScaler(copy=True)), ('elasticnet', ElasticNet(alpha=0.001, copy_X=True, fit_intercept=True, l1_ratio=1, max_iter=1000, normalize=False, positive=False, precompute=False, random_state=None, selection='cyclic', tol=0.0001, warm_start=False))], verbose=False))], weights=[0.06666666666666667, 0.4, 0.4, 0.13333333333333333]))],\n",
      "                                     verbose=False),\n",
      "                   stddev=[25779.329029057455])\n"
     ]
    }
   ],
   "source": [
    "# Get your best run and save the model from that run.\n",
    "best_run, fitted_model = aml_run.get_output()\n",
    "print(best_run)\n",
    "print(fitted_model)"
   ]
  },
  {
   "cell_type": "code",
   "execution_count": 10,
   "metadata": {
    "gather": {
     "logged": 1629036109480
    }
   },
   "outputs": [
    {
     "data": {
      "text/plain": [
       "{'r2_score': 0.8942710428327086,\n",
       " 'root_mean_squared_error': 25771.906465315406,\n",
       " 'spearman_correlation': 0.9562738525955498,\n",
       " 'mean_absolute_percentage_error': 9.197768325624113,\n",
       " 'root_mean_squared_log_error': 0.13022613109168246,\n",
       " 'normalized_root_mean_squared_error': 0.03578934379296681,\n",
       " 'normalized_median_absolute_error': 0.014509132245016371,\n",
       " 'normalized_mean_absolute_error': 0.021677741931194747,\n",
       " 'explained_variance': 0.8944568099173953,\n",
       " 'median_absolute_error': 10448.026129636288,\n",
       " 'normalized_root_mean_squared_log_error': 0.04236093258268204,\n",
       " 'mean_absolute_error': 15610.141964653338,\n",
       " 'predicted_true': 'aml://artifactId/ExperimentRun/dcid.AutoML_8a1f49c7-7001-4525-9922-362961aa3ee3_36/predicted_true',\n",
       " 'residuals': 'aml://artifactId/ExperimentRun/dcid.AutoML_8a1f49c7-7001-4525-9922-362961aa3ee3_36/residuals'}"
      ]
     },
     "execution_count": 10,
     "metadata": {},
     "output_type": "execute_result"
    }
   ],
   "source": [
    "best_run_metrics = best_run.get_metrics()\n",
    "best_run_metrics"
   ]
  },
  {
   "cell_type": "code",
   "execution_count": 11,
   "metadata": {
    "gather": {
     "logged": 1629036125304
    }
   },
   "outputs": [
    {
     "data": {
      "text/html": [
       "<div>\n",
       "<style scoped>\n",
       "    .dataframe tbody tr th:only-of-type {\n",
       "        vertical-align: middle;\n",
       "    }\n",
       "\n",
       "    .dataframe tbody tr th {\n",
       "        vertical-align: top;\n",
       "    }\n",
       "\n",
       "    .dataframe thead th {\n",
       "        text-align: right;\n",
       "    }\n",
       "</style>\n",
       "<table border=\"1\" class=\"dataframe\">\n",
       "  <thead>\n",
       "    <tr style=\"text-align: right;\">\n",
       "      <th></th>\n",
       "      <th>ensembled_algorithms</th>\n",
       "      <th>ensemble_weights</th>\n",
       "    </tr>\n",
       "  </thead>\n",
       "  <tbody>\n",
       "    <tr>\n",
       "      <th>1</th>\n",
       "      <td>XGBoostRegressor</td>\n",
       "      <td>0.40</td>\n",
       "    </tr>\n",
       "    <tr>\n",
       "      <th>2</th>\n",
       "      <td>XGBoostRegressor</td>\n",
       "      <td>0.40</td>\n",
       "    </tr>\n",
       "    <tr>\n",
       "      <th>3</th>\n",
       "      <td>ElasticNet</td>\n",
       "      <td>0.13</td>\n",
       "    </tr>\n",
       "    <tr>\n",
       "      <th>0</th>\n",
       "      <td>XGBoostRegressor</td>\n",
       "      <td>0.07</td>\n",
       "    </tr>\n",
       "  </tbody>\n",
       "</table>\n",
       "</div>"
      ],
      "text/plain": [
       "  ensembled_algorithms  ensemble_weights\n",
       "1     XGBoostRegressor              0.40\n",
       "2     XGBoostRegressor              0.40\n",
       "3           ElasticNet              0.13\n",
       "0     XGBoostRegressor              0.07"
      ]
     },
     "execution_count": 11,
     "metadata": {},
     "output_type": "execute_result"
    }
   ],
   "source": [
    "details = best_run.get_details()\n",
    "# A pattern for extracting structure of the VotingEnsemble model\n",
    "voting_ensemble = {k:ast.literal_eval(details['properties'][k]) for k in ['ensembled_algorithms', 'ensemble_weights']}\n",
    "pd.DataFrame(voting_ensemble).sort_values(by='ensemble_weights', ascending=False)"
   ]
  },
  {
   "cell_type": "code",
   "execution_count": 13,
   "metadata": {
    "gather": {
     "logged": 1629036142080
    }
   },
   "outputs": [],
   "source": [
    "# Save metrics and details for ex-post examination\n",
    "os.makedirs('./aml-outputs', exist_ok=True)\n",
    "with open('aml-outputs/best_aml_metrics.json', 'w') as file:\n",
    "    json.dump(best_run_metrics, file)\n",
    "with open('aml-outputs/best_aml_details.txt', 'w') as file:\n",
    "    file.write(str(details))"
   ]
  },
  {
   "cell_type": "code",
   "execution_count": 14,
   "metadata": {
    "gather": {
     "logged": 1629036158474
    }
   },
   "outputs": [],
   "source": [
    "# Explore the main model in the ensemble\n",
    "main_dict = {}\n",
    "main_dict['preprocessor'] = str(type(fitted_model.steps[1][1].get_params()['estimators'][0][1].get_params()['steps'][0][1]))"
   ]
  },
  {
   "cell_type": "code",
   "execution_count": 15,
   "metadata": {
    "gather": {
     "logged": 1629036161063
    }
   },
   "outputs": [],
   "source": [
    "main_dict['estimator_type'] = str(type(fitted_model.steps[1][1].get_params()['estimators'][0][1].get_params()['steps'][1][1]))"
   ]
  },
  {
   "cell_type": "code",
   "execution_count": 16,
   "metadata": {
    "gather": {
     "logged": 1629036163716
    }
   },
   "outputs": [],
   "source": [
    "main_dict['estimator_param'] = fitted_model.steps[1][1].get_params()['estimators'][0][1].get_params()['steps'][1][1].get_params()"
   ]
  },
  {
   "cell_type": "code",
   "execution_count": 17,
   "metadata": {
    "gather": {
     "logged": 1629036167589
    }
   },
   "outputs": [
    {
     "data": {
      "text/plain": [
       "{'preprocessor': \"<class 'azureml.automl.runtime.shared.model_wrappers.StandardScalerWrapper'>\",\n",
       " 'estimator_type': \"<class 'azureml.automl.runtime.shared.model_wrappers.XGBoostRegressor'>\",\n",
       " 'estimator_param': {'base_score': 0.5,\n",
       "  'booster': 'gbtree',\n",
       "  'colsample_bylevel': 1,\n",
       "  'colsample_bynode': 1,\n",
       "  'colsample_bytree': 1,\n",
       "  'gamma': 0,\n",
       "  'importance_type': 'gain',\n",
       "  'learning_rate': 0.1,\n",
       "  'max_delta_step': 0,\n",
       "  'max_depth': 3,\n",
       "  'min_child_weight': 1,\n",
       "  'missing': nan,\n",
       "  'n_estimators': 100,\n",
       "  'n_jobs': -1,\n",
       "  'nthread': None,\n",
       "  'objective': 'reg:squarederror',\n",
       "  'random_state': 0,\n",
       "  'reg_alpha': 0,\n",
       "  'reg_lambda': 1,\n",
       "  'scale_pos_weight': 1,\n",
       "  'seed': None,\n",
       "  'silent': None,\n",
       "  'subsample': 1,\n",
       "  'verbosity': 0,\n",
       "  'tree_method': 'auto',\n",
       "  'verbose': -10}}"
      ]
     },
     "execution_count": 17,
     "metadata": {},
     "output_type": "execute_result"
    }
   ],
   "source": [
    "# Save details of the main model for ex-post examination\n",
    "with open('aml-outputs/best_aml_main_model.json', 'w') as file:\n",
    "    json.dump(main_dict, file)\n",
    "main_dict"
   ]
  },
  {
   "cell_type": "code",
   "execution_count": 18,
   "metadata": {
    "gather": {
     "logged": 1629036187839
    },
    "jupyter": {
     "outputs_hidden": false,
     "source_hidden": false
    },
    "nteract": {
     "transient": {
      "deleting": false
     }
    }
   },
   "outputs": [
    {
     "name": "stdout",
     "output_type": "stream",
     "text": [
      "0 automl_driver.py\n",
      "1 azureml-logs/55_azureml-execution-tvmps_18b8019307bf121532254d3f74299ad2cbf5f8eb2347d513a73fe17a9410aff2_d.txt\n",
      "2 azureml-logs/65_job_prep-tvmps_18b8019307bf121532254d3f74299ad2cbf5f8eb2347d513a73fe17a9410aff2_d.txt\n",
      "3 azureml-logs/70_driver_log.txt\n",
      "4 azureml-logs/75_job_post-tvmps_18b8019307bf121532254d3f74299ad2cbf5f8eb2347d513a73fe17a9410aff2_d.txt\n",
      "5 azureml-logs/process_info.json\n",
      "6 azureml-logs/process_status.json\n",
      "7 explanation/386a65d0/expected_values.interpret.json\n",
      "8 explanation/386a65d0/features.interpret.json\n",
      "9 explanation/386a65d0/global_names/0.interpret.json\n",
      "10 explanation/386a65d0/global_rank/0.interpret.json\n",
      "11 explanation/386a65d0/global_values/0.interpret.json\n",
      "12 explanation/386a65d0/local_importance_values.interpret.json\n",
      "13 explanation/386a65d0/rich_metadata.interpret.json\n",
      "14 explanation/386a65d0/true_ys_viz.interpret.json\n",
      "15 explanation/386a65d0/visualization_dict.interpret.json\n",
      "16 explanation/386a65d0/ys_pred_viz.interpret.json\n",
      "17 explanation/b210569d/eval_data_viz.interpret.json\n",
      "18 explanation/b210569d/expected_values.interpret.json\n",
      "19 explanation/b210569d/features.interpret.json\n",
      "20 explanation/b210569d/global_names/0.interpret.json\n",
      "21 explanation/b210569d/global_rank/0.interpret.json\n",
      "22 explanation/b210569d/global_values/0.interpret.json\n",
      "23 explanation/b210569d/local_importance_values.interpret.json\n",
      "24 explanation/b210569d/rich_metadata.interpret.json\n",
      "25 explanation/b210569d/true_ys_viz.interpret.json\n",
      "26 explanation/b210569d/visualization_dict.interpret.json\n",
      "27 explanation/b210569d/ys_pred_viz.interpret.json\n",
      "28 logs/azureml/96_azureml.log\n",
      "29 logs/azureml/azureml_automl-child.log\n",
      "30 logs/azureml/azureml_automl.log\n",
      "31 logs/azureml/job_prep_azureml.log\n",
      "32 logs/azureml/job_release_azureml.log\n",
      "33 outputs/conda_env_v_1_0_0.yml\n",
      "34 outputs/env_dependencies.json\n",
      "35 outputs/internal_cross_validated_models.pkl\n",
      "36 outputs/model.onnx\n",
      "37 outputs/model.pkl\n",
      "38 outputs/model_onnx.json\n",
      "39 outputs/pipeline_graph.json\n",
      "40 outputs/scoring_file_v_1_0_0.py\n",
      "41 outputs/scoring_file_v_2_0_0.py\n",
      "42 predicted_true\n",
      "43 residuals\n"
     ]
    }
   ],
   "source": [
    "# Check the path to the model\n",
    "for i,n in enumerate(best_run.get_file_names()):\n",
    "    print(i,n)"
   ]
  },
  {
   "cell_type": "code",
   "execution_count": 19,
   "metadata": {
    "gather": {
     "logged": 1629036249305
    }
   },
   "outputs": [
    {
     "name": "stdout",
     "output_type": "stream",
     "text": [
      "outputs/conda_env_v_1_0_0.yml\n",
      "outputs/env_dependencies.json\n",
      "outputs/internal_cross_validated_models.pkl\n",
      "outputs/model.onnx\n",
      "outputs/model.pkl\n",
      "outputs/model_onnx.json\n",
      "outputs/pipeline_graph.json\n",
      "outputs/scoring_file_v_1_0_0.py\n",
      "outputs/scoring_file_v_2_0_0.py\n"
     ]
    }
   ],
   "source": [
    "# Save the best model\n",
    "os.makedirs('./aml-outputs/', exist_ok=True)\n",
    "for i in range(33,42):\n",
    "    print(best_run.get_file_names()[i])\n",
    "    best_run.download_file(best_run.get_file_names()[i], output_file_path='./aml-outputs/')"
   ]
  },
  {
   "cell_type": "markdown",
   "metadata": {},
   "source": [
    "Remember you have to deploy only one of the two models you trained. Perform the steps in the rest of this notebook only if you wish to deploy this model.\n",
    "\n",
    "*TODO: In the cell below, register the model, create an inference config and deploy the model as a web service.*"
   ]
  },
  {
   "cell_type": "code",
   "execution_count": 20,
   "metadata": {
    "gather": {
     "logged": 1629038256297
    }
   },
   "outputs": [
    {
     "name": "stdout",
     "output_type": "stream",
     "text": [
      "Registering model Ames-Housing-AutoML-Model\n",
      "Ames-Housing-AutoML-Model\tAmes-Housing-AutoML-Model:1\t1\n"
     ]
    }
   ],
   "source": [
    "# Register the best model\n",
    "model = Model.register(ws, model_path='aml-outputs/model.pkl', model_name='Ames-Housing-AutoML-Model', tags=best_run_metrics)\n",
    "print(model.name, model.id, model.version, sep='\\t')"
   ]
  },
  {
   "cell_type": "code",
   "execution_count": 21,
   "metadata": {
    "gather": {
     "logged": 1629038264016
    }
   },
   "outputs": [],
   "source": [
    "from azureml.core.webservice import AciWebservice\n",
    "aciconfig = AciWebservice.deploy_configuration(cpu_cores=1,\n",
    "                                              memory_gb=1,\n",
    "                                              tags={\"data\" : \"Kaggle\", \"method\" : \"AutoML\"},\n",
    "                                              description=\"Predict Ames Housing Prices\",\n",
    "                                              auth_enabled=True,\n",
    "                                              enable_app_insights=True)"
   ]
  },
  {
   "cell_type": "code",
   "execution_count": 22,
   "metadata": {
    "gather": {
     "logged": 1629038274840
    }
   },
   "outputs": [
    {
     "data": {
      "text/plain": [
       "{\n",
       "    \"databricks\": {\n",
       "        \"eggLibraries\": [],\n",
       "        \"jarLibraries\": [],\n",
       "        \"mavenLibraries\": [],\n",
       "        \"pypiLibraries\": [],\n",
       "        \"rcranLibraries\": []\n",
       "    },\n",
       "    \"docker\": {\n",
       "        \"arguments\": [],\n",
       "        \"baseDockerfile\": null,\n",
       "        \"baseImage\": \"mcr.microsoft.com/azureml/openmpi3.1.2-ubuntu18.04:20210615.v1\",\n",
       "        \"baseImageRegistry\": {\n",
       "            \"address\": null,\n",
       "            \"password\": null,\n",
       "            \"registryIdentity\": null,\n",
       "            \"username\": null\n",
       "        },\n",
       "        \"enabled\": false,\n",
       "        \"platform\": {\n",
       "            \"architecture\": \"amd64\",\n",
       "            \"os\": \"Linux\"\n",
       "        },\n",
       "        \"sharedVolumes\": true,\n",
       "        \"shmSize\": null\n",
       "    },\n",
       "    \"environmentVariables\": {\n",
       "        \"EXAMPLE_ENV_VAR\": \"EXAMPLE_VALUE\"\n",
       "    },\n",
       "    \"inferencingStackVersion\": null,\n",
       "    \"name\": \"project-env\",\n",
       "    \"python\": {\n",
       "        \"baseCondaEnvironment\": null,\n",
       "        \"condaDependencies\": {\n",
       "            \"channels\": [\n",
       "                \"anaconda\",\n",
       "                \"conda-forge\"\n",
       "            ],\n",
       "            \"dependencies\": [\n",
       "                \"python=3.6.2\",\n",
       "                {\n",
       "                    \"pip\": [\n",
       "                        \"azureml-train-automl-runtime==1.33.0\",\n",
       "                        \"inference-schema\",\n",
       "                        \"azureml-interpret==1.33.0\",\n",
       "                        \"azureml-defaults==1.33.0\"\n",
       "                    ]\n",
       "                },\n",
       "                \"numpy>=1.16.0,<1.19.0\",\n",
       "                \"pandas==0.25.1\",\n",
       "                \"scikit-learn==0.22.1\",\n",
       "                \"py-xgboost<=0.90\",\n",
       "                \"fbprophet==0.5\",\n",
       "                \"holidays==0.9.11\",\n",
       "                \"psutil>=5.2.2,<6.0.0\"\n",
       "            ],\n",
       "            \"name\": \"azureml_59fba923920e15fa8fbe872c700ad33f\"\n",
       "        },\n",
       "        \"condaDependenciesFile\": null,\n",
       "        \"interpreterPath\": \"python\",\n",
       "        \"userManagedDependencies\": false\n",
       "    },\n",
       "    \"r\": null,\n",
       "    \"spark\": {\n",
       "        \"packages\": [],\n",
       "        \"precachePackages\": true,\n",
       "        \"repositories\": []\n",
       "    },\n",
       "    \"version\": \"1\"\n",
       "}"
      ]
     },
     "execution_count": 22,
     "metadata": {},
     "output_type": "execute_result"
    }
   ],
   "source": [
    "from azureml.core.environment import Environment\n",
    "from azureml.core.conda_dependencies import CondaDependencies\n",
    "\n",
    "env = Environment(\"project-env\")\n",
    "cd = CondaDependencies('aml-outputs/conda_env_v_1_0_0.yml')\n",
    "env.python.conda_dependencies = cd\n",
    "# Register environment to re-use later\n",
    "env.register(workspace=ws)"
   ]
  },
  {
   "cell_type": "code",
   "execution_count": 23,
   "metadata": {},
   "outputs": [
    {
     "name": "stdout",
     "output_type": "stream",
     "text": [
      "Tips: You can try get_logs(): https://aka.ms/debugimage#dockerlog or local deployment: https://aka.ms/debugimage#debug-locally to debug if deployment takes longer than 10 minutes.\n",
      "Running\n",
      "2021-08-16 08:55:21+00:00 Creating Container Registry if not exists..\n",
      "2021-08-16 09:05:21+00:00 Registering the environment.\n",
      "2021-08-16 09:05:23+00:00 Building image..\n",
      "2021-08-16 09:22:29+00:00 Generating deployment configuration.\n",
      "2021-08-16 09:22:31+00:00 Submitting deployment to compute..\n",
      "2021-08-16 09:22:39+00:00 Checking the status of deployment ames-housing-aml-a698..\n",
      "2021-08-16 09:26:35+00:00 Checking the status of inference endpoint ames-housing-aml-a698.\n",
      "Failed\n"
     ]
    },
    {
     "name": "stderr",
     "output_type": "stream",
     "text": [
      "ERROR:azureml.core.webservice.webservice:Service deployment polling reached non-successful terminal state, current service state: Unhealthy\n",
      "Operation ID: 238ed8fc-ce62-4929-a516-3ac8ad5de684\n",
      "More information can be found using '.get_logs()'\n",
      "Error:\n",
      "{\n",
      "  \"code\": \"AciDeploymentFailed\",\n",
      "  \"statusCode\": 400,\n",
      "  \"message\": \"Aci Deployment failed with exception: Error in entry script, ModuleNotFoundError: No module named 'azureml.api', please run print(service.get_logs()) to get details.\",\n",
      "  \"details\": [\n",
      "    {\n",
      "      \"code\": \"CrashLoopBackOff\",\n",
      "      \"message\": \"Error in entry script, ModuleNotFoundError: No module named 'azureml.api', please run print(service.get_logs()) to get details.\"\n",
      "    }\n",
      "  ]\n",
      "}\n",
      "\n"
     ]
    },
    {
     "ename": "WebserviceException",
     "evalue": "WebserviceException:\n\tMessage: Service deployment polling reached non-successful terminal state, current service state: Unhealthy\nOperation ID: 238ed8fc-ce62-4929-a516-3ac8ad5de684\nMore information can be found using '.get_logs()'\nError:\n{\n  \"code\": \"AciDeploymentFailed\",\n  \"statusCode\": 400,\n  \"message\": \"Aci Deployment failed with exception: Error in entry script, ModuleNotFoundError: No module named 'azureml.api', please run print(service.get_logs()) to get details.\",\n  \"details\": [\n    {\n      \"code\": \"CrashLoopBackOff\",\n      \"message\": \"Error in entry script, ModuleNotFoundError: No module named 'azureml.api', please run print(service.get_logs()) to get details.\"\n    }\n  ]\n}\n\tInnerException None\n\tErrorResponse \n{\n    \"error\": {\n        \"message\": \"Service deployment polling reached non-successful terminal state, current service state: Unhealthy\\nOperation ID: 238ed8fc-ce62-4929-a516-3ac8ad5de684\\nMore information can be found using '.get_logs()'\\nError:\\n{\\n  \\\"code\\\": \\\"AciDeploymentFailed\\\",\\n  \\\"statusCode\\\": 400,\\n  \\\"message\\\": \\\"Aci Deployment failed with exception: Error in entry script, ModuleNotFoundError: No module named 'azureml.api', please run print(service.get_logs()) to get details.\\\",\\n  \\\"details\\\": [\\n    {\\n      \\\"code\\\": \\\"CrashLoopBackOff\\\",\\n      \\\"message\\\": \\\"Error in entry script, ModuleNotFoundError: No module named 'azureml.api', please run print(service.get_logs()) to get details.\\\"\\n    }\\n  ]\\n}\"\n    }\n}",
     "output_type": "error",
     "traceback": [
      "\u001b[0;31m---------------------------------------------------------------------------\u001b[0m",
      "\u001b[0;31mWebserviceException\u001b[0m                       Traceback (most recent call last)",
      "\u001b[0;32m<timed exec>\u001b[0m in \u001b[0;36m<module>\u001b[0;34m\u001b[0m\n",
      "\u001b[0;32m/anaconda/envs/azureml_py36/lib/python3.6/site-packages/azureml/core/webservice/webservice.py\u001b[0m in \u001b[0;36mwait_for_deployment\u001b[0;34m(self, show_output, timeout_sec)\u001b[0m\n\u001b[1;32m    923\u001b[0m                                           \u001b[0;34m'Error:\\n'\u001b[0m\u001b[0;34m\u001b[0m\u001b[0;34m\u001b[0m\u001b[0m\n\u001b[1;32m    924\u001b[0m                                           '{}'.format(self.state, self._operation_endpoint.split('/')[-1],\n\u001b[0;32m--> 925\u001b[0;31m                                                       logs_response, format_error_response), logger=module_logger)\n\u001b[0m\u001b[1;32m    926\u001b[0m             print('{} service creation operation finished, operation \"{}\"'.format(self._webservice_type,\n\u001b[1;32m    927\u001b[0m                                                                                   operation_state))\n",
      "\u001b[0;31mWebserviceException\u001b[0m: WebserviceException:\n\tMessage: Service deployment polling reached non-successful terminal state, current service state: Unhealthy\nOperation ID: 238ed8fc-ce62-4929-a516-3ac8ad5de684\nMore information can be found using '.get_logs()'\nError:\n{\n  \"code\": \"AciDeploymentFailed\",\n  \"statusCode\": 400,\n  \"message\": \"Aci Deployment failed with exception: Error in entry script, ModuleNotFoundError: No module named 'azureml.api', please run print(service.get_logs()) to get details.\",\n  \"details\": [\n    {\n      \"code\": \"CrashLoopBackOff\",\n      \"message\": \"Error in entry script, ModuleNotFoundError: No module named 'azureml.api', please run print(service.get_logs()) to get details.\"\n    }\n  ]\n}\n\tInnerException None\n\tErrorResponse \n{\n    \"error\": {\n        \"message\": \"Service deployment polling reached non-successful terminal state, current service state: Unhealthy\\nOperation ID: 238ed8fc-ce62-4929-a516-3ac8ad5de684\\nMore information can be found using '.get_logs()'\\nError:\\n{\\n  \\\"code\\\": \\\"AciDeploymentFailed\\\",\\n  \\\"statusCode\\\": 400,\\n  \\\"message\\\": \\\"Aci Deployment failed with exception: Error in entry script, ModuleNotFoundError: No module named 'azureml.api', please run print(service.get_logs()) to get details.\\\",\\n  \\\"details\\\": [\\n    {\\n      \\\"code\\\": \\\"CrashLoopBackOff\\\",\\n      \\\"message\\\": \\\"Error in entry script, ModuleNotFoundError: No module named 'azureml.api', please run print(service.get_logs()) to get details.\\\"\\n    }\\n  ]\\n}\"\n    }\n}"
     ]
    }
   ],
   "source": [
    "%%time\n",
    "import uuid\n",
    "from azureml.core.webservice import Webservice\n",
    "from azureml.core.model import InferenceConfig\n",
    "from azureml.core.environment import Environment\n",
    "from azureml.core import Workspace\n",
    "from azureml.core.model import Model\n",
    "\n",
    "ws = Workspace.from_config()\n",
    "model = Model(ws, 'Ames-Housing-AutoML-Model')\n",
    "\n",
    "myenv = Environment.get(workspace=ws, name=\"project-env\")\n",
    "inference_config = InferenceConfig(entry_script=\"aml-outputs/scoring_file_v_1_0_0.py\", environment=myenv)\n",
    "\n",
    "service_name = 'ames-housing-aml-' + str(uuid.uuid4())[:4]\n",
    "service = Model.deploy(workspace=ws,\n",
    "                      name=service_name,\n",
    "                      models=[model],\n",
    "                      inference_config=inference_config,\n",
    "                      deployment_config=aciconfig)\n",
    "\n",
    "service.wait_for_deployment(show_output=True)"
   ]
  },
  {
   "cell_type": "code",
   "execution_count": 24,
   "metadata": {},
   "outputs": [
    {
     "name": "stdout",
     "output_type": "stream",
     "text": [
      "None\n"
     ]
    }
   ],
   "source": [
    "print(service.get_logs())"
   ]
  },
  {
   "cell_type": "code",
   "execution_count": null,
   "metadata": {},
   "outputs": [],
   "source": [
    "from azureml.core.authentication import InteractiveLoginAuthentication\n",
    "\n",
    "interactive_auth = InteractiveLoginAuthentication()\n",
    "auth_header = interactive_auth.get_authentication_header()"
   ]
  },
  {
   "cell_type": "code",
   "execution_count": null,
   "metadata": {},
   "outputs": [],
   "source": [
    "# Prepare data for request\n",
    "_ , test = train_xgb.load_data_clean()\n",
    "test = train_xgb.label_encode(test)\n",
    "data = {'data': test.head().to_dict(orient='list')}\n",
    "\n",
    "# Replace the next cell with the code from 'Consume' tab of the endpoint\n",
    "# and delete 'data = {}' assignment as data is defined in this cell!  "
   ]
  },
  {
   "cell_type": "markdown",
   "metadata": {
    "collapsed": true,
    "gather": {
     "logged": 1598431657736
    },
    "jupyter": {
     "outputs_hidden": false,
     "source_hidden": false
    },
    "nteract": {
     "transient": {
      "deleting": false
     }
    }
   },
   "source": [
    "TODO: In the cell below, send a request to the web service you deployed to test it."
   ]
  },
  {
   "cell_type": "code",
   "execution_count": null,
   "metadata": {
    "gather": {
     "logged": 1598432707604
    },
    "jupyter": {
     "outputs_hidden": false,
     "source_hidden": false
    },
    "nteract": {
     "transient": {
      "deleting": false
     }
    }
   },
   "outputs": [],
   "source": [
    "import urllib.request\n",
    "import json\n",
    "import os\n",
    "import ssl\n",
    "\n",
    "def allowSelfSignedHttps(allowed):\n",
    "    # bypass the server certificate verification on client side\n",
    "    if allowed and not os.environ.get('PYTHONHTTPSVERIFY', '') and getattr(ssl, '_create_unverified_context', None):\n",
    "        ssl._create_default_https_context = ssl._create_unverified_context\n",
    "\n",
    "allowSelfSignedHttps(True) # this line is needed if you use self-signed certificate in your scoring service.\n",
    "\n",
    "# Request data goes here\n",
    "#\n",
    "\n",
    "body = str.encode(json.dumps(data))\n",
    "\n",
    "url = 'http://56120259-5690-491e-a8d6-bc13c75b82de.southcentralus.azurecontainer.io/score'\n",
    "api_key = '' # Replace this with the API key for the web service\n",
    "headers = {'Content-Type':'application/json', 'Authorization':('Bearer '+ api_key)}\n",
    "\n",
    "req = urllib.request.Request(url, body, headers)\n",
    "\n",
    "try:\n",
    "    response = urllib.request.urlopen(req)\n",
    "\n",
    "    result = response.read()\n",
    "    print(result)\n",
    "except urllib.error.HTTPError as error:\n",
    "    print(\"The request failed with status code: \" + str(error.code))\n",
    "\n",
    "    # Print the headers - they include the requert ID and the timestamp, which are useful for debugging the failure\n",
    "    print(error.info())\n",
    "    print(json.loads(error.read().decode(\"utf8\", 'ignore')))"
   ]
  },
  {
   "cell_type": "markdown",
   "metadata": {
    "collapsed": true,
    "gather": {
     "logged": 1598432765711
    },
    "jupyter": {
     "outputs_hidden": false,
     "source_hidden": false
    },
    "nteract": {
     "transient": {
      "deleting": false
     }
    }
   },
   "source": [
    "TODO: In the cell below, print the logs of the web service and delete the service"
   ]
  },
  {
   "cell_type": "code",
   "execution_count": null,
   "metadata": {},
   "outputs": [],
   "source": [
    "service.delete()\n",
    "# Delete() is used to deprovision and delete the AmlCompute target. \n",
    "cpu_cluster.delete()"
   ]
  }
 ],
 "metadata": {
  "kernel_info": {
   "name": "python3"
  },
  "kernelspec": {
   "display_name": "Python 3",
   "language": "python",
   "name": "python3"
  },
  "language_info": {
   "codemirror_mode": {
    "name": "ipython",
    "version": 3
   },
   "file_extension": ".py",
   "mimetype": "text/x-python",
   "name": "python",
   "nbconvert_exporter": "python",
   "pygments_lexer": "ipython3",
   "version": "3.6.9"
  },
  "microsoft": {
   "host": {
    "AzureML": {
     "notebookHasBeenCompleted": true
    }
   }
  },
  "nteract": {
   "version": "nteract-front-end@1.0.0"
  }
 },
 "nbformat": 4,
 "nbformat_minor": 2
}
