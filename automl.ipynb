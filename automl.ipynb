{
  "cells": [
    {
      "cell_type": "markdown",
      "source": [
        "# Automated ML\n",
        "\n",
        "TODO: Import Dependencies. In the cell below, import all the dependencies that you will need to complete the project."
      ],
      "metadata": {}
    },
    {
      "cell_type": "code",
      "source": [
        "import train_xgb # The module for loading external data\n",
        "import os\n",
        "import pandas as pd\n",
        "import json\n",
        "import ast\n",
        "import pickle\n",
        "from azureml.core.compute import ComputeTarget, AmlCompute\n",
        "from azureml.core.compute_target import ComputeTargetException\n",
        "from azureml.core import Workspace, Dataset, Experiment, Model\n",
        "from azureml.data.dataset_factory import TabularDatasetFactory\n",
        "from azureml.train.automl import AutoMLConfig\n",
        "from azureml.widgets import RunDetails"
      ],
      "outputs": [],
      "execution_count": 1,
      "metadata": {
        "gather": {
          "logged": 1629034408283
        },
        "jupyter": {
          "outputs_hidden": false,
          "source_hidden": false
        },
        "nteract": {
          "transient": {
            "deleting": false
          }
        }
      }
    },
    {
      "cell_type": "code",
      "source": [
        "ws = Workspace.from_config()\n",
        "print(ws.name, ws.resource_group, ws.location, ws.subscription_id, sep='\\n')"
      ],
      "outputs": [
        {
          "output_type": "stream",
          "name": "stdout",
          "text": [
            "quick-starts-ws-154592\n",
            "aml-quickstarts-154592\n",
            "southcentralus\n",
            "d7f39349-a66b-446e-aba6-0053c2cf1c11\n"
          ]
        }
      ],
      "execution_count": 2,
      "metadata": {
        "gather": {
          "logged": 1629034413024
        }
      }
    },
    {
      "cell_type": "code",
      "source": [
        "# Create compute cluster\n",
        "# Choose a name for your CPU cluster\n",
        "cpu_cluster_name = \"cpu-cluster\"\n",
        "\n",
        "# Verify that cluster does not exist already\n",
        "try:\n",
        "    cpu_cluster = ComputeTarget(workspace=ws, name=cpu_cluster_name)\n",
        "    print('Found existing cluster, use it.')\n",
        "except ComputeTargetException:\n",
        "    compute_config = AmlCompute.provisioning_configuration(vm_size='STANDARD_D2_V2',\n",
        "                                                           max_nodes=4)\n",
        "    cpu_cluster = ComputeTarget.create(ws, cpu_cluster_name, compute_config)\n",
        "\n",
        "cpu_cluster.wait_for_completion(show_output=True)"
      ],
      "outputs": [
        {
          "output_type": "stream",
          "name": "stdout",
          "text": [
            "Found existing cluster, use it.\n",
            "Succeeded\n",
            "AmlCompute wait for completion finished\n",
            "\n",
            "Minimum number of nodes requested have been provisioned\n"
          ]
        }
      ],
      "execution_count": 3,
      "metadata": {
        "gather": {
          "logged": 1629034415913
        }
      }
    },
    {
      "cell_type": "markdown",
      "source": [
        "## Dataset\n",
        "\n",
        "### Overview\n",
        "TODO: In this markdown cell, give an overview of the dataset you are using. Also mention the task you will be performing.\n",
        "\n",
        "This project processes a data set describing the sale of individual residential property in Ames, Iowa from 2006 to 2010. The data \n",
        "set contains 2930 observations and a large number of explanatory variables (23 nominal, 23 ordinal, 14 discrete, and 20 continuous) \n",
        "involved in assessing home values. The **Ames Housing dataset** was compiled by Dean De Cock for use in data science education.\n",
        "\n",
        "The project's goal is to train and deploy a machine learning model for **prediction of the sales price based on parameters of a house**.\n",
        "\n",
        "TODO: Get data. In the cell below, write code to access the data you will be using in this project. Remember that the dataset needs to be external."
      ],
      "metadata": {}
    },
    {
      "cell_type": "code",
      "source": [
        "# Try to load the dataset from the workspace. Otherwise, load it from Kaggle\n",
        "found = False\n",
        "ds_key = 'Ames-housing-dataset'\n",
        "ds_desc = 'Ames Housing training data.'\n",
        "\n",
        "if ds_key in ws.datasets.keys():\n",
        "    found = True\n",
        "    dataset = ws.datasets[ds_key]\n",
        "    print(f'Found registered {ds_key}, use it.')\n",
        "    \n",
        "if not found:\n",
        "    train, test = train_xgb.load_data_clean(source='kaggle')\n",
        "    print(f\"train.shape = {train.shape}, test.shape = {test.shape}\")\n",
        "    # Register the train dataset\n",
        "    blob = ws.get_default_datastore()\n",
        "    dataset = TabularDatasetFactory.register_pandas_dataframe(train, blob, name=ds_key, description=ds_desc)"
      ],
      "outputs": [
        {
          "output_type": "stream",
          "name": "stdout",
          "text": [
            "train.shape = (1460, 80), test.shape = (1459, 79)\n",
            "Validating arguments.\n",
            "Arguments validated.\n",
            "Successfully obtained datastore reference and path.\n",
            "Uploading file to managed-dataset/e0b707e2-44d8-4f74-9372-391ee944338e/\n",
            "Successfully uploaded file to datastore.\n",
            "Creating and registering a new dataset.\n",
            "Successfully created and registered a new dataset.\n"
          ]
        },
        {
          "output_type": "stream",
          "name": "stderr",
          "text": [
            "Method register_pandas_dataframe: This is an experimental method, and may change at any time. Please see https://aka.ms/azuremlexperimental for more information.\n"
          ]
        }
      ],
      "execution_count": 4,
      "metadata": {
        "gather": {
          "logged": 1629034442531
        }
      }
    },
    {
      "cell_type": "code",
      "source": [
        "ds_key in ws.datasets.keys()"
      ],
      "outputs": [
        {
          "output_type": "execute_result",
          "execution_count": 5,
          "data": {
            "text/plain": "True"
          },
          "metadata": {}
        }
      ],
      "execution_count": 5,
      "metadata": {
        "gather": {
          "logged": 1629034469225
        }
      }
    },
    {
      "cell_type": "markdown",
      "source": [
        "## AutoML Configuration\n",
        "\n",
        "TODO: Explain why you chose the automl settings and cofiguration you used below."
      ],
      "metadata": {}
    },
    {
      "cell_type": "code",
      "source": [
        "# Choose a name for experiment\n",
        "experiment_name = 'Ames-housing-AutoML'\n",
        "\n",
        "experiment=Experiment(ws, experiment_name)"
      ],
      "outputs": [],
      "execution_count": 6,
      "metadata": {
        "gather": {
          "logged": 1629034475519
        }
      }
    },
    {
      "cell_type": "code",
      "source": [
        "# Set parameters for AutoMLConfig\n",
        "automl_settings = {\n",
        "    'experiment_timeout_minutes' : 120,\n",
        "    'n_cross_validations' : 3,\n",
        "    'enable_early_stopping' : True,\n",
        "    'iteration_timeout_minutes' : 5,\n",
        "    'max_concurrent_iterations' : 4,\n",
        "    'max_cores_per_iteration' : -1,\n",
        "    'enable_onnx_compatible_models' : True\n",
        "}\n",
        "\n",
        "automl_config = AutoMLConfig(\n",
        "    task='regression',\n",
        "    primary_metric='normalized_root_mean_squared_error',\n",
        "    compute_target=cpu_cluster,\n",
        "    training_data=dataset,\n",
        "    label_column_name='SalePrice',\n",
        "    **automl_settings)"
      ],
      "outputs": [],
      "execution_count": 7,
      "metadata": {
        "gather": {
          "logged": 1629034483671
        },
        "jupyter": {
          "outputs_hidden": false,
          "source_hidden": false
        },
        "nteract": {
          "transient": {
            "deleting": false
          }
        }
      }
    },
    {
      "cell_type": "markdown",
      "source": [
        "## Run Details\n",
        "\n",
        "OPTIONAL: Write about the different models trained and their performance. Why do you think some models did better than others?\n",
        "\n",
        "TODO: In the cell below, use the `RunDetails` widget to show the different experiments."
      ],
      "metadata": {}
    },
    {
      "cell_type": "code",
      "source": [
        "# TODO: Submit your experiment\n",
        "aml_run = experiment.submit(automl_config)\n",
        "RunDetails(aml_run).show()\n",
        "aml_run.wait_for_completion(show_output=True)"
      ],
      "outputs": [
        {
          "output_type": "stream",
          "name": "stdout",
          "text": [
            "Submitting remote run.\n"
          ]
        },
        {
          "output_type": "display_data",
          "data": {
            "text/plain": "<IPython.core.display.HTML object>",
            "text/html": "<table style=\"width:100%\"><tr><th>Experiment</th><th>Id</th><th>Type</th><th>Status</th><th>Details Page</th><th>Docs Page</th></tr><tr><td>Ames-housing-AutoML</td><td>AutoML_f37e0eb4-3083-4265-b7b9-8d98a628d82d</td><td>automl</td><td>NotStarted</td><td><a href=\"https://ml.azure.com/runs/AutoML_f37e0eb4-3083-4265-b7b9-8d98a628d82d?wsid=/subscriptions/d7f39349-a66b-446e-aba6-0053c2cf1c11/resourcegroups/aml-quickstarts-154592/workspaces/quick-starts-ws-154592&amp;tid=660b3398-b80e-49d2-bc5b-ac1dc93b5254\" target=\"_blank\" rel=\"noopener\">Link to Azure Machine Learning studio</a></td><td><a href=\"https://docs.microsoft.com/en-us/python/api/overview/azure/ml/intro?view=azure-ml-py\" target=\"_blank\" rel=\"noopener\">Link to Documentation</a></td></tr></table>"
          },
          "metadata": {}
        },
        {
          "output_type": "display_data",
          "data": {
            "text/plain": "_AutoMLWidget(widget_settings={'childWidgetDisplay': 'popup', 'send_telemetry': False, 'log_level': 'INFO', 's…",
            "application/vnd.jupyter.widget-view+json": {
              "version_major": 2,
              "version_minor": 0,
              "model_id": "ac42119e4e514e7ebc08ffb0b73650ee"
            }
          },
          "metadata": {}
        },
        {
          "output_type": "display_data",
          "data": {
            "application/aml.mini.widget.v1": "{\"status\": \"Completed\", \"workbench_run_details_uri\": \"https://ml.azure.com/runs/AutoML_f37e0eb4-3083-4265-b7b9-8d98a628d82d?wsid=/subscriptions/d7f39349-a66b-446e-aba6-0053c2cf1c11/resourcegroups/aml-quickstarts-154592/workspaces/quick-starts-ws-154592&tid=660b3398-b80e-49d2-bc5b-ac1dc93b5254\", \"run_id\": \"AutoML_f37e0eb4-3083-4265-b7b9-8d98a628d82d\", \"run_properties\": {\"run_id\": \"AutoML_f37e0eb4-3083-4265-b7b9-8d98a628d82d\", \"created_utc\": \"2021-08-15T13:35:00.538604Z\", \"properties\": {\"num_iterations\": \"1000\", \"training_type\": \"TrainFull\", \"acquisition_function\": \"EI\", \"primary_metric\": \"normalized_root_mean_squared_error\", \"train_split\": \"0\", \"acquisition_parameter\": \"0\", \"num_cross_validation\": \"3\", \"target\": \"cpu-cluster\", \"AMLSettingsJsonString\": \"{\\\"path\\\":null,\\\"name\\\":\\\"Ames-housing-AutoML\\\",\\\"subscription_id\\\":\\\"d7f39349-a66b-446e-aba6-0053c2cf1c11\\\",\\\"resource_group\\\":\\\"aml-quickstarts-154592\\\",\\\"workspace_name\\\":\\\"quick-starts-ws-154592\\\",\\\"region\\\":\\\"southcentralus\\\",\\\"compute_target\\\":\\\"cpu-cluster\\\",\\\"spark_service\\\":null,\\\"azure_service\\\":\\\"remote\\\",\\\"many_models\\\":false,\\\"pipeline_fetch_max_batch_size\\\":1,\\\"enable_batch_run\\\":false,\\\"enable_run_restructure\\\":false,\\\"start_auxiliary_runs_before_parent_complete\\\":false,\\\"enable_code_generation\\\":false,\\\"iterations\\\":1000,\\\"primary_metric\\\":\\\"normalized_root_mean_squared_error\\\",\\\"task_type\\\":\\\"regression\\\",\\\"data_script\\\":null,\\\"test_size\\\":0.0,\\\"validation_size\\\":0.0,\\\"n_cross_validations\\\":3,\\\"y_min\\\":null,\\\"y_max\\\":null,\\\"num_classes\\\":null,\\\"featurization\\\":\\\"auto\\\",\\\"_ignore_package_version_incompatibilities\\\":false,\\\"is_timeseries\\\":false,\\\"max_cores_per_iteration\\\":-1,\\\"max_concurrent_iterations\\\":4,\\\"iteration_timeout_minutes\\\":5,\\\"mem_in_mb\\\":null,\\\"enforce_time_on_windows\\\":false,\\\"experiment_timeout_minutes\\\":120,\\\"experiment_exit_score\\\":null,\\\"whitelist_models\\\":null,\\\"blacklist_algos\\\":[\\\"TensorFlowDNN\\\",\\\"TensorFlowLinearRegressor\\\"],\\\"supported_models\\\":[\\\"FastLinearRegressor\\\",\\\"TensorFlowDNN\\\",\\\"LightGBM\\\",\\\"GradientBoosting\\\",\\\"KNN\\\",\\\"XGBoostRegressor\\\",\\\"LassoLars\\\",\\\"ExtremeRandomTrees\\\",\\\"SGD\\\",\\\"OnlineGradientDescentRegressor\\\",\\\"DecisionTree\\\",\\\"RandomForest\\\",\\\"TensorFlowLinearRegressor\\\",\\\"ElasticNet\\\"],\\\"private_models\\\":[],\\\"auto_blacklist\\\":true,\\\"blacklist_samples_reached\\\":false,\\\"exclude_nan_labels\\\":true,\\\"verbosity\\\":20,\\\"_debug_log\\\":\\\"azureml_automl.log\\\",\\\"show_warnings\\\":false,\\\"model_explainability\\\":true,\\\"service_url\\\":null,\\\"sdk_url\\\":null,\\\"sdk_packages\\\":null,\\\"enable_onnx_compatible_models\\\":true,\\\"enable_split_onnx_featurizer_estimator_models\\\":false,\\\"vm_type\\\":\\\"STANDARD_D2_V2\\\",\\\"telemetry_verbosity\\\":20,\\\"send_telemetry\\\":true,\\\"enable_dnn\\\":false,\\\"scenario\\\":\\\"SDK-1.13.0\\\",\\\"environment_label\\\":null,\\\"save_mlflow\\\":false,\\\"force_text_dnn\\\":false,\\\"enable_feature_sweeping\\\":false,\\\"enable_early_stopping\\\":true,\\\"early_stopping_n_iters\\\":10,\\\"metrics\\\":null,\\\"enable_metric_confidence\\\":false,\\\"enable_ensembling\\\":true,\\\"enable_stack_ensembling\\\":false,\\\"ensemble_iterations\\\":15,\\\"enable_tf\\\":false,\\\"enable_subsampling\\\":null,\\\"subsample_seed\\\":null,\\\"enable_nimbusml\\\":false,\\\"enable_streaming\\\":false,\\\"force_streaming\\\":false,\\\"track_child_runs\\\":true,\\\"allowed_private_models\\\":[],\\\"label_column_name\\\":\\\"SalePrice\\\",\\\"weight_column_name\\\":null,\\\"cv_split_column_names\\\":null,\\\"enable_local_managed\\\":false,\\\"_local_managed_run_id\\\":null,\\\"cost_mode\\\":1,\\\"lag_length\\\":0,\\\"metric_operation\\\":\\\"minimize\\\",\\\"preprocess\\\":true}\", \"DataPrepJsonString\": \"{\\\\\\\"training_data\\\\\\\": {\\\\\\\"datasetId\\\\\\\": \\\\\\\"8af904e8-3523-402d-b570-868f8accd1e9\\\\\\\"}, \\\\\\\"datasets\\\\\\\": 0}\", \"EnableSubsampling\": null, \"runTemplate\": \"AutoML\", \"azureml.runsource\": \"automl\", \"display_task_type\": \"regression\", \"dependencies_versions\": \"{\\\"azureml-widgets\\\": \\\"1.32.0\\\", \\\"azureml-train\\\": \\\"1.32.0\\\", \\\"azureml-train-restclients-hyperdrive\\\": \\\"1.32.0\\\", \\\"azureml-train-core\\\": \\\"1.32.0\\\", \\\"azureml-train-automl\\\": \\\"1.32.0\\\", \\\"azureml-train-automl-runtime\\\": \\\"1.32.0\\\", \\\"azureml-train-automl-client\\\": \\\"1.32.0\\\", \\\"azureml-tensorboard\\\": \\\"1.32.0\\\", \\\"azureml-telemetry\\\": \\\"1.32.0\\\", \\\"azureml-sdk\\\": \\\"1.32.0\\\", \\\"azureml-samples\\\": \\\"0+unknown\\\", \\\"azureml-responsibleai\\\": \\\"1.32.0\\\", \\\"azureml-pipeline\\\": \\\"1.32.0\\\", \\\"azureml-pipeline-steps\\\": \\\"1.32.0\\\", \\\"azureml-pipeline-core\\\": \\\"1.32.0\\\", \\\"azureml-opendatasets\\\": \\\"1.32.0\\\", \\\"azureml-model-management-sdk\\\": \\\"1.0.1b6.post1\\\", \\\"azureml-mlflow\\\": \\\"1.32.0\\\", \\\"azureml-interpret\\\": \\\"1.32.0\\\", \\\"azureml-explain-model\\\": \\\"1.32.0\\\", \\\"azureml-defaults\\\": \\\"1.32.0\\\", \\\"azureml-dataset-runtime\\\": \\\"1.32.0\\\", \\\"azureml-dataprep\\\": \\\"2.18.0\\\", \\\"azureml-dataprep-rslex\\\": \\\"1.16.1\\\", \\\"azureml-dataprep-native\\\": \\\"36.0.0\\\", \\\"azureml-datadrift\\\": \\\"1.32.0\\\", \\\"azureml-core\\\": \\\"1.32.0\\\", \\\"azureml-contrib-services\\\": \\\"1.32.0\\\", \\\"azureml-contrib-server\\\": \\\"1.32.0\\\", \\\"azureml-contrib-reinforcementlearning\\\": \\\"1.32.0\\\", \\\"azureml-contrib-pipeline-steps\\\": \\\"1.32.0\\\", \\\"azureml-contrib-notebook\\\": \\\"1.32.0\\\", \\\"azureml-contrib-fairness\\\": \\\"1.32.0\\\", \\\"azureml-contrib-dataset\\\": \\\"1.32.0\\\", \\\"azureml-cli-common\\\": \\\"1.32.0\\\", \\\"azureml-automl-runtime\\\": \\\"1.32.0\\\", \\\"azureml-automl-dnn-nlp\\\": \\\"1.32.0\\\", \\\"azureml-automl-core\\\": \\\"1.32.0\\\", \\\"azureml-accel-models\\\": \\\"1.32.0\\\"}\", \"_aml_system_scenario_identification\": \"Remote.Parent\", \"ClientType\": \"SDK\", \"environment_cpu_name\": \"AzureML-AutoML\", \"environment_cpu_label\": \"prod\", \"environment_gpu_name\": \"AzureML-AutoML-GPU\", \"environment_gpu_label\": \"prod\", \"root_attribution\": \"automl\", \"attribution\": \"AutoML\", \"Orchestrator\": \"AutoML\", \"CancelUri\": \"https://southcentralus.api.azureml.ms/jasmine/v1.0/subscriptions/d7f39349-a66b-446e-aba6-0053c2cf1c11/resourceGroups/aml-quickstarts-154592/providers/Microsoft.MachineLearningServices/workspaces/quick-starts-ws-154592/experimentids/7a49c19c-78a8-4a69-a0c3-3849bbc25e36/cancel/AutoML_f37e0eb4-3083-4265-b7b9-8d98a628d82d\", \"ClientSdkVersion\": \"1.33.0\", \"snapshotId\": \"00000000-0000-0000-0000-000000000000\", \"SetupRunId\": \"AutoML_f37e0eb4-3083-4265-b7b9-8d98a628d82d_setup\", \"SetupRunContainerId\": \"dcid.AutoML_f37e0eb4-3083-4265-b7b9-8d98a628d82d_setup\", \"FeaturizationRunJsonPath\": \"featurizer_container.json\", \"FeaturizationRunId\": \"AutoML_f37e0eb4-3083-4265-b7b9-8d98a628d82d_featurize\", \"ProblemInfoJsonString\": \"{\\\"dataset_num_categorical\\\": 0, \\\"is_sparse\\\": true, \\\"subsampling\\\": false, \\\"has_extra_col\\\": true, \\\"dataset_classes\\\": 663, \\\"dataset_features\\\": 453, \\\"dataset_samples\\\": 1460, \\\"single_frequency_class_detected\\\": false}\", \"ModelExplainRunId\": \"AutoML_f37e0eb4-3083-4265-b7b9-8d98a628d82d_ModelExplain\"}, \"tags\": {\"model_explain_run\": \"best_run\", \"_aml_system_azureml.automlComponent\": \"AutoML\", \"pipeline_id\": \"\", \"score\": \"\", \"predicted_cost\": \"\", \"fit_time\": \"\", \"training_percent\": \"\", \"iteration\": \"\", \"run_preprocessor\": \"\", \"run_algorithm\": \"\", \"dynamic_whitelisting_iterations\": \"<25>;<30>;<35>;\", \"automl_best_child_run_id\": \"AutoML_f37e0eb4-3083-4265-b7b9-8d98a628d82d_36\", \"model_explain_best_run_child_id\": \"AutoML_f37e0eb4-3083-4265-b7b9-8d98a628d82d_36\"}, \"end_time_utc\": \"2021-08-15T14:00:29.151727Z\", \"status\": \"Completed\", \"log_files\": {}, \"log_groups\": [], \"run_duration\": \"0:25:28\", \"run_number\": \"1\", \"run_queued_details\": {\"status\": \"Completed\", \"details\": null}}, \"child_runs\": [{\"run_id\": \"AutoML_f37e0eb4-3083-4265-b7b9-8d98a628d82d_0\", \"run_number\": 5, \"metric\": null, \"status\": \"Completed\", \"run_type\": \"azureml.scriptrun\", \"training_percent\": \"100\", \"start_time\": \"2021-08-15T13:44:14.919019Z\", \"end_time\": \"2021-08-15T13:45:08.551269Z\", \"created_time\": \"2021-08-15T13:42:51.418031Z\", \"created_time_dt\": \"2021-08-15T13:42:51.418031Z\", \"duration\": \"0:02:17\", \"iteration\": \"0\", \"goal\": \"normalized_root_mean_squared_error_min\", \"run_name\": \"MaxAbsScaler, LightGBM\", \"run_properties\": \"copy=True\", \"primary_metric\": 0.04058975, \"best_metric\": 0.04058975}, {\"run_id\": \"AutoML_f37e0eb4-3083-4265-b7b9-8d98a628d82d_1\", \"run_number\": 6, \"metric\": null, \"status\": \"Completed\", \"run_type\": \"azureml.scriptrun\", \"training_percent\": \"100\", \"start_time\": \"2021-08-15T13:45:23.648156Z\", \"end_time\": \"2021-08-15T13:50:58.609113Z\", \"created_time\": \"2021-08-15T13:42:51.444714Z\", \"created_time_dt\": \"2021-08-15T13:42:51.444714Z\", \"duration\": \"0:08:07\", \"iteration\": \"1\", \"goal\": \"normalized_root_mean_squared_error_min\", \"run_name\": \"MaxAbsScaler, XGBoostRegressor\", \"run_properties\": \"copy=True\", \"primary_metric\": 0.03830382, \"best_metric\": 0.03830382}, {\"run_id\": \"AutoML_f37e0eb4-3083-4265-b7b9-8d98a628d82d_3\", \"run_number\": 7, \"metric\": null, \"status\": \"Completed\", \"run_type\": \"azureml.scriptrun\", \"training_percent\": \"100\", \"start_time\": \"2021-08-15T13:43:05.346389Z\", \"end_time\": \"2021-08-15T13:43:59.386922Z\", \"created_time\": \"2021-08-15T13:42:51.448341Z\", \"created_time_dt\": \"2021-08-15T13:42:51.448341Z\", \"duration\": \"0:01:07\", \"iteration\": \"3\", \"goal\": \"normalized_root_mean_squared_error_min\", \"run_name\": \"StandardScalerWrapper, XGBoostRegressor\", \"run_properties\": \"\\n    copy=True,\\n    with_mean=False,\\n    with_std=False\\n\", \"primary_metric\": 0.03830305, \"best_metric\": 0.03830305}, {\"run_id\": \"AutoML_f37e0eb4-3083-4265-b7b9-8d98a628d82d_2\", \"run_number\": 8, \"metric\": null, \"status\": \"Completed\", \"run_type\": \"azureml.scriptrun\", \"training_percent\": \"100\", \"start_time\": \"2021-08-15T13:45:24.551475Z\", \"end_time\": \"2021-08-15T13:46:19.355232Z\", \"created_time\": \"2021-08-15T13:42:51.446004Z\", \"created_time_dt\": \"2021-08-15T13:42:51.446004Z\", \"duration\": \"0:03:27\", \"iteration\": \"2\", \"goal\": \"normalized_root_mean_squared_error_min\", \"run_name\": \"StandardScalerWrapper, LightGBM\", \"run_properties\": \"\\n    copy=True,\\n    with_mean=False,\\n    with_std=False\\n\", \"primary_metric\": 0.04058975, \"best_metric\": 0.03830382}, {\"run_id\": \"AutoML_f37e0eb4-3083-4265-b7b9-8d98a628d82d_4\", \"run_number\": 9, \"metric\": null, \"status\": \"Completed\", \"run_type\": \"azureml.scriptrun\", \"training_percent\": \"100\", \"start_time\": \"2021-08-15T13:45:27.020456Z\", \"end_time\": \"2021-08-15T13:51:01.287008Z\", \"created_time\": \"2021-08-15T13:44:02.414212Z\", \"created_time_dt\": \"2021-08-15T13:44:02.414212Z\", \"duration\": \"0:06:58\", \"iteration\": \"4\", \"goal\": \"normalized_root_mean_squared_error_min\", \"run_name\": \"MaxAbsScaler, ElasticNet\", \"run_properties\": \"copy=True\", \"primary_metric\": 0.04857716, \"best_metric\": 0.03830305}, {\"run_id\": \"AutoML_f37e0eb4-3083-4265-b7b9-8d98a628d82d_5\", \"run_number\": 10, \"metric\": null, \"status\": \"Completed\", \"run_type\": \"azureml.scriptrun\", \"training_percent\": \"100\", \"start_time\": \"2021-08-15T13:45:35.511382Z\", \"end_time\": \"2021-08-15T13:51:01.231905Z\", \"created_time\": \"2021-08-15T13:45:10.019649Z\", \"created_time_dt\": \"2021-08-15T13:45:10.019649Z\", \"duration\": \"0:05:51\", \"iteration\": \"5\", \"goal\": \"normalized_root_mean_squared_error_min\", \"run_name\": \"StandardScalerWrapper, ElasticNet\", \"run_properties\": \"\\n    copy=True,\\n    with_mean=False,\\n    with_std=True\\n\", \"primary_metric\": 0.05187087, \"best_metric\": 0.03830305}, {\"run_id\": \"AutoML_f37e0eb4-3083-4265-b7b9-8d98a628d82d_6\", \"run_number\": 11, \"metric\": null, \"status\": \"Completed\", \"run_type\": \"azureml.scriptrun\", \"training_percent\": \"100\", \"start_time\": \"2021-08-15T13:46:34.101225Z\", \"end_time\": \"2021-08-15T13:47:36.616255Z\", \"created_time\": \"2021-08-15T13:46:22.186514Z\", \"created_time_dt\": \"2021-08-15T13:46:22.186514Z\", \"duration\": \"0:01:14\", \"iteration\": \"6\", \"goal\": \"normalized_root_mean_squared_error_min\", \"run_name\": \"MaxAbsScaler, ElasticNet\", \"run_properties\": \"copy=True\", \"primary_metric\": 0.04965857, \"best_metric\": 0.03830305}, {\"run_id\": \"AutoML_f37e0eb4-3083-4265-b7b9-8d98a628d82d_7\", \"run_number\": 12, \"metric\": null, \"status\": \"Completed\", \"run_type\": \"azureml.scriptrun\", \"training_percent\": \"100\", \"start_time\": \"2021-08-15T13:47:52.972541Z\", \"end_time\": \"2021-08-15T13:48:53.075154Z\", \"created_time\": \"2021-08-15T13:47:39.256467Z\", \"created_time_dt\": \"2021-08-15T13:47:39.256467Z\", \"duration\": \"0:01:13\", \"iteration\": \"7\", \"goal\": \"normalized_root_mean_squared_error_min\", \"run_name\": \"MaxAbsScaler, ElasticNet\", \"run_properties\": \"copy=True\", \"primary_metric\": 0.05206429, \"best_metric\": 0.03830305}, {\"run_id\": \"AutoML_f37e0eb4-3083-4265-b7b9-8d98a628d82d_8\", \"run_number\": 13, \"metric\": null, \"status\": \"Completed\", \"run_type\": \"azureml.scriptrun\", \"training_percent\": \"100\", \"start_time\": \"2021-08-15T13:49:10.419629Z\", \"end_time\": \"2021-08-15T13:50:05.566776Z\", \"created_time\": \"2021-08-15T13:48:56.275425Z\", \"created_time_dt\": \"2021-08-15T13:48:56.275425Z\", \"duration\": \"0:01:09\", \"iteration\": \"8\", \"goal\": \"normalized_root_mean_squared_error_min\", \"run_name\": \"MaxAbsScaler, ExtremeRandomTrees\", \"run_properties\": \"copy=True\", \"primary_metric\": 0.04741381, \"best_metric\": 0.03830305}, {\"run_id\": \"AutoML_f37e0eb4-3083-4265-b7b9-8d98a628d82d_9\", \"run_number\": 14, \"metric\": null, \"status\": \"Completed\", \"run_type\": \"azureml.scriptrun\", \"training_percent\": \"100\", \"start_time\": \"2021-08-15T13:50:21.613756Z\", \"end_time\": \"2021-08-15T13:51:22.111519Z\", \"created_time\": \"2021-08-15T13:50:08.613479Z\", \"created_time_dt\": \"2021-08-15T13:50:08.613479Z\", \"duration\": \"0:01:13\", \"iteration\": \"9\", \"goal\": \"normalized_root_mean_squared_error_min\", \"run_name\": \"StandardScalerWrapper, ElasticNet\", \"run_properties\": \"\\n    copy=True,\\n    with_mean=False,\\n    with_std=True\\n\", \"primary_metric\": 0.04973293, \"best_metric\": 0.03830305}, {\"run_id\": \"AutoML_f37e0eb4-3083-4265-b7b9-8d98a628d82d_10\", \"run_number\": 15, \"metric\": null, \"status\": \"Completed\", \"run_type\": \"azureml.scriptrun\", \"training_percent\": \"100\", \"start_time\": \"2021-08-15T13:51:16.261812Z\", \"end_time\": \"2021-08-15T13:52:12.910839Z\", \"created_time\": \"2021-08-15T13:51:01.615598Z\", \"created_time_dt\": \"2021-08-15T13:51:01.615598Z\", \"duration\": \"0:01:11\", \"iteration\": \"10\", \"goal\": \"normalized_root_mean_squared_error_min\", \"run_name\": \"StandardScalerWrapper, ElasticNet\", \"run_properties\": \"\\n    copy=True,\\n    with_mean=False,\\n    with_std=True\\n\", \"primary_metric\": 0.05174378, \"best_metric\": 0.03830305}, {\"run_id\": \"AutoML_f37e0eb4-3083-4265-b7b9-8d98a628d82d_11\", \"run_number\": 16, \"metric\": null, \"status\": \"Completed\", \"run_type\": \"azureml.scriptrun\", \"training_percent\": \"100\", \"start_time\": \"2021-08-15T13:51:15.799492Z\", \"end_time\": \"2021-08-15T13:52:13.079511Z\", \"created_time\": \"2021-08-15T13:51:06.089514Z\", \"created_time_dt\": \"2021-08-15T13:51:06.089514Z\", \"duration\": \"0:01:06\", \"iteration\": \"11\", \"goal\": \"normalized_root_mean_squared_error_min\", \"run_name\": \"StandardScalerWrapper, ElasticNet\", \"run_properties\": \"\\n    copy=True,\\n    with_mean=False,\\n    with_std=False\\n\", \"primary_metric\": 0.05209697, \"best_metric\": 0.03830305}, {\"run_id\": \"AutoML_f37e0eb4-3083-4265-b7b9-8d98a628d82d_12\", \"run_number\": 17, \"metric\": null, \"status\": \"Completed\", \"run_type\": \"azureml.scriptrun\", \"training_percent\": \"100\", \"start_time\": \"2021-08-15T13:51:18.681771Z\", \"end_time\": \"2021-08-15T13:52:11.177764Z\", \"created_time\": \"2021-08-15T13:51:06.114024Z\", \"created_time_dt\": \"2021-08-15T13:51:06.114024Z\", \"duration\": \"0:01:05\", \"iteration\": \"12\", \"goal\": \"normalized_root_mean_squared_error_min\", \"run_name\": \"MaxAbsScaler, RandomForest\", \"run_properties\": \"copy=True\", \"primary_metric\": 0.06482175, \"best_metric\": 0.03830305}, {\"run_id\": \"AutoML_f37e0eb4-3083-4265-b7b9-8d98a628d82d_13\", \"run_number\": 18, \"metric\": null, \"status\": \"Completed\", \"run_type\": \"azureml.scriptrun\", \"training_percent\": \"100\", \"start_time\": \"2021-08-15T13:51:36.771316Z\", \"end_time\": \"2021-08-15T13:52:34.849452Z\", \"created_time\": \"2021-08-15T13:51:25.2693Z\", \"created_time_dt\": \"2021-08-15T13:51:25.2693Z\", \"duration\": \"0:01:09\", \"iteration\": \"13\", \"goal\": \"normalized_root_mean_squared_error_min\", \"run_name\": \"StandardScalerWrapper, ElasticNet\", \"run_properties\": \"\\n    copy=True,\\n    with_mean=False,\\n    with_std=False\\n\", \"primary_metric\": 0.04753613, \"best_metric\": 0.03830305}, {\"run_id\": \"AutoML_f37e0eb4-3083-4265-b7b9-8d98a628d82d_14\", \"run_number\": 19, \"metric\": null, \"status\": \"Completed\", \"run_type\": \"azureml.scriptrun\", \"training_percent\": \"100\", \"start_time\": \"2021-08-15T13:52:27.305142Z\", \"end_time\": \"2021-08-15T13:53:26.023456Z\", \"created_time\": \"2021-08-15T13:52:14.283692Z\", \"created_time_dt\": \"2021-08-15T13:52:14.283692Z\", \"duration\": \"0:01:11\", \"iteration\": \"14\", \"goal\": \"normalized_root_mean_squared_error_min\", \"run_name\": \"StandardScalerWrapper, ElasticNet\", \"run_properties\": \"\\n    copy=True,\\n    with_mean=False,\\n    with_std=False\\n\", \"primary_metric\": 0.04552342, \"best_metric\": 0.03830305}, {\"run_id\": \"AutoML_f37e0eb4-3083-4265-b7b9-8d98a628d82d_15\", \"run_number\": 20, \"metric\": null, \"status\": \"Completed\", \"run_type\": \"azureml.scriptrun\", \"training_percent\": \"100\", \"start_time\": \"2021-08-15T13:52:27.328563Z\", \"end_time\": \"2021-08-15T13:53:26.541422Z\", \"created_time\": \"2021-08-15T13:52:17.884113Z\", \"created_time_dt\": \"2021-08-15T13:52:17.884113Z\", \"duration\": \"0:01:08\", \"iteration\": \"15\", \"goal\": \"normalized_root_mean_squared_error_min\", \"run_name\": \"StandardScalerWrapper, ElasticNet\", \"run_properties\": \"\\n    copy=True,\\n    with_mean=False,\\n    with_std=True\\n\", \"primary_metric\": 0.04973293, \"best_metric\": 0.03830305}, {\"run_id\": \"AutoML_f37e0eb4-3083-4265-b7b9-8d98a628d82d_16\", \"run_number\": 21, \"metric\": null, \"status\": \"Completed\", \"run_type\": \"azureml.scriptrun\", \"training_percent\": \"100\", \"start_time\": \"2021-08-15T13:52:30.146404Z\", \"end_time\": \"2021-08-15T13:53:24.86411Z\", \"created_time\": \"2021-08-15T13:52:17.911389Z\", \"created_time_dt\": \"2021-08-15T13:52:17.911389Z\", \"duration\": \"0:01:06\", \"iteration\": \"16\", \"goal\": \"normalized_root_mean_squared_error_min\", \"run_name\": \"StandardScalerWrapper, ElasticNet\", \"run_properties\": \"\\n    copy=True,\\n    with_mean=False,\\n    with_std=True\\n\", \"primary_metric\": 0.0448014, \"best_metric\": 0.03830305}, {\"run_id\": \"AutoML_f37e0eb4-3083-4265-b7b9-8d98a628d82d_17\", \"run_number\": 22, \"metric\": null, \"status\": \"Completed\", \"run_type\": \"azureml.scriptrun\", \"training_percent\": \"100\", \"start_time\": \"2021-08-15T13:52:49.206974Z\", \"end_time\": \"2021-08-15T13:53:53.721643Z\", \"created_time\": \"2021-08-15T13:52:37.593343Z\", \"created_time_dt\": \"2021-08-15T13:52:37.593343Z\", \"duration\": \"0:01:16\", \"iteration\": \"17\", \"goal\": \"normalized_root_mean_squared_error_min\", \"run_name\": \"StandardScalerWrapper, ElasticNet\", \"run_properties\": \"\\n    copy=True,\\n    with_mean=False,\\n    with_std=True\\n\", \"primary_metric\": 0.05054768, \"best_metric\": 0.03830305}, {\"run_id\": \"AutoML_f37e0eb4-3083-4265-b7b9-8d98a628d82d_18\", \"run_number\": 23, \"metric\": null, \"status\": \"Completed\", \"run_type\": \"azureml.scriptrun\", \"training_percent\": \"100\", \"start_time\": \"2021-08-15T13:53:42.271961Z\", \"end_time\": \"2021-08-15T13:54:34.529054Z\", \"created_time\": \"2021-08-15T13:53:28.253422Z\", \"created_time_dt\": \"2021-08-15T13:53:28.253422Z\", \"duration\": \"0:01:06\", \"iteration\": \"18\", \"goal\": \"normalized_root_mean_squared_error_min\", \"run_name\": \"StandardScalerWrapper, DecisionTree\", \"run_properties\": \"\\n    copy=True,\\n    with_mean=False,\\n    with_std=False\\n\", \"primary_metric\": 0.06394009, \"best_metric\": 0.03830305}, {\"run_id\": \"AutoML_f37e0eb4-3083-4265-b7b9-8d98a628d82d_19\", \"run_number\": 24, \"metric\": null, \"status\": \"Completed\", \"run_type\": \"azureml.scriptrun\", \"training_percent\": \"100\", \"start_time\": \"2021-08-15T13:53:40.032686Z\", \"end_time\": \"2021-08-15T13:54:39.143852Z\", \"created_time\": \"2021-08-15T13:53:32.305286Z\", \"created_time_dt\": \"2021-08-15T13:53:32.305286Z\", \"duration\": \"0:01:06\", \"iteration\": \"19\", \"goal\": \"normalized_root_mean_squared_error_min\", \"run_name\": \"StandardScalerWrapper, ElasticNet\", \"run_properties\": \"\\n    copy=True,\\n    with_mean=False,\\n    with_std=True\\n\", \"primary_metric\": 0.04950816, \"best_metric\": 0.03830305}, {\"run_id\": \"AutoML_f37e0eb4-3083-4265-b7b9-8d98a628d82d_20\", \"run_number\": 25, \"metric\": null, \"status\": \"Completed\", \"run_type\": \"azureml.scriptrun\", \"training_percent\": \"100\", \"start_time\": \"2021-08-15T13:53:39.793973Z\", \"end_time\": \"2021-08-15T13:54:32.817673Z\", \"created_time\": \"2021-08-15T13:53:32.335935Z\", \"created_time_dt\": \"2021-08-15T13:53:32.335935Z\", \"duration\": \"0:01:00\", \"iteration\": \"20\", \"goal\": \"normalized_root_mean_squared_error_min\", \"run_name\": \"MaxAbsScaler, DecisionTree\", \"run_properties\": \"copy=True\", \"primary_metric\": 0.05356013, \"best_metric\": 0.03830305}, {\"run_id\": \"AutoML_f37e0eb4-3083-4265-b7b9-8d98a628d82d_21\", \"run_number\": 26, \"metric\": null, \"status\": \"Completed\", \"run_type\": \"azureml.scriptrun\", \"training_percent\": \"100\", \"start_time\": \"2021-08-15T13:54:08.004625Z\", \"end_time\": \"2021-08-15T13:54:59.984988Z\", \"created_time\": \"2021-08-15T13:53:56.69342Z\", \"created_time_dt\": \"2021-08-15T13:53:56.69342Z\", \"duration\": \"0:01:03\", \"iteration\": \"21\", \"goal\": \"normalized_root_mean_squared_error_min\", \"run_name\": \"StandardScalerWrapper, RandomForest\", \"run_properties\": \"\\n    copy=True,\\n    with_mean=False,\\n    with_std=True\\n\", \"primary_metric\": 0.05177621, \"best_metric\": 0.03830305}, {\"run_id\": \"AutoML_f37e0eb4-3083-4265-b7b9-8d98a628d82d_22\", \"run_number\": 27, \"metric\": null, \"status\": \"Completed\", \"run_type\": \"azureml.scriptrun\", \"training_percent\": \"100\", \"start_time\": \"2021-08-15T13:54:49.311838Z\", \"end_time\": \"2021-08-15T13:55:43.560968Z\", \"created_time\": \"2021-08-15T13:54:35.378728Z\", \"created_time_dt\": \"2021-08-15T13:54:35.378728Z\", \"duration\": \"0:01:08\", \"iteration\": \"22\", \"goal\": \"normalized_root_mean_squared_error_min\", \"run_name\": \"StandardScalerWrapper, RandomForest\", \"run_properties\": \"\\n    copy=True,\\n    with_mean=False,\\n    with_std=False\\n\", \"primary_metric\": 0.05599766, \"best_metric\": 0.03830305}, {\"run_id\": \"AutoML_f37e0eb4-3083-4265-b7b9-8d98a628d82d_23\", \"run_number\": 28, \"metric\": null, \"status\": \"Completed\", \"run_type\": \"azureml.scriptrun\", \"training_percent\": \"100\", \"start_time\": \"2021-08-15T13:54:50.388843Z\", \"end_time\": \"2021-08-15T13:55:42.366859Z\", \"created_time\": \"2021-08-15T13:54:38.213556Z\", \"created_time_dt\": \"2021-08-15T13:54:38.213556Z\", \"duration\": \"0:01:04\", \"iteration\": \"23\", \"goal\": \"normalized_root_mean_squared_error_min\", \"run_name\": \"StandardScalerWrapper, ExtremeRandomTrees\", \"run_properties\": \"\\n    copy=True,\\n    with_mean=False,\\n    with_std=True\\n\", \"primary_metric\": 0.04994427, \"best_metric\": 0.03830305}, {\"run_id\": \"AutoML_f37e0eb4-3083-4265-b7b9-8d98a628d82d_24\", \"run_number\": 29, \"metric\": null, \"status\": \"Completed\", \"run_type\": \"azureml.scriptrun\", \"training_percent\": \"100\", \"start_time\": \"2021-08-15T13:54:53.675112Z\", \"end_time\": \"2021-08-15T13:55:52.939583Z\", \"created_time\": \"2021-08-15T13:54:41.149939Z\", \"created_time_dt\": \"2021-08-15T13:54:41.149939Z\", \"duration\": \"0:01:11\", \"iteration\": \"24\", \"goal\": \"normalized_root_mean_squared_error_min\", \"run_name\": \"MaxAbsScaler, ExtremeRandomTrees\", \"run_properties\": \"copy=True\", \"primary_metric\": 0.06291397, \"best_metric\": 0.03830305}, {\"run_id\": \"AutoML_f37e0eb4-3083-4265-b7b9-8d98a628d82d_25\", \"run_number\": 30, \"metric\": null, \"status\": \"Completed\", \"run_type\": \"azureml.scriptrun\", \"training_percent\": \"100\", \"start_time\": \"2021-08-15T13:55:13.58995Z\", \"end_time\": \"2021-08-15T13:56:29.266235Z\", \"created_time\": \"2021-08-15T13:55:03.398702Z\", \"created_time_dt\": \"2021-08-15T13:55:03.398702Z\", \"duration\": \"0:01:25\", \"iteration\": \"25\", \"goal\": \"normalized_root_mean_squared_error_min\", \"run_name\": \"SparseNormalizer, XGBoostRegressor\", \"run_properties\": \"copy=True, norm='max'\", \"primary_metric\": 0.03924649, \"best_metric\": 0.03830305}, {\"run_id\": \"AutoML_f37e0eb4-3083-4265-b7b9-8d98a628d82d_26\", \"run_number\": 31, \"metric\": null, \"status\": \"Completed\", \"run_type\": \"azureml.scriptrun\", \"training_percent\": \"100\", \"start_time\": \"2021-08-15T13:56:00.103931Z\", \"end_time\": \"2021-08-15T13:56:55.566826Z\", \"created_time\": \"2021-08-15T13:55:44.366331Z\", \"created_time_dt\": \"2021-08-15T13:55:44.366331Z\", \"duration\": \"0:01:11\", \"iteration\": \"26\", \"goal\": \"normalized_root_mean_squared_error_min\", \"run_name\": \"MaxAbsScaler, RandomForest\", \"run_properties\": \"copy=True\", \"primary_metric\": 0.05840577, \"best_metric\": 0.03830305}, {\"run_id\": \"AutoML_f37e0eb4-3083-4265-b7b9-8d98a628d82d_27\", \"run_number\": 32, \"metric\": null, \"status\": \"Completed\", \"run_type\": \"azureml.scriptrun\", \"training_percent\": \"100\", \"start_time\": \"2021-08-15T13:56:00.674136Z\", \"end_time\": \"2021-08-15T13:56:55.038158Z\", \"created_time\": \"2021-08-15T13:55:47.232334Z\", \"created_time_dt\": \"2021-08-15T13:55:47.232334Z\", \"duration\": \"0:01:07\", \"iteration\": \"27\", \"goal\": \"normalized_root_mean_squared_error_min\", \"run_name\": \"MaxAbsScaler, RandomForest\", \"run_properties\": \"copy=True\", \"primary_metric\": 0.05605513, \"best_metric\": 0.03830305}, {\"run_id\": \"AutoML_f37e0eb4-3083-4265-b7b9-8d98a628d82d_28\", \"run_number\": 33, \"metric\": null, \"status\": \"Completed\", \"run_type\": \"azureml.scriptrun\", \"training_percent\": \"100\", \"start_time\": \"2021-08-15T13:56:07.965815Z\", \"end_time\": \"2021-08-15T13:57:02.601561Z\", \"created_time\": \"2021-08-15T13:55:54.762017Z\", \"created_time_dt\": \"2021-08-15T13:55:54.762017Z\", \"duration\": \"0:01:07\", \"iteration\": \"28\", \"goal\": \"normalized_root_mean_squared_error_min\", \"run_name\": \"MaxAbsScaler, RandomForest\", \"run_properties\": \"copy=True\", \"primary_metric\": 0.05242551, \"best_metric\": 0.03830305}, {\"run_id\": \"AutoML_f37e0eb4-3083-4265-b7b9-8d98a628d82d_29\", \"run_number\": 34, \"metric\": null, \"status\": \"Completed\", \"run_type\": \"azureml.scriptrun\", \"training_percent\": \"100\", \"start_time\": \"2021-08-15T13:56:45.294577Z\", \"end_time\": \"2021-08-15T13:57:43.55137Z\", \"created_time\": \"2021-08-15T13:56:31.420906Z\", \"created_time_dt\": \"2021-08-15T13:56:31.420906Z\", \"duration\": \"0:01:12\", \"iteration\": \"29\", \"goal\": \"normalized_root_mean_squared_error_min\", \"run_name\": \"MaxAbsScaler, GradientBoosting\", \"run_properties\": \"copy=True\", \"primary_metric\": 0.05149781, \"best_metric\": 0.03830305}, {\"run_id\": \"AutoML_f37e0eb4-3083-4265-b7b9-8d98a628d82d_30\", \"run_number\": 35, \"metric\": null, \"status\": \"Completed\", \"run_type\": \"azureml.scriptrun\", \"training_percent\": \"100\", \"start_time\": \"2021-08-15T13:57:09.461865Z\", \"end_time\": \"2021-08-15T13:58:31.603921Z\", \"created_time\": \"2021-08-15T13:56:58.34367Z\", \"created_time_dt\": \"2021-08-15T13:56:58.34367Z\", \"duration\": \"0:01:33\", \"iteration\": \"30\", \"goal\": \"normalized_root_mean_squared_error_min\", \"run_name\": \"SparseNormalizer, XGBoostRegressor\", \"run_properties\": \"copy=True, norm='l1'\", \"primary_metric\": 0.04396622, \"best_metric\": 0.03830305}, {\"run_id\": \"AutoML_f37e0eb4-3083-4265-b7b9-8d98a628d82d_31\", \"run_number\": 36, \"metric\": null, \"status\": \"Completed\", \"run_type\": \"azureml.scriptrun\", \"training_percent\": \"100\", \"start_time\": \"2021-08-15T13:57:12.66101Z\", \"end_time\": \"2021-08-15T13:58:04.565673Z\", \"created_time\": \"2021-08-15T13:57:02.838906Z\", \"created_time_dt\": \"2021-08-15T13:57:02.838906Z\", \"duration\": \"0:01:01\", \"iteration\": \"31\", \"goal\": \"normalized_root_mean_squared_error_min\", \"run_name\": \"StandardScalerWrapper, RandomForest\", \"run_properties\": \"\\n    copy=True,\\n    with_mean=False,\\n    with_std=True\\n\", \"primary_metric\": 0.04924033, \"best_metric\": 0.03830305}, {\"run_id\": \"AutoML_f37e0eb4-3083-4265-b7b9-8d98a628d82d_32\", \"run_number\": 37, \"metric\": null, \"status\": \"Completed\", \"run_type\": \"azureml.scriptrun\", \"training_percent\": \"100\", \"start_time\": \"2021-08-15T13:57:18.629464Z\", \"end_time\": \"2021-08-15T13:58:14.47971Z\", \"created_time\": \"2021-08-15T13:57:05.833474Z\", \"created_time_dt\": \"2021-08-15T13:57:05.833474Z\", \"duration\": \"0:01:08\", \"iteration\": \"32\", \"goal\": \"normalized_root_mean_squared_error_min\", \"run_name\": \"StandardScalerWrapper, LightGBM\", \"run_properties\": \"\\n    copy=True,\\n    with_mean=False,\\n    with_std=True\\n\", \"primary_metric\": 0.0421459, \"best_metric\": 0.03830305}, {\"run_id\": \"AutoML_f37e0eb4-3083-4265-b7b9-8d98a628d82d_33\", \"run_number\": 38, \"metric\": null, \"status\": \"Canceled\", \"run_type\": \"azureml.scriptrun\", \"training_percent\": \"100\", \"start_time\": \"2021-08-15T13:58:01.057257Z\", \"end_time\": \"2021-08-15T13:58:35.306666Z\", \"created_time\": \"2021-08-15T13:57:45.781936Z\", \"created_time_dt\": \"2021-08-15T13:57:45.781936Z\", \"duration\": \"0:00:49\", \"iteration\": \"33\", \"goal\": \"normalized_root_mean_squared_error_min\", \"run_name\": \"StandardScalerWrapper, ExtremeRandomTrees\", \"run_properties\": \"\\n    copy=True,\\n    with_mean=False,\\n    with_std=True\\n\", \"primary_metric\": 0.05950423, \"best_metric\": 0.03830305}, {\"run_id\": \"AutoML_f37e0eb4-3083-4265-b7b9-8d98a628d82d_34\", \"run_number\": 39, \"metric\": null, \"status\": \"Canceled\", \"run_type\": \"azureml.scriptrun\", \"training_percent\": \"100\", \"start_time\": \"2021-08-15T13:58:19.326581Z\", \"end_time\": \"2021-08-15T13:58:35.46923Z\", \"created_time\": \"2021-08-15T13:58:06.423305Z\", \"created_time_dt\": \"2021-08-15T13:58:06.423305Z\", \"duration\": \"0:00:29\", \"iteration\": \"34\", \"goal\": null, \"run_name\": \"Canceled\", \"run_properties\": null}, {\"run_id\": \"AutoML_f37e0eb4-3083-4265-b7b9-8d98a628d82d_35\", \"run_number\": 40, \"metric\": null, \"status\": \"Canceled\", \"run_type\": \"azureml.scriptrun\", \"training_percent\": \"100\", \"start_time\": \"2021-08-15T13:58:27.427716Z\", \"end_time\": \"2021-08-15T13:58:35.517597Z\", \"created_time\": \"2021-08-15T13:58:17.75638Z\", \"created_time_dt\": \"2021-08-15T13:58:17.75638Z\", \"duration\": \"0:00:17\", \"iteration\": \"35\", \"goal\": null, \"run_name\": \"Canceled\", \"run_properties\": null}, {\"run_id\": \"AutoML_f37e0eb4-3083-4265-b7b9-8d98a628d82d_36\", \"run_number\": 41, \"metric\": null, \"status\": \"Completed\", \"run_type\": \"azureml.scriptrun\", \"training_percent\": \"100\", \"start_time\": \"2021-08-15T13:58:46.618069Z\", \"end_time\": \"2021-08-15T14:00:27.423709Z\", \"created_time\": \"2021-08-15T13:58:40.251594Z\", \"created_time_dt\": \"2021-08-15T13:58:40.251594Z\", \"duration\": \"0:01:47\", \"iteration\": \"36\", \"goal\": \"normalized_root_mean_squared_error_min\", \"run_name\": \"VotingEnsemble\", \"run_properties\": \"\\n    estimators=[('3', Pipeline(\\n        memory=None,\\n        steps=[('standardscalerwrapper', StandardScalerWrapper(\\n            copy=True,\\n            with_mean=False,\\n            with_std=False\\n        \", \"primary_metric\": 0.03578934, \"best_metric\": 0.03578934}], \"children_metrics\": {\"categories\": [0], \"series\": {\"normalized_mean_absolute_error\": [{\"categories\": [\"0\", \"1\", \"2\", \"3\", \"4\", \"5\", \"6\", \"7\", \"8\", \"9\", \"10\", \"11\", \"12\", \"13\", \"14\", \"15\", \"16\", \"17\", \"18\", \"19\", \"20\", \"21\", \"22\", \"23\", \"24\", \"25\", \"26\", \"27\", \"28\", \"29\", \"30\", \"31\", \"32\", \"33\", \"36\"], \"mode\": \"markers\", \"name\": \"normalized_mean_absolute_error\", \"stepped\": false, \"type\": \"scatter\", \"data\": [0.024468968495807656, 0.02370983546278052, 0.024468968495807656, 0.023710710310841304, 0.025806295099645594, 0.02679575315506105, 0.025989090249996932, 0.026878994740327206, 0.02956676835241004, 0.02557100166832502, 0.026842062107687036, 0.028952950647065333, 0.04043644898668677, 0.02578768181100216, 0.02452430960137181, 0.02557100166832502, 0.023618752408614777, 0.02598791049620465, 0.04051682185486691, 0.02546172086667185, 0.03568945119411615, 0.03151384088086426, 0.03355700017041943, 0.03105785872473112, 0.03880211424822718, 0.02520564588672564, 0.034800373638898124, 0.03316766195328227, 0.03215624635652519, 0.029951852248818744, 0.027355610502086625, 0.02928707616959915, 0.02451893223378802, 0.0365788132264834, 0.021677741931194747]}, {\"categories\": [\"0\", \"1\", \"2\", \"3\", \"4\", \"5\", \"6\", \"7\", \"8\", \"9\", \"10\", \"11\", \"12\", \"13\", \"14\", \"15\", \"16\", \"17\", \"18\", \"19\", \"20\", \"21\", \"22\", \"23\", \"24\", \"25\", \"26\", \"27\", \"28\", \"29\", \"30\", \"31\", \"32\", \"33\", \"36\"], \"mode\": \"lines\", \"name\": \"normalized_mean_absolute_error_min\", \"stepped\": true, \"type\": \"scatter\", \"data\": [0.024468968495807656, 0.02370983546278052, 0.02370983546278052, 0.02370983546278052, 0.02370983546278052, 0.02370983546278052, 0.02370983546278052, 0.02370983546278052, 0.02370983546278052, 0.02370983546278052, 0.02370983546278052, 0.02370983546278052, 0.02370983546278052, 0.02370983546278052, 0.02370983546278052, 0.02370983546278052, 0.023618752408614777, 0.023618752408614777, 0.023618752408614777, 0.023618752408614777, 0.023618752408614777, 0.023618752408614777, 0.023618752408614777, 0.023618752408614777, 0.023618752408614777, 0.023618752408614777, 0.023618752408614777, 0.023618752408614777, 0.023618752408614777, 0.023618752408614777, 0.023618752408614777, 0.023618752408614777, 0.023618752408614777, 0.023618752408614777, 0.021677741931194747]}], \"mean_absolute_percentage_error\": [{\"categories\": [\"0\", \"1\", \"2\", \"3\", \"4\", \"5\", \"6\", \"7\", \"8\", \"9\", \"10\", \"11\", \"12\", \"13\", \"14\", \"15\", \"16\", \"17\", \"18\", \"19\", \"20\", \"21\", \"22\", \"23\", \"24\", \"25\", \"26\", \"27\", \"28\", \"29\", \"30\", \"31\", \"32\", \"33\", \"36\"], \"mode\": \"markers\", \"name\": \"mean_absolute_percentage_error\", \"stepped\": false, \"type\": \"scatter\", \"data\": [10.227918298008179, 10.07545350264032, 10.227918298008179, 10.076577812939874, 11.158324235653822, 11.831507041893206, 11.258260540483008, 11.884591407646484, 12.635828307318354, 11.076543834469879, 11.806243940697575, 12.142300508375607, 17.47927444944997, 10.906675248218347, 10.390472449857246, 11.076543834469879, 9.924560485552215, 11.303865138850028, 17.139421044931407, 11.01596356436003, 15.395104934159184, 13.498445392593078, 14.116925570081113, 13.341467389319845, 16.848157343091415, 10.64845806988349, 15.17748986659869, 14.417923258597297, 13.977782633797993, 12.85100762858473, 11.499379585174088, 12.636372806039398, 10.261732934486297, 15.643556586213128, 9.197768325624113]}, {\"categories\": [\"0\", \"1\", \"2\", \"3\", \"4\", \"5\", \"6\", \"7\", \"8\", \"9\", \"10\", \"11\", \"12\", \"13\", \"14\", \"15\", \"16\", \"17\", \"18\", \"19\", \"20\", \"21\", \"22\", \"23\", \"24\", \"25\", \"26\", \"27\", \"28\", \"29\", \"30\", \"31\", \"32\", \"33\", \"36\"], \"mode\": \"lines\", \"name\": \"mean_absolute_percentage_error_min\", \"stepped\": true, \"type\": \"scatter\", \"data\": [10.227918298008179, 10.07545350264032, 10.07545350264032, 10.07545350264032, 10.07545350264032, 10.07545350264032, 10.07545350264032, 10.07545350264032, 10.07545350264032, 10.07545350264032, 10.07545350264032, 10.07545350264032, 10.07545350264032, 10.07545350264032, 10.07545350264032, 10.07545350264032, 9.924560485552215, 9.924560485552215, 9.924560485552215, 9.924560485552215, 9.924560485552215, 9.924560485552215, 9.924560485552215, 9.924560485552215, 9.924560485552215, 9.924560485552215, 9.924560485552215, 9.924560485552215, 9.924560485552215, 9.924560485552215, 9.924560485552215, 9.924560485552215, 9.924560485552215, 9.924560485552215, 9.197768325624113]}], \"normalized_median_absolute_error\": [{\"categories\": [\"0\", \"1\", \"2\", \"3\", \"4\", \"5\", \"6\", \"7\", \"8\", \"9\", \"10\", \"11\", \"12\", \"13\", \"14\", \"15\", \"16\", \"17\", \"18\", \"19\", \"20\", \"21\", \"22\", \"23\", \"24\", \"25\", \"26\", \"27\", \"28\", \"29\", \"30\", \"31\", \"32\", \"33\", \"36\"], \"mode\": \"markers\", \"name\": \"normalized_median_absolute_error\", \"stepped\": false, \"type\": \"scatter\", \"data\": [0.01563024503949052, 0.015697371314169328, 0.01563024503949052, 0.015697371314169328, 0.016713150118530962, 0.01643882383614788, 0.01649350579760784, 0.016366728249539757, 0.018129661775370703, 0.016330546330272495, 0.016344002386351048, 0.01946343102382923, 0.025449790388037064, 0.017588500993154663, 0.015913248527123194, 0.016330546330272495, 0.014848020954179494, 0.016260383324062593, 0.02609287787676243, 0.01638469391502389, 0.023433473745930345, 0.01943686325540332, 0.020178052044111897, 0.020283816854102476, 0.025869494927467786, 0.016817622263111606, 0.02217646081799003, 0.020656028619623536, 0.02024975472105441, 0.018924288186942664, 0.016958426636346804, 0.0182826511791083, 0.015745679929087087, 0.02221994324807626, 0.014509132245016376]}, {\"categories\": [\"0\", \"1\", \"2\", \"3\", \"4\", \"5\", \"6\", \"7\", \"8\", \"9\", \"10\", \"11\", \"12\", \"13\", \"14\", \"15\", \"16\", \"17\", \"18\", \"19\", \"20\", \"21\", \"22\", \"23\", \"24\", \"25\", \"26\", \"27\", \"28\", \"29\", \"30\", \"31\", \"32\", \"33\", \"36\"], \"mode\": \"lines\", \"name\": \"normalized_median_absolute_error_min\", \"stepped\": true, \"type\": \"scatter\", \"data\": [0.01563024503949052, 0.01563024503949052, 0.01563024503949052, 0.01563024503949052, 0.01563024503949052, 0.01563024503949052, 0.01563024503949052, 0.01563024503949052, 0.01563024503949052, 0.01563024503949052, 0.01563024503949052, 0.01563024503949052, 0.01563024503949052, 0.01563024503949052, 0.01563024503949052, 0.01563024503949052, 0.014848020954179494, 0.014848020954179494, 0.014848020954179494, 0.014848020954179494, 0.014848020954179494, 0.014848020954179494, 0.014848020954179494, 0.014848020954179494, 0.014848020954179494, 0.014848020954179494, 0.014848020954179494, 0.014848020954179494, 0.014848020954179494, 0.014848020954179494, 0.014848020954179494, 0.014848020954179494, 0.014848020954179494, 0.014848020954179494, 0.014509132245016376]}], \"root_mean_squared_error\": [{\"categories\": [\"0\", \"1\", \"2\", \"3\", \"4\", \"5\", \"6\", \"7\", \"8\", \"9\", \"10\", \"11\", \"12\", \"13\", \"14\", \"15\", \"16\", \"17\", \"18\", \"19\", \"20\", \"21\", \"22\", \"23\", \"24\", \"25\", \"26\", \"27\", \"28\", \"29\", \"30\", \"31\", \"32\", \"33\", \"36\"], \"mode\": \"markers\", \"name\": \"root_mean_squared_error\", \"stepped\": false, \"type\": \"scatter\", \"data\": [29228.677965587034, 27582.578089556464, 29228.677965587034, 27582.027759295324, 34980.4147457852, 37352.21044289088, 35759.13418065263, 37491.49784629171, 34142.68442830944, 35812.681467620954, 37260.69921282898, 37515.029785196915, 46678.14209570623, 34230.77078143687, 32781.411622681764, 35812.681467620954, 32261.490181079076, 36399.38129310424, 46043.26057828992, 35650.827813123215, 38568.646367576956, 37284.04878145352, 40323.91224991577, 35964.866398830934, 45304.353032843326, 28261.396550543806, 42057.99855728447, 40365.30010215751, 37751.61133507618, 37083.570844779846, 31660.07698591809, 35457.95908674958, 30349.264891840827, 42848.99757358361, 25771.906465315402]}, {\"categories\": [\"0\", \"1\", \"2\", \"3\", \"4\", \"5\", \"6\", \"7\", \"8\", \"9\", \"10\", \"11\", \"12\", \"13\", \"14\", \"15\", \"16\", \"17\", \"18\", \"19\", \"20\", \"21\", \"22\", \"23\", \"24\", \"25\", \"26\", \"27\", \"28\", \"29\", \"30\", \"31\", \"32\", \"33\", \"36\"], \"mode\": \"lines\", \"name\": \"root_mean_squared_error_min\", \"stepped\": true, \"type\": \"scatter\", \"data\": [29228.677965587034, 27582.578089556464, 27582.578089556464, 27582.027759295324, 27582.027759295324, 27582.027759295324, 27582.027759295324, 27582.027759295324, 27582.027759295324, 27582.027759295324, 27582.027759295324, 27582.027759295324, 27582.027759295324, 27582.027759295324, 27582.027759295324, 27582.027759295324, 27582.027759295324, 27582.027759295324, 27582.027759295324, 27582.027759295324, 27582.027759295324, 27582.027759295324, 27582.027759295324, 27582.027759295324, 27582.027759295324, 27582.027759295324, 27582.027759295324, 27582.027759295324, 27582.027759295324, 27582.027759295324, 27582.027759295324, 27582.027759295324, 27582.027759295324, 27582.027759295324, 25771.906465315402]}], \"explained_variance\": [{\"categories\": [\"0\", \"1\", \"2\", \"3\", \"4\", \"5\", \"6\", \"7\", \"8\", \"9\", \"10\", \"11\", \"12\", \"13\", \"14\", \"15\", \"16\", \"17\", \"18\", \"19\", \"20\", \"21\", \"22\", \"23\", \"24\", \"25\", \"26\", \"27\", \"28\", \"29\", \"30\", \"31\", \"32\", \"33\", \"36\"], \"mode\": \"markers\", \"name\": \"explained_variance\", \"stepped\": false, \"type\": \"scatter\", \"data\": [0.863854636599155, 0.8783064047579887, 0.863854636599155, 0.8783105392287766, 0.8036649321494735, 0.7767231497750021, 0.7947076727290817, 0.7751344747020501, 0.8153207204843907, 0.7944138780501021, 0.7776075815600464, 0.7748020510293575, 0.6560771898047696, 0.8125939049002323, 0.8286039108814848, 0.7944138780501021, 0.8338437427946598, 0.7876382857711673, 0.6659049249122385, 0.7962684483401717, 0.7649430721242311, 0.7805184669797383, 0.7422787143861987, 0.7952484612487183, 0.6749194491422655, 0.8735787414984854, 0.7197391128417051, 0.7419670818374641, 0.7751375538186175, 0.783198728594647, 0.8405299599490837, 0.8006514581407926, 0.8535174990959428, 0.7094508949161117, 0.8944568099173953]}, {\"categories\": [\"0\", \"1\", \"2\", \"3\", \"4\", \"5\", \"6\", \"7\", \"8\", \"9\", \"10\", \"11\", \"12\", \"13\", \"14\", \"15\", \"16\", \"17\", \"18\", \"19\", \"20\", \"21\", \"22\", \"23\", \"24\", \"25\", \"26\", \"27\", \"28\", \"29\", \"30\", \"31\", \"32\", \"33\", \"36\"], \"mode\": \"lines\", \"name\": \"explained_variance_max\", \"stepped\": true, \"type\": \"scatter\", \"data\": [0.863854636599155, 0.8783064047579887, 0.8783064047579887, 0.8783105392287766, 0.8783105392287766, 0.8783105392287766, 0.8783105392287766, 0.8783105392287766, 0.8783105392287766, 0.8783105392287766, 0.8783105392287766, 0.8783105392287766, 0.8783105392287766, 0.8783105392287766, 0.8783105392287766, 0.8783105392287766, 0.8783105392287766, 0.8783105392287766, 0.8783105392287766, 0.8783105392287766, 0.8783105392287766, 0.8783105392287766, 0.8783105392287766, 0.8783105392287766, 0.8783105392287766, 0.8783105392287766, 0.8783105392287766, 0.8783105392287766, 0.8783105392287766, 0.8783105392287766, 0.8783105392287766, 0.8783105392287766, 0.8783105392287766, 0.8783105392287766, 0.8944568099173953]}], \"normalized_root_mean_squared_log_error\": [{\"categories\": [\"0\", \"1\", \"2\", \"3\", \"4\", \"5\", \"6\", \"7\", \"8\", \"9\", \"10\", \"11\", \"12\", \"13\", \"14\", \"15\", \"16\", \"17\", \"18\", \"19\", \"20\", \"21\", \"22\", \"23\", \"24\", \"25\", \"26\", \"27\", \"28\", \"29\", \"30\", \"31\", \"32\", \"33\", \"36\"], \"mode\": \"markers\", \"name\": \"normalized_root_mean_squared_log_error\", \"stepped\": false, \"type\": \"scatter\", \"data\": [0.04724430294361787, 0.04512463351528703, 0.04724430294361787, 0.04512473186007245, 0.057240117324896526, 0.06214671136724159, 0.05983329164202908, 0.06400296076247064, 0.0570732936767922, 0.05521874998385196, 0.0602986456160308, 0.05359525540778584, 0.07430894457095094, 0.04896997411968764, 0.047917989164111, 0.05521874998385196, 0.048202610062559346, 0.05677350300379569, 0.07306701309241122, 0.054820150718520144, 0.0660479149136466, 0.06018815613412944, 0.06267113140096499, 0.05918940788040842, 0.07129391219306612, 0.04823400159171471, 0.06637893742555585, 0.06381443445683714, 0.061961954736866075, 0.05800803464704526, 0.0520848374892362, 0.057191804463583455, 0.047265780783336035, 0.06830885666005528, 0.04236093258268205]}, {\"categories\": [\"0\", \"1\", \"2\", \"3\", \"4\", \"5\", \"6\", \"7\", \"8\", \"9\", \"10\", \"11\", \"12\", \"13\", \"14\", \"15\", \"16\", \"17\", \"18\", \"19\", \"20\", \"21\", \"22\", \"23\", \"24\", \"25\", \"26\", \"27\", \"28\", \"29\", \"30\", \"31\", \"32\", \"33\", \"36\"], \"mode\": \"lines\", \"name\": \"normalized_root_mean_squared_log_error_min\", \"stepped\": true, \"type\": \"scatter\", \"data\": [0.04724430294361787, 0.04512463351528703, 0.04512463351528703, 0.04512463351528703, 0.04512463351528703, 0.04512463351528703, 0.04512463351528703, 0.04512463351528703, 0.04512463351528703, 0.04512463351528703, 0.04512463351528703, 0.04512463351528703, 0.04512463351528703, 0.04512463351528703, 0.04512463351528703, 0.04512463351528703, 0.04512463351528703, 0.04512463351528703, 0.04512463351528703, 0.04512463351528703, 0.04512463351528703, 0.04512463351528703, 0.04512463351528703, 0.04512463351528703, 0.04512463351528703, 0.04512463351528703, 0.04512463351528703, 0.04512463351528703, 0.04512463351528703, 0.04512463351528703, 0.04512463351528703, 0.04512463351528703, 0.04512463351528703, 0.04512463351528703, 0.04236093258268205]}], \"root_mean_squared_log_error\": [{\"categories\": [\"0\", \"1\", \"2\", \"3\", \"4\", \"5\", \"6\", \"7\", \"8\", \"9\", \"10\", \"11\", \"12\", \"13\", \"14\", \"15\", \"16\", \"17\", \"18\", \"19\", \"20\", \"21\", \"22\", \"23\", \"24\", \"25\", \"26\", \"27\", \"28\", \"29\", \"30\", \"31\", \"32\", \"33\", \"36\"], \"mode\": \"markers\", \"name\": \"root_mean_squared_log_error\", \"stepped\": false, \"type\": \"scatter\", \"data\": [0.14523860579466982, 0.13872231042496655, 0.14523860579466982, 0.13872261275685907, 0.1759677742671478, 0.19105164329493496, 0.18393972006667317, 0.19675813185276192, 0.17545492440897195, 0.16975367952724754, 0.18537031292494177, 0.16476272667046707, 0.22844082429236587, 0.15054367032216495, 0.14730965439336055, 0.16975367952724754, 0.14818463698163156, 0.17453330684530038, 0.22462287408044537, 0.16852830423413206, 0.2030447372490839, 0.18503064576284015, 0.19266381724614504, 0.18196029029408842, 0.21917200092730582, 0.14828114093330866, 0.20406236784411513, 0.19617856360686128, 0.1904836637982518, 0.1783285084569942, 0.16011939448035648, 0.17581925069537588, 0.14530463304667246, 0.209995332486424, 0.1302261310916825]}, {\"categories\": [\"0\", \"1\", \"2\", \"3\", \"4\", \"5\", \"6\", \"7\", \"8\", \"9\", \"10\", \"11\", \"12\", \"13\", \"14\", \"15\", \"16\", \"17\", \"18\", \"19\", \"20\", \"21\", \"22\", \"23\", \"24\", \"25\", \"26\", \"27\", \"28\", \"29\", \"30\", \"31\", \"32\", \"33\", \"36\"], \"mode\": \"lines\", \"name\": \"root_mean_squared_log_error_min\", \"stepped\": true, \"type\": \"scatter\", \"data\": [0.14523860579466982, 0.13872231042496655, 0.13872231042496655, 0.13872231042496655, 0.13872231042496655, 0.13872231042496655, 0.13872231042496655, 0.13872231042496655, 0.13872231042496655, 0.13872231042496655, 0.13872231042496655, 0.13872231042496655, 0.13872231042496655, 0.13872231042496655, 0.13872231042496655, 0.13872231042496655, 0.13872231042496655, 0.13872231042496655, 0.13872231042496655, 0.13872231042496655, 0.13872231042496655, 0.13872231042496655, 0.13872231042496655, 0.13872231042496655, 0.13872231042496655, 0.13872231042496655, 0.13872231042496655, 0.13872231042496655, 0.13872231042496655, 0.13872231042496655, 0.13872231042496655, 0.13872231042496655, 0.13872231042496655, 0.13872231042496655, 0.1302261310916825]}], \"r2_score\": [{\"categories\": [\"0\", \"1\", \"2\", \"3\", \"4\", \"5\", \"6\", \"7\", \"8\", \"9\", \"10\", \"11\", \"12\", \"13\", \"14\", \"15\", \"16\", \"17\", \"18\", \"19\", \"20\", \"21\", \"22\", \"23\", \"24\", \"25\", \"26\", \"27\", \"28\", \"29\", \"30\", \"31\", \"32\", \"33\", \"36\"], \"mode\": \"markers\", \"name\": \"r2_score\", \"stepped\": false, \"type\": \"scatter\", \"data\": [0.8636018126798337, 0.8780502772452924, 0.8636018126798337, 0.8780544228170942, 0.8030409454519339, 0.7759152743224728, 0.7939907915512597, 0.7742759007760783, 0.8141825755341582, 0.7937844968927329, 0.7768955926914273, 0.7747447463306895, 0.6541826010740355, 0.8125567652599854, 0.8285012115242973, 0.7937844968927329, 0.833621214769637, 0.7869682645257591, 0.6629915157448267, 0.7956520657938769, 0.7636049732604747, 0.7793790225772584, 0.7417532175961186, 0.7945250464138649, 0.6741923377397246, 0.8730780414065347, 0.7192112868358027, 0.741400968183718, 0.7736877198448532, 0.7817461121380785, 0.8402372321399273, 0.8001292423683258, 0.852816270850727, 0.7082529358868443, 0.8942710428327086]}, {\"categories\": [\"0\", \"1\", \"2\", \"3\", \"4\", \"5\", \"6\", \"7\", \"8\", \"9\", \"10\", \"11\", \"12\", \"13\", \"14\", \"15\", \"16\", \"17\", \"18\", \"19\", \"20\", \"21\", \"22\", \"23\", \"24\", \"25\", \"26\", \"27\", \"28\", \"29\", \"30\", \"31\", \"32\", \"33\", \"36\"], \"mode\": \"lines\", \"name\": \"r2_score_max\", \"stepped\": true, \"type\": \"scatter\", \"data\": [0.8636018126798337, 0.8780502772452924, 0.8780502772452924, 0.8780544228170942, 0.8780544228170942, 0.8780544228170942, 0.8780544228170942, 0.8780544228170942, 0.8780544228170942, 0.8780544228170942, 0.8780544228170942, 0.8780544228170942, 0.8780544228170942, 0.8780544228170942, 0.8780544228170942, 0.8780544228170942, 0.8780544228170942, 0.8780544228170942, 0.8780544228170942, 0.8780544228170942, 0.8780544228170942, 0.8780544228170942, 0.8780544228170942, 0.8780544228170942, 0.8780544228170942, 0.8780544228170942, 0.8780544228170942, 0.8780544228170942, 0.8780544228170942, 0.8780544228170942, 0.8780544228170942, 0.8780544228170942, 0.8780544228170942, 0.8780544228170942, 0.8942710428327086]}], \"median_absolute_error\": [{\"categories\": [\"0\", \"1\", \"2\", \"3\", \"4\", \"5\", \"6\", \"7\", \"8\", \"9\", \"10\", \"11\", \"12\", \"13\", \"14\", \"15\", \"16\", \"17\", \"18\", \"19\", \"20\", \"21\", \"22\", \"23\", \"24\", \"25\", \"26\", \"27\", \"28\", \"29\", \"30\", \"31\", \"32\", \"33\", \"36\"], \"mode\": \"markers\", \"name\": \"median_absolute_error\", \"stepped\": false, \"type\": \"scatter\", \"data\": [11255.339452937123, 11303.677083333334, 11255.339452937123, 11303.677083333334, 12035.139400354148, 11837.597044410088, 11876.973524857407, 11785.681012493578, 13055.169444444444, 11759.626412429227, 11769.31611841139, 14015.616680259429, 18326.39405842549, 12665.479565170672, 11459.130264381412, 11759.626412429227, 10692.059889104654, 11709.102031657472, 18789.481359056626, 11798.618088208701, 16874.44444444444, 13996.485230215929, 14530.215276964977, 14606.376516639191, 18628.623297269554, 12110.369791666666, 15969.26943503462, 14874.406208990908, 14581.84837463128, 13627.379923417413, 12211.763020833334, 13165.337114075888, 11338.464116935613, 16000.581132939717, 10448.026129636293]}, {\"categories\": [\"0\", \"1\", \"2\", \"3\", \"4\", \"5\", \"6\", \"7\", \"8\", \"9\", \"10\", \"11\", \"12\", \"13\", \"14\", \"15\", \"16\", \"17\", \"18\", \"19\", \"20\", \"21\", \"22\", \"23\", \"24\", \"25\", \"26\", \"27\", \"28\", \"29\", \"30\", \"31\", \"32\", \"33\", \"36\"], \"mode\": \"lines\", \"name\": \"median_absolute_error_min\", \"stepped\": true, \"type\": \"scatter\", \"data\": [11255.339452937123, 11255.339452937123, 11255.339452937123, 11255.339452937123, 11255.339452937123, 11255.339452937123, 11255.339452937123, 11255.339452937123, 11255.339452937123, 11255.339452937123, 11255.339452937123, 11255.339452937123, 11255.339452937123, 11255.339452937123, 11255.339452937123, 11255.339452937123, 10692.059889104654, 10692.059889104654, 10692.059889104654, 10692.059889104654, 10692.059889104654, 10692.059889104654, 10692.059889104654, 10692.059889104654, 10692.059889104654, 10692.059889104654, 10692.059889104654, 10692.059889104654, 10692.059889104654, 10692.059889104654, 10692.059889104654, 10692.059889104654, 10692.059889104654, 10692.059889104654, 10448.026129636293]}], \"normalized_root_mean_squared_error\": [{\"categories\": [\"0\", \"1\", \"2\", \"3\", \"4\", \"5\", \"6\", \"7\", \"8\", \"9\", \"10\", \"11\", \"12\", \"13\", \"14\", \"15\", \"16\", \"17\", \"18\", \"19\", \"20\", \"21\", \"22\", \"23\", \"24\", \"25\", \"26\", \"27\", \"28\", \"29\", \"30\", \"31\", \"32\", \"33\", \"36\"], \"mode\": \"markers\", \"name\": \"normalized_root_mean_squared_error\", \"stepped\": false, \"type\": \"scatter\", \"data\": [0.04058974859823223, 0.038303816261014395, 0.04058974859823223, 0.038303052019574124, 0.04857716254101541, 0.051870865772657794, 0.049658567116584694, 0.05206429363462257, 0.04741380978795923, 0.049732928020581796, 0.05174378449219411, 0.05209697234439234, 0.06482174988988508, 0.04753613495547406, 0.04552341566821519, 0.049732928020581796, 0.04480140283443838, 0.05054767572990452, 0.06394009245700587, 0.04950816249565785, 0.05356012549309395, 0.051776209945081975, 0.05599765622818465, 0.0499442666280113, 0.06291397449360273, 0.03924648875231746, 0.05840577497192676, 0.05605513137363909, 0.05242551219980027, 0.051497807033439584, 0.043966222727285224, 0.049240326464032196, 0.04214590319655719, 0.05950423215328928, 0.03578934379296681]}, {\"categories\": [\"0\", \"1\", \"2\", \"3\", \"4\", \"5\", \"6\", \"7\", \"8\", \"9\", \"10\", \"11\", \"12\", \"13\", \"14\", \"15\", \"16\", \"17\", \"18\", \"19\", \"20\", \"21\", \"22\", \"23\", \"24\", \"25\", \"26\", \"27\", \"28\", \"29\", \"30\", \"31\", \"32\", \"33\", \"36\"], \"mode\": \"lines\", \"name\": \"normalized_root_mean_squared_error_min\", \"stepped\": true, \"type\": \"scatter\", \"data\": [0.04058974859823223, 0.038303816261014395, 0.038303816261014395, 0.038303052019574124, 0.038303052019574124, 0.038303052019574124, 0.038303052019574124, 0.038303052019574124, 0.038303052019574124, 0.038303052019574124, 0.038303052019574124, 0.038303052019574124, 0.038303052019574124, 0.038303052019574124, 0.038303052019574124, 0.038303052019574124, 0.038303052019574124, 0.038303052019574124, 0.038303052019574124, 0.038303052019574124, 0.038303052019574124, 0.038303052019574124, 0.038303052019574124, 0.038303052019574124, 0.038303052019574124, 0.038303052019574124, 0.038303052019574124, 0.038303052019574124, 0.038303052019574124, 0.038303052019574124, 0.038303052019574124, 0.038303052019574124, 0.038303052019574124, 0.038303052019574124, 0.03578934379296681]}], \"spearman_correlation\": [{\"categories\": [\"0\", \"1\", \"2\", \"3\", \"4\", \"5\", \"6\", \"7\", \"8\", \"9\", \"10\", \"11\", \"12\", \"13\", \"14\", \"15\", \"16\", \"17\", \"18\", \"19\", \"20\", \"21\", \"22\", \"23\", \"24\", \"25\", \"26\", \"27\", \"28\", \"29\", \"30\", \"31\", \"32\", \"33\", \"36\"], \"mode\": \"markers\", \"name\": \"spearman_correlation\", \"stepped\": false, \"type\": \"scatter\", \"data\": [0.9425941307870714, 0.9471907231845357, 0.9425941307870714, 0.947184058840617, 0.93479674545639, 0.9268481791292635, 0.9308703818469747, 0.9265677425363609, 0.9146589333860797, 0.932516427477783, 0.9262621293279582, 0.932446592576963, 0.8651406434039098, 0.9437129660925155, 0.9473547061445359, 0.932516427477783, 0.9460706299444525, 0.9301135210786077, 0.8503211075580522, 0.9332125714291332, 0.8794587342546784, 0.9070325046220805, 0.8959586411267554, 0.9114814293231692, 0.9155738045623601, 0.9401511528634071, 0.9242914988588855, 0.9266719280248893, 0.9006776465936056, 0.9231798726662448, 0.9310431289627678, 0.9241883816651725, 0.9429531571806021, 0.8890244596706406, 0.9562738525955498]}, {\"categories\": [\"0\", \"1\", \"2\", \"3\", \"4\", \"5\", \"6\", \"7\", \"8\", \"9\", \"10\", \"11\", \"12\", \"13\", \"14\", \"15\", \"16\", \"17\", \"18\", \"19\", \"20\", \"21\", \"22\", \"23\", \"24\", \"25\", \"26\", \"27\", \"28\", \"29\", \"30\", \"31\", \"32\", \"33\", \"36\"], \"mode\": \"lines\", \"name\": \"spearman_correlation_max\", \"stepped\": true, \"type\": \"scatter\", \"data\": [0.9425941307870714, 0.9471907231845357, 0.9471907231845357, 0.9471907231845357, 0.9471907231845357, 0.9471907231845357, 0.9471907231845357, 0.9471907231845357, 0.9471907231845357, 0.9471907231845357, 0.9471907231845357, 0.9471907231845357, 0.9471907231845357, 0.9471907231845357, 0.9473547061445359, 0.9473547061445359, 0.9473547061445359, 0.9473547061445359, 0.9473547061445359, 0.9473547061445359, 0.9473547061445359, 0.9473547061445359, 0.9473547061445359, 0.9473547061445359, 0.9473547061445359, 0.9473547061445359, 0.9473547061445359, 0.9473547061445359, 0.9473547061445359, 0.9473547061445359, 0.9473547061445359, 0.9473547061445359, 0.9473547061445359, 0.9473547061445359, 0.9562738525955498]}], \"mean_absolute_error\": [{\"categories\": [\"0\", \"1\", \"2\", \"3\", \"4\", \"5\", \"6\", \"7\", \"8\", \"9\", \"10\", \"11\", \"12\", \"13\", \"14\", \"15\", \"16\", \"17\", \"18\", \"19\", \"20\", \"21\", \"22\", \"23\", \"24\", \"25\", \"26\", \"27\", \"28\", \"29\", \"30\", \"31\", \"32\", \"33\", \"36\"], \"mode\": \"markers\", \"name\": \"mean_absolute_error\", \"stepped\": false, \"type\": \"scatter\", \"data\": [17620.10421383109, 17073.452516748253, 17620.10421383109, 17074.08249483682, 18583.113101254796, 19295.621846959464, 18714.74388902279, 19355.56411250962, 21291.02989057047, 18413.678301360847, 19328.968923745433, 20849.019760951745, 29118.286915313136, 18569.709672102657, 17659.955343947844, 18413.678301360847, 17007.863609443502, 18713.894348316968, 29176.16341768966, 18334.985196090394, 25699.973804883044, 22693.116818310355, 24164.39582271903, 22364.764067678883, 27941.40247014839, 18150.585603031133, 25059.74905737054, 23884.033372558562, 23155.71300133379, 21568.328804374378, 19698.775122552583, 21089.62354972835, 17656.083101550754, 26340.4034043907, 15610.141964653338]}, {\"categories\": [\"0\", \"1\", \"2\", \"3\", \"4\", \"5\", \"6\", \"7\", \"8\", \"9\", \"10\", \"11\", \"12\", \"13\", \"14\", \"15\", \"16\", \"17\", \"18\", \"19\", \"20\", \"21\", \"22\", \"23\", \"24\", \"25\", \"26\", \"27\", \"28\", \"29\", \"30\", \"31\", \"32\", \"33\", \"36\"], \"mode\": \"lines\", \"name\": \"mean_absolute_error_min\", \"stepped\": true, \"type\": \"scatter\", \"data\": [17620.10421383109, 17073.452516748253, 17073.452516748253, 17073.452516748253, 17073.452516748253, 17073.452516748253, 17073.452516748253, 17073.452516748253, 17073.452516748253, 17073.452516748253, 17073.452516748253, 17073.452516748253, 17073.452516748253, 17073.452516748253, 17073.452516748253, 17073.452516748253, 17007.863609443502, 17007.863609443502, 17007.863609443502, 17007.863609443502, 17007.863609443502, 17007.863609443502, 17007.863609443502, 17007.863609443502, 17007.863609443502, 17007.863609443502, 17007.863609443502, 17007.863609443502, 17007.863609443502, 17007.863609443502, 17007.863609443502, 17007.863609443502, 17007.863609443502, 17007.863609443502, 15610.141964653338]}]}, \"metricName\": null, \"primaryMetricName\": \"normalized_root_mean_squared_error\", \"showLegend\": false}, \"run_metrics\": [{\"name\": \"experiment_status\", \"run_id\": \"AutoML_f37e0eb4-3083-4265-b7b9-8d98a628d82d\", \"categories\": [0, 1, 2, 3, 4, 5, 6, 7, 8, 9, 10, 11, 12, 13], \"series\": [{\"data\": [\"DatasetEvaluation\", \"FeaturesGeneration\", \"DatasetFeaturization\", \"DatasetFeaturizationCompleted\", \"DatasetCrossValidationSplit\", \"ModelSelection\", \"BestRunExplainModel\", \"ModelExplanationDataSetSetup\", \"PickSurrogateModel\", \"EngineeredFeatureExplanations\", \"EngineeredFeatureExplanations\", \"RawFeaturesExplanations\", \"RawFeaturesExplanations\", \"BestRunExplainModel\"]}]}, {\"name\": \"experiment_status_description\", \"run_id\": \"AutoML_f37e0eb4-3083-4265-b7b9-8d98a628d82d\", \"categories\": [0, 1, 2, 3, 4, 5, 6, 7, 8, 9, 10, 11, 12, 13], \"series\": [{\"data\": [\"Gathering dataset statistics.\", \"Generating features for the dataset.\", \"Beginning to fit featurizers and featurize the dataset.\", \"Completed fit featurizers and featurizing the dataset.\", \"Generating individually featurized CV splits.\", \"Beginning model selection.\", \"Best run model explanations started\", \"Model explanations data setup completed\", \"Choosing LightGBM as the surrogate model for explanations\", \"Computation of engineered features started\", \"Computation of engineered features completed\", \"Computation of raw features started\", \"Computation of raw features completed\", \"Best run model explanations completed\"]}]}, {\"name\": \"normalized_root_mean_squared_error\", \"run_id\": \"AutoML_f37e0eb4-3083-4265-b7b9-8d98a628d82d\", \"categories\": [0], \"series\": [{\"data\": [0.03578934379296681]}]}, {\"name\": \"median_absolute_error\", \"run_id\": \"AutoML_f37e0eb4-3083-4265-b7b9-8d98a628d82d\", \"categories\": [0], \"series\": [{\"data\": [10448.026129636293]}]}, {\"name\": \"explained_variance\", \"run_id\": \"AutoML_f37e0eb4-3083-4265-b7b9-8d98a628d82d\", \"categories\": [0], \"series\": [{\"data\": [0.8944568099173953]}]}, {\"name\": \"spearman_correlation\", \"run_id\": \"AutoML_f37e0eb4-3083-4265-b7b9-8d98a628d82d\", \"categories\": [0], \"series\": [{\"data\": [0.9562738525955498]}]}, {\"name\": \"root_mean_squared_error\", \"run_id\": \"AutoML_f37e0eb4-3083-4265-b7b9-8d98a628d82d\", \"categories\": [0], \"series\": [{\"data\": [25771.906465315402]}]}, {\"name\": \"mean_absolute_percentage_error\", \"run_id\": \"AutoML_f37e0eb4-3083-4265-b7b9-8d98a628d82d\", \"categories\": [0], \"series\": [{\"data\": [9.197768325624113]}]}, {\"name\": \"mean_absolute_error\", \"run_id\": \"AutoML_f37e0eb4-3083-4265-b7b9-8d98a628d82d\", \"categories\": [0], \"series\": [{\"data\": [15610.141964653338]}]}, {\"name\": \"normalized_median_absolute_error\", \"run_id\": \"AutoML_f37e0eb4-3083-4265-b7b9-8d98a628d82d\", \"categories\": [0], \"series\": [{\"data\": [0.014509132245016376]}]}, {\"name\": \"normalized_root_mean_squared_log_error\", \"run_id\": \"AutoML_f37e0eb4-3083-4265-b7b9-8d98a628d82d\", \"categories\": [0], \"series\": [{\"data\": [0.04236093258268205]}]}, {\"name\": \"root_mean_squared_log_error\", \"run_id\": \"AutoML_f37e0eb4-3083-4265-b7b9-8d98a628d82d\", \"categories\": [0], \"series\": [{\"data\": [0.1302261310916825]}]}, {\"name\": \"normalized_mean_absolute_error\", \"run_id\": \"AutoML_f37e0eb4-3083-4265-b7b9-8d98a628d82d\", \"categories\": [0], \"series\": [{\"data\": [0.021677741931194747]}]}, {\"name\": \"r2_score\", \"run_id\": \"AutoML_f37e0eb4-3083-4265-b7b9-8d98a628d82d\", \"categories\": [0], \"series\": [{\"data\": [0.8942710428327086]}]}], \"run_logs\": \"\\nRun is completed.\", \"graph\": {}, \"widget_settings\": {\"childWidgetDisplay\": \"popup\", \"send_telemetry\": false, \"log_level\": \"INFO\", \"sdk_version\": \"1.32.0\"}, \"loading\": false}"
          },
          "metadata": {}
        },
        {
          "output_type": "display_data",
          "data": {
            "text/plain": "<IPython.core.display.HTML object>",
            "text/html": "<table style=\"width:100%\"><tr><th>Experiment</th><th>Id</th><th>Type</th><th>Status</th><th>Details Page</th><th>Docs Page</th></tr><tr><td>Ames-housing-AutoML</td><td>AutoML_f37e0eb4-3083-4265-b7b9-8d98a628d82d</td><td>automl</td><td>NotStarted</td><td><a href=\"https://ml.azure.com/runs/AutoML_f37e0eb4-3083-4265-b7b9-8d98a628d82d?wsid=/subscriptions/d7f39349-a66b-446e-aba6-0053c2cf1c11/resourcegroups/aml-quickstarts-154592/workspaces/quick-starts-ws-154592&amp;tid=660b3398-b80e-49d2-bc5b-ac1dc93b5254\" target=\"_blank\" rel=\"noopener\">Link to Azure Machine Learning studio</a></td><td><a href=\"https://docs.microsoft.com/en-us/python/api/overview/azure/ml/intro?view=azure-ml-py\" target=\"_blank\" rel=\"noopener\">Link to Documentation</a></td></tr></table>"
          },
          "metadata": {}
        },
        {
          "output_type": "stream",
          "name": "stdout",
          "text": [
            "\n",
            "Current status: FeaturesGeneration. Generating features for the dataset.\n",
            "Current status: DatasetFeaturization. Beginning to fit featurizers and featurize the dataset.\n",
            "Current status: DatasetCrossValidationSplit. Generating individually featurized CV splits.\n",
            "Current status: ModelSelection. Beginning model selection.\n",
            "\n",
            "****************************************************************************************************\n",
            "DATA GUARDRAILS: \n",
            "\n",
            "TYPE:         Missing feature values imputation\n",
            "STATUS:       PASSED\n",
            "DESCRIPTION:  No feature missing values were detected in the training data.\n",
            "              Learn more about missing value imputation: https://aka.ms/AutomatedMLFeaturization\n",
            "\n",
            "****************************************************************************************************\n",
            "\n",
            "TYPE:         High cardinality feature detection\n",
            "STATUS:       PASSED\n",
            "DESCRIPTION:  Your inputs were analyzed, and no high cardinality features were detected.\n",
            "              Learn more about high cardinality feature handling: https://aka.ms/AutomatedMLFeaturization\n",
            "\n",
            "****************************************************************************************************\n",
            "\n",
            "****************************************************************************************************\n",
            "ITERATION: The iteration being evaluated.\n",
            "PIPELINE: A summary description of the pipeline being evaluated.\n",
            "DURATION: Time taken for the current iteration.\n",
            "METRIC: The result of computing score on the fitted pipeline.\n",
            "BEST: The best observed score thus far.\n",
            "****************************************************************************************************\n",
            "\n",
            " ITERATION   PIPELINE                                       DURATION      METRIC      BEST\n",
            "         3   StandardScalerWrapper XGBoostRegressor         0:00:54       0.0383    0.0383\n",
            "         0   MaxAbsScaler LightGBM                          0:00:54       0.0406    0.0383\n",
            "         2   StandardScalerWrapper LightGBM                 0:00:55       0.0406    0.0383\n",
            "         6   MaxAbsScaler ElasticNet                        0:01:03       0.0497    0.0383\n",
            "         7   MaxAbsScaler ElasticNet                        0:01:00       0.0521    0.0383\n",
            "         8   MaxAbsScaler ExtremeRandomTrees                0:00:55       0.0474    0.0383\n",
            "         1   MaxAbsScaler XGBoostRegressor                  0:05:35       0.0383    0.0383\n",
            "         4   MaxAbsScaler ElasticNet                        0:05:34       0.0486    0.0383\n",
            "         5   StandardScalerWrapper ElasticNet               0:05:26       0.0519    0.0383\n",
            "         9   StandardScalerWrapper ElasticNet               0:01:00       0.0497    0.0383\n",
            "        10   StandardScalerWrapper ElasticNet               0:00:57       0.0517    0.0383\n",
            "        11   StandardScalerWrapper ElasticNet               0:00:57       0.0521    0.0383\n",
            "        12   MaxAbsScaler RandomForest                      0:00:52       0.0648    0.0383\n",
            "        13   StandardScalerWrapper ElasticNet               0:00:58       0.0475    0.0383\n",
            "        14   StandardScalerWrapper ElasticNet               0:00:59       0.0455    0.0383\n",
            "        15   StandardScalerWrapper ElasticNet               0:00:59       0.0497    0.0383\n",
            "        16   StandardScalerWrapper ElasticNet               0:00:55       0.0448    0.0383\n",
            "        17   StandardScalerWrapper ElasticNet               0:01:05       0.0505    0.0383\n",
            "        18   StandardScalerWrapper DecisionTree             0:00:52       0.0639    0.0383\n",
            "        20   MaxAbsScaler DecisionTree                      0:00:53       0.0536    0.0383\n",
            "        19   StandardScalerWrapper ElasticNet               0:00:59       0.0495    0.0383\n",
            "        21   StandardScalerWrapper RandomForest             0:00:52       0.0518    0.0383\n",
            "        22   StandardScalerWrapper RandomForest             0:00:54       0.0560    0.0383\n",
            "        23   StandardScalerWrapper ExtremeRandomTrees       0:00:52       0.0499    0.0383\n",
            "        24   MaxAbsScaler ExtremeRandomTrees                0:00:59       0.0629    0.0383\n",
            "        25   SparseNormalizer XGBoostRegressor              0:01:16       0.0392    0.0383\n",
            "        26   MaxAbsScaler RandomForest                      0:00:55       0.0584    0.0383\n",
            "        27   MaxAbsScaler RandomForest                      0:00:54       0.0561    0.0383\n",
            "        28   MaxAbsScaler RandomForest                      0:00:55       0.0524    0.0383\n",
            "        29   MaxAbsScaler GradientBoosting                  0:00:58       0.0515    0.0383\n",
            "        31   StandardScalerWrapper RandomForest             0:00:52       0.0492    0.0383\n",
            "        32   StandardScalerWrapper LightGBM                 0:00:56       0.0421    0.0383\n",
            "        30   SparseNormalizer XGBoostRegressor              0:01:22       0.0440    0.0383\n",
            "        33   StandardScalerWrapper ExtremeRandomTrees       0:00:34       0.0595    0.0383\n",
            "        34                                                  0:00:16          nan    0.0383\n",
            "        35                                                  0:00:08          nan    0.0383\n",
            "        36    VotingEnsemble                                0:01:41       0.0358    0.0358\n"
          ]
        },
        {
          "output_type": "execute_result",
          "execution_count": 8,
          "data": {
            "text/plain": "{'runId': 'AutoML_f37e0eb4-3083-4265-b7b9-8d98a628d82d',\n 'target': 'cpu-cluster',\n 'status': 'Completed',\n 'startTimeUtc': '2021-08-15T13:35:15.709184Z',\n 'endTimeUtc': '2021-08-15T14:00:29.151727Z',\n 'properties': {'num_iterations': '1000',\n  'training_type': 'TrainFull',\n  'acquisition_function': 'EI',\n  'primary_metric': 'normalized_root_mean_squared_error',\n  'train_split': '0',\n  'acquisition_parameter': '0',\n  'num_cross_validation': '3',\n  'target': 'cpu-cluster',\n  'AMLSettingsJsonString': '{\"path\":null,\"name\":\"Ames-housing-AutoML\",\"subscription_id\":\"d7f39349-a66b-446e-aba6-0053c2cf1c11\",\"resource_group\":\"aml-quickstarts-154592\",\"workspace_name\":\"quick-starts-ws-154592\",\"region\":\"southcentralus\",\"compute_target\":\"cpu-cluster\",\"spark_service\":null,\"azure_service\":\"remote\",\"many_models\":false,\"pipeline_fetch_max_batch_size\":1,\"enable_batch_run\":false,\"enable_run_restructure\":false,\"start_auxiliary_runs_before_parent_complete\":false,\"enable_code_generation\":false,\"iterations\":1000,\"primary_metric\":\"normalized_root_mean_squared_error\",\"task_type\":\"regression\",\"data_script\":null,\"test_size\":0.0,\"validation_size\":0.0,\"n_cross_validations\":3,\"y_min\":null,\"y_max\":null,\"num_classes\":null,\"featurization\":\"auto\",\"_ignore_package_version_incompatibilities\":false,\"is_timeseries\":false,\"max_cores_per_iteration\":-1,\"max_concurrent_iterations\":4,\"iteration_timeout_minutes\":5,\"mem_in_mb\":null,\"enforce_time_on_windows\":false,\"experiment_timeout_minutes\":120,\"experiment_exit_score\":null,\"whitelist_models\":null,\"blacklist_algos\":[\"TensorFlowDNN\",\"TensorFlowLinearRegressor\"],\"supported_models\":[\"FastLinearRegressor\",\"TensorFlowDNN\",\"LightGBM\",\"GradientBoosting\",\"KNN\",\"XGBoostRegressor\",\"LassoLars\",\"ExtremeRandomTrees\",\"SGD\",\"OnlineGradientDescentRegressor\",\"DecisionTree\",\"RandomForest\",\"TensorFlowLinearRegressor\",\"ElasticNet\"],\"private_models\":[],\"auto_blacklist\":true,\"blacklist_samples_reached\":false,\"exclude_nan_labels\":true,\"verbosity\":20,\"_debug_log\":\"azureml_automl.log\",\"show_warnings\":false,\"model_explainability\":true,\"service_url\":null,\"sdk_url\":null,\"sdk_packages\":null,\"enable_onnx_compatible_models\":true,\"enable_split_onnx_featurizer_estimator_models\":false,\"vm_type\":\"STANDARD_D2_V2\",\"telemetry_verbosity\":20,\"send_telemetry\":true,\"enable_dnn\":false,\"scenario\":\"SDK-1.13.0\",\"environment_label\":null,\"save_mlflow\":false,\"force_text_dnn\":false,\"enable_feature_sweeping\":false,\"enable_early_stopping\":true,\"early_stopping_n_iters\":10,\"metrics\":null,\"enable_metric_confidence\":false,\"enable_ensembling\":true,\"enable_stack_ensembling\":false,\"ensemble_iterations\":15,\"enable_tf\":false,\"enable_subsampling\":null,\"subsample_seed\":null,\"enable_nimbusml\":false,\"enable_streaming\":false,\"force_streaming\":false,\"track_child_runs\":true,\"allowed_private_models\":[],\"label_column_name\":\"SalePrice\",\"weight_column_name\":null,\"cv_split_column_names\":null,\"enable_local_managed\":false,\"_local_managed_run_id\":null,\"cost_mode\":1,\"lag_length\":0,\"metric_operation\":\"minimize\",\"preprocess\":true}',\n  'DataPrepJsonString': '{\\\\\"training_data\\\\\": {\\\\\"datasetId\\\\\": \\\\\"8af904e8-3523-402d-b570-868f8accd1e9\\\\\"}, \\\\\"datasets\\\\\": 0}',\n  'EnableSubsampling': None,\n  'runTemplate': 'AutoML',\n  'azureml.runsource': 'automl',\n  'display_task_type': 'regression',\n  'dependencies_versions': '{\"azureml-widgets\": \"1.32.0\", \"azureml-train\": \"1.32.0\", \"azureml-train-restclients-hyperdrive\": \"1.32.0\", \"azureml-train-core\": \"1.32.0\", \"azureml-train-automl\": \"1.32.0\", \"azureml-train-automl-runtime\": \"1.32.0\", \"azureml-train-automl-client\": \"1.32.0\", \"azureml-tensorboard\": \"1.32.0\", \"azureml-telemetry\": \"1.32.0\", \"azureml-sdk\": \"1.32.0\", \"azureml-samples\": \"0+unknown\", \"azureml-responsibleai\": \"1.32.0\", \"azureml-pipeline\": \"1.32.0\", \"azureml-pipeline-steps\": \"1.32.0\", \"azureml-pipeline-core\": \"1.32.0\", \"azureml-opendatasets\": \"1.32.0\", \"azureml-model-management-sdk\": \"1.0.1b6.post1\", \"azureml-mlflow\": \"1.32.0\", \"azureml-interpret\": \"1.32.0\", \"azureml-explain-model\": \"1.32.0\", \"azureml-defaults\": \"1.32.0\", \"azureml-dataset-runtime\": \"1.32.0\", \"azureml-dataprep\": \"2.18.0\", \"azureml-dataprep-rslex\": \"1.16.1\", \"azureml-dataprep-native\": \"36.0.0\", \"azureml-datadrift\": \"1.32.0\", \"azureml-core\": \"1.32.0\", \"azureml-contrib-services\": \"1.32.0\", \"azureml-contrib-server\": \"1.32.0\", \"azureml-contrib-reinforcementlearning\": \"1.32.0\", \"azureml-contrib-pipeline-steps\": \"1.32.0\", \"azureml-contrib-notebook\": \"1.32.0\", \"azureml-contrib-fairness\": \"1.32.0\", \"azureml-contrib-dataset\": \"1.32.0\", \"azureml-cli-common\": \"1.32.0\", \"azureml-automl-runtime\": \"1.32.0\", \"azureml-automl-dnn-nlp\": \"1.32.0\", \"azureml-automl-core\": \"1.32.0\", \"azureml-accel-models\": \"1.32.0\"}',\n  '_aml_system_scenario_identification': 'Remote.Parent',\n  'ClientType': 'SDK',\n  'environment_cpu_name': 'AzureML-AutoML',\n  'environment_cpu_label': 'prod',\n  'environment_gpu_name': 'AzureML-AutoML-GPU',\n  'environment_gpu_label': 'prod',\n  'root_attribution': 'automl',\n  'attribution': 'AutoML',\n  'Orchestrator': 'AutoML',\n  'CancelUri': 'https://southcentralus.api.azureml.ms/jasmine/v1.0/subscriptions/d7f39349-a66b-446e-aba6-0053c2cf1c11/resourceGroups/aml-quickstarts-154592/providers/Microsoft.MachineLearningServices/workspaces/quick-starts-ws-154592/experimentids/7a49c19c-78a8-4a69-a0c3-3849bbc25e36/cancel/AutoML_f37e0eb4-3083-4265-b7b9-8d98a628d82d',\n  'ClientSdkVersion': '1.33.0',\n  'snapshotId': '00000000-0000-0000-0000-000000000000',\n  'SetupRunId': 'AutoML_f37e0eb4-3083-4265-b7b9-8d98a628d82d_setup',\n  'SetupRunContainerId': 'dcid.AutoML_f37e0eb4-3083-4265-b7b9-8d98a628d82d_setup',\n  'FeaturizationRunJsonPath': 'featurizer_container.json',\n  'FeaturizationRunId': 'AutoML_f37e0eb4-3083-4265-b7b9-8d98a628d82d_featurize',\n  'ProblemInfoJsonString': '{\"dataset_num_categorical\": 0, \"is_sparse\": true, \"subsampling\": false, \"has_extra_col\": true, \"dataset_classes\": 663, \"dataset_features\": 453, \"dataset_samples\": 1460, \"single_frequency_class_detected\": false}',\n  'ModelExplainRunId': 'AutoML_f37e0eb4-3083-4265-b7b9-8d98a628d82d_ModelExplain'},\n 'inputDatasets': [{'dataset': {'id': '8af904e8-3523-402d-b570-868f8accd1e9'}, 'consumptionDetails': {'type': 'RunInput', 'inputName': 'training_data', 'mechanism': 'Direct'}}],\n 'outputDatasets': [],\n 'logFiles': {},\n 'submittedBy': 'ODL_User 154592'}"
          },
          "metadata": {}
        }
      ],
      "execution_count": 8,
      "metadata": {
        "gather": {
          "logged": 1629036045022
        },
        "jupyter": {
          "outputs_hidden": false,
          "source_hidden": false
        },
        "nteract": {
          "transient": {
            "deleting": false
          }
        }
      }
    },
    {
      "cell_type": "markdown",
      "source": [
        "## Best Model\n",
        "\n",
        "TODO: In the cell below, get the best model from the automl experiments and display all the properties of the model.\n",
        "\n"
      ],
      "metadata": {}
    },
    {
      "cell_type": "code",
      "source": [
        "# Get your best run and save the model from that run.\n",
        "best_run, fitted_model = aml_run.get_output()\n",
        "print(best_run)\n",
        "print(fitted_model)"
      ],
      "outputs": [
        {
          "output_type": "stream",
          "name": "stderr",
          "text": [
            "WARNING:root:The version of the SDK does not match the version the model was trained on.\n",
            "WARNING:root:The consistency in the result may not be guaranteed.\n",
            "WARNING:root:Package:azureml-automl-core, training version:1.33.0, current version:1.32.0\n",
            "Package:azureml-automl-runtime, training version:1.33.0, current version:1.32.0\n",
            "Package:azureml-core, training version:1.33.0, current version:1.32.0\n",
            "Package:azureml-dataprep, training version:2.20.1, current version:2.18.0\n",
            "Package:azureml-dataprep-native, training version:38.0.0, current version:36.0.0\n",
            "Package:azureml-dataprep-rslex, training version:1.18.0, current version:1.16.1\n",
            "Package:azureml-dataset-runtime, training version:1.33.0, current version:1.32.0\n",
            "Package:azureml-defaults, training version:1.33.0, current version:1.32.0\n",
            "Package:azureml-interpret, training version:1.33.0, current version:1.32.0\n",
            "Package:azureml-mlflow, training version:1.33.0, current version:1.32.0\n",
            "Package:azureml-pipeline-core, training version:1.33.0, current version:1.32.0\n",
            "Package:azureml-responsibleai, training version:1.33.0, current version:1.32.0\n",
            "Package:azureml-telemetry, training version:1.33.0, current version:1.32.0\n",
            "Package:azureml-train-automl-client, training version:1.33.0, current version:1.32.0\n",
            "Package:azureml-train-automl-runtime, training version:1.33.0, current version:1.32.0\n",
            "WARNING:root:Please ensure the version of your local conda dependencies match the version on which your model was trained in order to properly retrieve your model.\n"
          ]
        },
        {
          "output_type": "stream",
          "name": "stdout",
          "text": [
            "Run(Experiment: Ames-housing-AutoML,\n",
            "Id: AutoML_f37e0eb4-3083-4265-b7b9-8d98a628d82d_36,\n",
            "Type: azureml.scriptrun,\n",
            "Status: Completed)\n",
            "RegressionPipeline(pipeline=Pipeline(memory=None,\n",
            "                                     steps=[('datatransformer',\n",
            "                                             DataTransformer(enable_dnn=False, enable_feature_sweeping=False, feature_sweeping_config={}, feature_sweeping_timeout=86400, featurization_config=None, force_text_dnn=False, is_cross_validation=True, is_onnx_compatible=True, observer=None, task='regression', working_dir='/mnt/batch/ta...\n",
            "), random_state=0, reg_alpha=1.4583333333333335, reg_lambda=2.3958333333333335, subsample=0.6, tree_method='hist'))], verbose=False)), ('7', Pipeline(memory=None, steps=[('maxabsscaler', MaxAbsScaler(copy=True)), ('elasticnet', ElasticNet(alpha=0.001, copy_X=True, fit_intercept=True, l1_ratio=1, max_iter=1000, normalize=False, positive=False, precompute=False, random_state=None, selection='cyclic', tol=0.0001, warm_start=False))], verbose=False))], weights=[0.06666666666666667, 0.4, 0.4, 0.13333333333333333]))],\n",
            "                                     verbose=False),\n",
            "                   stddev=[25779.32902905745])\n"
          ]
        }
      ],
      "execution_count": 9,
      "metadata": {
        "gather": {
          "logged": 1629036093375
        },
        "jupyter": {
          "outputs_hidden": false,
          "source_hidden": false
        },
        "nteract": {
          "transient": {
            "deleting": false
          }
        }
      }
    },
    {
      "cell_type": "code",
      "source": [
        "best_run_metrics = best_run.get_metrics()\n",
        "best_run_metrics"
      ],
      "outputs": [
        {
          "output_type": "execute_result",
          "execution_count": 10,
          "data": {
            "text/plain": "{'r2_score': 0.8942710428327086,\n 'root_mean_squared_log_error': 0.1302261310916825,\n 'explained_variance': 0.8944568099173953,\n 'median_absolute_error': 10448.026129636293,\n 'normalized_median_absolute_error': 0.014509132245016376,\n 'root_mean_squared_error': 25771.906465315402,\n 'normalized_root_mean_squared_log_error': 0.04236093258268205,\n 'normalized_mean_absolute_error': 0.021677741931194747,\n 'normalized_root_mean_squared_error': 0.03578934379296681,\n 'mean_absolute_error': 15610.141964653338,\n 'mean_absolute_percentage_error': 9.197768325624113,\n 'spearman_correlation': 0.9562738525955498,\n 'residuals': 'aml://artifactId/ExperimentRun/dcid.AutoML_f37e0eb4-3083-4265-b7b9-8d98a628d82d_36/residuals',\n 'predicted_true': 'aml://artifactId/ExperimentRun/dcid.AutoML_f37e0eb4-3083-4265-b7b9-8d98a628d82d_36/predicted_true'}"
          },
          "metadata": {}
        }
      ],
      "execution_count": 10,
      "metadata": {
        "gather": {
          "logged": 1629036109480
        }
      }
    },
    {
      "cell_type": "code",
      "source": [
        "details = best_run.get_details()\n",
        "# A pattern for extracting structure of the VotingEnsemble model\n",
        "voting_ensemble = {k:ast.literal_eval(details['properties'][k]) for k in ['ensembled_algorithms', 'ensemble_weights']}\n",
        "pd.DataFrame(voting_ensemble).sort_values(by='ensemble_weights', ascending=False)"
      ],
      "outputs": [
        {
          "output_type": "execute_result",
          "execution_count": 11,
          "data": {
            "text/plain": "  ensembled_algorithms  ensemble_weights\n1     XGBoostRegressor              0.40\n2     XGBoostRegressor              0.40\n3           ElasticNet              0.13\n0     XGBoostRegressor              0.07",
            "text/html": "<div>\n<style scoped>\n    .dataframe tbody tr th:only-of-type {\n        vertical-align: middle;\n    }\n\n    .dataframe tbody tr th {\n        vertical-align: top;\n    }\n\n    .dataframe thead th {\n        text-align: right;\n    }\n</style>\n<table border=\"1\" class=\"dataframe\">\n  <thead>\n    <tr style=\"text-align: right;\">\n      <th></th>\n      <th>ensembled_algorithms</th>\n      <th>ensemble_weights</th>\n    </tr>\n  </thead>\n  <tbody>\n    <tr>\n      <th>1</th>\n      <td>XGBoostRegressor</td>\n      <td>0.40</td>\n    </tr>\n    <tr>\n      <th>2</th>\n      <td>XGBoostRegressor</td>\n      <td>0.40</td>\n    </tr>\n    <tr>\n      <th>3</th>\n      <td>ElasticNet</td>\n      <td>0.13</td>\n    </tr>\n    <tr>\n      <th>0</th>\n      <td>XGBoostRegressor</td>\n      <td>0.07</td>\n    </tr>\n  </tbody>\n</table>\n</div>"
          },
          "metadata": {}
        }
      ],
      "execution_count": 11,
      "metadata": {
        "gather": {
          "logged": 1629036125304
        }
      }
    },
    {
      "cell_type": "code",
      "source": [
        "# Save metrics and details for ex-post examination\n",
        "os.makedirs('./outputs', exist_ok=True)\n",
        "with open('outputs/best_aml_metrics.json', 'w') as file:\n",
        "    json.dump(best_run_metrics, file)\n",
        "with open('outputs/best_aml_details.txt', 'w') as file:\n",
        "    file.write(str(details))"
      ],
      "outputs": [],
      "execution_count": 12,
      "metadata": {
        "gather": {
          "logged": 1629036142080
        }
      }
    },
    {
      "cell_type": "code",
      "source": [
        "# Explore the main model in the ensemble\n",
        "main_dict = {}\n",
        "main_dict['preprocessor'] = str(type(fitted_model.steps[1][1].get_params()['estimators'][0][1].get_params()['steps'][0][1]))"
      ],
      "outputs": [],
      "execution_count": 13,
      "metadata": {
        "gather": {
          "logged": 1629036158474
        }
      }
    },
    {
      "cell_type": "code",
      "source": [
        "main_dict['estimator_type'] = str(type(fitted_model.steps[1][1].get_params()['estimators'][0][1].get_params()['steps'][1][1]))"
      ],
      "outputs": [],
      "execution_count": 14,
      "metadata": {
        "gather": {
          "logged": 1629036161063
        }
      }
    },
    {
      "cell_type": "code",
      "source": [
        "main_dict['estimator_param'] = fitted_model.steps[1][1].get_params()['estimators'][0][1].get_params()['steps'][1][1].get_params()"
      ],
      "outputs": [],
      "execution_count": 15,
      "metadata": {
        "gather": {
          "logged": 1629036163716
        }
      }
    },
    {
      "cell_type": "code",
      "source": [
        "# Save details of the main model for ex-post examination\n",
        "with open('outputs/best_aml_main_model.json', 'w') as file:\n",
        "    json.dump(main_dict, file)\n",
        "main_dict"
      ],
      "outputs": [
        {
          "output_type": "execute_result",
          "execution_count": 16,
          "data": {
            "text/plain": "{'preprocessor': \"<class 'azureml.automl.runtime.shared.model_wrappers.StandardScalerWrapper'>\",\n 'estimator_type': \"<class 'azureml.automl.runtime.shared.model_wrappers.XGBoostRegressor'>\",\n 'estimator_param': {'base_score': 0.5,\n  'booster': 'gbtree',\n  'colsample_bylevel': 1,\n  'colsample_bynode': 1,\n  'colsample_bytree': 1,\n  'gamma': 0,\n  'importance_type': 'gain',\n  'learning_rate': 0.1,\n  'max_delta_step': 0,\n  'max_depth': 3,\n  'min_child_weight': 1,\n  'missing': nan,\n  'n_estimators': 100,\n  'n_jobs': -1,\n  'nthread': None,\n  'objective': 'reg:squarederror',\n  'random_state': 0,\n  'reg_alpha': 0,\n  'reg_lambda': 1,\n  'scale_pos_weight': 1,\n  'seed': None,\n  'silent': None,\n  'subsample': 1,\n  'verbosity': 0,\n  'tree_method': 'auto',\n  'verbose': -10}}"
          },
          "metadata": {}
        }
      ],
      "execution_count": 16,
      "metadata": {
        "gather": {
          "logged": 1629036167589
        }
      }
    },
    {
      "cell_type": "code",
      "source": [
        "# Check the path to the model\n",
        "for i,n in enumerate(best_run.get_file_names()):\n",
        "    print(i,n)"
      ],
      "outputs": [
        {
          "output_type": "stream",
          "name": "stdout",
          "text": [
            "0 automl_driver.py\n",
            "1 azureml-logs/55_azureml-execution-tvmps_279e15d13d14ec0a34b60ace24d1ccca8c32463f2e0b8b8b6d704797891348d9_d.txt\n",
            "2 azureml-logs/65_job_prep-tvmps_279e15d13d14ec0a34b60ace24d1ccca8c32463f2e0b8b8b6d704797891348d9_d.txt\n",
            "3 azureml-logs/70_driver_log.txt\n",
            "4 azureml-logs/75_job_post-tvmps_279e15d13d14ec0a34b60ace24d1ccca8c32463f2e0b8b8b6d704797891348d9_d.txt\n",
            "5 azureml-logs/process_info.json\n",
            "6 azureml-logs/process_status.json\n",
            "7 explanation/72812e7e/expected_values.interpret.json\n",
            "8 explanation/72812e7e/features.interpret.json\n",
            "9 explanation/72812e7e/global_names/0.interpret.json\n",
            "10 explanation/72812e7e/global_rank/0.interpret.json\n",
            "11 explanation/72812e7e/global_values/0.interpret.json\n",
            "12 explanation/72812e7e/local_importance_values.interpret.json\n",
            "13 explanation/72812e7e/rich_metadata.interpret.json\n",
            "14 explanation/72812e7e/true_ys_viz.interpret.json\n",
            "15 explanation/72812e7e/visualization_dict.interpret.json\n",
            "16 explanation/72812e7e/ys_pred_viz.interpret.json\n",
            "17 explanation/d520150c/eval_data_viz.interpret.json\n",
            "18 explanation/d520150c/expected_values.interpret.json\n",
            "19 explanation/d520150c/features.interpret.json\n",
            "20 explanation/d520150c/global_names/0.interpret.json\n",
            "21 explanation/d520150c/global_rank/0.interpret.json\n",
            "22 explanation/d520150c/global_values/0.interpret.json\n",
            "23 explanation/d520150c/local_importance_values.interpret.json\n",
            "24 explanation/d520150c/rich_metadata.interpret.json\n",
            "25 explanation/d520150c/true_ys_viz.interpret.json\n",
            "26 explanation/d520150c/visualization_dict.interpret.json\n",
            "27 explanation/d520150c/ys_pred_viz.interpret.json\n",
            "28 logs/azureml/96_azureml.log\n",
            "29 logs/azureml/azureml_automl-child.log\n",
            "30 logs/azureml/azureml_automl.log\n",
            "31 logs/azureml/job_prep_azureml.log\n",
            "32 logs/azureml/job_release_azureml.log\n",
            "33 outputs/conda_env_v_1_0_0.yml\n",
            "34 outputs/env_dependencies.json\n",
            "35 outputs/internal_cross_validated_models.pkl\n",
            "36 outputs/model.onnx\n",
            "37 outputs/model.pkl\n",
            "38 outputs/model_onnx.json\n",
            "39 outputs/pipeline_graph.json\n",
            "40 outputs/scoring_file_v_1_0_0.py\n",
            "41 outputs/scoring_file_v_2_0_0.py\n",
            "42 predicted_true\n",
            "43 residuals\n"
          ]
        }
      ],
      "execution_count": 17,
      "metadata": {
        "gather": {
          "logged": 1629036187839
        },
        "jupyter": {
          "outputs_hidden": false,
          "source_hidden": false
        },
        "nteract": {
          "transient": {
            "deleting": false
          }
        }
      }
    },
    {
      "cell_type": "code",
      "source": [
        "# Save the best model\n",
        "os.makedirs('./outputs/', exist_ok=True)\n",
        "for i in range(33,42):\n",
        "    print(best_run.get_file_names()[i])\n",
        "    best_run.download_file(best_run.get_file_names()[i], output_file_path='./outputs/')"
      ],
      "outputs": [
        {
          "output_type": "stream",
          "name": "stdout",
          "text": [
            "outputs/conda_env_v_1_0_0.yml\n",
            "outputs/env_dependencies.json\n",
            "outputs/internal_cross_validated_models.pkl\n",
            "outputs/model.onnx\n",
            "outputs/model.pkl\n",
            "outputs/model_onnx.json\n",
            "outputs/pipeline_graph.json\n",
            "outputs/scoring_file_v_1_0_0.py\n",
            "outputs/scoring_file_v_2_0_0.py\n"
          ]
        }
      ],
      "execution_count": 18,
      "metadata": {
        "gather": {
          "logged": 1629036249305
        }
      }
    },
    {
      "cell_type": "code",
      "source": [
        "os.rename('outputs/model.pkl', 'outputs/aml_model.pkl')"
      ],
      "outputs": [],
      "execution_count": 22,
      "metadata": {
        "collapsed": true,
        "jupyter": {
          "source_hidden": false,
          "outputs_hidden": false
        },
        "nteract": {
          "transient": {
            "deleting": false
          }
        },
        "gather": {
          "logged": 1629036431704
        }
      }
    },
    {
      "cell_type": "markdown",
      "source": [
        "\n",
        "Remember you have to deploy only one of the two models you trained.. Perform the steps in the rest of this notebook only if you wish to deploy this model.\n",
        "\n",
        "TODO: In the cell below, register the model, create an inference config and deploy the model as a web service."
      ],
      "metadata": {}
    },
    {
      "cell_type": "code",
      "source": [
        "# Register the best model\n",
        "model = Model.register(ws, model_path='outputs/aml_model.pkl', model_name='Ames-Housing-AutoML-Model', tags=best_run_metrics)\n",
        "print(model.name, model.id, model.version, sep='\\t')"
      ],
      "outputs": [
        {
          "output_type": "stream",
          "name": "stdout",
          "text": [
            "Registering model Ames-Housing-AutoML-Model\n",
            "Ames-Housing-AutoML-Model\tAmes-Housing-AutoML-Model:1\t1\n"
          ]
        }
      ],
      "execution_count": 24,
      "metadata": {
        "gather": {
          "logged": 1629038256297
        }
      }
    },
    {
      "cell_type": "code",
      "source": [
        "from azureml.core.webservice import AciWebservice\n",
        "aciconfig = AciWebservice.deploy_configuration(cpu_cores=1,\n",
        "                                              memory_gb=1,\n",
        "                                              tags={\"data\" : \"Kaggle\", \"method\" : \"AutoML\"},\n",
        "                                              description=\"Predict Ames Housing Prices\",\n",
        "                                              auth_enabled=True,\n",
        "                                              enable_app_insights=True)"
      ],
      "outputs": [],
      "execution_count": 25,
      "metadata": {
        "gather": {
          "logged": 1629038264016
        }
      }
    },
    {
      "cell_type": "code",
      "source": [
        "from azureml.core.environment import Environment\n",
        "from azureml.core.conda_dependencies import CondaDependencies\n",
        "\n",
        "env = Environment(\"project-env\")\n",
        "cd = CondaDependencies('outputs/conda_env_v_1_0_0.yml')\n",
        "env.python.conda_dependencies = cd\n",
        "# Register environment to re-use later\n",
        "env.register(workspace=ws)"
      ],
      "outputs": [
        {
          "output_type": "execute_result",
          "execution_count": 26,
          "data": {
            "text/plain": "{\n    \"databricks\": {\n        \"eggLibraries\": [],\n        \"jarLibraries\": [],\n        \"mavenLibraries\": [],\n        \"pypiLibraries\": [],\n        \"rcranLibraries\": []\n    },\n    \"docker\": {\n        \"arguments\": [],\n        \"baseDockerfile\": null,\n        \"baseImage\": \"mcr.microsoft.com/azureml/openmpi3.1.2-ubuntu18.04:20210615.v1\",\n        \"baseImageRegistry\": {\n            \"address\": null,\n            \"password\": null,\n            \"registryIdentity\": null,\n            \"username\": null\n        },\n        \"enabled\": false,\n        \"platform\": {\n            \"architecture\": \"amd64\",\n            \"os\": \"Linux\"\n        },\n        \"sharedVolumes\": true,\n        \"shmSize\": null\n    },\n    \"environmentVariables\": {\n        \"EXAMPLE_ENV_VAR\": \"EXAMPLE_VALUE\"\n    },\n    \"inferencingStackVersion\": null,\n    \"name\": \"project-env\",\n    \"python\": {\n        \"baseCondaEnvironment\": null,\n        \"condaDependencies\": {\n            \"channels\": [\n                \"anaconda\",\n                \"conda-forge\"\n            ],\n            \"dependencies\": [\n                \"python=3.6.2\",\n                {\n                    \"pip\": [\n                        \"azureml-train-automl-runtime==1.33.0\",\n                        \"inference-schema\",\n                        \"azureml-interpret==1.33.0\",\n                        \"azureml-defaults==1.33.0\"\n                    ]\n                },\n                \"numpy>=1.16.0,<1.19.0\",\n                \"pandas==0.25.1\",\n                \"scikit-learn==0.22.1\",\n                \"py-xgboost<=0.90\",\n                \"fbprophet==0.5\",\n                \"holidays==0.9.11\",\n                \"psutil>=5.2.2,<6.0.0\"\n            ],\n            \"name\": \"azureml_59fba923920e15fa8fbe872c700ad33f\"\n        },\n        \"condaDependenciesFile\": null,\n        \"interpreterPath\": \"python\",\n        \"userManagedDependencies\": false\n    },\n    \"r\": null,\n    \"spark\": {\n        \"packages\": [],\n        \"precachePackages\": true,\n        \"repositories\": []\n    },\n    \"version\": \"1\"\n}"
          },
          "metadata": {}
        }
      ],
      "execution_count": 26,
      "metadata": {
        "gather": {
          "logged": 1629038274840
        }
      }
    },
    {
      "cell_type": "code",
      "source": [
        "%%time\n",
        "import uuid\n",
        "from azureml.core.webservice import Webservice\n",
        "from azureml.core.model import InferenceConfig\n",
        "from azureml.core.environment import Environment\n",
        "from azureml.core import Workspace\n",
        "from azureml.core.model import Model\n",
        "\n",
        "ws = Workspace.from_config()\n",
        "model = Model(ws, 'Ames-Housing-AutoML-Model')\n",
        "\n",
        "myenv = Environment.get(workspace=ws, name=\"project-env\", version=\"1\")\n",
        "inference_config = InferenceConfig(entry_script=\"outputs/scoring_file_v_1_0_0.py\", environment=myenv)\n",
        "\n",
        "service_name = 'ames-housing-aml-' + str(uuid.uuid4())[:4]\n",
        "service = Model.deploy(workspace=ws,\n",
        "                      name=service_name,\n",
        "                      models=[model],\n",
        "                      inference_config=inference_config,\n",
        "                      deployment_config=aciconfig)\n",
        "\n",
        "service.wait_for_deployment(show_output=True)"
      ],
      "outputs": [
        {
          "output_type": "stream",
          "name": "stdout",
          "text": [
            "Tips: You can try get_logs(): https://aka.ms/debugimage#dockerlog or local deployment: https://aka.ms/debugimage#debug-locally to debug if deployment takes longer than 10 minutes.\n",
            "Running\n",
            "2021-08-15 14:38:08+00:00 Creating Container Registry if not exists.\n",
            "2021-08-15 14:38:09+00:00 Registering the environment.\n",
            "2021-08-15 14:38:11+00:00 Building image."
          ]
        }
      ],
      "execution_count": 27,
      "metadata": {}
    },
    {
      "cell_type": "code",
      "source": [
        "print(service.get_logs())"
      ],
      "outputs": [
        {
          "output_type": "execute_result",
          "execution_count": 61,
          "data": {
            "text/plain": "'http://56120259-5690-491e-a8d6-bc13c75b82de.southcentralus.azurecontainer.io/score'"
          },
          "metadata": {}
        }
      ],
      "execution_count": 61,
      "metadata": {}
    },
    {
      "cell_type": "code",
      "source": [
        "from azureml.core.authentication import InteractiveLoginAuthentication\n",
        "\n",
        "interactive_auth = InteractiveLoginAuthentication()\n",
        "auth_header = interactive_auth.get_authentication_header()"
      ],
      "outputs": [],
      "execution_count": 63,
      "metadata": {}
    },
    {
      "cell_type": "code",
      "source": [
        "# Prepare data for request\r\n",
        "_ , test = train_xgb.load_data_clean()\r\n",
        "test = train_xgb.label_encode(test)\r\n",
        "data = {'data': test.head().to_dict(orient='list')}\r\n",
        "\r\n",
        "# data = {\r\n",
        "#     \"data\":\r\n",
        "#     [\r\n",
        "#         test.iloc[0].to_dict(),\r\n",
        "#         test.iloc[1].to_dict(),\r\n",
        "#     ],\r\n",
        "# }\r\n",
        "# Replace the next cell with the code from 'Consume' tab of the endpoint\r\n",
        "# and delete 'data = {}' assignment as data is defined in this cell!  "
      ],
      "outputs": [],
      "execution_count": null,
      "metadata": {}
    },
    {
      "cell_type": "markdown",
      "source": [
        "TODO: In the cell below, send a request to the web service you deployed to test it."
      ],
      "metadata": {
        "collapsed": true,
        "gather": {
          "logged": 1598431657736
        },
        "jupyter": {
          "outputs_hidden": false,
          "source_hidden": false
        },
        "nteract": {
          "transient": {
            "deleting": false
          }
        }
      }
    },
    {
      "cell_type": "code",
      "source": [
        "import urllib.request\n",
        "import json\n",
        "import os\n",
        "import ssl\n",
        "\n",
        "def allowSelfSignedHttps(allowed):\n",
        "    # bypass the server certificate verification on client side\n",
        "    if allowed and not os.environ.get('PYTHONHTTPSVERIFY', '') and getattr(ssl, '_create_unverified_context', None):\n",
        "        ssl._create_default_https_context = ssl._create_unverified_context\n",
        "\n",
        "allowSelfSignedHttps(True) # this line is needed if you use self-signed certificate in your scoring service.\n",
        "\n",
        "# Request data goes here\n",
        "data = {\n",
        "    \"data\":\n",
        "    [\n",
        "        test.iloc[0].to_dict(),\n",
        "        test.iloc[1].to_dict(),\n",
        "    ],\n",
        "}\n",
        "\n",
        "body = str.encode(json.dumps(data))\n",
        "\n",
        "url = 'http://56120259-5690-491e-a8d6-bc13c75b82de.southcentralus.azurecontainer.io/score'\n",
        "api_key = '' # Replace this with the API key for the web service\n",
        "headers = {'Content-Type':'application/json', 'Authorization':('Bearer '+ api_key)}\n",
        "\n",
        "req = urllib.request.Request(url, body, headers)\n",
        "\n",
        "try:\n",
        "    response = urllib.request.urlopen(req)\n",
        "\n",
        "    result = response.read()\n",
        "    print(result)\n",
        "except urllib.error.HTTPError as error:\n",
        "    print(\"The request failed with status code: \" + str(error.code))\n",
        "\n",
        "    # Print the headers - they include the requert ID and the timestamp, which are useful for debugging the failure\n",
        "    print(error.info())\n",
        "    print(json.loads(error.read().decode(\"utf8\", 'ignore')))"
      ],
      "outputs": [
        {
          "output_type": "stream",
          "name": "stdout",
          "text": [
            "b'\"{\\\\\"result\\\\\": [123002.58819186657, 156797.3439888459]}\"'\n"
          ]
        }
      ],
      "execution_count": 75,
      "metadata": {
        "gather": {
          "logged": 1598432707604
        },
        "jupyter": {
          "outputs_hidden": false,
          "source_hidden": false
        },
        "nteract": {
          "transient": {
            "deleting": false
          }
        }
      }
    },
    {
      "cell_type": "code",
      "source": [],
      "outputs": [],
      "execution_count": null,
      "metadata": {}
    },
    {
      "cell_type": "code",
      "source": [],
      "outputs": [],
      "execution_count": null,
      "metadata": {}
    },
    {
      "cell_type": "code",
      "source": [],
      "outputs": [],
      "execution_count": null,
      "metadata": {}
    },
    {
      "cell_type": "markdown",
      "source": [
        "TODO: In the cell below, print the logs of the web service and delete the service"
      ],
      "metadata": {
        "collapsed": true,
        "gather": {
          "logged": 1598432765711
        },
        "jupyter": {
          "outputs_hidden": false,
          "source_hidden": false
        },
        "nteract": {
          "transient": {
            "deleting": false
          }
        }
      }
    },
    {
      "cell_type": "code",
      "source": [],
      "outputs": [],
      "execution_count": 85,
      "metadata": {}
    },
    {
      "cell_type": "code",
      "source": [
        "service.delete()\n",
        "# Delete() is used to deprovision and delete the AmlCompute target. \n",
        "cpu_cluster.delete()"
      ],
      "outputs": [],
      "execution_count": 86,
      "metadata": {}
    },
    {
      "cell_type": "code",
      "source": [],
      "outputs": [],
      "execution_count": null,
      "metadata": {}
    }
  ],
  "metadata": {
    "kernel_info": {
      "name": "python3"
    },
    "kernelspec": {
      "name": "python3",
      "language": "python",
      "display_name": "Python 3"
    },
    "language_info": {
      "name": "python",
      "version": "3.6.9",
      "mimetype": "text/x-python",
      "codemirror_mode": {
        "name": "ipython",
        "version": 3
      },
      "pygments_lexer": "ipython3",
      "nbconvert_exporter": "python",
      "file_extension": ".py"
    },
    "microsoft": {
      "host": {
        "AzureML": {
          "notebookHasBeenCompleted": true
        }
      }
    },
    "nteract": {
      "version": "nteract-front-end@1.0.0"
    }
  },
  "nbformat": 4,
  "nbformat_minor": 2
}