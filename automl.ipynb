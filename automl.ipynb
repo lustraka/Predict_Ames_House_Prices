{
  "cells": [
    {
      "cell_type": "markdown",
      "source": [
        "# Automated ML\n",
        "\n",
        "TODO: Import Dependencies. In the cell below, import all the dependencies that you will need to complete the project."
      ],
      "metadata": {}
    },
    {
      "cell_type": "code",
      "source": [
        "import train_xgb # The module for loading external data\n",
        "import os\n",
        "import pandas as pd\n",
        "import json\n",
        "import ast\n",
        "import pickle\n",
        "from azureml.core.compute import ComputeTarget, AmlCompute\n",
        "from azureml.core.compute_target import ComputeTargetException\n",
        "from azureml.core import Workspace, Dataset, Experiment, Model\n",
        "from azureml.data.dataset_factory import TabularDatasetFactory\n",
        "from azureml.train.automl import AutoMLConfig\n",
        "from azureml.widgets import RunDetails"
      ],
      "outputs": [],
      "execution_count": 10,
      "metadata": {
        "gather": {
          "logged": 1598423888013
        },
        "jupyter": {
          "outputs_hidden": false,
          "source_hidden": false
        },
        "nteract": {
          "transient": {
            "deleting": false
          }
        }
      }
    },
    {
      "cell_type": "code",
      "source": [
        "ws = Workspace.from_config()\n",
        "print(ws.name, ws.resource_group, ws.location, ws.subscription_id, sep='\\n')"
      ],
      "outputs": [
        {
          "output_type": "stream",
          "name": "stdout",
          "text": [
            "quick-starts-ws-153414\n",
            "aml-quickstarts-153414\n",
            "southcentralus\n",
            "3e42d11f-d64d-4173-af9b-12ecaa1030b3\n"
          ]
        }
      ],
      "execution_count": 2,
      "metadata": {}
    },
    {
      "cell_type": "code",
      "source": [
        "# Create compute cluster\n",
        "# Choose a name for your CPU cluster\n",
        "cpu_cluster_name = \"cpu-cluster\"\n",
        "\n",
        "# Verify that cluster does not exist already\n",
        "try:\n",
        "    cpu_cluster = ComputeTarget(workspace=ws, name=cpu_cluster_name)\n",
        "    print('Found existing cluster, use it.')\n",
        "except ComputeTargetException:\n",
        "    compute_config = AmlCompute.provisioning_configuration(vm_size='STANDARD_D2_V2',\n",
        "                                                           max_nodes=4)\n",
        "    cpu_cluster = ComputeTarget.create(ws, cpu_cluster_name, compute_config)\n",
        "\n",
        "cpu_cluster.wait_for_completion(show_output=True)"
      ],
      "outputs": [
        {
          "output_type": "stream",
          "name": "stdout",
          "text": [
            "Creating......\n",
            "SucceededProvisioning operation finished, operation \"Succeeded\"\n",
            "Succeeded\n",
            "AmlCompute wait for completion finished\n",
            "\n",
            "Minimum number of nodes requested have been provisioned\n"
          ]
        }
      ],
      "execution_count": 3,
      "metadata": {}
    },
    {
      "cell_type": "markdown",
      "source": [
        "## Dataset\n",
        "\n",
        "### Overview\n",
        "TODO: In this markdown cell, give an overview of the dataset you are using. Also mention the task you will be performing.\n",
        "\n",
        "\n",
        "TODO: Get data. In the cell below, write code to access the data you will be using in this project. Remember that the dataset needs to be external."
      ],
      "metadata": {}
    },
    {
      "cell_type": "code",
      "source": [
        "# Try to load the dataset from the workspace. Otherwise, load if from Kaggle\n",
        "found = False\n",
        "ds_key = 'Ames-housing-dataset'\n",
        "ds_desc = 'Ames Housing training data.'\n",
        "\n",
        "if ds_key in ws.datasets.keys():\n",
        "    found = True\n",
        "    dataset = ws.datasets[ds_key]\n",
        "    print(f'Found registered {ds_key}, use it.')\n",
        "    \n",
        "if not found:\n",
        "    train, test = train_xgb.load_data_clean()\n",
        "    print(f\"train.shape = {train.shape}, test.shape = {test.shape}\")\n",
        "    # Register the train dataset\n",
        "    blob = ws.get_default_datastore()\n",
        "    dataset = TabularDatasetFactory.register_pandas_dataframe(train, blob, name=ds_key, description=ds_desc)"
      ],
      "outputs": [
        {
          "output_type": "stream",
          "name": "stdout",
          "text": [
            "train.shape = (1460, 80), test.shape = (1459, 79)\n"
          ]
        },
        {
          "output_type": "stream",
          "name": "stderr",
          "text": [
            "Method register_pandas_dataframe: This is an experimental method, and may change at any time. Please see https://aka.ms/azuremlexperimental for more information.\n"
          ]
        },
        {
          "output_type": "stream",
          "name": "stdout",
          "text": [
            "Validating arguments.\n",
            "Arguments validated.\n",
            "Successfully obtained datastore reference and path.\n",
            "Uploading file to managed-dataset/19aa0e9d-8c98-484c-a035-2a1c6f3b3367/\n",
            "Successfully uploaded file to datastore.\n",
            "Creating and registering a new dataset.\n",
            "Successfully created and registered a new dataset.\n"
          ]
        }
      ],
      "execution_count": 7,
      "metadata": {}
    },
    {
      "cell_type": "code",
      "source": [
        "ds_key in ws.datasets.keys()"
      ],
      "outputs": [
        {
          "output_type": "execute_result",
          "execution_count": 9,
          "data": {
            "text/plain": "True"
          },
          "metadata": {}
        }
      ],
      "execution_count": 9,
      "metadata": {}
    },
    {
      "cell_type": "markdown",
      "source": [
        "## AutoML Configuration\n",
        "\n",
        "TODO: Explain why you chose the automl settings and cofiguration you used below."
      ],
      "metadata": {}
    },
    {
      "cell_type": "code",
      "source": [
        "# Choose a name for experiment\n",
        "experiment_name = 'Ames-housing-AutoML'\n",
        "\n",
        "experiment=Experiment(ws, experiment_name)"
      ],
      "outputs": [],
      "execution_count": 11,
      "metadata": {}
    },
    {
      "cell_type": "code",
      "source": [
        "# Set parameters for AutoMLConfig\n",
        "automl_settings = {\n",
        "    'experiment_timeout_minutes' : 120,\n",
        "    'n_cross_validations' : 3,\n",
        "    'enable_early_stopping' : True,\n",
        "    'iteration_timeout_minutes' : 5,\n",
        "    'max_concurrent_iterations' : 4,\n",
        "    'max_cores_per_iteration' : -1,\n",
        "    'enable_onnx_compatible_models' : True\n",
        "}\n",
        "\n",
        "automl_config = AutoMLConfig(\n",
        "    task='regression',\n",
        "    primary_metric='normalized_root_mean_squared_error',\n",
        "    compute_target=cpu_cluster,\n",
        "    training_data=dataset,\n",
        "    label_column_name='SalePrice',\n",
        "    **automl_settings)"
      ],
      "outputs": [],
      "execution_count": 12,
      "metadata": {
        "gather": {
          "logged": 1598429217746
        },
        "jupyter": {
          "outputs_hidden": false,
          "source_hidden": false
        },
        "nteract": {
          "transient": {
            "deleting": false
          }
        }
      }
    },
    {
      "cell_type": "markdown",
      "source": [
        "## Run Details\n",
        "\n",
        "OPTIONAL: Write about the different models trained and their performance. Why do you think some models did better than others?\n",
        "\n",
        "TODO: In the cell below, use the `RunDetails` widget to show the different experiments."
      ],
      "metadata": {}
    },
    {
      "cell_type": "code",
      "source": [
        "# TODO: Submit your experiment\n",
        "aml_run = experiment.submit(automl_config)\n",
        "RunDetails(aml_run).show()\n",
        "aml_run.wait_for_completion(show_output=True)"
      ],
      "outputs": [
        {
          "output_type": "stream",
          "name": "stdout",
          "text": [
            "Submitting remote run.\n"
          ]
        },
        {
          "output_type": "display_data",
          "data": {
            "text/html": "<table style=\"width:100%\"><tr><th>Experiment</th><th>Id</th><th>Type</th><th>Status</th><th>Details Page</th><th>Docs Page</th></tr><tr><td>Ames-housing-AutoML</td><td>AutoML_528c38f9-0ea8-4630-b5ed-e8fb94c9daa5</td><td>automl</td><td>NotStarted</td><td><a href=\"https://ml.azure.com/runs/AutoML_528c38f9-0ea8-4630-b5ed-e8fb94c9daa5?wsid=/subscriptions/3e42d11f-d64d-4173-af9b-12ecaa1030b3/resourcegroups/aml-quickstarts-153414/workspaces/quick-starts-ws-153414&amp;tid=660b3398-b80e-49d2-bc5b-ac1dc93b5254\" target=\"_blank\" rel=\"noopener\">Link to Azure Machine Learning studio</a></td><td><a href=\"https://docs.microsoft.com/en-us/python/api/overview/azure/ml/intro?view=azure-ml-py\" target=\"_blank\" rel=\"noopener\">Link to Documentation</a></td></tr></table>",
            "text/plain": "<IPython.core.display.HTML object>"
          },
          "metadata": {}
        },
        {
          "output_type": "display_data",
          "data": {
            "application/vnd.jupyter.widget-view+json": {
              "model_id": "c1ec8b28a7c5413e9b4ddcb8dcbb886b",
              "version_major": 2,
              "version_minor": 0
            },
            "text/plain": "_AutoMLWidget(widget_settings={'childWidgetDisplay': 'popup', 'send_telemetry': False, 'log_level': 'INFO', 's…"
          },
          "metadata": {}
        },
        {
          "output_type": "display_data",
          "data": {
            "application/aml.mini.widget.v1": "{\"status\": \"Completed\", \"workbench_run_details_uri\": \"https://ml.azure.com/runs/AutoML_528c38f9-0ea8-4630-b5ed-e8fb94c9daa5?wsid=/subscriptions/3e42d11f-d64d-4173-af9b-12ecaa1030b3/resourcegroups/aml-quickstarts-153414/workspaces/quick-starts-ws-153414&tid=660b3398-b80e-49d2-bc5b-ac1dc93b5254\", \"run_id\": \"AutoML_528c38f9-0ea8-4630-b5ed-e8fb94c9daa5\", \"run_properties\": {\"run_id\": \"AutoML_528c38f9-0ea8-4630-b5ed-e8fb94c9daa5\", \"created_utc\": \"2021-08-03T05:50:37.510986Z\", \"properties\": {\"num_iterations\": \"1000\", \"training_type\": \"TrainFull\", \"acquisition_function\": \"EI\", \"primary_metric\": \"normalized_root_mean_squared_error\", \"train_split\": \"0\", \"acquisition_parameter\": \"0\", \"num_cross_validation\": \"3\", \"target\": \"cpu-cluster\", \"AMLSettingsJsonString\": \"{\\\"path\\\":null,\\\"name\\\":\\\"Ames-housing-AutoML\\\",\\\"subscription_id\\\":\\\"3e42d11f-d64d-4173-af9b-12ecaa1030b3\\\",\\\"resource_group\\\":\\\"aml-quickstarts-153414\\\",\\\"workspace_name\\\":\\\"quick-starts-ws-153414\\\",\\\"region\\\":\\\"southcentralus\\\",\\\"compute_target\\\":\\\"cpu-cluster\\\",\\\"spark_service\\\":null,\\\"azure_service\\\":\\\"remote\\\",\\\"many_models\\\":false,\\\"pipeline_fetch_max_batch_size\\\":1,\\\"enable_batch_run\\\":false,\\\"enable_run_restructure\\\":false,\\\"start_auxiliary_runs_before_parent_complete\\\":false,\\\"enable_code_generation\\\":false,\\\"iterations\\\":1000,\\\"primary_metric\\\":\\\"normalized_root_mean_squared_error\\\",\\\"task_type\\\":\\\"regression\\\",\\\"data_script\\\":null,\\\"test_size\\\":0.0,\\\"validation_size\\\":0.0,\\\"n_cross_validations\\\":3,\\\"y_min\\\":null,\\\"y_max\\\":null,\\\"num_classes\\\":null,\\\"featurization\\\":\\\"auto\\\",\\\"_ignore_package_version_incompatibilities\\\":false,\\\"is_timeseries\\\":false,\\\"max_cores_per_iteration\\\":-1,\\\"max_concurrent_iterations\\\":4,\\\"iteration_timeout_minutes\\\":5,\\\"mem_in_mb\\\":null,\\\"enforce_time_on_windows\\\":false,\\\"experiment_timeout_minutes\\\":120,\\\"experiment_exit_score\\\":null,\\\"whitelist_models\\\":null,\\\"blacklist_algos\\\":[\\\"TensorFlowDNN\\\",\\\"TensorFlowLinearRegressor\\\"],\\\"supported_models\\\":[\\\"SGD\\\",\\\"TensorFlowDNN\\\",\\\"ExtremeRandomTrees\\\",\\\"TensorFlowLinearRegressor\\\",\\\"LassoLars\\\",\\\"OnlineGradientDescentRegressor\\\",\\\"KNN\\\",\\\"RandomForest\\\",\\\"ElasticNet\\\",\\\"LightGBM\\\",\\\"XGBoostRegressor\\\",\\\"DecisionTree\\\",\\\"GradientBoosting\\\",\\\"FastLinearRegressor\\\"],\\\"private_models\\\":[],\\\"auto_blacklist\\\":true,\\\"blacklist_samples_reached\\\":false,\\\"exclude_nan_labels\\\":true,\\\"verbosity\\\":20,\\\"_debug_log\\\":\\\"azureml_automl.log\\\",\\\"show_warnings\\\":false,\\\"model_explainability\\\":true,\\\"service_url\\\":null,\\\"sdk_url\\\":null,\\\"sdk_packages\\\":null,\\\"enable_onnx_compatible_models\\\":true,\\\"enable_split_onnx_featurizer_estimator_models\\\":false,\\\"vm_type\\\":\\\"STANDARD_D2_V2\\\",\\\"telemetry_verbosity\\\":20,\\\"send_telemetry\\\":true,\\\"enable_dnn\\\":false,\\\"scenario\\\":\\\"SDK-1.13.0\\\",\\\"environment_label\\\":null,\\\"save_mlflow\\\":false,\\\"force_text_dnn\\\":false,\\\"enable_feature_sweeping\\\":false,\\\"enable_early_stopping\\\":true,\\\"early_stopping_n_iters\\\":10,\\\"metrics\\\":null,\\\"enable_metric_confidence\\\":false,\\\"enable_ensembling\\\":true,\\\"enable_stack_ensembling\\\":false,\\\"ensemble_iterations\\\":15,\\\"enable_tf\\\":false,\\\"enable_subsampling\\\":null,\\\"subsample_seed\\\":null,\\\"enable_nimbusml\\\":false,\\\"enable_streaming\\\":false,\\\"force_streaming\\\":false,\\\"track_child_runs\\\":true,\\\"allowed_private_models\\\":[],\\\"label_column_name\\\":\\\"SalePrice\\\",\\\"weight_column_name\\\":null,\\\"cv_split_column_names\\\":null,\\\"enable_local_managed\\\":false,\\\"_local_managed_run_id\\\":null,\\\"cost_mode\\\":1,\\\"lag_length\\\":0,\\\"metric_operation\\\":\\\"minimize\\\",\\\"preprocess\\\":true}\", \"DataPrepJsonString\": \"{\\\\\\\"training_data\\\\\\\": {\\\\\\\"datasetId\\\\\\\": \\\\\\\"3e862ce0-9263-4402-ab63-67574b657b60\\\\\\\"}, \\\\\\\"datasets\\\\\\\": 0}\", \"EnableSubsampling\": null, \"runTemplate\": \"AutoML\", \"azureml.runsource\": \"automl\", \"display_task_type\": \"regression\", \"dependencies_versions\": \"{\\\"azureml-widgets\\\": \\\"1.31.0\\\", \\\"azureml-train\\\": \\\"1.31.0\\\", \\\"azureml-train-restclients-hyperdrive\\\": \\\"1.31.0\\\", \\\"azureml-train-core\\\": \\\"1.31.0\\\", \\\"azureml-train-automl\\\": \\\"1.31.0\\\", \\\"azureml-train-automl-runtime\\\": \\\"1.31.0\\\", \\\"azureml-train-automl-client\\\": \\\"1.31.0\\\", \\\"azureml-tensorboard\\\": \\\"1.31.0\\\", \\\"azureml-telemetry\\\": \\\"1.31.0\\\", \\\"azureml-sdk\\\": \\\"1.31.0\\\", \\\"azureml-samples\\\": \\\"0+unknown\\\", \\\"azureml-responsibleai\\\": \\\"1.31.0\\\", \\\"azureml-pipeline\\\": \\\"1.31.0\\\", \\\"azureml-pipeline-steps\\\": \\\"1.31.0\\\", \\\"azureml-pipeline-core\\\": \\\"1.31.0\\\", \\\"azureml-opendatasets\\\": \\\"1.31.0\\\", \\\"azureml-model-management-sdk\\\": \\\"1.0.1b6.post1\\\", \\\"azureml-mlflow\\\": \\\"1.31.0\\\", \\\"azureml-interpret\\\": \\\"1.31.0\\\", \\\"azureml-explain-model\\\": \\\"1.31.0\\\", \\\"azureml-defaults\\\": \\\"1.31.0\\\", \\\"azureml-dataset-runtime\\\": \\\"1.31.0\\\", \\\"azureml-dataprep\\\": \\\"2.18.0\\\", \\\"azureml-dataprep-rslex\\\": \\\"1.16.1\\\", \\\"azureml-dataprep-native\\\": \\\"36.0.0\\\", \\\"azureml-datadrift\\\": \\\"1.31.0\\\", \\\"azureml-core\\\": \\\"1.31.0\\\", \\\"azureml-contrib-services\\\": \\\"1.31.0\\\", \\\"azureml-contrib-server\\\": \\\"1.31.0\\\", \\\"azureml-contrib-reinforcementlearning\\\": \\\"1.31.0\\\", \\\"azureml-contrib-pipeline-steps\\\": \\\"1.31.0\\\", \\\"azureml-contrib-notebook\\\": \\\"1.31.0\\\", \\\"azureml-contrib-fairness\\\": \\\"1.31.0\\\", \\\"azureml-contrib-dataset\\\": \\\"1.31.0\\\", \\\"azureml-cli-common\\\": \\\"1.31.0\\\", \\\"azureml-automl-runtime\\\": \\\"1.31.0\\\", \\\"azureml-automl-dnn-nlp\\\": \\\"1.31.0\\\", \\\"azureml-automl-core\\\": \\\"1.31.0\\\", \\\"azureml-accel-models\\\": \\\"1.31.0\\\"}\", \"_aml_system_scenario_identification\": \"Remote.Parent\", \"ClientType\": \"SDK\", \"environment_cpu_name\": \"AzureML-AutoML\", \"environment_cpu_label\": \"prod\", \"environment_gpu_name\": \"AzureML-AutoML-GPU\", \"environment_gpu_label\": \"prod\", \"root_attribution\": \"automl\", \"attribution\": \"AutoML\", \"Orchestrator\": \"AutoML\", \"CancelUri\": \"https://southcentralus.api.azureml.ms/jasmine/v1.0/subscriptions/3e42d11f-d64d-4173-af9b-12ecaa1030b3/resourceGroups/aml-quickstarts-153414/providers/Microsoft.MachineLearningServices/workspaces/quick-starts-ws-153414/experimentids/5f7d2fae-465c-4e8b-aac2-720f553de9c8/cancel/AutoML_528c38f9-0ea8-4630-b5ed-e8fb94c9daa5\", \"ClientSdkVersion\": \"1.32.0\", \"snapshotId\": \"00000000-0000-0000-0000-000000000000\", \"SetupRunId\": \"AutoML_528c38f9-0ea8-4630-b5ed-e8fb94c9daa5_setup\", \"SetupRunContainerId\": \"dcid.AutoML_528c38f9-0ea8-4630-b5ed-e8fb94c9daa5_setup\", \"FeaturizationRunJsonPath\": \"featurizer_container.json\", \"FeaturizationRunId\": \"AutoML_528c38f9-0ea8-4630-b5ed-e8fb94c9daa5_featurize\", \"ProblemInfoJsonString\": \"{\\\"dataset_num_categorical\\\": 0, \\\"is_sparse\\\": true, \\\"subsampling\\\": false, \\\"has_extra_col\\\": true, \\\"dataset_classes\\\": 663, \\\"dataset_features\\\": 453, \\\"dataset_samples\\\": 1460, \\\"single_frequency_class_detected\\\": false}\", \"ModelExplainRunId\": \"AutoML_528c38f9-0ea8-4630-b5ed-e8fb94c9daa5_ModelExplain\"}, \"tags\": {\"model_explain_run\": \"best_run\", \"_aml_system_azureml.automlComponent\": \"AutoML\", \"pipeline_id\": \"\", \"score\": \"\", \"predicted_cost\": \"\", \"fit_time\": \"\", \"training_percent\": \"\", \"iteration\": \"\", \"run_preprocessor\": \"\", \"run_algorithm\": \"\", \"dynamic_whitelisting_iterations\": \"<25>;<30>;<35>;\", \"automl_best_child_run_id\": \"AutoML_528c38f9-0ea8-4630-b5ed-e8fb94c9daa5_36\", \"model_explain_best_run_child_id\": \"AutoML_528c38f9-0ea8-4630-b5ed-e8fb94c9daa5_36\"}, \"end_time_utc\": \"2021-08-03T06:18:21.009817Z\", \"status\": \"Completed\", \"log_files\": {}, \"log_groups\": [], \"run_duration\": \"0:27:43\", \"run_number\": \"1\", \"run_queued_details\": {\"status\": \"Completed\", \"details\": null}}, \"child_runs\": [{\"run_id\": \"AutoML_528c38f9-0ea8-4630-b5ed-e8fb94c9daa5_0\", \"run_number\": 5, \"metric\": null, \"status\": \"Completed\", \"run_type\": \"azureml.scriptrun\", \"training_percent\": \"100\", \"start_time\": \"2021-08-03T06:03:27.927228Z\", \"end_time\": \"2021-08-03T06:04:20.24878Z\", \"created_time\": \"2021-08-03T06:01:59.151708Z\", \"created_time_dt\": \"2021-08-03T06:01:59.151708Z\", \"duration\": \"0:02:21\", \"iteration\": \"0\", \"goal\": \"normalized_root_mean_squared_error_min\", \"run_name\": \"MaxAbsScaler, LightGBM\", \"run_properties\": \"copy=True\", \"primary_metric\": 0.04058975, \"best_metric\": 0.04058975}, {\"run_id\": \"AutoML_528c38f9-0ea8-4630-b5ed-e8fb94c9daa5_3\", \"run_number\": 6, \"metric\": null, \"status\": \"Completed\", \"run_type\": \"azureml.scriptrun\", \"training_percent\": \"100\", \"start_time\": \"2021-08-03T06:05:14.410547Z\", \"end_time\": \"2021-08-03T06:10:27.423028Z\", \"created_time\": \"2021-08-03T06:01:59.248626Z\", \"created_time_dt\": \"2021-08-03T06:01:59.248626Z\", \"duration\": \"0:08:28\", \"iteration\": \"3\", \"goal\": \"normalized_root_mean_squared_error_min\", \"run_name\": \"MaxAbsScaler, DecisionTree\", \"run_properties\": \"copy=True\", \"primary_metric\": 0.06099086, \"best_metric\": 0.03830382}, {\"run_id\": \"AutoML_528c38f9-0ea8-4630-b5ed-e8fb94c9daa5_2\", \"run_number\": 7, \"metric\": null, \"status\": \"Completed\", \"run_type\": \"azureml.scriptrun\", \"training_percent\": \"100\", \"start_time\": \"2021-08-03T06:02:12.010615Z\", \"end_time\": \"2021-08-03T06:03:08.786036Z\", \"created_time\": \"2021-08-03T06:01:59.251875Z\", \"created_time_dt\": \"2021-08-03T06:01:59.251875Z\", \"duration\": \"0:01:09\", \"iteration\": \"2\", \"goal\": \"normalized_root_mean_squared_error_min\", \"run_name\": \"StandardScalerWrapper, ElasticNet\", \"run_properties\": \"\\n    copy=True,\\n    with_mean=False,\\n    with_std=True\\n\", \"primary_metric\": 0.04973293, \"best_metric\": 0.03830382}, {\"run_id\": \"AutoML_528c38f9-0ea8-4630-b5ed-e8fb94c9daa5_1\", \"run_number\": 8, \"metric\": null, \"status\": \"Completed\", \"run_type\": \"azureml.scriptrun\", \"training_percent\": \"100\", \"start_time\": \"2021-08-03T06:04:32.620541Z\", \"end_time\": \"2021-08-03T06:05:24.502323Z\", \"created_time\": \"2021-08-03T06:01:59.152688Z\", \"created_time_dt\": \"2021-08-03T06:01:59.152688Z\", \"duration\": \"0:03:25\", \"iteration\": \"1\", \"goal\": \"normalized_root_mean_squared_error_min\", \"run_name\": \"MaxAbsScaler, XGBoostRegressor\", \"run_properties\": \"copy=True\", \"primary_metric\": 0.03830382, \"best_metric\": 0.03830382}, {\"run_id\": \"AutoML_528c38f9-0ea8-4630-b5ed-e8fb94c9daa5_4\", \"run_number\": 9, \"metric\": null, \"status\": \"Completed\", \"run_type\": \"azureml.scriptrun\", \"training_percent\": \"100\", \"start_time\": \"2021-08-03T06:05:15.118561Z\", \"end_time\": \"2021-08-03T06:10:25.83797Z\", \"created_time\": \"2021-08-03T06:03:11.750147Z\", \"created_time_dt\": \"2021-08-03T06:03:11.750147Z\", \"duration\": \"0:07:14\", \"iteration\": \"4\", \"goal\": \"normalized_root_mean_squared_error_min\", \"run_name\": \"MaxAbsScaler, ElasticNet\", \"run_properties\": \"copy=True\", \"primary_metric\": 0.04747215, \"best_metric\": 0.03830382}, {\"run_id\": \"AutoML_528c38f9-0ea8-4630-b5ed-e8fb94c9daa5_5\", \"run_number\": 10, \"metric\": null, \"status\": \"Completed\", \"run_type\": \"azureml.scriptrun\", \"training_percent\": \"100\", \"start_time\": \"2021-08-03T06:05:26.082886Z\", \"end_time\": \"2021-08-03T06:10:32.535235Z\", \"created_time\": \"2021-08-03T06:04:23.254391Z\", \"created_time_dt\": \"2021-08-03T06:04:23.254391Z\", \"duration\": \"0:06:09\", \"iteration\": \"5\", \"goal\": \"normalized_root_mean_squared_error_min\", \"run_name\": \"MaxAbsScaler, DecisionTree\", \"run_properties\": \"copy=True\", \"primary_metric\": 0.05622001, \"best_metric\": 0.03830382}, {\"run_id\": \"AutoML_528c38f9-0ea8-4630-b5ed-e8fb94c9daa5_6\", \"run_number\": 11, \"metric\": null, \"status\": \"Completed\", \"run_type\": \"azureml.scriptrun\", \"training_percent\": \"100\", \"start_time\": \"2021-08-03T06:05:43.91699Z\", \"end_time\": \"2021-08-03T06:06:30.173344Z\", \"created_time\": \"2021-08-03T06:05:27.422058Z\", \"created_time_dt\": \"2021-08-03T06:05:27.422058Z\", \"duration\": \"0:01:02\", \"iteration\": \"6\", \"goal\": \"normalized_root_mean_squared_error_min\", \"run_name\": \"MaxAbsScaler, DecisionTree\", \"run_properties\": \"copy=True\", \"primary_metric\": 0.05364059, \"best_metric\": 0.03830382}, {\"run_id\": \"AutoML_528c38f9-0ea8-4630-b5ed-e8fb94c9daa5_7\", \"run_number\": 12, \"metric\": null, \"status\": \"Completed\", \"run_type\": \"azureml.scriptrun\", \"training_percent\": \"100\", \"start_time\": \"2021-08-03T06:06:46.078526Z\", \"end_time\": \"2021-08-03T06:07:36.838988Z\", \"created_time\": \"2021-08-03T06:06:33.115254Z\", \"created_time_dt\": \"2021-08-03T06:06:33.115254Z\", \"duration\": \"0:01:03\", \"iteration\": \"7\", \"goal\": \"normalized_root_mean_squared_error_min\", \"run_name\": \"MaxAbsScaler, DecisionTree\", \"run_properties\": \"copy=True\", \"primary_metric\": 0.05560082, \"best_metric\": 0.03830382}, {\"run_id\": \"AutoML_528c38f9-0ea8-4630-b5ed-e8fb94c9daa5_8\", \"run_number\": 13, \"metric\": null, \"status\": \"Completed\", \"run_type\": \"azureml.scriptrun\", \"training_percent\": \"100\", \"start_time\": \"2021-08-03T06:07:51.532527Z\", \"end_time\": \"2021-08-03T06:08:45.205305Z\", \"created_time\": \"2021-08-03T06:07:39.972515Z\", \"created_time_dt\": \"2021-08-03T06:07:39.972515Z\", \"duration\": \"0:01:05\", \"iteration\": \"8\", \"goal\": \"normalized_root_mean_squared_error_min\", \"run_name\": \"MaxAbsScaler, DecisionTree\", \"run_properties\": \"copy=True\", \"primary_metric\": 0.06083625, \"best_metric\": 0.03830382}, {\"run_id\": \"AutoML_528c38f9-0ea8-4630-b5ed-e8fb94c9daa5_9\", \"run_number\": 14, \"metric\": null, \"status\": \"Completed\", \"run_type\": \"azureml.scriptrun\", \"training_percent\": \"100\", \"start_time\": \"2021-08-03T06:08:58.914016Z\", \"end_time\": \"2021-08-03T06:09:47.430654Z\", \"created_time\": \"2021-08-03T06:08:48.354202Z\", \"created_time_dt\": \"2021-08-03T06:08:48.354202Z\", \"duration\": \"0:00:59\", \"iteration\": \"9\", \"goal\": \"normalized_root_mean_squared_error_min\", \"run_name\": \"MaxAbsScaler, DecisionTree\", \"run_properties\": \"copy=True\", \"primary_metric\": 0.05419819, \"best_metric\": 0.03830382}, {\"run_id\": \"AutoML_528c38f9-0ea8-4630-b5ed-e8fb94c9daa5_10\", \"run_number\": 15, \"metric\": null, \"status\": \"Completed\", \"run_type\": \"azureml.scriptrun\", \"training_percent\": \"100\", \"start_time\": \"2021-08-03T06:10:07.145953Z\", \"end_time\": \"2021-08-03T06:10:56.465249Z\", \"created_time\": \"2021-08-03T06:09:51.066667Z\", \"created_time_dt\": \"2021-08-03T06:09:51.066667Z\", \"duration\": \"0:01:05\", \"iteration\": \"10\", \"goal\": \"normalized_root_mean_squared_error_min\", \"run_name\": \"MaxAbsScaler, DecisionTree\", \"run_properties\": \"copy=True\", \"primary_metric\": 0.05789484, \"best_metric\": 0.03830382}, {\"run_id\": \"AutoML_528c38f9-0ea8-4630-b5ed-e8fb94c9daa5_11\", \"run_number\": 16, \"metric\": null, \"status\": \"Completed\", \"run_type\": \"azureml.scriptrun\", \"training_percent\": \"100\", \"start_time\": \"2021-08-03T06:10:38.672056Z\", \"end_time\": \"2021-08-03T06:11:28.588621Z\", \"created_time\": \"2021-08-03T06:10:28.67465Z\", \"created_time_dt\": \"2021-08-03T06:10:28.67465Z\", \"duration\": \"0:00:59\", \"iteration\": \"11\", \"goal\": \"normalized_root_mean_squared_error_min\", \"run_name\": \"MaxAbsScaler, DecisionTree\", \"run_properties\": \"copy=True\", \"primary_metric\": 0.05494562, \"best_metric\": 0.03830382}, {\"run_id\": \"AutoML_528c38f9-0ea8-4630-b5ed-e8fb94c9daa5_12\", \"run_number\": 17, \"metric\": null, \"status\": \"Completed\", \"run_type\": \"azureml.scriptrun\", \"training_percent\": \"100\", \"start_time\": \"2021-08-03T06:10:44.859165Z\", \"end_time\": \"2021-08-03T06:11:39.707511Z\", \"created_time\": \"2021-08-03T06:10:32.80042Z\", \"created_time_dt\": \"2021-08-03T06:10:32.80042Z\", \"duration\": \"0:01:06\", \"iteration\": \"12\", \"goal\": \"normalized_root_mean_squared_error_min\", \"run_name\": \"MaxAbsScaler, DecisionTree\", \"run_properties\": \"copy=True\", \"primary_metric\": 0.06199214, \"best_metric\": 0.03830382}, {\"run_id\": \"AutoML_528c38f9-0ea8-4630-b5ed-e8fb94c9daa5_13\", \"run_number\": 18, \"metric\": null, \"status\": \"Completed\", \"run_type\": \"azureml.scriptrun\", \"training_percent\": \"100\", \"start_time\": \"2021-08-03T06:10:49.126419Z\", \"end_time\": \"2021-08-03T06:11:41.134104Z\", \"created_time\": \"2021-08-03T06:10:42.022397Z\", \"created_time_dt\": \"2021-08-03T06:10:42.022397Z\", \"duration\": \"0:00:59\", \"iteration\": \"13\", \"goal\": \"normalized_root_mean_squared_error_min\", \"run_name\": \"StandardScalerWrapper, DecisionTree\", \"run_properties\": \"\\n    copy=True,\\n    with_mean=False,\\n    with_std=True\\n\", \"primary_metric\": 0.05842776, \"best_metric\": 0.03830382}, {\"run_id\": \"AutoML_528c38f9-0ea8-4630-b5ed-e8fb94c9daa5_14\", \"run_number\": 19, \"metric\": null, \"status\": \"Completed\", \"run_type\": \"azureml.scriptrun\", \"training_percent\": \"100\", \"start_time\": \"2021-08-03T06:11:09.40203Z\", \"end_time\": \"2021-08-03T06:11:59.297871Z\", \"created_time\": \"2021-08-03T06:10:59.581536Z\", \"created_time_dt\": \"2021-08-03T06:10:59.581536Z\", \"duration\": \"0:00:59\", \"iteration\": \"14\", \"goal\": \"normalized_root_mean_squared_error_min\", \"run_name\": \"MaxAbsScaler, DecisionTree\", \"run_properties\": \"copy=True\", \"primary_metric\": 0.06482358, \"best_metric\": 0.03830382}, {\"run_id\": \"AutoML_528c38f9-0ea8-4630-b5ed-e8fb94c9daa5_15\", \"run_number\": 20, \"metric\": null, \"status\": \"Completed\", \"run_type\": \"azureml.scriptrun\", \"training_percent\": \"100\", \"start_time\": \"2021-08-03T06:11:41.038546Z\", \"end_time\": \"2021-08-03T06:12:33.96035Z\", \"created_time\": \"2021-08-03T06:11:31.60761Z\", \"created_time_dt\": \"2021-08-03T06:11:31.60761Z\", \"duration\": \"0:01:02\", \"iteration\": \"15\", \"goal\": \"normalized_root_mean_squared_error_min\", \"run_name\": \"MaxAbsScaler, DecisionTree\", \"run_properties\": \"copy=True\", \"primary_metric\": 0.06402013, \"best_metric\": 0.03830382}, {\"run_id\": \"AutoML_528c38f9-0ea8-4630-b5ed-e8fb94c9daa5_16\", \"run_number\": 21, \"metric\": null, \"status\": \"Completed\", \"run_type\": \"azureml.scriptrun\", \"training_percent\": \"100\", \"start_time\": \"2021-08-03T06:11:52.878142Z\", \"end_time\": \"2021-08-03T06:12:42.812317Z\", \"created_time\": \"2021-08-03T06:11:43.112135Z\", \"created_time_dt\": \"2021-08-03T06:11:43.112135Z\", \"duration\": \"0:00:59\", \"iteration\": \"16\", \"goal\": \"normalized_root_mean_squared_error_min\", \"run_name\": \"MaxAbsScaler, SGD\", \"run_properties\": \"copy=True\", \"primary_metric\": 0.04590518, \"best_metric\": 0.03830382}, {\"run_id\": \"AutoML_528c38f9-0ea8-4630-b5ed-e8fb94c9daa5_17\", \"run_number\": 22, \"metric\": null, \"status\": \"Completed\", \"run_type\": \"azureml.scriptrun\", \"training_percent\": \"100\", \"start_time\": \"2021-08-03T06:11:57.191335Z\", \"end_time\": \"2021-08-03T06:12:47.039279Z\", \"created_time\": \"2021-08-03T06:11:47.570291Z\", \"created_time_dt\": \"2021-08-03T06:11:47.570291Z\", \"duration\": \"0:00:59\", \"iteration\": \"17\", \"goal\": \"normalized_root_mean_squared_error_min\", \"run_name\": \"MaxAbsScaler, DecisionTree\", \"run_properties\": \"copy=True\", \"primary_metric\": 0.05589014, \"best_metric\": 0.03830382}, {\"run_id\": \"AutoML_528c38f9-0ea8-4630-b5ed-e8fb94c9daa5_18\", \"run_number\": 23, \"metric\": null, \"status\": \"Completed\", \"run_type\": \"azureml.scriptrun\", \"training_percent\": \"100\", \"start_time\": \"2021-08-03T06:12:13.810693Z\", \"end_time\": \"2021-08-03T06:13:04.45045Z\", \"created_time\": \"2021-08-03T06:12:02.172074Z\", \"created_time_dt\": \"2021-08-03T06:12:02.172074Z\", \"duration\": \"0:01:02\", \"iteration\": \"18\", \"goal\": \"normalized_root_mean_squared_error_min\", \"run_name\": \"MaxAbsScaler, DecisionTree\", \"run_properties\": \"copy=True\", \"primary_metric\": 0.06372616, \"best_metric\": 0.03830382}, {\"run_id\": \"AutoML_528c38f9-0ea8-4630-b5ed-e8fb94c9daa5_19\", \"run_number\": 24, \"metric\": null, \"status\": \"Completed\", \"run_type\": \"azureml.scriptrun\", \"training_percent\": \"100\", \"start_time\": \"2021-08-03T06:12:48.327889Z\", \"end_time\": \"2021-08-03T06:13:41.939937Z\", \"created_time\": \"2021-08-03T06:12:36.875565Z\", \"created_time_dt\": \"2021-08-03T06:12:36.875565Z\", \"duration\": \"0:01:05\", \"iteration\": \"19\", \"goal\": \"normalized_root_mean_squared_error_min\", \"run_name\": \"MaxAbsScaler, DecisionTree\", \"run_properties\": \"copy=True\", \"primary_metric\": 0.06016978, \"best_metric\": 0.03830382}, {\"run_id\": \"AutoML_528c38f9-0ea8-4630-b5ed-e8fb94c9daa5_20\", \"run_number\": 25, \"metric\": null, \"status\": \"Completed\", \"run_type\": \"azureml.scriptrun\", \"training_percent\": \"100\", \"start_time\": \"2021-08-03T06:12:59.263738Z\", \"end_time\": \"2021-08-03T06:13:53.711268Z\", \"created_time\": \"2021-08-03T06:12:45.667354Z\", \"created_time_dt\": \"2021-08-03T06:12:45.667354Z\", \"duration\": \"0:01:08\", \"iteration\": \"20\", \"goal\": \"normalized_root_mean_squared_error_min\", \"run_name\": \"MaxAbsScaler, SGD\", \"run_properties\": \"copy=True\", \"primary_metric\": 0.0444356, \"best_metric\": 0.03830382}, {\"run_id\": \"AutoML_528c38f9-0ea8-4630-b5ed-e8fb94c9daa5_21\", \"run_number\": 26, \"metric\": null, \"status\": \"Completed\", \"run_type\": \"azureml.scriptrun\", \"training_percent\": \"100\", \"start_time\": \"2021-08-03T06:13:03.559201Z\", \"end_time\": \"2021-08-03T06:14:13.798582Z\", \"created_time\": \"2021-08-03T06:12:49.939207Z\", \"created_time_dt\": \"2021-08-03T06:12:49.939207Z\", \"duration\": \"0:01:23\", \"iteration\": \"21\", \"goal\": \"normalized_root_mean_squared_error_min\", \"run_name\": \"MaxAbsScaler, DecisionTree\", \"run_properties\": \"copy=True\", \"primary_metric\": 0.05332914, \"best_metric\": 0.03830382}, {\"run_id\": \"AutoML_528c38f9-0ea8-4630-b5ed-e8fb94c9daa5_22\", \"run_number\": 27, \"metric\": null, \"status\": \"Completed\", \"run_type\": \"azureml.scriptrun\", \"training_percent\": \"100\", \"start_time\": \"2021-08-03T06:13:21.595073Z\", \"end_time\": \"2021-08-03T06:14:16.022989Z\", \"created_time\": \"2021-08-03T06:13:07.691067Z\", \"created_time_dt\": \"2021-08-03T06:13:07.691067Z\", \"duration\": \"0:01:08\", \"iteration\": \"22\", \"goal\": \"normalized_root_mean_squared_error_min\", \"run_name\": \"MaxAbsScaler, DecisionTree\", \"run_properties\": \"copy=True\", \"primary_metric\": 0.05440008, \"best_metric\": 0.03830382}, {\"run_id\": \"AutoML_528c38f9-0ea8-4630-b5ed-e8fb94c9daa5_23\", \"run_number\": 28, \"metric\": null, \"status\": \"Completed\", \"run_type\": \"azureml.scriptrun\", \"training_percent\": \"100\", \"start_time\": \"2021-08-03T06:13:57.318845Z\", \"end_time\": \"2021-08-03T06:14:46.437975Z\", \"created_time\": \"2021-08-03T06:13:45.178527Z\", \"created_time_dt\": \"2021-08-03T06:13:45.178527Z\", \"duration\": \"0:01:01\", \"iteration\": \"23\", \"goal\": \"normalized_root_mean_squared_error_min\", \"run_name\": \"MaxAbsScaler, DecisionTree\", \"run_properties\": \"copy=True\", \"primary_metric\": 0.05538537, \"best_metric\": 0.03830382}, {\"run_id\": \"AutoML_528c38f9-0ea8-4630-b5ed-e8fb94c9daa5_24\", \"run_number\": 29, \"metric\": null, \"status\": \"Completed\", \"run_type\": \"azureml.scriptrun\", \"training_percent\": \"100\", \"start_time\": \"2021-08-03T06:14:09.399493Z\", \"end_time\": \"2021-08-03T06:15:00.007043Z\", \"created_time\": \"2021-08-03T06:13:56.610038Z\", \"created_time_dt\": \"2021-08-03T06:13:56.610038Z\", \"duration\": \"0:01:03\", \"iteration\": \"24\", \"goal\": \"normalized_root_mean_squared_error_min\", \"run_name\": \"MaxAbsScaler, DecisionTree\", \"run_properties\": \"copy=True\", \"primary_metric\": 0.05849799, \"best_metric\": 0.03830382}, {\"run_id\": \"AutoML_528c38f9-0ea8-4630-b5ed-e8fb94c9daa5_25\", \"run_number\": 30, \"metric\": null, \"status\": \"Completed\", \"run_type\": \"azureml.scriptrun\", \"training_percent\": \"100\", \"start_time\": \"2021-08-03T06:14:30.587845Z\", \"end_time\": \"2021-08-03T06:15:47.351308Z\", \"created_time\": \"2021-08-03T06:14:17.00139Z\", \"created_time_dt\": \"2021-08-03T06:14:17.00139Z\", \"duration\": \"0:01:30\", \"iteration\": \"25\", \"goal\": \"normalized_root_mean_squared_error_min\", \"run_name\": \"TruncatedSVDWrapper, XGBoostRegressor\", \"run_properties\": \"n_components=0.3068421052631579, random_state=None\", \"primary_metric\": 0.04733673, \"best_metric\": 0.03830382}, {\"run_id\": \"AutoML_528c38f9-0ea8-4630-b5ed-e8fb94c9daa5_26\", \"run_number\": 31, \"metric\": null, \"status\": \"Completed\", \"run_type\": \"azureml.scriptrun\", \"training_percent\": \"100\", \"start_time\": \"2021-08-03T06:14:29.344604Z\", \"end_time\": \"2021-08-03T06:15:31.122075Z\", \"created_time\": \"2021-08-03T06:14:20.131784Z\", \"created_time_dt\": \"2021-08-03T06:14:20.131784Z\", \"duration\": \"0:01:10\", \"iteration\": \"26\", \"goal\": \"normalized_root_mean_squared_error_min\", \"run_name\": \"MaxAbsScaler, RandomForest\", \"run_properties\": \"copy=True\", \"primary_metric\": 0.04862074, \"best_metric\": 0.03830382}, {\"run_id\": \"AutoML_528c38f9-0ea8-4630-b5ed-e8fb94c9daa5_27\", \"run_number\": 32, \"metric\": null, \"status\": \"Completed\", \"run_type\": \"azureml.scriptrun\", \"training_percent\": \"100\", \"start_time\": \"2021-08-03T06:15:01.921255Z\", \"end_time\": \"2021-08-03T06:15:56.3926Z\", \"created_time\": \"2021-08-03T06:14:48.236042Z\", \"created_time_dt\": \"2021-08-03T06:14:48.236042Z\", \"duration\": \"0:01:08\", \"iteration\": \"27\", \"goal\": \"normalized_root_mean_squared_error_min\", \"run_name\": \"MaxAbsScaler, DecisionTree\", \"run_properties\": \"copy=True\", \"primary_metric\": 0.05693099, \"best_metric\": 0.03830382}, {\"run_id\": \"AutoML_528c38f9-0ea8-4630-b5ed-e8fb94c9daa5_28\", \"run_number\": 33, \"metric\": null, \"status\": \"Completed\", \"run_type\": \"azureml.scriptrun\", \"training_percent\": \"100\", \"start_time\": \"2021-08-03T06:15:13.796778Z\", \"end_time\": \"2021-08-03T06:16:04.541381Z\", \"created_time\": \"2021-08-03T06:15:02.114698Z\", \"created_time_dt\": \"2021-08-03T06:15:02.114698Z\", \"duration\": \"0:01:02\", \"iteration\": \"28\", \"goal\": \"normalized_root_mean_squared_error_min\", \"run_name\": \"MaxAbsScaler, DecisionTree\", \"run_properties\": \"copy=True\", \"primary_metric\": 0.05768275, \"best_metric\": 0.03830382}, {\"run_id\": \"AutoML_528c38f9-0ea8-4630-b5ed-e8fb94c9daa5_29\", \"run_number\": 34, \"metric\": null, \"status\": \"Completed\", \"run_type\": \"azureml.scriptrun\", \"training_percent\": \"100\", \"start_time\": \"2021-08-03T06:15:46.785604Z\", \"end_time\": \"2021-08-03T06:16:44.331624Z\", \"created_time\": \"2021-08-03T06:15:33.190484Z\", \"created_time_dt\": \"2021-08-03T06:15:33.190484Z\", \"duration\": \"0:01:11\", \"iteration\": \"29\", \"goal\": \"normalized_root_mean_squared_error_min\", \"run_name\": \"MaxAbsScaler, DecisionTree\", \"run_properties\": \"copy=True\", \"primary_metric\": 0.06050018, \"best_metric\": 0.03830382}, {\"run_id\": \"AutoML_528c38f9-0ea8-4630-b5ed-e8fb94c9daa5_30\", \"run_number\": 35, \"metric\": null, \"status\": \"Completed\", \"run_type\": \"azureml.scriptrun\", \"training_percent\": \"100\", \"start_time\": \"2021-08-03T06:15:59.805979Z\", \"end_time\": \"2021-08-03T06:16:55.572791Z\", \"created_time\": \"2021-08-03T06:15:50.276858Z\", \"created_time_dt\": \"2021-08-03T06:15:50.276858Z\", \"duration\": \"0:01:05\", \"iteration\": \"30\", \"goal\": \"normalized_root_mean_squared_error_min\", \"run_name\": \"TruncatedSVDWrapper, XGBoostRegressor\", \"run_properties\": \"n_components=0.8510526315789474, random_state=None\", \"primary_metric\": 0.05380272, \"best_metric\": 0.03830382}, {\"run_id\": \"AutoML_528c38f9-0ea8-4630-b5ed-e8fb94c9daa5_31\", \"run_number\": 36, \"metric\": null, \"status\": \"Completed\", \"run_type\": \"azureml.scriptrun\", \"training_percent\": \"100\", \"start_time\": \"2021-08-03T06:16:10.114972Z\", \"end_time\": \"2021-08-03T06:17:00.689689Z\", \"created_time\": \"2021-08-03T06:15:58.449201Z\", \"created_time_dt\": \"2021-08-03T06:15:58.449201Z\", \"duration\": \"0:01:02\", \"iteration\": \"31\", \"goal\": \"normalized_root_mean_squared_error_min\", \"run_name\": \"MaxAbsScaler, DecisionTree\", \"run_properties\": \"copy=True\", \"primary_metric\": 0.05728764, \"best_metric\": 0.03830382}, {\"run_id\": \"AutoML_528c38f9-0ea8-4630-b5ed-e8fb94c9daa5_32\", \"run_number\": 37, \"metric\": null, \"status\": \"Completed\", \"run_type\": \"azureml.scriptrun\", \"training_percent\": \"100\", \"start_time\": \"2021-08-03T06:16:19.074684Z\", \"end_time\": \"2021-08-03T06:17:12.585857Z\", \"created_time\": \"2021-08-03T06:16:06.434091Z\", \"created_time_dt\": \"2021-08-03T06:16:06.434091Z\", \"duration\": \"0:01:06\", \"iteration\": \"32\", \"goal\": \"normalized_root_mean_squared_error_min\", \"run_name\": \"MaxAbsScaler, DecisionTree\", \"run_properties\": \"copy=True\", \"primary_metric\": 0.05413801, \"best_metric\": 0.03830382}, {\"run_id\": \"AutoML_528c38f9-0ea8-4630-b5ed-e8fb94c9daa5_33\", \"run_number\": 38, \"metric\": null, \"status\": \"Canceled\", \"run_type\": \"azureml.scriptrun\", \"training_percent\": \"100\", \"start_time\": \"2021-08-03T06:16:58.455108Z\", \"end_time\": \"2021-08-03T06:17:18.697763Z\", \"created_time\": \"2021-08-03T06:16:46.302907Z\", \"created_time_dt\": \"2021-08-03T06:16:46.302907Z\", \"duration\": \"0:00:32\", \"iteration\": \"33\", \"goal\": null, \"run_name\": \"MaxAbsScaler, DecisionTree\", \"run_properties\": null}, {\"run_id\": \"AutoML_528c38f9-0ea8-4630-b5ed-e8fb94c9daa5_34\", \"run_number\": 39, \"metric\": null, \"status\": \"Canceled\", \"run_type\": \"azureml.scriptrun\", \"training_percent\": \"100\", \"start_time\": \"2021-08-03T06:17:10.910831Z\", \"end_time\": \"2021-08-03T06:17:18.783474Z\", \"created_time\": \"2021-08-03T06:16:57.341208Z\", \"created_time_dt\": \"2021-08-03T06:16:57.341208Z\", \"duration\": \"0:00:21\", \"iteration\": \"34\", \"goal\": null, \"run_name\": \"Canceled\", \"run_properties\": null}, {\"run_id\": \"AutoML_528c38f9-0ea8-4630-b5ed-e8fb94c9daa5_35\", \"run_number\": 40, \"metric\": null, \"status\": \"Canceled\", \"run_type\": \"azureml.scriptrun\", \"training_percent\": \"100\", \"start_time\": \"2021-08-03T06:17:03.920078Z\", \"end_time\": \"2021-08-03T06:17:18.702121Z\", \"created_time\": \"2021-08-03T06:17:03.920078Z\", \"created_time_dt\": \"2021-08-03T06:17:03.920078Z\", \"duration\": \"0:00:14\", \"iteration\": \"35\", \"goal\": null, \"run_name\": \"Canceled\", \"run_properties\": null}, {\"run_id\": \"AutoML_528c38f9-0ea8-4630-b5ed-e8fb94c9daa5_36\", \"run_number\": 41, \"metric\": null, \"status\": \"Completed\", \"run_type\": \"azureml.scriptrun\", \"training_percent\": \"100\", \"start_time\": \"2021-08-03T06:17:27.234103Z\", \"end_time\": \"2021-08-03T06:18:19.249447Z\", \"created_time\": \"2021-08-03T06:17:19.637848Z\", \"created_time_dt\": \"2021-08-03T06:17:19.637848Z\", \"duration\": \"0:00:59\", \"iteration\": \"36\", \"goal\": \"normalized_root_mean_squared_error_min\", \"run_name\": \"VotingEnsemble\", \"run_properties\": \"\\n    estimators=[('1', Pipeline(memory=None,\\n             steps=[('maxabsscaler', MaxAbsScaler(copy=True\", \"primary_metric\": 0.03706206, \"best_metric\": 0.03706206}], \"children_metrics\": {\"categories\": [0], \"series\": {\"normalized_median_absolute_error\": [{\"categories\": [\"0\", \"1\", \"2\", \"3\", \"4\", \"5\", \"6\", \"7\", \"8\", \"9\", \"10\", \"11\", \"12\", \"13\", \"14\", \"15\", \"16\", \"17\", \"18\", \"19\", \"20\", \"21\", \"22\", \"23\", \"24\", \"25\", \"26\", \"27\", \"28\", \"29\", \"30\", \"31\", \"32\", \"36\"], \"mode\": \"markers\", \"name\": \"normalized_median_absolute_error\", \"stepped\": false, \"type\": \"scatter\", \"data\": [0.01563024503949052, 0.015697371314169328, 0.016330546330272495, 0.02563675192158757, 0.016465769426997148, 0.02441507173276199, 0.02300033284618759, 0.024580631607433442, 0.025216891865723328, 0.02268049716334677, 0.02475640018643305, 0.023264240195916348, 0.025868052782543838, 0.024352354595694844, 0.026854587092621136, 0.026339484514833297, 0.01808515437049345, 0.0238919748800321, 0.026049192287889492, 0.026356921914411538, 0.01791709170590017, 0.022824732410622776, 0.023257001342406144, 0.022455924932664285, 0.024946268015607856, 0.019700757707262883, 0.019002443602232657, 0.02350657316113503, 0.023510954222755964, 0.024946527716925165, 0.019227516143591167, 0.024062501607287064, 0.023397536443918898, 0.014434157866517278]}, {\"categories\": [\"0\", \"1\", \"2\", \"3\", \"4\", \"5\", \"6\", \"7\", \"8\", \"9\", \"10\", \"11\", \"12\", \"13\", \"14\", \"15\", \"16\", \"17\", \"18\", \"19\", \"20\", \"21\", \"22\", \"23\", \"24\", \"25\", \"26\", \"27\", \"28\", \"29\", \"30\", \"31\", \"32\", \"36\"], \"mode\": \"lines\", \"name\": \"normalized_median_absolute_error_min\", \"stepped\": true, \"type\": \"scatter\", \"data\": [0.01563024503949052, 0.01563024503949052, 0.01563024503949052, 0.01563024503949052, 0.01563024503949052, 0.01563024503949052, 0.01563024503949052, 0.01563024503949052, 0.01563024503949052, 0.01563024503949052, 0.01563024503949052, 0.01563024503949052, 0.01563024503949052, 0.01563024503949052, 0.01563024503949052, 0.01563024503949052, 0.01563024503949052, 0.01563024503949052, 0.01563024503949052, 0.01563024503949052, 0.01563024503949052, 0.01563024503949052, 0.01563024503949052, 0.01563024503949052, 0.01563024503949052, 0.01563024503949052, 0.01563024503949052, 0.01563024503949052, 0.01563024503949052, 0.01563024503949052, 0.01563024503949052, 0.01563024503949052, 0.01563024503949052, 0.014434157866517278]}], \"normalized_root_mean_squared_log_error\": [{\"categories\": [\"0\", \"1\", \"2\", \"3\", \"4\", \"5\", \"6\", \"7\", \"8\", \"9\", \"10\", \"11\", \"12\", \"13\", \"14\", \"15\", \"16\", \"17\", \"18\", \"19\", \"20\", \"21\", \"22\", \"23\", \"24\", \"25\", \"26\", \"27\", \"28\", \"29\", \"30\", \"31\", \"32\", \"36\"], \"mode\": \"markers\", \"name\": \"normalized_root_mean_squared_log_error\", \"stepped\": false, \"type\": \"scatter\", \"data\": [0.04724430294361787, 0.04512463351528703, 0.05521874998385196, 0.07099690903919526, 0.05546324589487506, 0.0671717264327185, 0.06555637448627649, 0.06598996484760943, 0.07265639783942172, 0.06361682752177338, 0.06908836536569092, 0.06392563982551186, 0.069623854524897, 0.06888894771721371, 0.07456569402640872, 0.07317569396886146, 0.05718246834132703, 0.06647223282043781, 0.0722353303880847, 0.07162631611706419, 0.05328272840541274, 0.06512772556259276, 0.0654631021620632, 0.06505904855644662, 0.06741136165324399, 0.056708981380767264, 0.057649423227621656, 0.0665461037980079, 0.06786638003464764, 0.06996062656298066, 0.06032702935725307, 0.06754501970412147, 0.06364664093866522, 0.04269955410723055]}, {\"categories\": [\"0\", \"1\", \"2\", \"3\", \"4\", \"5\", \"6\", \"7\", \"8\", \"9\", \"10\", \"11\", \"12\", \"13\", \"14\", \"15\", \"16\", \"17\", \"18\", \"19\", \"20\", \"21\", \"22\", \"23\", \"24\", \"25\", \"26\", \"27\", \"28\", \"29\", \"30\", \"31\", \"32\", \"36\"], \"mode\": \"lines\", \"name\": \"normalized_root_mean_squared_log_error_min\", \"stepped\": true, \"type\": \"scatter\", \"data\": [0.04724430294361787, 0.04512463351528703, 0.04512463351528703, 0.04512463351528703, 0.04512463351528703, 0.04512463351528703, 0.04512463351528703, 0.04512463351528703, 0.04512463351528703, 0.04512463351528703, 0.04512463351528703, 0.04512463351528703, 0.04512463351528703, 0.04512463351528703, 0.04512463351528703, 0.04512463351528703, 0.04512463351528703, 0.04512463351528703, 0.04512463351528703, 0.04512463351528703, 0.04512463351528703, 0.04512463351528703, 0.04512463351528703, 0.04512463351528703, 0.04512463351528703, 0.04512463351528703, 0.04512463351528703, 0.04512463351528703, 0.04512463351528703, 0.04512463351528703, 0.04512463351528703, 0.04512463351528703, 0.04512463351528703, 0.04269955410723055]}], \"mean_absolute_error\": [{\"categories\": [\"0\", \"1\", \"2\", \"3\", \"4\", \"5\", \"6\", \"7\", \"8\", \"9\", \"10\", \"11\", \"12\", \"13\", \"14\", \"15\", \"16\", \"17\", \"18\", \"19\", \"20\", \"21\", \"22\", \"23\", \"24\", \"25\", \"26\", \"27\", \"28\", \"29\", \"30\", \"31\", \"32\", \"36\"], \"mode\": \"markers\", \"name\": \"mean_absolute_error\", \"stepped\": false, \"type\": \"scatter\", \"data\": [17620.10421383109, 17073.452516748253, 18413.678301360847, 28595.103531171044, 18573.718213363125, 26007.731223627718, 25451.71671318666, 25918.911212437495, 28279.075082951564, 25290.904990231396, 27165.14833810434, 25300.302588897874, 28608.279843863125, 26980.702438297798, 29812.999286981998, 29280.31261903874, 19481.896914131168, 25971.089759896062, 29459.307234699794, 28297.347711573708, 19287.06303507634, 25013.998682474747, 25693.68579880969, 25359.752635001292, 27100.76427252809, 21086.11502416635, 21612.161193753047, 26195.737242575735, 26839.321451828113, 27888.82456779864, 22701.113994430023, 26236.901156011063, 25321.701756556937, 15710.750269908918]}, {\"categories\": [\"0\", \"1\", \"2\", \"3\", \"4\", \"5\", \"6\", \"7\", \"8\", \"9\", \"10\", \"11\", \"12\", \"13\", \"14\", \"15\", \"16\", \"17\", \"18\", \"19\", \"20\", \"21\", \"22\", \"23\", \"24\", \"25\", \"26\", \"27\", \"28\", \"29\", \"30\", \"31\", \"32\", \"36\"], \"mode\": \"lines\", \"name\": \"mean_absolute_error_min\", \"stepped\": true, \"type\": \"scatter\", \"data\": [17620.10421383109, 17073.452516748253, 17073.452516748253, 17073.452516748253, 17073.452516748253, 17073.452516748253, 17073.452516748253, 17073.452516748253, 17073.452516748253, 17073.452516748253, 17073.452516748253, 17073.452516748253, 17073.452516748253, 17073.452516748253, 17073.452516748253, 17073.452516748253, 17073.452516748253, 17073.452516748253, 17073.452516748253, 17073.452516748253, 17073.452516748253, 17073.452516748253, 17073.452516748253, 17073.452516748253, 17073.452516748253, 17073.452516748253, 17073.452516748253, 17073.452516748253, 17073.452516748253, 17073.452516748253, 17073.452516748253, 17073.452516748253, 17073.452516748253, 15710.750269908918]}], \"root_mean_squared_error\": [{\"categories\": [\"0\", \"1\", \"2\", \"3\", \"4\", \"5\", \"6\", \"7\", \"8\", \"9\", \"10\", \"11\", \"12\", \"13\", \"14\", \"15\", \"16\", \"17\", \"18\", \"19\", \"20\", \"21\", \"22\", \"23\", \"24\", \"25\", \"26\", \"27\", \"28\", \"29\", \"30\", \"31\", \"32\", \"36\"], \"mode\": \"markers\", \"name\": \"root_mean_squared_error\", \"stepped\": false, \"type\": \"scatter\", \"data\": [29228.677965587034, 27582.578089556464, 35812.681467620954, 43919.52002177602, 34184.69171054992, 40484.02723248224, 38626.591279668006, 40038.15023845939, 43808.18292428472, 39028.118922063666, 41690.07743684302, 39566.34029038227, 44640.5431555839, 42073.827149966244, 46679.45714033989, 46100.89845920148, 33056.31888973773, 40246.492985719444, 45889.20463468932, 43328.262024021744, 31998.07912386874, 38402.31249922574, 39173.49937120856, 39883.00553669873, 42124.40450834492, 34087.176532697275, 35011.796705767476, 40996.00528824495, 41537.347053783655, 43566.18018360503, 38743.33930829701, 41252.831443331146, 38984.78348993414, 26688.38779728529]}, {\"categories\": [\"0\", \"1\", \"2\", \"3\", \"4\", \"5\", \"6\", \"7\", \"8\", \"9\", \"10\", \"11\", \"12\", \"13\", \"14\", \"15\", \"16\", \"17\", \"18\", \"19\", \"20\", \"21\", \"22\", \"23\", \"24\", \"25\", \"26\", \"27\", \"28\", \"29\", \"30\", \"31\", \"32\", \"36\"], \"mode\": \"lines\", \"name\": \"root_mean_squared_error_min\", \"stepped\": true, \"type\": \"scatter\", \"data\": [29228.677965587034, 27582.578089556464, 27582.578089556464, 27582.578089556464, 27582.578089556464, 27582.578089556464, 27582.578089556464, 27582.578089556464, 27582.578089556464, 27582.578089556464, 27582.578089556464, 27582.578089556464, 27582.578089556464, 27582.578089556464, 27582.578089556464, 27582.578089556464, 27582.578089556464, 27582.578089556464, 27582.578089556464, 27582.578089556464, 27582.578089556464, 27582.578089556464, 27582.578089556464, 27582.578089556464, 27582.578089556464, 27582.578089556464, 27582.578089556464, 27582.578089556464, 27582.578089556464, 27582.578089556464, 27582.578089556464, 27582.578089556464, 27582.578089556464, 26688.38779728529]}], \"normalized_root_mean_squared_error\": [{\"categories\": [\"0\", \"1\", \"2\", \"3\", \"4\", \"5\", \"6\", \"7\", \"8\", \"9\", \"10\", \"11\", \"12\", \"13\", \"14\", \"15\", \"16\", \"17\", \"18\", \"19\", \"20\", \"21\", \"22\", \"23\", \"24\", \"25\", \"26\", \"27\", \"28\", \"29\", \"30\", \"31\", \"32\", \"36\"], \"mode\": \"markers\", \"name\": \"normalized_root_mean_squared_error\", \"stepped\": false, \"type\": \"scatter\", \"data\": [0.04058974859823223, 0.038303816261014395, 0.049732928020581796, 0.060990862410465245, 0.04747214513338415, 0.05622000726632723, 0.05364059336157201, 0.05560081966179612, 0.060836249026919496, 0.054198193198255334, 0.05789484437834055, 0.054945619067327145, 0.06199214436270505, 0.05842775607549819, 0.06482357608712663, 0.06402013395250866, 0.04590517829431708, 0.05589014440455414, 0.06372615558212653, 0.06016978478547667, 0.04443560494913032, 0.05332913831304783, 0.0544000824485607, 0.05538537083279924, 0.058497992651499665, 0.047336726194552516, 0.04862074254376819, 0.056930989151846904, 0.05768274830410174, 0.06050018078545346, 0.05380272088362312, 0.05728764260981967, 0.054138013456372924, 0.03706205776598429]}, {\"categories\": [\"0\", \"1\", \"2\", \"3\", \"4\", \"5\", \"6\", \"7\", \"8\", \"9\", \"10\", \"11\", \"12\", \"13\", \"14\", \"15\", \"16\", \"17\", \"18\", \"19\", \"20\", \"21\", \"22\", \"23\", \"24\", \"25\", \"26\", \"27\", \"28\", \"29\", \"30\", \"31\", \"32\", \"36\"], \"mode\": \"lines\", \"name\": \"normalized_root_mean_squared_error_min\", \"stepped\": true, \"type\": \"scatter\", \"data\": [0.04058974859823223, 0.038303816261014395, 0.038303816261014395, 0.038303816261014395, 0.038303816261014395, 0.038303816261014395, 0.038303816261014395, 0.038303816261014395, 0.038303816261014395, 0.038303816261014395, 0.038303816261014395, 0.038303816261014395, 0.038303816261014395, 0.038303816261014395, 0.038303816261014395, 0.038303816261014395, 0.038303816261014395, 0.038303816261014395, 0.038303816261014395, 0.038303816261014395, 0.038303816261014395, 0.038303816261014395, 0.038303816261014395, 0.038303816261014395, 0.038303816261014395, 0.038303816261014395, 0.038303816261014395, 0.038303816261014395, 0.038303816261014395, 0.038303816261014395, 0.038303816261014395, 0.038303816261014395, 0.038303816261014395, 0.03706205776598429]}], \"spearman_correlation\": [{\"categories\": [\"0\", \"1\", \"2\", \"3\", \"4\", \"5\", \"6\", \"7\", \"8\", \"9\", \"10\", \"11\", \"12\", \"13\", \"14\", \"15\", \"16\", \"17\", \"18\", \"19\", \"20\", \"21\", \"22\", \"23\", \"24\", \"25\", \"26\", \"27\", \"28\", \"29\", \"30\", \"31\", \"32\", \"36\"], \"mode\": \"markers\", \"name\": \"spearman_correlation\", \"stepped\": false, \"type\": \"scatter\", \"data\": [0.9425941307870714, 0.9471907231845357, 0.932516427477783, 0.8549274595335185, 0.9376793898720553, 0.8720783130503754, 0.8809465002702526, 0.8790554727237917, 0.8420097012239989, 0.8831602520956997, 0.8627025152815443, 0.8837205505100886, 0.8565839380391727, 0.865765389004446, 0.8359144866508773, 0.8505828998216449, 0.9363985108173445, 0.8787539778861261, 0.8471277887039989, 0.8474080224485886, 0.9365071159716254, 0.8785351127195345, 0.8832570462294634, 0.8787032631139567, 0.8705083795158401, 0.9179966799954259, 0.9134340706356641, 0.872309321187556, 0.8644674937391952, 0.8595694101748639, 0.9030682180267133, 0.8701769547568855, 0.8890673565752022, 0.9559026574640738]}, {\"categories\": [\"0\", \"1\", \"2\", \"3\", \"4\", \"5\", \"6\", \"7\", \"8\", \"9\", \"10\", \"11\", \"12\", \"13\", \"14\", \"15\", \"16\", \"17\", \"18\", \"19\", \"20\", \"21\", \"22\", \"23\", \"24\", \"25\", \"26\", \"27\", \"28\", \"29\", \"30\", \"31\", \"32\", \"36\"], \"mode\": \"lines\", \"name\": \"spearman_correlation_max\", \"stepped\": true, \"type\": \"scatter\", \"data\": [0.9425941307870714, 0.9471907231845357, 0.9471907231845357, 0.9471907231845357, 0.9471907231845357, 0.9471907231845357, 0.9471907231845357, 0.9471907231845357, 0.9471907231845357, 0.9471907231845357, 0.9471907231845357, 0.9471907231845357, 0.9471907231845357, 0.9471907231845357, 0.9471907231845357, 0.9471907231845357, 0.9471907231845357, 0.9471907231845357, 0.9471907231845357, 0.9471907231845357, 0.9471907231845357, 0.9471907231845357, 0.9471907231845357, 0.9471907231845357, 0.9471907231845357, 0.9471907231845357, 0.9471907231845357, 0.9471907231845357, 0.9471907231845357, 0.9471907231845357, 0.9471907231845357, 0.9471907231845357, 0.9471907231845357, 0.9559026574640738]}], \"root_mean_squared_log_error\": [{\"categories\": [\"0\", \"1\", \"2\", \"3\", \"4\", \"5\", \"6\", \"7\", \"8\", \"9\", \"10\", \"11\", \"12\", \"13\", \"14\", \"15\", \"16\", \"17\", \"18\", \"19\", \"20\", \"21\", \"22\", \"23\", \"24\", \"25\", \"26\", \"27\", \"28\", \"29\", \"30\", \"31\", \"32\", \"36\"], \"mode\": \"markers\", \"name\": \"root_mean_squared_log_error\", \"stepped\": false, \"type\": \"scatter\", \"data\": [0.14523860579466982, 0.13872231042496655, 0.16975367952724754, 0.21825895276494214, 0.17050530973506053, 0.2064995626573619, 0.2015336419018174, 0.20286658694793555, 0.22336055919491535, 0.19557107965735165, 0.21239170094901813, 0.19652043155065282, 0.21403790364554362, 0.21177865049782937, 0.22923012439049054, 0.22495698122117327, 0.17579054955480303, 0.2043491768821464, 0.22206611212368457, 0.22019387826434209, 0.16380195503728143, 0.2002158878410684, 0.20124690378771856, 0.20000476074210952, 0.20723625011298918, 0.17433495424004675, 0.17722606394339238, 0.20457627130671177, 0.2086350692553709, 0.21507320945459052, 0.185457570324152, 0.2076471421730508, 0.1956627321706402, 0.13126712259866236]}, {\"categories\": [\"0\", \"1\", \"2\", \"3\", \"4\", \"5\", \"6\", \"7\", \"8\", \"9\", \"10\", \"11\", \"12\", \"13\", \"14\", \"15\", \"16\", \"17\", \"18\", \"19\", \"20\", \"21\", \"22\", \"23\", \"24\", \"25\", \"26\", \"27\", \"28\", \"29\", \"30\", \"31\", \"32\", \"36\"], \"mode\": \"lines\", \"name\": \"root_mean_squared_log_error_min\", \"stepped\": true, \"type\": \"scatter\", \"data\": [0.14523860579466982, 0.13872231042496655, 0.13872231042496655, 0.13872231042496655, 0.13872231042496655, 0.13872231042496655, 0.13872231042496655, 0.13872231042496655, 0.13872231042496655, 0.13872231042496655, 0.13872231042496655, 0.13872231042496655, 0.13872231042496655, 0.13872231042496655, 0.13872231042496655, 0.13872231042496655, 0.13872231042496655, 0.13872231042496655, 0.13872231042496655, 0.13872231042496655, 0.13872231042496655, 0.13872231042496655, 0.13872231042496655, 0.13872231042496655, 0.13872231042496655, 0.13872231042496655, 0.13872231042496655, 0.13872231042496655, 0.13872231042496655, 0.13872231042496655, 0.13872231042496655, 0.13872231042496655, 0.13872231042496655, 0.13126712259866236]}], \"mean_absolute_percentage_error\": [{\"categories\": [\"0\", \"1\", \"2\", \"3\", \"4\", \"5\", \"6\", \"7\", \"8\", \"9\", \"10\", \"11\", \"12\", \"13\", \"14\", \"15\", \"16\", \"17\", \"18\", \"19\", \"20\", \"21\", \"22\", \"23\", \"24\", \"25\", \"26\", \"27\", \"28\", \"29\", \"30\", \"31\", \"32\", \"36\"], \"mode\": \"markers\", \"name\": \"mean_absolute_percentage_error\", \"stepped\": false, \"type\": \"scatter\", \"data\": [10.227918298008179, 10.07545350264032, 11.076543834469879, 16.770475455935287, 11.128977954977929, 15.449035946781956, 15.180436120075294, 15.292607175089293, 16.896378781341806, 14.640252864472693, 16.095140280326238, 14.686964285061348, 16.436802610025023, 15.907302706073773, 17.490233592765396, 17.23664752226401, 11.614715202275258, 15.244964443190954, 16.973051884412474, 16.852035835825813, 11.603582586039929, 14.991739295316746, 15.200802366747295, 14.919437917121764, 15.692576782141076, 12.794272447942937, 12.859361286898922, 15.336407015136801, 15.737023867752162, 16.30313736021977, 13.431012573624997, 15.394654934347308, 14.784865225070392, 9.244645592338562]}, {\"categories\": [\"0\", \"1\", \"2\", \"3\", \"4\", \"5\", \"6\", \"7\", \"8\", \"9\", \"10\", \"11\", \"12\", \"13\", \"14\", \"15\", \"16\", \"17\", \"18\", \"19\", \"20\", \"21\", \"22\", \"23\", \"24\", \"25\", \"26\", \"27\", \"28\", \"29\", \"30\", \"31\", \"32\", \"36\"], \"mode\": \"lines\", \"name\": \"mean_absolute_percentage_error_min\", \"stepped\": true, \"type\": \"scatter\", \"data\": [10.227918298008179, 10.07545350264032, 10.07545350264032, 10.07545350264032, 10.07545350264032, 10.07545350264032, 10.07545350264032, 10.07545350264032, 10.07545350264032, 10.07545350264032, 10.07545350264032, 10.07545350264032, 10.07545350264032, 10.07545350264032, 10.07545350264032, 10.07545350264032, 10.07545350264032, 10.07545350264032, 10.07545350264032, 10.07545350264032, 10.07545350264032, 10.07545350264032, 10.07545350264032, 10.07545350264032, 10.07545350264032, 10.07545350264032, 10.07545350264032, 10.07545350264032, 10.07545350264032, 10.07545350264032, 10.07545350264032, 10.07545350264032, 10.07545350264032, 9.244645592338562]}], \"explained_variance\": [{\"categories\": [\"0\", \"1\", \"2\", \"3\", \"4\", \"5\", \"6\", \"7\", \"8\", \"9\", \"10\", \"11\", \"12\", \"13\", \"14\", \"15\", \"16\", \"17\", \"18\", \"19\", \"20\", \"21\", \"22\", \"23\", \"24\", \"25\", \"26\", \"27\", \"28\", \"29\", \"30\", \"31\", \"32\", \"36\"], \"mode\": \"markers\", \"name\": \"explained_variance\", \"stepped\": false, \"type\": \"scatter\", \"data\": [0.863854636599155, 0.8783064047579887, 0.7944138780501021, 0.696783787337227, 0.813071926031371, 0.7406920101904805, 0.7644024932774164, 0.7454855002107322, 0.6963905007230936, 0.7564470861913589, 0.7250274768863424, 0.750818968468737, 0.6843002125409319, 0.7172209194090282, 0.6563386109587225, 0.6635611817355768, 0.8281136429267105, 0.7427288949729537, 0.6670319322734208, 0.704389168989035, 0.8392258996728481, 0.7675306258661584, 0.7571168005812243, 0.7464414756072252, 0.7184076540729146, 0.8147711076903884, 0.8054096490037344, 0.7337393276202153, 0.727318355989786, 0.6993553528945379, 0.761976204453282, 0.7314212090036829, 0.7588306600212276, 0.886380364978227]}, {\"categories\": [\"0\", \"1\", \"2\", \"3\", \"4\", \"5\", \"6\", \"7\", \"8\", \"9\", \"10\", \"11\", \"12\", \"13\", \"14\", \"15\", \"16\", \"17\", \"18\", \"19\", \"20\", \"21\", \"22\", \"23\", \"24\", \"25\", \"26\", \"27\", \"28\", \"29\", \"30\", \"31\", \"32\", \"36\"], \"mode\": \"lines\", \"name\": \"explained_variance_max\", \"stepped\": true, \"type\": \"scatter\", \"data\": [0.863854636599155, 0.8783064047579887, 0.8783064047579887, 0.8783064047579887, 0.8783064047579887, 0.8783064047579887, 0.8783064047579887, 0.8783064047579887, 0.8783064047579887, 0.8783064047579887, 0.8783064047579887, 0.8783064047579887, 0.8783064047579887, 0.8783064047579887, 0.8783064047579887, 0.8783064047579887, 0.8783064047579887, 0.8783064047579887, 0.8783064047579887, 0.8783064047579887, 0.8783064047579887, 0.8783064047579887, 0.8783064047579887, 0.8783064047579887, 0.8783064047579887, 0.8783064047579887, 0.8783064047579887, 0.8783064047579887, 0.8783064047579887, 0.8783064047579887, 0.8783064047579887, 0.8783064047579887, 0.8783064047579887, 0.886380364978227]}], \"normalized_mean_absolute_error\": [{\"categories\": [\"0\", \"1\", \"2\", \"3\", \"4\", \"5\", \"6\", \"7\", \"8\", \"9\", \"10\", \"11\", \"12\", \"13\", \"14\", \"15\", \"16\", \"17\", \"18\", \"19\", \"20\", \"21\", \"22\", \"23\", \"24\", \"25\", \"26\", \"27\", \"28\", \"29\", \"30\", \"31\", \"32\", \"36\"], \"mode\": \"markers\", \"name\": \"normalized_mean_absolute_error\", \"stepped\": false, \"type\": \"scatter\", \"data\": [0.024468968495807656, 0.02370983546278052, 0.02557100166832502, 0.03970990630630613, 0.025793248456274297, 0.036116832694941974, 0.03534469756032031, 0.03599348869939939, 0.03927103885981331, 0.03512137896157672, 0.03772413322886314, 0.03513442936939018, 0.03972820419922667, 0.03746799394292153, 0.04140119328840717, 0.040661453435687736, 0.027054432598432394, 0.036065948840294494, 0.0409100225450629, 0.03929641398635427, 0.026783867567110597, 0.03473684027562108, 0.0356807190651433, 0.035216987411472424, 0.037634723333603785, 0.029282203894134634, 0.03001272211325239, 0.036377915904146275, 0.037271658730493144, 0.038729099524786335, 0.031524946527468435, 0.036435080066672766, 0.03516414630823072, 0.021817456283722978]}, {\"categories\": [\"0\", \"1\", \"2\", \"3\", \"4\", \"5\", \"6\", \"7\", \"8\", \"9\", \"10\", \"11\", \"12\", \"13\", \"14\", \"15\", \"16\", \"17\", \"18\", \"19\", \"20\", \"21\", \"22\", \"23\", \"24\", \"25\", \"26\", \"27\", \"28\", \"29\", \"30\", \"31\", \"32\", \"36\"], \"mode\": \"lines\", \"name\": \"normalized_mean_absolute_error_min\", \"stepped\": true, \"type\": \"scatter\", \"data\": [0.024468968495807656, 0.02370983546278052, 0.02370983546278052, 0.02370983546278052, 0.02370983546278052, 0.02370983546278052, 0.02370983546278052, 0.02370983546278052, 0.02370983546278052, 0.02370983546278052, 0.02370983546278052, 0.02370983546278052, 0.02370983546278052, 0.02370983546278052, 0.02370983546278052, 0.02370983546278052, 0.02370983546278052, 0.02370983546278052, 0.02370983546278052, 0.02370983546278052, 0.02370983546278052, 0.02370983546278052, 0.02370983546278052, 0.02370983546278052, 0.02370983546278052, 0.02370983546278052, 0.02370983546278052, 0.02370983546278052, 0.02370983546278052, 0.02370983546278052, 0.02370983546278052, 0.02370983546278052, 0.02370983546278052, 0.021817456283722978]}], \"r2_score\": [{\"categories\": [\"0\", \"1\", \"2\", \"3\", \"4\", \"5\", \"6\", \"7\", \"8\", \"9\", \"10\", \"11\", \"12\", \"13\", \"14\", \"15\", \"16\", \"17\", \"18\", \"19\", \"20\", \"21\", \"22\", \"23\", \"24\", \"25\", \"26\", \"27\", \"28\", \"29\", \"30\", \"31\", \"32\", \"36\"], \"mode\": \"markers\", \"name\": \"r2_score\", \"stepped\": false, \"type\": \"scatter\", \"data\": [0.8636018126798337, 0.8780502772452924, 0.7937844968927329, 0.6938653586525985, 0.8125607236429057, 0.7395718765375804, 0.7626196107220506, 0.7447579689478703, 0.6943859032817721, 0.7549849715709143, 0.7237249560429762, 0.749437759270038, 0.6837054838531423, 0.7166710804356207, 0.6538330246176361, 0.6621211222784541, 0.8262747980661462, 0.7413674468504734, 0.6654619611457302, 0.7016049714727215, 0.8375213468665436, 0.7658932430272939, 0.756328294878938, 0.7446878156768125, 0.7171796503400408, 0.8144535164529089, 0.8046038812598267, 0.7329015989526586, 0.7255635050109775, 0.6976863959974983, 0.7615510320923359, 0.7295430417256994, 0.7586248155043688, 0.8862375437002769]}, {\"categories\": [\"0\", \"1\", \"2\", \"3\", \"4\", \"5\", \"6\", \"7\", \"8\", \"9\", \"10\", \"11\", \"12\", \"13\", \"14\", \"15\", \"16\", \"17\", \"18\", \"19\", \"20\", \"21\", \"22\", \"23\", \"24\", \"25\", \"26\", \"27\", \"28\", \"29\", \"30\", \"31\", \"32\", \"36\"], \"mode\": \"lines\", \"name\": \"r2_score_max\", \"stepped\": true, \"type\": \"scatter\", \"data\": [0.8636018126798337, 0.8780502772452924, 0.8780502772452924, 0.8780502772452924, 0.8780502772452924, 0.8780502772452924, 0.8780502772452924, 0.8780502772452924, 0.8780502772452924, 0.8780502772452924, 0.8780502772452924, 0.8780502772452924, 0.8780502772452924, 0.8780502772452924, 0.8780502772452924, 0.8780502772452924, 0.8780502772452924, 0.8780502772452924, 0.8780502772452924, 0.8780502772452924, 0.8780502772452924, 0.8780502772452924, 0.8780502772452924, 0.8780502772452924, 0.8780502772452924, 0.8780502772452924, 0.8780502772452924, 0.8780502772452924, 0.8780502772452924, 0.8780502772452924, 0.8780502772452924, 0.8780502772452924, 0.8780502772452924, 0.8862375437002769]}], \"median_absolute_error\": [{\"categories\": [\"0\", \"1\", \"2\", \"3\", \"4\", \"5\", \"6\", \"7\", \"8\", \"9\", \"10\", \"11\", \"12\", \"13\", \"14\", \"15\", \"16\", \"17\", \"18\", \"19\", \"20\", \"21\", \"22\", \"23\", \"24\", \"25\", \"26\", \"27\", \"28\", \"29\", \"30\", \"31\", \"32\", \"36\"], \"mode\": \"markers\", \"name\": \"median_absolute_error\", \"stepped\": false, \"type\": \"scatter\", \"data\": [11255.339452937123, 11303.677083333334, 11759.626412429227, 18461.02505873521, 11857.000564380645, 17581.29315476191, 16562.539682539686, 17700.512820512824, 18158.683832507366, 16332.22600732601, 17827.08377425044, 16752.579365079364, 18627.584808709817, 17536.130544359858, 19337.98816539648, 18967.062799131458, 13023.119662192335, 17204.611111111113, 18758.023366509224, 18979.619470567748, 12902.097737418713, 16436.08980888946, 16747.366666666665, 16170.511544011553, 17963.807598039217, 14186.515625, 13683.659637967736, 16927.083333333332, 16930.238135806565, 17963.99460895781, 13845.734375, 17327.407407407416, 16848.565993265995, 10394.03707967909]}, {\"categories\": [\"0\", \"1\", \"2\", \"3\", \"4\", \"5\", \"6\", \"7\", \"8\", \"9\", \"10\", \"11\", \"12\", \"13\", \"14\", \"15\", \"16\", \"17\", \"18\", \"19\", \"20\", \"21\", \"22\", \"23\", \"24\", \"25\", \"26\", \"27\", \"28\", \"29\", \"30\", \"31\", \"32\", \"36\"], \"mode\": \"lines\", \"name\": \"median_absolute_error_min\", \"stepped\": true, \"type\": \"scatter\", \"data\": [11255.339452937123, 11255.339452937123, 11255.339452937123, 11255.339452937123, 11255.339452937123, 11255.339452937123, 11255.339452937123, 11255.339452937123, 11255.339452937123, 11255.339452937123, 11255.339452937123, 11255.339452937123, 11255.339452937123, 11255.339452937123, 11255.339452937123, 11255.339452937123, 11255.339452937123, 11255.339452937123, 11255.339452937123, 11255.339452937123, 11255.339452937123, 11255.339452937123, 11255.339452937123, 11255.339452937123, 11255.339452937123, 11255.339452937123, 11255.339452937123, 11255.339452937123, 11255.339452937123, 11255.339452937123, 11255.339452937123, 11255.339452937123, 11255.339452937123, 10394.03707967909]}]}, \"metricName\": null, \"primaryMetricName\": \"normalized_root_mean_squared_error\", \"showLegend\": false}, \"run_metrics\": [{\"name\": \"experiment_status\", \"run_id\": \"AutoML_528c38f9-0ea8-4630-b5ed-e8fb94c9daa5\", \"categories\": [0, 1, 2, 3, 4, 5, 6, 7, 8, 9, 10, 11, 12, 13], \"series\": [{\"data\": [\"DatasetEvaluation\", \"FeaturesGeneration\", \"DatasetFeaturization\", \"DatasetFeaturizationCompleted\", \"DatasetCrossValidationSplit\", \"ModelSelection\", \"BestRunExplainModel\", \"ModelExplanationDataSetSetup\", \"PickSurrogateModel\", \"EngineeredFeatureExplanations\", \"EngineeredFeatureExplanations\", \"RawFeaturesExplanations\", \"RawFeaturesExplanations\", \"BestRunExplainModel\"]}]}, {\"name\": \"experiment_status_description\", \"run_id\": \"AutoML_528c38f9-0ea8-4630-b5ed-e8fb94c9daa5\", \"categories\": [0, 1, 2, 3, 4, 5, 6, 7, 8, 9, 10, 11, 12, 13], \"series\": [{\"data\": [\"Gathering dataset statistics.\", \"Generating features for the dataset.\", \"Beginning to fit featurizers and featurize the dataset.\", \"Completed fit featurizers and featurizing the dataset.\", \"Generating individually featurized CV splits.\", \"Beginning model selection.\", \"Best run model explanations started\", \"Model explanations data setup completed\", \"Choosing LightGBM as the surrogate model for explanations\", \"Computation of engineered features started\", \"Computation of engineered features completed\", \"Computation of raw features started\", \"Computation of raw features completed\", \"Best run model explanations completed\"]}]}, {\"name\": \"normalized_mean_absolute_error\", \"run_id\": \"AutoML_528c38f9-0ea8-4630-b5ed-e8fb94c9daa5\", \"categories\": [0], \"series\": [{\"data\": [0.021817456283722978]}]}, {\"name\": \"explained_variance\", \"run_id\": \"AutoML_528c38f9-0ea8-4630-b5ed-e8fb94c9daa5\", \"categories\": [0], \"series\": [{\"data\": [0.886380364978227]}]}, {\"name\": \"median_absolute_error\", \"run_id\": \"AutoML_528c38f9-0ea8-4630-b5ed-e8fb94c9daa5\", \"categories\": [0], \"series\": [{\"data\": [10394.03707967909]}]}, {\"name\": \"mean_absolute_error\", \"run_id\": \"AutoML_528c38f9-0ea8-4630-b5ed-e8fb94c9daa5\", \"categories\": [0], \"series\": [{\"data\": [15710.750269908918]}]}, {\"name\": \"root_mean_squared_log_error\", \"run_id\": \"AutoML_528c38f9-0ea8-4630-b5ed-e8fb94c9daa5\", \"categories\": [0], \"series\": [{\"data\": [0.13126712259866236]}]}, {\"name\": \"normalized_root_mean_squared_log_error\", \"run_id\": \"AutoML_528c38f9-0ea8-4630-b5ed-e8fb94c9daa5\", \"categories\": [0], \"series\": [{\"data\": [0.04269955410723055]}]}, {\"name\": \"mean_absolute_percentage_error\", \"run_id\": \"AutoML_528c38f9-0ea8-4630-b5ed-e8fb94c9daa5\", \"categories\": [0], \"series\": [{\"data\": [9.244645592338562]}]}, {\"name\": \"normalized_median_absolute_error\", \"run_id\": \"AutoML_528c38f9-0ea8-4630-b5ed-e8fb94c9daa5\", \"categories\": [0], \"series\": [{\"data\": [0.014434157866517278]}]}, {\"name\": \"r2_score\", \"run_id\": \"AutoML_528c38f9-0ea8-4630-b5ed-e8fb94c9daa5\", \"categories\": [0], \"series\": [{\"data\": [0.8862375437002769]}]}, {\"name\": \"normalized_root_mean_squared_error\", \"run_id\": \"AutoML_528c38f9-0ea8-4630-b5ed-e8fb94c9daa5\", \"categories\": [0], \"series\": [{\"data\": [0.03706205776598429]}]}, {\"name\": \"root_mean_squared_error\", \"run_id\": \"AutoML_528c38f9-0ea8-4630-b5ed-e8fb94c9daa5\", \"categories\": [0], \"series\": [{\"data\": [26688.38779728529]}]}, {\"name\": \"spearman_correlation\", \"run_id\": \"AutoML_528c38f9-0ea8-4630-b5ed-e8fb94c9daa5\", \"categories\": [0], \"series\": [{\"data\": [0.9559026574640738]}]}], \"run_logs\": \"\\nRun is completed.\", \"graph\": {}, \"widget_settings\": {\"childWidgetDisplay\": \"popup\", \"send_telemetry\": false, \"log_level\": \"INFO\", \"sdk_version\": \"1.31.0\"}, \"loading\": false}"
          },
          "metadata": {}
        },
        {
          "output_type": "display_data",
          "data": {
            "text/html": "<table style=\"width:100%\"><tr><th>Experiment</th><th>Id</th><th>Type</th><th>Status</th><th>Details Page</th><th>Docs Page</th></tr><tr><td>Ames-housing-AutoML</td><td>AutoML_528c38f9-0ea8-4630-b5ed-e8fb94c9daa5</td><td>automl</td><td>NotStarted</td><td><a href=\"https://ml.azure.com/runs/AutoML_528c38f9-0ea8-4630-b5ed-e8fb94c9daa5?wsid=/subscriptions/3e42d11f-d64d-4173-af9b-12ecaa1030b3/resourcegroups/aml-quickstarts-153414/workspaces/quick-starts-ws-153414&amp;tid=660b3398-b80e-49d2-bc5b-ac1dc93b5254\" target=\"_blank\" rel=\"noopener\">Link to Azure Machine Learning studio</a></td><td><a href=\"https://docs.microsoft.com/en-us/python/api/overview/azure/ml/intro?view=azure-ml-py\" target=\"_blank\" rel=\"noopener\">Link to Documentation</a></td></tr></table>",
            "text/plain": "<IPython.core.display.HTML object>"
          },
          "metadata": {}
        },
        {
          "output_type": "stream",
          "name": "stdout",
          "text": [
            "\n",
            "Current status: FeaturesGeneration. Generating features for the dataset.\n",
            "Current status: DatasetFeaturization. Beginning to fit featurizers and featurize the dataset.\n",
            "Current status: DatasetCrossValidationSplit. Generating individually featurized CV splits.\n",
            "Current status: ModelSelection. Beginning model selection.\n",
            "\n",
            "****************************************************************************************************\n",
            "DATA GUARDRAILS: \n",
            "\n",
            "TYPE:         Missing feature values imputation\n",
            "STATUS:       PASSED\n",
            "DESCRIPTION:  No feature missing values were detected in the training data.\n",
            "              Learn more about missing value imputation: https://aka.ms/AutomatedMLFeaturization\n",
            "\n",
            "****************************************************************************************************\n",
            "\n",
            "TYPE:         High cardinality feature detection\n",
            "STATUS:       PASSED\n",
            "DESCRIPTION:  Your inputs were analyzed, and no high cardinality features were detected.\n",
            "              Learn more about high cardinality feature handling: https://aka.ms/AutomatedMLFeaturization\n",
            "\n",
            "****************************************************************************************************\n",
            "\n",
            "****************************************************************************************************\n",
            "ITERATION: The iteration being evaluated.\n",
            "PIPELINE: A summary description of the pipeline being evaluated.\n",
            "DURATION: Time taken for the current iteration.\n",
            "METRIC: The result of computing score on the fitted pipeline.\n",
            "BEST: The best observed score thus far.\n",
            "****************************************************************************************************\n",
            "\n",
            " ITERATION   PIPELINE                                       DURATION      METRIC      BEST\n",
            "         2   StandardScalerWrapper ElasticNet               0:00:57       0.0497    0.0497\n",
            "         0   MaxAbsScaler LightGBM                          0:00:52       0.0406    0.0406\n",
            "         1   MaxAbsScaler XGBoostRegressor                  0:00:52       0.0383    0.0383\n",
            "         6   MaxAbsScaler DecisionTree                      0:00:46       0.0536    0.0383\n",
            "         7   MaxAbsScaler DecisionTree                      0:00:51       0.0556    0.0383\n",
            "         8   MaxAbsScaler DecisionTree                      0:00:54       0.0608    0.0383\n",
            "         9   MaxAbsScaler DecisionTree                      0:00:49       0.0542    0.0383\n",
            "         3   MaxAbsScaler DecisionTree                      0:05:13       0.0610    0.0383\n",
            "         4   MaxAbsScaler ElasticNet                        0:05:11       0.0475    0.0383\n",
            "         5   MaxAbsScaler DecisionTree                      0:05:06       0.0562    0.0383\n",
            "        10   MaxAbsScaler DecisionTree                      0:00:49       0.0579    0.0383\n",
            "        11   MaxAbsScaler DecisionTree                      0:00:50       0.0549    0.0383\n",
            "        12   MaxAbsScaler DecisionTree                      0:00:55       0.0620    0.0383\n",
            "        13   StandardScalerWrapper DecisionTree             0:00:52       0.0584    0.0383\n",
            "        14   MaxAbsScaler DecisionTree                      0:00:50       0.0648    0.0383\n",
            "        15   MaxAbsScaler DecisionTree                      0:00:53       0.0640    0.0383\n",
            "        16   MaxAbsScaler SGD                               0:00:50       0.0459    0.0383\n",
            "        17   MaxAbsScaler DecisionTree                      0:00:50       0.0559    0.0383\n",
            "        18   MaxAbsScaler DecisionTree                      0:00:51       0.0637    0.0383\n",
            "        19   MaxAbsScaler DecisionTree                      0:00:54       0.0602    0.0383\n",
            "        20   MaxAbsScaler SGD                               0:00:54       0.0444    0.0383\n",
            "        21   MaxAbsScaler DecisionTree                      0:01:10       0.0533    0.0383\n",
            "        22   MaxAbsScaler DecisionTree                      0:00:54       0.0544    0.0383\n",
            "        23   MaxAbsScaler DecisionTree                      0:00:49       0.0554    0.0383\n",
            "        24   MaxAbsScaler DecisionTree                      0:00:51       0.0585    0.0383\n",
            "        26   MaxAbsScaler RandomForest                      0:01:02       0.0486    0.0383\n",
            "        25   TruncatedSVDWrapper XGBoostRegressor           0:01:17       0.0473    0.0383\n",
            "        27   MaxAbsScaler DecisionTree                      0:00:54       0.0569    0.0383\n",
            "        28   MaxAbsScaler DecisionTree                      0:00:51       0.0577    0.0383\n",
            "        29   MaxAbsScaler DecisionTree                      0:00:58       0.0605    0.0383\n",
            "        30   TruncatedSVDWrapper XGBoostRegressor           0:00:56       0.0538    0.0383\n",
            "        31   MaxAbsScaler DecisionTree                      0:00:51       0.0573    0.0383\n",
            "        32   MaxAbsScaler DecisionTree                      0:00:54       0.0541    0.0383\n",
            "        33   MaxAbsScaler DecisionTree                      0:00:20          nan    0.0383\n",
            "        34                                                  0:00:08          nan    0.0383\n",
            "        35                                                  0:00:15          nan    0.0383\n",
            "        36    VotingEnsemble                                0:00:52       0.0371    0.0371\n"
          ]
        },
        {
          "output_type": "execute_result",
          "execution_count": 13,
          "data": {
            "text/plain": "{'runId': 'AutoML_528c38f9-0ea8-4630-b5ed-e8fb94c9daa5',\n 'target': 'cpu-cluster',\n 'status': 'Completed',\n 'startTimeUtc': '2021-08-03T05:50:53.001954Z',\n 'endTimeUtc': '2021-08-03T06:18:21.009817Z',\n 'properties': {'num_iterations': '1000',\n  'training_type': 'TrainFull',\n  'acquisition_function': 'EI',\n  'primary_metric': 'normalized_root_mean_squared_error',\n  'train_split': '0',\n  'acquisition_parameter': '0',\n  'num_cross_validation': '3',\n  'target': 'cpu-cluster',\n  'AMLSettingsJsonString': '{\"path\":null,\"name\":\"Ames-housing-AutoML\",\"subscription_id\":\"3e42d11f-d64d-4173-af9b-12ecaa1030b3\",\"resource_group\":\"aml-quickstarts-153414\",\"workspace_name\":\"quick-starts-ws-153414\",\"region\":\"southcentralus\",\"compute_target\":\"cpu-cluster\",\"spark_service\":null,\"azure_service\":\"remote\",\"many_models\":false,\"pipeline_fetch_max_batch_size\":1,\"enable_batch_run\":false,\"enable_run_restructure\":false,\"start_auxiliary_runs_before_parent_complete\":false,\"enable_code_generation\":false,\"iterations\":1000,\"primary_metric\":\"normalized_root_mean_squared_error\",\"task_type\":\"regression\",\"data_script\":null,\"test_size\":0.0,\"validation_size\":0.0,\"n_cross_validations\":3,\"y_min\":null,\"y_max\":null,\"num_classes\":null,\"featurization\":\"auto\",\"_ignore_package_version_incompatibilities\":false,\"is_timeseries\":false,\"max_cores_per_iteration\":-1,\"max_concurrent_iterations\":4,\"iteration_timeout_minutes\":5,\"mem_in_mb\":null,\"enforce_time_on_windows\":false,\"experiment_timeout_minutes\":120,\"experiment_exit_score\":null,\"whitelist_models\":null,\"blacklist_algos\":[\"TensorFlowDNN\",\"TensorFlowLinearRegressor\"],\"supported_models\":[\"SGD\",\"TensorFlowDNN\",\"ExtremeRandomTrees\",\"TensorFlowLinearRegressor\",\"LassoLars\",\"OnlineGradientDescentRegressor\",\"KNN\",\"RandomForest\",\"ElasticNet\",\"LightGBM\",\"XGBoostRegressor\",\"DecisionTree\",\"GradientBoosting\",\"FastLinearRegressor\"],\"private_models\":[],\"auto_blacklist\":true,\"blacklist_samples_reached\":false,\"exclude_nan_labels\":true,\"verbosity\":20,\"_debug_log\":\"azureml_automl.log\",\"show_warnings\":false,\"model_explainability\":true,\"service_url\":null,\"sdk_url\":null,\"sdk_packages\":null,\"enable_onnx_compatible_models\":true,\"enable_split_onnx_featurizer_estimator_models\":false,\"vm_type\":\"STANDARD_D2_V2\",\"telemetry_verbosity\":20,\"send_telemetry\":true,\"enable_dnn\":false,\"scenario\":\"SDK-1.13.0\",\"environment_label\":null,\"save_mlflow\":false,\"force_text_dnn\":false,\"enable_feature_sweeping\":false,\"enable_early_stopping\":true,\"early_stopping_n_iters\":10,\"metrics\":null,\"enable_metric_confidence\":false,\"enable_ensembling\":true,\"enable_stack_ensembling\":false,\"ensemble_iterations\":15,\"enable_tf\":false,\"enable_subsampling\":null,\"subsample_seed\":null,\"enable_nimbusml\":false,\"enable_streaming\":false,\"force_streaming\":false,\"track_child_runs\":true,\"allowed_private_models\":[],\"label_column_name\":\"SalePrice\",\"weight_column_name\":null,\"cv_split_column_names\":null,\"enable_local_managed\":false,\"_local_managed_run_id\":null,\"cost_mode\":1,\"lag_length\":0,\"metric_operation\":\"minimize\",\"preprocess\":true}',\n  'DataPrepJsonString': '{\\\\\"training_data\\\\\": {\\\\\"datasetId\\\\\": \\\\\"3e862ce0-9263-4402-ab63-67574b657b60\\\\\"}, \\\\\"datasets\\\\\": 0}',\n  'EnableSubsampling': None,\n  'runTemplate': 'AutoML',\n  'azureml.runsource': 'automl',\n  'display_task_type': 'regression',\n  'dependencies_versions': '{\"azureml-widgets\": \"1.31.0\", \"azureml-train\": \"1.31.0\", \"azureml-train-restclients-hyperdrive\": \"1.31.0\", \"azureml-train-core\": \"1.31.0\", \"azureml-train-automl\": \"1.31.0\", \"azureml-train-automl-runtime\": \"1.31.0\", \"azureml-train-automl-client\": \"1.31.0\", \"azureml-tensorboard\": \"1.31.0\", \"azureml-telemetry\": \"1.31.0\", \"azureml-sdk\": \"1.31.0\", \"azureml-samples\": \"0+unknown\", \"azureml-responsibleai\": \"1.31.0\", \"azureml-pipeline\": \"1.31.0\", \"azureml-pipeline-steps\": \"1.31.0\", \"azureml-pipeline-core\": \"1.31.0\", \"azureml-opendatasets\": \"1.31.0\", \"azureml-model-management-sdk\": \"1.0.1b6.post1\", \"azureml-mlflow\": \"1.31.0\", \"azureml-interpret\": \"1.31.0\", \"azureml-explain-model\": \"1.31.0\", \"azureml-defaults\": \"1.31.0\", \"azureml-dataset-runtime\": \"1.31.0\", \"azureml-dataprep\": \"2.18.0\", \"azureml-dataprep-rslex\": \"1.16.1\", \"azureml-dataprep-native\": \"36.0.0\", \"azureml-datadrift\": \"1.31.0\", \"azureml-core\": \"1.31.0\", \"azureml-contrib-services\": \"1.31.0\", \"azureml-contrib-server\": \"1.31.0\", \"azureml-contrib-reinforcementlearning\": \"1.31.0\", \"azureml-contrib-pipeline-steps\": \"1.31.0\", \"azureml-contrib-notebook\": \"1.31.0\", \"azureml-contrib-fairness\": \"1.31.0\", \"azureml-contrib-dataset\": \"1.31.0\", \"azureml-cli-common\": \"1.31.0\", \"azureml-automl-runtime\": \"1.31.0\", \"azureml-automl-dnn-nlp\": \"1.31.0\", \"azureml-automl-core\": \"1.31.0\", \"azureml-accel-models\": \"1.31.0\"}',\n  '_aml_system_scenario_identification': 'Remote.Parent',\n  'ClientType': 'SDK',\n  'environment_cpu_name': 'AzureML-AutoML',\n  'environment_cpu_label': 'prod',\n  'environment_gpu_name': 'AzureML-AutoML-GPU',\n  'environment_gpu_label': 'prod',\n  'root_attribution': 'automl',\n  'attribution': 'AutoML',\n  'Orchestrator': 'AutoML',\n  'CancelUri': 'https://southcentralus.api.azureml.ms/jasmine/v1.0/subscriptions/3e42d11f-d64d-4173-af9b-12ecaa1030b3/resourceGroups/aml-quickstarts-153414/providers/Microsoft.MachineLearningServices/workspaces/quick-starts-ws-153414/experimentids/5f7d2fae-465c-4e8b-aac2-720f553de9c8/cancel/AutoML_528c38f9-0ea8-4630-b5ed-e8fb94c9daa5',\n  'ClientSdkVersion': '1.32.0',\n  'snapshotId': '00000000-0000-0000-0000-000000000000',\n  'SetupRunId': 'AutoML_528c38f9-0ea8-4630-b5ed-e8fb94c9daa5_setup',\n  'SetupRunContainerId': 'dcid.AutoML_528c38f9-0ea8-4630-b5ed-e8fb94c9daa5_setup',\n  'FeaturizationRunJsonPath': 'featurizer_container.json',\n  'FeaturizationRunId': 'AutoML_528c38f9-0ea8-4630-b5ed-e8fb94c9daa5_featurize',\n  'ProblemInfoJsonString': '{\"dataset_num_categorical\": 0, \"is_sparse\": true, \"subsampling\": false, \"has_extra_col\": true, \"dataset_classes\": 663, \"dataset_features\": 453, \"dataset_samples\": 1460, \"single_frequency_class_detected\": false}',\n  'ModelExplainRunId': 'AutoML_528c38f9-0ea8-4630-b5ed-e8fb94c9daa5_ModelExplain'},\n 'inputDatasets': [{'dataset': {'id': '3e862ce0-9263-4402-ab63-67574b657b60'}, 'consumptionDetails': {'type': 'RunInput', 'inputName': 'training_data', 'mechanism': 'Direct'}}],\n 'outputDatasets': [],\n 'logFiles': {},\n 'submittedBy': 'ODL_User 153414'}"
          },
          "metadata": {}
        }
      ],
      "execution_count": 13,
      "metadata": {
        "gather": {
          "logged": 1598431107951
        },
        "jupyter": {
          "outputs_hidden": false,
          "source_hidden": false
        },
        "nteract": {
          "transient": {
            "deleting": false
          }
        }
      }
    },
    {
      "cell_type": "markdown",
      "source": [
        "## Best Model\n",
        "\n",
        "TODO: In the cell below, get the best model from the automl experiments and display all the properties of the model.\n",
        "\n"
      ],
      "metadata": {}
    },
    {
      "cell_type": "code",
      "source": [
        "# Get your best run and save the model from that run.\n",
        "best_run, fitted_model = aml_run.get_output()\n",
        "print(best_run)\n",
        "print(fitted_model)"
      ],
      "outputs": [
        {
          "output_type": "stream",
          "name": "stderr",
          "text": [
            "WARNING:root:The version of the SDK does not match the version the model was trained on.\n",
            "WARNING:root:The consistency in the result may not be guaranteed.\n",
            "WARNING:root:Package:azureml-automl-core, training version:1.32.0, current version:1.31.0\n",
            "Package:azureml-automl-runtime, training version:1.32.0, current version:1.31.0\n",
            "Package:azureml-core, training version:1.32.0, current version:1.31.0\n",
            "Package:azureml-dataset-runtime, training version:1.32.0, current version:1.31.0\n",
            "Package:azureml-defaults, training version:1.32.0, current version:1.31.0\n",
            "Package:azureml-interpret, training version:1.32.0, current version:1.31.0\n",
            "Package:azureml-mlflow, training version:1.32.0, current version:1.31.0\n",
            "Package:azureml-pipeline-core, training version:1.32.0, current version:1.31.0\n",
            "Package:azureml-telemetry, training version:1.32.0, current version:1.31.0\n",
            "Package:azureml-train-automl-client, training version:1.32.0, current version:1.31.0\n",
            "Package:azureml-train-automl-runtime, training version:1.32.0, current version:1.31.0\n",
            "WARNING:root:Please ensure the version of your local conda dependencies match the version on which your model was trained in order to properly retrieve your model.\n"
          ]
        },
        {
          "output_type": "stream",
          "name": "stdout",
          "text": [
            "Run(Experiment: Ames-housing-AutoML,\n",
            "Id: AutoML_528c38f9-0ea8-4630-b5ed-e8fb94c9daa5_36,\n",
            "Type: azureml.scriptrun,\n",
            "Status: Completed)\n",
            "RegressionPipeline(pipeline=Pipeline(memory=None,\n",
            "                                     steps=[('datatransformer',\n",
            "                                             DataTransformer(enable_dnn=False, enable_feature_sweeping=False, feature_sweeping_config={}, feature_sweeping_timeout=86400, featurization_config=None, force_text_dnn=False, is_cross_validation=True, is_onnx_compatible=True, observer=None, task='regression', working_dir='/mnt/batch/ta...\n",
            "    with_std=True\n",
            ")), ('elasticnet', ElasticNet(alpha=0.05357894736842105, copy_X=True, fit_intercept=True, l1_ratio=0.6352631578947369, max_iter=1000, normalize=False, positive=False, precompute=False, random_state=None, selection='cyclic', tol=0.0001, warm_start=False))], verbose=False))], weights=[0.625, 0.125, 0.125, 0.125]))],\n",
            "                                     verbose=False),\n",
            "                   stddev=[26728.19998530156])\n"
          ]
        }
      ],
      "execution_count": 14,
      "metadata": {
        "gather": {
          "logged": 1598431425670
        },
        "jupyter": {
          "outputs_hidden": false,
          "source_hidden": false
        },
        "nteract": {
          "transient": {
            "deleting": false
          }
        }
      }
    },
    {
      "cell_type": "code",
      "source": [
        "best_run_metrics = best_run.get_metrics()\n",
        "best_run_metrics"
      ],
      "outputs": [
        {
          "output_type": "execute_result",
          "execution_count": 15,
          "data": {
            "text/plain": "{'spearman_correlation': 0.9559026574640738,\n 'explained_variance': 0.886380364978227,\n 'mean_absolute_percentage_error': 9.244645592338562,\n 'r2_score': 0.8862375437002769,\n 'normalized_mean_absolute_error': 0.021817456283722978,\n 'median_absolute_error': 10394.03707967909,\n 'root_mean_squared_error': 26688.38779728529,\n 'normalized_root_mean_squared_error': 0.03706205776598429,\n 'normalized_root_mean_squared_log_error': 0.04269955410723055,\n 'normalized_median_absolute_error': 0.014434157866517278,\n 'root_mean_squared_log_error': 0.13126712259866236,\n 'mean_absolute_error': 15710.750269908918,\n 'residuals': 'aml://artifactId/ExperimentRun/dcid.AutoML_528c38f9-0ea8-4630-b5ed-e8fb94c9daa5_36/residuals',\n 'predicted_true': 'aml://artifactId/ExperimentRun/dcid.AutoML_528c38f9-0ea8-4630-b5ed-e8fb94c9daa5_36/predicted_true'}"
          },
          "metadata": {}
        }
      ],
      "execution_count": 15,
      "metadata": {}
    },
    {
      "cell_type": "code",
      "source": [
        "details = best_run.get_details()\n",
        "# A pattern for extracting structure of the VotingEnsemble model\n",
        "voting_ensemble = {k:ast.literal_eval(details['properties'][k]) for k in ['ensembled_algorithms', 'ensemble_weights']}\n",
        "pd.DataFrame(voting_ensemble).sort_values(by='ensemble_weights', ascending=False)"
      ],
      "outputs": [
        {
          "output_type": "execute_result",
          "execution_count": 16,
          "data": {
            "text/html": "<div>\n<style scoped>\n    .dataframe tbody tr th:only-of-type {\n        vertical-align: middle;\n    }\n\n    .dataframe tbody tr th {\n        vertical-align: top;\n    }\n\n    .dataframe thead th {\n        text-align: right;\n    }\n</style>\n<table border=\"1\" class=\"dataframe\">\n  <thead>\n    <tr style=\"text-align: right;\">\n      <th></th>\n      <th>ensembled_algorithms</th>\n      <th>ensemble_weights</th>\n    </tr>\n  </thead>\n  <tbody>\n    <tr>\n      <th>0</th>\n      <td>XGBoostRegressor</td>\n      <td>0.62</td>\n    </tr>\n    <tr>\n      <th>1</th>\n      <td>LightGBM</td>\n      <td>0.12</td>\n    </tr>\n    <tr>\n      <th>2</th>\n      <td>SGD</td>\n      <td>0.12</td>\n    </tr>\n    <tr>\n      <th>3</th>\n      <td>ElasticNet</td>\n      <td>0.12</td>\n    </tr>\n  </tbody>\n</table>\n</div>",
            "text/plain": "  ensembled_algorithms  ensemble_weights\n0     XGBoostRegressor              0.62\n1             LightGBM              0.12\n2                  SGD              0.12\n3           ElasticNet              0.12"
          },
          "metadata": {}
        }
      ],
      "execution_count": 16,
      "metadata": {}
    },
    {
      "cell_type": "code",
      "source": [
        "# Save metrics and details for ex-post examination\n",
        "with open('best_run_metrics.json', 'w') as file:\n",
        "    json.dump(best_run_metrics, file)\n",
        "with open('best_run_details.txt', 'w') as file:\n",
        "    file.write(str(details))"
      ],
      "outputs": [],
      "execution_count": 17,
      "metadata": {}
    },
    {
      "cell_type": "code",
      "source": [
        "# Explore the main model in the ensemble\n",
        "main_dict = {}\n",
        "main_dict['preprocessor'] = str(type(fitted_model.steps[1][1].get_params()['estimators'][0][1].get_params()['steps'][0][1]))"
      ],
      "outputs": [],
      "execution_count": 57,
      "metadata": {}
    },
    {
      "cell_type": "code",
      "source": [
        "main_dict['estimator_type'] = str(type(fitted_model.steps[1][1].get_params()['estimators'][0][1].get_params()['steps'][1][1]))"
      ],
      "outputs": [],
      "execution_count": 58,
      "metadata": {}
    },
    {
      "cell_type": "code",
      "source": [
        "main_dict['estimator_param'] = fitted_model.steps[1][1].get_params()['estimators'][0][1].get_params()['steps'][1][1].get_params()"
      ],
      "outputs": [],
      "execution_count": 59,
      "metadata": {}
    },
    {
      "cell_type": "code",
      "source": [
        "# Save details of the main model for ex-post examination\n",
        "with open('best_run_main_model.json', 'w') as file:\n",
        "    json.dump(main_dict, file)\n",
        "main_dict"
      ],
      "outputs": [
        {
          "output_type": "execute_result",
          "execution_count": 61,
          "data": {
            "text/plain": "{'preprocessor': \"<class 'sklearn.preprocessing._data.MaxAbsScaler'>\",\n 'estimator_type': \"<class 'azureml.automl.runtime.shared.model_wrappers.XGBoostRegressor'>\",\n 'estimator_param': {'base_score': 0.5,\n  'booster': 'gbtree',\n  'colsample_bylevel': 1,\n  'colsample_bynode': 1,\n  'colsample_bytree': 1,\n  'gamma': 0,\n  'importance_type': 'gain',\n  'learning_rate': 0.1,\n  'max_delta_step': 0,\n  'max_depth': 3,\n  'min_child_weight': 1,\n  'missing': nan,\n  'n_estimators': 100,\n  'n_jobs': -1,\n  'nthread': None,\n  'objective': 'reg:squarederror',\n  'random_state': 0,\n  'reg_alpha': 0,\n  'reg_lambda': 1,\n  'scale_pos_weight': 1,\n  'seed': None,\n  'silent': None,\n  'subsample': 1,\n  'verbosity': 0,\n  'tree_method': 'auto',\n  'verbose': -10}}"
          },
          "metadata": {}
        }
      ],
      "execution_count": 61,
      "metadata": {}
    },
    {
      "cell_type": "code",
      "source": [
        "# Check the path to the model\n",
        "for i,n in enumerate(best_run.get_file_names()):\n",
        "    print(i,n)"
      ],
      "outputs": [
        {
          "output_type": "stream",
          "name": "stdout",
          "text": [
            "0 automl_driver.py\n",
            "1 azureml-logs/55_azureml-execution-tvmps_b455d1db597eb7003f3f7b96437a808d5c8ccf458cd53134c06f0e194e44bf86_d.txt\n",
            "2 azureml-logs/65_job_prep-tvmps_b455d1db597eb7003f3f7b96437a808d5c8ccf458cd53134c06f0e194e44bf86_d.txt\n",
            "3 azureml-logs/70_driver_log.txt\n",
            "4 azureml-logs/75_job_post-tvmps_b455d1db597eb7003f3f7b96437a808d5c8ccf458cd53134c06f0e194e44bf86_d.txt\n",
            "5 azureml-logs/process_info.json\n",
            "6 azureml-logs/process_status.json\n",
            "7 explanation/4dd2d442/expected_values.interpret.json\n",
            "8 explanation/4dd2d442/features.interpret.json\n",
            "9 explanation/4dd2d442/global_names/0.interpret.json\n",
            "10 explanation/4dd2d442/global_rank/0.interpret.json\n",
            "11 explanation/4dd2d442/global_values/0.interpret.json\n",
            "12 explanation/4dd2d442/local_importance_values.interpret.json\n",
            "13 explanation/4dd2d442/rich_metadata.interpret.json\n",
            "14 explanation/4dd2d442/true_ys_viz.interpret.json\n",
            "15 explanation/4dd2d442/visualization_dict.interpret.json\n",
            "16 explanation/4dd2d442/ys_pred_viz.interpret.json\n",
            "17 explanation/59f2216e/eval_data_viz.interpret.json\n",
            "18 explanation/59f2216e/expected_values.interpret.json\n",
            "19 explanation/59f2216e/features.interpret.json\n",
            "20 explanation/59f2216e/global_names/0.interpret.json\n",
            "21 explanation/59f2216e/global_rank/0.interpret.json\n",
            "22 explanation/59f2216e/global_values/0.interpret.json\n",
            "23 explanation/59f2216e/local_importance_values.interpret.json\n",
            "24 explanation/59f2216e/rich_metadata.interpret.json\n",
            "25 explanation/59f2216e/true_ys_viz.interpret.json\n",
            "26 explanation/59f2216e/visualization_dict.interpret.json\n",
            "27 logs/azureml/95_azureml.log\n",
            "28 logs/azureml/azureml_automl-child.log\n",
            "29 logs/azureml/azureml_automl.log\n",
            "30 logs/azureml/job_prep_azureml.log\n",
            "31 logs/azureml/job_release_azureml.log\n",
            "32 outputs/conda_env_v_1_0_0.yml\n",
            "33 outputs/env_dependencies.json\n",
            "34 outputs/internal_cross_validated_models.pkl\n",
            "35 outputs/model.onnx\n",
            "36 outputs/model.pkl\n",
            "37 outputs/model_onnx.json\n",
            "38 outputs/pipeline_graph.json\n",
            "39 outputs/scoring_file_v_1_0_0.py\n",
            "40 outputs/scoring_file_v_2_0_0.py\n",
            "41 predicted_true\n",
            "42 residuals\n"
          ]
        }
      ],
      "execution_count": 62,
      "metadata": {
        "gather": {
          "logged": 1598431426111
        },
        "jupyter": {
          "outputs_hidden": false,
          "source_hidden": false
        },
        "nteract": {
          "transient": {
            "deleting": false
          }
        }
      }
    },
    {
      "cell_type": "code",
      "source": [
        "# Save the best model\n",
        "os.makedirs('./outputs/', exist_ok=True)\n",
        "for i in range(32,41):\n",
        "    print(best_run.get_file_names()[i])\n",
        "    best_run.download_file(best_run.get_file_names()[i], output_file_path='./outputs/')"
      ],
      "outputs": [
        {
          "output_type": "stream",
          "name": "stdout",
          "text": [
            "outputs/conda_env_v_1_0_0.yml\n",
            "outputs/env_dependencies.json\n",
            "outputs/internal_cross_validated_models.pkl\n",
            "outputs/model.onnx\n",
            "outputs/model.pkl\n",
            "outputs/model_onnx.json\n",
            "outputs/pipeline_graph.json\n",
            "outputs/scoring_file_v_1_0_0.py\n",
            "outputs/scoring_file_v_2_0_0.py\n"
          ]
        }
      ],
      "execution_count": 63,
      "metadata": {}
    },
    {
      "cell_type": "markdown",
      "source": [
        "\n",
        "Remember you have to deploy only one of the two models you trained.. Perform the steps in the rest of this notebook only if you wish to deploy this model.\n",
        "\n",
        "TODO: In the cell below, register the model, create an inference config and deploy the model as a web service."
      ],
      "metadata": {}
    },
    {
      "cell_type": "code",
      "source": [
        "# Register the best model\n",
        "model = Model.register(ws, model_path='outputs/model.pkl', model_name='Ames-Housing-AutoML-Model', tags=best_run_metrics)\n",
        "print(model.name, model.id, model.version, sep='\\t')"
      ],
      "outputs": [
        {
          "output_type": "stream",
          "name": "stdout",
          "text": [
            "Registering model Ames-Housing-AutoML-Model\n",
            "Ames-Housing-AutoML-Model\tAmes-Housing-AutoML-Model:1\t1\n"
          ]
        }
      ],
      "execution_count": 42,
      "metadata": {}
    },
    {
      "cell_type": "code",
      "source": [
        "from azureml.core.webservice import AciWebservice\n",
        "aciconfig = AciWebservice.deploy_configuration(cpu_cores=1,\n",
        "                                              memory_gb=1,\n",
        "                                              tags={\"data\" : \"Kaggle\", \"method\" : \"AutoML\"},\n",
        "                                              description=\"Predict Ames Housing Prices\")"
      ],
      "outputs": [],
      "execution_count": 43,
      "metadata": {}
    },
    {
      "cell_type": "code",
      "source": [
        "from azureml.core.environment import Environment\n",
        "from azureml.core.conda_dependencies import CondaDependencies\n",
        "\n",
        "env = Environment(\"project-env\")\n",
        "cd = CondaDependencies('outputs/conda_env_v_1_0_0.yml')\n",
        "env.python.conda_dependencies = cd\n",
        "# Register environment to re-use later\n",
        "env.register(workspace=ws)"
      ],
      "outputs": [
        {
          "output_type": "execute_result",
          "execution_count": 46,
          "data": {
            "text/plain": "{\n    \"databricks\": {\n        \"eggLibraries\": [],\n        \"jarLibraries\": [],\n        \"mavenLibraries\": [],\n        \"pypiLibraries\": [],\n        \"rcranLibraries\": []\n    },\n    \"docker\": {\n        \"arguments\": [],\n        \"baseDockerfile\": null,\n        \"baseImage\": \"mcr.microsoft.com/azureml/openmpi3.1.2-ubuntu18.04:20210531.v1\",\n        \"baseImageRegistry\": {\n            \"address\": null,\n            \"password\": null,\n            \"registryIdentity\": null,\n            \"username\": null\n        },\n        \"enabled\": false,\n        \"platform\": {\n            \"architecture\": \"amd64\",\n            \"os\": \"Linux\"\n        },\n        \"sharedVolumes\": true,\n        \"shmSize\": null\n    },\n    \"environmentVariables\": {\n        \"EXAMPLE_ENV_VAR\": \"EXAMPLE_VALUE\"\n    },\n    \"inferencingStackVersion\": null,\n    \"name\": \"project-env\",\n    \"python\": {\n        \"baseCondaEnvironment\": null,\n        \"condaDependencies\": {\n            \"channels\": [\n                \"anaconda\",\n                \"conda-forge\"\n            ],\n            \"dependencies\": [\n                \"python=3.6.2\",\n                {\n                    \"pip\": [\n                        \"azureml-train-automl-runtime==1.32.0\",\n                        \"inference-schema\",\n                        \"azureml-interpret==1.32.0\",\n                        \"azureml-defaults==1.32.0\"\n                    ]\n                },\n                \"numpy>=1.16.0,<1.19.0\",\n                \"pandas==0.25.1\",\n                \"scikit-learn==0.22.1\",\n                \"py-xgboost<=0.90\",\n                \"fbprophet==0.5\",\n                \"holidays==0.9.11\",\n                \"psutil>=5.2.2,<6.0.0\"\n            ],\n            \"name\": \"azureml_c199a2d8511501c9bde5dfe3639e54c9\"\n        },\n        \"condaDependenciesFile\": null,\n        \"interpreterPath\": \"python\",\n        \"userManagedDependencies\": false\n    },\n    \"r\": null,\n    \"spark\": {\n        \"packages\": [],\n        \"precachePackages\": true,\n        \"repositories\": []\n    },\n    \"version\": \"1\"\n}"
          },
          "metadata": {}
        }
      ],
      "execution_count": 46,
      "metadata": {}
    },
    {
      "cell_type": "code",
      "source": [
        "%%time\n",
        "import uuid\n",
        "from azureml.core.webservice import Webservice\n",
        "from azureml.core.model import InferenceConfig\n",
        "from azureml.core.environment import Environment\n",
        "from azureml.core import Workspace\n",
        "from azureml.core.model import Model\n",
        "\n",
        "ws = Workspace.from_config()\n",
        "model = Model(ws, 'Ames-Housing-AutoML-Model')\n",
        "\n",
        "myenv = Environment.get(workspace=ws, name=\"project-env\", version=\"1\")\n",
        "inference_config = InferenceConfig(entry_script=\"outputs/scoring_file_v_1_0_0.py\", environment=myenv)\n",
        "\n",
        "service_name = 'ames-housing-aml-' + str(uuid.uuid4())[:4]\n",
        "service = Model.deploy(workspace=ws,\n",
        "                      name=service_name,\n",
        "                      models=[model],\n",
        "                      inference_config=inference_config,\n",
        "                      deployment_config=aciconfig)\n",
        "\n",
        "service.wait_for_deployment(show_output=True)"
      ],
      "outputs": [
        {
          "output_type": "stream",
          "name": "stdout",
          "text": [
            "Tips: You can try get_logs(): https://aka.ms/debugimage#dockerlog or local deployment: https://aka.ms/debugimage#debug-locally to debug if deployment takes longer than 10 minutes.\n",
            "Running\n",
            "2021-07-28 05:43:39+00:00 Creating Container Registry if not exists..\n",
            "2021-07-28 05:43:49+00:00 Registering the environment..\n",
            "2021-07-28 05:43:51+00:00 Building image..\n",
            "2021-07-28 05:58:39+00:00 Generating deployment configuration.\n",
            "2021-07-28 05:58:41+00:00 Submitting deployment to compute..\n",
            "2021-07-28 05:58:44+00:00 Checking the status of deployment ames-housing-aml-9cf9..\n",
            "2021-07-28 06:24:09+00:00 Checking the status of inference endpoint ames-housing-aml-9cf9.\n",
            "Succeeded\n",
            "ACI service creation operation finished, operation \"Succeeded\"\n",
            "CPU times: user 25 s, sys: 1.24 s, total: 26.2 s\n",
            "Wall time: 40min 37s\n"
          ]
        }
      ],
      "execution_count": 47,
      "metadata": {}
    },
    {
      "cell_type": "code",
      "source": [
        "service.scoring_uri"
      ],
      "outputs": [
        {
          "output_type": "execute_result",
          "execution_count": 61,
          "data": {
            "text/plain": "'http://56120259-5690-491e-a8d6-bc13c75b82de.southcentralus.azurecontainer.io/score'"
          },
          "metadata": {}
        }
      ],
      "execution_count": 61,
      "metadata": {}
    },
    {
      "cell_type": "code",
      "source": [
        "from azureml.core.authentication import InteractiveLoginAuthentication\n",
        "\n",
        "interactive_auth = InteractiveLoginAuthentication()\n",
        "auth_header = interactive_auth.get_authentication_header()"
      ],
      "outputs": [],
      "execution_count": 63,
      "metadata": {}
    },
    {
      "cell_type": "code",
      "source": [],
      "outputs": [],
      "execution_count": null,
      "metadata": {}
    },
    {
      "cell_type": "markdown",
      "source": [
        "TODO: In the cell below, send a request to the web service you deployed to test it."
      ],
      "metadata": {
        "collapsed": true,
        "gather": {
          "logged": 1598431657736
        },
        "jupyter": {
          "outputs_hidden": false,
          "source_hidden": false
        },
        "nteract": {
          "transient": {
            "deleting": false
          }
        }
      }
    },
    {
      "cell_type": "code",
      "source": [
        "import urllib.request\n",
        "import json\n",
        "import os\n",
        "import ssl\n",
        "\n",
        "def allowSelfSignedHttps(allowed):\n",
        "    # bypass the server certificate verification on client side\n",
        "    if allowed and not os.environ.get('PYTHONHTTPSVERIFY', '') and getattr(ssl, '_create_unverified_context', None):\n",
        "        ssl._create_default_https_context = ssl._create_unverified_context\n",
        "\n",
        "allowSelfSignedHttps(True) # this line is needed if you use self-signed certificate in your scoring service.\n",
        "\n",
        "# Request data goes here\n",
        "data = {\n",
        "    \"data\":\n",
        "    [\n",
        "        test.iloc[0].to_dict(),\n",
        "        test.iloc[1].to_dict(),\n",
        "    ],\n",
        "}\n",
        "\n",
        "body = str.encode(json.dumps(data))\n",
        "\n",
        "url = 'http://56120259-5690-491e-a8d6-bc13c75b82de.southcentralus.azurecontainer.io/score'\n",
        "api_key = '' # Replace this with the API key for the web service\n",
        "headers = {'Content-Type':'application/json', 'Authorization':('Bearer '+ api_key)}\n",
        "\n",
        "req = urllib.request.Request(url, body, headers)\n",
        "\n",
        "try:\n",
        "    response = urllib.request.urlopen(req)\n",
        "\n",
        "    result = response.read()\n",
        "    print(result)\n",
        "except urllib.error.HTTPError as error:\n",
        "    print(\"The request failed with status code: \" + str(error.code))\n",
        "\n",
        "    # Print the headers - they include the requert ID and the timestamp, which are useful for debugging the failure\n",
        "    print(error.info())\n",
        "    print(json.loads(error.read().decode(\"utf8\", 'ignore')))"
      ],
      "outputs": [
        {
          "output_type": "stream",
          "name": "stdout",
          "text": [
            "b'\"{\\\\\"result\\\\\": [123002.58819186657, 156797.3439888459]}\"'\n"
          ]
        }
      ],
      "execution_count": 75,
      "metadata": {
        "gather": {
          "logged": 1598432707604
        },
        "jupyter": {
          "outputs_hidden": false,
          "source_hidden": false
        },
        "nteract": {
          "transient": {
            "deleting": false
          }
        }
      }
    },
    {
      "cell_type": "code",
      "source": [],
      "outputs": [],
      "execution_count": null,
      "metadata": {}
    },
    {
      "cell_type": "code",
      "source": [],
      "outputs": [],
      "execution_count": null,
      "metadata": {}
    },
    {
      "cell_type": "code",
      "source": [],
      "outputs": [],
      "execution_count": null,
      "metadata": {}
    },
    {
      "cell_type": "markdown",
      "source": [
        "TODO: In the cell below, print the logs of the web service and delete the service"
      ],
      "metadata": {
        "collapsed": true,
        "gather": {
          "logged": 1598432765711
        },
        "jupyter": {
          "outputs_hidden": false,
          "source_hidden": false
        },
        "nteract": {
          "transient": {
            "deleting": false
          }
        }
      }
    },
    {
      "cell_type": "code",
      "source": [
        "service.update(enable_app_insights=True)\n",
        "logs = service.get_logs()\n",
        "\n",
        "for line in logs.split('\\n'):\n",
        "    print(line)"
      ],
      "outputs": [
        {
          "output_type": "stream",
          "name": "stdout",
          "text": [
            "2021-07-28T06:23:48,887107400+00:00 - gunicorn/run \n",
            "File not found: /var/azureml-app/.\n",
            "Starting HTTP server\n",
            "2021-07-28T06:23:48,892737800+00:00 - rsyslog/run \n",
            "2021-07-28T06:23:48,901515800+00:00 - iot-server/run \n",
            "2021-07-28T06:23:48,973201600+00:00 - nginx/run \n",
            "rsyslogd: /azureml-envs/azureml_c199a2d8511501c9bde5dfe3639e54c9/lib/libuuid.so.1: no version information available (required by rsyslogd)\n",
            "EdgeHubConnectionString and IOTEDGE_IOTHUBHOSTNAME are not set. Exiting...\n",
            "2021-07-28T06:23:49,300606800+00:00 - iot-server/finish 1 0\n",
            "2021-07-28T06:23:49,329715700+00:00 - Exit code 1 is normal. Not restarting iot-server.\n",
            "Starting gunicorn 20.1.0\n",
            "Listening at: http://127.0.0.1:31311 (63)\n",
            "Using worker: sync\n",
            "worker timeout is set to 300\n",
            "Booting worker with pid: 91\n",
            "SPARK_HOME not set. Skipping PySpark Initialization.\n",
            "Generating new fontManager, this may take some time...\n",
            "Initializing logger\n",
            "2021-07-28 06:23:52,259 | root | INFO | Starting up app insights client\n",
            "logging socket was found. logging is available.\n",
            "logging socket was found. logging is available.\n",
            "2021-07-28 06:23:52,260 | root | INFO | Starting up request id generator\n",
            "2021-07-28 06:23:52,260 | root | INFO | Starting up app insight hooks\n",
            "2021-07-28 06:23:52,261 | root | INFO | Invoking user's init function\n",
            "2021-07-28 06:23:56,695 | azureml.core | WARNING | Failure while loading azureml_run_type_providers. Failed to load entrypoint automl = azureml.train.automl.run:AutoMLRun._from_run_dto with exception cannot import name 'RunType'.\n",
            "Failure while loading azureml_run_type_providers. Failed to load entrypoint automl = azureml.train.automl.run:AutoMLRun._from_run_dto with exception cannot import name 'RunType'.\n",
            "2021-07-28 06:23:56,784 | root | INFO | Users's init has completed successfully\n",
            "2021-07-28 06:23:56,793 | root | INFO | Skipping middleware: dbg_model_info as it's not enabled.\n",
            "2021-07-28 06:23:56,793 | root | INFO | Skipping middleware: dbg_resource_usage as it's not enabled.\n",
            "2021-07-28 06:23:56,801 | root | INFO | Scoring timeout is found from os.environ: 60000 ms\n",
            "2021-07-28 06:24:09,227 | root | INFO | 200\n",
            "127.0.0.1 - - [28/Jul/2021:06:24:09 +0000] \"GET /swagger.json HTTP/1.0\" 200 8516 \"-\" \"Go-http-client/1.1\"\n",
            "2021-07-28 06:24:13,768 | root | INFO | 200\n",
            "127.0.0.1 - - [28/Jul/2021:06:24:13 +0000] \"GET /swagger.json HTTP/1.0\" 200 8516 \"-\" \"Go-http-client/1.1\"\n",
            "2021-07-28 06:31:18,879 | root | INFO | 200\n",
            "127.0.0.1 - - [28/Jul/2021:06:31:18 +0000] \"GET /swagger.json HTTP/1.0\" 200 8516 \"-\" \"Go-http-client/1.1\"\n",
            "2021-07-28 07:17:39,620 | root | INFO | Validation Request Content-Type\n",
            "2021-07-28 07:17:39,622 | root | INFO | Scoring Timer is set to 60.0 seconds\n",
            "2021-07-28 07:17:39,628 | root | ERROR | Encountered Exception: Traceback (most recent call last):\n",
            "  File \"/var/azureml-server/synchronous/routes.py\", line 64, in run_scoring\n",
            "    response = invoke_user_with_timer(service_input, request_headers)\n",
            "  File \"/var/azureml-server/synchronous/routes.py\", line 97, in invoke_user_with_timer\n",
            "    result = user_main.run(**params)\n",
            "  File \"/azureml-envs/azureml_c199a2d8511501c9bde5dfe3639e54c9/lib/python3.6/site-packages/inference_schema/schema_decorators.py\", line 55, in decorator_input\n",
            "    args[param_position] = _deserialize_input_argument(args[param_position], param_type, param_name)\n",
            "IndexError: list index out of range\n",
            "\n",
            "During handling of the above exception, another exception occurred:\n",
            "\n",
            "Traceback (most recent call last):\n",
            "  File \"/azureml-envs/azureml_c199a2d8511501c9bde5dfe3639e54c9/lib/python3.6/site-packages/flask/app.py\", line 1832, in full_dispatch_request\n",
            "    rv = self.dispatch_request()\n",
            "  File \"/azureml-envs/azureml_c199a2d8511501c9bde5dfe3639e54c9/lib/python3.6/site-packages/flask/app.py\", line 1818, in dispatch_request\n",
            "    return self.view_functions[rule.endpoint](**req.view_args)\n",
            "  File \"/var/azureml-server/synchronous/routes.py\", line 43, in score_realtime\n",
            "    return run_scoring(service_input, request.headers, request.environ.get('REQUEST_ID', '00000000-0000-0000-0000-000000000000'))\n",
            "  File \"/var/azureml-server/synchronous/routes.py\", line 77, in run_scoring\n",
            "    raise RunFunctionException(str(exc))\n",
            "run_function_exception.RunFunctionException\n",
            "\n",
            "2021-07-28 07:17:39,628 | root | INFO | 500\n",
            "127.0.0.1 - - [28/Jul/2021:07:17:39 +0000] \"POST /score HTTP/1.0\" 500 23 \"-\" \"python-requests/2.25.1\"\n",
            "Exception in worker process\n",
            "Traceback (most recent call last):\n",
            "  File \"/azureml-envs/azureml_c199a2d8511501c9bde5dfe3639e54c9/lib/python3.6/site-packages/gunicorn/arbiter.py\", line 589, in spawn_worker\n",
            "    worker.init_process()\n",
            "  File \"/azureml-envs/azureml_c199a2d8511501c9bde5dfe3639e54c9/lib/python3.6/site-packages/gunicorn/workers/base.py\", line 142, in init_process\n",
            "    self.run()\n",
            "  File \"/azureml-envs/azureml_c199a2d8511501c9bde5dfe3639e54c9/lib/python3.6/site-packages/gunicorn/workers/sync.py\", line 125, in run\n",
            "    self.run_for_one(timeout)\n",
            "  File \"/azureml-envs/azureml_c199a2d8511501c9bde5dfe3639e54c9/lib/python3.6/site-packages/gunicorn/workers/sync.py\", line 84, in run_for_one\n",
            "    self.wait(timeout)\n",
            "  File \"/azureml-envs/azureml_c199a2d8511501c9bde5dfe3639e54c9/lib/python3.6/site-packages/gunicorn/workers/sync.py\", line 36, in wait\n",
            "    ret = select.select(self.wait_fds, [], [], timeout)\n",
            "  File \"/var/azureml-server/routes_common.py\", line 162, in alarm_handler\n",
            "    raise TimeoutException(error_message)\n",
            "timeout_exception.TimeoutException\n",
            "Worker exiting (pid: 91)\n",
            "worker timeout is set to 300\n",
            "Booting worker with pid: 1140\n",
            "SPARK_HOME not set. Skipping PySpark Initialization.\n",
            "Initializing logger\n",
            "2021-07-28 07:18:41,843 | root | INFO | Starting up app insights client\n",
            "logging socket was found. logging is available.\n",
            "logging socket was found. logging is available.\n",
            "2021-07-28 07:18:41,844 | root | INFO | Starting up request id generator\n",
            "2021-07-28 07:18:41,844 | root | INFO | Starting up app insight hooks\n",
            "2021-07-28 07:18:41,845 | root | INFO | Invoking user's init function\n",
            "2021-07-28 07:18:46,060 | azureml.core | WARNING | Failure while loading azureml_run_type_providers. Failed to load entrypoint automl = azureml.train.automl.run:AutoMLRun._from_run_dto with exception cannot import name 'RunType'.\n",
            "Failure while loading azureml_run_type_providers. Failed to load entrypoint automl = azureml.train.automl.run:AutoMLRun._from_run_dto with exception cannot import name 'RunType'.\n",
            "2021-07-28 07:18:46,148 | root | INFO | Users's init has completed successfully\n",
            "2021-07-28 07:18:46,150 | root | INFO | Skipping middleware: dbg_model_info as it's not enabled.\n",
            "2021-07-28 07:18:46,151 | root | INFO | Skipping middleware: dbg_resource_usage as it's not enabled.\n",
            "2021-07-28 07:18:46,159 | root | INFO | Scoring timeout is found from os.environ: 60000 ms\n",
            "2021-07-28 07:21:38,734 | root | INFO | 200\n",
            "127.0.0.1 - - [28/Jul/2021:07:21:38 +0000] \"GET /swagger.json HTTP/1.0\" 200 8516 \"-\" \"Go-http-client/1.1\"\n",
            "2021-07-28 07:21:45,966 | root | INFO | 200\n",
            "127.0.0.1 - - [28/Jul/2021:07:21:45 +0000] \"GET /swagger.json HTTP/1.0\" 200 8516 \"-\" \"Go-http-client/1.1\"\n",
            "2021-07-28 07:21:49,728 | root | INFO | 200\n",
            "127.0.0.1 - - [28/Jul/2021:07:21:49 +0000] \"GET /swagger.json HTTP/1.0\" 200 8516 \"-\" \"Go-http-client/1.1\"\n",
            "2021-07-28 07:27:58,072 | root | INFO | Validation Request Content-Type\n",
            "2021-07-28 07:27:58,074 | root | INFO | Scoring Timer is set to 60.0 seconds\n",
            "2021-07-28 07:27:58,560 | root | INFO | 200\n",
            "127.0.0.1 - - [28/Jul/2021:07:27:58 +0000] \"POST /score HTTP/1.0\" 200 55 \"-\" \"Python-urllib/3.6\"\n",
            "2021-07-28 07:29:34,115 | root | INFO | 200\n",
            "127.0.0.1 - - [28/Jul/2021:07:29:34 +0000] \"GET /swagger.json HTTP/1.0\" 200 8516 \"-\" \"Go-http-client/1.1\"\n",
            "\n"
          ]
        }
      ],
      "execution_count": 76,
      "metadata": {
        "jupyter": {
          "outputs_hidden": false,
          "source_hidden": false
        },
        "nteract": {
          "transient": {
            "deleting": false
          }
        }
      }
    },
    {
      "cell_type": "code",
      "source": [
        "service.delete()"
      ],
      "outputs": [],
      "execution_count": 85,
      "metadata": {}
    },
    {
      "cell_type": "code",
      "source": [
        "# Delete() is used to deprovision and delete the AmlCompute target. \n",
        "cpu_cluster.delete()"
      ],
      "outputs": [],
      "execution_count": 86,
      "metadata": {}
    },
    {
      "cell_type": "code",
      "source": [],
      "outputs": [],
      "execution_count": null,
      "metadata": {}
    }
  ],
  "metadata": {
    "kernel_info": {
      "name": "python3"
    },
    "kernelspec": {
      "name": "python3",
      "language": "python",
      "display_name": "Python 3"
    },
    "language_info": {
      "name": "python",
      "version": "3.6.9",
      "mimetype": "text/x-python",
      "codemirror_mode": {
        "name": "ipython",
        "version": 3
      },
      "pygments_lexer": "ipython3",
      "nbconvert_exporter": "python",
      "file_extension": ".py"
    },
    "microsoft": {
      "host": {
        "AzureML": {
          "notebookHasBeenCompleted": true
        }
      }
    },
    "nteract": {
      "version": "nteract-front-end@1.0.0"
    }
  },
  "nbformat": 4,
  "nbformat_minor": 2
}