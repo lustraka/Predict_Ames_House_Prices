{
 "cells": [
  {
   "cell_type": "markdown",
   "metadata": {},
   "source": [
    "# Automated ML\n",
    "\n",
    "TODO: Import Dependencies. In the cell below, import all the dependencies that you will need to complete the project."
   ]
  },
  {
   "cell_type": "code",
   "execution_count": 40,
   "metadata": {
    "gather": {
     "logged": 1598423888013
    },
    "jupyter": {
     "outputs_hidden": false,
     "source_hidden": false
    },
    "nteract": {
     "transient": {
      "deleting": false
     }
    }
   },
   "outputs": [],
   "source": [
    "import ames_fe # The module for loading external data - Ames Housing dataset\n",
    "import os\n",
    "import pandas as pd\n",
    "from azureml.core.compute import ComputeTarget, AmlCompute\n",
    "from azureml.core.compute_target import ComputeTargetException\n",
    "from azureml.core import Workspace, Dataset, Experiment, Model\n",
    "from azureml.data.dataset_factory import TabularDatasetFactory\n",
    "from azureml.train.automl import AutoMLConfig"
   ]
  },
  {
   "cell_type": "code",
   "execution_count": 2,
   "metadata": {},
   "outputs": [
    {
     "name": "stdout",
     "output_type": "stream",
     "text": [
      "quick-starts-ws-152755\n",
      "aml-quickstarts-152755\n",
      "southcentralus\n",
      "a0a76bad-11a1-4a2d-9887-97a29122c8ed\n"
     ]
    }
   ],
   "source": [
    "ws = Workspace.from_config()\n",
    "print(ws.name, ws.resource_group, ws.location, ws.subscription_id, sep='\\n')"
   ]
  },
  {
   "cell_type": "code",
   "execution_count": 3,
   "metadata": {},
   "outputs": [
    {
     "name": "stdout",
     "output_type": "stream",
     "text": [
      "Creating......\n",
      "SucceededProvisioning operation finished, operation \"Succeeded\"\n",
      "Succeeded\n",
      "AmlCompute wait for completion finished\n",
      "\n",
      "Minimum number of nodes requested have been provisioned\n"
     ]
    }
   ],
   "source": [
    "# Create compute cluster\n",
    "# Choose a name for your CPU cluster\n",
    "cpu_cluster_name = \"cpu-cluster\"\n",
    "\n",
    "# Verify that cluster does not exist already\n",
    "try:\n",
    "    cpu_cluster = ComputeTarget(workspace=ws, name=cpu_cluster_name)\n",
    "    print('Found existing cluster, use it.')\n",
    "except ComputeTargetException:\n",
    "    compute_config = AmlCompute.provisioning_configuration(vm_size='STANDARD_D2_V2',\n",
    "                                                           max_nodes=4)\n",
    "    cpu_cluster = ComputeTarget.create(ws, cpu_cluster_name, compute_config)\n",
    "\n",
    "cpu_cluster.wait_for_completion(show_output=True)"
   ]
  },
  {
   "cell_type": "markdown",
   "metadata": {},
   "source": [
    "## Dataset\n",
    "\n",
    "### Overview\n",
    "TODO: In this markdown cell, give an overview of the dataset you are using. Also mention the task you will be performing.\n",
    "\n",
    "\n",
    "TODO: Get data. In the cell below, write code to access the data you will be using in this project. Remember that the dataset needs to be external."
   ]
  },
  {
   "cell_type": "code",
   "execution_count": 17,
   "metadata": {},
   "outputs": [
    {
     "name": "stdout",
     "output_type": "stream",
     "text": [
      "train.shape = (1460, 78), test.shape = (1459, 78)\n"
     ]
    }
   ],
   "source": [
    "train, test = ames_fe.load_data_tailored()\n",
    "print(f\"train.shape = {train.shape}, test.shape = {test.shape}\")"
   ]
  },
  {
   "cell_type": "code",
   "execution_count": 18,
   "metadata": {},
   "outputs": [
    {
     "name": "stderr",
     "output_type": "stream",
     "text": [
      "Method register_pandas_dataframe: This is an experimental method, and may change at any time. Please see https://aka.ms/azuremlexperimental for more information.\n"
     ]
    },
    {
     "name": "stdout",
     "output_type": "stream",
     "text": [
      "Validating arguments.\n",
      "Arguments validated.\n",
      "Successfully obtained datastore reference and path.\n",
      "Uploading file to managed-dataset/070139d9-b7de-4d14-86fc-30a1fcb87b8b/\n",
      "Successfully uploaded file to datastore.\n",
      "Creating and registering a new dataset.\n",
      "Successfully created and registered a new dataset.\n"
     ]
    }
   ],
   "source": [
    "# Register dataset\n",
    "blob = ws.get_default_datastore()\n",
    "train_reg = TabularDatasetFactory.register_pandas_dataframe(train, blob, name='Ames-housing-dataset',\n",
    "                                                          description='Ames Housing training data.')"
   ]
  },
  {
   "cell_type": "code",
   "execution_count": 19,
   "metadata": {},
   "outputs": [],
   "source": [
    "# Choose a name for experiment\n",
    "experiment_name = 'Ames-housing-AutoML'\n",
    "\n",
    "experiment=Experiment(ws, experiment_name)"
   ]
  },
  {
   "cell_type": "markdown",
   "metadata": {},
   "source": [
    "## AutoML Configuration\n",
    "\n",
    "TODO: Explain why you chose the automl settings and cofiguration you used below."
   ]
  },
  {
   "cell_type": "code",
   "execution_count": 23,
   "metadata": {
    "gather": {
     "logged": 1598429217746
    },
    "jupyter": {
     "outputs_hidden": false,
     "source_hidden": false
    },
    "nteract": {
     "transient": {
      "deleting": false
     }
    }
   },
   "outputs": [],
   "source": [
    "# Set parameters for AutoMLConfig\n",
    "automl_settings = {\n",
    "    'experiment_timeout_minutes' : 120,\n",
    "    'n_cross_validations' : 3,\n",
    "    'enable_early_stopping' : True,\n",
    "    'iteration_timeout_minutes' : 5,\n",
    "    'max_concurrent_iterations' : 4,\n",
    "    'max_cores_per_iteration' : -1\n",
    "}\n",
    "\n",
    "automl_config = AutoMLConfig(\n",
    "    task='regression',\n",
    "    primary_metric='normalized_root_mean_squared_error',\n",
    "    compute_target=cpu_cluster,\n",
    "    training_data=train_reg,\n",
    "    label_column_name='SalePrice',\n",
    "    **automl_settings)"
   ]
  },
  {
   "cell_type": "code",
   "execution_count": 24,
   "metadata": {
    "gather": {
     "logged": 1598431107951
    },
    "jupyter": {
     "outputs_hidden": false,
     "source_hidden": false
    },
    "nteract": {
     "transient": {
      "deleting": false
     }
    }
   },
   "outputs": [
    {
     "name": "stdout",
     "output_type": "stream",
     "text": [
      "Submitting remote run.\n"
     ]
    },
    {
     "data": {
      "text/html": [
       "<table style=\"width:100%\"><tr><th>Experiment</th><th>Id</th><th>Type</th><th>Status</th><th>Details Page</th><th>Docs Page</th></tr><tr><td>Ames-housing-AutoML</td><td>AutoML_1eb2883c-ec84-44fa-b028-c77e1f99ce4b</td><td>automl</td><td>NotStarted</td><td><a href=\"https://ml.azure.com/runs/AutoML_1eb2883c-ec84-44fa-b028-c77e1f99ce4b?wsid=/subscriptions/a0a76bad-11a1-4a2d-9887-97a29122c8ed/resourcegroups/aml-quickstarts-152755/workspaces/quick-starts-ws-152755&amp;tid=660b3398-b80e-49d2-bc5b-ac1dc93b5254\" target=\"_blank\" rel=\"noopener\">Link to Azure Machine Learning studio</a></td><td><a href=\"https://docs.microsoft.com/en-us/python/api/overview/azure/ml/intro?view=azure-ml-py\" target=\"_blank\" rel=\"noopener\">Link to Documentation</a></td></tr></table>"
      ],
      "text/plain": [
       "<IPython.core.display.HTML object>"
      ]
     },
     "metadata": {},
     "output_type": "display_data"
    },
    {
     "data": {
      "application/vnd.jupyter.widget-view+json": {
       "model_id": "d93190ef1def4c89809d42a3d32e714f",
       "version_major": 2,
       "version_minor": 0
      },
      "text/plain": [
       "_AutoMLWidget(widget_settings={'childWidgetDisplay': 'popup', 'send_telemetry': False, 'log_level': 'INFO', 's…"
      ]
     },
     "metadata": {},
     "output_type": "display_data"
    },
    {
     "data": {
      "application/aml.mini.widget.v1": "{\"status\": \"Completed\", \"workbench_run_details_uri\": \"https://ml.azure.com/runs/AutoML_1eb2883c-ec84-44fa-b028-c77e1f99ce4b?wsid=/subscriptions/a0a76bad-11a1-4a2d-9887-97a29122c8ed/resourcegroups/aml-quickstarts-152755/workspaces/quick-starts-ws-152755&tid=660b3398-b80e-49d2-bc5b-ac1dc93b5254\", \"run_id\": \"AutoML_1eb2883c-ec84-44fa-b028-c77e1f99ce4b\", \"run_properties\": {\"run_id\": \"AutoML_1eb2883c-ec84-44fa-b028-c77e1f99ce4b\", \"created_utc\": \"2021-07-28T04:41:18.223319Z\", \"properties\": {\"num_iterations\": \"1000\", \"training_type\": \"TrainFull\", \"acquisition_function\": \"EI\", \"primary_metric\": \"normalized_root_mean_squared_error\", \"train_split\": \"0\", \"acquisition_parameter\": \"0\", \"num_cross_validation\": \"3\", \"target\": \"cpu-cluster\", \"AMLSettingsJsonString\": \"{\\\"path\\\":null,\\\"name\\\":\\\"Ames-housing-AutoML\\\",\\\"subscription_id\\\":\\\"a0a76bad-11a1-4a2d-9887-97a29122c8ed\\\",\\\"resource_group\\\":\\\"aml-quickstarts-152755\\\",\\\"workspace_name\\\":\\\"quick-starts-ws-152755\\\",\\\"region\\\":\\\"southcentralus\\\",\\\"compute_target\\\":\\\"cpu-cluster\\\",\\\"spark_service\\\":null,\\\"azure_service\\\":\\\"remote\\\",\\\"many_models\\\":false,\\\"pipeline_fetch_max_batch_size\\\":1,\\\"enable_batch_run\\\":false,\\\"enable_run_restructure\\\":false,\\\"start_auxiliary_runs_before_parent_complete\\\":false,\\\"enable_code_generation\\\":false,\\\"iterations\\\":1000,\\\"primary_metric\\\":\\\"normalized_root_mean_squared_error\\\",\\\"task_type\\\":\\\"regression\\\",\\\"data_script\\\":null,\\\"test_size\\\":0.0,\\\"validation_size\\\":0.0,\\\"n_cross_validations\\\":3,\\\"y_min\\\":null,\\\"y_max\\\":null,\\\"num_classes\\\":null,\\\"featurization\\\":\\\"auto\\\",\\\"_ignore_package_version_incompatibilities\\\":false,\\\"is_timeseries\\\":false,\\\"max_cores_per_iteration\\\":-1,\\\"max_concurrent_iterations\\\":4,\\\"iteration_timeout_minutes\\\":5,\\\"mem_in_mb\\\":null,\\\"enforce_time_on_windows\\\":false,\\\"experiment_timeout_minutes\\\":120,\\\"experiment_exit_score\\\":null,\\\"whitelist_models\\\":null,\\\"blacklist_algos\\\":[\\\"TensorFlowDNN\\\",\\\"TensorFlowLinearRegressor\\\"],\\\"supported_models\\\":[\\\"LightGBM\\\",\\\"ElasticNet\\\",\\\"OnlineGradientDescentRegressor\\\",\\\"FastLinearRegressor\\\",\\\"KNN\\\",\\\"ExtremeRandomTrees\\\",\\\"GradientBoosting\\\",\\\"LassoLars\\\",\\\"RandomForest\\\",\\\"TensorFlowLinearRegressor\\\",\\\"DecisionTree\\\",\\\"SGD\\\",\\\"XGBoostRegressor\\\",\\\"TensorFlowDNN\\\"],\\\"private_models\\\":[],\\\"auto_blacklist\\\":true,\\\"blacklist_samples_reached\\\":false,\\\"exclude_nan_labels\\\":true,\\\"verbosity\\\":20,\\\"_debug_log\\\":\\\"azureml_automl.log\\\",\\\"show_warnings\\\":false,\\\"model_explainability\\\":true,\\\"service_url\\\":null,\\\"sdk_url\\\":null,\\\"sdk_packages\\\":null,\\\"enable_onnx_compatible_models\\\":false,\\\"enable_split_onnx_featurizer_estimator_models\\\":false,\\\"vm_type\\\":\\\"STANDARD_D2_V2\\\",\\\"telemetry_verbosity\\\":20,\\\"send_telemetry\\\":true,\\\"enable_dnn\\\":false,\\\"scenario\\\":\\\"SDK-1.13.0\\\",\\\"environment_label\\\":null,\\\"save_mlflow\\\":false,\\\"force_text_dnn\\\":false,\\\"enable_feature_sweeping\\\":true,\\\"enable_early_stopping\\\":true,\\\"early_stopping_n_iters\\\":10,\\\"metrics\\\":null,\\\"enable_metric_confidence\\\":false,\\\"enable_ensembling\\\":true,\\\"enable_stack_ensembling\\\":true,\\\"ensemble_iterations\\\":15,\\\"enable_tf\\\":false,\\\"enable_subsampling\\\":null,\\\"subsample_seed\\\":null,\\\"enable_nimbusml\\\":false,\\\"enable_streaming\\\":false,\\\"force_streaming\\\":false,\\\"track_child_runs\\\":true,\\\"allowed_private_models\\\":[],\\\"label_column_name\\\":\\\"SalePrice\\\",\\\"weight_column_name\\\":null,\\\"cv_split_column_names\\\":null,\\\"enable_local_managed\\\":false,\\\"_local_managed_run_id\\\":null,\\\"cost_mode\\\":1,\\\"lag_length\\\":0,\\\"metric_operation\\\":\\\"minimize\\\",\\\"preprocess\\\":true}\", \"DataPrepJsonString\": \"{\\\\\\\"training_data\\\\\\\": {\\\\\\\"datasetId\\\\\\\": \\\\\\\"d3ab289a-a4f6-4585-8336-a698eed10b50\\\\\\\"}, \\\\\\\"datasets\\\\\\\": 0}\", \"EnableSubsampling\": null, \"runTemplate\": \"AutoML\", \"azureml.runsource\": \"automl\", \"display_task_type\": \"regression\", \"dependencies_versions\": \"{\\\"azureml-widgets\\\": \\\"1.31.0\\\", \\\"azureml-train\\\": \\\"1.31.0\\\", \\\"azureml-train-restclients-hyperdrive\\\": \\\"1.31.0\\\", \\\"azureml-train-core\\\": \\\"1.31.0\\\", \\\"azureml-train-automl\\\": \\\"1.31.0\\\", \\\"azureml-train-automl-runtime\\\": \\\"1.31.0\\\", \\\"azureml-train-automl-client\\\": \\\"1.31.0\\\", \\\"azureml-tensorboard\\\": \\\"1.31.0\\\", \\\"azureml-telemetry\\\": \\\"1.31.0\\\", \\\"azureml-sdk\\\": \\\"1.31.0\\\", \\\"azureml-samples\\\": \\\"0+unknown\\\", \\\"azureml-responsibleai\\\": \\\"1.31.0\\\", \\\"azureml-pipeline\\\": \\\"1.31.0\\\", \\\"azureml-pipeline-steps\\\": \\\"1.31.0\\\", \\\"azureml-pipeline-core\\\": \\\"1.31.0\\\", \\\"azureml-opendatasets\\\": \\\"1.31.0\\\", \\\"azureml-model-management-sdk\\\": \\\"1.0.1b6.post1\\\", \\\"azureml-mlflow\\\": \\\"1.31.0\\\", \\\"azureml-interpret\\\": \\\"1.31.0\\\", \\\"azureml-explain-model\\\": \\\"1.31.0\\\", \\\"azureml-defaults\\\": \\\"1.31.0\\\", \\\"azureml-dataset-runtime\\\": \\\"1.31.0\\\", \\\"azureml-dataprep\\\": \\\"2.18.0\\\", \\\"azureml-dataprep-rslex\\\": \\\"1.16.1\\\", \\\"azureml-dataprep-native\\\": \\\"36.0.0\\\", \\\"azureml-datadrift\\\": \\\"1.31.0\\\", \\\"azureml-core\\\": \\\"1.31.0\\\", \\\"azureml-contrib-services\\\": \\\"1.31.0\\\", \\\"azureml-contrib-server\\\": \\\"1.31.0\\\", \\\"azureml-contrib-reinforcementlearning\\\": \\\"1.31.0\\\", \\\"azureml-contrib-pipeline-steps\\\": \\\"1.31.0\\\", \\\"azureml-contrib-notebook\\\": \\\"1.31.0\\\", \\\"azureml-contrib-fairness\\\": \\\"1.31.0\\\", \\\"azureml-contrib-dataset\\\": \\\"1.31.0\\\", \\\"azureml-cli-common\\\": \\\"1.31.0\\\", \\\"azureml-automl-runtime\\\": \\\"1.31.0\\\", \\\"azureml-automl-dnn-nlp\\\": \\\"1.31.0\\\", \\\"azureml-automl-core\\\": \\\"1.31.0\\\", \\\"azureml-accel-models\\\": \\\"1.31.0\\\"}\", \"_aml_system_scenario_identification\": \"Remote.Parent\", \"ClientType\": \"SDK\", \"environment_cpu_name\": \"AzureML-AutoML\", \"environment_cpu_label\": \"prod\", \"environment_gpu_name\": \"AzureML-AutoML-GPU\", \"environment_gpu_label\": \"prod\", \"root_attribution\": \"automl\", \"attribution\": \"AutoML\", \"Orchestrator\": \"AutoML\", \"CancelUri\": \"https://southcentralus.api.azureml.ms/jasmine/v1.0/subscriptions/a0a76bad-11a1-4a2d-9887-97a29122c8ed/resourceGroups/aml-quickstarts-152755/providers/Microsoft.MachineLearningServices/workspaces/quick-starts-ws-152755/experimentids/1dae971c-d73e-4f77-bb94-7eb9f96c102e/cancel/AutoML_1eb2883c-ec84-44fa-b028-c77e1f99ce4b\", \"ClientSdkVersion\": \"1.32.0\", \"snapshotId\": \"00000000-0000-0000-0000-000000000000\", \"SetupRunId\": \"AutoML_1eb2883c-ec84-44fa-b028-c77e1f99ce4b_setup\", \"SetupRunContainerId\": \"dcid.AutoML_1eb2883c-ec84-44fa-b028-c77e1f99ce4b_setup\", \"FeaturizationRunJsonPath\": \"featurizer_container.json\", \"FeaturizationRunId\": \"AutoML_1eb2883c-ec84-44fa-b028-c77e1f99ce4b_featurize\", \"ProblemInfoJsonString\": \"{\\\"dataset_num_categorical\\\": 0, \\\"is_sparse\\\": true, \\\"subsampling\\\": false, \\\"has_extra_col\\\": true, \\\"dataset_classes\\\": 663, \\\"dataset_features\\\": 408, \\\"dataset_samples\\\": 1460, \\\"single_frequency_class_detected\\\": false}\", \"ModelExplainRunId\": \"AutoML_1eb2883c-ec84-44fa-b028-c77e1f99ce4b_ModelExplain\"}, \"tags\": {\"model_explain_run\": \"best_run\", \"_aml_system_azureml.automlComponent\": \"AutoML\", \"pipeline_id\": \"\", \"score\": \"\", \"predicted_cost\": \"\", \"fit_time\": \"\", \"training_percent\": \"\", \"iteration\": \"\", \"run_preprocessor\": \"\", \"run_algorithm\": \"\", \"dynamic_whitelisting_iterations\": \"<25>;<30>;<35>;\", \"automl_best_child_run_id\": \"AutoML_1eb2883c-ec84-44fa-b028-c77e1f99ce4b_36\", \"model_explain_best_run_child_id\": \"AutoML_1eb2883c-ec84-44fa-b028-c77e1f99ce4b_36\"}, \"end_time_utc\": \"2021-07-28T05:04:00.401664Z\", \"status\": \"Completed\", \"log_files\": {}, \"log_groups\": [], \"run_duration\": \"0:22:42\", \"run_number\": \"1\", \"run_queued_details\": {\"status\": \"Completed\", \"details\": null}}, \"child_runs\": [{\"run_id\": \"AutoML_1eb2883c-ec84-44fa-b028-c77e1f99ce4b_0\", \"run_number\": 5, \"metric\": null, \"status\": \"Completed\", \"run_type\": \"azureml.scriptrun\", \"training_percent\": \"100\", \"start_time\": \"2021-07-28T04:50:21.265761Z\", \"end_time\": \"2021-07-28T04:51:13.535433Z\", \"created_time\": \"2021-07-28T04:50:13.270183Z\", \"created_time_dt\": \"2021-07-28T04:50:13.270183Z\", \"duration\": \"0:01:00\", \"iteration\": \"0\", \"goal\": \"normalized_root_mean_squared_error_min\", \"run_name\": \"MaxAbsScaler, LightGBM\", \"run_properties\": \"copy=True\", \"primary_metric\": 0.03897964, \"best_metric\": 0.03897964}, {\"run_id\": \"AutoML_1eb2883c-ec84-44fa-b028-c77e1f99ce4b_1\", \"run_number\": 6, \"metric\": null, \"status\": \"Completed\", \"run_type\": \"azureml.scriptrun\", \"training_percent\": \"100\", \"start_time\": \"2021-07-28T04:51:28.867538Z\", \"end_time\": \"2021-07-28T04:52:18.046888Z\", \"created_time\": \"2021-07-28T04:50:13.286644Z\", \"created_time_dt\": \"2021-07-28T04:50:13.286644Z\", \"duration\": \"0:02:04\", \"iteration\": \"1\", \"goal\": \"normalized_root_mean_squared_error_min\", \"run_name\": \"MaxAbsScaler, XGBoostRegressor\", \"run_properties\": \"copy=True\", \"primary_metric\": 0.03729939, \"best_metric\": 0.03729939}, {\"run_id\": \"AutoML_1eb2883c-ec84-44fa-b028-c77e1f99ce4b_3\", \"run_number\": 7, \"metric\": null, \"status\": \"Completed\", \"run_type\": \"azureml.scriptrun\", \"training_percent\": \"100\", \"start_time\": \"2021-07-28T04:52:37.94625Z\", \"end_time\": \"2021-07-28T04:53:28.389648Z\", \"created_time\": \"2021-07-28T04:50:13.319647Z\", \"created_time_dt\": \"2021-07-28T04:50:13.319647Z\", \"duration\": \"0:03:15\", \"iteration\": \"3\", \"goal\": \"normalized_root_mean_squared_error_min\", \"run_name\": \"MaxAbsScaler, DecisionTree\", \"run_properties\": \"copy=True\", \"primary_metric\": 0.05990446, \"best_metric\": 0.03729939}, {\"run_id\": \"AutoML_1eb2883c-ec84-44fa-b028-c77e1f99ce4b_2\", \"run_number\": 8, \"metric\": null, \"status\": \"Completed\", \"run_type\": \"azureml.scriptrun\", \"training_percent\": \"100\", \"start_time\": \"2021-07-28T04:53:23.426493Z\", \"end_time\": \"2021-07-28T04:55:11.553126Z\", \"created_time\": \"2021-07-28T04:50:13.33047Z\", \"created_time_dt\": \"2021-07-28T04:50:13.33047Z\", \"duration\": \"0:04:58\", \"iteration\": \"2\", \"goal\": \"normalized_root_mean_squared_error_min\", \"run_name\": \"StandardScalerWrapper, ElasticNet\", \"run_properties\": \"\\n    copy=True,\\n    with_mean=False,\\n    with_std=True\\n\", \"primary_metric\": 0.04856156, \"best_metric\": 0.03729939}, {\"run_id\": \"AutoML_1eb2883c-ec84-44fa-b028-c77e1f99ce4b_4\", \"run_number\": 9, \"metric\": null, \"status\": \"Completed\", \"run_type\": \"azureml.scriptrun\", \"training_percent\": \"100\", \"start_time\": \"2021-07-28T04:53:18.419751Z\", \"end_time\": \"2021-07-28T04:55:11.39479Z\", \"created_time\": \"2021-07-28T04:51:15.074839Z\", \"created_time_dt\": \"2021-07-28T04:51:15.074839Z\", \"duration\": \"0:03:56\", \"iteration\": \"4\", \"goal\": \"normalized_root_mean_squared_error_min\", \"run_name\": \"MaxAbsScaler, ElasticNet\", \"run_properties\": \"copy=True\", \"primary_metric\": 0.04669025, \"best_metric\": 0.03729939}, {\"run_id\": \"AutoML_1eb2883c-ec84-44fa-b028-c77e1f99ce4b_5\", \"run_number\": 10, \"metric\": null, \"status\": \"Completed\", \"run_type\": \"azureml.scriptrun\", \"training_percent\": \"100\", \"start_time\": \"2021-07-28T04:53:22.449193Z\", \"end_time\": \"2021-07-28T04:55:10.371812Z\", \"created_time\": \"2021-07-28T04:52:19.617212Z\", \"created_time_dt\": \"2021-07-28T04:52:19.617212Z\", \"duration\": \"0:02:50\", \"iteration\": \"5\", \"goal\": \"normalized_root_mean_squared_error_min\", \"run_name\": \"MaxAbsScaler, DecisionTree\", \"run_properties\": \"copy=True\", \"primary_metric\": 0.05398915, \"best_metric\": 0.03729939}, {\"run_id\": \"AutoML_1eb2883c-ec84-44fa-b028-c77e1f99ce4b_6\", \"run_number\": 11, \"metric\": null, \"status\": \"Completed\", \"run_type\": \"azureml.scriptrun\", \"training_percent\": \"100\", \"start_time\": \"2021-07-28T04:53:39.22953Z\", \"end_time\": \"2021-07-28T04:54:28.440477Z\", \"created_time\": \"2021-07-28T04:53:31.515699Z\", \"created_time_dt\": \"2021-07-28T04:53:31.515699Z\", \"duration\": \"0:00:56\", \"iteration\": \"6\", \"goal\": \"normalized_root_mean_squared_error_min\", \"run_name\": \"MaxAbsScaler, DecisionTree\", \"run_properties\": \"copy=True\", \"primary_metric\": 0.0533429, \"best_metric\": 0.03729939}, {\"run_id\": \"AutoML_1eb2883c-ec84-44fa-b028-c77e1f99ce4b_7\", \"run_number\": 12, \"metric\": null, \"status\": \"Completed\", \"run_type\": \"azureml.scriptrun\", \"training_percent\": \"100\", \"start_time\": \"2021-07-28T04:54:41.122436Z\", \"end_time\": \"2021-07-28T04:55:28.185733Z\", \"created_time\": \"2021-07-28T04:54:31.369156Z\", \"created_time_dt\": \"2021-07-28T04:54:31.369156Z\", \"duration\": \"0:00:56\", \"iteration\": \"7\", \"goal\": \"normalized_root_mean_squared_error_min\", \"run_name\": \"MaxAbsScaler, DecisionTree\", \"run_properties\": \"copy=True\", \"primary_metric\": 0.05690924, \"best_metric\": 0.03729939}, {\"run_id\": \"AutoML_1eb2883c-ec84-44fa-b028-c77e1f99ce4b_8\", \"run_number\": 13, \"metric\": null, \"status\": \"Completed\", \"run_type\": \"azureml.scriptrun\", \"training_percent\": \"100\", \"start_time\": \"2021-07-28T04:55:23.398553Z\", \"end_time\": \"2021-07-28T04:56:13.289077Z\", \"created_time\": \"2021-07-28T04:55:13.39001Z\", \"created_time_dt\": \"2021-07-28T04:55:13.39001Z\", \"duration\": \"0:00:59\", \"iteration\": \"8\", \"goal\": \"normalized_root_mean_squared_error_min\", \"run_name\": \"MaxAbsScaler, DecisionTree\", \"run_properties\": \"copy=True\", \"primary_metric\": 0.05900801, \"best_metric\": 0.03729939}, {\"run_id\": \"AutoML_1eb2883c-ec84-44fa-b028-c77e1f99ce4b_9\", \"run_number\": 14, \"metric\": null, \"status\": \"Completed\", \"run_type\": \"azureml.scriptrun\", \"training_percent\": \"100\", \"start_time\": \"2021-07-28T04:55:25.461227Z\", \"end_time\": \"2021-07-28T04:56:14.624499Z\", \"created_time\": \"2021-07-28T04:55:17.919482Z\", \"created_time_dt\": \"2021-07-28T04:55:17.919482Z\", \"duration\": \"0:00:56\", \"iteration\": \"9\", \"goal\": \"normalized_root_mean_squared_error_min\", \"run_name\": \"MaxAbsScaler, DecisionTree\", \"run_properties\": \"copy=True\", \"primary_metric\": 0.0531571, \"best_metric\": 0.03729939}, {\"run_id\": \"AutoML_1eb2883c-ec84-44fa-b028-c77e1f99ce4b_10\", \"run_number\": 15, \"metric\": null, \"status\": \"Completed\", \"run_type\": \"azureml.scriptrun\", \"training_percent\": \"100\", \"start_time\": \"2021-07-28T04:55:25.712541Z\", \"end_time\": \"2021-07-28T04:56:14.834834Z\", \"created_time\": \"2021-07-28T04:55:17.944115Z\", \"created_time_dt\": \"2021-07-28T04:55:17.944115Z\", \"duration\": \"0:00:56\", \"iteration\": \"10\", \"goal\": \"normalized_root_mean_squared_error_min\", \"run_name\": \"MaxAbsScaler, DecisionTree\", \"run_properties\": \"copy=True\", \"primary_metric\": 0.05628467, \"best_metric\": 0.03729939}, {\"run_id\": \"AutoML_1eb2883c-ec84-44fa-b028-c77e1f99ce4b_11\", \"run_number\": 16, \"metric\": null, \"status\": \"Completed\", \"run_type\": \"azureml.scriptrun\", \"training_percent\": \"100\", \"start_time\": \"2021-07-28T04:55:42.646512Z\", \"end_time\": \"2021-07-28T04:56:33.327725Z\", \"created_time\": \"2021-07-28T04:55:31.039482Z\", \"created_time_dt\": \"2021-07-28T04:55:31.039482Z\", \"duration\": \"0:01:02\", \"iteration\": \"11\", \"goal\": \"normalized_root_mean_squared_error_min\", \"run_name\": \"MaxAbsScaler, DecisionTree\", \"run_properties\": \"copy=True\", \"primary_metric\": 0.05806369, \"best_metric\": 0.03729939}, {\"run_id\": \"AutoML_1eb2883c-ec84-44fa-b028-c77e1f99ce4b_12\", \"run_number\": 17, \"metric\": null, \"status\": \"Completed\", \"run_type\": \"azureml.scriptrun\", \"training_percent\": \"100\", \"start_time\": \"2021-07-28T04:56:26.436818Z\", \"end_time\": \"2021-07-28T04:57:16.334387Z\", \"created_time\": \"2021-07-28T04:56:16.27572Z\", \"created_time_dt\": \"2021-07-28T04:56:16.27572Z\", \"duration\": \"0:01:00\", \"iteration\": \"12\", \"goal\": \"normalized_root_mean_squared_error_min\", \"run_name\": \"MaxAbsScaler, DecisionTree\", \"run_properties\": \"copy=True\", \"primary_metric\": 0.05993966, \"best_metric\": 0.03729939}, {\"run_id\": \"AutoML_1eb2883c-ec84-44fa-b028-c77e1f99ce4b_13\", \"run_number\": 18, \"metric\": null, \"status\": \"Completed\", \"run_type\": \"azureml.scriptrun\", \"training_percent\": \"100\", \"start_time\": \"2021-07-28T04:56:30.531798Z\", \"end_time\": \"2021-07-28T04:57:20.486769Z\", \"created_time\": \"2021-07-28T04:56:20.786666Z\", \"created_time_dt\": \"2021-07-28T04:56:20.786666Z\", \"duration\": \"0:00:59\", \"iteration\": \"13\", \"goal\": \"normalized_root_mean_squared_error_min\", \"run_name\": \"StandardScalerWrapper, DecisionTree\", \"run_properties\": \"\\n    copy=True,\\n    with_mean=False,\\n    with_std=True\\n\", \"primary_metric\": 0.05773242, \"best_metric\": 0.03729939}, {\"run_id\": \"AutoML_1eb2883c-ec84-44fa-b028-c77e1f99ce4b_14\", \"run_number\": 19, \"metric\": null, \"status\": \"Completed\", \"run_type\": \"azureml.scriptrun\", \"training_percent\": \"100\", \"start_time\": \"2021-07-28T04:56:32.687558Z\", \"end_time\": \"2021-07-28T04:57:23.373189Z\", \"created_time\": \"2021-07-28T04:56:20.855371Z\", \"created_time_dt\": \"2021-07-28T04:56:20.855371Z\", \"duration\": \"0:01:02\", \"iteration\": \"14\", \"goal\": \"normalized_root_mean_squared_error_min\", \"run_name\": \"MaxAbsScaler, DecisionTree\", \"run_properties\": \"copy=True\", \"primary_metric\": 0.06251591, \"best_metric\": 0.03729939}, {\"run_id\": \"AutoML_1eb2883c-ec84-44fa-b028-c77e1f99ce4b_15\", \"run_number\": 20, \"metric\": null, \"status\": \"Completed\", \"run_type\": \"azureml.scriptrun\", \"training_percent\": \"100\", \"start_time\": \"2021-07-28T04:56:45.508036Z\", \"end_time\": \"2021-07-28T04:57:35.237124Z\", \"created_time\": \"2021-07-28T04:56:36.145058Z\", \"created_time_dt\": \"2021-07-28T04:56:36.145058Z\", \"duration\": \"0:00:59\", \"iteration\": \"15\", \"goal\": \"normalized_root_mean_squared_error_min\", \"run_name\": \"MaxAbsScaler, DecisionTree\", \"run_properties\": \"copy=True\", \"primary_metric\": 0.06295108, \"best_metric\": 0.03729939}, {\"run_id\": \"AutoML_1eb2883c-ec84-44fa-b028-c77e1f99ce4b_16\", \"run_number\": 21, \"metric\": null, \"status\": \"Completed\", \"run_type\": \"azureml.scriptrun\", \"training_percent\": \"100\", \"start_time\": \"2021-07-28T04:57:33.202248Z\", \"end_time\": \"2021-07-28T04:58:24.65485Z\", \"created_time\": \"2021-07-28T04:57:19.160257Z\", \"created_time_dt\": \"2021-07-28T04:57:19.160257Z\", \"duration\": \"0:01:05\", \"iteration\": \"16\", \"goal\": \"normalized_root_mean_squared_error_min\", \"run_name\": \"MaxAbsScaler, SGD\", \"run_properties\": \"copy=True\", \"primary_metric\": 0.04534097, \"best_metric\": 0.03729939}, {\"run_id\": \"AutoML_1eb2883c-ec84-44fa-b028-c77e1f99ce4b_17\", \"run_number\": 22, \"metric\": null, \"status\": \"Completed\", \"run_type\": \"azureml.scriptrun\", \"training_percent\": \"100\", \"start_time\": \"2021-07-28T04:57:35.326494Z\", \"end_time\": \"2021-07-28T04:58:26.101063Z\", \"created_time\": \"2021-07-28T04:57:23.355706Z\", \"created_time_dt\": \"2021-07-28T04:57:23.355706Z\", \"duration\": \"0:01:02\", \"iteration\": \"17\", \"goal\": \"normalized_root_mean_squared_error_min\", \"run_name\": \"MaxAbsScaler, DecisionTree\", \"run_properties\": \"copy=True\", \"primary_metric\": 0.05573802, \"best_metric\": 0.03729939}, {\"run_id\": \"AutoML_1eb2883c-ec84-44fa-b028-c77e1f99ce4b_18\", \"run_number\": 23, \"metric\": null, \"status\": \"Completed\", \"run_type\": \"azureml.scriptrun\", \"training_percent\": \"100\", \"start_time\": \"2021-07-28T04:57:37.350304Z\", \"end_time\": \"2021-07-28T04:58:27.332556Z\", \"created_time\": \"2021-07-28T04:57:27.460546Z\", \"created_time_dt\": \"2021-07-28T04:57:27.460546Z\", \"duration\": \"0:00:59\", \"iteration\": \"18\", \"goal\": \"normalized_root_mean_squared_error_min\", \"run_name\": \"MaxAbsScaler, DecisionTree\", \"run_properties\": \"copy=True\", \"primary_metric\": 0.06104573, \"best_metric\": 0.03729939}, {\"run_id\": \"AutoML_1eb2883c-ec84-44fa-b028-c77e1f99ce4b_19\", \"run_number\": 24, \"metric\": null, \"status\": \"Completed\", \"run_type\": \"azureml.scriptrun\", \"training_percent\": \"100\", \"start_time\": \"2021-07-28T04:57:47.896995Z\", \"end_time\": \"2021-07-28T04:58:32.086544Z\", \"created_time\": \"2021-07-28T04:57:38.296872Z\", \"created_time_dt\": \"2021-07-28T04:57:38.296872Z\", \"duration\": \"0:00:53\", \"iteration\": \"19\", \"goal\": \"normalized_root_mean_squared_error_min\", \"run_name\": \"MaxAbsScaler, DecisionTree\", \"run_properties\": \"copy=True\", \"primary_metric\": 0.06202516, \"best_metric\": 0.03729939}, {\"run_id\": \"AutoML_1eb2883c-ec84-44fa-b028-c77e1f99ce4b_20\", \"run_number\": 25, \"metric\": null, \"status\": \"Completed\", \"run_type\": \"azureml.scriptrun\", \"training_percent\": \"100\", \"start_time\": \"2021-07-28T04:58:41.544813Z\", \"end_time\": \"2021-07-28T04:59:32.998571Z\", \"created_time\": \"2021-07-28T04:58:27.47763Z\", \"created_time_dt\": \"2021-07-28T04:58:27.47763Z\", \"duration\": \"0:01:05\", \"iteration\": \"20\", \"goal\": \"normalized_root_mean_squared_error_min\", \"run_name\": \"MaxAbsScaler, SGD\", \"run_properties\": \"copy=True\", \"primary_metric\": 0.04400212, \"best_metric\": 0.03729939}, {\"run_id\": \"AutoML_1eb2883c-ec84-44fa-b028-c77e1f99ce4b_22\", \"run_number\": 26, \"metric\": null, \"status\": \"Completed\", \"run_type\": \"azureml.scriptrun\", \"training_percent\": \"100\", \"start_time\": \"2021-07-28T04:58:41.993029Z\", \"end_time\": \"2021-07-28T04:59:34.913362Z\", \"created_time\": \"2021-07-28T04:58:32.119745Z\", \"created_time_dt\": \"2021-07-28T04:58:32.119745Z\", \"duration\": \"0:01:02\", \"iteration\": \"22\", \"goal\": \"normalized_root_mean_squared_error_min\", \"run_name\": \"MaxAbsScaler, DecisionTree\", \"run_properties\": \"copy=True\", \"primary_metric\": 0.05376327, \"best_metric\": 0.03729939}, {\"run_id\": \"AutoML_1eb2883c-ec84-44fa-b028-c77e1f99ce4b_21\", \"run_number\": 27, \"metric\": null, \"status\": \"Completed\", \"run_type\": \"azureml.scriptrun\", \"training_percent\": \"100\", \"start_time\": \"2021-07-28T04:58:42.296707Z\", \"end_time\": \"2021-07-28T04:59:32.2606Z\", \"created_time\": \"2021-07-28T04:58:32.254573Z\", \"created_time_dt\": \"2021-07-28T04:58:32.254573Z\", \"duration\": \"0:01:00\", \"iteration\": \"21\", \"goal\": \"normalized_root_mean_squared_error_min\", \"run_name\": \"MaxAbsScaler, DecisionTree\", \"run_properties\": \"copy=True\", \"primary_metric\": 0.05537957, \"best_metric\": 0.03729939}, {\"run_id\": \"AutoML_1eb2883c-ec84-44fa-b028-c77e1f99ce4b_23\", \"run_number\": 28, \"metric\": null, \"status\": \"Completed\", \"run_type\": \"azureml.scriptrun\", \"training_percent\": \"100\", \"start_time\": \"2021-07-28T04:58:46.444691Z\", \"end_time\": \"2021-07-28T04:59:33.514403Z\", \"created_time\": \"2021-07-28T04:58:36.93509Z\", \"created_time_dt\": \"2021-07-28T04:58:36.93509Z\", \"duration\": \"0:00:56\", \"iteration\": \"23\", \"goal\": \"normalized_root_mean_squared_error_min\", \"run_name\": \"MaxAbsScaler, DecisionTree\", \"run_properties\": \"copy=True\", \"primary_metric\": 0.05427608, \"best_metric\": 0.03729939}, {\"run_id\": \"AutoML_1eb2883c-ec84-44fa-b028-c77e1f99ce4b_24\", \"run_number\": 29, \"metric\": null, \"status\": \"Completed\", \"run_type\": \"azureml.scriptrun\", \"training_percent\": \"100\", \"start_time\": \"2021-07-28T04:59:46.534202Z\", \"end_time\": \"2021-07-28T05:00:37.260531Z\", \"created_time\": \"2021-07-28T04:59:35.133988Z\", \"created_time_dt\": \"2021-07-28T04:59:35.133988Z\", \"duration\": \"0:01:02\", \"iteration\": \"24\", \"goal\": \"normalized_root_mean_squared_error_min\", \"run_name\": \"MaxAbsScaler, DecisionTree\", \"run_properties\": \"copy=True\", \"primary_metric\": 0.05415854, \"best_metric\": 0.03729939}, {\"run_id\": \"AutoML_1eb2883c-ec84-44fa-b028-c77e1f99ce4b_25\", \"run_number\": 30, \"metric\": null, \"status\": \"Completed\", \"run_type\": \"azureml.scriptrun\", \"training_percent\": \"100\", \"start_time\": \"2021-07-28T04:59:49.122245Z\", \"end_time\": \"2021-07-28T05:00:50.994155Z\", \"created_time\": \"2021-07-28T04:59:39.514115Z\", \"created_time_dt\": \"2021-07-28T04:59:39.514115Z\", \"duration\": \"0:01:11\", \"iteration\": \"25\", \"goal\": \"normalized_root_mean_squared_error_min\", \"run_name\": \"TruncatedSVDWrapper, XGBoostRegressor\", \"run_properties\": \"n_components=0.3068421052631579, random_state=None\", \"primary_metric\": 0.04557896, \"best_metric\": 0.03729939}, {\"run_id\": \"AutoML_1eb2883c-ec84-44fa-b028-c77e1f99ce4b_27\", \"run_number\": 31, \"metric\": null, \"status\": \"Completed\", \"run_type\": \"azureml.scriptrun\", \"training_percent\": \"100\", \"start_time\": \"2021-07-28T04:59:49.070532Z\", \"end_time\": \"2021-07-28T05:00:38.979333Z\", \"created_time\": \"2021-07-28T04:59:39.536987Z\", \"created_time_dt\": \"2021-07-28T04:59:39.536987Z\", \"duration\": \"0:00:59\", \"iteration\": \"27\", \"goal\": \"normalized_root_mean_squared_error_min\", \"run_name\": \"MaxAbsScaler, DecisionTree\", \"run_properties\": \"copy=True\", \"primary_metric\": 0.05734095, \"best_metric\": 0.03729939}, {\"run_id\": \"AutoML_1eb2883c-ec84-44fa-b028-c77e1f99ce4b_26\", \"run_number\": 32, \"metric\": null, \"status\": \"Completed\", \"run_type\": \"azureml.scriptrun\", \"training_percent\": \"100\", \"start_time\": \"2021-07-28T04:59:46.834716Z\", \"end_time\": \"2021-07-28T05:00:41.687914Z\", \"created_time\": \"2021-07-28T04:59:39.546068Z\", \"created_time_dt\": \"2021-07-28T04:59:39.546068Z\", \"duration\": \"0:01:02\", \"iteration\": \"26\", \"goal\": \"normalized_root_mean_squared_error_min\", \"run_name\": \"MaxAbsScaler, RandomForest\", \"run_properties\": \"copy=True\", \"primary_metric\": 0.04561394, \"best_metric\": 0.03729939}, {\"run_id\": \"AutoML_1eb2883c-ec84-44fa-b028-c77e1f99ce4b_28\", \"run_number\": 33, \"metric\": null, \"status\": \"Completed\", \"run_type\": \"azureml.scriptrun\", \"training_percent\": \"100\", \"start_time\": \"2021-07-28T05:00:54.070436Z\", \"end_time\": \"2021-07-28T05:01:42.768248Z\", \"created_time\": \"2021-07-28T05:00:39.310424Z\", \"created_time_dt\": \"2021-07-28T05:00:39.310424Z\", \"duration\": \"0:01:03\", \"iteration\": \"28\", \"goal\": \"normalized_root_mean_squared_error_min\", \"run_name\": \"MaxAbsScaler, DecisionTree\", \"run_properties\": \"copy=True\", \"primary_metric\": 0.05786235, \"best_metric\": 0.03729939}, {\"run_id\": \"AutoML_1eb2883c-ec84-44fa-b028-c77e1f99ce4b_29\", \"run_number\": 34, \"metric\": null, \"status\": \"Completed\", \"run_type\": \"azureml.scriptrun\", \"training_percent\": \"100\", \"start_time\": \"2021-07-28T05:00:55.067319Z\", \"end_time\": \"2021-07-28T05:01:45.763047Z\", \"created_time\": \"2021-07-28T05:00:42.790627Z\", \"created_time_dt\": \"2021-07-28T05:00:42.790627Z\", \"duration\": \"0:01:02\", \"iteration\": \"29\", \"goal\": \"normalized_root_mean_squared_error_min\", \"run_name\": \"MaxAbsScaler, DecisionTree\", \"run_properties\": \"copy=True\", \"primary_metric\": 0.05796476, \"best_metric\": 0.03729939}, {\"run_id\": \"AutoML_1eb2883c-ec84-44fa-b028-c77e1f99ce4b_30\", \"run_number\": 35, \"metric\": null, \"status\": \"Completed\", \"run_type\": \"azureml.scriptrun\", \"training_percent\": \"100\", \"start_time\": \"2021-07-28T05:00:56.955482Z\", \"end_time\": \"2021-07-28T05:01:49.768023Z\", \"created_time\": \"2021-07-28T05:00:47.287329Z\", \"created_time_dt\": \"2021-07-28T05:00:47.287329Z\", \"duration\": \"0:01:02\", \"iteration\": \"30\", \"goal\": \"normalized_root_mean_squared_error_min\", \"run_name\": \"SparseNormalizer, XGBoostRegressor\", \"run_properties\": \"copy=True, norm='max'\", \"primary_metric\": 0.04545503, \"best_metric\": 0.03729939}, {\"run_id\": \"AutoML_1eb2883c-ec84-44fa-b028-c77e1f99ce4b_31\", \"run_number\": 36, \"metric\": null, \"status\": \"Completed\", \"run_type\": \"azureml.scriptrun\", \"training_percent\": \"100\", \"start_time\": \"2021-07-28T05:01:06.899802Z\", \"end_time\": \"2021-07-28T05:01:55.452971Z\", \"created_time\": \"2021-07-28T05:00:52.865278Z\", \"created_time_dt\": \"2021-07-28T05:00:52.865278Z\", \"duration\": \"0:01:02\", \"iteration\": \"31\", \"goal\": \"normalized_root_mean_squared_error_min\", \"run_name\": \"MaxAbsScaler, DecisionTree\", \"run_properties\": \"copy=True\", \"primary_metric\": 0.05985167, \"best_metric\": 0.03729939}, {\"run_id\": \"AutoML_1eb2883c-ec84-44fa-b028-c77e1f99ce4b_32\", \"run_number\": 37, \"metric\": null, \"status\": \"Canceled\", \"run_type\": \"azureml.scriptrun\", \"training_percent\": \"100\", \"start_time\": \"2021-07-28T05:01:58.823432Z\", \"end_time\": \"2021-07-28T05:02:57.37333Z\", \"created_time\": \"2021-07-28T05:01:44.763679Z\", \"created_time_dt\": \"2021-07-28T05:01:44.763679Z\", \"duration\": \"0:01:12\", \"iteration\": \"32\", \"goal\": \"normalized_root_mean_squared_error_min\", \"run_name\": \"MaxAbsScaler, GradientBoosting\", \"run_properties\": \"copy=True\", \"primary_metric\": 0.05070325, \"best_metric\": 0.03729939}, {\"run_id\": \"AutoML_1eb2883c-ec84-44fa-b028-c77e1f99ce4b_33\", \"run_number\": 38, \"metric\": null, \"status\": \"Completed\", \"run_type\": \"azureml.scriptrun\", \"training_percent\": \"100\", \"start_time\": \"2021-07-28T05:02:00.231989Z\", \"end_time\": \"2021-07-28T05:02:50.94937Z\", \"created_time\": \"2021-07-28T05:01:48.447636Z\", \"created_time_dt\": \"2021-07-28T05:01:48.447636Z\", \"duration\": \"0:01:02\", \"iteration\": \"33\", \"goal\": \"normalized_root_mean_squared_error_min\", \"run_name\": \"MaxAbsScaler, DecisionTree\", \"run_properties\": \"copy=True\", \"primary_metric\": 0.05531432, \"best_metric\": 0.03729939}, {\"run_id\": \"AutoML_1eb2883c-ec84-44fa-b028-c77e1f99ce4b_34\", \"run_number\": 39, \"metric\": null, \"status\": \"Canceled\", \"run_type\": \"azureml.scriptrun\", \"training_percent\": \"100\", \"start_time\": \"2021-07-28T05:02:05.850469Z\", \"end_time\": \"2021-07-28T05:02:57.387374Z\", \"created_time\": \"2021-07-28T05:01:51.718829Z\", \"created_time_dt\": \"2021-07-28T05:01:51.718829Z\", \"duration\": \"0:01:05\", \"iteration\": \"34\", \"goal\": \"normalized_root_mean_squared_error_min\", \"run_name\": \"MaxAbsScaler, RandomForest\", \"run_properties\": \"copy=True\", \"primary_metric\": 0.05898803, \"best_metric\": 0.03729939}, {\"run_id\": \"AutoML_1eb2883c-ec84-44fa-b028-c77e1f99ce4b_35\", \"run_number\": 40, \"metric\": null, \"status\": \"Canceled\", \"run_type\": \"azureml.scriptrun\", \"training_percent\": \"100\", \"start_time\": \"2021-07-28T05:02:07.912092Z\", \"end_time\": \"2021-07-28T05:02:57.440387Z\", \"created_time\": \"2021-07-28T05:01:58.500347Z\", \"created_time_dt\": \"2021-07-28T05:01:58.500347Z\", \"duration\": \"0:00:58\", \"iteration\": \"35\", \"goal\": null, \"run_name\": \"SparseNormalizer, XGBoostRegressor\", \"run_properties\": null}, {\"run_id\": \"AutoML_1eb2883c-ec84-44fa-b028-c77e1f99ce4b_36\", \"run_number\": 41, \"metric\": null, \"status\": \"Completed\", \"run_type\": \"azureml.scriptrun\", \"training_percent\": \"100\", \"start_time\": \"2021-07-28T05:03:06.338421Z\", \"end_time\": \"2021-07-28T05:03:58.575391Z\", \"created_time\": \"2021-07-28T05:02:58.308218Z\", \"created_time_dt\": \"2021-07-28T05:02:58.308218Z\", \"duration\": \"0:01:00\", \"iteration\": \"36\", \"goal\": \"normalized_root_mean_squared_error_min\", \"run_name\": \"VotingEnsemble\", \"run_properties\": \"\\n    estimators=[('1', Pipeline(memory=None,\\n             steps=[('maxabsscaler', MaxAbsScaler(copy=True\", \"primary_metric\": 0.03574406, \"best_metric\": 0.03574406}, {\"run_id\": \"AutoML_1eb2883c-ec84-44fa-b028-c77e1f99ce4b_37\", \"run_number\": 42, \"metric\": null, \"status\": \"Completed\", \"run_type\": \"azureml.scriptrun\", \"training_percent\": \"100\", \"start_time\": \"2021-07-28T05:03:06.151679Z\", \"end_time\": \"2021-07-28T05:03:58.483365Z\", \"created_time\": \"2021-07-28T05:02:58.350235Z\", \"created_time_dt\": \"2021-07-28T05:02:58.350235Z\", \"duration\": \"0:01:00\", \"iteration\": \"37\", \"goal\": \"normalized_root_mean_squared_error_min\", \"run_name\": \"StackEnsemble\", \"run_properties\": \"\\n    base_learners=[('1', Pipeline(memory=None,\\n             steps=[('maxabsscaler', MaxAbsScaler(copy=True\", \"primary_metric\": 0.03673068, \"best_metric\": 0.03574406}], \"children_metrics\": {\"categories\": [0], \"series\": {\"root_mean_squared_error\": [{\"categories\": [\"0\", \"1\", \"2\", \"3\", \"4\", \"5\", \"6\", \"7\", \"8\", \"9\", \"10\", \"11\", \"12\", \"13\", \"14\", \"15\", \"16\", \"17\", \"18\", \"19\", \"20\", \"21\", \"22\", \"23\", \"24\", \"25\", \"26\", \"27\", \"28\", \"29\", \"30\", \"31\", \"32\", \"33\", \"34\", \"36\", \"37\"], \"mode\": \"markers\", \"name\": \"root_mean_squared_error\", \"stepped\": false, \"type\": \"scatter\", \"data\": [28069.237939211864, 26859.28773089784, 34969.17839122998, 43137.198564854385, 33621.647129257, 38877.585074180846, 38412.2252159065, 40980.34210410226, 42491.67088275525, 38278.430708579755, 40530.593946135814, 41811.66140454059, 43162.55056838692, 41573.1133073018, 45017.70601806201, 45331.07485463462, 32650.030536586903, 40136.95158918514, 43959.03343202232, 44664.318145600264, 31685.92701542167, 39878.8312646357, 38714.932284842645, 39084.20794270237, 38999.56469568404, 32821.41210339984, 32846.599629231736, 41291.21844266844, 41666.675155051045, 41740.42263025396, 32732.165645473506, 43099.18782861633, 36511.410602027725, 39831.84060927059, 42477.279870055645, 25739.296393934364, 26449.76290786141]}, {\"categories\": [\"0\", \"1\", \"2\", \"3\", \"4\", \"5\", \"6\", \"7\", \"8\", \"9\", \"10\", \"11\", \"12\", \"13\", \"14\", \"15\", \"16\", \"17\", \"18\", \"19\", \"20\", \"21\", \"22\", \"23\", \"24\", \"25\", \"26\", \"27\", \"28\", \"29\", \"30\", \"31\", \"32\", \"33\", \"34\", \"36\", \"37\"], \"mode\": \"lines\", \"name\": \"root_mean_squared_error_min\", \"stepped\": true, \"type\": \"scatter\", \"data\": [28069.237939211864, 26859.28773089784, 26859.28773089784, 26859.28773089784, 26859.28773089784, 26859.28773089784, 26859.28773089784, 26859.28773089784, 26859.28773089784, 26859.28773089784, 26859.28773089784, 26859.28773089784, 26859.28773089784, 26859.28773089784, 26859.28773089784, 26859.28773089784, 26859.28773089784, 26859.28773089784, 26859.28773089784, 26859.28773089784, 26859.28773089784, 26859.28773089784, 26859.28773089784, 26859.28773089784, 26859.28773089784, 26859.28773089784, 26859.28773089784, 26859.28773089784, 26859.28773089784, 26859.28773089784, 26859.28773089784, 26859.28773089784, 26859.28773089784, 26859.28773089784, 26859.28773089784, 25739.296393934364, 25739.296393934364]}], \"spearman_correlation\": [{\"categories\": [\"0\", \"1\", \"2\", \"3\", \"4\", \"5\", \"6\", \"7\", \"8\", \"9\", \"10\", \"11\", \"12\", \"13\", \"14\", \"15\", \"16\", \"17\", \"18\", \"19\", \"20\", \"21\", \"22\", \"23\", \"24\", \"25\", \"26\", \"27\", \"28\", \"29\", \"30\", \"31\", \"32\", \"33\", \"34\", \"36\", \"37\"], \"mode\": \"markers\", \"name\": \"spearman_correlation\", \"stepped\": false, \"type\": \"scatter\", \"data\": [0.9492174530137758, 0.9504224996509191, 0.9364297035392918, 0.8564708303446845, 0.9397583218395109, 0.8801707530252431, 0.8804437150721199, 0.8722044577703043, 0.853477535207229, 0.8813673540235395, 0.8675737927677364, 0.8785993447976143, 0.8515832865565764, 0.8666060027247324, 0.8400073910647241, 0.8431257730395817, 0.9371118739589993, 0.8775709883320194, 0.8522279542317653, 0.8612172014889302, 0.9386141748509851, 0.8753318730263642, 0.8893589550536133, 0.873983167101783, 0.8839811903896484, 0.9213015957678338, 0.926071743769341, 0.8743001713022632, 0.8704293123437936, 0.8728838449807913, 0.9277835300677043, 0.8773153662687463, 0.9446170281913014, 0.8725212723008383, 0.8987444829284069, 0.9577828532398551, 0.956901673578339]}, {\"categories\": [\"0\", \"1\", \"2\", \"3\", \"4\", \"5\", \"6\", \"7\", \"8\", \"9\", \"10\", \"11\", \"12\", \"13\", \"14\", \"15\", \"16\", \"17\", \"18\", \"19\", \"20\", \"21\", \"22\", \"23\", \"24\", \"25\", \"26\", \"27\", \"28\", \"29\", \"30\", \"31\", \"32\", \"33\", \"34\", \"36\", \"37\"], \"mode\": \"lines\", \"name\": \"spearman_correlation_max\", \"stepped\": true, \"type\": \"scatter\", \"data\": [0.9492174530137758, 0.9504224996509191, 0.9504224996509191, 0.9504224996509191, 0.9504224996509191, 0.9504224996509191, 0.9504224996509191, 0.9504224996509191, 0.9504224996509191, 0.9504224996509191, 0.9504224996509191, 0.9504224996509191, 0.9504224996509191, 0.9504224996509191, 0.9504224996509191, 0.9504224996509191, 0.9504224996509191, 0.9504224996509191, 0.9504224996509191, 0.9504224996509191, 0.9504224996509191, 0.9504224996509191, 0.9504224996509191, 0.9504224996509191, 0.9504224996509191, 0.9504224996509191, 0.9504224996509191, 0.9504224996509191, 0.9504224996509191, 0.9504224996509191, 0.9504224996509191, 0.9504224996509191, 0.9504224996509191, 0.9504224996509191, 0.9504224996509191, 0.9577828532398551, 0.9577828532398551]}], \"r2_score\": [{\"categories\": [\"0\", \"1\", \"2\", \"3\", \"4\", \"5\", \"6\", \"7\", \"8\", \"9\", \"10\", \"11\", \"12\", \"13\", \"14\", \"15\", \"16\", \"17\", \"18\", \"19\", \"20\", \"21\", \"22\", \"23\", \"24\", \"25\", \"26\", \"27\", \"28\", \"29\", \"30\", \"31\", \"32\", \"33\", \"34\", \"36\", \"37\"], \"mode\": \"markers\", \"name\": \"r2_score\", \"stepped\": false, \"type\": \"scatter\", \"data\": [0.8737010377668321, 0.8849608493260298, 0.8037648845486537, 0.7040840525604297, 0.8190077710606533, 0.7595714921657528, 0.7646542882990213, 0.7304988023971472, 0.7133718962153953, 0.766878450305648, 0.7392665747054762, 0.7225093428353677, 0.7036649009556669, 0.7254612008690677, 0.6781473692616488, 0.673339554731863, 0.83062025906824, 0.7430497268371977, 0.693336603373246, 0.6821309196010903, 0.8406494137348529, 0.7466190852865308, 0.7617973792254554, 0.7566048536737728, 0.7583074987478152, 0.8285162661802854, 0.8281783892903446, 0.7266818004527323, 0.7238165308230804, 0.7223931817076178, 0.8298769312337994, 0.7033619474400895, 0.7884233983759522, 0.7474273576424971, 0.7135911564225595, 0.894495574186684, 0.8884166175393289]}, {\"categories\": [\"0\", \"1\", \"2\", \"3\", \"4\", \"5\", \"6\", \"7\", \"8\", \"9\", \"10\", \"11\", \"12\", \"13\", \"14\", \"15\", \"16\", \"17\", \"18\", \"19\", \"20\", \"21\", \"22\", \"23\", \"24\", \"25\", \"26\", \"27\", \"28\", \"29\", \"30\", \"31\", \"32\", \"33\", \"34\", \"36\", \"37\"], \"mode\": \"lines\", \"name\": \"r2_score_max\", \"stepped\": true, \"type\": \"scatter\", \"data\": [0.8737010377668321, 0.8849608493260298, 0.8849608493260298, 0.8849608493260298, 0.8849608493260298, 0.8849608493260298, 0.8849608493260298, 0.8849608493260298, 0.8849608493260298, 0.8849608493260298, 0.8849608493260298, 0.8849608493260298, 0.8849608493260298, 0.8849608493260298, 0.8849608493260298, 0.8849608493260298, 0.8849608493260298, 0.8849608493260298, 0.8849608493260298, 0.8849608493260298, 0.8849608493260298, 0.8849608493260298, 0.8849608493260298, 0.8849608493260298, 0.8849608493260298, 0.8849608493260298, 0.8849608493260298, 0.8849608493260298, 0.8849608493260298, 0.8849608493260298, 0.8849608493260298, 0.8849608493260298, 0.8849608493260298, 0.8849608493260298, 0.8849608493260298, 0.894495574186684, 0.894495574186684]}], \"mean_absolute_percentage_error\": [{\"categories\": [\"0\", \"1\", \"2\", \"3\", \"4\", \"5\", \"6\", \"7\", \"8\", \"9\", \"10\", \"11\", \"12\", \"13\", \"14\", \"15\", \"16\", \"17\", \"18\", \"19\", \"20\", \"21\", \"22\", \"23\", \"24\", \"25\", \"26\", \"27\", \"28\", \"29\", \"30\", \"31\", \"32\", \"33\", \"34\", \"36\", \"37\"], \"mode\": \"markers\", \"name\": \"mean_absolute_percentage_error\", \"stepped\": false, \"type\": \"scatter\", \"data\": [9.832636501158142, 9.863476256055584, 10.867691596608509, 16.251150189476956, 11.022157597484743, 14.896741741783686, 15.043358975722251, 15.665376660054799, 16.660697597832172, 14.9493329788962, 16.0236377244821, 15.322586679833298, 16.525810366411005, 15.62977910709892, 17.3842649323048, 17.683891982248255, 11.795808679032762, 15.03404299525692, 17.117808770577767, 16.437477464198256, 11.691222655283083, 15.256040684824612, 14.906556234249551, 15.155501719223807, 14.832107331441392, 12.167443001988493, 12.080428051693064, 15.498870665404825, 15.615494169314092, 15.524954501727658, 11.811296246125105, 15.464809013981693, 13.263115545743878, 15.099362516507734, 15.335318912780345, 9.05916141769014, 9.283076702898176]}, {\"categories\": [\"0\", \"1\", \"2\", \"3\", \"4\", \"5\", \"6\", \"7\", \"8\", \"9\", \"10\", \"11\", \"12\", \"13\", \"14\", \"15\", \"16\", \"17\", \"18\", \"19\", \"20\", \"21\", \"22\", \"23\", \"24\", \"25\", \"26\", \"27\", \"28\", \"29\", \"30\", \"31\", \"32\", \"33\", \"34\", \"36\", \"37\"], \"mode\": \"lines\", \"name\": \"mean_absolute_percentage_error_min\", \"stepped\": true, \"type\": \"scatter\", \"data\": [9.832636501158142, 9.832636501158142, 9.832636501158142, 9.832636501158142, 9.832636501158142, 9.832636501158142, 9.832636501158142, 9.832636501158142, 9.832636501158142, 9.832636501158142, 9.832636501158142, 9.832636501158142, 9.832636501158142, 9.832636501158142, 9.832636501158142, 9.832636501158142, 9.832636501158142, 9.832636501158142, 9.832636501158142, 9.832636501158142, 9.832636501158142, 9.832636501158142, 9.832636501158142, 9.832636501158142, 9.832636501158142, 9.832636501158142, 9.832636501158142, 9.832636501158142, 9.832636501158142, 9.832636501158142, 9.832636501158142, 9.832636501158142, 9.832636501158142, 9.832636501158142, 9.832636501158142, 9.05916141769014, 9.05916141769014]}], \"normalized_mean_absolute_error\": [{\"categories\": [\"0\", \"1\", \"2\", \"3\", \"4\", \"5\", \"6\", \"7\", \"8\", \"9\", \"10\", \"11\", \"12\", \"13\", \"14\", \"15\", \"16\", \"17\", \"18\", \"19\", \"20\", \"21\", \"22\", \"23\", \"24\", \"25\", \"26\", \"27\", \"28\", \"29\", \"30\", \"31\", \"32\", \"33\", \"34\", \"36\", \"37\"], \"mode\": \"markers\", \"name\": \"normalized_mean_absolute_error\", \"stepped\": false, \"type\": \"scatter\", \"data\": [0.023318176369804895, 0.02322235216861492, 0.025205378570468406, 0.03828413774341647, 0.02571839824103006, 0.03509949174445575, 0.03537397673237079, 0.036699461513090274, 0.03858909262370471, 0.03523472949034629, 0.03726696180169075, 0.03696860858836076, 0.03878605518523714, 0.03736060880072673, 0.04055816685265845, 0.041297507222626324, 0.027449682186874862, 0.03563844184801078, 0.04007975035035607, 0.03915802676938462, 0.027018315303037516, 0.03623121857609488, 0.034893229667915325, 0.0358610956641388, 0.03519189649220341, 0.028567286354023294, 0.02819891637848417, 0.03679655977949344, 0.03689308581952602, 0.03727834609080393, 0.028318251372026117, 0.03710105917851334, 0.02982886679684248, 0.03621156769170302, 0.03540203222210436, 0.02133548496494304, 0.022064076623015707]}, {\"categories\": [\"0\", \"1\", \"2\", \"3\", \"4\", \"5\", \"6\", \"7\", \"8\", \"9\", \"10\", \"11\", \"12\", \"13\", \"14\", \"15\", \"16\", \"17\", \"18\", \"19\", \"20\", \"21\", \"22\", \"23\", \"24\", \"25\", \"26\", \"27\", \"28\", \"29\", \"30\", \"31\", \"32\", \"33\", \"34\", \"36\", \"37\"], \"mode\": \"lines\", \"name\": \"normalized_mean_absolute_error_min\", \"stepped\": true, \"type\": \"scatter\", \"data\": [0.023318176369804895, 0.02322235216861492, 0.02322235216861492, 0.02322235216861492, 0.02322235216861492, 0.02322235216861492, 0.02322235216861492, 0.02322235216861492, 0.02322235216861492, 0.02322235216861492, 0.02322235216861492, 0.02322235216861492, 0.02322235216861492, 0.02322235216861492, 0.02322235216861492, 0.02322235216861492, 0.02322235216861492, 0.02322235216861492, 0.02322235216861492, 0.02322235216861492, 0.02322235216861492, 0.02322235216861492, 0.02322235216861492, 0.02322235216861492, 0.02322235216861492, 0.02322235216861492, 0.02322235216861492, 0.02322235216861492, 0.02322235216861492, 0.02322235216861492, 0.02322235216861492, 0.02322235216861492, 0.02322235216861492, 0.02322235216861492, 0.02322235216861492, 0.02133548496494304, 0.02133548496494304]}], \"normalized_root_mean_squared_log_error\": [{\"categories\": [\"0\", \"1\", \"2\", \"3\", \"4\", \"5\", \"6\", \"7\", \"8\", \"9\", \"10\", \"11\", \"12\", \"13\", \"14\", \"15\", \"16\", \"17\", \"18\", \"19\", \"20\", \"21\", \"22\", \"23\", \"24\", \"25\", \"26\", \"27\", \"28\", \"29\", \"30\", \"31\", \"32\", \"33\", \"34\", \"36\", \"37\"], \"mode\": \"markers\", \"name\": \"normalized_root_mean_squared_log_error\", \"stepped\": false, \"type\": \"scatter\", \"data\": [0.045625038273251324, 0.044350610431685505, 0.05439536274626754, 0.06986921586122838, 0.054843924523306276, 0.0644657265063537, 0.06568283088525435, 0.06785004744958605, 0.07069948231663353, 0.0647566655961397, 0.06807157764499021, 0.06728094901923405, 0.0712614637794497, 0.06771823065533848, 0.07404357364987971, 0.0744254500640618, 0.05585177219037138, 0.06638469174785437, 0.07218061514330619, 0.07137956997088629, 0.05199178045562449, 0.06600909890438167, 0.06482762089549922, 0.06580914002817052, 0.06406033791985528, 0.05392502248968808, 0.05448305220973909, 0.06670996688886675, 0.06739368023098341, 0.06729718866157659, 0.053030273334891215, 0.06775508762990952, 0.059304222818201004, 0.06479847224010345, 0.06734615003275607, 0.04181709823007532, 0.04237054589278482]}, {\"categories\": [\"0\", \"1\", \"2\", \"3\", \"4\", \"5\", \"6\", \"7\", \"8\", \"9\", \"10\", \"11\", \"12\", \"13\", \"14\", \"15\", \"16\", \"17\", \"18\", \"19\", \"20\", \"21\", \"22\", \"23\", \"24\", \"25\", \"26\", \"27\", \"28\", \"29\", \"30\", \"31\", \"32\", \"33\", \"34\", \"36\", \"37\"], \"mode\": \"lines\", \"name\": \"normalized_root_mean_squared_log_error_min\", \"stepped\": true, \"type\": \"scatter\", \"data\": [0.045625038273251324, 0.044350610431685505, 0.044350610431685505, 0.044350610431685505, 0.044350610431685505, 0.044350610431685505, 0.044350610431685505, 0.044350610431685505, 0.044350610431685505, 0.044350610431685505, 0.044350610431685505, 0.044350610431685505, 0.044350610431685505, 0.044350610431685505, 0.044350610431685505, 0.044350610431685505, 0.044350610431685505, 0.044350610431685505, 0.044350610431685505, 0.044350610431685505, 0.044350610431685505, 0.044350610431685505, 0.044350610431685505, 0.044350610431685505, 0.044350610431685505, 0.044350610431685505, 0.044350610431685505, 0.044350610431685505, 0.044350610431685505, 0.044350610431685505, 0.044350610431685505, 0.044350610431685505, 0.044350610431685505, 0.044350610431685505, 0.044350610431685505, 0.04181709823007532, 0.04181709823007532]}], \"root_mean_squared_log_error\": [{\"categories\": [\"0\", \"1\", \"2\", \"3\", \"4\", \"5\", \"6\", \"7\", \"8\", \"9\", \"10\", \"11\", \"12\", \"13\", \"14\", \"15\", \"16\", \"17\", \"18\", \"19\", \"20\", \"21\", \"22\", \"23\", \"24\", \"25\", \"26\", \"27\", \"28\", \"29\", \"30\", \"31\", \"32\", \"33\", \"34\", \"36\", \"37\"], \"mode\": \"markers\", \"name\": \"root_mean_squared_log_error\", \"stepped\": false, \"type\": \"scatter\", \"data\": [0.14026065652918338, 0.13634280588133219, 0.16722241952413974, 0.21479219434694766, 0.16860138975019293, 0.1981807679647037, 0.20192239461774333, 0.2085848595637135, 0.2173446024661877, 0.19907517395947763, 0.20926588848608582, 0.20683533512511817, 0.21907224789762259, 0.20817962790139669, 0.22762502005368698, 0.2287989858977352, 0.17169971866812908, 0.20408005780239277, 0.22189790632166798, 0.21943533037553406, 0.15983331821339827, 0.20292540893398783, 0.19929330499561593, 0.20231069463855555, 0.19693452091607297, 0.1657764978180616, 0.16749199478769464, 0.20508001980917032, 0.2071818938211701, 0.2068852590919349, 0.16302585675275175, 0.20829293374500066, 0.18231325478822638, 0.1992036960945062, 0.2070357763150674, 0.12855427357163166, 0.13025568436412818]}, {\"categories\": [\"0\", \"1\", \"2\", \"3\", \"4\", \"5\", \"6\", \"7\", \"8\", \"9\", \"10\", \"11\", \"12\", \"13\", \"14\", \"15\", \"16\", \"17\", \"18\", \"19\", \"20\", \"21\", \"22\", \"23\", \"24\", \"25\", \"26\", \"27\", \"28\", \"29\", \"30\", \"31\", \"32\", \"33\", \"34\", \"36\", \"37\"], \"mode\": \"lines\", \"name\": \"root_mean_squared_log_error_min\", \"stepped\": true, \"type\": \"scatter\", \"data\": [0.14026065652918338, 0.13634280588133219, 0.13634280588133219, 0.13634280588133219, 0.13634280588133219, 0.13634280588133219, 0.13634280588133219, 0.13634280588133219, 0.13634280588133219, 0.13634280588133219, 0.13634280588133219, 0.13634280588133219, 0.13634280588133219, 0.13634280588133219, 0.13634280588133219, 0.13634280588133219, 0.13634280588133219, 0.13634280588133219, 0.13634280588133219, 0.13634280588133219, 0.13634280588133219, 0.13634280588133219, 0.13634280588133219, 0.13634280588133219, 0.13634280588133219, 0.13634280588133219, 0.13634280588133219, 0.13634280588133219, 0.13634280588133219, 0.13634280588133219, 0.13634280588133219, 0.13634280588133219, 0.13634280588133219, 0.13634280588133219, 0.13634280588133219, 0.12855427357163166, 0.12855427357163166]}], \"explained_variance\": [{\"categories\": [\"0\", \"1\", \"2\", \"3\", \"4\", \"5\", \"6\", \"7\", \"8\", \"9\", \"10\", \"11\", \"12\", \"13\", \"14\", \"15\", \"16\", \"17\", \"18\", \"19\", \"20\", \"21\", \"22\", \"23\", \"24\", \"25\", \"26\", \"27\", \"28\", \"29\", \"30\", \"31\", \"32\", \"33\", \"34\", \"36\", \"37\"], \"mode\": \"markers\", \"name\": \"explained_variance\", \"stepped\": false, \"type\": \"scatter\", \"data\": [0.873806656656343, 0.8850973545494334, 0.804282472281883, 0.7046260875758182, 0.8194213656344701, 0.7604271668539311, 0.7663211515885071, 0.7311643514121636, 0.7135676286263996, 0.7682085445957062, 0.7394899378314941, 0.7235270552848961, 0.704385242077262, 0.7262429040391565, 0.6794710415756432, 0.674108812385699, 0.8337192347388593, 0.7443397613899921, 0.6936370251432685, 0.6824870770252108, 0.8445724270361223, 0.7479066568197409, 0.7629144610815758, 0.757940777997174, 0.7591629078335588, 0.8287848452962888, 0.8291091646833472, 0.7268262113830941, 0.7245275642103897, 0.7230293650716012, 0.830843772317215, 0.7037689035040252, 0.7886558318869797, 0.7480248340215566, 0.714410123623054, 0.8945550043138528, 0.8885398617593716]}, {\"categories\": [\"0\", \"1\", \"2\", \"3\", \"4\", \"5\", \"6\", \"7\", \"8\", \"9\", \"10\", \"11\", \"12\", \"13\", \"14\", \"15\", \"16\", \"17\", \"18\", \"19\", \"20\", \"21\", \"22\", \"23\", \"24\", \"25\", \"26\", \"27\", \"28\", \"29\", \"30\", \"31\", \"32\", \"33\", \"34\", \"36\", \"37\"], \"mode\": \"lines\", \"name\": \"explained_variance_max\", \"stepped\": true, \"type\": \"scatter\", \"data\": [0.873806656656343, 0.8850973545494334, 0.8850973545494334, 0.8850973545494334, 0.8850973545494334, 0.8850973545494334, 0.8850973545494334, 0.8850973545494334, 0.8850973545494334, 0.8850973545494334, 0.8850973545494334, 0.8850973545494334, 0.8850973545494334, 0.8850973545494334, 0.8850973545494334, 0.8850973545494334, 0.8850973545494334, 0.8850973545494334, 0.8850973545494334, 0.8850973545494334, 0.8850973545494334, 0.8850973545494334, 0.8850973545494334, 0.8850973545494334, 0.8850973545494334, 0.8850973545494334, 0.8850973545494334, 0.8850973545494334, 0.8850973545494334, 0.8850973545494334, 0.8850973545494334, 0.8850973545494334, 0.8850973545494334, 0.8850973545494334, 0.8850973545494334, 0.8945550043138528, 0.8945550043138528]}], \"mean_absolute_error\": [{\"categories\": [\"0\", \"1\", \"2\", \"3\", \"4\", \"5\", \"6\", \"7\", \"8\", \"9\", \"10\", \"11\", \"12\", \"13\", \"14\", \"15\", \"16\", \"17\", \"18\", \"19\", \"20\", \"21\", \"22\", \"23\", \"24\", \"25\", \"26\", \"27\", \"28\", \"29\", \"30\", \"31\", \"32\", \"33\", \"34\", \"36\", \"37\"], \"mode\": \"markers\", \"name\": \"mean_absolute_error\", \"stepped\": false, \"type\": \"scatter\", \"data\": [16791.418803896504, 16722.415796619603, 18150.393108594297, 27568.407589034206, 18519.81857336575, 25275.14400518258, 25472.80064498021, 26427.282235576306, 27788.00559832976, 25372.528705998368, 26835.93919339751, 26621.09504447858, 27929.838338889258, 26903.374397403317, 29205.93595059935, 29738.334951013214, 19766.516142768585, 25663.24197475256, 28861.428227291402, 28197.695076633867, 19455.888849717317, 26090.10049664593, 25126.61468386582, 25823.57498774635, 25341.684664035678, 20571.302903532178, 20306.03968414645, 26497.20269721323, 26566.711098640688, 26844.137019987906, 20391.972812996006, 26716.47271444746, 21479.76698040627, 26075.949894795343, 25493.003403137354, 15363.68272325548, 15888.34157623361]}, {\"categories\": [\"0\", \"1\", \"2\", \"3\", \"4\", \"5\", \"6\", \"7\", \"8\", \"9\", \"10\", \"11\", \"12\", \"13\", \"14\", \"15\", \"16\", \"17\", \"18\", \"19\", \"20\", \"21\", \"22\", \"23\", \"24\", \"25\", \"26\", \"27\", \"28\", \"29\", \"30\", \"31\", \"32\", \"33\", \"34\", \"36\", \"37\"], \"mode\": \"lines\", \"name\": \"mean_absolute_error_min\", \"stepped\": true, \"type\": \"scatter\", \"data\": [16791.418803896504, 16722.415796619603, 16722.415796619603, 16722.415796619603, 16722.415796619603, 16722.415796619603, 16722.415796619603, 16722.415796619603, 16722.415796619603, 16722.415796619603, 16722.415796619603, 16722.415796619603, 16722.415796619603, 16722.415796619603, 16722.415796619603, 16722.415796619603, 16722.415796619603, 16722.415796619603, 16722.415796619603, 16722.415796619603, 16722.415796619603, 16722.415796619603, 16722.415796619603, 16722.415796619603, 16722.415796619603, 16722.415796619603, 16722.415796619603, 16722.415796619603, 16722.415796619603, 16722.415796619603, 16722.415796619603, 16722.415796619603, 16722.415796619603, 16722.415796619603, 16722.415796619603, 15363.68272325548, 15363.68272325548]}], \"median_absolute_error\": [{\"categories\": [\"0\", \"1\", \"2\", \"3\", \"4\", \"5\", \"6\", \"7\", \"8\", \"9\", \"10\", \"11\", \"12\", \"13\", \"14\", \"15\", \"16\", \"17\", \"18\", \"19\", \"20\", \"21\", \"22\", \"23\", \"24\", \"25\", \"26\", \"27\", \"28\", \"29\", \"30\", \"31\", \"32\", \"33\", \"34\", \"36\", \"37\"], \"mode\": \"markers\", \"name\": \"median_absolute_error\", \"stepped\": false, \"type\": \"scatter\", \"data\": [10753.153109670015, 11200.8515625, 11465.488362125432, 17969.594513065098, 11992.84359795496, 16808.39300699301, 16905.273148148146, 17126.85335497835, 18844.85017343768, 16865.231481481485, 17929.69545596016, 17091.247474747466, 17879.42371794872, 17043.328004765128, 18506.063119189756, 19258.559393368716, 13690.687781423521, 16817.916666666668, 19205.567854624333, 18053.5282681034, 13289.71700820871, 16782.919857929734, 15718.94327132563, 16817.681159420288, 16426.48262266717, 13655.592447916666, 13098.726909605772, 17422.222222222223, 17589.51187687758, 16977.555987771455, 12891.903645833334, 16848.152777777777, 13447.991070036127, 16899.362179487176, 15570.790397729323, 9955.667583551089, 10661.312961787089]}, {\"categories\": [\"0\", \"1\", \"2\", \"3\", \"4\", \"5\", \"6\", \"7\", \"8\", \"9\", \"10\", \"11\", \"12\", \"13\", \"14\", \"15\", \"16\", \"17\", \"18\", \"19\", \"20\", \"21\", \"22\", \"23\", \"24\", \"25\", \"26\", \"27\", \"28\", \"29\", \"30\", \"31\", \"32\", \"33\", \"34\", \"36\", \"37\"], \"mode\": \"lines\", \"name\": \"median_absolute_error_min\", \"stepped\": true, \"type\": \"scatter\", \"data\": [10753.153109670015, 10753.153109670015, 10753.153109670015, 10753.153109670015, 10753.153109670015, 10753.153109670015, 10753.153109670015, 10753.153109670015, 10753.153109670015, 10753.153109670015, 10753.153109670015, 10753.153109670015, 10753.153109670015, 10753.153109670015, 10753.153109670015, 10753.153109670015, 10753.153109670015, 10753.153109670015, 10753.153109670015, 10753.153109670015, 10753.153109670015, 10753.153109670015, 10753.153109670015, 10753.153109670015, 10753.153109670015, 10753.153109670015, 10753.153109670015, 10753.153109670015, 10753.153109670015, 10753.153109670015, 10753.153109670015, 10753.153109670015, 10753.153109670015, 10753.153109670015, 10753.153109670015, 9955.667583551089, 9955.667583551089]}], \"normalized_median_absolute_error\": [{\"categories\": [\"0\", \"1\", \"2\", \"3\", \"4\", \"5\", \"6\", \"7\", \"8\", \"9\", \"10\", \"11\", \"12\", \"13\", \"14\", \"15\", \"16\", \"17\", \"18\", \"19\", \"20\", \"21\", \"22\", \"23\", \"24\", \"25\", \"26\", \"27\", \"28\", \"29\", \"30\", \"31\", \"32\", \"33\", \"34\", \"36\", \"37\"], \"mode\": \"markers\", \"name\": \"normalized_median_absolute_error\", \"stepped\": false, \"type\": \"scatter\", \"data\": [0.014932860866088063, 0.01555457792320511, 0.01592207799211975, 0.02495430428144021, 0.016654414106311567, 0.02334174837799335, 0.023476285443894105, 0.023783992993998544, 0.026169768328617806, 0.02342067974098248, 0.02489889661985858, 0.0237345472500312, 0.024829084457642994, 0.023668001673052535, 0.025699296096639013, 0.02674428467347412, 0.019012203557038636, 0.023354973846225063, 0.026670695534820626, 0.02507086275253909, 0.018455377042367327, 0.023306373917413876, 0.021828833872136688, 0.023354646798250642, 0.02281139094940587, 0.01896346680727214, 0.018190149853639457, 0.024194170562730485, 0.024426485039407825, 0.023576664335191577, 0.017902935211544693, 0.0233969626132173, 0.018675171601216674, 0.02346807690527312, 0.0216230945670453, 0.013825395894391178, 0.01480532281875724]}, {\"categories\": [\"0\", \"1\", \"2\", \"3\", \"4\", \"5\", \"6\", \"7\", \"8\", \"9\", \"10\", \"11\", \"12\", \"13\", \"14\", \"15\", \"16\", \"17\", \"18\", \"19\", \"20\", \"21\", \"22\", \"23\", \"24\", \"25\", \"26\", \"27\", \"28\", \"29\", \"30\", \"31\", \"32\", \"33\", \"34\", \"36\", \"37\"], \"mode\": \"lines\", \"name\": \"normalized_median_absolute_error_min\", \"stepped\": true, \"type\": \"scatter\", \"data\": [0.014932860866088063, 0.014932860866088063, 0.014932860866088063, 0.014932860866088063, 0.014932860866088063, 0.014932860866088063, 0.014932860866088063, 0.014932860866088063, 0.014932860866088063, 0.014932860866088063, 0.014932860866088063, 0.014932860866088063, 0.014932860866088063, 0.014932860866088063, 0.014932860866088063, 0.014932860866088063, 0.014932860866088063, 0.014932860866088063, 0.014932860866088063, 0.014932860866088063, 0.014932860866088063, 0.014932860866088063, 0.014932860866088063, 0.014932860866088063, 0.014932860866088063, 0.014932860866088063, 0.014932860866088063, 0.014932860866088063, 0.014932860866088063, 0.014932860866088063, 0.014932860866088063, 0.014932860866088063, 0.014932860866088063, 0.014932860866088063, 0.014932860866088063, 0.013825395894391178, 0.013825395894391178]}], \"normalized_root_mean_squared_error\": [{\"categories\": [\"0\", \"1\", \"2\", \"3\", \"4\", \"5\", \"6\", \"7\", \"8\", \"9\", \"10\", \"11\", \"12\", \"13\", \"14\", \"15\", \"16\", \"17\", \"18\", \"19\", \"20\", \"21\", \"22\", \"23\", \"24\", \"25\", \"26\", \"27\", \"28\", \"29\", \"30\", \"31\", \"32\", \"33\", \"34\", \"36\", \"37\"], \"mode\": \"markers\", \"name\": \"normalized_root_mean_squared_error\", \"stepped\": false, \"type\": \"scatter\", \"data\": [0.038979638854620004, 0.03729938582266052, 0.04856155866022772, 0.05990445572122536, 0.04669024736738925, 0.05398914744366177, 0.053342904063194696, 0.05690923775045447, 0.05900801400188204, 0.053157104164115766, 0.05628467427598363, 0.05806368754970225, 0.05993966194748913, 0.05773241675781391, 0.06251590892662409, 0.06295108298102295, 0.04534096727758214, 0.05573802470377051, 0.06104573452579131, 0.062025160596584174, 0.04400212056023006, 0.05537957403782212, 0.053763272163369874, 0.054276083797670294, 0.05415854005788645, 0.04557896417636417, 0.04561394199310059, 0.057340950482805776, 0.057862345722887155, 0.05796475854777664, 0.045455027975938776, 0.059851670363305555, 0.0507032503847073, 0.055314318302000544, 0.05898802925990229, 0.03574405831680928, 0.03673068033309459]}, {\"categories\": [\"0\", \"1\", \"2\", \"3\", \"4\", \"5\", \"6\", \"7\", \"8\", \"9\", \"10\", \"11\", \"12\", \"13\", \"14\", \"15\", \"16\", \"17\", \"18\", \"19\", \"20\", \"21\", \"22\", \"23\", \"24\", \"25\", \"26\", \"27\", \"28\", \"29\", \"30\", \"31\", \"32\", \"33\", \"34\", \"36\", \"37\"], \"mode\": \"lines\", \"name\": \"normalized_root_mean_squared_error_min\", \"stepped\": true, \"type\": \"scatter\", \"data\": [0.038979638854620004, 0.03729938582266052, 0.03729938582266052, 0.03729938582266052, 0.03729938582266052, 0.03729938582266052, 0.03729938582266052, 0.03729938582266052, 0.03729938582266052, 0.03729938582266052, 0.03729938582266052, 0.03729938582266052, 0.03729938582266052, 0.03729938582266052, 0.03729938582266052, 0.03729938582266052, 0.03729938582266052, 0.03729938582266052, 0.03729938582266052, 0.03729938582266052, 0.03729938582266052, 0.03729938582266052, 0.03729938582266052, 0.03729938582266052, 0.03729938582266052, 0.03729938582266052, 0.03729938582266052, 0.03729938582266052, 0.03729938582266052, 0.03729938582266052, 0.03729938582266052, 0.03729938582266052, 0.03729938582266052, 0.03729938582266052, 0.03729938582266052, 0.03574405831680928, 0.03574405831680928]}]}, \"metricName\": null, \"primaryMetricName\": \"normalized_root_mean_squared_error\", \"showLegend\": false}, \"run_metrics\": [{\"name\": \"experiment_status\", \"run_id\": \"AutoML_1eb2883c-ec84-44fa-b028-c77e1f99ce4b\", \"categories\": [0, 1, 2, 3, 4, 5, 6, 7, 8, 9, 10, 11, 12, 13], \"series\": [{\"data\": [\"DatasetEvaluation\", \"FeaturesGeneration\", \"DatasetFeaturization\", \"DatasetFeaturizationCompleted\", \"DatasetCrossValidationSplit\", \"ModelSelection\", \"BestRunExplainModel\", \"ModelExplanationDataSetSetup\", \"PickSurrogateModel\", \"EngineeredFeatureExplanations\", \"EngineeredFeatureExplanations\", \"RawFeaturesExplanations\", \"RawFeaturesExplanations\", \"BestRunExplainModel\"]}]}, {\"name\": \"experiment_status_description\", \"run_id\": \"AutoML_1eb2883c-ec84-44fa-b028-c77e1f99ce4b\", \"categories\": [0, 1, 2, 3, 4, 5, 6, 7, 8, 9, 10, 11, 12, 13], \"series\": [{\"data\": [\"Gathering dataset statistics.\", \"Generating features for the dataset.\", \"Beginning to fit featurizers and featurize the dataset.\", \"Completed fit featurizers and featurizing the dataset.\", \"Generating individually featurized CV splits.\", \"Beginning model selection.\", \"Best run model explanations started\", \"Model explanations data setup completed\", \"Choosing LightGBM as the surrogate model for explanations\", \"Computation of engineered features started\", \"Computation of engineered features completed\", \"Computation of raw features started\", \"Computation of raw features completed\", \"Best run model explanations completed\"]}]}, {\"name\": \"root_mean_squared_error\", \"run_id\": \"AutoML_1eb2883c-ec84-44fa-b028-c77e1f99ce4b\", \"categories\": [0], \"series\": [{\"data\": [25739.296393934364]}]}, {\"name\": \"normalized_median_absolute_error\", \"run_id\": \"AutoML_1eb2883c-ec84-44fa-b028-c77e1f99ce4b\", \"categories\": [0], \"series\": [{\"data\": [0.013825395894391178]}]}, {\"name\": \"normalized_root_mean_squared_log_error\", \"run_id\": \"AutoML_1eb2883c-ec84-44fa-b028-c77e1f99ce4b\", \"categories\": [0], \"series\": [{\"data\": [0.04181709823007532]}]}, {\"name\": \"spearman_correlation\", \"run_id\": \"AutoML_1eb2883c-ec84-44fa-b028-c77e1f99ce4b\", \"categories\": [0], \"series\": [{\"data\": [0.9577828532398551]}]}, {\"name\": \"normalized_root_mean_squared_error\", \"run_id\": \"AutoML_1eb2883c-ec84-44fa-b028-c77e1f99ce4b\", \"categories\": [0], \"series\": [{\"data\": [0.03574405831680928]}]}, {\"name\": \"median_absolute_error\", \"run_id\": \"AutoML_1eb2883c-ec84-44fa-b028-c77e1f99ce4b\", \"categories\": [0], \"series\": [{\"data\": [9955.667583551089]}]}, {\"name\": \"normalized_mean_absolute_error\", \"run_id\": \"AutoML_1eb2883c-ec84-44fa-b028-c77e1f99ce4b\", \"categories\": [0], \"series\": [{\"data\": [0.02133548496494304]}]}, {\"name\": \"explained_variance\", \"run_id\": \"AutoML_1eb2883c-ec84-44fa-b028-c77e1f99ce4b\", \"categories\": [0], \"series\": [{\"data\": [0.8945550043138528]}]}, {\"name\": \"mean_absolute_percentage_error\", \"run_id\": \"AutoML_1eb2883c-ec84-44fa-b028-c77e1f99ce4b\", \"categories\": [0], \"series\": [{\"data\": [9.05916141769014]}]}, {\"name\": \"mean_absolute_error\", \"run_id\": \"AutoML_1eb2883c-ec84-44fa-b028-c77e1f99ce4b\", \"categories\": [0], \"series\": [{\"data\": [15363.68272325548]}]}, {\"name\": \"root_mean_squared_log_error\", \"run_id\": \"AutoML_1eb2883c-ec84-44fa-b028-c77e1f99ce4b\", \"categories\": [0], \"series\": [{\"data\": [0.12855427357163166]}]}, {\"name\": \"r2_score\", \"run_id\": \"AutoML_1eb2883c-ec84-44fa-b028-c77e1f99ce4b\", \"categories\": [0], \"series\": [{\"data\": [0.894495574186684]}]}], \"run_logs\": \"\\nRun is completed.\", \"graph\": {}, \"widget_settings\": {\"childWidgetDisplay\": \"popup\", \"send_telemetry\": false, \"log_level\": \"INFO\", \"sdk_version\": \"1.31.0\"}, \"loading\": false}"
     },
     "metadata": {},
     "output_type": "display_data"
    },
    {
     "data": {
      "text/html": [
       "<table style=\"width:100%\"><tr><th>Experiment</th><th>Id</th><th>Type</th><th>Status</th><th>Details Page</th><th>Docs Page</th></tr><tr><td>Ames-housing-AutoML</td><td>AutoML_1eb2883c-ec84-44fa-b028-c77e1f99ce4b</td><td>automl</td><td>NotStarted</td><td><a href=\"https://ml.azure.com/runs/AutoML_1eb2883c-ec84-44fa-b028-c77e1f99ce4b?wsid=/subscriptions/a0a76bad-11a1-4a2d-9887-97a29122c8ed/resourcegroups/aml-quickstarts-152755/workspaces/quick-starts-ws-152755&amp;tid=660b3398-b80e-49d2-bc5b-ac1dc93b5254\" target=\"_blank\" rel=\"noopener\">Link to Azure Machine Learning studio</a></td><td><a href=\"https://docs.microsoft.com/en-us/python/api/overview/azure/ml/intro?view=azure-ml-py\" target=\"_blank\" rel=\"noopener\">Link to Documentation</a></td></tr></table>"
      ],
      "text/plain": [
       "<IPython.core.display.HTML object>"
      ]
     },
     "metadata": {},
     "output_type": "display_data"
    },
    {
     "name": "stdout",
     "output_type": "stream",
     "text": [
      "\n",
      "Current status: FeaturesGeneration. Generating features for the dataset.\n",
      "Current status: DatasetFeaturization. Beginning to fit featurizers and featurize the dataset.\n",
      "Current status: DatasetCrossValidationSplit. Generating individually featurized CV splits.\n",
      "Current status: ModelSelection. Beginning model selection.\n",
      "\n",
      "****************************************************************************************************\n",
      "DATA GUARDRAILS: \n",
      "\n",
      "TYPE:         Missing feature values imputation\n",
      "STATUS:       PASSED\n",
      "DESCRIPTION:  No feature missing values were detected in the training data.\n",
      "              Learn more about missing value imputation: https://aka.ms/AutomatedMLFeaturization\n",
      "\n",
      "****************************************************************************************************\n",
      "\n",
      "TYPE:         High cardinality feature detection\n",
      "STATUS:       PASSED\n",
      "DESCRIPTION:  Your inputs were analyzed, and no high cardinality features were detected.\n",
      "              Learn more about high cardinality feature handling: https://aka.ms/AutomatedMLFeaturization\n",
      "\n",
      "****************************************************************************************************\n",
      "\n",
      "****************************************************************************************************\n",
      "ITERATION: The iteration being evaluated.\n",
      "PIPELINE: A summary description of the pipeline being evaluated.\n",
      "DURATION: Time taken for the current iteration.\n",
      "METRIC: The result of computing score on the fitted pipeline.\n",
      "BEST: The best observed score thus far.\n",
      "****************************************************************************************************\n",
      "\n",
      " ITERATION   PIPELINE                                       DURATION      METRIC      BEST\n",
      "         0   MaxAbsScaler LightGBM                          0:00:52       0.0390    0.0390\n",
      "         1   MaxAbsScaler XGBoostRegressor                  0:00:49       0.0373    0.0373\n",
      "         3   MaxAbsScaler DecisionTree                      0:00:50       0.0599    0.0373\n",
      "         6   MaxAbsScaler DecisionTree                      0:00:49       0.0533    0.0373\n",
      "         2   StandardScalerWrapper ElasticNet               0:01:48       0.0486    0.0373\n",
      "         4   MaxAbsScaler ElasticNet                        0:01:53       0.0467    0.0373\n",
      "         5   MaxAbsScaler DecisionTree                      0:01:48       0.0540    0.0373\n",
      "         7   MaxAbsScaler DecisionTree                      0:00:47       0.0569    0.0373\n",
      "        10   MaxAbsScaler DecisionTree                      0:00:49       0.0563    0.0373\n",
      "         8   MaxAbsScaler DecisionTree                      0:00:50       0.0590    0.0373\n",
      "         9   MaxAbsScaler DecisionTree                      0:00:49       0.0532    0.0373\n",
      "        11   MaxAbsScaler DecisionTree                      0:00:51       0.0581    0.0373\n",
      "        12   MaxAbsScaler DecisionTree                      0:00:50       0.0599    0.0373\n",
      "        13   StandardScalerWrapper DecisionTree             0:00:50       0.0577    0.0373\n",
      "        14   MaxAbsScaler DecisionTree                      0:00:51       0.0625    0.0373\n",
      "        15   MaxAbsScaler DecisionTree                      0:00:50       0.0630    0.0373\n",
      "        16   MaxAbsScaler SGD                               0:00:51       0.0453    0.0373\n",
      "        17   MaxAbsScaler DecisionTree                      0:00:51       0.0557    0.0373\n",
      "        18   MaxAbsScaler DecisionTree                      0:00:50       0.0610    0.0373\n",
      "        19   MaxAbsScaler DecisionTree                      0:00:44       0.0620    0.0373\n",
      "        20   MaxAbsScaler SGD                               0:00:51       0.0440    0.0373\n",
      "        21   MaxAbsScaler DecisionTree                      0:00:50       0.0554    0.0373\n",
      "        22   MaxAbsScaler DecisionTree                      0:00:53       0.0538    0.0373\n",
      "        23   MaxAbsScaler DecisionTree                      0:00:47       0.0543    0.0373\n",
      "        24   MaxAbsScaler DecisionTree                      0:00:51       0.0542    0.0373\n",
      "        26   MaxAbsScaler RandomForest                      0:00:55       0.0456    0.0373\n",
      "        27   MaxAbsScaler DecisionTree                      0:00:50       0.0573    0.0373\n",
      "        25   TruncatedSVDWrapper XGBoostRegressor           0:01:02       0.0456    0.0373\n",
      "        28   MaxAbsScaler DecisionTree                      0:00:49       0.0579    0.0373\n",
      "        29   MaxAbsScaler DecisionTree                      0:00:51       0.0580    0.0373\n",
      "        30   SparseNormalizer XGBoostRegressor              0:00:53       0.0455    0.0373\n",
      "        31   MaxAbsScaler DecisionTree                      0:00:49       0.0599    0.0373\n",
      "        33   MaxAbsScaler DecisionTree                      0:00:51       0.0553    0.0373\n",
      "        32   MaxAbsScaler GradientBoosting                  0:00:59       0.0507    0.0373\n",
      "        34   MaxAbsScaler RandomForest                      0:00:52       0.0590    0.0373\n",
      "        35   SparseNormalizer XGBoostRegressor              0:00:50          nan    0.0373\n",
      "        36    VotingEnsemble                                0:00:52       0.0357    0.0357\n",
      "        37    StackEnsemble                                 0:00:52       0.0367    0.0357\n"
     ]
    },
    {
     "data": {
      "text/plain": [
       "{'runId': 'AutoML_1eb2883c-ec84-44fa-b028-c77e1f99ce4b',\n",
       " 'target': 'cpu-cluster',\n",
       " 'status': 'Completed',\n",
       " 'startTimeUtc': '2021-07-28T04:41:33.366858Z',\n",
       " 'endTimeUtc': '2021-07-28T05:04:00.401664Z',\n",
       " 'properties': {'num_iterations': '1000',\n",
       "  'training_type': 'TrainFull',\n",
       "  'acquisition_function': 'EI',\n",
       "  'primary_metric': 'normalized_root_mean_squared_error',\n",
       "  'train_split': '0',\n",
       "  'acquisition_parameter': '0',\n",
       "  'num_cross_validation': '3',\n",
       "  'target': 'cpu-cluster',\n",
       "  'AMLSettingsJsonString': '{\"path\":null,\"name\":\"Ames-housing-AutoML\",\"subscription_id\":\"a0a76bad-11a1-4a2d-9887-97a29122c8ed\",\"resource_group\":\"aml-quickstarts-152755\",\"workspace_name\":\"quick-starts-ws-152755\",\"region\":\"southcentralus\",\"compute_target\":\"cpu-cluster\",\"spark_service\":null,\"azure_service\":\"remote\",\"many_models\":false,\"pipeline_fetch_max_batch_size\":1,\"enable_batch_run\":false,\"enable_run_restructure\":false,\"start_auxiliary_runs_before_parent_complete\":false,\"enable_code_generation\":false,\"iterations\":1000,\"primary_metric\":\"normalized_root_mean_squared_error\",\"task_type\":\"regression\",\"data_script\":null,\"test_size\":0.0,\"validation_size\":0.0,\"n_cross_validations\":3,\"y_min\":null,\"y_max\":null,\"num_classes\":null,\"featurization\":\"auto\",\"_ignore_package_version_incompatibilities\":false,\"is_timeseries\":false,\"max_cores_per_iteration\":-1,\"max_concurrent_iterations\":4,\"iteration_timeout_minutes\":5,\"mem_in_mb\":null,\"enforce_time_on_windows\":false,\"experiment_timeout_minutes\":120,\"experiment_exit_score\":null,\"whitelist_models\":null,\"blacklist_algos\":[\"TensorFlowDNN\",\"TensorFlowLinearRegressor\"],\"supported_models\":[\"LightGBM\",\"ElasticNet\",\"OnlineGradientDescentRegressor\",\"FastLinearRegressor\",\"KNN\",\"ExtremeRandomTrees\",\"GradientBoosting\",\"LassoLars\",\"RandomForest\",\"TensorFlowLinearRegressor\",\"DecisionTree\",\"SGD\",\"XGBoostRegressor\",\"TensorFlowDNN\"],\"private_models\":[],\"auto_blacklist\":true,\"blacklist_samples_reached\":false,\"exclude_nan_labels\":true,\"verbosity\":20,\"_debug_log\":\"azureml_automl.log\",\"show_warnings\":false,\"model_explainability\":true,\"service_url\":null,\"sdk_url\":null,\"sdk_packages\":null,\"enable_onnx_compatible_models\":false,\"enable_split_onnx_featurizer_estimator_models\":false,\"vm_type\":\"STANDARD_D2_V2\",\"telemetry_verbosity\":20,\"send_telemetry\":true,\"enable_dnn\":false,\"scenario\":\"SDK-1.13.0\",\"environment_label\":null,\"save_mlflow\":false,\"force_text_dnn\":false,\"enable_feature_sweeping\":true,\"enable_early_stopping\":true,\"early_stopping_n_iters\":10,\"metrics\":null,\"enable_metric_confidence\":false,\"enable_ensembling\":true,\"enable_stack_ensembling\":true,\"ensemble_iterations\":15,\"enable_tf\":false,\"enable_subsampling\":null,\"subsample_seed\":null,\"enable_nimbusml\":false,\"enable_streaming\":false,\"force_streaming\":false,\"track_child_runs\":true,\"allowed_private_models\":[],\"label_column_name\":\"SalePrice\",\"weight_column_name\":null,\"cv_split_column_names\":null,\"enable_local_managed\":false,\"_local_managed_run_id\":null,\"cost_mode\":1,\"lag_length\":0,\"metric_operation\":\"minimize\",\"preprocess\":true}',\n",
       "  'DataPrepJsonString': '{\\\\\"training_data\\\\\": {\\\\\"datasetId\\\\\": \\\\\"d3ab289a-a4f6-4585-8336-a698eed10b50\\\\\"}, \\\\\"datasets\\\\\": 0}',\n",
       "  'EnableSubsampling': None,\n",
       "  'runTemplate': 'AutoML',\n",
       "  'azureml.runsource': 'automl',\n",
       "  'display_task_type': 'regression',\n",
       "  'dependencies_versions': '{\"azureml-widgets\": \"1.31.0\", \"azureml-train\": \"1.31.0\", \"azureml-train-restclients-hyperdrive\": \"1.31.0\", \"azureml-train-core\": \"1.31.0\", \"azureml-train-automl\": \"1.31.0\", \"azureml-train-automl-runtime\": \"1.31.0\", \"azureml-train-automl-client\": \"1.31.0\", \"azureml-tensorboard\": \"1.31.0\", \"azureml-telemetry\": \"1.31.0\", \"azureml-sdk\": \"1.31.0\", \"azureml-samples\": \"0+unknown\", \"azureml-responsibleai\": \"1.31.0\", \"azureml-pipeline\": \"1.31.0\", \"azureml-pipeline-steps\": \"1.31.0\", \"azureml-pipeline-core\": \"1.31.0\", \"azureml-opendatasets\": \"1.31.0\", \"azureml-model-management-sdk\": \"1.0.1b6.post1\", \"azureml-mlflow\": \"1.31.0\", \"azureml-interpret\": \"1.31.0\", \"azureml-explain-model\": \"1.31.0\", \"azureml-defaults\": \"1.31.0\", \"azureml-dataset-runtime\": \"1.31.0\", \"azureml-dataprep\": \"2.18.0\", \"azureml-dataprep-rslex\": \"1.16.1\", \"azureml-dataprep-native\": \"36.0.0\", \"azureml-datadrift\": \"1.31.0\", \"azureml-core\": \"1.31.0\", \"azureml-contrib-services\": \"1.31.0\", \"azureml-contrib-server\": \"1.31.0\", \"azureml-contrib-reinforcementlearning\": \"1.31.0\", \"azureml-contrib-pipeline-steps\": \"1.31.0\", \"azureml-contrib-notebook\": \"1.31.0\", \"azureml-contrib-fairness\": \"1.31.0\", \"azureml-contrib-dataset\": \"1.31.0\", \"azureml-cli-common\": \"1.31.0\", \"azureml-automl-runtime\": \"1.31.0\", \"azureml-automl-dnn-nlp\": \"1.31.0\", \"azureml-automl-core\": \"1.31.0\", \"azureml-accel-models\": \"1.31.0\"}',\n",
       "  '_aml_system_scenario_identification': 'Remote.Parent',\n",
       "  'ClientType': 'SDK',\n",
       "  'environment_cpu_name': 'AzureML-AutoML',\n",
       "  'environment_cpu_label': 'prod',\n",
       "  'environment_gpu_name': 'AzureML-AutoML-GPU',\n",
       "  'environment_gpu_label': 'prod',\n",
       "  'root_attribution': 'automl',\n",
       "  'attribution': 'AutoML',\n",
       "  'Orchestrator': 'AutoML',\n",
       "  'CancelUri': 'https://southcentralus.api.azureml.ms/jasmine/v1.0/subscriptions/a0a76bad-11a1-4a2d-9887-97a29122c8ed/resourceGroups/aml-quickstarts-152755/providers/Microsoft.MachineLearningServices/workspaces/quick-starts-ws-152755/experimentids/1dae971c-d73e-4f77-bb94-7eb9f96c102e/cancel/AutoML_1eb2883c-ec84-44fa-b028-c77e1f99ce4b',\n",
       "  'ClientSdkVersion': '1.32.0',\n",
       "  'snapshotId': '00000000-0000-0000-0000-000000000000',\n",
       "  'SetupRunId': 'AutoML_1eb2883c-ec84-44fa-b028-c77e1f99ce4b_setup',\n",
       "  'SetupRunContainerId': 'dcid.AutoML_1eb2883c-ec84-44fa-b028-c77e1f99ce4b_setup',\n",
       "  'FeaturizationRunJsonPath': 'featurizer_container.json',\n",
       "  'FeaturizationRunId': 'AutoML_1eb2883c-ec84-44fa-b028-c77e1f99ce4b_featurize',\n",
       "  'ProblemInfoJsonString': '{\"dataset_num_categorical\": 0, \"is_sparse\": true, \"subsampling\": false, \"has_extra_col\": true, \"dataset_classes\": 663, \"dataset_features\": 408, \"dataset_samples\": 1460, \"single_frequency_class_detected\": false}',\n",
       "  'ModelExplainRunId': 'AutoML_1eb2883c-ec84-44fa-b028-c77e1f99ce4b_ModelExplain'},\n",
       " 'inputDatasets': [{'dataset': {'id': 'd3ab289a-a4f6-4585-8336-a698eed10b50'}, 'consumptionDetails': {'type': 'RunInput', 'inputName': 'training_data', 'mechanism': 'Direct'}}],\n",
       " 'outputDatasets': [],\n",
       " 'logFiles': {},\n",
       " 'submittedBy': 'ODL_User 152755'}"
      ]
     },
     "execution_count": 24,
     "metadata": {},
     "output_type": "execute_result"
    }
   ],
   "source": [
    "from azureml.widgets import RunDetails\n",
    "# TODO: Submit your experiment\n",
    "aml_run = experiment.submit(automl_config)\n",
    "RunDetails(aml_run).show()\n",
    "aml_run.wait_for_completion(show_output=True)"
   ]
  },
  {
   "cell_type": "markdown",
   "metadata": {},
   "source": [
    "## Run Details\n",
    "\n",
    "OPTIONAL: Write about the different models trained and their performance. Why do you think some models did better than others?\n",
    "\n",
    "TODO: In the cell below, use the `RunDetails` widget to show the different experiments."
   ]
  },
  {
   "cell_type": "code",
   "execution_count": null,
   "metadata": {},
   "outputs": [],
   "source": []
  },
  {
   "cell_type": "code",
   "execution_count": null,
   "metadata": {
    "gather": {
     "logged": 1598431121770
    },
    "jupyter": {
     "outputs_hidden": false,
     "source_hidden": false
    },
    "nteract": {
     "transient": {
      "deleting": false
     }
    }
   },
   "outputs": [],
   "source": []
  },
  {
   "cell_type": "markdown",
   "metadata": {},
   "source": [
    "## Best Model\n",
    "\n",
    "TODO: In the cell below, get the best model from the automl experiments and display all the properties of the model.\n",
    "\n"
   ]
  },
  {
   "cell_type": "code",
   "execution_count": 25,
   "metadata": {
    "gather": {
     "logged": 1598431425670
    },
    "jupyter": {
     "outputs_hidden": false,
     "source_hidden": false
    },
    "nteract": {
     "transient": {
      "deleting": false
     }
    }
   },
   "outputs": [
    {
     "name": "stderr",
     "output_type": "stream",
     "text": [
      "WARNING:root:The version of the SDK does not match the version the model was trained on.\n",
      "WARNING:root:The consistency in the result may not be guaranteed.\n",
      "WARNING:root:Package:azureml-automl-core, training version:1.32.0, current version:1.31.0\n",
      "Package:azureml-automl-runtime, training version:1.32.0, current version:1.31.0\n",
      "Package:azureml-core, training version:1.32.0, current version:1.31.0\n",
      "Package:azureml-dataset-runtime, training version:1.32.0, current version:1.31.0\n",
      "Package:azureml-defaults, training version:1.32.0, current version:1.31.0\n",
      "Package:azureml-interpret, training version:1.32.0, current version:1.31.0\n",
      "Package:azureml-mlflow, training version:1.32.0, current version:1.31.0\n",
      "Package:azureml-pipeline-core, training version:1.32.0, current version:1.31.0\n",
      "Package:azureml-telemetry, training version:1.32.0, current version:1.31.0\n",
      "Package:azureml-train-automl-client, training version:1.32.0, current version:1.31.0\n",
      "Package:azureml-train-automl-runtime, training version:1.32.0, current version:1.31.0\n",
      "WARNING:root:Please ensure the version of your local conda dependencies match the version on which your model was trained in order to properly retrieve your model.\n"
     ]
    },
    {
     "name": "stdout",
     "output_type": "stream",
     "text": [
      "Run(Experiment: Ames-housing-AutoML,\n",
      "Id: AutoML_1eb2883c-ec84-44fa-b028-c77e1f99ce4b_36,\n",
      "Type: azureml.scriptrun,\n",
      "Status: Completed)\n",
      "RegressionPipeline(pipeline=Pipeline(memory=None,\n",
      "                                     steps=[('datatransformer',\n",
      "                                             DataTransformer(enable_dnn=False, enable_feature_sweeping=True, feature_sweeping_config={}, feature_sweeping_timeout=86400, featurization_config=None, force_text_dnn=False, is_cross_validation=True, is_onnx_compatible=False, observer=None, task='regression', working_dir='/mnt/batch/ta...\n",
      ")), ('elasticnet', ElasticNet(alpha=0.05357894736842105, copy_X=True, fit_intercept=True, l1_ratio=0.6352631578947369, max_iter=1000, normalize=False, positive=False, precompute=False, random_state=None, selection='cyclic', tol=0.0001, warm_start=False))], verbose=False))], weights=[0.6153846153846154, 0.07692307692307693, 0.07692307692307693, 0.07692307692307693, 0.15384615384615385]))],\n",
      "                                     verbose=False),\n",
      "                   stddev=[25754.482555028855])\n"
     ]
    }
   ],
   "source": [
    "# Get your best run and save the model from that run.\n",
    "best_run, fitted_model = aml_run.get_output()\n",
    "print(best_run)\n",
    "print(fitted_model)"
   ]
  },
  {
   "cell_type": "code",
   "execution_count": 26,
   "metadata": {},
   "outputs": [
    {
     "data": {
      "text/plain": [
       "{'root_mean_squared_log_error': 0.12855427357163166,\n",
       " 'spearman_correlation': 0.9577828532398551,\n",
       " 'normalized_root_mean_squared_log_error': 0.04181709823007532,\n",
       " 'r2_score': 0.894495574186684,\n",
       " 'root_mean_squared_error': 25739.296393934364,\n",
       " 'mean_absolute_percentage_error': 9.05916141769014,\n",
       " 'normalized_mean_absolute_error': 0.02133548496494304,\n",
       " 'normalized_root_mean_squared_error': 0.03574405831680928,\n",
       " 'explained_variance': 0.8945550043138528,\n",
       " 'mean_absolute_error': 15363.68272325548,\n",
       " 'median_absolute_error': 9955.667583551089,\n",
       " 'normalized_median_absolute_error': 0.013825395894391178,\n",
       " 'residuals': 'aml://artifactId/ExperimentRun/dcid.AutoML_1eb2883c-ec84-44fa-b028-c77e1f99ce4b_36/residuals',\n",
       " 'predicted_true': 'aml://artifactId/ExperimentRun/dcid.AutoML_1eb2883c-ec84-44fa-b028-c77e1f99ce4b_36/predicted_true'}"
      ]
     },
     "execution_count": 26,
     "metadata": {},
     "output_type": "execute_result"
    }
   ],
   "source": [
    "best_run_metrics = best_run.get_metrics()\n",
    "best_run_metrics"
   ]
  },
  {
   "cell_type": "code",
   "execution_count": 27,
   "metadata": {},
   "outputs": [],
   "source": [
    "import json\n",
    "with open('best_run_metrics.json', 'w') as file:\n",
    "    json.dump(best_run_metrics, file)\n",
    "with open('best_run_details.txt', 'w') as file:\n",
    "    file.write(str(best_run.get_details()))"
   ]
  },
  {
   "cell_type": "code",
   "execution_count": 28,
   "metadata": {},
   "outputs": [
    {
     "data": {
      "text/plain": [
       "(1459, 78)"
      ]
     },
     "execution_count": 28,
     "metadata": {},
     "output_type": "execute_result"
    }
   ],
   "source": [
    "# Test the best model accuracy in the Kaggle competition\n",
    "test.shape"
   ]
  },
  {
   "cell_type": "code",
   "execution_count": 29,
   "metadata": {},
   "outputs": [],
   "source": [
    "test.drop(columns=['SalePrice'], inplace=True)"
   ]
  },
  {
   "cell_type": "code",
   "execution_count": 30,
   "metadata": {},
   "outputs": [
    {
     "data": {
      "text/plain": [
       "array([123002.58819187, 156797.34398885, 188204.69635731, 193086.97599697,\n",
       "       194323.37378999, 176278.44967357, 173645.13246914, 162750.2912638 ,\n",
       "       187465.80612224, 126787.02080805])"
      ]
     },
     "execution_count": 30,
     "metadata": {},
     "output_type": "execute_result"
    }
   ],
   "source": [
    "# NaN values not treated by the model .... \n",
    "y_hat = fitted_model.predict(test.fillna(0))\n",
    "y_hat[:10]"
   ]
  },
  {
   "cell_type": "code",
   "execution_count": 31,
   "metadata": {},
   "outputs": [
    {
     "data": {
      "text/plain": [
       "1459"
      ]
     },
     "execution_count": 31,
     "metadata": {},
     "output_type": "execute_result"
    }
   ],
   "source": [
    "len(y_hat)"
   ]
  },
  {
   "cell_type": "code",
   "execution_count": 32,
   "metadata": {},
   "outputs": [],
   "source": [
    "with open('automl-submission.csv', 'w') as file:\n",
    "    pd.DataFrame({'Id' : test.index.to_list(), 'SalePrice': y_hat}).to_csv(file, index=False)"
   ]
  },
  {
   "cell_type": "code",
   "execution_count": 33,
   "metadata": {},
   "outputs": [
    {
     "data": {
      "text/plain": [
       "['.amlignore',\n",
       " '.amlignore.amltmp',\n",
       " '.azureml',\n",
       " '.config',\n",
       " '.ipynb_aml_checkpoints',\n",
       " '.ipynb_checkpoints',\n",
       " 'ames.py',\n",
       " 'ames_fe.py',\n",
       " 'ames_fe.py.amltmp',\n",
       " 'automl-submission.csv',\n",
       " 'automl.ipynb',\n",
       " 'automl.log',\n",
       " 'azureml_automl.log',\n",
       " 'best_run_details.txt',\n",
       " 'best_run_metrics.json',\n",
       " 'data_description.txt',\n",
       " 'house-prices-advanced-regression-techniques.zip',\n",
       " 'Register_dataset.ipynb',\n",
       " 'sample_submission.csv',\n",
       " 'test.csv',\n",
       " 'train.csv',\n",
       " '__pycache__']"
      ]
     },
     "execution_count": 33,
     "metadata": {},
     "output_type": "execute_result"
    }
   ],
   "source": [
    "os.listdir()"
   ]
  },
  {
   "cell_type": "code",
   "execution_count": 34,
   "metadata": {},
   "outputs": [
    {
     "name": "stdout",
     "output_type": "stream",
     "text": [
      "100%|██████████████████████████████████████| 33.6k/33.6k [00:01<00:00, 28.5kB/s]\n",
      "Successfully submitted to House Prices - Advanced Regression Techniques"
     ]
    }
   ],
   "source": [
    "# Set the enviroment variables\n",
    "os.environ['KAGGLE_USERNAME'] = \"lubomrstraka\"\n",
    "os.environ['KAGGLE_KEY'] = \"c7347462ef834e6645ce238c2f2fa561\"\n",
    "! kaggle competitions submit -c house-prices-advanced-regression-techniques -f automl-submission.csv -m \"Submission generated by Azure Automated ML.\""
   ]
  },
  {
   "cell_type": "markdown",
   "metadata": {},
   "source": [
    ">2021-07-23: Your submission scored 0.13612, which is not an improvement of your best score (0.12481).\n",
    "\n",
    ">2021-07-28: Your submission scored 0.13699, which is not an improvement of your best score (0.12481)."
   ]
  },
  {
   "cell_type": "markdown",
   "metadata": {},
   "source": [
    "## Model Deployment\n",
    "\n",
    "Remember you have to deploy only one of the two models you trained.. Perform the steps in the rest of this notebook only if you wish to deploy this model.\n",
    "\n",
    "TODO: In the cell below, register the model, create an inference config and deploy the model as a web service."
   ]
  },
  {
   "cell_type": "code",
   "execution_count": 37,
   "metadata": {
    "gather": {
     "logged": 1598431426111
    },
    "jupyter": {
     "outputs_hidden": false,
     "source_hidden": false
    },
    "nteract": {
     "transient": {
      "deleting": false
     }
    }
   },
   "outputs": [
    {
     "name": "stdout",
     "output_type": "stream",
     "text": [
      "0 automl_driver.py\n",
      "1 azureml-logs/55_azureml-execution-tvmps_b0970c78538d214ccf585b66041762ee0fdd2d587fc581545922574cf255b1a8_d.txt\n",
      "2 azureml-logs/65_job_prep-tvmps_b0970c78538d214ccf585b66041762ee0fdd2d587fc581545922574cf255b1a8_d.txt\n",
      "3 azureml-logs/70_driver_log.txt\n",
      "4 azureml-logs/75_job_post-tvmps_b0970c78538d214ccf585b66041762ee0fdd2d587fc581545922574cf255b1a8_d.txt\n",
      "5 azureml-logs/process_info.json\n",
      "6 azureml-logs/process_status.json\n",
      "7 explanation/2cedcf07/eval_data_viz.interpret.json\n",
      "8 explanation/2cedcf07/expected_values.interpret.json\n",
      "9 explanation/2cedcf07/features.interpret.json\n",
      "10 explanation/2cedcf07/global_names/0.interpret.json\n",
      "11 explanation/2cedcf07/global_rank/0.interpret.json\n",
      "12 explanation/2cedcf07/global_values/0.interpret.json\n",
      "13 explanation/2cedcf07/local_importance_values.interpret.json\n",
      "14 explanation/2cedcf07/rich_metadata.interpret.json\n",
      "15 explanation/2cedcf07/true_ys_viz.interpret.json\n",
      "16 explanation/2cedcf07/visualization_dict.interpret.json\n",
      "17 explanation/a3f4509f/expected_values.interpret.json\n",
      "18 explanation/a3f4509f/features.interpret.json\n",
      "19 explanation/a3f4509f/global_names/0.interpret.json\n",
      "20 explanation/a3f4509f/global_rank/0.interpret.json\n",
      "21 explanation/a3f4509f/global_values/0.interpret.json\n",
      "22 explanation/a3f4509f/local_importance_values.interpret.json\n",
      "23 explanation/a3f4509f/rich_metadata.interpret.json\n",
      "24 explanation/a3f4509f/true_ys_viz.interpret.json\n",
      "25 explanation/a3f4509f/visualization_dict.interpret.json\n",
      "26 explanation/a3f4509f/ys_pred_viz.interpret.json\n",
      "27 logs/azureml/95_azureml.log\n",
      "28 logs/azureml/azureml_automl-child.log\n",
      "29 logs/azureml/azureml_automl.log\n",
      "30 logs/azureml/job_prep_azureml.log\n",
      "31 logs/azureml/job_release_azureml.log\n",
      "32 outputs/conda_env_v_1_0_0.yml\n",
      "33 outputs/env_dependencies.json\n",
      "34 outputs/internal_cross_validated_models.pkl\n",
      "35 outputs/model.pkl\n",
      "36 outputs/pipeline_graph.json\n",
      "37 outputs/scoring_file_v_1_0_0.py\n",
      "38 outputs/scoring_file_v_2_0_0.py\n",
      "39 predicted_true\n",
      "40 residuals\n"
     ]
    }
   ],
   "source": [
    "# Check the path to the model\n",
    "for i,n in enumerate(best_run.get_file_names()):\n",
    "    print(i,n)"
   ]
  },
  {
   "cell_type": "code",
   "execution_count": 45,
   "metadata": {},
   "outputs": [
    {
     "name": "stdout",
     "output_type": "stream",
     "text": [
      "outputs/conda_env_v_1_0_0.yml\n",
      "outputs/env_dependencies.json\n",
      "outputs/internal_cross_validated_models.pkl\n",
      "outputs/model.pkl\n",
      "outputs/pipeline_graph.json\n",
      "outputs/scoring_file_v_1_0_0.py\n",
      "outputs/scoring_file_v_2_0_0.py\n"
     ]
    }
   ],
   "source": [
    "# Save the best model\n",
    "os.makedirs('./outputs/', exist_ok=True)\n",
    "for i in range(32,39):\n",
    "    print(best_run.get_file_names()[i])\n",
    "    best_run.download_file(best_run.get_file_names()[i], output_file_path='./outputs/')"
   ]
  },
  {
   "cell_type": "code",
   "execution_count": 42,
   "metadata": {},
   "outputs": [
    {
     "name": "stdout",
     "output_type": "stream",
     "text": [
      "Registering model Ames-Housing-AutoML-Model\n",
      "Ames-Housing-AutoML-Model\tAmes-Housing-AutoML-Model:1\t1\n"
     ]
    }
   ],
   "source": [
    "model = Model.register(ws, model_path='outputs/model.pkl', model_name='Ames-Housing-AutoML-Model', tags=best_run_metrics)\n",
    "print(model.name, model.id, model.version, sep='\\t')"
   ]
  },
  {
   "cell_type": "code",
   "execution_count": 43,
   "metadata": {},
   "outputs": [],
   "source": [
    "from azureml.core.webservice import AciWebservice\n",
    "aciconfig = AciWebservice.deploy_configuration(cpu_cores=1,\n",
    "                                              memory_gb=1,\n",
    "                                              tags={\"data\" : \"Kaggle\", \"method\" : \"AutoML\"},\n",
    "                                              description=\"Predict Ames Housing Prices\")"
   ]
  },
  {
   "cell_type": "code",
   "execution_count": 46,
   "metadata": {},
   "outputs": [
    {
     "data": {
      "text/plain": [
       "{\n",
       "    \"databricks\": {\n",
       "        \"eggLibraries\": [],\n",
       "        \"jarLibraries\": [],\n",
       "        \"mavenLibraries\": [],\n",
       "        \"pypiLibraries\": [],\n",
       "        \"rcranLibraries\": []\n",
       "    },\n",
       "    \"docker\": {\n",
       "        \"arguments\": [],\n",
       "        \"baseDockerfile\": null,\n",
       "        \"baseImage\": \"mcr.microsoft.com/azureml/openmpi3.1.2-ubuntu18.04:20210531.v1\",\n",
       "        \"baseImageRegistry\": {\n",
       "            \"address\": null,\n",
       "            \"password\": null,\n",
       "            \"registryIdentity\": null,\n",
       "            \"username\": null\n",
       "        },\n",
       "        \"enabled\": false,\n",
       "        \"platform\": {\n",
       "            \"architecture\": \"amd64\",\n",
       "            \"os\": \"Linux\"\n",
       "        },\n",
       "        \"sharedVolumes\": true,\n",
       "        \"shmSize\": null\n",
       "    },\n",
       "    \"environmentVariables\": {\n",
       "        \"EXAMPLE_ENV_VAR\": \"EXAMPLE_VALUE\"\n",
       "    },\n",
       "    \"inferencingStackVersion\": null,\n",
       "    \"name\": \"project-env\",\n",
       "    \"python\": {\n",
       "        \"baseCondaEnvironment\": null,\n",
       "        \"condaDependencies\": {\n",
       "            \"channels\": [\n",
       "                \"anaconda\",\n",
       "                \"conda-forge\"\n",
       "            ],\n",
       "            \"dependencies\": [\n",
       "                \"python=3.6.2\",\n",
       "                {\n",
       "                    \"pip\": [\n",
       "                        \"azureml-train-automl-runtime==1.32.0\",\n",
       "                        \"inference-schema\",\n",
       "                        \"azureml-interpret==1.32.0\",\n",
       "                        \"azureml-defaults==1.32.0\"\n",
       "                    ]\n",
       "                },\n",
       "                \"numpy>=1.16.0,<1.19.0\",\n",
       "                \"pandas==0.25.1\",\n",
       "                \"scikit-learn==0.22.1\",\n",
       "                \"py-xgboost<=0.90\",\n",
       "                \"fbprophet==0.5\",\n",
       "                \"holidays==0.9.11\",\n",
       "                \"psutil>=5.2.2,<6.0.0\"\n",
       "            ],\n",
       "            \"name\": \"azureml_c199a2d8511501c9bde5dfe3639e54c9\"\n",
       "        },\n",
       "        \"condaDependenciesFile\": null,\n",
       "        \"interpreterPath\": \"python\",\n",
       "        \"userManagedDependencies\": false\n",
       "    },\n",
       "    \"r\": null,\n",
       "    \"spark\": {\n",
       "        \"packages\": [],\n",
       "        \"precachePackages\": true,\n",
       "        \"repositories\": []\n",
       "    },\n",
       "    \"version\": \"1\"\n",
       "}"
      ]
     },
     "execution_count": 46,
     "metadata": {},
     "output_type": "execute_result"
    }
   ],
   "source": [
    "from azureml.core.environment import Environment\n",
    "from azureml.core.conda_dependencies import CondaDependencies\n",
    "\n",
    "env = Environment(\"project-env\")\n",
    "cd = CondaDependencies('outputs/conda_env_v_1_0_0.yml')\n",
    "env.python.conda_dependencies = cd\n",
    "# Register environment to re-use later\n",
    "env.register(workspace=ws)"
   ]
  },
  {
   "cell_type": "code",
   "execution_count": null,
   "metadata": {},
   "outputs": [
    {
     "name": "stdout",
     "output_type": "stream",
     "text": [
      "Tips: You can try get_logs(): https://aka.ms/debugimage#dockerlog or local deployment: https://aka.ms/debugimage#debug-locally to debug if deployment takes longer than 10 minutes.\n",
      "Running\n",
      "2021-07-28 05:43:39+00:00 Creating Container Registry if not exists..\n",
      "2021-07-28 05:43:49+00:00 Registering the environment..\n",
      "2021-07-28 05:43:51+00:00 Building image."
     ]
    }
   ],
   "source": [
    "%%time\n",
    "import uuid\n",
    "from azureml.core.webservice import Webservice\n",
    "from azureml.core.model import InferenceConfig\n",
    "from azureml.core.environment import Environment\n",
    "from azureml.core import Workspace\n",
    "from azureml.core.model import Model\n",
    "\n",
    "ws = Workspace.from_config()\n",
    "model = Model(ws, 'Ames-Housing-AutoML-Model')\n",
    "\n",
    "myenv = Environment.get(workspace=ws, name=\"project-env\", version=\"1\")\n",
    "inference_config = InferenceConfig(entry_script=\"outputs/scoring_file_v_1_0_0.py\", environment=myenv)\n",
    "\n",
    "service_name = 'ames-housing-aml-' + str(uuid.uuid4())[:4]\n",
    "service = Model.deploy(workspace=ws,\n",
    "                      name=service_name,\n",
    "                      models=[model],\n",
    "                      inference_config=inference_config,\n",
    "                      deployment_config=aciconfig)\n",
    "\n",
    "service.wait_for_deployment(show_output=True)"
   ]
  },
  {
   "cell_type": "code",
   "execution_count": null,
   "metadata": {},
   "outputs": [],
   "source": []
  },
  {
   "cell_type": "code",
   "execution_count": null,
   "metadata": {},
   "outputs": [],
   "source": []
  },
  {
   "cell_type": "code",
   "execution_count": null,
   "metadata": {},
   "outputs": [],
   "source": []
  },
  {
   "cell_type": "markdown",
   "metadata": {
    "collapsed": true,
    "gather": {
     "logged": 1598431657736
    },
    "jupyter": {
     "outputs_hidden": false,
     "source_hidden": false
    },
    "nteract": {
     "transient": {
      "deleting": false
     }
    }
   },
   "source": [
    "TODO: In the cell below, send a request to the web service you deployed to test it."
   ]
  },
  {
   "cell_type": "code",
   "execution_count": null,
   "metadata": {
    "gather": {
     "logged": 1598432707604
    },
    "jupyter": {
     "outputs_hidden": false,
     "source_hidden": false
    },
    "nteract": {
     "transient": {
      "deleting": false
     }
    }
   },
   "outputs": [],
   "source": []
  },
  {
   "cell_type": "markdown",
   "metadata": {
    "collapsed": true,
    "gather": {
     "logged": 1598432765711
    },
    "jupyter": {
     "outputs_hidden": false,
     "source_hidden": false
    },
    "nteract": {
     "transient": {
      "deleting": false
     }
    }
   },
   "source": [
    "TODO: In the cell below, print the logs of the web service and delete the service"
   ]
  },
  {
   "cell_type": "code",
   "execution_count": null,
   "metadata": {
    "jupyter": {
     "outputs_hidden": false,
     "source_hidden": false
    },
    "nteract": {
     "transient": {
      "deleting": false
     }
    }
   },
   "outputs": [],
   "source": []
  },
  {
   "cell_type": "code",
   "execution_count": 46,
   "metadata": {},
   "outputs": [],
   "source": [
    "# Delete() is used to deprovision and delete the AmlCompute target. \n",
    "cpu_cluster.delete()"
   ]
  },
  {
   "cell_type": "code",
   "execution_count": null,
   "metadata": {},
   "outputs": [],
   "source": []
  }
 ],
 "metadata": {
  "kernel_info": {
   "name": "python3-azureml"
  },
  "kernelspec": {
   "display_name": "Python 3",
   "language": "python",
   "name": "python3"
  },
  "language_info": {
   "codemirror_mode": {
    "name": "ipython",
    "version": 3
   },
   "file_extension": ".py",
   "mimetype": "text/x-python",
   "name": "python",
   "nbconvert_exporter": "python",
   "pygments_lexer": "ipython3",
   "version": "3.6.9"
  },
  "microsoft": {
   "host": {
    "AzureML": {
     "notebookHasBeenCompleted": true
    }
   }
  },
  "nteract": {
   "version": "nteract-front-end@1.0.0"
  }
 },
 "nbformat": 4,
 "nbformat_minor": 2
}
