{
  "nbformat": 4,
  "nbformat_minor": 0,
  "metadata": {
    "colab": {
      "name": "Ames-Housing-XGB-Experiment.ipynb",
      "provenance": [],
      "authorship_tag": "ABX9TyNbpHFsHCwOLr4knfvbtX0l",
      "include_colab_link": true
    },
    "kernelspec": {
      "name": "python3",
      "display_name": "Python 3"
    },
    "language_info": {
      "name": "python"
    }
  },
  "cells": [
    {
      "cell_type": "markdown",
      "metadata": {
        "id": "view-in-github",
        "colab_type": "text"
      },
      "source": [
        "<a href=\"https://colab.research.google.com/github/lustraka/Predict_Ames_House_Prices/blob/main/colab/Ames_Housing_XGB_Experiment.ipynb\" target=\"_parent\"><img src=\"https://colab.research.google.com/assets/colab-badge.svg\" alt=\"Open In Colab\"/></a>"
      ]
    },
    {
      "cell_type": "code",
      "metadata": {
        "id": "m7Cu1RJaa2Gy"
      },
      "source": [
        "import pandas as pd\n",
        "from xgboost import XGBRegressor\n",
        "from sklearn.model_selection import train_test_split\n",
        "from sklearn.metrics import r2_score"
      ],
      "execution_count": 1,
      "outputs": []
    },
    {
      "cell_type": "code",
      "metadata": {
        "colab": {
          "base_uri": "https://localhost:8080/"
        },
        "id": "Q5dLWUc7baBA",
        "outputId": "6abb1020-3501-4676-c56b-c42e1fd702e2"
      },
      "source": [
        "%%writefile ames.py\n",
        "\"\"\"Download, pre-process Ames Housing dataset.\"\"\"\n",
        "# Import dependencies\n",
        "import numpy as np # linear algebra\n",
        "import pandas as pd # data processing, CSV file I/O (e.g. pd.read_csv)\n",
        "from pandas.api.types import CategoricalDtype # ordered categorical data type, see encode()\n",
        "\n",
        "def load_data_raw():\n",
        "    \"\"\"Load train and test data from Kaggle.com.\"\"\"\n",
        "\n",
        "    # Download the Ames Housing Dataset\n",
        "    # Set the enviroment variables\n",
        "    import os\n",
        "    os.environ['KAGGLE_USERNAME'] = \"lubomrstraka\"\n",
        "    os.environ['KAGGLE_KEY'] = \"c7347462ef834e6645ce238c2f2fa561\"\n",
        "\n",
        "    # Download datasets\n",
        "    os.system(\"kaggle competitions download -c house-prices-advanced-regression-techniques --quiet\")\n",
        "\n",
        "    # Read Train & Test Baseline Data\n",
        "    train_bl = pd.read_csv('train.csv', index_col='Id')\n",
        "    test_bl = pd.read_csv('test.csv', index_col='Id')\n",
        "\n",
        "    return train_bl, test_bl\n",
        "\n",
        "# The numeric features are already encoded correctly (`float` for\n",
        "# continuous, `int` for discrete), but the categoricals we'll need to\n",
        "# do ourselves. Note in particular, that the `MSSubClass` feature is\n",
        "# read as an `int` type, but is actually a (nominative) categorical.\n",
        "\n",
        "# The categorical features nominative (unordered)\n",
        "catn = [\"MSSubClass\", \"MSZoning\", \"Street\", \"Alley\", \"LandContour\", \"LotConfig\",\n",
        "        \"Neighborhood\", \"Condition1\", \"Condition2\", \"BldgType\", \"HouseStyle\", \n",
        "        \"RoofStyle\", \"RoofMatl\", \"Exterior1st\", \"Exterior2nd\", \"MasVnrType\", \n",
        "        \"Foundation\", \"Heating\", \"CentralAir\", \"GarageType\", \"MiscFeature\", \n",
        "        \"SaleType\", \"SaleCondition\"]\n",
        "\n",
        "\n",
        "# The categorical features ordinal (ordered) \n",
        "\n",
        "# Pandas calls the categories \"levels\"\n",
        "five_levels = [\"Po\", \"Fa\", \"TA\", \"Gd\", \"Ex\"]\n",
        "ten_levels = list(range(10))\n",
        "\n",
        "cato = {\n",
        "    \"OverallQual\": ten_levels,\n",
        "    \"OverallCond\": ten_levels,\n",
        "    \"ExterQual\": five_levels,\n",
        "    \"ExterCond\": five_levels,\n",
        "    \"BsmtQual\": five_levels,\n",
        "    \"BsmtCond\": five_levels,\n",
        "    \"HeatingQC\": five_levels,\n",
        "    \"KitchenQual\": five_levels,\n",
        "    \"FireplaceQu\": five_levels,\n",
        "    \"GarageQual\": five_levels,\n",
        "    \"GarageCond\": five_levels,\n",
        "    \"PoolQC\": five_levels,\n",
        "    \"LotShape\": [\"Reg\", \"IR1\", \"IR2\", \"IR3\"],\n",
        "    \"LandSlope\": [\"Sev\", \"Mod\", \"Gtl\"],\n",
        "    \"BsmtExposure\": [\"No\", \"Mn\", \"Av\", \"Gd\"],\n",
        "    \"BsmtFinType1\": [\"Unf\", \"LwQ\", \"Rec\", \"BLQ\", \"ALQ\", \"GLQ\"],\n",
        "    \"BsmtFinType2\": [\"Unf\", \"LwQ\", \"Rec\", \"BLQ\", \"ALQ\", \"GLQ\"],\n",
        "    \"Functional\": [\"Sal\", \"Sev\", \"Maj1\", \"Maj2\", \"Mod\", \"Min2\", \"Min1\", \"Typ\"],\n",
        "    \"GarageFinish\": [\"Unf\", \"RFn\", \"Fin\"],\n",
        "    \"PavedDrive\": [\"N\", \"P\", \"Y\"],\n",
        "    \"Utilities\": [\"NoSeWa\", \"NoSewr\", \"AllPub\"],\n",
        "    \"CentralAir\": [\"N\", \"Y\"],\n",
        "    \"Electrical\": [\"Mix\", \"FuseP\", \"FuseF\", \"FuseA\", \"SBrkr\"],\n",
        "    \"Fence\": [\"MnWw\", \"GdWo\", \"MnPrv\", \"GdPrv\"],\n",
        "}\n",
        "\n",
        "# Add a None level for missing values\n",
        "cato = {key: [\"None\"] + value for key, value in\n",
        "                  cato.items()}\n",
        "\n",
        "\n",
        "def encode_dtypes(df):\n",
        "    \"\"\"Encode nominal and ordinal categorical variables.\"\"\"\n",
        "\n",
        "    global catn, cato\n",
        "\n",
        "    # Nominal categories\n",
        "    for name in catn:\n",
        "        df[name] = df[name].astype(\"category\")\n",
        "        # Add a None category for missing values\n",
        "        if \"None\" not in df[name].cat.categories:\n",
        "            df[name].cat.add_categories(\"None\", inplace=True)\n",
        "    # Ordinal categories\n",
        "    for name, levels in cato.items():\n",
        "        df[name] = df[name].astype(CategoricalDtype(levels,\n",
        "                                                    ordered=True))\n",
        "    return df\n",
        "\n",
        "def impute_missing(df):\n",
        "    \"\"\"Impute zeros to numerical and None to categorical variables.\"\"\"\n",
        "\n",
        "    for name in df.select_dtypes(\"number\"):\n",
        "        df[name] = df[name].fillna(0)\n",
        "    for name in df.select_dtypes(\"category\"):\n",
        "        df[name] = df[name].fillna(\"None\")\n",
        "    return df\n",
        "\n",
        "def clean_data(df):\n",
        "    \"\"\"Remedy typos and mistakes based on EDA.\"\"\"\n",
        "\n",
        "    global cato\n",
        "    # YearRemodAdd: Remodel date (same as construction date if no remodeling or additions)\n",
        "    df.YearRemodAdd = np.where(df.YearRemodAdd < df.YearBuilt, df.YearBuilt, df.YearRemodAdd)\n",
        "    assert len(df.loc[df.YearRemodAdd < df.YearBuilt]) == 0, 'Check YearRemodAdd - should be greater or equal then YearBuilt'\n",
        "    \n",
        "    # Check range of years\n",
        "    yr_max = 2022\n",
        "    # Some values of GarageYrBlt are corrupt. Fix them by replacing them with the YearBuilt\n",
        "    df.GarageYrBlt = np.where(df.GarageYrBlt > yr_max, df.YearBuilt, df.GarageYrBlt)\n",
        "    assert df.YearBuilt.max() < yr_max and df.YearBuilt.min() > 1800, 'Check YearBuilt min() and max()'\n",
        "    assert df.YearRemodAdd.max() < yr_max and df.YearRemodAdd.min() > 1900, 'Check YearRemodAdd min() and max()'\n",
        "    assert df.YrSold.max() < yr_max and df.YrSold.min() > 2000, 'Check YrSold min() and max()'\n",
        "    assert df.GarageYrBlt.max() < yr_max and df.GarageYrBlt.min() >= 0, 'Check GarageYrBlt min() and max()'\n",
        "    \n",
        "    # Check values of ordinal catagorical variables\n",
        "    for k in cato.keys():\n",
        "      assert set(df[k].unique()).difference(df[k].cat.categories) == set(), f'Check values of {k}'\n",
        "    \n",
        "    # Check typos in nominal categorical variables\n",
        "    df['Exterior2nd'] = df['Exterior2nd'].replace({'Brk Cmn':'BrkComm', 'CmentBd':'CemntBd', 'Wd Shng':'WdShing'})\n",
        "    # Renew a data type after replacement\n",
        "    df['Exterior2nd'] = df['Exterior2nd'].astype(\"category\")\n",
        "    if \"None\" not in df['Exterior2nd'].cat.categories:\n",
        "        df['Exterior2nd'].cat.add_categories(\"None\", inplace=True)\n",
        "\n",
        "    return df\n",
        "\n",
        "def label_encode(df):\n",
        "    \"\"\"Encode categorical variables using their dtype setting.\"\"\"\n",
        "\n",
        "    X = df.copy()\n",
        "    for colname in X.select_dtypes([\"category\"]):\n",
        "        X[colname] = X[colname].cat.codes\n",
        "    return X\n",
        "\n",
        "def load_data_clean():\n",
        "    \"\"\"Load and data and pre-process them.\"\"\"\n",
        "\n",
        "    train_bl, test_bl = load_data_raw()\n",
        "\n",
        "    train = train_bl.copy()\n",
        "    train = encode_dtypes(train)\n",
        "    train = impute_missing(train)\n",
        "    train = clean_data(train)\n",
        "\n",
        "    test = test_bl.copy()\n",
        "    test = encode_dtypes(test)\n",
        "    test = impute_missing(test)\n",
        "    test = clean_data(test)\n",
        "\n",
        "    return train, test"
      ],
      "execution_count": 2,
      "outputs": [
        {
          "output_type": "stream",
          "text": [
            "Overwriting ames.py\n"
          ],
          "name": "stdout"
        }
      ]
    },
    {
      "cell_type": "code",
      "metadata": {
        "colab": {
          "base_uri": "https://localhost:8080/"
        },
        "id": "46E7DTJqbjzx",
        "outputId": "93142ad2-9981-440a-8a17-1e0a8e60dc59"
      },
      "source": [
        "import ames\n",
        "train, test = ames.load_data_clean()\n",
        "print(f\"train.shape = {train.shape}, test.shape = {test.shape}\")"
      ],
      "execution_count": 3,
      "outputs": [
        {
          "output_type": "stream",
          "text": [
            "train.shape = (1460, 80), test.shape = (1459, 79)\n"
          ],
          "name": "stdout"
        }
      ]
    },
    {
      "cell_type": "code",
      "metadata": {
        "colab": {
          "base_uri": "https://localhost:8080/"
        },
        "id": "FnfOSoilcd1h",
        "outputId": "a8425f4c-5a0e-4962-c19f-9d5c439c9416"
      },
      "source": [
        "X_train, X_test = train_test_split(ames.label_encode(train))\n",
        "y_train = X_train.pop('SalePrice')\n",
        "y_test = X_test.pop('SalePrice')\n",
        "X_train.shape, X_test.shape"
      ],
      "execution_count": 4,
      "outputs": [
        {
          "output_type": "execute_result",
          "data": {
            "text/plain": [
              "((1095, 79), (365, 79))"
            ]
          },
          "metadata": {
            "tags": []
          },
          "execution_count": 4
        }
      ]
    },
    {
      "cell_type": "code",
      "metadata": {
        "colab": {
          "base_uri": "https://localhost:8080/"
        },
        "id": "xCxCuyHZc5eQ",
        "outputId": "58723b19-6349-4a6e-eb82-16ce5b5c04b4"
      },
      "source": [
        "model = XGBRegressor(learning_rate=0.1, gamma=2, max_depth=3, objective='reg:squarederror')\n",
        "model.fit(X_train, y_train)"
      ],
      "execution_count": 5,
      "outputs": [
        {
          "output_type": "execute_result",
          "data": {
            "text/plain": [
              "XGBRegressor(base_score=0.5, booster='gbtree', colsample_bylevel=1,\n",
              "             colsample_bynode=1, colsample_bytree=1, gamma=2,\n",
              "             importance_type='gain', learning_rate=0.1, max_delta_step=0,\n",
              "             max_depth=3, min_child_weight=1, missing=None, n_estimators=100,\n",
              "             n_jobs=1, nthread=None, objective='reg:squarederror',\n",
              "             random_state=0, reg_alpha=0, reg_lambda=1, scale_pos_weight=1,\n",
              "             seed=None, silent=None, subsample=1, verbosity=1)"
            ]
          },
          "metadata": {
            "tags": []
          },
          "execution_count": 5
        }
      ]
    },
    {
      "cell_type": "code",
      "metadata": {
        "colab": {
          "base_uri": "https://localhost:8080/"
        },
        "id": "94qXcHxhdr2X",
        "outputId": "b63086ba-caba-41c7-9af4-16258b905a82"
      },
      "source": [
        "y_pred = model.predict(X_test)\n",
        "r2_score(y_test, y_pred)"
      ],
      "execution_count": 6,
      "outputs": [
        {
          "output_type": "execute_result",
          "data": {
            "text/plain": [
              "0.8912964834759828"
            ]
          },
          "metadata": {
            "tags": []
          },
          "execution_count": 6
        }
      ]
    },
    {
      "cell_type": "code",
      "metadata": {
        "id": "Vz0Z4s8Lf2tN"
      },
      "source": [
        ""
      ],
      "execution_count": 6,
      "outputs": []
    }
  ]
}