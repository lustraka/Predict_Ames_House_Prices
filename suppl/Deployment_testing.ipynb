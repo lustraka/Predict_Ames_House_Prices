{
  "nbformat": 4,
  "nbformat_minor": 0,
  "metadata": {
    "colab": {
      "name": "Deployment-testing.ipynb",
      "provenance": [],
      "authorship_tag": "ABX9TyOSX0MhajOBifJeXHjxYDTH"
    },
    "kernelspec": {
      "name": "python3",
      "display_name": "Python 3"
    },
    "language_info": {
      "name": "python"
    }
  },
  "cells": [
    {
      "cell_type": "code",
      "metadata": {
        "id": "z33tYpDfZiGz"
      },
      "source": [
        "# Import dependencies\n",
        "import train_xgb\n",
        "import json"
      ],
      "execution_count": 2,
      "outputs": []
    },
    {
      "cell_type": "code",
      "metadata": {
        "id": "_RuEufmoaEQ0"
      },
      "source": [
        "from azureml.core import Workspace\n",
        "ws = Workspace.from_config()\n",
        "print(ws.name, ws.resource_group, ws.location, ws.subscription_id, sep='\\n')"
      ],
      "execution_count": null,
      "outputs": []
    },
    {
      "cell_type": "code",
      "metadata": {
        "id": "S3i7e0x1aSAs"
      },
      "source": [
        "from azureml.core.compute import ComputeTarget, AmlCompute\n",
        "from azureml.core.compute_target import ComputeTargetException\n",
        "# Create compute cluster\n",
        "# Choose a name for your CPU cluster\n",
        "cpu_cluster_name = \"cpu-cluster\"\n",
        "\n",
        "# Verify that cluster does not exist already\n",
        "try:\n",
        "    cpu_cluster = ComputeTarget(workspace=ws, name=cpu_cluster_name)\n",
        "    print('Found existing cluster, use it.')\n",
        "except ComputeTargetException:\n",
        "    compute_config = AmlCompute.provisioning_configuration(vm_size='STANDARD_D2_V2',\n",
        "                                                           min_nodes=1,\n",
        "                                                           max_nodes=5)\n",
        "    cpu_cluster = ComputeTarget.create(ws, cpu_cluster_name, compute_config)\n",
        "\n",
        "cpu_cluster.wait_for_completion(show_output=True)"
      ],
      "execution_count": null,
      "outputs": []
    },
    {
      "cell_type": "code",
      "metadata": {
        "id": "jZYqKWd7bX4-"
      },
      "source": [
        "\n",
        "from azureml.data.dataset_factory import TabularDatasetFactory\n",
        "# Try to load the dataset from the workspace. Otherwise, load if from Kaggle\n",
        "found = False\n",
        "ds_key = 'Ames-housing-dataset'\n",
        "ds_desc = 'Ames Housing training data.'\n",
        "\n",
        "if ds_key in ws.datasets.keys():\n",
        "    found = True\n",
        "    dataset = ws.datasets[ds_key]\n",
        "    print(f'Found registered {ds_key}, use it.')\n",
        "    \n",
        "if not found:\n",
        "    train, test = train_xgb.load_data_clean(source='kaggle')\n",
        "    print(f\"train.shape = {train.shape}, test.shape = {test.shape}\")\n",
        "    # Register the train dataset\n",
        "    blob = ws.get_default_datastore()\n",
        "    dataset = TabularDatasetFactory.register_pandas_dataframe(train, blob, name=ds_key, description=ds_desc)"
      ],
      "execution_count": null,
      "outputs": []
    },
    {
      "cell_type": "code",
      "metadata": {
        "id": "r2gmKB_RaYx0"
      },
      "source": [
        "%%writefile conda_env.yml\n",
        "\n",
        "dependencies:\n",
        "- python=3.6.2\n",
        "- pip:\n",
        "  - inference-schema\n",
        "  - azureml-defaults==1.32.0\n",
        "- numpy>=1.16.0,<1.19.0\n",
        "- pandas==0.25.1\n",
        "- scikit-learn==0.22.1\n",
        "- py-xgboost<=0.90\n",
        "channels:\n",
        "- anaconda\n",
        "- conda-forge"
      ],
      "execution_count": null,
      "outputs": []
    },
    {
      "cell_type": "code",
      "metadata": {
        "id": "VeuPY0KkaiIJ"
      },
      "source": [
        "with open('hdr-outputs/best_hdr_metrics.json', 'r') as file:\n",
        "    best_hdr_metrics = json.load(file)"
      ],
      "execution_count": null,
      "outputs": []
    },
    {
      "cell_type": "code",
      "metadata": {
        "id": "6QrPxsvJaxw4"
      },
      "source": [
        "from azureml.core import Model\n",
        "# Register the best model\n",
        "model = Model.register(ws, model_path='hdr-outputs/model.pkl', model_name='Ames-Housing-XGB-Model', tags=best_hdr_metrics)\n",
        "print(model.name, model.id, model.version, sep='\\t')"
      ],
      "execution_count": null,
      "outputs": []
    },
    {
      "cell_type": "code",
      "metadata": {
        "id": "fe34B7MXays1"
      },
      "source": [
        "\n",
        "from azureml.core.webservice import AciWebservice\n",
        "aciconfig = AciWebservice.deploy_configuration(cpu_cores=1,\n",
        "                                              memory_gb=1,\n",
        "                                              tags={\"data\" : \"Kaggle\", \"method\" : \"XGB\"},\n",
        "                                              description=\"Predict Ames Housing Prices\",\n",
        "                                              auth_enabled=True,\n",
        "                                              enable_app_insights=True)"
      ],
      "execution_count": null,
      "outputs": []
    },
    {
      "cell_type": "code",
      "metadata": {
        "id": "TbuGHr_Pa2mG"
      },
      "source": [
        "from azureml.core.environment import Environment\n",
        "from azureml.core.conda_dependencies import CondaDependencies\n",
        "\n",
        "env = Environment(\"project-env\")\n",
        "cd = CondaDependencies('conda_env.yml')\n",
        "env.python.conda_dependencies = cd\n",
        "# Register environment to re-use later\n",
        "env.register(workspace=ws)"
      ],
      "execution_count": null,
      "outputs": []
    },
    {
      "cell_type": "code",
      "metadata": {
        "id": "ILkvHXa9bBjY"
      },
      "source": [
        "%%time\n",
        "import uuid\n",
        "from azureml.core.webservice import Webservice\n",
        "from azureml.core.model import InferenceConfig\n",
        "from azureml.core.environment import Environment\n",
        "\n",
        "ws = Workspace.from_config()\n",
        "model = Model(ws, 'Ames-Housing-XGB-Model')\n",
        "\n",
        "myenv = Environment.get(workspace=ws, name=\"project-env\", version=\"1\")\n",
        "\n",
        "inference_config = InferenceConfig(entry_script=\"entry_script.py\", environment=myenv)\n",
        "\n",
        "service_name = 'ames-housing-xgb-' + str(uuid.uuid4())[:4]\n",
        "service = Model.deploy(workspace=ws,\n",
        "                      name=service_name,\n",
        "                      models=[model],\n",
        "                      inference_config=inference_config,\n",
        "                      deployment_config=aciconfig)\n",
        "\n",
        "service.wait_for_deployment(show_output=True)"
      ],
      "execution_count": null,
      "outputs": []
    },
    {
      "cell_type": "code",
      "metadata": {
        "id": "Y--m0e0IbCVH"
      },
      "source": [
        "print(service.get_logs())"
      ],
      "execution_count": null,
      "outputs": []
    },
    {
      "cell_type": "code",
      "metadata": {
        "id": "CQTCpmrkbLNE"
      },
      "source": [
        "# Prepare data for request\n",
        "_ , test = train_xgb.load_data_clean()\n",
        "test = train_xgb.label_encode(test)\n",
        "data = {'data': test.head().to_dict(orient='list')}\n",
        "\n",
        "# Replace the next cell with the code from 'Consume' tab of the endpoint\n",
        "# and delete 'data = {}' assignment as data is defined in this cell!"
      ],
      "execution_count": null,
      "outputs": []
    },
    {
      "cell_type": "code",
      "metadata": {
        "id": "XoPVFpgIbRF-"
      },
      "source": [
        ""
      ],
      "execution_count": null,
      "outputs": []
    },
    {
      "cell_type": "code",
      "metadata": {
        "id": "5UNkEY6kbRdX"
      },
      "source": [
        "print(service.get_logs())\n",
        "# Clean up resources\n",
        "service.delete()\n",
        "cpu_cluster.delete()"
      ],
      "execution_count": null,
      "outputs": []
    }
  ]
}