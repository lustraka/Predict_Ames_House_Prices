{
 "cells": [
  {
   "cell_type": "markdown",
   "metadata": {},
   "source": [
    "# Automated ML\n",
    "\n",
    "TODO: Import Dependencies. In the cell below, import all the dependencies that you will need to complete the project."
   ]
  },
  {
   "cell_type": "code",
   "execution_count": 1,
   "metadata": {
    "gather": {
     "logged": 1598423888013
    },
    "jupyter": {
     "outputs_hidden": false,
     "source_hidden": false
    },
    "nteract": {
     "transient": {
      "deleting": false
     }
    }
   },
   "outputs": [],
   "source": [
    "import os\n",
    "import zipfile\n",
    "import pandas as pd\n",
    "\n",
    "from azureml.core import Workspace, Dataset, Experiment"
   ]
  },
  {
   "cell_type": "code",
   "execution_count": 2,
   "metadata": {},
   "outputs": [
    {
     "name": "stdout",
     "output_type": "stream",
     "text": [
      "quick-starts-ws-152247\n",
      "aml-quickstarts-152247\n",
      "southcentralus\n",
      "81cefad3-d2c9-4f77-a466-99a7f541c7bb\n"
     ]
    }
   ],
   "source": [
    "ws = Workspace.from_config()\n",
    "print(ws.name, ws.resource_group, ws.location, ws.subscription_id, sep='\\n')"
   ]
  },
  {
   "cell_type": "code",
   "execution_count": 3,
   "metadata": {},
   "outputs": [
    {
     "name": "stdout",
     "output_type": "stream",
     "text": [
      "Creating......\n",
      "SucceededProvisioning operation finished, operation \"Succeeded\"\n",
      "Succeeded\n",
      "AmlCompute wait for completion finished\n",
      "\n",
      "Minimum number of nodes requested have been provisioned\n"
     ]
    }
   ],
   "source": [
    "# Create compute cluster\n",
    "from azureml.core.compute import ComputeTarget, AmlCompute\n",
    "from azureml.core.compute_target import ComputeTargetException\n",
    "\n",
    "# Choose a name for your CPU cluster\n",
    "cpu_cluster_name = \"cpu-cluster\"\n",
    "\n",
    "# Verify that cluster does not exist already\n",
    "try:\n",
    "    cpu_cluster = ComputeTarget(workspace=ws, name=cpu_cluster_name)\n",
    "    print('Found existing cluster, use it.')\n",
    "except ComputeTargetException:\n",
    "    compute_config = AmlCompute.provisioning_configuration(vm_size='STANDARD_D2_V2',\n",
    "                                                           max_nodes=4)\n",
    "    cpu_cluster = ComputeTarget.create(ws, cpu_cluster_name, compute_config)\n",
    "\n",
    "cpu_cluster.wait_for_completion(show_output=True)"
   ]
  },
  {
   "cell_type": "markdown",
   "metadata": {},
   "source": [
    "## Dataset\n",
    "\n",
    "### Overview\n",
    "TODO: In this markdown cell, give an overview of the dataset you are using. Also mention the task you will be performing.\n",
    "\n",
    "\n",
    "TODO: Get data. In the cell below, write code to access the data you will be using in this project. Remember that the dataset needs to be external."
   ]
  },
  {
   "cell_type": "code",
   "execution_count": 4,
   "metadata": {
    "gather": {
     "logged": 1598423890461
    },
    "jupyter": {
     "outputs_hidden": false,
     "source_hidden": false
    },
    "nteract": {
     "transient": {
      "deleting": false
     }
    }
   },
   "outputs": [
    {
     "name": "stdout",
     "output_type": "stream",
     "text": [
      "<class 'pandas.core.frame.DataFrame'>\n",
      "RangeIndex: 1460 entries, 0 to 1459\n",
      "Data columns (total 80 columns):\n",
      "MSSubClass       1460 non-null int64\n",
      "MSZoning         1460 non-null object\n",
      "LotFrontage      1201 non-null float64\n",
      "LotArea          1460 non-null int64\n",
      "Street           1460 non-null object\n",
      "Alley            1460 non-null object\n",
      "LotShape         1460 non-null object\n",
      "LandContour      1460 non-null object\n",
      "Utilities        1460 non-null object\n",
      "LotConfig        1460 non-null object\n",
      "LandSlope        1460 non-null object\n",
      "Neighborhood     1460 non-null object\n",
      "Condition1       1460 non-null object\n",
      "Condition2       1460 non-null object\n",
      "BldgType         1460 non-null object\n",
      "HouseStyle       1460 non-null object\n",
      "OverallQual      1460 non-null int64\n",
      "OverallCond      1460 non-null int64\n",
      "YearBuilt        1460 non-null int64\n",
      "YearRemodAdd     1460 non-null int64\n",
      "RoofStyle        1460 non-null object\n",
      "RoofMatl         1460 non-null object\n",
      "Exterior1st      1460 non-null object\n",
      "Exterior2nd      1460 non-null object\n",
      "MasVnrType       1460 non-null object\n",
      "MasVnrArea       1452 non-null float64\n",
      "ExterQual        1460 non-null object\n",
      "ExterCond        1460 non-null object\n",
      "Foundation       1460 non-null object\n",
      "BsmtQual         1460 non-null object\n",
      "BsmtCond         1460 non-null object\n",
      "BsmtExposure     1460 non-null object\n",
      "BsmtFinType1     1460 non-null object\n",
      "BsmtFinSF1       1460 non-null int64\n",
      "BsmtFinType2     1460 non-null object\n",
      "BsmtFinSF2       1460 non-null int64\n",
      "BsmtUnfSF        1460 non-null int64\n",
      "TotalBsmtSF      1460 non-null int64\n",
      "Heating          1460 non-null object\n",
      "HeatingQC        1460 non-null object\n",
      "CentralAir       1460 non-null object\n",
      "Electrical       1460 non-null object\n",
      "1stFlrSF         1460 non-null int64\n",
      "2ndFlrSF         1460 non-null int64\n",
      "LowQualFinSF     1460 non-null int64\n",
      "GrLivArea        1460 non-null int64\n",
      "BsmtFullBath     1460 non-null int64\n",
      "BsmtHalfBath     1460 non-null int64\n",
      "FullBath         1460 non-null int64\n",
      "HalfBath         1460 non-null int64\n",
      "BedroomAbvGr     1460 non-null int64\n",
      "KitchenAbvGr     1460 non-null int64\n",
      "KitchenQual      1460 non-null object\n",
      "TotRmsAbvGrd     1460 non-null int64\n",
      "Functional       1460 non-null object\n",
      "Fireplaces       1460 non-null int64\n",
      "FireplaceQu      1460 non-null object\n",
      "GarageType       1460 non-null object\n",
      "GarageYrBlt      1379 non-null float64\n",
      "GarageFinish     1460 non-null object\n",
      "GarageCars       1460 non-null int64\n",
      "GarageArea       1460 non-null int64\n",
      "GarageQual       1460 non-null object\n",
      "GarageCond       1460 non-null object\n",
      "PavedDrive       1460 non-null object\n",
      "WoodDeckSF       1460 non-null int64\n",
      "OpenPorchSF      1460 non-null int64\n",
      "EnclosedPorch    1460 non-null int64\n",
      "3SsnPorch        1460 non-null int64\n",
      "ScreenPorch      1460 non-null int64\n",
      "PoolArea         1460 non-null int64\n",
      "PoolQC           1460 non-null object\n",
      "Fence            1460 non-null object\n",
      "MiscFeature      1460 non-null object\n",
      "MiscVal          1460 non-null int64\n",
      "MoSold           1460 non-null int64\n",
      "YrSold           1460 non-null int64\n",
      "SaleType         1460 non-null object\n",
      "SaleCondition    1460 non-null object\n",
      "SalePrice        1460 non-null int64\n",
      "dtypes: float64(3), int64(34), object(43)\n",
      "memory usage: 912.6+ KB\n",
      "None\n"
     ]
    }
   ],
   "source": [
    "dataset = Dataset.get_by_name(ws, name='Ames-housing-dataset')\n",
    "print(dataset.to_pandas_dataframe().info())"
   ]
  },
  {
   "cell_type": "code",
   "execution_count": 5,
   "metadata": {},
   "outputs": [],
   "source": [
    "# Choose a name for experiment\n",
    "experiment_name = 'Ames-housing-AutoML'\n",
    "\n",
    "experiment=Experiment(ws, experiment_name)"
   ]
  },
  {
   "cell_type": "markdown",
   "metadata": {},
   "source": [
    "## AutoML Configuration\n",
    "\n",
    "TODO: Explain why you chose the automl settings and cofiguration you used below."
   ]
  },
  {
   "cell_type": "code",
   "execution_count": 6,
   "metadata": {
    "gather": {
     "logged": 1598429217746
    },
    "jupyter": {
     "outputs_hidden": false,
     "source_hidden": false
    },
    "nteract": {
     "transient": {
      "deleting": false
     }
    }
   },
   "outputs": [],
   "source": [
    "from azureml.train.automl import AutoMLConfig\n",
    "\n",
    "# Set parameters for AutoMLConfig\n",
    "automl_settings = {\n",
    "    'experiment_timeout_minutes' : 120,\n",
    "    'n_cross_validations' : 3,\n",
    "    'enable_early_stopping' : True,\n",
    "    'iteration_timeout_minutes' : 5,\n",
    "    'max_concurrent_iterations' : 4,\n",
    "    'max_cores_per_iteration' : -1\n",
    "}\n",
    "\n",
    "automl_config = AutoMLConfig(\n",
    "    task='regression',\n",
    "    primary_metric='normalized_root_mean_squared_error',\n",
    "    compute_target=cpu_cluster,\n",
    "    training_data=dataset,\n",
    "    label_column_name='SalePrice',\n",
    "    **automl_settings)"
   ]
  },
  {
   "cell_type": "code",
   "execution_count": 7,
   "metadata": {
    "gather": {
     "logged": 1598431107951
    },
    "jupyter": {
     "outputs_hidden": false,
     "source_hidden": false
    },
    "nteract": {
     "transient": {
      "deleting": false
     }
    }
   },
   "outputs": [
    {
     "name": "stdout",
     "output_type": "stream",
     "text": [
      "Submitting remote run.\n"
     ]
    },
    {
     "data": {
      "text/html": [
       "<table style=\"width:100%\"><tr><th>Experiment</th><th>Id</th><th>Type</th><th>Status</th><th>Details Page</th><th>Docs Page</th></tr><tr><td>Ames-housing-AutoML</td><td>AutoML_cd63750f-df45-4803-b135-af0f23de09cd</td><td>automl</td><td>NotStarted</td><td><a href=\"https://ml.azure.com/runs/AutoML_cd63750f-df45-4803-b135-af0f23de09cd?wsid=/subscriptions/81cefad3-d2c9-4f77-a466-99a7f541c7bb/resourcegroups/aml-quickstarts-152247/workspaces/quick-starts-ws-152247&amp;tid=660b3398-b80e-49d2-bc5b-ac1dc93b5254\" target=\"_blank\" rel=\"noopener\">Link to Azure Machine Learning studio</a></td><td><a href=\"https://docs.microsoft.com/en-us/python/api/overview/azure/ml/intro?view=azure-ml-py\" target=\"_blank\" rel=\"noopener\">Link to Documentation</a></td></tr></table>"
      ],
      "text/plain": [
       "<IPython.core.display.HTML object>"
      ]
     },
     "metadata": {},
     "output_type": "display_data"
    },
    {
     "data": {
      "application/vnd.jupyter.widget-view+json": {
       "model_id": "852b17ea709547aaab2ebdc42cd1b024",
       "version_major": 2,
       "version_minor": 0
      },
      "text/plain": [
       "_AutoMLWidget(widget_settings={'childWidgetDisplay': 'popup', 'send_telemetry': False, 'log_level': 'INFO', 's…"
      ]
     },
     "metadata": {},
     "output_type": "display_data"
    },
    {
     "data": {
      "application/aml.mini.widget.v1": "{\"status\": \"Completed\", \"workbench_run_details_uri\": \"https://ml.azure.com/runs/AutoML_cd63750f-df45-4803-b135-af0f23de09cd?wsid=/subscriptions/81cefad3-d2c9-4f77-a466-99a7f541c7bb/resourcegroups/aml-quickstarts-152247/workspaces/quick-starts-ws-152247&tid=660b3398-b80e-49d2-bc5b-ac1dc93b5254\", \"run_id\": \"AutoML_cd63750f-df45-4803-b135-af0f23de09cd\", \"run_properties\": {\"run_id\": \"AutoML_cd63750f-df45-4803-b135-af0f23de09cd\", \"created_utc\": \"2021-07-23T08:25:03.733909Z\", \"properties\": {\"num_iterations\": \"1000\", \"training_type\": \"TrainFull\", \"acquisition_function\": \"EI\", \"primary_metric\": \"normalized_root_mean_squared_error\", \"train_split\": \"0\", \"acquisition_parameter\": \"0\", \"num_cross_validation\": \"3\", \"target\": \"cpu-cluster\", \"AMLSettingsJsonString\": \"{\\\"path\\\":null,\\\"name\\\":\\\"Ames-housing-AutoML\\\",\\\"subscription_id\\\":\\\"81cefad3-d2c9-4f77-a466-99a7f541c7bb\\\",\\\"resource_group\\\":\\\"aml-quickstarts-152247\\\",\\\"workspace_name\\\":\\\"quick-starts-ws-152247\\\",\\\"region\\\":\\\"southcentralus\\\",\\\"compute_target\\\":\\\"cpu-cluster\\\",\\\"spark_service\\\":null,\\\"azure_service\\\":\\\"remote\\\",\\\"many_models\\\":false,\\\"pipeline_fetch_max_batch_size\\\":1,\\\"enable_batch_run\\\":false,\\\"enable_run_restructure\\\":false,\\\"start_auxiliary_runs_before_parent_complete\\\":false,\\\"enable_code_generation\\\":false,\\\"iterations\\\":1000,\\\"primary_metric\\\":\\\"normalized_root_mean_squared_error\\\",\\\"task_type\\\":\\\"regression\\\",\\\"data_script\\\":null,\\\"test_size\\\":0.0,\\\"validation_size\\\":0.0,\\\"n_cross_validations\\\":3,\\\"y_min\\\":null,\\\"y_max\\\":null,\\\"num_classes\\\":null,\\\"featurization\\\":\\\"auto\\\",\\\"_ignore_package_version_incompatibilities\\\":false,\\\"is_timeseries\\\":false,\\\"max_cores_per_iteration\\\":-1,\\\"max_concurrent_iterations\\\":4,\\\"iteration_timeout_minutes\\\":5,\\\"mem_in_mb\\\":null,\\\"enforce_time_on_windows\\\":false,\\\"experiment_timeout_minutes\\\":120,\\\"experiment_exit_score\\\":null,\\\"whitelist_models\\\":null,\\\"blacklist_algos\\\":[\\\"TensorFlowDNN\\\",\\\"TensorFlowLinearRegressor\\\"],\\\"supported_models\\\":[\\\"FastLinearRegressor\\\",\\\"SGD\\\",\\\"ElasticNet\\\",\\\"LightGBM\\\",\\\"OnlineGradientDescentRegressor\\\",\\\"GradientBoosting\\\",\\\"DecisionTree\\\",\\\"XGBoostRegressor\\\",\\\"TensorFlowLinearRegressor\\\",\\\"ExtremeRandomTrees\\\",\\\"KNN\\\",\\\"RandomForest\\\",\\\"TensorFlowDNN\\\",\\\"LassoLars\\\"],\\\"private_models\\\":[],\\\"auto_blacklist\\\":true,\\\"blacklist_samples_reached\\\":false,\\\"exclude_nan_labels\\\":true,\\\"verbosity\\\":20,\\\"_debug_log\\\":\\\"azureml_automl.log\\\",\\\"show_warnings\\\":false,\\\"model_explainability\\\":true,\\\"service_url\\\":null,\\\"sdk_url\\\":null,\\\"sdk_packages\\\":null,\\\"enable_onnx_compatible_models\\\":false,\\\"enable_split_onnx_featurizer_estimator_models\\\":false,\\\"vm_type\\\":\\\"STANDARD_D2_V2\\\",\\\"telemetry_verbosity\\\":20,\\\"send_telemetry\\\":true,\\\"enable_dnn\\\":false,\\\"scenario\\\":\\\"SDK-1.13.0\\\",\\\"environment_label\\\":null,\\\"save_mlflow\\\":false,\\\"force_text_dnn\\\":false,\\\"enable_feature_sweeping\\\":true,\\\"enable_early_stopping\\\":true,\\\"early_stopping_n_iters\\\":10,\\\"metrics\\\":null,\\\"enable_metric_confidence\\\":false,\\\"enable_ensembling\\\":true,\\\"enable_stack_ensembling\\\":true,\\\"ensemble_iterations\\\":15,\\\"enable_tf\\\":false,\\\"enable_subsampling\\\":null,\\\"subsample_seed\\\":null,\\\"enable_nimbusml\\\":false,\\\"enable_streaming\\\":false,\\\"force_streaming\\\":false,\\\"track_child_runs\\\":true,\\\"allowed_private_models\\\":[],\\\"label_column_name\\\":\\\"SalePrice\\\",\\\"weight_column_name\\\":null,\\\"cv_split_column_names\\\":null,\\\"enable_local_managed\\\":false,\\\"_local_managed_run_id\\\":null,\\\"cost_mode\\\":1,\\\"lag_length\\\":0,\\\"metric_operation\\\":\\\"minimize\\\",\\\"preprocess\\\":true}\", \"DataPrepJsonString\": \"{\\\\\\\"training_data\\\\\\\": {\\\\\\\"datasetId\\\\\\\": \\\\\\\"89d44307-7cdb-4415-acc0-e687ebe1dff6\\\\\\\"}, \\\\\\\"datasets\\\\\\\": 0}\", \"EnableSubsampling\": null, \"runTemplate\": \"AutoML\", \"azureml.runsource\": \"automl\", \"display_task_type\": \"regression\", \"dependencies_versions\": \"{\\\"azureml-widgets\\\": \\\"1.31.0\\\", \\\"azureml-train\\\": \\\"1.31.0\\\", \\\"azureml-train-restclients-hyperdrive\\\": \\\"1.31.0\\\", \\\"azureml-train-core\\\": \\\"1.31.0\\\", \\\"azureml-train-automl\\\": \\\"1.31.0\\\", \\\"azureml-train-automl-runtime\\\": \\\"1.31.0\\\", \\\"azureml-train-automl-client\\\": \\\"1.31.0\\\", \\\"azureml-tensorboard\\\": \\\"1.31.0\\\", \\\"azureml-telemetry\\\": \\\"1.31.0\\\", \\\"azureml-sdk\\\": \\\"1.31.0\\\", \\\"azureml-samples\\\": \\\"0+unknown\\\", \\\"azureml-responsibleai\\\": \\\"1.31.0\\\", \\\"azureml-pipeline\\\": \\\"1.31.0\\\", \\\"azureml-pipeline-steps\\\": \\\"1.31.0\\\", \\\"azureml-pipeline-core\\\": \\\"1.31.0\\\", \\\"azureml-opendatasets\\\": \\\"1.31.0\\\", \\\"azureml-model-management-sdk\\\": \\\"1.0.1b6.post1\\\", \\\"azureml-mlflow\\\": \\\"1.31.0\\\", \\\"azureml-interpret\\\": \\\"1.31.0\\\", \\\"azureml-explain-model\\\": \\\"1.31.0\\\", \\\"azureml-defaults\\\": \\\"1.31.0\\\", \\\"azureml-dataset-runtime\\\": \\\"1.31.0\\\", \\\"azureml-dataprep\\\": \\\"2.18.0\\\", \\\"azureml-dataprep-rslex\\\": \\\"1.16.1\\\", \\\"azureml-dataprep-native\\\": \\\"36.0.0\\\", \\\"azureml-datadrift\\\": \\\"1.31.0\\\", \\\"azureml-core\\\": \\\"1.31.0\\\", \\\"azureml-contrib-services\\\": \\\"1.31.0\\\", \\\"azureml-contrib-server\\\": \\\"1.31.0\\\", \\\"azureml-contrib-reinforcementlearning\\\": \\\"1.31.0\\\", \\\"azureml-contrib-pipeline-steps\\\": \\\"1.31.0\\\", \\\"azureml-contrib-notebook\\\": \\\"1.31.0\\\", \\\"azureml-contrib-fairness\\\": \\\"1.31.0\\\", \\\"azureml-contrib-dataset\\\": \\\"1.31.0\\\", \\\"azureml-cli-common\\\": \\\"1.31.0\\\", \\\"azureml-automl-runtime\\\": \\\"1.31.0\\\", \\\"azureml-automl-dnn-nlp\\\": \\\"1.31.0\\\", \\\"azureml-automl-core\\\": \\\"1.31.0\\\", \\\"azureml-accel-models\\\": \\\"1.31.0\\\"}\", \"_aml_system_scenario_identification\": \"Remote.Parent\", \"ClientType\": \"SDK\", \"environment_cpu_name\": \"AzureML-AutoML\", \"environment_cpu_label\": \"prod\", \"environment_gpu_name\": \"AzureML-AutoML-GPU\", \"environment_gpu_label\": \"prod\", \"root_attribution\": \"automl\", \"attribution\": \"AutoML\", \"Orchestrator\": \"AutoML\", \"CancelUri\": \"https://southcentralus.api.azureml.ms/jasmine/v1.0/subscriptions/81cefad3-d2c9-4f77-a466-99a7f541c7bb/resourceGroups/aml-quickstarts-152247/providers/Microsoft.MachineLearningServices/workspaces/quick-starts-ws-152247/experimentids/37c98715-b9e5-42bb-92e1-65facc510b83/cancel/AutoML_cd63750f-df45-4803-b135-af0f23de09cd\", \"ClientSdkVersion\": \"1.32.0\", \"snapshotId\": \"00000000-0000-0000-0000-000000000000\", \"SetupRunId\": \"AutoML_cd63750f-df45-4803-b135-af0f23de09cd_setup\", \"SetupRunContainerId\": \"dcid.AutoML_cd63750f-df45-4803-b135-af0f23de09cd_setup\", \"FeaturizationRunJsonPath\": \"featurizer_container.json\", \"FeaturizationRunId\": \"AutoML_cd63750f-df45-4803-b135-af0f23de09cd_featurize\", \"ProblemInfoJsonString\": \"{\\\"dataset_num_categorical\\\": 0, \\\"is_sparse\\\": true, \\\"subsampling\\\": false, \\\"has_extra_col\\\": true, \\\"dataset_classes\\\": 663, \\\"dataset_features\\\": 456, \\\"dataset_samples\\\": 1460, \\\"single_frequency_class_detected\\\": false}\", \"ModelExplainRunId\": \"AutoML_cd63750f-df45-4803-b135-af0f23de09cd_ModelExplain\"}, \"tags\": {\"model_explain_run\": \"best_run\", \"_aml_system_azureml.automlComponent\": \"AutoML\", \"pipeline_id\": \"\", \"score\": \"\", \"predicted_cost\": \"\", \"fit_time\": \"\", \"training_percent\": \"\", \"iteration\": \"\", \"run_preprocessor\": \"\", \"run_algorithm\": \"\", \"dynamic_whitelisting_iterations\": \"<25>;<30>;<35>;\", \"automl_best_child_run_id\": \"AutoML_cd63750f-df45-4803-b135-af0f23de09cd_36\", \"model_explain_best_run_child_id\": \"AutoML_cd63750f-df45-4803-b135-af0f23de09cd_36\"}, \"end_time_utc\": \"2021-07-23T08:47:05.349103Z\", \"status\": \"Completed\", \"log_files\": {}, \"log_groups\": [], \"run_duration\": \"0:22:01\", \"run_number\": \"1\", \"run_queued_details\": {\"status\": \"Completed\", \"details\": null}}, \"child_runs\": [{\"run_id\": \"AutoML_cd63750f-df45-4803-b135-af0f23de09cd_0\", \"run_number\": 5, \"metric\": null, \"status\": \"Completed\", \"run_type\": \"azureml.scriptrun\", \"training_percent\": \"100\", \"start_time\": \"2021-07-23T08:35:15.372761Z\", \"end_time\": \"2021-07-23T08:36:05.0894Z\", \"created_time\": \"2021-07-23T08:33:56.702267Z\", \"created_time_dt\": \"2021-07-23T08:33:56.702267Z\", \"duration\": \"0:02:08\", \"iteration\": \"0\", \"goal\": \"normalized_root_mean_squared_error_min\", \"run_name\": \"MaxAbsScaler, LightGBM\", \"run_properties\": \"copy=True\", \"primary_metric\": 0.04047747, \"best_metric\": 0.04047747}, {\"run_id\": \"AutoML_cd63750f-df45-4803-b135-af0f23de09cd_1\", \"run_number\": 6, \"metric\": null, \"status\": \"Completed\", \"run_type\": \"azureml.scriptrun\", \"training_percent\": \"100\", \"start_time\": \"2021-07-23T08:34:11.556019Z\", \"end_time\": \"2021-07-23T08:35:00.245732Z\", \"created_time\": \"2021-07-23T08:33:56.722357Z\", \"created_time_dt\": \"2021-07-23T08:33:56.722357Z\", \"duration\": \"0:01:03\", \"iteration\": \"1\", \"goal\": \"normalized_root_mean_squared_error_min\", \"run_name\": \"MaxAbsScaler, XGBoostRegressor\", \"run_properties\": \"copy=True\", \"primary_metric\": 0.03897071, \"best_metric\": 0.03897071}, {\"run_id\": \"AutoML_cd63750f-df45-4803-b135-af0f23de09cd_2\", \"run_number\": 7, \"metric\": null, \"status\": \"Completed\", \"run_type\": \"azureml.scriptrun\", \"training_percent\": \"100\", \"start_time\": \"2021-07-23T08:36:09.896919Z\", \"end_time\": \"2021-07-23T08:38:01.077958Z\", \"created_time\": \"2021-07-23T08:33:56.727328Z\", \"created_time_dt\": \"2021-07-23T08:33:56.727328Z\", \"duration\": \"0:04:04\", \"iteration\": \"2\", \"goal\": \"normalized_root_mean_squared_error_min\", \"run_name\": \"StandardScalerWrapper, ElasticNet\", \"run_properties\": \"\\n    copy=True,\\n    with_mean=False,\\n    with_std=True\\n\", \"primary_metric\": 0.04976629, \"best_metric\": 0.03897071}, {\"run_id\": \"AutoML_cd63750f-df45-4803-b135-af0f23de09cd_3\", \"run_number\": 8, \"metric\": null, \"status\": \"Completed\", \"run_type\": \"azureml.scriptrun\", \"training_percent\": \"100\", \"start_time\": \"2021-07-23T08:36:13.731404Z\", \"end_time\": \"2021-07-23T08:38:12.018376Z\", \"created_time\": \"2021-07-23T08:33:56.72813Z\", \"created_time_dt\": \"2021-07-23T08:33:56.72813Z\", \"duration\": \"0:04:15\", \"iteration\": \"3\", \"goal\": \"normalized_root_mean_squared_error_min\", \"run_name\": \"MaxAbsScaler, DecisionTree\", \"run_properties\": \"copy=True\", \"primary_metric\": 0.06015017, \"best_metric\": 0.03897071}, {\"run_id\": \"AutoML_cd63750f-df45-4803-b135-af0f23de09cd_4\", \"run_number\": 9, \"metric\": null, \"status\": \"Completed\", \"run_type\": \"azureml.scriptrun\", \"training_percent\": \"100\", \"start_time\": \"2021-07-23T08:36:10.602029Z\", \"end_time\": \"2021-07-23T08:38:11.45157Z\", \"created_time\": \"2021-07-23T08:35:01.810526Z\", \"created_time_dt\": \"2021-07-23T08:35:01.810526Z\", \"duration\": \"0:03:09\", \"iteration\": \"4\", \"goal\": \"normalized_root_mean_squared_error_min\", \"run_name\": \"MaxAbsScaler, ElasticNet\", \"run_properties\": \"copy=True\", \"primary_metric\": 0.04746379, \"best_metric\": 0.03897071}, {\"run_id\": \"AutoML_cd63750f-df45-4803-b135-af0f23de09cd_5\", \"run_number\": 10, \"metric\": null, \"status\": \"Completed\", \"run_type\": \"azureml.scriptrun\", \"training_percent\": \"100\", \"start_time\": \"2021-07-23T08:36:19.354719Z\", \"end_time\": \"2021-07-23T08:37:10.294702Z\", \"created_time\": \"2021-07-23T08:36:06.552873Z\", \"created_time_dt\": \"2021-07-23T08:36:06.552873Z\", \"duration\": \"0:01:03\", \"iteration\": \"5\", \"goal\": \"normalized_root_mean_squared_error_min\", \"run_name\": \"MaxAbsScaler, DecisionTree\", \"run_properties\": \"copy=True\", \"primary_metric\": 0.05606373, \"best_metric\": 0.03897071}, {\"run_id\": \"AutoML_cd63750f-df45-4803-b135-af0f23de09cd_6\", \"run_number\": 11, \"metric\": null, \"status\": \"Completed\", \"run_type\": \"azureml.scriptrun\", \"training_percent\": \"100\", \"start_time\": \"2021-07-23T08:37:26.187081Z\", \"end_time\": \"2021-07-23T08:38:14.041368Z\", \"created_time\": \"2021-07-23T08:37:13.588962Z\", \"created_time_dt\": \"2021-07-23T08:37:13.588962Z\", \"duration\": \"0:01:00\", \"iteration\": \"6\", \"goal\": \"normalized_root_mean_squared_error_min\", \"run_name\": \"MaxAbsScaler, DecisionTree\", \"run_properties\": \"copy=True\", \"primary_metric\": 0.05380019, \"best_metric\": 0.03897071}, {\"run_id\": \"AutoML_cd63750f-df45-4803-b135-af0f23de09cd_7\", \"run_number\": 12, \"metric\": null, \"status\": \"Completed\", \"run_type\": \"azureml.scriptrun\", \"training_percent\": \"100\", \"start_time\": \"2021-07-23T08:38:16.153323Z\", \"end_time\": \"2021-07-23T08:39:03.981756Z\", \"created_time\": \"2021-07-23T08:38:04.406217Z\", \"created_time_dt\": \"2021-07-23T08:38:04.406217Z\", \"duration\": \"0:00:59\", \"iteration\": \"7\", \"goal\": \"normalized_root_mean_squared_error_min\", \"run_name\": \"MaxAbsScaler, DecisionTree\", \"run_properties\": \"copy=True\", \"primary_metric\": 0.05583642, \"best_metric\": 0.03897071}, {\"run_id\": \"AutoML_cd63750f-df45-4803-b135-af0f23de09cd_8\", \"run_number\": 13, \"metric\": null, \"status\": \"Completed\", \"run_type\": \"azureml.scriptrun\", \"training_percent\": \"100\", \"start_time\": \"2021-07-23T08:38:23.538985Z\", \"end_time\": \"2021-07-23T08:39:12.845986Z\", \"created_time\": \"2021-07-23T08:38:15.565761Z\", \"created_time_dt\": \"2021-07-23T08:38:15.565761Z\", \"duration\": \"0:00:57\", \"iteration\": \"8\", \"goal\": \"normalized_root_mean_squared_error_min\", \"run_name\": \"MaxAbsScaler, DecisionTree\", \"run_properties\": \"copy=True\", \"primary_metric\": 0.06043726, \"best_metric\": 0.03897071}, {\"run_id\": \"AutoML_cd63750f-df45-4803-b135-af0f23de09cd_9\", \"run_number\": 14, \"metric\": null, \"status\": \"Completed\", \"run_type\": \"azureml.scriptrun\", \"training_percent\": \"100\", \"start_time\": \"2021-07-23T08:38:27.755087Z\", \"end_time\": \"2021-07-23T08:39:14.106831Z\", \"created_time\": \"2021-07-23T08:38:20.173645Z\", \"created_time_dt\": \"2021-07-23T08:38:20.173645Z\", \"duration\": \"0:00:53\", \"iteration\": \"9\", \"goal\": \"normalized_root_mean_squared_error_min\", \"run_name\": \"MaxAbsScaler, DecisionTree\", \"run_properties\": \"copy=True\", \"primary_metric\": 0.05816338, \"best_metric\": 0.03897071}, {\"run_id\": \"AutoML_cd63750f-df45-4803-b135-af0f23de09cd_10\", \"run_number\": 15, \"metric\": null, \"status\": \"Completed\", \"run_type\": \"azureml.scriptrun\", \"training_percent\": \"100\", \"start_time\": \"2021-07-23T08:38:32.358808Z\", \"end_time\": \"2021-07-23T08:39:26.318151Z\", \"created_time\": \"2021-07-23T08:38:20.184429Z\", \"created_time_dt\": \"2021-07-23T08:38:20.184429Z\", \"duration\": \"0:01:06\", \"iteration\": \"10\", \"goal\": \"normalized_root_mean_squared_error_min\", \"run_name\": \"MaxAbsScaler, DecisionTree\", \"run_properties\": \"copy=True\", \"primary_metric\": 0.05811462, \"best_metric\": 0.03897071}, {\"run_id\": \"AutoML_cd63750f-df45-4803-b135-af0f23de09cd_11\", \"run_number\": 16, \"metric\": null, \"status\": \"Completed\", \"run_type\": \"azureml.scriptrun\", \"training_percent\": \"100\", \"start_time\": \"2021-07-23T08:39:16.779502Z\", \"end_time\": \"2021-07-23T08:40:06.736992Z\", \"created_time\": \"2021-07-23T08:39:07.088117Z\", \"created_time_dt\": \"2021-07-23T08:39:07.088117Z\", \"duration\": \"0:00:59\", \"iteration\": \"11\", \"goal\": \"normalized_root_mean_squared_error_min\", \"run_name\": \"MaxAbsScaler, DecisionTree\", \"run_properties\": \"copy=True\", \"primary_metric\": 0.05577336, \"best_metric\": 0.03897071}, {\"run_id\": \"AutoML_cd63750f-df45-4803-b135-af0f23de09cd_12\", \"run_number\": 17, \"metric\": null, \"status\": \"Completed\", \"run_type\": \"azureml.scriptrun\", \"training_percent\": \"100\", \"start_time\": \"2021-07-23T08:39:30.499474Z\", \"end_time\": \"2021-07-23T08:40:25.706169Z\", \"created_time\": \"2021-07-23T08:39:15.996147Z\", \"created_time_dt\": \"2021-07-23T08:39:15.996147Z\", \"duration\": \"0:01:09\", \"iteration\": \"12\", \"goal\": \"normalized_root_mean_squared_error_min\", \"run_name\": \"MaxAbsScaler, DecisionTree\", \"run_properties\": \"copy=True\", \"primary_metric\": 0.06135669, \"best_metric\": 0.03897071}, {\"run_id\": \"AutoML_cd63750f-df45-4803-b135-af0f23de09cd_13\", \"run_number\": 18, \"metric\": null, \"status\": \"Completed\", \"run_type\": \"azureml.scriptrun\", \"training_percent\": \"100\", \"start_time\": \"2021-07-23T08:39:28.532636Z\", \"end_time\": \"2021-07-23T08:40:20.539829Z\", \"created_time\": \"2021-07-23T08:39:20.875226Z\", \"created_time_dt\": \"2021-07-23T08:39:20.875226Z\", \"duration\": \"0:00:59\", \"iteration\": \"13\", \"goal\": \"normalized_root_mean_squared_error_min\", \"run_name\": \"StandardScalerWrapper, DecisionTree\", \"run_properties\": \"\\n    copy=True,\\n    with_mean=False,\\n    with_std=True\\n\", \"primary_metric\": 0.05872638, \"best_metric\": 0.03897071}, {\"run_id\": \"AutoML_cd63750f-df45-4803-b135-af0f23de09cd_14\", \"run_number\": 19, \"metric\": null, \"status\": \"Completed\", \"run_type\": \"azureml.scriptrun\", \"training_percent\": \"100\", \"start_time\": \"2021-07-23T08:39:38.991102Z\", \"end_time\": \"2021-07-23T08:40:28.948544Z\", \"created_time\": \"2021-07-23T08:39:29.32984Z\", \"created_time_dt\": \"2021-07-23T08:39:29.32984Z\", \"duration\": \"0:00:59\", \"iteration\": \"14\", \"goal\": \"normalized_root_mean_squared_error_min\", \"run_name\": \"MaxAbsScaler, DecisionTree\", \"run_properties\": \"copy=True\", \"primary_metric\": 0.06603194, \"best_metric\": 0.03897071}, {\"run_id\": \"AutoML_cd63750f-df45-4803-b135-af0f23de09cd_15\", \"run_number\": 20, \"metric\": null, \"status\": \"Completed\", \"run_type\": \"azureml.scriptrun\", \"training_percent\": \"100\", \"start_time\": \"2021-07-23T08:40:21.698358Z\", \"end_time\": \"2021-07-23T08:41:09.495124Z\", \"created_time\": \"2021-07-23T08:40:09.746573Z\", \"created_time_dt\": \"2021-07-23T08:40:09.746573Z\", \"duration\": \"0:00:59\", \"iteration\": \"15\", \"goal\": \"normalized_root_mean_squared_error_min\", \"run_name\": \"MaxAbsScaler, DecisionTree\", \"run_properties\": \"copy=True\", \"primary_metric\": 0.06383968, \"best_metric\": 0.03897071}, {\"run_id\": \"AutoML_cd63750f-df45-4803-b135-af0f23de09cd_16\", \"run_number\": 21, \"metric\": null, \"status\": \"Completed\", \"run_type\": \"azureml.scriptrun\", \"training_percent\": \"100\", \"start_time\": \"2021-07-23T08:40:36.129045Z\", \"end_time\": \"2021-07-23T08:41:27.171267Z\", \"created_time\": \"2021-07-23T08:40:23.614935Z\", \"created_time_dt\": \"2021-07-23T08:40:23.614935Z\", \"duration\": \"0:01:03\", \"iteration\": \"16\", \"goal\": \"normalized_root_mean_squared_error_min\", \"run_name\": \"MaxAbsScaler, SGD\", \"run_properties\": \"copy=True\", \"primary_metric\": 0.04615743, \"best_metric\": 0.03897071}, {\"run_id\": \"AutoML_cd63750f-df45-4803-b135-af0f23de09cd_17\", \"run_number\": 22, \"metric\": null, \"status\": \"Completed\", \"run_type\": \"azureml.scriptrun\", \"training_percent\": \"100\", \"start_time\": \"2021-07-23T08:40:38.842743Z\", \"end_time\": \"2021-07-23T08:41:31.685828Z\", \"created_time\": \"2021-07-23T08:40:29.032866Z\", \"created_time_dt\": \"2021-07-23T08:40:29.032866Z\", \"duration\": \"0:01:02\", \"iteration\": \"17\", \"goal\": \"normalized_root_mean_squared_error_min\", \"run_name\": \"MaxAbsScaler, DecisionTree\", \"run_properties\": \"copy=True\", \"primary_metric\": 0.05571537, \"best_metric\": 0.03897071}, {\"run_id\": \"AutoML_cd63750f-df45-4803-b135-af0f23de09cd_18\", \"run_number\": 23, \"metric\": null, \"status\": \"Completed\", \"run_type\": \"azureml.scriptrun\", \"training_percent\": \"100\", \"start_time\": \"2021-07-23T08:40:43.349826Z\", \"end_time\": \"2021-07-23T08:41:33.288369Z\", \"created_time\": \"2021-07-23T08:40:33.556772Z\", \"created_time_dt\": \"2021-07-23T08:40:33.556772Z\", \"duration\": \"0:00:59\", \"iteration\": \"18\", \"goal\": \"normalized_root_mean_squared_error_min\", \"run_name\": \"MaxAbsScaler, DecisionTree\", \"run_properties\": \"copy=True\", \"primary_metric\": 0.06395149, \"best_metric\": 0.03897071}, {\"run_id\": \"AutoML_cd63750f-df45-4803-b135-af0f23de09cd_19\", \"run_number\": 24, \"metric\": null, \"status\": \"Completed\", \"run_type\": \"azureml.scriptrun\", \"training_percent\": \"100\", \"start_time\": \"2021-07-23T08:41:24.555602Z\", \"end_time\": \"2021-07-23T08:42:12.304576Z\", \"created_time\": \"2021-07-23T08:41:12.799735Z\", \"created_time_dt\": \"2021-07-23T08:41:12.799735Z\", \"duration\": \"0:00:59\", \"iteration\": \"19\", \"goal\": \"normalized_root_mean_squared_error_min\", \"run_name\": \"MaxAbsScaler, DecisionTree\", \"run_properties\": \"copy=True\", \"primary_metric\": 0.06152271, \"best_metric\": 0.03897071}, {\"run_id\": \"AutoML_cd63750f-df45-4803-b135-af0f23de09cd_20\", \"run_number\": 25, \"metric\": null, \"status\": \"Completed\", \"run_type\": \"azureml.scriptrun\", \"training_percent\": \"100\", \"start_time\": \"2021-07-23T08:41:42.261575Z\", \"end_time\": \"2021-07-23T08:42:35.972517Z\", \"created_time\": \"2021-07-23T08:41:30.391018Z\", \"created_time_dt\": \"2021-07-23T08:41:30.391018Z\", \"duration\": \"0:01:05\", \"iteration\": \"20\", \"goal\": \"normalized_root_mean_squared_error_min\", \"run_name\": \"MaxAbsScaler, SGD\", \"run_properties\": \"copy=True\", \"primary_metric\": 0.04451485, \"best_metric\": 0.03897071}, {\"run_id\": \"AutoML_cd63750f-df45-4803-b135-af0f23de09cd_21\", \"run_number\": 26, \"metric\": null, \"status\": \"Completed\", \"run_type\": \"azureml.scriptrun\", \"training_percent\": \"100\", \"start_time\": \"2021-07-23T08:41:46.931346Z\", \"end_time\": \"2021-07-23T08:42:34.739471Z\", \"created_time\": \"2021-07-23T08:41:35.046879Z\", \"created_time_dt\": \"2021-07-23T08:41:35.046879Z\", \"duration\": \"0:00:59\", \"iteration\": \"21\", \"goal\": \"normalized_root_mean_squared_error_min\", \"run_name\": \"MaxAbsScaler, DecisionTree\", \"run_properties\": \"copy=True\", \"primary_metric\": 0.05647211, \"best_metric\": 0.03897071}, {\"run_id\": \"AutoML_cd63750f-df45-4803-b135-af0f23de09cd_22\", \"run_number\": 27, \"metric\": null, \"status\": \"Completed\", \"run_type\": \"azureml.scriptrun\", \"training_percent\": \"100\", \"start_time\": \"2021-07-23T08:41:49.693912Z\", \"end_time\": \"2021-07-23T08:42:39.669588Z\", \"created_time\": \"2021-07-23T08:41:39.737784Z\", \"created_time_dt\": \"2021-07-23T08:41:39.737784Z\", \"duration\": \"0:00:59\", \"iteration\": \"22\", \"goal\": \"normalized_root_mean_squared_error_min\", \"run_name\": \"MaxAbsScaler, DecisionTree\", \"run_properties\": \"copy=True\", \"primary_metric\": 0.05444192, \"best_metric\": 0.03897071}, {\"run_id\": \"AutoML_cd63750f-df45-4803-b135-af0f23de09cd_23\", \"run_number\": 28, \"metric\": null, \"status\": \"Completed\", \"run_type\": \"azureml.scriptrun\", \"training_percent\": \"100\", \"start_time\": \"2021-07-23T08:42:27.6065Z\", \"end_time\": \"2021-07-23T08:43:18.456783Z\", \"created_time\": \"2021-07-23T08:42:15.516307Z\", \"created_time_dt\": \"2021-07-23T08:42:15.516307Z\", \"duration\": \"0:01:02\", \"iteration\": \"23\", \"goal\": \"normalized_root_mean_squared_error_min\", \"run_name\": \"MaxAbsScaler, DecisionTree\", \"run_properties\": \"copy=True\", \"primary_metric\": 0.05545104, \"best_metric\": 0.03897071}, {\"run_id\": \"AutoML_cd63750f-df45-4803-b135-af0f23de09cd_24\", \"run_number\": 29, \"metric\": null, \"status\": \"Completed\", \"run_type\": \"azureml.scriptrun\", \"training_percent\": \"100\", \"start_time\": \"2021-07-23T08:42:49.877223Z\", \"end_time\": \"2021-07-23T08:43:40.759593Z\", \"created_time\": \"2021-07-23T08:42:37.755776Z\", \"created_time_dt\": \"2021-07-23T08:42:37.755776Z\", \"duration\": \"0:01:03\", \"iteration\": \"24\", \"goal\": \"normalized_root_mean_squared_error_min\", \"run_name\": \"MaxAbsScaler, DecisionTree\", \"run_properties\": \"copy=True\", \"primary_metric\": 0.05790374, \"best_metric\": 0.03897071}, {\"run_id\": \"AutoML_cd63750f-df45-4803-b135-af0f23de09cd_25\", \"run_number\": 30, \"metric\": null, \"status\": \"Completed\", \"run_type\": \"azureml.scriptrun\", \"training_percent\": \"100\", \"start_time\": \"2021-07-23T08:42:50.327493Z\", \"end_time\": \"2021-07-23T08:43:57.429494Z\", \"created_time\": \"2021-07-23T08:42:42.852155Z\", \"created_time_dt\": \"2021-07-23T08:42:42.852155Z\", \"duration\": \"0:01:14\", \"iteration\": \"25\", \"goal\": \"normalized_root_mean_squared_error_min\", \"run_name\": \"TruncatedSVDWrapper, XGBoostRegressor\", \"run_properties\": \"n_components=0.3068421052631579, random_state=None\", \"primary_metric\": 0.04603426, \"best_metric\": 0.03897071}, {\"run_id\": \"AutoML_cd63750f-df45-4803-b135-af0f23de09cd_26\", \"run_number\": 31, \"metric\": null, \"status\": \"Completed\", \"run_type\": \"azureml.scriptrun\", \"training_percent\": \"100\", \"start_time\": \"2021-07-23T08:42:53.797896Z\", \"end_time\": \"2021-07-23T08:43:48.877832Z\", \"created_time\": \"2021-07-23T08:42:46.051711Z\", \"created_time_dt\": \"2021-07-23T08:42:46.051711Z\", \"duration\": \"0:01:02\", \"iteration\": \"26\", \"goal\": \"normalized_root_mean_squared_error_min\", \"run_name\": \"MaxAbsScaler, RandomForest\", \"run_properties\": \"copy=True\", \"primary_metric\": 0.04854228, \"best_metric\": 0.03897071}, {\"run_id\": \"AutoML_cd63750f-df45-4803-b135-af0f23de09cd_27\", \"run_number\": 32, \"metric\": null, \"status\": \"Completed\", \"run_type\": \"azureml.scriptrun\", \"training_percent\": \"100\", \"start_time\": \"2021-07-23T08:43:34.463373Z\", \"end_time\": \"2021-07-23T08:44:23.072469Z\", \"created_time\": \"2021-07-23T08:43:20.446019Z\", \"created_time_dt\": \"2021-07-23T08:43:20.446019Z\", \"duration\": \"0:01:02\", \"iteration\": \"27\", \"goal\": \"normalized_root_mean_squared_error_min\", \"run_name\": \"MaxAbsScaler, DecisionTree\", \"run_properties\": \"copy=True\", \"primary_metric\": 0.06030303, \"best_metric\": 0.03897071}, {\"run_id\": \"AutoML_cd63750f-df45-4803-b135-af0f23de09cd_28\", \"run_number\": 33, \"metric\": null, \"status\": \"Completed\", \"run_type\": \"azureml.scriptrun\", \"training_percent\": \"100\", \"start_time\": \"2021-07-23T08:43:55.109759Z\", \"end_time\": \"2021-07-23T08:44:46.069915Z\", \"created_time\": \"2021-07-23T08:43:43.118949Z\", \"created_time_dt\": \"2021-07-23T08:43:43.118949Z\", \"duration\": \"0:01:02\", \"iteration\": \"28\", \"goal\": \"normalized_root_mean_squared_error_min\", \"run_name\": \"MaxAbsScaler, DecisionTree\", \"run_properties\": \"copy=True\", \"primary_metric\": 0.05811187, \"best_metric\": 0.03897071}, {\"run_id\": \"AutoML_cd63750f-df45-4803-b135-af0f23de09cd_29\", \"run_number\": 34, \"metric\": null, \"status\": \"Completed\", \"run_type\": \"azureml.scriptrun\", \"training_percent\": \"100\", \"start_time\": \"2021-07-23T08:44:03.133326Z\", \"end_time\": \"2021-07-23T08:44:51.066406Z\", \"created_time\": \"2021-07-23T08:43:51.075749Z\", \"created_time_dt\": \"2021-07-23T08:43:51.075749Z\", \"duration\": \"0:00:59\", \"iteration\": \"29\", \"goal\": \"normalized_root_mean_squared_error_min\", \"run_name\": \"MaxAbsScaler, DecisionTree\", \"run_properties\": \"copy=True\", \"primary_metric\": 0.06037611, \"best_metric\": 0.03897071}, {\"run_id\": \"AutoML_cd63750f-df45-4803-b135-af0f23de09cd_30\", \"run_number\": 35, \"metric\": null, \"status\": \"Completed\", \"run_type\": \"azureml.scriptrun\", \"training_percent\": \"100\", \"start_time\": \"2021-07-23T08:44:12.40906Z\", \"end_time\": \"2021-07-23T08:45:29.315476Z\", \"created_time\": \"2021-07-23T08:44:00.513329Z\", \"created_time_dt\": \"2021-07-23T08:44:00.513329Z\", \"duration\": \"0:01:28\", \"iteration\": \"30\", \"goal\": \"normalized_root_mean_squared_error_min\", \"run_name\": \"SparseNormalizer, XGBoostRegressor\", \"run_properties\": \"copy=True, norm='l1'\", \"primary_metric\": 0.04107854, \"best_metric\": 0.03897071}, {\"run_id\": \"AutoML_cd63750f-df45-4803-b135-af0f23de09cd_31\", \"run_number\": 36, \"metric\": null, \"status\": \"Completed\", \"run_type\": \"azureml.scriptrun\", \"training_percent\": \"100\", \"start_time\": \"2021-07-23T08:44:37.210405Z\", \"end_time\": \"2021-07-23T08:45:28.000348Z\", \"created_time\": \"2021-07-23T08:44:25.284525Z\", \"created_time_dt\": \"2021-07-23T08:44:25.284525Z\", \"duration\": \"0:01:02\", \"iteration\": \"31\", \"goal\": \"normalized_root_mean_squared_error_min\", \"run_name\": \"MaxAbsScaler, DecisionTree\", \"run_properties\": \"copy=True\", \"primary_metric\": 0.05899142, \"best_metric\": 0.03897071}, {\"run_id\": \"AutoML_cd63750f-df45-4803-b135-af0f23de09cd_32\", \"run_number\": 37, \"metric\": null, \"status\": \"Completed\", \"run_type\": \"azureml.scriptrun\", \"training_percent\": \"100\", \"start_time\": \"2021-07-23T08:45:02.142918Z\", \"end_time\": \"2021-07-23T08:45:53.682446Z\", \"created_time\": \"2021-07-23T08:44:48.048831Z\", \"created_time_dt\": \"2021-07-23T08:44:48.048831Z\", \"duration\": \"0:01:05\", \"iteration\": \"32\", \"goal\": \"normalized_root_mean_squared_error_min\", \"run_name\": \"MaxAbsScaler, DecisionTree\", \"run_properties\": \"copy=True\", \"primary_metric\": 0.05448877, \"best_metric\": 0.03897071}, {\"run_id\": \"AutoML_cd63750f-df45-4803-b135-af0f23de09cd_33\", \"run_number\": 38, \"metric\": null, \"status\": \"Canceled\", \"run_type\": \"azureml.scriptrun\", \"training_percent\": \"100\", \"start_time\": \"2021-07-23T08:45:09.148528Z\", \"end_time\": \"2021-07-23T08:45:54.86068Z\", \"created_time\": \"2021-07-23T08:44:54.018341Z\", \"created_time_dt\": \"2021-07-23T08:44:54.018341Z\", \"duration\": \"0:01:00\", \"iteration\": \"33\", \"goal\": \"normalized_root_mean_squared_error_min\", \"run_name\": \"MaxAbsScaler, DecisionTree\", \"run_properties\": \"copy=True\", \"primary_metric\": 0.05806454, \"best_metric\": 0.03897071}, {\"run_id\": \"AutoML_cd63750f-df45-4803-b135-af0f23de09cd_34\", \"run_number\": 39, \"metric\": null, \"status\": \"Canceled\", \"run_type\": \"azureml.scriptrun\", \"training_percent\": \"100\", \"start_time\": \"2021-07-23T08:45:42.358397Z\", \"end_time\": \"2021-07-23T08:45:59.926353Z\", \"created_time\": \"2021-07-23T08:45:30.584357Z\", \"created_time_dt\": \"2021-07-23T08:45:30.584357Z\", \"duration\": \"0:00:29\", \"iteration\": \"34\", \"goal\": null, \"run_name\": \"MaxAbsScaler, GradientBoosting\", \"run_properties\": null}, {\"run_id\": \"AutoML_cd63750f-df45-4803-b135-af0f23de09cd_35\", \"run_number\": 40, \"metric\": null, \"status\": \"Canceled\", \"run_type\": \"azureml.scriptrun\", \"training_percent\": \"100\", \"start_time\": \"2021-07-23T08:45:42.513979Z\", \"end_time\": \"2021-07-23T08:45:59.984018Z\", \"created_time\": \"2021-07-23T08:45:35.022488Z\", \"created_time_dt\": \"2021-07-23T08:45:35.022488Z\", \"duration\": \"0:00:24\", \"iteration\": \"35\", \"goal\": null, \"run_name\": \"StandardScalerWrapper, XGBoostRegressor\", \"run_properties\": null}, {\"run_id\": \"AutoML_cd63750f-df45-4803-b135-af0f23de09cd_36\", \"run_number\": 41, \"metric\": null, \"status\": \"Completed\", \"run_type\": \"azureml.scriptrun\", \"training_percent\": \"100\", \"start_time\": \"2021-07-23T08:46:08.423934Z\", \"end_time\": \"2021-07-23T08:47:00.686838Z\", \"created_time\": \"2021-07-23T08:46:00.918427Z\", \"created_time_dt\": \"2021-07-23T08:46:00.918427Z\", \"duration\": \"0:00:59\", \"iteration\": \"36\", \"goal\": \"normalized_root_mean_squared_error_min\", \"run_name\": \"VotingEnsemble\", \"run_properties\": \"\\n    estimators=[('1', Pipeline(memory=None,\\n             steps=[('maxabsscaler', MaxAbsScaler(copy=True\", \"primary_metric\": 0.03713929, \"best_metric\": 0.03713929}, {\"run_id\": \"AutoML_cd63750f-df45-4803-b135-af0f23de09cd_37\", \"run_number\": 42, \"metric\": null, \"status\": \"Completed\", \"run_type\": \"azureml.scriptrun\", \"training_percent\": \"100\", \"start_time\": \"2021-07-23T08:46:08.530906Z\", \"end_time\": \"2021-07-23T08:47:03.552792Z\", \"created_time\": \"2021-07-23T08:46:00.941585Z\", \"created_time_dt\": \"2021-07-23T08:46:00.941585Z\", \"duration\": \"0:01:02\", \"iteration\": \"37\", \"goal\": \"normalized_root_mean_squared_error_min\", \"run_name\": \"StackEnsemble\", \"run_properties\": \"\\n    base_learners=[('1', Pipeline(memory=None,\\n             steps=[('maxabsscaler', MaxAbsScaler(copy=True\", \"primary_metric\": 0.03834755, \"best_metric\": 0.03713929}], \"children_metrics\": {\"categories\": [0], \"series\": {\"normalized_root_mean_squared_log_error\": [{\"categories\": [\"0\", \"1\", \"2\", \"3\", \"4\", \"5\", \"6\", \"7\", \"8\", \"9\", \"10\", \"11\", \"12\", \"13\", \"14\", \"15\", \"16\", \"17\", \"18\", \"19\", \"20\", \"21\", \"22\", \"23\", \"24\", \"25\", \"26\", \"27\", \"28\", \"29\", \"30\", \"31\", \"32\", \"33\", \"36\", \"37\"], \"mode\": \"markers\", \"name\": \"normalized_root_mean_squared_log_error\", \"stepped\": false, \"type\": \"scatter\", \"data\": [0.047330492627860654, 0.04570688616609975, 0.05536878472566232, 0.07073068658707525, 0.05544410379927079, 0.06712311337495074, 0.06551918390143557, 0.06728587767809983, 0.07144442949929498, 0.06923682467301463, 0.06981804712408739, 0.06652464116520326, 0.07055036494171703, 0.06888771201631864, 0.07780125466462755, 0.07322081184175916, 0.055346490957902485, 0.0658030277967249, 0.0730663997537034, 0.07319888005145024, 0.054018532142892955, 0.06685301735701911, 0.06611847461279365, 0.06497843561103794, 0.06647019719662413, 0.05426890307102544, 0.057388140454038415, 0.06896856952191333, 0.06900716287204103, 0.06969230674504188, 0.049618215181279825, 0.07056605000926523, 0.06659348543904466, 0.06700589500974229, 0.042947817229549566, 0.043574930893419545]}, {\"categories\": [\"0\", \"1\", \"2\", \"3\", \"4\", \"5\", \"6\", \"7\", \"8\", \"9\", \"10\", \"11\", \"12\", \"13\", \"14\", \"15\", \"16\", \"17\", \"18\", \"19\", \"20\", \"21\", \"22\", \"23\", \"24\", \"25\", \"26\", \"27\", \"28\", \"29\", \"30\", \"31\", \"32\", \"33\", \"36\", \"37\"], \"mode\": \"lines\", \"name\": \"normalized_root_mean_squared_log_error_min\", \"stepped\": true, \"type\": \"scatter\", \"data\": [0.047330492627860654, 0.04570688616609975, 0.04570688616609975, 0.04570688616609975, 0.04570688616609975, 0.04570688616609975, 0.04570688616609975, 0.04570688616609975, 0.04570688616609975, 0.04570688616609975, 0.04570688616609975, 0.04570688616609975, 0.04570688616609975, 0.04570688616609975, 0.04570688616609975, 0.04570688616609975, 0.04570688616609975, 0.04570688616609975, 0.04570688616609975, 0.04570688616609975, 0.04570688616609975, 0.04570688616609975, 0.04570688616609975, 0.04570688616609975, 0.04570688616609975, 0.04570688616609975, 0.04570688616609975, 0.04570688616609975, 0.04570688616609975, 0.04570688616609975, 0.04570688616609975, 0.04570688616609975, 0.04570688616609975, 0.04570688616609975, 0.042947817229549566, 0.042947817229549566]}], \"explained_variance\": [{\"categories\": [\"0\", \"1\", \"2\", \"3\", \"4\", \"5\", \"6\", \"7\", \"8\", \"9\", \"10\", \"11\", \"12\", \"13\", \"14\", \"15\", \"16\", \"17\", \"18\", \"19\", \"20\", \"21\", \"22\", \"23\", \"24\", \"25\", \"26\", \"27\", \"28\", \"29\", \"30\", \"31\", \"32\", \"33\", \"36\", \"37\"], \"mode\": \"markers\", \"name\": \"explained_variance\", \"stepped\": false, \"type\": \"scatter\", \"data\": [0.8646384100844031, 0.8742346791745588, 0.7942342741283129, 0.704294676892748, 0.8131949978180789, 0.7423081430118007, 0.763177420453812, 0.7442841791373837, 0.7011111420724015, 0.7213014764850412, 0.7219648463813174, 0.742449584212476, 0.6914521396781801, 0.7156411571363414, 0.6431483704099438, 0.6669819671136166, 0.825672809298998, 0.7449607923700489, 0.665593657447466, 0.6893364927685653, 0.8395466099764511, 0.7384305381066695, 0.7574538321258443, 0.7456389931122908, 0.7236445626046075, 0.8249556562839301, 0.8058425344599333, 0.6988158199486761, 0.7228046749263486, 0.7005568109061081, 0.8608571790568998, 0.7113522325932751, 0.7563464145319605, 0.7229379085937714, 0.886052769069071, 0.8788347325501794]}, {\"categories\": [\"0\", \"1\", \"2\", \"3\", \"4\", \"5\", \"6\", \"7\", \"8\", \"9\", \"10\", \"11\", \"12\", \"13\", \"14\", \"15\", \"16\", \"17\", \"18\", \"19\", \"20\", \"21\", \"22\", \"23\", \"24\", \"25\", \"26\", \"27\", \"28\", \"29\", \"30\", \"31\", \"32\", \"33\", \"36\", \"37\"], \"mode\": \"lines\", \"name\": \"explained_variance_max\", \"stepped\": true, \"type\": \"scatter\", \"data\": [0.8646384100844031, 0.8742346791745588, 0.8742346791745588, 0.8742346791745588, 0.8742346791745588, 0.8742346791745588, 0.8742346791745588, 0.8742346791745588, 0.8742346791745588, 0.8742346791745588, 0.8742346791745588, 0.8742346791745588, 0.8742346791745588, 0.8742346791745588, 0.8742346791745588, 0.8742346791745588, 0.8742346791745588, 0.8742346791745588, 0.8742346791745588, 0.8742346791745588, 0.8742346791745588, 0.8742346791745588, 0.8742346791745588, 0.8742346791745588, 0.8742346791745588, 0.8742346791745588, 0.8742346791745588, 0.8742346791745588, 0.8742346791745588, 0.8742346791745588, 0.8742346791745588, 0.8742346791745588, 0.8742346791745588, 0.8742346791745588, 0.886052769069071, 0.886052769069071]}], \"normalized_median_absolute_error\": [{\"categories\": [\"0\", \"1\", \"2\", \"3\", \"4\", \"5\", \"6\", \"7\", \"8\", \"9\", \"10\", \"11\", \"12\", \"13\", \"14\", \"15\", \"16\", \"17\", \"18\", \"19\", \"20\", \"21\", \"22\", \"23\", \"24\", \"25\", \"26\", \"27\", \"28\", \"29\", \"30\", \"31\", \"32\", \"33\", \"36\", \"37\"], \"mode\": \"markers\", \"name\": \"normalized_median_absolute_error\", \"stepped\": false, \"type\": \"scatter\", \"data\": [0.015485852192053952, 0.01569074607693376, 0.016745754868733084, 0.025356904569851065, 0.01665688068505577, 0.024008453541116487, 0.02287096368890564, 0.02465582932705555, 0.026882338840461123, 0.0241988381243346, 0.02362975880716929, 0.02314849017883319, 0.02585090408942999, 0.02475444666737543, 0.02655312455650272, 0.02666751445068954, 0.01864266851327648, 0.024830013321195107, 0.025565214796100393, 0.02653319766841501, 0.018314799901184186, 0.024780779304942616, 0.023444681482193638, 0.02251003900375699, 0.024359946594549427, 0.019006138470351337, 0.018954348545826154, 0.023336329033801607, 0.025059121569787058, 0.02499984454847744, 0.016042648518145627, 0.023784152553767885, 0.023397009086774393, 0.024542406753471187, 0.013407188990104244, 0.014261958120013652]}, {\"categories\": [\"0\", \"1\", \"2\", \"3\", \"4\", \"5\", \"6\", \"7\", \"8\", \"9\", \"10\", \"11\", \"12\", \"13\", \"14\", \"15\", \"16\", \"17\", \"18\", \"19\", \"20\", \"21\", \"22\", \"23\", \"24\", \"25\", \"26\", \"27\", \"28\", \"29\", \"30\", \"31\", \"32\", \"33\", \"36\", \"37\"], \"mode\": \"lines\", \"name\": \"normalized_median_absolute_error_min\", \"stepped\": true, \"type\": \"scatter\", \"data\": [0.015485852192053952, 0.015485852192053952, 0.015485852192053952, 0.015485852192053952, 0.015485852192053952, 0.015485852192053952, 0.015485852192053952, 0.015485852192053952, 0.015485852192053952, 0.015485852192053952, 0.015485852192053952, 0.015485852192053952, 0.015485852192053952, 0.015485852192053952, 0.015485852192053952, 0.015485852192053952, 0.015485852192053952, 0.015485852192053952, 0.015485852192053952, 0.015485852192053952, 0.015485852192053952, 0.015485852192053952, 0.015485852192053952, 0.015485852192053952, 0.015485852192053952, 0.015485852192053952, 0.015485852192053952, 0.015485852192053952, 0.015485852192053952, 0.015485852192053952, 0.015485852192053952, 0.015485852192053952, 0.015485852192053952, 0.015485852192053952, 0.013407188990104244, 0.013407188990104244]}], \"median_absolute_error\": [{\"categories\": [\"0\", \"1\", \"2\", \"3\", \"4\", \"5\", \"6\", \"7\", \"8\", \"9\", \"10\", \"11\", \"12\", \"13\", \"14\", \"15\", \"16\", \"17\", \"18\", \"19\", \"20\", \"21\", \"22\", \"23\", \"24\", \"25\", \"26\", \"27\", \"28\", \"29\", \"30\", \"31\", \"32\", \"33\", \"36\", \"37\"], \"mode\": \"markers\", \"name\": \"median_absolute_error\", \"stepped\": false, \"type\": \"scatter\", \"data\": [11151.362163498052, 11298.90625, 12058.618080974693, 18259.506980749753, 11994.619781308662, 17288.48739495798, 16469.38095238095, 17754.662698412703, 19357.972199016058, 17425.583333333343, 17015.789317042607, 16669.227777777778, 18615.236034798534, 17825.677045177043, 19120.90499313761, 19203.277155941538, 13424.585596410392, 17880.092592592595, 18409.51117467189, 19106.555641025643, 13188.487408842731, 17844.639177489178, 16882.515135327638, 16209.47908660541, 17541.597542735042, 13686.3203125, 13649.026387849415, 16804.490537240537, 18045.07344240366, 18002.388059358607, 11552.311197916666, 17126.968253968258, 16848.18624338624, 17672.9871031746, 9654.516791774067, 10270.036042221831]}, {\"categories\": [\"0\", \"1\", \"2\", \"3\", \"4\", \"5\", \"6\", \"7\", \"8\", \"9\", \"10\", \"11\", \"12\", \"13\", \"14\", \"15\", \"16\", \"17\", \"18\", \"19\", \"20\", \"21\", \"22\", \"23\", \"24\", \"25\", \"26\", \"27\", \"28\", \"29\", \"30\", \"31\", \"32\", \"33\", \"36\", \"37\"], \"mode\": \"lines\", \"name\": \"median_absolute_error_min\", \"stepped\": true, \"type\": \"scatter\", \"data\": [11151.362163498052, 11151.362163498052, 11151.362163498052, 11151.362163498052, 11151.362163498052, 11151.362163498052, 11151.362163498052, 11151.362163498052, 11151.362163498052, 11151.362163498052, 11151.362163498052, 11151.362163498052, 11151.362163498052, 11151.362163498052, 11151.362163498052, 11151.362163498052, 11151.362163498052, 11151.362163498052, 11151.362163498052, 11151.362163498052, 11151.362163498052, 11151.362163498052, 11151.362163498052, 11151.362163498052, 11151.362163498052, 11151.362163498052, 11151.362163498052, 11151.362163498052, 11151.362163498052, 11151.362163498052, 11151.362163498052, 11151.362163498052, 11151.362163498052, 11151.362163498052, 9654.516791774067, 9654.516791774067]}], \"spearman_correlation\": [{\"categories\": [\"0\", \"1\", \"2\", \"3\", \"4\", \"5\", \"6\", \"7\", \"8\", \"9\", \"10\", \"11\", \"12\", \"13\", \"14\", \"15\", \"16\", \"17\", \"18\", \"19\", \"20\", \"21\", \"22\", \"23\", \"24\", \"25\", \"26\", \"27\", \"28\", \"29\", \"30\", \"31\", \"32\", \"33\", \"36\", \"37\"], \"mode\": \"markers\", \"name\": \"spearman_correlation\", \"stepped\": false, \"type\": \"scatter\", \"data\": [0.9428867695955215, 0.9467995056068262, 0.931765273340419, 0.8572075964351722, 0.9375381594452099, 0.8740176267267085, 0.8818440215853217, 0.872794525874864, 0.848767398983615, 0.868392577709201, 0.8627364799531603, 0.8766140990170564, 0.8547410551556096, 0.8635548605828672, 0.8239473499503877, 0.8444942930324727, 0.9354050883336363, 0.8788529688261238, 0.848047701142347, 0.8383170581089902, 0.935941710459506, 0.8707778142687429, 0.8756914348306785, 0.881563454290216, 0.8706505280083473, 0.9244406004874611, 0.9149860023990367, 0.8714217879167504, 0.8656432472121903, 0.8601701260288305, 0.9389168321466631, 0.8592366743260106, 0.8744065379806013, 0.8727450757136174, 0.9573852130501542, 0.9569819624167253]}, {\"categories\": [\"0\", \"1\", \"2\", \"3\", \"4\", \"5\", \"6\", \"7\", \"8\", \"9\", \"10\", \"11\", \"12\", \"13\", \"14\", \"15\", \"16\", \"17\", \"18\", \"19\", \"20\", \"21\", \"22\", \"23\", \"24\", \"25\", \"26\", \"27\", \"28\", \"29\", \"30\", \"31\", \"32\", \"33\", \"36\", \"37\"], \"mode\": \"lines\", \"name\": \"spearman_correlation_max\", \"stepped\": true, \"type\": \"scatter\", \"data\": [0.9428867695955215, 0.9467995056068262, 0.9467995056068262, 0.9467995056068262, 0.9467995056068262, 0.9467995056068262, 0.9467995056068262, 0.9467995056068262, 0.9467995056068262, 0.9467995056068262, 0.9467995056068262, 0.9467995056068262, 0.9467995056068262, 0.9467995056068262, 0.9467995056068262, 0.9467995056068262, 0.9467995056068262, 0.9467995056068262, 0.9467995056068262, 0.9467995056068262, 0.9467995056068262, 0.9467995056068262, 0.9467995056068262, 0.9467995056068262, 0.9467995056068262, 0.9467995056068262, 0.9467995056068262, 0.9467995056068262, 0.9467995056068262, 0.9467995056068262, 0.9467995056068262, 0.9467995056068262, 0.9467995056068262, 0.9467995056068262, 0.9573852130501542, 0.9573852130501542]}], \"r2_score\": [{\"categories\": [\"0\", \"1\", \"2\", \"3\", \"4\", \"5\", \"6\", \"7\", \"8\", \"9\", \"10\", \"11\", \"12\", \"13\", \"14\", \"15\", \"16\", \"17\", \"18\", \"19\", \"20\", \"21\", \"22\", \"23\", \"24\", \"25\", \"26\", \"27\", \"28\", \"29\", \"30\", \"31\", \"32\", \"33\", \"36\", \"37\"], \"mode\": \"markers\", \"name\": \"r2_score\", \"stepped\": false, \"type\": \"scatter\", \"data\": [0.8643954660074881, 0.8739587833584906, 0.7936161910770902, 0.7019447029687874, 0.812682718949883, 0.7409652239893161, 0.7612769109549183, 0.7429214539574412, 0.6990688019490549, 0.7199782479571741, 0.7202585736543056, 0.7408385591795875, 0.6901475851257008, 0.7148863108568587, 0.6403927746555818, 0.6640753101517168, 0.8242914641156854, 0.7425617236645875, 0.662850872030991, 0.6875682069621741, 0.8369247901461195, 0.7371034749826083, 0.7555088905616175, 0.7443752141499395, 0.7236274061398952, 0.8248639299524987, 0.8050371397117558, 0.6986572024731709, 0.7215837523010213, 0.6989863565024997, 0.8606563552661614, 0.7104174120952251, 0.7548256963908836, 0.7215944297751831, 0.885898472424608, 0.8783617199612701]}, {\"categories\": [\"0\", \"1\", \"2\", \"3\", \"4\", \"5\", \"6\", \"7\", \"8\", \"9\", \"10\", \"11\", \"12\", \"13\", \"14\", \"15\", \"16\", \"17\", \"18\", \"19\", \"20\", \"21\", \"22\", \"23\", \"24\", \"25\", \"26\", \"27\", \"28\", \"29\", \"30\", \"31\", \"32\", \"33\", \"36\", \"37\"], \"mode\": \"lines\", \"name\": \"r2_score_max\", \"stepped\": true, \"type\": \"scatter\", \"data\": [0.8643954660074881, 0.8739587833584906, 0.8739587833584906, 0.8739587833584906, 0.8739587833584906, 0.8739587833584906, 0.8739587833584906, 0.8739587833584906, 0.8739587833584906, 0.8739587833584906, 0.8739587833584906, 0.8739587833584906, 0.8739587833584906, 0.8739587833584906, 0.8739587833584906, 0.8739587833584906, 0.8739587833584906, 0.8739587833584906, 0.8739587833584906, 0.8739587833584906, 0.8739587833584906, 0.8739587833584906, 0.8739587833584906, 0.8739587833584906, 0.8739587833584906, 0.8739587833584906, 0.8739587833584906, 0.8739587833584906, 0.8739587833584906, 0.8739587833584906, 0.8739587833584906, 0.8739587833584906, 0.8739587833584906, 0.8739587833584906, 0.885898472424608, 0.885898472424608]}], \"normalized_mean_absolute_error\": [{\"categories\": [\"0\", \"1\", \"2\", \"3\", \"4\", \"5\", \"6\", \"7\", \"8\", \"9\", \"10\", \"11\", \"12\", \"13\", \"14\", \"15\", \"16\", \"17\", \"18\", \"19\", \"20\", \"21\", \"22\", \"23\", \"24\", \"25\", \"26\", \"27\", \"28\", \"29\", \"30\", \"31\", \"32\", \"33\", \"36\", \"37\"], \"mode\": \"markers\", \"name\": \"normalized_mean_absolute_error\", \"stepped\": false, \"type\": \"scatter\", \"data\": [0.024382330889254178, 0.023844602891763596, 0.025766875446894183, 0.038905246727696914, 0.02585194243616259, 0.03596502269618106, 0.03536703203774566, 0.0364993299566156, 0.03954672108899746, 0.03786360073951727, 0.03722147513721908, 0.036284556641247634, 0.0395598002431605, 0.03781176598645917, 0.04235936226462736, 0.04047666255984846, 0.027051420325582828, 0.03638091785913189, 0.040374183420752704, 0.040574670048207535, 0.02717012095018186, 0.03727568468142719, 0.03647479584673984, 0.03527668107280143, 0.03740932030665652, 0.028205541131275463, 0.029891874880163195, 0.03751957332139092, 0.03812074235700985, 0.03869644006661407, 0.025068567769674546, 0.03764978835666013, 0.036015719092660825, 0.03736547471833159, 0.021440239511339974, 0.021904534293286232]}, {\"categories\": [\"0\", \"1\", \"2\", \"3\", \"4\", \"5\", \"6\", \"7\", \"8\", \"9\", \"10\", \"11\", \"12\", \"13\", \"14\", \"15\", \"16\", \"17\", \"18\", \"19\", \"20\", \"21\", \"22\", \"23\", \"24\", \"25\", \"26\", \"27\", \"28\", \"29\", \"30\", \"31\", \"32\", \"33\", \"36\", \"37\"], \"mode\": \"lines\", \"name\": \"normalized_mean_absolute_error_min\", \"stepped\": true, \"type\": \"scatter\", \"data\": [0.024382330889254178, 0.023844602891763596, 0.023844602891763596, 0.023844602891763596, 0.023844602891763596, 0.023844602891763596, 0.023844602891763596, 0.023844602891763596, 0.023844602891763596, 0.023844602891763596, 0.023844602891763596, 0.023844602891763596, 0.023844602891763596, 0.023844602891763596, 0.023844602891763596, 0.023844602891763596, 0.023844602891763596, 0.023844602891763596, 0.023844602891763596, 0.023844602891763596, 0.023844602891763596, 0.023844602891763596, 0.023844602891763596, 0.023844602891763596, 0.023844602891763596, 0.023844602891763596, 0.023844602891763596, 0.023844602891763596, 0.023844602891763596, 0.023844602891763596, 0.023844602891763596, 0.023844602891763596, 0.023844602891763596, 0.023844602891763596, 0.021440239511339974, 0.021440239511339974]}], \"normalized_root_mean_squared_error\": [{\"categories\": [\"0\", \"1\", \"2\", \"3\", \"4\", \"5\", \"6\", \"7\", \"8\", \"9\", \"10\", \"11\", \"12\", \"13\", \"14\", \"15\", \"16\", \"17\", \"18\", \"19\", \"20\", \"21\", \"22\", \"23\", \"24\", \"25\", \"26\", \"27\", \"28\", \"29\", \"30\", \"31\", \"32\", \"33\", \"36\", \"37\"], \"mode\": \"markers\", \"name\": \"normalized_root_mean_squared_error\", \"stepped\": false, \"type\": \"scatter\", \"data\": [0.04047747175634916, 0.03897071155829223, 0.04976629092140361, 0.06015016801581193, 0.04746379097287801, 0.05606372645740935, 0.05380019341348107, 0.05583642462741909, 0.06043725742319003, 0.05816337845934435, 0.058114624675622534, 0.05577336142803225, 0.06135668581254666, 0.05872638086417783, 0.06603193511445897, 0.06383967648194848, 0.04615742963402999, 0.05571537020634531, 0.06395149207982694, 0.06152271153078745, 0.044514847931852834, 0.05647211174622913, 0.05444192395479605, 0.05545103786419206, 0.0579037393214363, 0.04603426207540227, 0.04854228281131315, 0.060303032387491275, 0.058111865718283064, 0.06037610942524566, 0.041078538969563434, 0.05899141664585245, 0.05448877399330961, 0.0580645435403809, 0.037139291460024836, 0.03834754813224851]}, {\"categories\": [\"0\", \"1\", \"2\", \"3\", \"4\", \"5\", \"6\", \"7\", \"8\", \"9\", \"10\", \"11\", \"12\", \"13\", \"14\", \"15\", \"16\", \"17\", \"18\", \"19\", \"20\", \"21\", \"22\", \"23\", \"24\", \"25\", \"26\", \"27\", \"28\", \"29\", \"30\", \"31\", \"32\", \"33\", \"36\", \"37\"], \"mode\": \"lines\", \"name\": \"normalized_root_mean_squared_error_min\", \"stepped\": true, \"type\": \"scatter\", \"data\": [0.04047747175634916, 0.03897071155829223, 0.03897071155829223, 0.03897071155829223, 0.03897071155829223, 0.03897071155829223, 0.03897071155829223, 0.03897071155829223, 0.03897071155829223, 0.03897071155829223, 0.03897071155829223, 0.03897071155829223, 0.03897071155829223, 0.03897071155829223, 0.03897071155829223, 0.03897071155829223, 0.03897071155829223, 0.03897071155829223, 0.03897071155829223, 0.03897071155829223, 0.03897071155829223, 0.03897071155829223, 0.03897071155829223, 0.03897071155829223, 0.03897071155829223, 0.03897071155829223, 0.03897071155829223, 0.03897071155829223, 0.03897071155829223, 0.03897071155829223, 0.03897071155829223, 0.03897071155829223, 0.03897071155829223, 0.03897071155829223, 0.037139291460024836, 0.037139291460024836]}], \"root_mean_squared_log_error\": [{\"categories\": [\"0\", \"1\", \"2\", \"3\", \"4\", \"5\", \"6\", \"7\", \"8\", \"9\", \"10\", \"11\", \"12\", \"13\", \"14\", \"15\", \"16\", \"17\", \"18\", \"19\", \"20\", \"21\", \"22\", \"23\", \"24\", \"25\", \"26\", \"27\", \"28\", \"29\", \"30\", \"31\", \"32\", \"33\", \"36\", \"37\"], \"mode\": \"markers\", \"name\": \"root_mean_squared_log_error\", \"stepped\": false, \"type\": \"scatter\", \"data\": [0.1455035704315329, 0.14051227361534765, 0.1702149168693945, 0.21744053074645472, 0.170446463036002, 0.20635011622057067, 0.20141931047232356, 0.20685048682590548, 0.21963472177072138, 0.21284809508480781, 0.2146348912314482, 0.20451029080385727, 0.2168861852966407, 0.21177485170169952, 0.23917689652553153, 0.22509568274808336, 0.17014638128847562, 0.20229190439469233, 0.22462098855238688, 0.22502825995954423, 0.16606396552979882, 0.20551978607215263, 0.2032616521296281, 0.1997569401358, 0.20434291896010723, 0.16683365673631054, 0.17642282750240434, 0.2120234241358113, 0.212142067951388, 0.21424833970657, 0.15253649532197214, 0.21693440438763276, 0.2047219321177656, 0.20598976310123854, 0.13203033398097183, 0.13395820905881903]}, {\"categories\": [\"0\", \"1\", \"2\", \"3\", \"4\", \"5\", \"6\", \"7\", \"8\", \"9\", \"10\", \"11\", \"12\", \"13\", \"14\", \"15\", \"16\", \"17\", \"18\", \"19\", \"20\", \"21\", \"22\", \"23\", \"24\", \"25\", \"26\", \"27\", \"28\", \"29\", \"30\", \"31\", \"32\", \"33\", \"36\", \"37\"], \"mode\": \"lines\", \"name\": \"root_mean_squared_log_error_min\", \"stepped\": true, \"type\": \"scatter\", \"data\": [0.1455035704315329, 0.14051227361534765, 0.14051227361534765, 0.14051227361534765, 0.14051227361534765, 0.14051227361534765, 0.14051227361534765, 0.14051227361534765, 0.14051227361534765, 0.14051227361534765, 0.14051227361534765, 0.14051227361534765, 0.14051227361534765, 0.14051227361534765, 0.14051227361534765, 0.14051227361534765, 0.14051227361534765, 0.14051227361534765, 0.14051227361534765, 0.14051227361534765, 0.14051227361534765, 0.14051227361534765, 0.14051227361534765, 0.14051227361534765, 0.14051227361534765, 0.14051227361534765, 0.14051227361534765, 0.14051227361534765, 0.14051227361534765, 0.14051227361534765, 0.14051227361534765, 0.14051227361534765, 0.14051227361534765, 0.14051227361534765, 0.13203033398097183, 0.13203033398097183]}], \"mean_absolute_error\": [{\"categories\": [\"0\", \"1\", \"2\", \"3\", \"4\", \"5\", \"6\", \"7\", \"8\", \"9\", \"10\", \"11\", \"12\", \"13\", \"14\", \"15\", \"16\", \"17\", \"18\", \"19\", \"20\", \"21\", \"22\", \"23\", \"24\", \"25\", \"26\", \"27\", \"28\", \"29\", \"30\", \"31\", \"32\", \"33\", \"36\", \"37\"], \"mode\": \"markers\", \"name\": \"mean_absolute_error\", \"stepped\": false, \"type\": \"scatter\", \"data\": [17557.716473351935, 17170.498542358964, 18554.7270093085, 28015.668168614546, 18615.98374828068, 25898.412843519985, 25467.799770380647, 26283.167501758897, 28477.593856187075, 27265.57889252638, 26803.18424631146, 26128.50923736242, 28487.012155099877, 27228.252686849242, 30502.976766758162, 29147.244709346876, 19479.727776452197, 26197.898950360875, 29073.449481284024, 29217.819901714247, 19565.20409622596, 26842.22053909572, 26265.500489237358, 25402.738040524313, 26938.45155282336, 20310.810168631462, 21525.139101205514, 27017.844748733605, 27450.746571282794, 27865.30649196879, 18051.875650942642, 27111.61259563096, 25934.91931862506, 26906.87834467058, 15439.116472115917, 15773.455144595415]}, {\"categories\": [\"0\", \"1\", \"2\", \"3\", \"4\", \"5\", \"6\", \"7\", \"8\", \"9\", \"10\", \"11\", \"12\", \"13\", \"14\", \"15\", \"16\", \"17\", \"18\", \"19\", \"20\", \"21\", \"22\", \"23\", \"24\", \"25\", \"26\", \"27\", \"28\", \"29\", \"30\", \"31\", \"32\", \"33\", \"36\", \"37\"], \"mode\": \"lines\", \"name\": \"mean_absolute_error_min\", \"stepped\": true, \"type\": \"scatter\", \"data\": [17557.716473351935, 17170.498542358964, 17170.498542358964, 17170.498542358964, 17170.498542358964, 17170.498542358964, 17170.498542358964, 17170.498542358964, 17170.498542358964, 17170.498542358964, 17170.498542358964, 17170.498542358964, 17170.498542358964, 17170.498542358964, 17170.498542358964, 17170.498542358964, 17170.498542358964, 17170.498542358964, 17170.498542358964, 17170.498542358964, 17170.498542358964, 17170.498542358964, 17170.498542358964, 17170.498542358964, 17170.498542358964, 17170.498542358964, 17170.498542358964, 17170.498542358964, 17170.498542358964, 17170.498542358964, 17170.498542358964, 17170.498542358964, 17170.498542358964, 17170.498542358964, 15439.116472115917, 15439.116472115917]}], \"root_mean_squared_error\": [{\"categories\": [\"0\", \"1\", \"2\", \"3\", \"4\", \"5\", \"6\", \"7\", \"8\", \"9\", \"10\", \"11\", \"12\", \"13\", \"14\", \"15\", \"16\", \"17\", \"18\", \"19\", \"20\", \"21\", \"22\", \"23\", \"24\", \"25\", \"26\", \"27\", \"28\", \"29\", \"30\", \"31\", \"32\", \"33\", \"36\", \"37\"], \"mode\": \"markers\", \"name\": \"root_mean_squared_error\", \"stepped\": false, \"type\": \"scatter\", \"data\": [29147.82741174703, 28062.809393126237, 35836.70609250274, 43314.13598818617, 34178.67587956946, 40371.48942198048, 38741.51927704772, 40207.80937420449, 43520.86907043914, 41883.44882857386, 41848.341228915786, 40162.39756432603, 44182.94945361485, 42288.86686029445, 47549.5964759219, 45970.9510346511, 33237.96507946499, 40120.63808558926, 46051.46944668338, 44302.50457332004, 32055.14199572722, 40665.567668459604, 39203.629439848635, 39930.2923660047, 41696.482685366274, 33149.27212049718, 34955.2978524266, 43424.21362223247, 41846.35450373564, 43476.836397119405, 29580.65591198263, 42479.719126678356, 39237.36615258225, 41812.27780342829, 26744.00378036388, 27614.069410032156]}, {\"categories\": [\"0\", \"1\", \"2\", \"3\", \"4\", \"5\", \"6\", \"7\", \"8\", \"9\", \"10\", \"11\", \"12\", \"13\", \"14\", \"15\", \"16\", \"17\", \"18\", \"19\", \"20\", \"21\", \"22\", \"23\", \"24\", \"25\", \"26\", \"27\", \"28\", \"29\", \"30\", \"31\", \"32\", \"33\", \"36\", \"37\"], \"mode\": \"lines\", \"name\": \"root_mean_squared_error_min\", \"stepped\": true, \"type\": \"scatter\", \"data\": [29147.82741174703, 28062.809393126237, 28062.809393126237, 28062.809393126237, 28062.809393126237, 28062.809393126237, 28062.809393126237, 28062.809393126237, 28062.809393126237, 28062.809393126237, 28062.809393126237, 28062.809393126237, 28062.809393126237, 28062.809393126237, 28062.809393126237, 28062.809393126237, 28062.809393126237, 28062.809393126237, 28062.809393126237, 28062.809393126237, 28062.809393126237, 28062.809393126237, 28062.809393126237, 28062.809393126237, 28062.809393126237, 28062.809393126237, 28062.809393126237, 28062.809393126237, 28062.809393126237, 28062.809393126237, 28062.809393126237, 28062.809393126237, 28062.809393126237, 28062.809393126237, 26744.00378036388, 26744.00378036388]}], \"mean_absolute_percentage_error\": [{\"categories\": [\"0\", \"1\", \"2\", \"3\", \"4\", \"5\", \"6\", \"7\", \"8\", \"9\", \"10\", \"11\", \"12\", \"13\", \"14\", \"15\", \"16\", \"17\", \"18\", \"19\", \"20\", \"21\", \"22\", \"23\", \"24\", \"25\", \"26\", \"27\", \"28\", \"29\", \"30\", \"31\", \"32\", \"33\", \"36\", \"37\"], \"mode\": \"markers\", \"name\": \"mean_absolute_percentage_error\", \"stepped\": false, \"type\": \"scatter\", \"data\": [10.229247490456745, 10.108447462934123, 11.175484307722156, 16.612498203204783, 11.150207510417493, 15.418349291743807, 15.138920788847997, 15.630954657386638, 16.934433713785513, 16.04228909816963, 15.949132637623338, 15.236214671434873, 16.712358966280654, 15.893200138927718, 18.246683423332748, 17.184211034807948, 11.774777114597596, 15.24118096502936, 17.045105208822836, 17.285084541746837, 11.734235839789662, 15.744404023892017, 15.505953340605151, 14.954036700858495, 15.5605730333864, 12.163072640331777, 12.791452794733758, 15.770088425806156, 16.157491666923104, 16.26233672477772, 10.78246093050653, 16.054390680472903, 15.393744502552899, 15.632992242530037, 9.122770171936464, 9.316139519395772]}, {\"categories\": [\"0\", \"1\", \"2\", \"3\", \"4\", \"5\", \"6\", \"7\", \"8\", \"9\", \"10\", \"11\", \"12\", \"13\", \"14\", \"15\", \"16\", \"17\", \"18\", \"19\", \"20\", \"21\", \"22\", \"23\", \"24\", \"25\", \"26\", \"27\", \"28\", \"29\", \"30\", \"31\", \"32\", \"33\", \"36\", \"37\"], \"mode\": \"lines\", \"name\": \"mean_absolute_percentage_error_min\", \"stepped\": true, \"type\": \"scatter\", \"data\": [10.229247490456745, 10.108447462934123, 10.108447462934123, 10.108447462934123, 10.108447462934123, 10.108447462934123, 10.108447462934123, 10.108447462934123, 10.108447462934123, 10.108447462934123, 10.108447462934123, 10.108447462934123, 10.108447462934123, 10.108447462934123, 10.108447462934123, 10.108447462934123, 10.108447462934123, 10.108447462934123, 10.108447462934123, 10.108447462934123, 10.108447462934123, 10.108447462934123, 10.108447462934123, 10.108447462934123, 10.108447462934123, 10.108447462934123, 10.108447462934123, 10.108447462934123, 10.108447462934123, 10.108447462934123, 10.108447462934123, 10.108447462934123, 10.108447462934123, 10.108447462934123, 9.122770171936464, 9.122770171936464]}]}, \"metricName\": null, \"primaryMetricName\": \"normalized_root_mean_squared_error\", \"showLegend\": false}, \"run_metrics\": [{\"name\": \"experiment_status\", \"run_id\": \"AutoML_cd63750f-df45-4803-b135-af0f23de09cd\", \"categories\": [0, 1, 2, 3, 4, 5, 6, 7, 8, 9, 10, 11, 12, 13], \"series\": [{\"data\": [\"DatasetEvaluation\", \"FeaturesGeneration\", \"DatasetFeaturization\", \"DatasetFeaturizationCompleted\", \"DatasetCrossValidationSplit\", \"ModelSelection\", \"BestRunExplainModel\", \"ModelExplanationDataSetSetup\", \"PickSurrogateModel\", \"EngineeredFeatureExplanations\", \"EngineeredFeatureExplanations\", \"RawFeaturesExplanations\", \"RawFeaturesExplanations\", \"BestRunExplainModel\"]}]}, {\"name\": \"experiment_status_description\", \"run_id\": \"AutoML_cd63750f-df45-4803-b135-af0f23de09cd\", \"categories\": [0, 1, 2, 3, 4, 5, 6, 7, 8, 9, 10, 11, 12, 13], \"series\": [{\"data\": [\"Gathering dataset statistics.\", \"Generating features for the dataset.\", \"Beginning to fit featurizers and featurize the dataset.\", \"Completed fit featurizers and featurizing the dataset.\", \"Generating individually featurized CV splits.\", \"Beginning model selection.\", \"Best run model explanations started\", \"Model explanations data setup completed\", \"Choosing LightGBM as the surrogate model for explanations\", \"Computation of engineered features started\", \"Computation of engineered features completed\", \"Computation of raw features started\", \"Computation of raw features completed\", \"Best run model explanations completed\"]}]}, {\"name\": \"mean_absolute_percentage_error\", \"run_id\": \"AutoML_cd63750f-df45-4803-b135-af0f23de09cd\", \"categories\": [0], \"series\": [{\"data\": [9.122770171936464]}]}, {\"name\": \"spearman_correlation\", \"run_id\": \"AutoML_cd63750f-df45-4803-b135-af0f23de09cd\", \"categories\": [0], \"series\": [{\"data\": [0.9573852130501542]}]}, {\"name\": \"root_mean_squared_log_error\", \"run_id\": \"AutoML_cd63750f-df45-4803-b135-af0f23de09cd\", \"categories\": [0], \"series\": [{\"data\": [0.13203033398097183]}]}, {\"name\": \"root_mean_squared_error\", \"run_id\": \"AutoML_cd63750f-df45-4803-b135-af0f23de09cd\", \"categories\": [0], \"series\": [{\"data\": [26744.00378036388]}]}, {\"name\": \"normalized_root_mean_squared_error\", \"run_id\": \"AutoML_cd63750f-df45-4803-b135-af0f23de09cd\", \"categories\": [0], \"series\": [{\"data\": [0.037139291460024836]}]}, {\"name\": \"explained_variance\", \"run_id\": \"AutoML_cd63750f-df45-4803-b135-af0f23de09cd\", \"categories\": [0], \"series\": [{\"data\": [0.886052769069071]}]}, {\"name\": \"mean_absolute_error\", \"run_id\": \"AutoML_cd63750f-df45-4803-b135-af0f23de09cd\", \"categories\": [0], \"series\": [{\"data\": [15439.116472115917]}]}, {\"name\": \"normalized_root_mean_squared_log_error\", \"run_id\": \"AutoML_cd63750f-df45-4803-b135-af0f23de09cd\", \"categories\": [0], \"series\": [{\"data\": [0.042947817229549566]}]}, {\"name\": \"median_absolute_error\", \"run_id\": \"AutoML_cd63750f-df45-4803-b135-af0f23de09cd\", \"categories\": [0], \"series\": [{\"data\": [9654.516791774067]}]}, {\"name\": \"normalized_median_absolute_error\", \"run_id\": \"AutoML_cd63750f-df45-4803-b135-af0f23de09cd\", \"categories\": [0], \"series\": [{\"data\": [0.013407188990104244]}]}, {\"name\": \"normalized_mean_absolute_error\", \"run_id\": \"AutoML_cd63750f-df45-4803-b135-af0f23de09cd\", \"categories\": [0], \"series\": [{\"data\": [0.021440239511339974]}]}, {\"name\": \"r2_score\", \"run_id\": \"AutoML_cd63750f-df45-4803-b135-af0f23de09cd\", \"categories\": [0], \"series\": [{\"data\": [0.885898472424608]}]}], \"run_logs\": \"\\nRun is completed.\", \"graph\": {}, \"widget_settings\": {\"childWidgetDisplay\": \"popup\", \"send_telemetry\": false, \"log_level\": \"INFO\", \"sdk_version\": \"1.31.0\"}, \"loading\": false}"
     },
     "metadata": {},
     "output_type": "display_data"
    },
    {
     "data": {
      "text/html": [
       "<table style=\"width:100%\"><tr><th>Experiment</th><th>Id</th><th>Type</th><th>Status</th><th>Details Page</th><th>Docs Page</th></tr><tr><td>Ames-housing-AutoML</td><td>AutoML_cd63750f-df45-4803-b135-af0f23de09cd</td><td>automl</td><td>NotStarted</td><td><a href=\"https://ml.azure.com/runs/AutoML_cd63750f-df45-4803-b135-af0f23de09cd?wsid=/subscriptions/81cefad3-d2c9-4f77-a466-99a7f541c7bb/resourcegroups/aml-quickstarts-152247/workspaces/quick-starts-ws-152247&amp;tid=660b3398-b80e-49d2-bc5b-ac1dc93b5254\" target=\"_blank\" rel=\"noopener\">Link to Azure Machine Learning studio</a></td><td><a href=\"https://docs.microsoft.com/en-us/python/api/overview/azure/ml/intro?view=azure-ml-py\" target=\"_blank\" rel=\"noopener\">Link to Documentation</a></td></tr></table>"
      ],
      "text/plain": [
       "<IPython.core.display.HTML object>"
      ]
     },
     "metadata": {},
     "output_type": "display_data"
    },
    {
     "name": "stdout",
     "output_type": "stream",
     "text": [
      "\n",
      "Current status: FeaturesGeneration. Generating features for the dataset.\n",
      "Current status: DatasetFeaturization. Beginning to fit featurizers and featurize the dataset.\n",
      "Current status: DatasetCrossValidationSplit. Generating individually featurized CV splits.\n",
      "Current status: ModelSelection. Beginning model selection.\n",
      "\n",
      "****************************************************************************************************\n",
      "DATA GUARDRAILS: \n",
      "\n",
      "TYPE:         Missing feature values imputation\n",
      "STATUS:       DONE\n",
      "DESCRIPTION:  If the missing values are expected, let the run complete. Otherwise cancel the current run and use a script to customize the handling of missing feature values that may be more appropriate based on the data type and business requirement.\n",
      "              Learn more about missing value imputation: https://aka.ms/AutomatedMLFeaturization\n",
      "DETAILS:      \n",
      "+---------------------------------+---------------------------------+---------------------------------+\n",
      "|Column name                      |Missing value count              |Imputation type                  |\n",
      "+=================================+=================================+=================================+\n",
      "|LotFrontage                      |259                              |mean                             |\n",
      "|MasVnrArea                       |8                                |mean                             |\n",
      "|GarageYrBlt                      |81                               |mean                             |\n",
      "+---------------------------------+---------------------------------+---------------------------------+\n",
      "\n",
      "****************************************************************************************************\n",
      "\n",
      "TYPE:         High cardinality feature detection\n",
      "STATUS:       PASSED\n",
      "DESCRIPTION:  Your inputs were analyzed, and no high cardinality features were detected.\n",
      "              Learn more about high cardinality feature handling: https://aka.ms/AutomatedMLFeaturization\n",
      "\n",
      "****************************************************************************************************\n",
      "\n",
      "****************************************************************************************************\n",
      "ITERATION: The iteration being evaluated.\n",
      "PIPELINE: A summary description of the pipeline being evaluated.\n",
      "DURATION: Time taken for the current iteration.\n",
      "METRIC: The result of computing score on the fitted pipeline.\n",
      "BEST: The best observed score thus far.\n",
      "****************************************************************************************************\n",
      "\n",
      " ITERATION   PIPELINE                                       DURATION      METRIC      BEST\n",
      "         1   MaxAbsScaler XGBoostRegressor                  0:00:49       0.0390    0.0390\n",
      "         0   MaxAbsScaler LightGBM                          0:00:50       0.0405    0.0390\n",
      "         5   MaxAbsScaler DecisionTree                      0:00:51       0.0561    0.0390\n",
      "         2   StandardScalerWrapper ElasticNet               0:01:51       0.0498    0.0390\n",
      "         3   MaxAbsScaler DecisionTree                      0:01:58       0.0602    0.0390\n",
      "         4   MaxAbsScaler ElasticNet                        0:02:01       0.0475    0.0390\n",
      "         6   MaxAbsScaler DecisionTree                      0:00:48       0.0538    0.0390\n",
      "         7   MaxAbsScaler DecisionTree                      0:00:48       0.0558    0.0390\n",
      "         8   MaxAbsScaler DecisionTree                      0:00:49       0.0604    0.0390\n",
      "         9   MaxAbsScaler DecisionTree                      0:00:46       0.0582    0.0390\n",
      "        10   MaxAbsScaler DecisionTree                      0:00:54       0.0581    0.0390\n",
      "        11   MaxAbsScaler DecisionTree                      0:00:50       0.0558    0.0390\n",
      "        13   StandardScalerWrapper DecisionTree             0:00:52       0.0587    0.0390\n",
      "        12   MaxAbsScaler DecisionTree                      0:00:55       0.0614    0.0390\n",
      "        14   MaxAbsScaler DecisionTree                      0:00:50       0.0660    0.0390\n",
      "        15   MaxAbsScaler DecisionTree                      0:00:48       0.0638    0.0390\n",
      "        16   MaxAbsScaler SGD                               0:00:51       0.0462    0.0390\n",
      "        17   MaxAbsScaler DecisionTree                      0:00:53       0.0557    0.0390\n",
      "        18   MaxAbsScaler DecisionTree                      0:00:50       0.0640    0.0390\n",
      "        19   MaxAbsScaler DecisionTree                      0:00:48       0.0615    0.0390\n",
      "        20   MaxAbsScaler SGD                               0:00:54       0.0445    0.0390\n",
      "        21   MaxAbsScaler DecisionTree                      0:00:48       0.0565    0.0390\n",
      "        22   MaxAbsScaler DecisionTree                      0:00:50       0.0544    0.0390\n",
      "        23   MaxAbsScaler DecisionTree                      0:00:51       0.0555    0.0390\n",
      "        24   MaxAbsScaler DecisionTree                      0:00:51       0.0579    0.0390\n",
      "        25   TruncatedSVDWrapper XGBoostRegressor           0:01:07       0.0460    0.0390\n",
      "        26   MaxAbsScaler RandomForest                      0:00:55       0.0485    0.0390\n",
      "        27   MaxAbsScaler DecisionTree                      0:00:49       0.0603    0.0390\n",
      "        28   MaxAbsScaler DecisionTree                      0:00:51       0.0581    0.0390\n",
      "        29   MaxAbsScaler DecisionTree                      0:00:48       0.0604    0.0390\n",
      "        31   MaxAbsScaler DecisionTree                      0:00:51       0.0590    0.0390\n",
      "        30   SparseNormalizer XGBoostRegressor              0:01:17       0.0411    0.0390\n",
      "        32   MaxAbsScaler DecisionTree                      0:00:52       0.0545    0.0390\n",
      "        33   MaxAbsScaler DecisionTree                      0:00:46       0.0581    0.0390\n",
      "        34   MaxAbsScaler GradientBoosting                  0:00:18          nan    0.0390\n",
      "        35   StandardScalerWrapper XGBoostRegressor         0:00:17          nan    0.0390\n",
      "        36    VotingEnsemble                                0:00:52       0.0371    0.0371\n",
      "        37    StackEnsemble                                 0:00:55       0.0383    0.0371\n"
     ]
    },
    {
     "data": {
      "text/plain": [
       "{'runId': 'AutoML_cd63750f-df45-4803-b135-af0f23de09cd',\n",
       " 'target': 'cpu-cluster',\n",
       " 'status': 'Completed',\n",
       " 'startTimeUtc': '2021-07-23T08:25:19.30697Z',\n",
       " 'endTimeUtc': '2021-07-23T08:47:05.349103Z',\n",
       " 'properties': {'num_iterations': '1000',\n",
       "  'training_type': 'TrainFull',\n",
       "  'acquisition_function': 'EI',\n",
       "  'primary_metric': 'normalized_root_mean_squared_error',\n",
       "  'train_split': '0',\n",
       "  'acquisition_parameter': '0',\n",
       "  'num_cross_validation': '3',\n",
       "  'target': 'cpu-cluster',\n",
       "  'AMLSettingsJsonString': '{\"path\":null,\"name\":\"Ames-housing-AutoML\",\"subscription_id\":\"81cefad3-d2c9-4f77-a466-99a7f541c7bb\",\"resource_group\":\"aml-quickstarts-152247\",\"workspace_name\":\"quick-starts-ws-152247\",\"region\":\"southcentralus\",\"compute_target\":\"cpu-cluster\",\"spark_service\":null,\"azure_service\":\"remote\",\"many_models\":false,\"pipeline_fetch_max_batch_size\":1,\"enable_batch_run\":false,\"enable_run_restructure\":false,\"start_auxiliary_runs_before_parent_complete\":false,\"enable_code_generation\":false,\"iterations\":1000,\"primary_metric\":\"normalized_root_mean_squared_error\",\"task_type\":\"regression\",\"data_script\":null,\"test_size\":0.0,\"validation_size\":0.0,\"n_cross_validations\":3,\"y_min\":null,\"y_max\":null,\"num_classes\":null,\"featurization\":\"auto\",\"_ignore_package_version_incompatibilities\":false,\"is_timeseries\":false,\"max_cores_per_iteration\":-1,\"max_concurrent_iterations\":4,\"iteration_timeout_minutes\":5,\"mem_in_mb\":null,\"enforce_time_on_windows\":false,\"experiment_timeout_minutes\":120,\"experiment_exit_score\":null,\"whitelist_models\":null,\"blacklist_algos\":[\"TensorFlowDNN\",\"TensorFlowLinearRegressor\"],\"supported_models\":[\"FastLinearRegressor\",\"SGD\",\"ElasticNet\",\"LightGBM\",\"OnlineGradientDescentRegressor\",\"GradientBoosting\",\"DecisionTree\",\"XGBoostRegressor\",\"TensorFlowLinearRegressor\",\"ExtremeRandomTrees\",\"KNN\",\"RandomForest\",\"TensorFlowDNN\",\"LassoLars\"],\"private_models\":[],\"auto_blacklist\":true,\"blacklist_samples_reached\":false,\"exclude_nan_labels\":true,\"verbosity\":20,\"_debug_log\":\"azureml_automl.log\",\"show_warnings\":false,\"model_explainability\":true,\"service_url\":null,\"sdk_url\":null,\"sdk_packages\":null,\"enable_onnx_compatible_models\":false,\"enable_split_onnx_featurizer_estimator_models\":false,\"vm_type\":\"STANDARD_D2_V2\",\"telemetry_verbosity\":20,\"send_telemetry\":true,\"enable_dnn\":false,\"scenario\":\"SDK-1.13.0\",\"environment_label\":null,\"save_mlflow\":false,\"force_text_dnn\":false,\"enable_feature_sweeping\":true,\"enable_early_stopping\":true,\"early_stopping_n_iters\":10,\"metrics\":null,\"enable_metric_confidence\":false,\"enable_ensembling\":true,\"enable_stack_ensembling\":true,\"ensemble_iterations\":15,\"enable_tf\":false,\"enable_subsampling\":null,\"subsample_seed\":null,\"enable_nimbusml\":false,\"enable_streaming\":false,\"force_streaming\":false,\"track_child_runs\":true,\"allowed_private_models\":[],\"label_column_name\":\"SalePrice\",\"weight_column_name\":null,\"cv_split_column_names\":null,\"enable_local_managed\":false,\"_local_managed_run_id\":null,\"cost_mode\":1,\"lag_length\":0,\"metric_operation\":\"minimize\",\"preprocess\":true}',\n",
       "  'DataPrepJsonString': '{\\\\\"training_data\\\\\": {\\\\\"datasetId\\\\\": \\\\\"89d44307-7cdb-4415-acc0-e687ebe1dff6\\\\\"}, \\\\\"datasets\\\\\": 0}',\n",
       "  'EnableSubsampling': None,\n",
       "  'runTemplate': 'AutoML',\n",
       "  'azureml.runsource': 'automl',\n",
       "  'display_task_type': 'regression',\n",
       "  'dependencies_versions': '{\"azureml-widgets\": \"1.31.0\", \"azureml-train\": \"1.31.0\", \"azureml-train-restclients-hyperdrive\": \"1.31.0\", \"azureml-train-core\": \"1.31.0\", \"azureml-train-automl\": \"1.31.0\", \"azureml-train-automl-runtime\": \"1.31.0\", \"azureml-train-automl-client\": \"1.31.0\", \"azureml-tensorboard\": \"1.31.0\", \"azureml-telemetry\": \"1.31.0\", \"azureml-sdk\": \"1.31.0\", \"azureml-samples\": \"0+unknown\", \"azureml-responsibleai\": \"1.31.0\", \"azureml-pipeline\": \"1.31.0\", \"azureml-pipeline-steps\": \"1.31.0\", \"azureml-pipeline-core\": \"1.31.0\", \"azureml-opendatasets\": \"1.31.0\", \"azureml-model-management-sdk\": \"1.0.1b6.post1\", \"azureml-mlflow\": \"1.31.0\", \"azureml-interpret\": \"1.31.0\", \"azureml-explain-model\": \"1.31.0\", \"azureml-defaults\": \"1.31.0\", \"azureml-dataset-runtime\": \"1.31.0\", \"azureml-dataprep\": \"2.18.0\", \"azureml-dataprep-rslex\": \"1.16.1\", \"azureml-dataprep-native\": \"36.0.0\", \"azureml-datadrift\": \"1.31.0\", \"azureml-core\": \"1.31.0\", \"azureml-contrib-services\": \"1.31.0\", \"azureml-contrib-server\": \"1.31.0\", \"azureml-contrib-reinforcementlearning\": \"1.31.0\", \"azureml-contrib-pipeline-steps\": \"1.31.0\", \"azureml-contrib-notebook\": \"1.31.0\", \"azureml-contrib-fairness\": \"1.31.0\", \"azureml-contrib-dataset\": \"1.31.0\", \"azureml-cli-common\": \"1.31.0\", \"azureml-automl-runtime\": \"1.31.0\", \"azureml-automl-dnn-nlp\": \"1.31.0\", \"azureml-automl-core\": \"1.31.0\", \"azureml-accel-models\": \"1.31.0\"}',\n",
       "  '_aml_system_scenario_identification': 'Remote.Parent',\n",
       "  'ClientType': 'SDK',\n",
       "  'environment_cpu_name': 'AzureML-AutoML',\n",
       "  'environment_cpu_label': 'prod',\n",
       "  'environment_gpu_name': 'AzureML-AutoML-GPU',\n",
       "  'environment_gpu_label': 'prod',\n",
       "  'root_attribution': 'automl',\n",
       "  'attribution': 'AutoML',\n",
       "  'Orchestrator': 'AutoML',\n",
       "  'CancelUri': 'https://southcentralus.api.azureml.ms/jasmine/v1.0/subscriptions/81cefad3-d2c9-4f77-a466-99a7f541c7bb/resourceGroups/aml-quickstarts-152247/providers/Microsoft.MachineLearningServices/workspaces/quick-starts-ws-152247/experimentids/37c98715-b9e5-42bb-92e1-65facc510b83/cancel/AutoML_cd63750f-df45-4803-b135-af0f23de09cd',\n",
       "  'ClientSdkVersion': '1.32.0',\n",
       "  'snapshotId': '00000000-0000-0000-0000-000000000000',\n",
       "  'SetupRunId': 'AutoML_cd63750f-df45-4803-b135-af0f23de09cd_setup',\n",
       "  'SetupRunContainerId': 'dcid.AutoML_cd63750f-df45-4803-b135-af0f23de09cd_setup',\n",
       "  'FeaturizationRunJsonPath': 'featurizer_container.json',\n",
       "  'FeaturizationRunId': 'AutoML_cd63750f-df45-4803-b135-af0f23de09cd_featurize',\n",
       "  'ProblemInfoJsonString': '{\"dataset_num_categorical\": 0, \"is_sparse\": true, \"subsampling\": false, \"has_extra_col\": true, \"dataset_classes\": 663, \"dataset_features\": 456, \"dataset_samples\": 1460, \"single_frequency_class_detected\": false}',\n",
       "  'ModelExplainRunId': 'AutoML_cd63750f-df45-4803-b135-af0f23de09cd_ModelExplain'},\n",
       " 'inputDatasets': [{'dataset': {'id': '89d44307-7cdb-4415-acc0-e687ebe1dff6'}, 'consumptionDetails': {'type': 'RunInput', 'inputName': 'training_data', 'mechanism': 'Direct'}}],\n",
       " 'outputDatasets': [],\n",
       " 'logFiles': {},\n",
       " 'submittedBy': 'ODL_User 152247'}"
      ]
     },
     "execution_count": 7,
     "metadata": {},
     "output_type": "execute_result"
    }
   ],
   "source": [
    "from azureml.widgets import RunDetails\n",
    "# TODO: Submit your experiment\n",
    "aml_run = experiment.submit(automl_config)\n",
    "RunDetails(aml_run).show()\n",
    "aml_run.wait_for_completion(show_output=True)"
   ]
  },
  {
   "cell_type": "markdown",
   "metadata": {},
   "source": [
    "## Run Details\n",
    "\n",
    "OPTIONAL: Write about the different models trained and their performance. Why do you think some models did better than others?\n",
    "\n",
    "TODO: In the cell below, use the `RunDetails` widget to show the different experiments."
   ]
  },
  {
   "cell_type": "code",
   "execution_count": 9,
   "metadata": {},
   "outputs": [
    {
     "data": {
      "application/vnd.jupyter.widget-view+json": {
       "model_id": "a99a6a08c3834d6c962ad33644151f75",
       "version_major": 2,
       "version_minor": 0
      },
      "text/plain": [
       "_AutoMLWidget(widget_settings={'childWidgetDisplay': 'popup', 'send_telemetry': False, 'log_level': 'INFO', 's…"
      ]
     },
     "metadata": {},
     "output_type": "display_data"
    },
    {
     "data": {
      "application/aml.mini.widget.v1": "{\"status\": \"Completed\", \"workbench_run_details_uri\": \"https://ml.azure.com/runs/AutoML_0fc9eea6-09ad-40ac-9ec1-b571665bbd87?wsid=/subscriptions/610d6e37-4747-4a20-80eb-3aad70a55f43/resourcegroups/aml-quickstarts-152157/workspaces/quick-starts-ws-152157&tid=660b3398-b80e-49d2-bc5b-ac1dc93b5254\", \"run_id\": \"AutoML_0fc9eea6-09ad-40ac-9ec1-b571665bbd87\", \"run_properties\": {\"run_id\": \"AutoML_0fc9eea6-09ad-40ac-9ec1-b571665bbd87\", \"created_utc\": \"2021-07-22T13:08:19.017264Z\", \"properties\": {\"num_iterations\": \"1000\", \"training_type\": \"TrainFull\", \"acquisition_function\": \"EI\", \"primary_metric\": \"normalized_root_mean_squared_error\", \"train_split\": \"0\", \"acquisition_parameter\": \"0\", \"num_cross_validation\": \"3\", \"target\": \"cpu-cluster\", \"AMLSettingsJsonString\": \"{\\\"path\\\":null,\\\"name\\\":\\\"Ames-housing-AutoML\\\",\\\"subscription_id\\\":\\\"610d6e37-4747-4a20-80eb-3aad70a55f43\\\",\\\"resource_group\\\":\\\"aml-quickstarts-152157\\\",\\\"workspace_name\\\":\\\"quick-starts-ws-152157\\\",\\\"region\\\":\\\"southcentralus\\\",\\\"compute_target\\\":\\\"cpu-cluster\\\",\\\"spark_service\\\":null,\\\"azure_service\\\":\\\"remote\\\",\\\"many_models\\\":false,\\\"pipeline_fetch_max_batch_size\\\":1,\\\"enable_batch_run\\\":false,\\\"enable_run_restructure\\\":false,\\\"start_auxiliary_runs_before_parent_complete\\\":false,\\\"enable_code_generation\\\":false,\\\"iterations\\\":1000,\\\"primary_metric\\\":\\\"normalized_root_mean_squared_error\\\",\\\"task_type\\\":\\\"regression\\\",\\\"data_script\\\":null,\\\"test_size\\\":0.0,\\\"validation_size\\\":0.0,\\\"n_cross_validations\\\":3,\\\"y_min\\\":null,\\\"y_max\\\":null,\\\"num_classes\\\":null,\\\"featurization\\\":\\\"auto\\\",\\\"_ignore_package_version_incompatibilities\\\":false,\\\"is_timeseries\\\":false,\\\"max_cores_per_iteration\\\":-1,\\\"max_concurrent_iterations\\\":4,\\\"iteration_timeout_minutes\\\":5,\\\"mem_in_mb\\\":null,\\\"enforce_time_on_windows\\\":false,\\\"experiment_timeout_minutes\\\":120,\\\"experiment_exit_score\\\":null,\\\"whitelist_models\\\":null,\\\"blacklist_algos\\\":[\\\"TensorFlowDNN\\\",\\\"TensorFlowLinearRegressor\\\"],\\\"supported_models\\\":[\\\"TensorFlowLinearRegressor\\\",\\\"OnlineGradientDescentRegressor\\\",\\\"LightGBM\\\",\\\"SGD\\\",\\\"TensorFlowDNN\\\",\\\"FastLinearRegressor\\\",\\\"KNN\\\",\\\"LassoLars\\\",\\\"DecisionTree\\\",\\\"RandomForest\\\",\\\"GradientBoosting\\\",\\\"XGBoostRegressor\\\",\\\"ElasticNet\\\",\\\"ExtremeRandomTrees\\\"],\\\"private_models\\\":[],\\\"auto_blacklist\\\":true,\\\"blacklist_samples_reached\\\":false,\\\"exclude_nan_labels\\\":true,\\\"verbosity\\\":20,\\\"_debug_log\\\":\\\"azureml_automl.log\\\",\\\"show_warnings\\\":false,\\\"model_explainability\\\":true,\\\"service_url\\\":null,\\\"sdk_url\\\":null,\\\"sdk_packages\\\":null,\\\"enable_onnx_compatible_models\\\":false,\\\"enable_split_onnx_featurizer_estimator_models\\\":false,\\\"vm_type\\\":\\\"STANDARD_D2_V2\\\",\\\"telemetry_verbosity\\\":20,\\\"send_telemetry\\\":true,\\\"enable_dnn\\\":false,\\\"scenario\\\":\\\"SDK-1.13.0\\\",\\\"environment_label\\\":null,\\\"save_mlflow\\\":false,\\\"force_text_dnn\\\":false,\\\"enable_feature_sweeping\\\":true,\\\"enable_early_stopping\\\":true,\\\"early_stopping_n_iters\\\":10,\\\"metrics\\\":null,\\\"enable_metric_confidence\\\":false,\\\"enable_ensembling\\\":true,\\\"enable_stack_ensembling\\\":true,\\\"ensemble_iterations\\\":15,\\\"enable_tf\\\":false,\\\"enable_subsampling\\\":null,\\\"subsample_seed\\\":null,\\\"enable_nimbusml\\\":false,\\\"enable_streaming\\\":false,\\\"force_streaming\\\":false,\\\"track_child_runs\\\":true,\\\"allowed_private_models\\\":[],\\\"label_column_name\\\":\\\"SalePrice\\\",\\\"weight_column_name\\\":null,\\\"cv_split_column_names\\\":null,\\\"enable_local_managed\\\":false,\\\"_local_managed_run_id\\\":null,\\\"cost_mode\\\":1,\\\"lag_length\\\":0,\\\"metric_operation\\\":\\\"minimize\\\",\\\"preprocess\\\":true}\", \"DataPrepJsonString\": \"{\\\\\\\"training_data\\\\\\\": {\\\\\\\"datasetId\\\\\\\": \\\\\\\"ce8c2dc7-cc90-4d1f-b13d-fef94c47d285\\\\\\\"}, \\\\\\\"datasets\\\\\\\": 0}\", \"EnableSubsampling\": null, \"runTemplate\": \"AutoML\", \"azureml.runsource\": \"automl\", \"display_task_type\": \"regression\", \"dependencies_versions\": \"{\\\"azureml-widgets\\\": \\\"1.31.0\\\", \\\"azureml-train\\\": \\\"1.31.0\\\", \\\"azureml-train-restclients-hyperdrive\\\": \\\"1.31.0\\\", \\\"azureml-train-core\\\": \\\"1.31.0\\\", \\\"azureml-train-automl\\\": \\\"1.31.0\\\", \\\"azureml-train-automl-runtime\\\": \\\"1.31.0\\\", \\\"azureml-train-automl-client\\\": \\\"1.31.0\\\", \\\"azureml-tensorboard\\\": \\\"1.31.0\\\", \\\"azureml-telemetry\\\": \\\"1.31.0\\\", \\\"azureml-sdk\\\": \\\"1.31.0\\\", \\\"azureml-samples\\\": \\\"0+unknown\\\", \\\"azureml-responsibleai\\\": \\\"1.31.0\\\", \\\"azureml-pipeline\\\": \\\"1.31.0\\\", \\\"azureml-pipeline-steps\\\": \\\"1.31.0\\\", \\\"azureml-pipeline-core\\\": \\\"1.31.0\\\", \\\"azureml-opendatasets\\\": \\\"1.31.0\\\", \\\"azureml-model-management-sdk\\\": \\\"1.0.1b6.post1\\\", \\\"azureml-mlflow\\\": \\\"1.31.0\\\", \\\"azureml-interpret\\\": \\\"1.31.0\\\", \\\"azureml-explain-model\\\": \\\"1.31.0\\\", \\\"azureml-defaults\\\": \\\"1.31.0\\\", \\\"azureml-dataset-runtime\\\": \\\"1.31.0\\\", \\\"azureml-dataprep\\\": \\\"2.18.0\\\", \\\"azureml-dataprep-rslex\\\": \\\"1.16.1\\\", \\\"azureml-dataprep-native\\\": \\\"36.0.0\\\", \\\"azureml-datadrift\\\": \\\"1.31.0\\\", \\\"azureml-core\\\": \\\"1.31.0\\\", \\\"azureml-contrib-services\\\": \\\"1.31.0\\\", \\\"azureml-contrib-server\\\": \\\"1.31.0\\\", \\\"azureml-contrib-reinforcementlearning\\\": \\\"1.31.0\\\", \\\"azureml-contrib-pipeline-steps\\\": \\\"1.31.0\\\", \\\"azureml-contrib-notebook\\\": \\\"1.31.0\\\", \\\"azureml-contrib-fairness\\\": \\\"1.31.0\\\", \\\"azureml-contrib-dataset\\\": \\\"1.31.0\\\", \\\"azureml-cli-common\\\": \\\"1.31.0\\\", \\\"azureml-automl-runtime\\\": \\\"1.31.0\\\", \\\"azureml-automl-dnn-nlp\\\": \\\"1.31.0\\\", \\\"azureml-automl-core\\\": \\\"1.31.0\\\", \\\"azureml-accel-models\\\": \\\"1.31.0\\\"}\", \"_aml_system_scenario_identification\": \"Remote.Parent\", \"ClientType\": \"SDK\", \"environment_cpu_name\": \"AzureML-AutoML\", \"environment_cpu_label\": \"prod\", \"environment_gpu_name\": \"AzureML-AutoML-GPU\", \"environment_gpu_label\": \"prod\", \"root_attribution\": \"automl\", \"attribution\": \"AutoML\", \"Orchestrator\": \"AutoML\", \"CancelUri\": \"https://southcentralus.api.azureml.ms/jasmine/v1.0/subscriptions/610d6e37-4747-4a20-80eb-3aad70a55f43/resourceGroups/aml-quickstarts-152157/providers/Microsoft.MachineLearningServices/workspaces/quick-starts-ws-152157/experimentids/af095667-8b0e-4bbd-817c-665cf141ef36/cancel/AutoML_0fc9eea6-09ad-40ac-9ec1-b571665bbd87\", \"ClientSdkVersion\": \"1.32.0\", \"snapshotId\": \"00000000-0000-0000-0000-000000000000\", \"SetupRunId\": \"AutoML_0fc9eea6-09ad-40ac-9ec1-b571665bbd87_setup\", \"SetupRunContainerId\": \"dcid.AutoML_0fc9eea6-09ad-40ac-9ec1-b571665bbd87_setup\", \"FeaturizationRunJsonPath\": \"featurizer_container.json\", \"FeaturizationRunId\": \"AutoML_0fc9eea6-09ad-40ac-9ec1-b571665bbd87_featurize\", \"ProblemInfoJsonString\": \"{\\\"dataset_num_categorical\\\": 0, \\\"is_sparse\\\": true, \\\"subsampling\\\": false, \\\"has_extra_col\\\": true, \\\"dataset_classes\\\": 663, \\\"dataset_features\\\": 456, \\\"dataset_samples\\\": 1460, \\\"single_frequency_class_detected\\\": false}\", \"ModelExplainRunId\": \"AutoML_0fc9eea6-09ad-40ac-9ec1-b571665bbd87_ModelExplain\"}, \"tags\": {\"model_explain_run\": \"best_run\", \"_aml_system_azureml.automlComponent\": \"AutoML\", \"pipeline_id\": \"\", \"score\": \"\", \"predicted_cost\": \"\", \"fit_time\": \"\", \"training_percent\": \"\", \"iteration\": \"\", \"run_preprocessor\": \"\", \"run_algorithm\": \"\", \"dynamic_whitelisting_iterations\": \"<24>;<30>;<35>;\", \"automl_best_child_run_id\": \"AutoML_0fc9eea6-09ad-40ac-9ec1-b571665bbd87_36\", \"model_explain_best_run_child_id\": \"AutoML_0fc9eea6-09ad-40ac-9ec1-b571665bbd87_36\"}, \"end_time_utc\": \"2021-07-22T13:39:13.825465Z\", \"status\": \"Completed\", \"log_files\": {}, \"log_groups\": [], \"run_duration\": \"0:30:54\", \"run_number\": \"1\", \"run_queued_details\": {\"status\": \"Completed\", \"details\": null}}, \"child_runs\": [{\"run_id\": \"AutoML_0fc9eea6-09ad-40ac-9ec1-b571665bbd87_0\", \"run_number\": 5, \"metric\": null, \"status\": \"Completed\", \"run_type\": \"azureml.scriptrun\", \"training_percent\": \"100\", \"start_time\": \"2021-07-22T13:22:21.827591Z\", \"end_time\": \"2021-07-22T13:23:20.258298Z\", \"created_time\": \"2021-07-22T13:22:06.788876Z\", \"created_time_dt\": \"2021-07-22T13:22:06.788876Z\", \"duration\": \"0:01:13\", \"iteration\": \"0\", \"goal\": \"normalized_root_mean_squared_error_min\", \"run_name\": \"MaxAbsScaler, LightGBM\", \"run_properties\": \"copy=True\", \"primary_metric\": 0.04047747, \"best_metric\": 0.04047747}, {\"run_id\": \"AutoML_0fc9eea6-09ad-40ac-9ec1-b571665bbd87_1\", \"run_number\": 6, \"metric\": null, \"status\": \"Completed\", \"run_type\": \"azureml.scriptrun\", \"training_percent\": \"100\", \"start_time\": \"2021-07-22T13:23:35.499871Z\", \"end_time\": \"2021-07-22T13:24:31.859493Z\", \"created_time\": \"2021-07-22T13:22:06.81688Z\", \"created_time_dt\": \"2021-07-22T13:22:06.81688Z\", \"duration\": \"0:02:25\", \"iteration\": \"1\", \"goal\": \"normalized_root_mean_squared_error_min\", \"run_name\": \"MaxAbsScaler, XGBoostRegressor\", \"run_properties\": \"copy=True\", \"primary_metric\": 0.03897071, \"best_metric\": 0.03897071}, {\"run_id\": \"AutoML_0fc9eea6-09ad-40ac-9ec1-b571665bbd87_2\", \"run_number\": 7, \"metric\": null, \"status\": \"Completed\", \"run_type\": \"azureml.scriptrun\", \"training_percent\": \"100\", \"start_time\": \"2021-07-22T13:24:45.888111Z\", \"end_time\": \"2021-07-22T13:25:44.24968Z\", \"created_time\": \"2021-07-22T13:22:06.828861Z\", \"created_time_dt\": \"2021-07-22T13:22:06.828861Z\", \"duration\": \"0:03:37\", \"iteration\": \"2\", \"goal\": \"normalized_root_mean_squared_error_min\", \"run_name\": \"StandardScalerWrapper, ElasticNet\", \"run_properties\": \"\\n    copy=True,\\n    with_mean=False,\\n    with_std=True\\n\", \"primary_metric\": 0.04976629, \"best_metric\": 0.03897071}, {\"run_id\": \"AutoML_0fc9eea6-09ad-40ac-9ec1-b571665bbd87_3\", \"run_number\": 8, \"metric\": null, \"status\": \"Completed\", \"run_type\": \"azureml.scriptrun\", \"training_percent\": \"100\", \"start_time\": \"2021-07-22T13:25:53.501715Z\", \"end_time\": \"2021-07-22T13:31:05.965119Z\", \"created_time\": \"2021-07-22T13:22:06.817726Z\", \"created_time_dt\": \"2021-07-22T13:22:06.817726Z\", \"duration\": \"0:08:59\", \"iteration\": \"3\", \"goal\": \"normalized_root_mean_squared_error_min\", \"run_name\": \"MaxAbsScaler, DecisionTree\", \"run_properties\": \"copy=True\", \"primary_metric\": 0.06033247, \"best_metric\": 0.03897071}, {\"run_id\": \"AutoML_0fc9eea6-09ad-40ac-9ec1-b571665bbd87_4\", \"run_number\": 9, \"metric\": null, \"status\": \"Completed\", \"run_type\": \"azureml.scriptrun\", \"training_percent\": \"100\", \"start_time\": \"2021-07-22T13:25:55.160148Z\", \"end_time\": \"2021-07-22T13:31:12.947726Z\", \"created_time\": \"2021-07-22T13:23:22.385425Z\", \"created_time_dt\": \"2021-07-22T13:23:22.385425Z\", \"duration\": \"0:07:50\", \"iteration\": \"4\", \"goal\": \"normalized_root_mean_squared_error_min\", \"run_name\": \"MaxAbsScaler, ElasticNet\", \"run_properties\": \"copy=True\", \"primary_metric\": 0.04746379, \"best_metric\": 0.03897071}, {\"run_id\": \"AutoML_0fc9eea6-09ad-40ac-9ec1-b571665bbd87_5\", \"run_number\": 10, \"metric\": null, \"status\": \"Completed\", \"run_type\": \"azureml.scriptrun\", \"training_percent\": \"100\", \"start_time\": \"2021-07-22T13:25:55.28802Z\", \"end_time\": \"2021-07-22T13:26:45.90424Z\", \"created_time\": \"2021-07-22T13:24:33.344744Z\", \"created_time_dt\": \"2021-07-22T13:24:33.344744Z\", \"duration\": \"0:02:12\", \"iteration\": \"5\", \"goal\": \"normalized_root_mean_squared_error_min\", \"run_name\": \"MaxAbsScaler, DecisionTree\", \"run_properties\": \"copy=True\", \"primary_metric\": 0.05611394, \"best_metric\": 0.03897071}, {\"run_id\": \"AutoML_0fc9eea6-09ad-40ac-9ec1-b571665bbd87_6\", \"run_number\": 11, \"metric\": null, \"status\": \"Completed\", \"run_type\": \"azureml.scriptrun\", \"training_percent\": \"100\", \"start_time\": \"2021-07-22T13:26:04.158571Z\", \"end_time\": \"2021-07-22T13:31:12.528343Z\", \"created_time\": \"2021-07-22T13:25:47.322367Z\", \"created_time_dt\": \"2021-07-22T13:25:47.322367Z\", \"duration\": \"0:05:25\", \"iteration\": \"6\", \"goal\": \"normalized_root_mean_squared_error_min\", \"run_name\": \"MaxAbsScaler, DecisionTree\", \"run_properties\": \"copy=True\", \"primary_metric\": 0.05379945, \"best_metric\": 0.03897071}, {\"run_id\": \"AutoML_0fc9eea6-09ad-40ac-9ec1-b571665bbd87_7\", \"run_number\": 12, \"metric\": null, \"status\": \"Completed\", \"run_type\": \"azureml.scriptrun\", \"training_percent\": \"100\", \"start_time\": \"2021-07-22T13:27:01.447878Z\", \"end_time\": \"2021-07-22T13:27:52.279252Z\", \"created_time\": \"2021-07-22T13:26:48.848771Z\", \"created_time_dt\": \"2021-07-22T13:26:48.848771Z\", \"duration\": \"0:01:03\", \"iteration\": \"7\", \"goal\": \"normalized_root_mean_squared_error_min\", \"run_name\": \"MaxAbsScaler, DecisionTree\", \"run_properties\": \"copy=True\", \"primary_metric\": 0.05678272, \"best_metric\": 0.03897071}, {\"run_id\": \"AutoML_0fc9eea6-09ad-40ac-9ec1-b571665bbd87_8\", \"run_number\": 13, \"metric\": null, \"status\": \"Completed\", \"run_type\": \"azureml.scriptrun\", \"training_percent\": \"100\", \"start_time\": \"2021-07-22T13:28:05.628167Z\", \"end_time\": \"2021-07-22T13:28:58.485544Z\", \"created_time\": \"2021-07-22T13:27:55.19284Z\", \"created_time_dt\": \"2021-07-22T13:27:55.19284Z\", \"duration\": \"0:01:03\", \"iteration\": \"8\", \"goal\": \"normalized_root_mean_squared_error_min\", \"run_name\": \"MaxAbsScaler, DecisionTree\", \"run_properties\": \"copy=True\", \"primary_metric\": 0.06056714, \"best_metric\": 0.03897071}, {\"run_id\": \"AutoML_0fc9eea6-09ad-40ac-9ec1-b571665bbd87_9\", \"run_number\": 14, \"metric\": null, \"status\": \"Completed\", \"run_type\": \"azureml.scriptrun\", \"training_percent\": \"100\", \"start_time\": \"2021-07-22T13:29:11.330584Z\", \"end_time\": \"2021-07-22T13:30:03.873807Z\", \"created_time\": \"2021-07-22T13:29:01.508281Z\", \"created_time_dt\": \"2021-07-22T13:29:01.508281Z\", \"duration\": \"0:01:02\", \"iteration\": \"9\", \"goal\": \"normalized_root_mean_squared_error_min\", \"run_name\": \"MaxAbsScaler, DecisionTree\", \"run_properties\": \"copy=True\", \"primary_metric\": 0.05439079, \"best_metric\": 0.03897071}, {\"run_id\": \"AutoML_0fc9eea6-09ad-40ac-9ec1-b571665bbd87_10\", \"run_number\": 15, \"metric\": null, \"status\": \"Completed\", \"run_type\": \"azureml.scriptrun\", \"training_percent\": \"100\", \"start_time\": \"2021-07-22T13:30:18.373352Z\", \"end_time\": \"2021-07-22T13:31:11.264367Z\", \"created_time\": \"2021-07-22T13:30:06.917894Z\", \"created_time_dt\": \"2021-07-22T13:30:06.917894Z\", \"duration\": \"0:01:04\", \"iteration\": \"10\", \"goal\": \"normalized_root_mean_squared_error_min\", \"run_name\": \"MaxAbsScaler, DecisionTree\", \"run_properties\": \"copy=True\", \"primary_metric\": 0.05716486, \"best_metric\": 0.03897071}, {\"run_id\": \"AutoML_0fc9eea6-09ad-40ac-9ec1-b571665bbd87_11\", \"run_number\": 16, \"metric\": null, \"status\": \"Completed\", \"run_type\": \"azureml.scriptrun\", \"training_percent\": \"100\", \"start_time\": \"2021-07-22T13:31:17.458918Z\", \"end_time\": \"2021-07-22T13:32:06.839785Z\", \"created_time\": \"2021-07-22T13:31:08.963061Z\", \"created_time_dt\": \"2021-07-22T13:31:08.963061Z\", \"duration\": \"0:00:57\", \"iteration\": \"11\", \"goal\": \"normalized_root_mean_squared_error_min\", \"run_name\": \"MaxAbsScaler, DecisionTree\", \"run_properties\": \"copy=True\", \"primary_metric\": 0.057996, \"best_metric\": 0.03897071}, {\"run_id\": \"AutoML_0fc9eea6-09ad-40ac-9ec1-b571665bbd87_12\", \"run_number\": 17, \"metric\": null, \"status\": \"Completed\", \"run_type\": \"azureml.scriptrun\", \"training_percent\": \"100\", \"start_time\": \"2021-07-22T13:31:22.537777Z\", \"end_time\": \"2021-07-22T13:32:14.569716Z\", \"created_time\": \"2021-07-22T13:31:14.113327Z\", \"created_time_dt\": \"2021-07-22T13:31:14.113327Z\", \"duration\": \"0:01:00\", \"iteration\": \"12\", \"goal\": \"normalized_root_mean_squared_error_min\", \"run_name\": \"MaxAbsScaler, DecisionTree\", \"run_properties\": \"copy=True\", \"primary_metric\": 0.06137461, \"best_metric\": 0.03897071}, {\"run_id\": \"AutoML_0fc9eea6-09ad-40ac-9ec1-b571665bbd87_13\", \"run_number\": 18, \"metric\": null, \"status\": \"Completed\", \"run_type\": \"azureml.scriptrun\", \"training_percent\": \"100\", \"start_time\": \"2021-07-22T13:31:28.991634Z\", \"end_time\": \"2021-07-22T13:32:18.855048Z\", \"created_time\": \"2021-07-22T13:31:19.365626Z\", \"created_time_dt\": \"2021-07-22T13:31:19.365626Z\", \"duration\": \"0:00:59\", \"iteration\": \"13\", \"goal\": \"normalized_root_mean_squared_error_min\", \"run_name\": \"StandardScalerWrapper, DecisionTree\", \"run_properties\": \"\\n    copy=True,\\n    with_mean=False,\\n    with_std=True\\n\", \"primary_metric\": 0.05766705, \"best_metric\": 0.03897071}, {\"run_id\": \"AutoML_0fc9eea6-09ad-40ac-9ec1-b571665bbd87_14\", \"run_number\": 19, \"metric\": null, \"status\": \"Completed\", \"run_type\": \"azureml.scriptrun\", \"training_percent\": \"100\", \"start_time\": \"2021-07-22T13:31:29.216024Z\", \"end_time\": \"2021-07-22T13:32:19.114589Z\", \"created_time\": \"2021-07-22T13:31:19.392456Z\", \"created_time_dt\": \"2021-07-22T13:31:19.392456Z\", \"duration\": \"0:00:59\", \"iteration\": \"14\", \"goal\": \"normalized_root_mean_squared_error_min\", \"run_name\": \"MaxAbsScaler, DecisionTree\", \"run_properties\": \"copy=True\", \"primary_metric\": 0.06513345, \"best_metric\": 0.03897071}, {\"run_id\": \"AutoML_0fc9eea6-09ad-40ac-9ec1-b571665bbd87_15\", \"run_number\": 20, \"metric\": null, \"status\": \"Completed\", \"run_type\": \"azureml.scriptrun\", \"training_percent\": \"100\", \"start_time\": \"2021-07-22T13:32:23.463171Z\", \"end_time\": \"2021-07-22T13:33:17.96659Z\", \"created_time\": \"2021-07-22T13:32:09.627414Z\", \"created_time_dt\": \"2021-07-22T13:32:09.627414Z\", \"duration\": \"0:01:08\", \"iteration\": \"15\", \"goal\": \"normalized_root_mean_squared_error_min\", \"run_name\": \"MaxAbsScaler, DecisionTree\", \"run_properties\": \"copy=True\", \"primary_metric\": 0.06576547, \"best_metric\": 0.03897071}, {\"run_id\": \"AutoML_0fc9eea6-09ad-40ac-9ec1-b571665bbd87_16\", \"run_number\": 21, \"metric\": null, \"status\": \"Completed\", \"run_type\": \"azureml.scriptrun\", \"training_percent\": \"100\", \"start_time\": \"2021-07-22T13:32:33.648058Z\", \"end_time\": \"2021-07-22T13:33:25.95456Z\", \"created_time\": \"2021-07-22T13:32:17.200367Z\", \"created_time_dt\": \"2021-07-22T13:32:17.200367Z\", \"duration\": \"0:01:08\", \"iteration\": \"16\", \"goal\": \"normalized_root_mean_squared_error_min\", \"run_name\": \"MaxAbsScaler, SGD\", \"run_properties\": \"copy=True\", \"primary_metric\": 0.04533795, \"best_metric\": 0.03897071}, {\"run_id\": \"AutoML_0fc9eea6-09ad-40ac-9ec1-b571665bbd87_17\", \"run_number\": 22, \"metric\": null, \"status\": \"Completed\", \"run_type\": \"azureml.scriptrun\", \"training_percent\": \"100\", \"start_time\": \"2021-07-22T13:32:35.896321Z\", \"end_time\": \"2021-07-22T13:33:30.39835Z\", \"created_time\": \"2021-07-22T13:32:21.782038Z\", \"created_time_dt\": \"2021-07-22T13:32:21.782038Z\", \"duration\": \"0:01:08\", \"iteration\": \"17\", \"goal\": \"normalized_root_mean_squared_error_min\", \"run_name\": \"MaxAbsScaler, DecisionTree\", \"run_properties\": \"copy=True\", \"primary_metric\": 0.05638017, \"best_metric\": 0.03897071}, {\"run_id\": \"AutoML_0fc9eea6-09ad-40ac-9ec1-b571665bbd87_18\", \"run_number\": 23, \"metric\": null, \"status\": \"Completed\", \"run_type\": \"azureml.scriptrun\", \"training_percent\": \"100\", \"start_time\": \"2021-07-22T13:32:34.179221Z\", \"end_time\": \"2021-07-22T13:33:24.959452Z\", \"created_time\": \"2021-07-22T13:32:21.79617Z\", \"created_time_dt\": \"2021-07-22T13:32:21.79617Z\", \"duration\": \"0:01:03\", \"iteration\": \"18\", \"goal\": \"normalized_root_mean_squared_error_min\", \"run_name\": \"MaxAbsScaler, DecisionTree\", \"run_properties\": \"copy=True\", \"primary_metric\": 0.06447801, \"best_metric\": 0.03897071}, {\"run_id\": \"AutoML_0fc9eea6-09ad-40ac-9ec1-b571665bbd87_19\", \"run_number\": 24, \"metric\": null, \"status\": \"Completed\", \"run_type\": \"azureml.scriptrun\", \"training_percent\": \"100\", \"start_time\": \"2021-07-22T13:33:33.1201Z\", \"end_time\": \"2021-07-22T13:34:26.99055Z\", \"created_time\": \"2021-07-22T13:33:20.78223Z\", \"created_time_dt\": \"2021-07-22T13:33:20.78223Z\", \"duration\": \"0:01:06\", \"iteration\": \"19\", \"goal\": \"normalized_root_mean_squared_error_min\", \"run_name\": \"MaxAbsScaler, DecisionTree\", \"run_properties\": \"copy=True\", \"primary_metric\": 0.06178519, \"best_metric\": 0.03897071}, {\"run_id\": \"AutoML_0fc9eea6-09ad-40ac-9ec1-b571665bbd87_20\", \"run_number\": 25, \"metric\": null, \"status\": \"Completed\", \"run_type\": \"azureml.scriptrun\", \"training_percent\": \"100\", \"start_time\": \"2021-07-22T13:33:37.688493Z\", \"end_time\": \"2021-07-22T13:34:30.618831Z\", \"created_time\": \"2021-07-22T13:33:27.882445Z\", \"created_time_dt\": \"2021-07-22T13:33:27.882445Z\", \"duration\": \"0:01:02\", \"iteration\": \"20\", \"goal\": \"normalized_root_mean_squared_error_min\", \"run_name\": \"MaxAbsScaler, SGD\", \"run_properties\": \"copy=True\", \"primary_metric\": 0.04422829, \"best_metric\": 0.03897071}, {\"run_id\": \"AutoML_0fc9eea6-09ad-40ac-9ec1-b571665bbd87_21\", \"run_number\": 26, \"metric\": null, \"status\": \"Completed\", \"run_type\": \"azureml.scriptrun\", \"training_percent\": \"100\", \"start_time\": \"2021-07-22T13:33:42.323741Z\", \"end_time\": \"2021-07-22T13:34:32.298364Z\", \"created_time\": \"2021-07-22T13:33:32.573771Z\", \"created_time_dt\": \"2021-07-22T13:33:32.573771Z\", \"duration\": \"0:00:59\", \"iteration\": \"21\", \"goal\": \"normalized_root_mean_squared_error_min\", \"run_name\": \"MaxAbsScaler, DecisionTree\", \"run_properties\": \"copy=True\", \"primary_metric\": 0.05872177, \"best_metric\": 0.03897071}, {\"run_id\": \"AutoML_0fc9eea6-09ad-40ac-9ec1-b571665bbd87_22\", \"run_number\": 27, \"metric\": null, \"status\": \"Completed\", \"run_type\": \"azureml.scriptrun\", \"training_percent\": \"100\", \"start_time\": \"2021-07-22T13:33:46.690862Z\", \"end_time\": \"2021-07-22T13:34:36.651452Z\", \"created_time\": \"2021-07-22T13:33:37.107437Z\", \"created_time_dt\": \"2021-07-22T13:33:37.107437Z\", \"duration\": \"0:00:59\", \"iteration\": \"22\", \"goal\": \"normalized_root_mean_squared_error_min\", \"run_name\": \"MaxAbsScaler, DecisionTree\", \"run_properties\": \"copy=True\", \"primary_metric\": 0.05464542, \"best_metric\": 0.03897071}, {\"run_id\": \"AutoML_0fc9eea6-09ad-40ac-9ec1-b571665bbd87_23\", \"run_number\": 28, \"metric\": null, \"status\": \"Completed\", \"run_type\": \"azureml.scriptrun\", \"training_percent\": \"100\", \"start_time\": \"2021-07-22T13:34:42.501503Z\", \"end_time\": \"2021-07-22T13:35:33.780227Z\", \"created_time\": \"2021-07-22T13:34:30.596987Z\", \"created_time_dt\": \"2021-07-22T13:34:30.596987Z\", \"duration\": \"0:01:03\", \"iteration\": \"23\", \"goal\": \"normalized_root_mean_squared_error_min\", \"run_name\": \"MaxAbsScaler, DecisionTree\", \"run_properties\": \"copy=True\", \"primary_metric\": 0.0554788, \"best_metric\": 0.03897071}, {\"run_id\": \"AutoML_0fc9eea6-09ad-40ac-9ec1-b571665bbd87_24\", \"run_number\": 29, \"metric\": null, \"status\": \"Completed\", \"run_type\": \"azureml.scriptrun\", \"training_percent\": \"100\", \"start_time\": \"2021-07-22T13:34:49.229128Z\", \"end_time\": \"2021-07-22T13:35:56.253581Z\", \"created_time\": \"2021-07-22T13:34:35.171521Z\", \"created_time_dt\": \"2021-07-22T13:34:35.171521Z\", \"duration\": \"0:01:21\", \"iteration\": \"24\", \"goal\": \"normalized_root_mean_squared_error_min\", \"run_name\": \"TruncatedSVDWrapper, XGBoostRegressor\", \"run_properties\": \"n_components=0.3068421052631579, random_state=None\", \"primary_metric\": 0.04598261, \"best_metric\": 0.03897071}, {\"run_id\": \"AutoML_0fc9eea6-09ad-40ac-9ec1-b571665bbd87_25\", \"run_number\": 30, \"metric\": null, \"status\": \"Completed\", \"run_type\": \"azureml.scriptrun\", \"training_percent\": \"100\", \"start_time\": \"2021-07-22T13:34:47.730848Z\", \"end_time\": \"2021-07-22T13:35:50.600649Z\", \"created_time\": \"2021-07-22T13:34:35.200367Z\", \"created_time_dt\": \"2021-07-22T13:34:35.200367Z\", \"duration\": \"0:01:15\", \"iteration\": \"25\", \"goal\": \"normalized_root_mean_squared_error_min\", \"run_name\": \"MaxAbsScaler, DecisionTree\", \"run_properties\": \"copy=True\", \"primary_metric\": 0.05886655, \"best_metric\": 0.03897071}, {\"run_id\": \"AutoML_0fc9eea6-09ad-40ac-9ec1-b571665bbd87_26\", \"run_number\": 31, \"metric\": null, \"status\": \"Completed\", \"run_type\": \"azureml.scriptrun\", \"training_percent\": \"100\", \"start_time\": \"2021-07-22T13:34:51.779529Z\", \"end_time\": \"2021-07-22T13:35:48.512207Z\", \"created_time\": \"2021-07-22T13:34:39.093353Z\", \"created_time_dt\": \"2021-07-22T13:34:39.093353Z\", \"duration\": \"0:01:09\", \"iteration\": \"26\", \"goal\": \"normalized_root_mean_squared_error_min\", \"run_name\": \"MaxAbsScaler, RandomForest\", \"run_properties\": \"copy=True\", \"primary_metric\": 0.0485683, \"best_metric\": 0.03897071}, {\"run_id\": \"AutoML_0fc9eea6-09ad-40ac-9ec1-b571665bbd87_27\", \"run_number\": 32, \"metric\": null, \"status\": \"Completed\", \"run_type\": \"azureml.scriptrun\", \"training_percent\": \"100\", \"start_time\": \"2021-07-22T13:35:50.072705Z\", \"end_time\": \"2021-07-22T13:36:44.733888Z\", \"created_time\": \"2021-07-22T13:35:35.741619Z\", \"created_time_dt\": \"2021-07-22T13:35:35.741619Z\", \"duration\": \"0:01:08\", \"iteration\": \"27\", \"goal\": \"normalized_root_mean_squared_error_min\", \"run_name\": \"MaxAbsScaler, DecisionTree\", \"run_properties\": \"copy=True\", \"primary_metric\": 0.0540822, \"best_metric\": 0.03897071}, {\"run_id\": \"AutoML_0fc9eea6-09ad-40ac-9ec1-b571665bbd87_28\", \"run_number\": 33, \"metric\": null, \"status\": \"Completed\", \"run_type\": \"azureml.scriptrun\", \"training_percent\": \"100\", \"start_time\": \"2021-07-22T13:36:00.198445Z\", \"end_time\": \"2021-07-22T13:36:56.068867Z\", \"created_time\": \"2021-07-22T13:35:50.42119Z\", \"created_time_dt\": \"2021-07-22T13:35:50.42119Z\", \"duration\": \"0:01:05\", \"iteration\": \"28\", \"goal\": \"normalized_root_mean_squared_error_min\", \"run_name\": \"MaxAbsScaler, DecisionTree\", \"run_properties\": \"copy=True\", \"primary_metric\": 0.05700496, \"best_metric\": 0.03897071}, {\"run_id\": \"AutoML_0fc9eea6-09ad-40ac-9ec1-b571665bbd87_29\", \"run_number\": 34, \"metric\": null, \"status\": \"Completed\", \"run_type\": \"azureml.scriptrun\", \"training_percent\": \"100\", \"start_time\": \"2021-07-22T13:36:21.852727Z\", \"end_time\": \"2021-07-22T13:37:15.234827Z\", \"created_time\": \"2021-07-22T13:35:53.694483Z\", \"created_time_dt\": \"2021-07-22T13:35:53.694483Z\", \"duration\": \"0:01:21\", \"iteration\": \"29\", \"goal\": \"normalized_root_mean_squared_error_min\", \"run_name\": \"MaxAbsScaler, DecisionTree\", \"run_properties\": \"copy=True\", \"primary_metric\": 0.06037611, \"best_metric\": 0.03897071}, {\"run_id\": \"AutoML_0fc9eea6-09ad-40ac-9ec1-b571665bbd87_30\", \"run_number\": 35, \"metric\": null, \"status\": \"Completed\", \"run_type\": \"azureml.scriptrun\", \"training_percent\": \"100\", \"start_time\": \"2021-07-22T13:36:11.207775Z\", \"end_time\": \"2021-07-22T13:37:27.130114Z\", \"created_time\": \"2021-07-22T13:35:59.30105Z\", \"created_time_dt\": \"2021-07-22T13:35:59.30105Z\", \"duration\": \"0:01:27\", \"iteration\": \"30\", \"goal\": \"normalized_root_mean_squared_error_min\", \"run_name\": \"SparseNormalizer, XGBoostRegressor\", \"run_properties\": \"copy=True, norm='l1'\", \"primary_metric\": 0.04107854, \"best_metric\": 0.03897071}, {\"run_id\": \"AutoML_0fc9eea6-09ad-40ac-9ec1-b571665bbd87_31\", \"run_number\": 36, \"metric\": null, \"status\": \"Completed\", \"run_type\": \"azureml.scriptrun\", \"training_percent\": \"100\", \"start_time\": \"2021-07-22T13:36:59.132175Z\", \"end_time\": \"2021-07-22T13:37:49.917219Z\", \"created_time\": \"2021-07-22T13:36:46.765115Z\", \"created_time_dt\": \"2021-07-22T13:36:46.765115Z\", \"duration\": \"0:01:03\", \"iteration\": \"31\", \"goal\": \"normalized_root_mean_squared_error_min\", \"run_name\": \"MaxAbsScaler, DecisionTree\", \"run_properties\": \"copy=True\", \"primary_metric\": 0.05684602, \"best_metric\": 0.03897071}, {\"run_id\": \"AutoML_0fc9eea6-09ad-40ac-9ec1-b571665bbd87_32\", \"run_number\": 37, \"metric\": null, \"status\": \"Completed\", \"run_type\": \"azureml.scriptrun\", \"training_percent\": \"100\", \"start_time\": \"2021-07-22T13:37:10.530428Z\", \"end_time\": \"2021-07-22T13:38:01.338903Z\", \"created_time\": \"2021-07-22T13:36:58.299811Z\", \"created_time_dt\": \"2021-07-22T13:36:58.299811Z\", \"duration\": \"0:01:03\", \"iteration\": \"32\", \"goal\": \"normalized_root_mean_squared_error_min\", \"run_name\": \"MaxAbsScaler, DecisionTree\", \"run_properties\": \"copy=True\", \"primary_metric\": 0.05389966, \"best_metric\": 0.03897071}, {\"run_id\": \"AutoML_0fc9eea6-09ad-40ac-9ec1-b571665bbd87_33\", \"run_number\": 38, \"metric\": null, \"status\": \"Canceled\", \"run_type\": \"azureml.scriptrun\", \"training_percent\": \"100\", \"start_time\": \"2021-07-22T13:37:29.239098Z\", \"end_time\": \"2021-07-22T13:38:07.56361Z\", \"created_time\": \"2021-07-22T13:37:17.188373Z\", \"created_time_dt\": \"2021-07-22T13:37:17.188373Z\", \"duration\": \"0:00:50\", \"iteration\": \"33\", \"goal\": \"normalized_root_mean_squared_error_min\", \"run_name\": \"MaxAbsScaler, DecisionTree\", \"run_properties\": \"copy=True\", \"primary_metric\": 0.05806454, \"best_metric\": 0.03897071}, {\"run_id\": \"AutoML_0fc9eea6-09ad-40ac-9ec1-b571665bbd87_34\", \"run_number\": 39, \"metric\": null, \"status\": \"Canceled\", \"run_type\": \"azureml.scriptrun\", \"training_percent\": \"100\", \"start_time\": \"2021-07-22T13:37:41.667902Z\", \"end_time\": \"2021-07-22T13:38:07.74841Z\", \"created_time\": \"2021-07-22T13:37:29.153987Z\", \"created_time_dt\": \"2021-07-22T13:37:29.153987Z\", \"duration\": \"0:00:38\", \"iteration\": \"34\", \"goal\": null, \"run_name\": \"StandardScalerWrapper, RandomForest\", \"run_properties\": null}, {\"run_id\": \"AutoML_0fc9eea6-09ad-40ac-9ec1-b571665bbd87_35\", \"run_number\": 40, \"metric\": null, \"status\": \"Canceled\", \"run_type\": \"azureml.scriptrun\", \"training_percent\": \"100\", \"start_time\": \"2021-07-22T13:37:52.942208Z\", \"end_time\": \"2021-07-22T13:38:07.622277Z\", \"created_time\": \"2021-07-22T13:37:52.942208Z\", \"created_time_dt\": \"2021-07-22T13:37:52.942208Z\", \"duration\": \"0:00:14\", \"iteration\": \"35\", \"goal\": null, \"run_name\": \"Canceled\", \"run_properties\": null}, {\"run_id\": \"AutoML_0fc9eea6-09ad-40ac-9ec1-b571665bbd87_36\", \"run_number\": 41, \"metric\": null, \"status\": \"Completed\", \"run_type\": \"azureml.scriptrun\", \"training_percent\": \"100\", \"start_time\": \"2021-07-22T13:38:16.929092Z\", \"end_time\": \"2021-07-22T13:39:09.038234Z\", \"created_time\": \"2021-07-22T13:38:08.52066Z\", \"created_time_dt\": \"2021-07-22T13:38:08.52066Z\", \"duration\": \"0:01:00\", \"iteration\": \"36\", \"goal\": \"normalized_root_mean_squared_error_min\", \"run_name\": \"VotingEnsemble\", \"run_properties\": \"\\n    estimators=[('1', Pipeline(memory=None,\\n             steps=[('maxabsscaler', MaxAbsScaler(copy=True\", \"primary_metric\": 0.03701877, \"best_metric\": 0.03701877}, {\"run_id\": \"AutoML_0fc9eea6-09ad-40ac-9ec1-b571665bbd87_37\", \"run_number\": 42, \"metric\": null, \"status\": \"Completed\", \"run_type\": \"azureml.scriptrun\", \"training_percent\": \"100\", \"start_time\": \"2021-07-22T13:38:15.978233Z\", \"end_time\": \"2021-07-22T13:39:10.974703Z\", \"created_time\": \"2021-07-22T13:38:08.536838Z\", \"created_time_dt\": \"2021-07-22T13:38:08.536838Z\", \"duration\": \"0:01:02\", \"iteration\": \"37\", \"goal\": \"normalized_root_mean_squared_error_min\", \"run_name\": \"StackEnsemble\", \"run_properties\": \"\\n    base_learners=[('1', Pipeline(memory=None,\\n             steps=[('maxabsscaler', MaxAbsScaler(copy=True\", \"primary_metric\": 0.03845196, \"best_metric\": 0.03701877}], \"children_metrics\": {\"categories\": [0], \"series\": {\"mean_absolute_percentage_error\": [{\"categories\": [\"0\", \"1\", \"2\", \"3\", \"4\", \"5\", \"6\", \"7\", \"8\", \"9\", \"10\", \"11\", \"12\", \"13\", \"14\", \"15\", \"16\", \"17\", \"18\", \"19\", \"20\", \"21\", \"22\", \"23\", \"24\", \"25\", \"26\", \"27\", \"28\", \"29\", \"30\", \"31\", \"32\", \"33\", \"36\", \"37\"], \"mode\": \"markers\", \"name\": \"mean_absolute_percentage_error\", \"stepped\": false, \"type\": \"scatter\", \"data\": [10.229247490456745, 10.108447462934123, 11.175484307722158, 16.514578356350622, 11.150207510417493, 15.441917889686911, 15.135317892777783, 15.444184229659081, 16.515624356184503, 15.375571747056071, 15.596806232029811, 15.467855781945142, 17.34810822732489, 15.684632844613931, 17.66452375874577, 17.926493380747733, 11.68459613136645, 15.386283834891161, 17.370608039233556, 16.77537668429595, 11.62025536320524, 16.050358846845036, 15.395930408301743, 14.981447323025519, 12.286591791366847, 15.631232654495555, 12.884624685669216, 14.88497341050783, 15.64083767351251, 16.26233672477772, 10.78246093050653, 15.401855897761456, 14.938595412475982, 15.632992242530037, 9.189548385041606, 9.422472795266877]}, {\"categories\": [\"0\", \"1\", \"2\", \"3\", \"4\", \"5\", \"6\", \"7\", \"8\", \"9\", \"10\", \"11\", \"12\", \"13\", \"14\", \"15\", \"16\", \"17\", \"18\", \"19\", \"20\", \"21\", \"22\", \"23\", \"24\", \"25\", \"26\", \"27\", \"28\", \"29\", \"30\", \"31\", \"32\", \"33\", \"36\", \"37\"], \"mode\": \"lines\", \"name\": \"mean_absolute_percentage_error_min\", \"stepped\": true, \"type\": \"scatter\", \"data\": [10.229247490456745, 10.108447462934123, 10.108447462934123, 10.108447462934123, 10.108447462934123, 10.108447462934123, 10.108447462934123, 10.108447462934123, 10.108447462934123, 10.108447462934123, 10.108447462934123, 10.108447462934123, 10.108447462934123, 10.108447462934123, 10.108447462934123, 10.108447462934123, 10.108447462934123, 10.108447462934123, 10.108447462934123, 10.108447462934123, 10.108447462934123, 10.108447462934123, 10.108447462934123, 10.108447462934123, 10.108447462934123, 10.108447462934123, 10.108447462934123, 10.108447462934123, 10.108447462934123, 10.108447462934123, 10.108447462934123, 10.108447462934123, 10.108447462934123, 10.108447462934123, 9.189548385041606, 9.189548385041606]}], \"r2_score\": [{\"categories\": [\"0\", \"1\", \"2\", \"3\", \"4\", \"5\", \"6\", \"7\", \"8\", \"9\", \"10\", \"11\", \"12\", \"13\", \"14\", \"15\", \"16\", \"17\", \"18\", \"19\", \"20\", \"21\", \"22\", \"23\", \"24\", \"25\", \"26\", \"27\", \"28\", \"29\", \"30\", \"31\", \"32\", \"33\", \"36\", \"37\"], \"mode\": \"markers\", \"name\": \"r2_score\", \"stepped\": false, \"type\": \"scatter\", \"data\": [0.8643954660074881, 0.8739587833584906, 0.7936161910770899, 0.7001314937013766, 0.812682718949883, 0.7405090721664905, 0.7612838983611305, 0.7341364492687651, 0.6977462329332548, 0.7559255478909271, 0.7293949651649534, 0.7209759347412324, 0.6893279075400986, 0.7261311356165607, 0.650592333202072, 0.6435075257576982, 0.8307112469765041, 0.7354050486454015, 0.6575404543338991, 0.6854710448558669, 0.8390361825374035, 0.7156065961221825, 0.7532799636837493, 0.7441469470042167, 0.8252647917926059, 0.7121677287878265, 0.8049716878278667, 0.7564344035845235, 0.7320137449376461, 0.6989863565024997, 0.8606563552661614, 0.7331914620332499, 0.7602948785083274, 0.7215944297751831, 0.8867183587869617, 0.8778429315395154]}, {\"categories\": [\"0\", \"1\", \"2\", \"3\", \"4\", \"5\", \"6\", \"7\", \"8\", \"9\", \"10\", \"11\", \"12\", \"13\", \"14\", \"15\", \"16\", \"17\", \"18\", \"19\", \"20\", \"21\", \"22\", \"23\", \"24\", \"25\", \"26\", \"27\", \"28\", \"29\", \"30\", \"31\", \"32\", \"33\", \"36\", \"37\"], \"mode\": \"lines\", \"name\": \"r2_score_max\", \"stepped\": true, \"type\": \"scatter\", \"data\": [0.8643954660074881, 0.8739587833584906, 0.8739587833584906, 0.8739587833584906, 0.8739587833584906, 0.8739587833584906, 0.8739587833584906, 0.8739587833584906, 0.8739587833584906, 0.8739587833584906, 0.8739587833584906, 0.8739587833584906, 0.8739587833584906, 0.8739587833584906, 0.8739587833584906, 0.8739587833584906, 0.8739587833584906, 0.8739587833584906, 0.8739587833584906, 0.8739587833584906, 0.8739587833584906, 0.8739587833584906, 0.8739587833584906, 0.8739587833584906, 0.8739587833584906, 0.8739587833584906, 0.8739587833584906, 0.8739587833584906, 0.8739587833584906, 0.8739587833584906, 0.8739587833584906, 0.8739587833584906, 0.8739587833584906, 0.8739587833584906, 0.8867183587869617, 0.8867183587869617]}], \"mean_absolute_error\": [{\"categories\": [\"0\", \"1\", \"2\", \"3\", \"4\", \"5\", \"6\", \"7\", \"8\", \"9\", \"10\", \"11\", \"12\", \"13\", \"14\", \"15\", \"16\", \"17\", \"18\", \"19\", \"20\", \"21\", \"22\", \"23\", \"24\", \"25\", \"26\", \"27\", \"28\", \"29\", \"30\", \"31\", \"32\", \"33\", \"36\", \"37\"], \"mode\": \"markers\", \"name\": \"mean_absolute_error\", \"stepped\": false, \"type\": \"scatter\", \"data\": [17557.716473351935, 17170.498542358964, 18554.7270093085, 27983.548677795916, 18615.98374828068, 25931.326975326036, 25467.799770380643, 26071.765430234645, 28128.57996354853, 25950.77619453617, 26636.15303045226, 26702.02676282011, 28946.582585811746, 26589.720517543425, 30051.84502992376, 30562.92574000214, 19331.02386615967, 26208.865292276616, 29647.56280173825, 28496.230601990494, 19302.419347916344, 27333.394631359395, 26028.967143992773, 25444.001001249, 20502.642406728755, 26880.46291017772, 21644.2267322187, 25677.06138026129, 26545.323350676335, 27865.30649196879, 18051.875650942642, 25948.49909638966, 25681.521311271197, 26906.87834467058, 15499.061897102598, 15943.191143570404]}, {\"categories\": [\"0\", \"1\", \"2\", \"3\", \"4\", \"5\", \"6\", \"7\", \"8\", \"9\", \"10\", \"11\", \"12\", \"13\", \"14\", \"15\", \"16\", \"17\", \"18\", \"19\", \"20\", \"21\", \"22\", \"23\", \"24\", \"25\", \"26\", \"27\", \"28\", \"29\", \"30\", \"31\", \"32\", \"33\", \"36\", \"37\"], \"mode\": \"lines\", \"name\": \"mean_absolute_error_min\", \"stepped\": true, \"type\": \"scatter\", \"data\": [17557.716473351935, 17170.498542358964, 17170.498542358964, 17170.498542358964, 17170.498542358964, 17170.498542358964, 17170.498542358964, 17170.498542358964, 17170.498542358964, 17170.498542358964, 17170.498542358964, 17170.498542358964, 17170.498542358964, 17170.498542358964, 17170.498542358964, 17170.498542358964, 17170.498542358964, 17170.498542358964, 17170.498542358964, 17170.498542358964, 17170.498542358964, 17170.498542358964, 17170.498542358964, 17170.498542358964, 17170.498542358964, 17170.498542358964, 17170.498542358964, 17170.498542358964, 17170.498542358964, 17170.498542358964, 17170.498542358964, 17170.498542358964, 17170.498542358964, 17170.498542358964, 15499.061897102598, 15499.061897102598]}], \"normalized_median_absolute_error\": [{\"categories\": [\"0\", \"1\", \"2\", \"3\", \"4\", \"5\", \"6\", \"7\", \"8\", \"9\", \"10\", \"11\", \"12\", \"13\", \"14\", \"15\", \"16\", \"17\", \"18\", \"19\", \"20\", \"21\", \"22\", \"23\", \"24\", \"25\", \"26\", \"27\", \"28\", \"29\", \"30\", \"31\", \"32\", \"33\", \"36\", \"37\"], \"mode\": \"markers\", \"name\": \"normalized_median_absolute_error\", \"stepped\": false, \"type\": \"scatter\", \"data\": [0.015485852192053952, 0.01569074607693376, 0.016745754868732976, 0.02487457960423316, 0.016656880685055758, 0.024008453541116487, 0.02287096368890564, 0.023561246637555475, 0.025595823513130403, 0.0240637595443178, 0.025170373763624698, 0.024249641253529602, 0.025927117089153278, 0.024768622303339705, 0.02660913973642824, 0.028305832754316158, 0.0182420078654488, 0.02312446683992303, 0.02643952105494506, 0.024991607235452212, 0.017926531980481303, 0.025162552736974982, 0.024599353017281094, 0.022523235676408862, 0.019697875439753737, 0.023809996219639935, 0.0194708314741416, 0.023419415221942647, 0.024480354981194444, 0.02499984454847744, 0.016042648518145627, 0.02313451835393232, 0.024111116254429677, 0.024542406753471187, 0.013465465887762413, 0.014327553152447508]}, {\"categories\": [\"0\", \"1\", \"2\", \"3\", \"4\", \"5\", \"6\", \"7\", \"8\", \"9\", \"10\", \"11\", \"12\", \"13\", \"14\", \"15\", \"16\", \"17\", \"18\", \"19\", \"20\", \"21\", \"22\", \"23\", \"24\", \"25\", \"26\", \"27\", \"28\", \"29\", \"30\", \"31\", \"32\", \"33\", \"36\", \"37\"], \"mode\": \"lines\", \"name\": \"normalized_median_absolute_error_min\", \"stepped\": true, \"type\": \"scatter\", \"data\": [0.015485852192053952, 0.015485852192053952, 0.015485852192053952, 0.015485852192053952, 0.015485852192053952, 0.015485852192053952, 0.015485852192053952, 0.015485852192053952, 0.015485852192053952, 0.015485852192053952, 0.015485852192053952, 0.015485852192053952, 0.015485852192053952, 0.015485852192053952, 0.015485852192053952, 0.015485852192053952, 0.015485852192053952, 0.015485852192053952, 0.015485852192053952, 0.015485852192053952, 0.015485852192053952, 0.015485852192053952, 0.015485852192053952, 0.015485852192053952, 0.015485852192053952, 0.015485852192053952, 0.015485852192053952, 0.015485852192053952, 0.015485852192053952, 0.015485852192053952, 0.015485852192053952, 0.015485852192053952, 0.015485852192053952, 0.015485852192053952, 0.013465465887762413, 0.013465465887762413]}], \"spearman_correlation\": [{\"categories\": [\"0\", \"1\", \"2\", \"3\", \"4\", \"5\", \"6\", \"7\", \"8\", \"9\", \"10\", \"11\", \"12\", \"13\", \"14\", \"15\", \"16\", \"17\", \"18\", \"19\", \"20\", \"21\", \"22\", \"23\", \"24\", \"25\", \"26\", \"27\", \"28\", \"29\", \"30\", \"31\", \"32\", \"33\", \"36\", \"37\"], \"mode\": \"markers\", \"name\": \"spearman_correlation\", \"stepped\": false, \"type\": \"scatter\", \"data\": [0.9428867695955215, 0.9467995056068262, 0.931765273340419, 0.8565578072584951, 0.9375381594452099, 0.8732241161402584, 0.8818817586273141, 0.8740436790403896, 0.8509815175606411, 0.8686212499604036, 0.870744175458798, 0.8710405113487957, 0.8355119940525405, 0.8685158261553668, 0.8337135584514884, 0.8331840262697057, 0.9366989831739212, 0.8796676790457058, 0.8421228891810989, 0.8554955991322136, 0.936061383037336, 0.8682347371391853, 0.8749108704865236, 0.8791587102195453, 0.9229432797150153, 0.8788766067238023, 0.9142453892042438, 0.88182012728675, 0.8692432740746535, 0.8601701260288305, 0.9389168321466631, 0.8765108930521092, 0.88308828921432, 0.8727450757136174, 0.956256808492198, 0.9546456391562298]}, {\"categories\": [\"0\", \"1\", \"2\", \"3\", \"4\", \"5\", \"6\", \"7\", \"8\", \"9\", \"10\", \"11\", \"12\", \"13\", \"14\", \"15\", \"16\", \"17\", \"18\", \"19\", \"20\", \"21\", \"22\", \"23\", \"24\", \"25\", \"26\", \"27\", \"28\", \"29\", \"30\", \"31\", \"32\", \"33\", \"36\", \"37\"], \"mode\": \"lines\", \"name\": \"spearman_correlation_max\", \"stepped\": true, \"type\": \"scatter\", \"data\": [0.9428867695955215, 0.9467995056068262, 0.9467995056068262, 0.9467995056068262, 0.9467995056068262, 0.9467995056068262, 0.9467995056068262, 0.9467995056068262, 0.9467995056068262, 0.9467995056068262, 0.9467995056068262, 0.9467995056068262, 0.9467995056068262, 0.9467995056068262, 0.9467995056068262, 0.9467995056068262, 0.9467995056068262, 0.9467995056068262, 0.9467995056068262, 0.9467995056068262, 0.9467995056068262, 0.9467995056068262, 0.9467995056068262, 0.9467995056068262, 0.9467995056068262, 0.9467995056068262, 0.9467995056068262, 0.9467995056068262, 0.9467995056068262, 0.9467995056068262, 0.9467995056068262, 0.9467995056068262, 0.9467995056068262, 0.9467995056068262, 0.956256808492198, 0.956256808492198]}], \"explained_variance\": [{\"categories\": [\"0\", \"1\", \"2\", \"3\", \"4\", \"5\", \"6\", \"7\", \"8\", \"9\", \"10\", \"11\", \"12\", \"13\", \"14\", \"15\", \"16\", \"17\", \"18\", \"19\", \"20\", \"21\", \"22\", \"23\", \"24\", \"25\", \"26\", \"27\", \"28\", \"29\", \"30\", \"31\", \"32\", \"33\", \"36\", \"37\"], \"mode\": \"markers\", \"name\": \"explained_variance\", \"stepped\": false, \"type\": \"scatter\", \"data\": [0.8646384100844031, 0.8742346791745588, 0.7942342741283129, 0.7021808837667801, 0.8131949978180789, 0.7418895083655251, 0.7631872796237656, 0.7348425242384717, 0.6994558714328735, 0.7567976859407682, 0.7295923787703266, 0.7223573816956511, 0.690900255999925, 0.7263950288153455, 0.6534325423997235, 0.6444201530702504, 0.8320557037259265, 0.7385838206111935, 0.6602200853539375, 0.6875998938945168, 0.8397105174840357, 0.7165694804147758, 0.754883740042577, 0.7456487810658524, 0.8253323059378218, 0.7135174186472991, 0.805806314702294, 0.7591832106367464, 0.733736787408987, 0.7005568109061081, 0.8608571790568998, 0.7343620119166535, 0.7608713784061146, 0.7229379085937714, 0.8868079393249927, 0.8780968287686921]}, {\"categories\": [\"0\", \"1\", \"2\", \"3\", \"4\", \"5\", \"6\", \"7\", \"8\", \"9\", \"10\", \"11\", \"12\", \"13\", \"14\", \"15\", \"16\", \"17\", \"18\", \"19\", \"20\", \"21\", \"22\", \"23\", \"24\", \"25\", \"26\", \"27\", \"28\", \"29\", \"30\", \"31\", \"32\", \"33\", \"36\", \"37\"], \"mode\": \"lines\", \"name\": \"explained_variance_max\", \"stepped\": true, \"type\": \"scatter\", \"data\": [0.8646384100844031, 0.8742346791745588, 0.8742346791745588, 0.8742346791745588, 0.8742346791745588, 0.8742346791745588, 0.8742346791745588, 0.8742346791745588, 0.8742346791745588, 0.8742346791745588, 0.8742346791745588, 0.8742346791745588, 0.8742346791745588, 0.8742346791745588, 0.8742346791745588, 0.8742346791745588, 0.8742346791745588, 0.8742346791745588, 0.8742346791745588, 0.8742346791745588, 0.8742346791745588, 0.8742346791745588, 0.8742346791745588, 0.8742346791745588, 0.8742346791745588, 0.8742346791745588, 0.8742346791745588, 0.8742346791745588, 0.8742346791745588, 0.8742346791745588, 0.8742346791745588, 0.8742346791745588, 0.8742346791745588, 0.8742346791745588, 0.8868079393249927, 0.8868079393249927]}], \"root_mean_squared_error\": [{\"categories\": [\"0\", \"1\", \"2\", \"3\", \"4\", \"5\", \"6\", \"7\", \"8\", \"9\", \"10\", \"11\", \"12\", \"13\", \"14\", \"15\", \"16\", \"17\", \"18\", \"19\", \"20\", \"21\", \"22\", \"23\", \"24\", \"25\", \"26\", \"27\", \"28\", \"29\", \"30\", \"31\", \"32\", \"33\", \"36\", \"37\"], \"mode\": \"markers\", \"name\": \"root_mean_squared_error\", \"stepped\": false, \"type\": \"scatter\", \"data\": [29147.82741174703, 28062.809393126237, 35836.70609250275, 43445.41262393541, 34178.67587956946, 40407.64513008034, 38740.98701599565, 40889.23797859726, 43614.3949512394, 39166.80732364535, 41164.417373776574, 41762.92284567369, 44195.8596385062, 41526.04029010786, 46902.594947818325, 47357.71140354234, 32647.858488356742, 40599.358565162314, 46430.614632692246, 44491.51735727487, 31848.789895638503, 42285.54748118421, 39350.16864618513, 39950.28733645136, 33112.081026954394, 42389.80274859347, 34974.03197232238, 38944.59249792816, 41049.272503735585, 43476.836397119405, 29580.65591198263, 40934.821352279214, 38813.141955509236, 41812.27780342829, 26657.21532477124, 27689.254779918192]}, {\"categories\": [\"0\", \"1\", \"2\", \"3\", \"4\", \"5\", \"6\", \"7\", \"8\", \"9\", \"10\", \"11\", \"12\", \"13\", \"14\", \"15\", \"16\", \"17\", \"18\", \"19\", \"20\", \"21\", \"22\", \"23\", \"24\", \"25\", \"26\", \"27\", \"28\", \"29\", \"30\", \"31\", \"32\", \"33\", \"36\", \"37\"], \"mode\": \"lines\", \"name\": \"root_mean_squared_error_min\", \"stepped\": true, \"type\": \"scatter\", \"data\": [29147.82741174703, 28062.809393126237, 28062.809393126237, 28062.809393126237, 28062.809393126237, 28062.809393126237, 28062.809393126237, 28062.809393126237, 28062.809393126237, 28062.809393126237, 28062.809393126237, 28062.809393126237, 28062.809393126237, 28062.809393126237, 28062.809393126237, 28062.809393126237, 28062.809393126237, 28062.809393126237, 28062.809393126237, 28062.809393126237, 28062.809393126237, 28062.809393126237, 28062.809393126237, 28062.809393126237, 28062.809393126237, 28062.809393126237, 28062.809393126237, 28062.809393126237, 28062.809393126237, 28062.809393126237, 28062.809393126237, 28062.809393126237, 28062.809393126237, 28062.809393126237, 26657.21532477124, 26657.21532477124]}], \"normalized_root_mean_squared_error\": [{\"categories\": [\"0\", \"1\", \"2\", \"3\", \"4\", \"5\", \"6\", \"7\", \"8\", \"9\", \"10\", \"11\", \"12\", \"13\", \"14\", \"15\", \"16\", \"17\", \"18\", \"19\", \"20\", \"21\", \"22\", \"23\", \"24\", \"25\", \"26\", \"27\", \"28\", \"29\", \"30\", \"31\", \"32\", \"33\", \"36\", \"37\"], \"mode\": \"markers\", \"name\": \"normalized_root_mean_squared_error\", \"stepped\": false, \"type\": \"scatter\", \"data\": [0.04047747175634916, 0.03897071155829223, 0.04976629092140362, 0.060332471356666306, 0.04746379097287801, 0.056113935745146976, 0.05379945426467942, 0.05678272181446641, 0.06056713644110456, 0.05439078922878121, 0.057164862343808596, 0.05799600450725411, 0.06137461413485099, 0.057667046646448915, 0.06513344667104337, 0.06576546507921445, 0.045337950962861744, 0.05638016742836039, 0.0644780094885325, 0.061785192830544185, 0.04422828759288779, 0.058721771255637, 0.05464542236659511, 0.05547880479996023, 0.04598261495202665, 0.05886655012997288, 0.04856829880894651, 0.054082200385957735, 0.05700496112169919, 0.06037610942524566, 0.041078538969563434, 0.05684602326382337, 0.05389965554160427, 0.0580645435403809, 0.037018768677643726, 0.038451957755753635]}, {\"categories\": [\"0\", \"1\", \"2\", \"3\", \"4\", \"5\", \"6\", \"7\", \"8\", \"9\", \"10\", \"11\", \"12\", \"13\", \"14\", \"15\", \"16\", \"17\", \"18\", \"19\", \"20\", \"21\", \"22\", \"23\", \"24\", \"25\", \"26\", \"27\", \"28\", \"29\", \"30\", \"31\", \"32\", \"33\", \"36\", \"37\"], \"mode\": \"lines\", \"name\": \"normalized_root_mean_squared_error_min\", \"stepped\": true, \"type\": \"scatter\", \"data\": [0.04047747175634916, 0.03897071155829223, 0.03897071155829223, 0.03897071155829223, 0.03897071155829223, 0.03897071155829223, 0.03897071155829223, 0.03897071155829223, 0.03897071155829223, 0.03897071155829223, 0.03897071155829223, 0.03897071155829223, 0.03897071155829223, 0.03897071155829223, 0.03897071155829223, 0.03897071155829223, 0.03897071155829223, 0.03897071155829223, 0.03897071155829223, 0.03897071155829223, 0.03897071155829223, 0.03897071155829223, 0.03897071155829223, 0.03897071155829223, 0.03897071155829223, 0.03897071155829223, 0.03897071155829223, 0.03897071155829223, 0.03897071155829223, 0.03897071155829223, 0.03897071155829223, 0.03897071155829223, 0.03897071155829223, 0.03897071155829223, 0.037018768677643726, 0.037018768677643726]}], \"median_absolute_error\": [{\"categories\": [\"0\", \"1\", \"2\", \"3\", \"4\", \"5\", \"6\", \"7\", \"8\", \"9\", \"10\", \"11\", \"12\", \"13\", \"14\", \"15\", \"16\", \"17\", \"18\", \"19\", \"20\", \"21\", \"22\", \"23\", \"24\", \"25\", \"26\", \"27\", \"28\", \"29\", \"30\", \"31\", \"32\", \"33\", \"36\", \"37\"], \"mode\": \"markers\", \"name\": \"median_absolute_error\", \"stepped\": false, \"type\": \"scatter\", \"data\": [11151.362163498052, 11298.90625, 12058.618080974615, 17912.1847730083, 11994.619781308653, 17288.48739495798, 16469.38095238095, 16966.453703703697, 18431.552511805203, 17328.313247863247, 18125.186147186145, 17462.166666666668, 18670.117015899275, 17835.884920634922, 19161.241524201978, 20383.030166383065, 13136.06986390968, 16651.928571428572, 19039.09911166594, 17996.456370249136, 12908.895679144587, 18119.554225895685, 17713.994107744114, 16218.98201058202, 14184.440104166666, 17145.578277762717, 14020.945744529366, 16864.3209013209, 17628.303621958123, 18002.388059358607, 11552.311197916666, 16659.166666666664, 17362.414814814812, 17672.9871031746, 9696.481985777713, 10317.271025077449]}, {\"categories\": [\"0\", \"1\", \"2\", \"3\", \"4\", \"5\", \"6\", \"7\", \"8\", \"9\", \"10\", \"11\", \"12\", \"13\", \"14\", \"15\", \"16\", \"17\", \"18\", \"19\", \"20\", \"21\", \"22\", \"23\", \"24\", \"25\", \"26\", \"27\", \"28\", \"29\", \"30\", \"31\", \"32\", \"33\", \"36\", \"37\"], \"mode\": \"lines\", \"name\": \"median_absolute_error_min\", \"stepped\": true, \"type\": \"scatter\", \"data\": [11151.362163498052, 11151.362163498052, 11151.362163498052, 11151.362163498052, 11151.362163498052, 11151.362163498052, 11151.362163498052, 11151.362163498052, 11151.362163498052, 11151.362163498052, 11151.362163498052, 11151.362163498052, 11151.362163498052, 11151.362163498052, 11151.362163498052, 11151.362163498052, 11151.362163498052, 11151.362163498052, 11151.362163498052, 11151.362163498052, 11151.362163498052, 11151.362163498052, 11151.362163498052, 11151.362163498052, 11151.362163498052, 11151.362163498052, 11151.362163498052, 11151.362163498052, 11151.362163498052, 11151.362163498052, 11151.362163498052, 11151.362163498052, 11151.362163498052, 11151.362163498052, 9696.481985777713, 9696.481985777713]}], \"normalized_root_mean_squared_log_error\": [{\"categories\": [\"0\", \"1\", \"2\", \"3\", \"4\", \"5\", \"6\", \"7\", \"8\", \"9\", \"10\", \"11\", \"12\", \"13\", \"14\", \"15\", \"16\", \"17\", \"18\", \"19\", \"20\", \"21\", \"22\", \"23\", \"24\", \"25\", \"26\", \"27\", \"28\", \"29\", \"30\", \"31\", \"32\", \"33\", \"36\", \"37\"], \"mode\": \"markers\", \"name\": \"normalized_root_mean_squared_log_error\", \"stepped\": false, \"type\": \"scatter\", \"data\": [0.047330492627860654, 0.04570688616609975, 0.05536878472566231, 0.07087386357565319, 0.055444103799270804, 0.06720860828161941, 0.06551350405934937, 0.06726079545752021, 0.07004038872235153, 0.06625985321741223, 0.06684587579332361, 0.06740680637037415, 0.07358420914983714, 0.06786338633318782, 0.07504885506024074, 0.07565148098164991, 0.05401143624002499, 0.06716743577933282, 0.07371261444884898, 0.07181429673537865, 0.052658309722430414, 0.06854025709459981, 0.06651090824329907, 0.06518568973089921, 0.054400639840845706, 0.06733089597083532, 0.05771099724555571, 0.06364258302862429, 0.06714118456421418, 0.06969230674504188, 0.049618215181279825, 0.06776615461066147, 0.06413815367777491, 0.06700589500974229, 0.04316913222805933, 0.04383477392107235]}, {\"categories\": [\"0\", \"1\", \"2\", \"3\", \"4\", \"5\", \"6\", \"7\", \"8\", \"9\", \"10\", \"11\", \"12\", \"13\", \"14\", \"15\", \"16\", \"17\", \"18\", \"19\", \"20\", \"21\", \"22\", \"23\", \"24\", \"25\", \"26\", \"27\", \"28\", \"29\", \"30\", \"31\", \"32\", \"33\", \"36\", \"37\"], \"mode\": \"lines\", \"name\": \"normalized_root_mean_squared_log_error_min\", \"stepped\": true, \"type\": \"scatter\", \"data\": [0.047330492627860654, 0.04570688616609975, 0.04570688616609975, 0.04570688616609975, 0.04570688616609975, 0.04570688616609975, 0.04570688616609975, 0.04570688616609975, 0.04570688616609975, 0.04570688616609975, 0.04570688616609975, 0.04570688616609975, 0.04570688616609975, 0.04570688616609975, 0.04570688616609975, 0.04570688616609975, 0.04570688616609975, 0.04570688616609975, 0.04570688616609975, 0.04570688616609975, 0.04570688616609975, 0.04570688616609975, 0.04570688616609975, 0.04570688616609975, 0.04570688616609975, 0.04570688616609975, 0.04570688616609975, 0.04570688616609975, 0.04570688616609975, 0.04570688616609975, 0.04570688616609975, 0.04570688616609975, 0.04570688616609975, 0.04570688616609975, 0.04316913222805933, 0.04316913222805933]}], \"root_mean_squared_log_error\": [{\"categories\": [\"0\", \"1\", \"2\", \"3\", \"4\", \"5\", \"6\", \"7\", \"8\", \"9\", \"10\", \"11\", \"12\", \"13\", \"14\", \"15\", \"16\", \"17\", \"18\", \"19\", \"20\", \"21\", \"22\", \"23\", \"24\", \"25\", \"26\", \"27\", \"28\", \"29\", \"30\", \"31\", \"32\", \"33\", \"36\", \"37\"], \"mode\": \"markers\", \"name\": \"root_mean_squared_log_error\", \"stepped\": false, \"type\": \"scatter\", \"data\": [0.1455035704315329, 0.14051227361534765, 0.17021491686939444, 0.21788068595898383, 0.17044646303600205, 0.20661294496972005, 0.2014018494813821, 0.20677337897331283, 0.21531841457140688, 0.20369627874373022, 0.2054978314513899, 0.20722224624602972, 0.22621284005777573, 0.2086258660075908, 0.23071545977604627, 0.23256805454806886, 0.16604215127971603, 0.20648637231531305, 0.2266075840891859, 0.22077176895632653, 0.1618823648793585, 0.2107067045334121, 0.2044680730060154, 0.20039408149546348, 0.1672386423872455, 0.2069888822231232, 0.17741535501047814, 0.19565025732901767, 0.20640567073550994, 0.21424833970657, 0.15253649532197214, 0.20832695589697714, 0.19717374239855703, 0.20598976310123854, 0.13271070134427843, 0.13475701942769666]}, {\"categories\": [\"0\", \"1\", \"2\", \"3\", \"4\", \"5\", \"6\", \"7\", \"8\", \"9\", \"10\", \"11\", \"12\", \"13\", \"14\", \"15\", \"16\", \"17\", \"18\", \"19\", \"20\", \"21\", \"22\", \"23\", \"24\", \"25\", \"26\", \"27\", \"28\", \"29\", \"30\", \"31\", \"32\", \"33\", \"36\", \"37\"], \"mode\": \"lines\", \"name\": \"root_mean_squared_log_error_min\", \"stepped\": true, \"type\": \"scatter\", \"data\": [0.1455035704315329, 0.14051227361534765, 0.14051227361534765, 0.14051227361534765, 0.14051227361534765, 0.14051227361534765, 0.14051227361534765, 0.14051227361534765, 0.14051227361534765, 0.14051227361534765, 0.14051227361534765, 0.14051227361534765, 0.14051227361534765, 0.14051227361534765, 0.14051227361534765, 0.14051227361534765, 0.14051227361534765, 0.14051227361534765, 0.14051227361534765, 0.14051227361534765, 0.14051227361534765, 0.14051227361534765, 0.14051227361534765, 0.14051227361534765, 0.14051227361534765, 0.14051227361534765, 0.14051227361534765, 0.14051227361534765, 0.14051227361534765, 0.14051227361534765, 0.14051227361534765, 0.14051227361534765, 0.14051227361534765, 0.14051227361534765, 0.13271070134427843, 0.13271070134427843]}], \"normalized_mean_absolute_error\": [{\"categories\": [\"0\", \"1\", \"2\", \"3\", \"4\", \"5\", \"6\", \"7\", \"8\", \"9\", \"10\", \"11\", \"12\", \"13\", \"14\", \"15\", \"16\", \"17\", \"18\", \"19\", \"20\", \"21\", \"22\", \"23\", \"24\", \"25\", \"26\", \"27\", \"28\", \"29\", \"30\", \"31\", \"32\", \"33\", \"36\", \"37\"], \"mode\": \"markers\", \"name\": \"normalized_mean_absolute_error\", \"stepped\": false, \"type\": \"scatter\", \"data\": [0.024382330889254178, 0.023844602891763596, 0.025766875446894183, 0.03886064251881116, 0.025851942436162584, 0.03601073041983895, 0.03536703203774566, 0.036205756742445, 0.03906204688730528, 0.03603773947304009, 0.03698951955346794, 0.03708099814306362, 0.04019800386864567, 0.03692503890785089, 0.041732877419696925, 0.042442613164841186, 0.026844915798027596, 0.03639614677444329, 0.04117145230070581, 0.03957260186361685, 0.026805192817548038, 0.03795777618575114, 0.03614632293291595, 0.035333982781903896, 0.02847193779576275, 0.03732879170973159, 0.03005725139872059, 0.035657632801362714, 0.03686338473917003, 0.03869644006661407, 0.025068567769674546, 0.03603457727591954, 0.035663826289780855, 0.03736547471833159, 0.02152348548410304, 0.022140245998570205]}, {\"categories\": [\"0\", \"1\", \"2\", \"3\", \"4\", \"5\", \"6\", \"7\", \"8\", \"9\", \"10\", \"11\", \"12\", \"13\", \"14\", \"15\", \"16\", \"17\", \"18\", \"19\", \"20\", \"21\", \"22\", \"23\", \"24\", \"25\", \"26\", \"27\", \"28\", \"29\", \"30\", \"31\", \"32\", \"33\", \"36\", \"37\"], \"mode\": \"lines\", \"name\": \"normalized_mean_absolute_error_min\", \"stepped\": true, \"type\": \"scatter\", \"data\": [0.024382330889254178, 0.023844602891763596, 0.023844602891763596, 0.023844602891763596, 0.023844602891763596, 0.023844602891763596, 0.023844602891763596, 0.023844602891763596, 0.023844602891763596, 0.023844602891763596, 0.023844602891763596, 0.023844602891763596, 0.023844602891763596, 0.023844602891763596, 0.023844602891763596, 0.023844602891763596, 0.023844602891763596, 0.023844602891763596, 0.023844602891763596, 0.023844602891763596, 0.023844602891763596, 0.023844602891763596, 0.023844602891763596, 0.023844602891763596, 0.023844602891763596, 0.023844602891763596, 0.023844602891763596, 0.023844602891763596, 0.023844602891763596, 0.023844602891763596, 0.023844602891763596, 0.023844602891763596, 0.023844602891763596, 0.023844602891763596, 0.02152348548410304, 0.02152348548410304]}]}, \"metricName\": null, \"primaryMetricName\": \"normalized_root_mean_squared_error\", \"showLegend\": false}, \"run_metrics\": [{\"name\": \"experiment_status\", \"run_id\": \"AutoML_0fc9eea6-09ad-40ac-9ec1-b571665bbd87\", \"categories\": [0, 1, 2, 3, 4, 5, 6, 7, 8, 9, 10, 11, 12, 13], \"series\": [{\"data\": [\"DatasetEvaluation\", \"FeaturesGeneration\", \"DatasetFeaturization\", \"DatasetFeaturizationCompleted\", \"DatasetCrossValidationSplit\", \"ModelSelection\", \"BestRunExplainModel\", \"ModelExplanationDataSetSetup\", \"PickSurrogateModel\", \"EngineeredFeatureExplanations\", \"EngineeredFeatureExplanations\", \"RawFeaturesExplanations\", \"RawFeaturesExplanations\", \"BestRunExplainModel\"]}]}, {\"name\": \"experiment_status_description\", \"run_id\": \"AutoML_0fc9eea6-09ad-40ac-9ec1-b571665bbd87\", \"categories\": [0, 1, 2, 3, 4, 5, 6, 7, 8, 9, 10, 11, 12, 13], \"series\": [{\"data\": [\"Gathering dataset statistics.\", \"Generating features for the dataset.\", \"Beginning to fit featurizers and featurize the dataset.\", \"Completed fit featurizers and featurizing the dataset.\", \"Generating individually featurized CV splits.\", \"Beginning model selection.\", \"Best run model explanations started\", \"Model explanations data setup completed\", \"Choosing LightGBM as the surrogate model for explanations\", \"Computation of engineered features started\", \"Computation of engineered features completed\", \"Computation of raw features started\", \"Computation of raw features completed\", \"Best run model explanations completed\"]}]}, {\"name\": \"normalized_root_mean_squared_error\", \"run_id\": \"AutoML_0fc9eea6-09ad-40ac-9ec1-b571665bbd87\", \"categories\": [0], \"series\": [{\"data\": [0.037018768677643726]}]}, {\"name\": \"median_absolute_error\", \"run_id\": \"AutoML_0fc9eea6-09ad-40ac-9ec1-b571665bbd87\", \"categories\": [0], \"series\": [{\"data\": [9696.481985777713]}]}, {\"name\": \"root_mean_squared_error\", \"run_id\": \"AutoML_0fc9eea6-09ad-40ac-9ec1-b571665bbd87\", \"categories\": [0], \"series\": [{\"data\": [26657.21532477124]}]}, {\"name\": \"normalized_median_absolute_error\", \"run_id\": \"AutoML_0fc9eea6-09ad-40ac-9ec1-b571665bbd87\", \"categories\": [0], \"series\": [{\"data\": [0.013465465887762413]}]}, {\"name\": \"normalized_root_mean_squared_log_error\", \"run_id\": \"AutoML_0fc9eea6-09ad-40ac-9ec1-b571665bbd87\", \"categories\": [0], \"series\": [{\"data\": [0.04316913222805933]}]}, {\"name\": \"normalized_mean_absolute_error\", \"run_id\": \"AutoML_0fc9eea6-09ad-40ac-9ec1-b571665bbd87\", \"categories\": [0], \"series\": [{\"data\": [0.02152348548410304]}]}, {\"name\": \"root_mean_squared_log_error\", \"run_id\": \"AutoML_0fc9eea6-09ad-40ac-9ec1-b571665bbd87\", \"categories\": [0], \"series\": [{\"data\": [0.13271070134427843]}]}, {\"name\": \"mean_absolute_percentage_error\", \"run_id\": \"AutoML_0fc9eea6-09ad-40ac-9ec1-b571665bbd87\", \"categories\": [0], \"series\": [{\"data\": [9.189548385041606]}]}, {\"name\": \"explained_variance\", \"run_id\": \"AutoML_0fc9eea6-09ad-40ac-9ec1-b571665bbd87\", \"categories\": [0], \"series\": [{\"data\": [0.8868079393249927]}]}, {\"name\": \"spearman_correlation\", \"run_id\": \"AutoML_0fc9eea6-09ad-40ac-9ec1-b571665bbd87\", \"categories\": [0], \"series\": [{\"data\": [0.956256808492198]}]}, {\"name\": \"mean_absolute_error\", \"run_id\": \"AutoML_0fc9eea6-09ad-40ac-9ec1-b571665bbd87\", \"categories\": [0], \"series\": [{\"data\": [15499.061897102598]}]}, {\"name\": \"r2_score\", \"run_id\": \"AutoML_0fc9eea6-09ad-40ac-9ec1-b571665bbd87\", \"categories\": [0], \"series\": [{\"data\": [0.8867183587869617]}]}], \"run_logs\": \"\\nRun is completed.\", \"graph\": {}, \"widget_settings\": {\"childWidgetDisplay\": \"popup\", \"send_telemetry\": false, \"log_level\": \"INFO\", \"sdk_version\": \"1.31.0\"}, \"loading\": false}"
     },
     "metadata": {},
     "output_type": "display_data"
    }
   ],
   "source": []
  },
  {
   "cell_type": "code",
   "execution_count": null,
   "metadata": {
    "gather": {
     "logged": 1598431121770
    },
    "jupyter": {
     "outputs_hidden": false,
     "source_hidden": false
    },
    "nteract": {
     "transient": {
      "deleting": false
     }
    }
   },
   "outputs": [],
   "source": []
  },
  {
   "cell_type": "markdown",
   "metadata": {},
   "source": [
    "## Best Model\n",
    "\n",
    "TODO: In the cell below, get the best model from the automl experiments and display all the properties of the model.\n",
    "\n"
   ]
  },
  {
   "cell_type": "code",
   "execution_count": 8,
   "metadata": {
    "gather": {
     "logged": 1598431425670
    },
    "jupyter": {
     "outputs_hidden": false,
     "source_hidden": false
    },
    "nteract": {
     "transient": {
      "deleting": false
     }
    }
   },
   "outputs": [
    {
     "name": "stderr",
     "output_type": "stream",
     "text": [
      "WARNING:root:The version of the SDK does not match the version the model was trained on.\n",
      "WARNING:root:The consistency in the result may not be guaranteed.\n",
      "WARNING:root:Package:azureml-automl-core, training version:1.32.0, current version:1.31.0\n",
      "Package:azureml-automl-runtime, training version:1.32.0, current version:1.31.0\n",
      "Package:azureml-core, training version:1.32.0, current version:1.31.0\n",
      "Package:azureml-dataset-runtime, training version:1.32.0, current version:1.31.0\n",
      "Package:azureml-defaults, training version:1.32.0, current version:1.31.0\n",
      "Package:azureml-interpret, training version:1.32.0, current version:1.31.0\n",
      "Package:azureml-mlflow, training version:1.32.0, current version:1.31.0\n",
      "Package:azureml-pipeline-core, training version:1.32.0, current version:1.31.0\n",
      "Package:azureml-telemetry, training version:1.32.0, current version:1.31.0\n",
      "Package:azureml-train-automl-client, training version:1.32.0, current version:1.31.0\n",
      "Package:azureml-train-automl-runtime, training version:1.32.0, current version:1.31.0\n",
      "WARNING:root:Please ensure the version of your local conda dependencies match the version on which your model was trained in order to properly retrieve your model.\n"
     ]
    },
    {
     "name": "stdout",
     "output_type": "stream",
     "text": [
      "Run(Experiment: Ames-housing-AutoML,\n",
      "Id: AutoML_cd63750f-df45-4803-b135-af0f23de09cd_36,\n",
      "Type: azureml.scriptrun,\n",
      "Status: Completed)\n",
      "RegressionPipeline(pipeline=Pipeline(memory=None,\n",
      "                                     steps=[('datatransformer',\n",
      "                                             DataTransformer(enable_dnn=False, enable_feature_sweeping=True, feature_sweeping_config={}, feature_sweeping_timeout=86400, featurization_config=None, force_text_dnn=False, is_cross_validation=True, is_onnx_compatible=False, observer=None, task='regression', working_dir='/mnt/batch/ta...\n",
      ")), ('elasticnet', ElasticNet(alpha=0.05357894736842105, copy_X=True, fit_intercept=True, l1_ratio=0.6352631578947369, max_iter=1000, normalize=False, positive=False, precompute=False, random_state=None, selection='cyclic', tol=0.0001, warm_start=False))], verbose=False))], weights=[0.4, 0.13333333333333333, 0.26666666666666666, 0.06666666666666667, 0.13333333333333333]))],\n",
      "                                     verbose=False),\n",
      "                   stddev=[26767.33617891325])\n"
     ]
    }
   ],
   "source": [
    "# Get your best run and save the model from that run.\n",
    "best_run, fitted_model = aml_run.get_output()\n",
    "print(best_run)\n",
    "print(fitted_model)"
   ]
  },
  {
   "cell_type": "code",
   "execution_count": 9,
   "metadata": {},
   "outputs": [
    {
     "data": {
      "text/plain": [
       "{'r2_score': 0.885898472424608,\n",
       " 'normalized_root_mean_squared_log_error': 0.042947817229549566,\n",
       " 'mean_absolute_error': 15439.116472115917,\n",
       " 'normalized_root_mean_squared_error': 0.037139291460024836,\n",
       " 'spearman_correlation': 0.9573852130501542,\n",
       " 'median_absolute_error': 9654.516791774067,\n",
       " 'root_mean_squared_error': 26744.00378036388,\n",
       " 'mean_absolute_percentage_error': 9.122770171936464,\n",
       " 'normalized_mean_absolute_error': 0.021440239511339974,\n",
       " 'explained_variance': 0.886052769069071,\n",
       " 'root_mean_squared_log_error': 0.13203033398097183,\n",
       " 'normalized_median_absolute_error': 0.013407188990104244,\n",
       " 'residuals': 'aml://artifactId/ExperimentRun/dcid.AutoML_cd63750f-df45-4803-b135-af0f23de09cd_36/residuals',\n",
       " 'predicted_true': 'aml://artifactId/ExperimentRun/dcid.AutoML_cd63750f-df45-4803-b135-af0f23de09cd_36/predicted_true'}"
      ]
     },
     "execution_count": 9,
     "metadata": {},
     "output_type": "execute_result"
    }
   ],
   "source": [
    "best_run_metrics = best_run.get_metrics()\n",
    "best_run_metrics"
   ]
  },
  {
   "cell_type": "code",
   "execution_count": 10,
   "metadata": {},
   "outputs": [],
   "source": [
    "import json\n",
    "with open('best_run_metrics.json', 'w') as file:\n",
    "    json.dump(best_run_metrics, file)\n",
    "with open('best_run_details.txt', 'w') as file:\n",
    "    file.write(str(best_run.get_details()))"
   ]
  },
  {
   "cell_type": "code",
   "execution_count": 13,
   "metadata": {},
   "outputs": [
    {
     "data": {
      "text/plain": [
       "(1459, 79)"
      ]
     },
     "execution_count": 13,
     "metadata": {},
     "output_type": "execute_result"
    }
   ],
   "source": [
    "# Test the best model accuracy in the Kaggle competition\n",
    "test = pd.read_csv('test.csv', index_col='Id')\n",
    "test.shape"
   ]
  },
  {
   "cell_type": "code",
   "execution_count": 26,
   "metadata": {},
   "outputs": [
    {
     "data": {
      "text/plain": [
       "array([124776.48048299, 160882.70997397, 186544.04940138, 189789.33383424,\n",
       "       188952.25610385, 173681.83574201, 172458.43604907, 163224.08993769,\n",
       "       187574.6388713 , 132248.48694095])"
      ]
     },
     "execution_count": 26,
     "metadata": {},
     "output_type": "execute_result"
    }
   ],
   "source": [
    "# NaN values not treated by the model .... \n",
    "y_hat = fitted_model.predict(test.fillna(0))\n",
    "y_hat[:10]"
   ]
  },
  {
   "cell_type": "code",
   "execution_count": 27,
   "metadata": {},
   "outputs": [
    {
     "data": {
      "text/plain": [
       "1459"
      ]
     },
     "execution_count": 27,
     "metadata": {},
     "output_type": "execute_result"
    }
   ],
   "source": [
    "len(y_hat)"
   ]
  },
  {
   "cell_type": "code",
   "execution_count": 33,
   "metadata": {},
   "outputs": [],
   "source": [
    "with open('automl-submission.csv', 'w') as file:\n",
    "    pd.DataFrame({'Id' : test.index.to_list(), 'SalePrice': y_hat}).to_csv(file, index=False)"
   ]
  },
  {
   "cell_type": "code",
   "execution_count": 34,
   "metadata": {},
   "outputs": [
    {
     "data": {
      "text/plain": [
       "['.amlignore',\n",
       " '.amlignore.amltmp',\n",
       " '.azureml',\n",
       " '.config',\n",
       " '.ipynb_checkpoints',\n",
       " 'automl-submission.csv',\n",
       " 'automl.ipynb',\n",
       " 'automl.log',\n",
       " 'azureml_automl.log',\n",
       " 'best_run_details.txt',\n",
       " 'best_run_metrics.json',\n",
       " 'data_description.txt',\n",
       " 'house-prices-advanced-regression-techniques.zip',\n",
       " 'Register_dataset.ipynb',\n",
       " 'sample_submission.csv',\n",
       " 'test.csv',\n",
       " 'train.csv']"
      ]
     },
     "execution_count": 34,
     "metadata": {},
     "output_type": "execute_result"
    }
   ],
   "source": [
    "os.listdir()"
   ]
  },
  {
   "cell_type": "code",
   "execution_count": 36,
   "metadata": {},
   "outputs": [
    {
     "name": "stdout",
     "output_type": "stream",
     "text": [
      "100%|██████████████████████████████████████| 33.7k/33.7k [00:01<00:00, 27.0kB/s]\n",
      "Successfully submitted to House Prices - Advanced Regression Techniques"
     ]
    }
   ],
   "source": [
    "# Set the enviroment variables\n",
    "os.environ['KAGGLE_USERNAME'] = \"lubomrstraka\"\n",
    "os.environ['KAGGLE_KEY'] = \"c7347462ef834e6645ce238c2f2fa561\"\n",
    "! kaggle competitions submit -c house-prices-advanced-regression-techniques -f automl-submission.csv -m \"Submission generated by Azure Automated ML.\""
   ]
  },
  {
   "cell_type": "markdown",
   "metadata": {},
   "source": [
    "> 2021-07-23: Your submission scored 0.13612, which is not an improvement of your best score (0.12481)."
   ]
  },
  {
   "cell_type": "markdown",
   "metadata": {},
   "source": [
    "## Model Deployment\n",
    "\n",
    "Remember you have to deploy only one of the two models you trained.. Perform the steps in the rest of this notebook only if you wish to deploy this model.\n",
    "\n",
    "TODO: In the cell below, register the model, create an inference config and deploy the model as a web service."
   ]
  },
  {
   "cell_type": "code",
   "execution_count": 37,
   "metadata": {
    "gather": {
     "logged": 1598431426111
    },
    "jupyter": {
     "outputs_hidden": false,
     "source_hidden": false
    },
    "nteract": {
     "transient": {
      "deleting": false
     }
    }
   },
   "outputs": [
    {
     "data": {
      "text/plain": [
       "'outputs/model.pkl'"
      ]
     },
     "execution_count": 37,
     "metadata": {},
     "output_type": "execute_result"
    }
   ],
   "source": [
    "# Check the path to the model\n",
    "best_run.get_file_names()[-6] # where is output/model.joblib ?[-4]? CHECK it in the next cell"
   ]
  },
  {
   "cell_type": "code",
   "execution_count": 45,
   "metadata": {},
   "outputs": [
    {
     "name": "stdout",
     "output_type": "stream",
     "text": [
      "Registering model Ames-Housing-AutoML-Model\n",
      "Ames-Housing-AutoML-Model\tAmes-Housing-AutoML-Model:1\t1\n"
     ]
    }
   ],
   "source": [
    "# Save the best model\n",
    "from azureml.core import Model\n",
    "os.makedirs('./outputs/', exist_ok=True)\n",
    "best_run.download_file(best_run.get_file_names()[-6], output_file_path='./outputs/')\n",
    "model = Model.register(ws, model_path='outputs/model.pkl', model_name='Ames-Housing-AutoML-Model', tags=best_run_metrics)\n",
    "print(model.name, model.id, model.version, sep='\\t')"
   ]
  },
  {
   "cell_type": "code",
   "execution_count": 50,
   "metadata": {},
   "outputs": [
    {
     "name": "stdout",
     "output_type": "stream",
     "text": [
      "Overwriting score.py\n"
     ]
    }
   ],
   "source": [
    "%%writefile score.py\n",
    "import json\n",
    "import numpy an np\n",
    "import os\n",
    "import pickle\n",
    "import joblib\n",
    "\n",
    "def init():\n",
    "    global model\n",
    "    model_path = os.path.join(os.getenv('AZUREML_MODEL_DIR'), 'model.pkl')"
   ]
  },
  {
   "cell_type": "code",
   "execution_count": null,
   "metadata": {},
   "outputs": [],
   "source": []
  },
  {
   "cell_type": "code",
   "execution_count": null,
   "metadata": {},
   "outputs": [],
   "source": []
  },
  {
   "cell_type": "code",
   "execution_count": null,
   "metadata": {},
   "outputs": [],
   "source": []
  },
  {
   "cell_type": "markdown",
   "metadata": {
    "collapsed": true,
    "gather": {
     "logged": 1598431657736
    },
    "jupyter": {
     "outputs_hidden": false,
     "source_hidden": false
    },
    "nteract": {
     "transient": {
      "deleting": false
     }
    }
   },
   "source": [
    "TODO: In the cell below, send a request to the web service you deployed to test it."
   ]
  },
  {
   "cell_type": "code",
   "execution_count": null,
   "metadata": {
    "gather": {
     "logged": 1598432707604
    },
    "jupyter": {
     "outputs_hidden": false,
     "source_hidden": false
    },
    "nteract": {
     "transient": {
      "deleting": false
     }
    }
   },
   "outputs": [],
   "source": []
  },
  {
   "cell_type": "markdown",
   "metadata": {
    "collapsed": true,
    "gather": {
     "logged": 1598432765711
    },
    "jupyter": {
     "outputs_hidden": false,
     "source_hidden": false
    },
    "nteract": {
     "transient": {
      "deleting": false
     }
    }
   },
   "source": [
    "TODO: In the cell below, print the logs of the web service and delete the service"
   ]
  },
  {
   "cell_type": "code",
   "execution_count": null,
   "metadata": {
    "jupyter": {
     "outputs_hidden": false,
     "source_hidden": false
    },
    "nteract": {
     "transient": {
      "deleting": false
     }
    }
   },
   "outputs": [],
   "source": []
  },
  {
   "cell_type": "code",
   "execution_count": 46,
   "metadata": {},
   "outputs": [],
   "source": [
    "# Delete() is used to deprovision and delete the AmlCompute target. \n",
    "cpu_cluster.delete()"
   ]
  },
  {
   "cell_type": "code",
   "execution_count": null,
   "metadata": {},
   "outputs": [],
   "source": []
  }
 ],
 "metadata": {
  "kernel_info": {
   "name": "python3-azureml"
  },
  "kernelspec": {
   "display_name": "Python 3",
   "language": "python",
   "name": "python3"
  },
  "language_info": {
   "codemirror_mode": {
    "name": "ipython",
    "version": 3
   },
   "file_extension": ".py",
   "mimetype": "text/x-python",
   "name": "python",
   "nbconvert_exporter": "python",
   "pygments_lexer": "ipython3",
   "version": "3.6.9"
  },
  "microsoft": {
   "host": {
    "AzureML": {
     "notebookHasBeenCompleted": true
    }
   }
  },
  "nteract": {
   "version": "nteract-front-end@1.0.0"
  }
 },
 "nbformat": 4,
 "nbformat_minor": 2
}
